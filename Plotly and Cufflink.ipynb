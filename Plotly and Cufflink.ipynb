{
 "cells": [
  {
   "cell_type": "code",
   "execution_count": 1,
   "id": "ac6766ab",
   "metadata": {},
   "outputs": [],
   "source": [
    "# plotly is a JS library for interactive web-based visualizations\n",
    "# cufflinks: library that connects plotly and pandas"
   ]
  },
  {
   "cell_type": "markdown",
   "id": "6c1a0642",
   "metadata": {},
   "source": [
    "# Plotly and Cufflinks"
   ]
  },
  {
   "cell_type": "code",
   "execution_count": 2,
   "id": "35da6059",
   "metadata": {},
   "outputs": [],
   "source": [
    "import pandas as pd\n",
    "import numpy as np"
   ]
  },
  {
   "cell_type": "code",
   "execution_count": 3,
   "id": "146c19b6",
   "metadata": {},
   "outputs": [],
   "source": [
    "%matplotlib inline"
   ]
  },
  {
   "cell_type": "code",
   "execution_count": 5,
   "id": "9f1cc119",
   "metadata": {},
   "outputs": [
    {
     "name": "stdout",
     "output_type": "stream",
     "text": [
      "5.10.0\n"
     ]
    }
   ],
   "source": [
    "from plotly import __version__\n",
    "print(__version__)"
   ]
  },
  {
   "cell_type": "code",
   "execution_count": 6,
   "id": "a3b0981f",
   "metadata": {},
   "outputs": [],
   "source": [
    "from plotly.offline import download_plotlyjs, init_notebook_mode, plot, iplot"
   ]
  },
  {
   "cell_type": "code",
   "execution_count": 8,
   "id": "6cd9c427",
   "metadata": {},
   "outputs": [
    {
     "name": "stdout",
     "output_type": "stream",
     "text": [
      "5.10.0\n"
     ]
    }
   ],
   "source": [
    "print(__version__)"
   ]
  },
  {
   "cell_type": "code",
   "execution_count": 9,
   "id": "94643583",
   "metadata": {},
   "outputs": [],
   "source": [
    "import cufflinks as cf"
   ]
  },
  {
   "cell_type": "code",
   "execution_count": 10,
   "id": "52dad8aa",
   "metadata": {},
   "outputs": [
    {
     "data": {
      "text/html": [
       "        <script type=\"text/javascript\">\n",
       "        window.PlotlyConfig = {MathJaxConfig: 'local'};\n",
       "        if (window.MathJax && window.MathJax.Hub && window.MathJax.Hub.Config) {window.MathJax.Hub.Config({SVG: {font: \"STIX-Web\"}});}\n",
       "        if (typeof require !== 'undefined') {\n",
       "        require.undef(\"plotly\");\n",
       "        requirejs.config({\n",
       "            paths: {\n",
       "                'plotly': ['https://cdn.plot.ly/plotly-2.14.0.min']\n",
       "            }\n",
       "        });\n",
       "        require(['plotly'], function(Plotly) {\n",
       "            window._Plotly = Plotly;\n",
       "        });\n",
       "        }\n",
       "        </script>\n",
       "        "
      ]
     },
     "metadata": {},
     "output_type": "display_data"
    }
   ],
   "source": [
    "init_notebook_mode(connected=True)"
   ]
  },
  {
   "cell_type": "code",
   "execution_count": 12,
   "id": "805a79b8",
   "metadata": {},
   "outputs": [
    {
     "data": {
      "text/html": [
       "        <script type=\"text/javascript\">\n",
       "        window.PlotlyConfig = {MathJaxConfig: 'local'};\n",
       "        if (window.MathJax && window.MathJax.Hub && window.MathJax.Hub.Config) {window.MathJax.Hub.Config({SVG: {font: \"STIX-Web\"}});}\n",
       "        if (typeof require !== 'undefined') {\n",
       "        require.undef(\"plotly\");\n",
       "        requirejs.config({\n",
       "            paths: {\n",
       "                'plotly': ['https://cdn.plot.ly/plotly-2.14.0.min']\n",
       "            }\n",
       "        });\n",
       "        require(['plotly'], function(Plotly) {\n",
       "            window._Plotly = Plotly;\n",
       "        });\n",
       "        }\n",
       "        </script>\n",
       "        "
      ]
     },
     "metadata": {},
     "output_type": "display_data"
    }
   ],
   "source": [
    "cf.go_offline()"
   ]
  },
  {
   "cell_type": "code",
   "execution_count": 13,
   "id": "beb430aa",
   "metadata": {},
   "outputs": [],
   "source": [
    "# Create Data"
   ]
  },
  {
   "cell_type": "code",
   "execution_count": 15,
   "id": "689c9679",
   "metadata": {},
   "outputs": [],
   "source": [
    "df = pd.DataFrame(np.random.randn(100,4), columns = 'A B C D'.split())"
   ]
  },
  {
   "cell_type": "code",
   "execution_count": 16,
   "id": "1170d7fe",
   "metadata": {},
   "outputs": [
    {
     "data": {
      "text/html": [
       "<div>\n",
       "<style scoped>\n",
       "    .dataframe tbody tr th:only-of-type {\n",
       "        vertical-align: middle;\n",
       "    }\n",
       "\n",
       "    .dataframe tbody tr th {\n",
       "        vertical-align: top;\n",
       "    }\n",
       "\n",
       "    .dataframe thead th {\n",
       "        text-align: right;\n",
       "    }\n",
       "</style>\n",
       "<table border=\"1\" class=\"dataframe\">\n",
       "  <thead>\n",
       "    <tr style=\"text-align: right;\">\n",
       "      <th></th>\n",
       "      <th>A</th>\n",
       "      <th>B</th>\n",
       "      <th>C</th>\n",
       "      <th>D</th>\n",
       "    </tr>\n",
       "  </thead>\n",
       "  <tbody>\n",
       "    <tr>\n",
       "      <th>0</th>\n",
       "      <td>-1.815807</td>\n",
       "      <td>1.696252</td>\n",
       "      <td>-0.738539</td>\n",
       "      <td>-1.613920</td>\n",
       "    </tr>\n",
       "    <tr>\n",
       "      <th>1</th>\n",
       "      <td>-0.153215</td>\n",
       "      <td>-0.982194</td>\n",
       "      <td>0.605902</td>\n",
       "      <td>0.143868</td>\n",
       "    </tr>\n",
       "    <tr>\n",
       "      <th>2</th>\n",
       "      <td>-0.908762</td>\n",
       "      <td>-2.119786</td>\n",
       "      <td>1.122740</td>\n",
       "      <td>-0.693136</td>\n",
       "    </tr>\n",
       "    <tr>\n",
       "      <th>3</th>\n",
       "      <td>-0.715857</td>\n",
       "      <td>0.380549</td>\n",
       "      <td>1.345324</td>\n",
       "      <td>0.529305</td>\n",
       "    </tr>\n",
       "    <tr>\n",
       "      <th>4</th>\n",
       "      <td>-0.777191</td>\n",
       "      <td>-1.361276</td>\n",
       "      <td>0.326994</td>\n",
       "      <td>0.322135</td>\n",
       "    </tr>\n",
       "  </tbody>\n",
       "</table>\n",
       "</div>"
      ],
      "text/plain": [
       "          A         B         C         D\n",
       "0 -1.815807  1.696252 -0.738539 -1.613920\n",
       "1 -0.153215 -0.982194  0.605902  0.143868\n",
       "2 -0.908762 -2.119786  1.122740 -0.693136\n",
       "3 -0.715857  0.380549  1.345324  0.529305\n",
       "4 -0.777191 -1.361276  0.326994  0.322135"
      ]
     },
     "execution_count": 16,
     "metadata": {},
     "output_type": "execute_result"
    }
   ],
   "source": [
    "df.head()"
   ]
  },
  {
   "cell_type": "code",
   "execution_count": 17,
   "id": "ed32d3d9",
   "metadata": {},
   "outputs": [],
   "source": [
    "df2 = pd.DataFrame({'Category': ['A', 'B', 'C'], 'Values':[32, 43, 50]})"
   ]
  },
  {
   "cell_type": "code",
   "execution_count": 18,
   "id": "0ba4f284",
   "metadata": {},
   "outputs": [
    {
     "data": {
      "text/html": [
       "<div>\n",
       "<style scoped>\n",
       "    .dataframe tbody tr th:only-of-type {\n",
       "        vertical-align: middle;\n",
       "    }\n",
       "\n",
       "    .dataframe tbody tr th {\n",
       "        vertical-align: top;\n",
       "    }\n",
       "\n",
       "    .dataframe thead th {\n",
       "        text-align: right;\n",
       "    }\n",
       "</style>\n",
       "<table border=\"1\" class=\"dataframe\">\n",
       "  <thead>\n",
       "    <tr style=\"text-align: right;\">\n",
       "      <th></th>\n",
       "      <th>Category</th>\n",
       "      <th>Values</th>\n",
       "    </tr>\n",
       "  </thead>\n",
       "  <tbody>\n",
       "    <tr>\n",
       "      <th>0</th>\n",
       "      <td>A</td>\n",
       "      <td>32</td>\n",
       "    </tr>\n",
       "    <tr>\n",
       "      <th>1</th>\n",
       "      <td>B</td>\n",
       "      <td>43</td>\n",
       "    </tr>\n",
       "    <tr>\n",
       "      <th>2</th>\n",
       "      <td>C</td>\n",
       "      <td>50</td>\n",
       "    </tr>\n",
       "  </tbody>\n",
       "</table>\n",
       "</div>"
      ],
      "text/plain": [
       "  Category  Values\n",
       "0        A      32\n",
       "1        B      43\n",
       "2        C      50"
      ]
     },
     "execution_count": 18,
     "metadata": {},
     "output_type": "execute_result"
    }
   ],
   "source": [
    "df2.head()"
   ]
  },
  {
   "cell_type": "code",
   "execution_count": 19,
   "id": "6c3a48d3",
   "metadata": {},
   "outputs": [
    {
     "data": {
      "text/plain": [
       "<AxesSubplot:>"
      ]
     },
     "execution_count": 19,
     "metadata": {},
     "output_type": "execute_result"
    },
    {
     "data": {
      "image/png": "[encoded data removed]",
      "text/plain": [
       "<Figure size 432x288 with 1 Axes>"
      ]
     },
     "metadata": {
      "needs_background": "light"
     },
     "output_type": "display_data"
    }
   ],
   "source": [
    "df.plot()"
   ]
  },
  {
   "cell_type": "code",
   "execution_count": 20,
   "id": "163f128f",
   "metadata": {},
   "outputs": [
    {
     "data": {
      "application/vnd.plotly.v1+json": {
       "config": {
        "linkText": "Export to plot.ly",
        "plotlyServerURL": "https://plot.ly",
        "showLink": true
       },
       "data": [
        {
         "line": {
          "color": "rgba(255, 153, 51, 1.0)",
          "dash": "solid",
          "shape": "linear",
          "width": 1.3
         },
         "mode": "lines",
         "name": "A",
         "text": "",
         "type": "scatter",
         "x": [
          0,
          1,
          2,
          3,
          4,
          5,
          6,
          7,
          8,
          9,
          10,
          11,
          12,
          13,
          14,
          15,
          16,
          17,
          18,
          19,
          20,
          21,
          22,
          23,
          24,
          25,
          26,
          27,
          28,
          29,
          30,
          31,
          32,
          33,
          34,
          35,
          36,
          37,
          38,
          39,
          40,
          41,
          42,
          43,
          44,
          45,
          46,
          47,
          48,
          49,
          50,
          51,
          52,
          53,
          54,
          55,
          56,
          57,
          58,
          59,
          60,
          61,
          62,
          63,
          64,
          65,
          66,
          67,
          68,
          69,
          70,
          71,
          72,
          73,
          74,
          75,
          76,
          77,
          78,
          79,
          80,
          81,
          82,
          83,
          84,
          85,
          86,
          87,
          88,
          89,
          90,
          91,
          92,
          93,
          94,
          95,
          96,
          97,
          98,
          99
         ],
         "y": [
          -1.8158066953241796,
          -0.1532154842648918,
          -0.9087624017607344,
          -0.715856808084371,
          -0.7771907606069965,
          0.7351655714121069,
          -0.4340066741738052,
          -1.3736300616332289,
          -1.0910279061608386,
          -0.17715896700797562,
          0.7275992622753656,
          0.5719735501374622,
          0.1098535938239624,
          -0.7597209632957299,
          -1.1109900639357473,
          0.6925199043660469,
          0.7199999841009106,
          0.2873822213373869,
          -0.15420187444897465,
          0.008442848745635374,
          1.664921806311949,
          -1.3569852377652243,
          -0.23428268105986771,
          -1.9065024563371196,
          -1.8490542212588523,
          -0.9960295932103904,
          0.02314877232934917,
          1.7212068472548776,
          1.9013955197338033,
          -2.35253242851831,
          0.03040455800019841,
          0.21563700808987987,
          -0.4597229928437187,
          -0.7278607880726488,
          0.8877592700568671,
          0.4871704573515719,
          1.2769068225620719,
          0.18018462540389163,
          0.8649699512695074,
          -0.7445046848660324,
          -1.2890167760381392,
          0.5217925979706663,
          0.9389152424518948,
          0.9410136911071448,
          1.5734356802920477,
          1.4534955851108855,
          1.6379349099164204,
          2.051825040464344,
          -0.8723796481954755,
          0.6451170978250104,
          0.7996633553911477,
          -0.3758811118599081,
          0.8368783860108395,
          1.1672923335724237,
          1.9989574214327248,
          -0.9803635632487172,
          1.0272909775625343,
          -1.6470378469496967,
          -1.184745488394547,
          1.240609769403117,
          2.561043412628804,
          -0.5143615665306566,
          0.7449677226155068,
          -0.6201547168031414,
          0.6061735043418385,
          -0.6917606684322949,
          -0.4568162851669821,
          -1.4467767829303313,
          -0.4197208185978394,
          -0.27718742129594875,
          0.37837120923512646,
          1.2126642629518882,
          0.0393734817792643,
          -0.26340619911106694,
          -0.8351980357082801,
          -0.7959718758615214,
          0.6618589942538259,
          -0.4809145778698422,
          -0.5892785393324456,
          -0.25863477635135435,
          -0.6227807044887773,
          0.6993285851779953,
          -0.45746330629230986,
          -1.1643534645330045,
          1.3236560625253453,
          -0.6252302065588559,
          0.3150282283965467,
          1.137719962772657,
          0.514273522992465,
          0.17608458637176752,
          -0.6721697934374377,
          -0.9601912730760108,
          -0.9638044403008365,
          -0.35406490944069513,
          0.27014409824766095,
          0.7873120088931022,
          -0.4853469923359565,
          -0.35362079253020634,
          0.35722262241125424,
          -0.3869299705042295
         ]
        },
        {
         "line": {
          "color": "rgba(55, 128, 191, 1.0)",
          "dash": "solid",
          "shape": "linear",
          "width": 1.3
         },
         "mode": "lines",
         "name": "B",
         "text": "",
         "type": "scatter",
         "x": [
          0,
          1,
          2,
          3,
          4,
          5,
          6,
          7,
          8,
          9,
          10,
          11,
          12,
          13,
          14,
          15,
          16,
          17,
          18,
          19,
          20,
          21,
          22,
          23,
          24,
          25,
          26,
          27,
          28,
          29,
          30,
          31,
          32,
          33,
          34,
          35,
          36,
          37,
          38,
          39,
          40,
          41,
          42,
          43,
          44,
          45,
          46,
          47,
          48,
          49,
          50,
          51,
          52,
          53,
          54,
          55,
          56,
          57,
          58,
          59,
          60,
          61,
          62,
          63,
          64,
          65,
          66,
          67,
          68,
          69,
          70,
          71,
          72,
          73,
          74,
          75,
          76,
          77,
          78,
          79,
          80,
          81,
          82,
          83,
          84,
          85,
          86,
          87,
          88,
          89,
          90,
          91,
          92,
          93,
          94,
          95,
          96,
          97,
          98,
          99
         ],
         "y": [
          1.6962518426992457,
          -0.982193639127554,
          -2.1197856966587434,
          0.38054873370497094,
          -1.361275653580498,
          0.3019613106241735,
          0.5737655133927131,
          1.0945211359269573,
          0.5495438835085136,
          1.0344716229317987,
          1.5145618337839344,
          -1.322817574245342,
          -1.1907820282214117,
          -0.528632777074625,
          1.3012340540546952,
          -1.0689263129920183,
          -2.84496629837369,
          0.046135758701366845,
          -0.24639563344520166,
          0.25128120296962836,
          0.36830940996399714,
          0.12031333614256282,
          -0.8010686487431482,
          -1.9327299966087452,
          0.7590071315508242,
          0.09728845697523336,
          -0.6894331452347948,
          0.11100076999006471,
          0.8004367772526133,
          -0.3793003097447568,
          -0.010050251411239644,
          -1.157220777492313,
          0.2488904704855463,
          0.8320141897637261,
          -0.12460299783173051,
          -0.9910263142307557,
          0.7372791083222395,
          0.24955057188182372,
          -0.8396515362306939,
          -0.6309241374644079,
          -0.279841188171254,
          -0.16186589249778788,
          0.8051370085683334,
          0.6540567389457904,
          -1.5798108304946163,
          0.20639652702521474,
          0.39333903402492476,
          -0.4810666724010602,
          -0.3800959479086856,
          -0.3077260319677847,
          1.5208418364763474,
          0.7892210421725961,
          1.8591446122703879,
          1.7034420043231697,
          -0.10683091684168655,
          -0.4775338738383854,
          -1.0079070689317284,
          -1.0112734900097282,
          0.7111182117640453,
          1.0486950375562232,
          -0.26391919214625303,
          -0.4113679094580015,
          -0.2605367678626934,
          -0.47530461482159114,
          -0.053143688579886626,
          2.3967430629102333,
          1.8709284111420503,
          0.25187514496472596,
          -0.02397569055830253,
          -0.09829431482066459,
          0.09403916694330741,
          0.06531118931264279,
          1.7638042278748831,
          1.0049939775004493,
          -0.6137431487150112,
          0.6570327734296777,
          -0.6289093946870737,
          0.5903155802129443,
          -1.2205401647556249,
          0.16685846375701371,
          -0.7512178872411197,
          0.08940485042033164,
          0.7271257315355758,
          -0.8861325348030998,
          -0.11871209816686926,
          -1.4093783931195987,
          -0.1736218521324273,
          -1.556684785992902,
          0.2470908600596826,
          0.056697008587313615,
          0.7871147589497839,
          -0.8801147388503565,
          0.3565693844796211,
          -0.3783507036715136,
          -0.5636310145664183,
          -0.18403442117576474,
          0.7945894980989373,
          0.8203119259602427,
          -0.8631082962731352,
          0.21257593940078842
         ]
        },
        {
         "line": {
          "color": "rgba(50, 171, 96, 1.0)",
          "dash": "solid",
          "shape": "linear",
          "width": 1.3
         },
         "mode": "lines",
         "name": "C",
         "text": "",
         "type": "scatter",
         "x": [
          0,
          1,
          2,
          3,
          4,
          5,
          6,
          7,
          8,
          9,
          10,
          11,
          12,
          13,
          14,
          15,
          16,
          17,
          18,
          19,
          20,
          21,
          22,
          23,
          24,
          25,
          26,
          27,
          28,
          29,
          30,
          31,
          32,
          33,
          34,
          35,
          36,
          37,
          38,
          39,
          40,
          41,
          42,
          43,
          44,
          45,
          46,
          47,
          48,
          49,
          50,
          51,
          52,
          53,
          54,
          55,
          56,
          57,
          58,
          59,
          60,
          61,
          62,
          63,
          64,
          65,
          66,
          67,
          68,
          69,
          70,
          71,
          72,
          73,
          74,
          75,
          76,
          77,
          78,
          79,
          80,
          81,
          82,
          83,
          84,
          85,
          86,
          87,
          88,
          89,
          90,
          91,
          92,
          93,
          94,
          95,
          96,
          97,
          98,
          99
         ],
         "y": [
          -0.7385392085312609,
          0.6059015187854616,
          1.122739800613316,
          1.3453235784911914,
          0.3269935992661774,
          -1.0707310105993268,
          -0.3806197642092073,
          1.6409229266368266,
          -2.352066299648475,
          -0.9994785837613791,
          -0.6912934823216503,
          1.2826438376675886,
          0.10291044180972408,
          0.3349043094372565,
          -1.0055135614015855,
          0.9757634381272896,
          0.9079558995973859,
          -0.46594652589269664,
          0.8060052181025692,
          1.1165653993576703,
          0.27351976698254615,
          1.2117888986596437,
          0.6771514068440193,
          0.39219000665164555,
          0.3479770692323999,
          1.2563752513554332,
          -1.1979478266842263,
          -1.78307557243645,
          -0.7562741622749357,
          -0.2974990576728704,
          -0.1151922607598481,
          1.311871447079243,
          1.9289668587901412,
          1.0447706767606724,
          -0.3002488998726798,
          0.16269844415688542,
          0.8631392392988955,
          -0.7411929665425697,
          0.5616519838700285,
          -0.3131147621350836,
          -0.6069109587105764,
          -1.447767624550431,
          -1.442722977432391,
          -0.6919784434260245,
          -0.8831316251819575,
          -0.776479665148661,
          1.1172122351362055,
          1.2176337093966687,
          1.5476467707595074,
          0.3626072098823158,
          -1.0983325162443291,
          -1.383177292817952,
          1.9628058171277503,
          -0.055803093732660805,
          -1.5747713332299496,
          -0.26532393249082487,
          0.5479439877410442,
          1.5535865364644714,
          -0.47659834301066384,
          0.2672767984483275,
          -0.8961147350469946,
          -0.06471050710422788,
          -0.5905964775463705,
          0.7655941714589244,
          -0.31953091828895985,
          0.06789288352679154,
          -1.422263846816249,
          -0.801161627353756,
          0.6188842280311928,
          2.028647190875111,
          -0.741868678745086,
          1.6069381796445703,
          -0.6690556554555435,
          -0.063584543693092,
          0.6246448471547272,
          -0.4216210453943756,
          -0.8640390041112331,
          0.5253639742208898,
          -0.48438019081842754,
          0.5369509248484133,
          0.32057822601106967,
          -1.8760068692251701,
          0.13126982972121115,
          0.2970202750556522,
          0.31359419559538876,
          -0.3971136117430385,
          -0.6860056529632396,
          -0.8962827751063993,
          0.0025431485827040403,
          0.27089769469654046,
          0.7033910031533249,
          -0.3643665317857516,
          -0.11787071628933615,
          -0.9817195744729845,
          -1.0732541183436184,
          1.2957749565724392,
          -1.4894334754857605,
          0.6917993062855475,
          -0.3556696508654084,
          -0.11742785402261754
         ]
        },
        {
         "line": {
          "color": "rgba(128, 0, 128, 1.0)",
          "dash": "solid",
          "shape": "linear",
          "width": 1.3
         },
         "mode": "lines",
         "name": "D",
         "text": "",
         "type": "scatter",
         "x": [
          0,
          1,
          2,
          3,
          4,
          5,
          6,
          7,
          8,
          9,
          10,
          11,
          12,
          13,
          14,
          15,
          16,
          17,
          18,
          19,
          20,
          21,
          22,
          23,
          24,
          25,
          26,
          27,
          28,
          29,
          30,
          31,
          32,
          33,
          34,
          35,
          36,
          37,
          38,
          39,
          40,
          41,
          42,
          43,
          44,
          45,
          46,
          47,
          48,
          49,
          50,
          51,
          52,
          53,
          54,
          55,
          56,
          57,
          58,
          59,
          60,
          61,
          62,
          63,
          64,
          65,
          66,
          67,
          68,
          69,
          70,
          71,
          72,
          73,
          74,
          75,
          76,
          77,
          78,
          79,
          80,
          81,
          82,
          83,
          84,
          85,
          86,
          87,
          88,
          89,
          90,
          91,
          92,
          93,
          94,
          95,
          96,
          97,
          98,
          99
         ],
         "y": [
          -1.6139200331698593,
          0.1438679806922359,
          -0.6931362890789643,
          0.5293045437878271,
          0.3221349048970399,
          0.10571979308408555,
          -0.24687444774814254,
          1.518751836633535,
          -1.8417441436634612,
          1.1901312662968089,
          1.0452829018107455,
          0.30605659929868206,
          -0.43068673344610603,
          -1.3875533434371963,
          -0.31328259811412107,
          -0.47961676390549984,
          1.325030202070095,
          -0.4449698448561779,
          1.0439278536071046,
          1.5298569917653597,
          -0.49411730219163136,
          0.18378781126397709,
          0.1887592665717357,
          1.1025966370286202,
          1.4506954668482208,
          -2.3261959513491073,
          -0.4550870936241418,
          -0.9292829494272545,
          0.01052435481631606,
          0.04724180974889832,
          -0.592794748419755,
          0.5048698619125271,
          -0.31543236030487437,
          1.0659531865858582,
          -0.8199027965146775,
          0.9665933026153964,
          -0.2267356656419576,
          -0.9656196090197346,
          0.29696010229584796,
          -1.6579526166657388,
          1.2748038036746216,
          -0.12764161793534448,
          -0.05487234560680018,
          0.2861875269503629,
          0.43721364089885206,
          1.6086221484162546,
          -0.7979471094796152,
          -0.5861898093399176,
          1.3377350533309027,
          -0.3739936342499101,
          0.7462187044964173,
          -1.2554014451140587,
          0.5868402650420513,
          0.8703440156057092,
          -0.1742196969932546,
          1.4469818706730642,
          -0.6262021275282917,
          0.08399422005607338,
          -1.8055896023356686,
          -1.3243969569382086,
          1.1345389701396054,
          0.2481429357286683,
          0.2835512541345572,
          -0.6881976210702818,
          -1.0120345386137457,
          -0.3034886605647908,
          0.11398208922115317,
          0.36076317300524025,
          -0.5169099907753333,
          1.660678219041089,
          0.02712667239714875,
          -2.039741784619864,
          -0.2805689576358341,
          1.07484873721293,
          -0.3521633386079611,
          0.02930939901426263,
          -2.5392183963702495,
          -0.1852718250188313,
          0.13784622935873658,
          -0.5808272711014993,
          -0.5694492380190268,
          0.3574733700727333,
          -0.5989894269618654,
          0.1773981082301825,
          -2.5437514467559863,
          0.8468484480608329,
          0.7898473428685026,
          0.7168791240146745,
          0.18038311950933206,
          0.19470310432542945,
          -0.6880783920433272,
          -1.2336408453838985,
          -0.9501503471607181,
          0.36047791513110083,
          -2.3000859597709953,
          -0.5648727722864505,
          0.07535442124114042,
          -1.0231862796219837,
          -0.2286057647331581,
          1.6520351190666764
         ]
        }
       ],
       "layout": {
        "legend": {
         "bgcolor": "#F5F6F9",
         "font": {
          "color": "#4D5663"
         }
        },
        "paper_bgcolor": "#F5F6F9",
        "plot_bgcolor": "#F5F6F9",
        "template": {
         "data": {
          "bar": [
           {
            "error_x": {
             "color": "#2a3f5f"
            },
            "error_y": {
             "color": "#2a3f5f"
            },
            "marker": {
             "line": {
              "color": "#E5ECF6",
              "width": 0.5
             },
             "pattern": {
              "fillmode": "overlay",
              "size": 10,
              "solidity": 0.2
             }
            },
            "type": "bar"
           }
          ],
          "barpolar": [
           {
            "marker": {
             "line": {
              "color": "#E5ECF6",
              "width": 0.5
             },
             "pattern": {
              "fillmode": "overlay",
              "size": 10,
              "solidity": 0.2
             }
            },
            "type": "barpolar"
           }
          ],
          "carpet": [
           {
            "aaxis": {
             "endlinecolor": "#2a3f5f",
             "gridcolor": "white",
             "linecolor": "white",
             "minorgridcolor": "white",
             "startlinecolor": "#2a3f5f"
            },
            "baxis": {
             "endlinecolor": "#2a3f5f",
             "gridcolor": "white",
             "linecolor": "white",
             "minorgridcolor": "white",
             "startlinecolor": "#2a3f5f"
            },
            "type": "carpet"
           }
          ],
          "choropleth": [
           {
            "colorbar": {
             "outlinewidth": 0,
             "ticks": ""
            },
            "type": "choropleth"
           }
          ],
          "contour": [
           {
            "colorbar": {
             "outlinewidth": 0,
             "ticks": ""
            },
            "colorscale": [
             [
              0,
              "#0d0887"
             ],
             [
              0.1111111111111111,
              "#46039f"
             ],
             [
              0.2222222222222222,
              "#7201a8"
             ],
             [
              0.3333333333333333,
              "#9c179e"
             ],
             [
              0.4444444444444444,
              "#bd3786"
             ],
             [
              0.5555555555555556,
              "#d8576b"
             ],
             [
              0.6666666666666666,
              "#ed7953"
             ],
             [
              0.7777777777777778,
              "#fb9f3a"
             ],
             [
              0.8888888888888888,
              "#fdca26"
             ],
             [
              1,
              "#f0f921"
             ]
            ],
            "type": "contour"
           }
          ],
          "contourcarpet": [
           {
            "colorbar": {
             "outlinewidth": 0,
             "ticks": ""
            },
            "type": "contourcarpet"
           }
          ],
          "heatmap": [
           {
            "colorbar": {
             "outlinewidth": 0,
             "ticks": ""
            },
            "colorscale": [
             [
              0,
              "#0d0887"
             ],
             [
              0.1111111111111111,
              "#46039f"
             ],
             [
              0.2222222222222222,
              "#7201a8"
             ],
             [
              0.3333333333333333,
              "#9c179e"
             ],
             [
              0.4444444444444444,
              "#bd3786"
             ],
             [
              0.5555555555555556,
              "#d8576b"
             ],
             [
              0.6666666666666666,
              "#ed7953"
             ],
             [
              0.7777777777777778,
              "#fb9f3a"
             ],
             [
              0.8888888888888888,
              "#fdca26"
             ],
             [
              1,
              "#f0f921"
             ]
            ],
            "type": "heatmap"
           }
          ],
          "heatmapgl": [
           {
            "colorbar": {
             "outlinewidth": 0,
             "ticks": ""
            },
            "colorscale": [
             [
              0,
              "#0d0887"
             ],
             [
              0.1111111111111111,
              "#46039f"
             ],
             [
              0.2222222222222222,
              "#7201a8"
             ],
             [
              0.3333333333333333,
              "#9c179e"
             ],
             [
              0.4444444444444444,
              "#bd3786"
             ],
             [
              0.5555555555555556,
              "#d8576b"
             ],
             [
              0.6666666666666666,
              "#ed7953"
             ],
             [
              0.7777777777777778,
              "#fb9f3a"
             ],
             [
              0.8888888888888888,
              "#fdca26"
             ],
             [
              1,
              "#f0f921"
             ]
            ],
            "type": "heatmapgl"
           }
          ],
          "histogram": [
           {
            "marker": {
             "pattern": {
              "fillmode": "overlay",
              "size": 10,
              "solidity": 0.2
             }
            },
            "type": "histogram"
           }
          ],
          "histogram2d": [
           {
            "colorbar": {
             "outlinewidth": 0,
             "ticks": ""
            },
            "colorscale": [
             [
              0,
              "#0d0887"
             ],
             [
              0.1111111111111111,
              "#46039f"
             ],
             [
              0.2222222222222222,
              "#7201a8"
             ],
             [
              0.3333333333333333,
              "#9c179e"
             ],
             [
              0.4444444444444444,
              "#bd3786"
             ],
             [
              0.5555555555555556,
              "#d8576b"
             ],
             [
              0.6666666666666666,
              "#ed7953"
             ],
             [
              0.7777777777777778,
              "#fb9f3a"
             ],
             [
              0.8888888888888888,
              "#fdca26"
             ],
             [
              1,
              "#f0f921"
             ]
            ],
            "type": "histogram2d"
           }
          ],
          "histogram2dcontour": [
           {
            "colorbar": {
             "outlinewidth": 0,
             "ticks": ""
            },
            "colorscale": [
             [
              0,
              "#0d0887"
             ],
             [
              0.1111111111111111,
              "#46039f"
             ],
             [
              0.2222222222222222,
              "#7201a8"
             ],
             [
              0.3333333333333333,
              "#9c179e"
             ],
             [
              0.4444444444444444,
              "#bd3786"
             ],
             [
              0.5555555555555556,
              "#d8576b"
             ],
             [
              0.6666666666666666,
              "#ed7953"
             ],
             [
              0.7777777777777778,
              "#fb9f3a"
             ],
             [
              0.8888888888888888,
              "#fdca26"
             ],
             [
              1,
              "#f0f921"
             ]
            ],
            "type": "histogram2dcontour"
           }
          ],
          "mesh3d": [
           {
            "colorbar": {
             "outlinewidth": 0,
             "ticks": ""
            },
            "type": "mesh3d"
           }
          ],
          "parcoords": [
           {
            "line": {
             "colorbar": {
              "outlinewidth": 0,
              "ticks": ""
             }
            },
            "type": "parcoords"
           }
          ],
          "pie": [
           {
            "automargin": true,
            "type": "pie"
           }
          ],
          "scatter": [
           {
            "fillpattern": {
             "fillmode": "overlay",
             "size": 10,
             "solidity": 0.2
            },
            "type": "scatter"
           }
          ],
          "scatter3d": [
           {
            "line": {
             "colorbar": {
              "outlinewidth": 0,
              "ticks": ""
             }
            },
            "marker": {
             "colorbar": {
              "outlinewidth": 0,
              "ticks": ""
             }
            },
            "type": "scatter3d"
           }
          ],
          "scattercarpet": [
           {
            "marker": {
             "colorbar": {
              "outlinewidth": 0,
              "ticks": ""
             }
            },
            "type": "scattercarpet"
           }
          ],
          "scattergeo": [
           {
            "marker": {
             "colorbar": {
              "outlinewidth": 0,
              "ticks": ""
             }
            },
            "type": "scattergeo"
           }
          ],
          "scattergl": [
           {
            "marker": {
             "colorbar": {
              "outlinewidth": 0,
              "ticks": ""
             }
            },
            "type": "scattergl"
           }
          ],
          "scattermapbox": [
           {
            "marker": {
             "colorbar": {
              "outlinewidth": 0,
              "ticks": ""
             }
            },
            "type": "scattermapbox"
           }
          ],
          "scatterpolar": [
           {
            "marker": {
             "colorbar": {
              "outlinewidth": 0,
              "ticks": ""
             }
            },
            "type": "scatterpolar"
           }
          ],
          "scatterpolargl": [
           {
            "marker": {
             "colorbar": {
              "outlinewidth": 0,
              "ticks": ""
             }
            },
            "type": "scatterpolargl"
           }
          ],
          "scatterternary": [
           {
            "marker": {
             "colorbar": {
              "outlinewidth": 0,
              "ticks": ""
             }
            },
            "type": "scatterternary"
           }
          ],
          "surface": [
           {
            "colorbar": {
             "outlinewidth": 0,
             "ticks": ""
            },
            "colorscale": [
             [
              0,
              "#0d0887"
             ],
             [
              0.1111111111111111,
              "#46039f"
             ],
             [
              0.2222222222222222,
              "#7201a8"
             ],
             [
              0.3333333333333333,
              "#9c179e"
             ],
             [
              0.4444444444444444,
              "#bd3786"
             ],
             [
              0.5555555555555556,
              "#d8576b"
             ],
             [
              0.6666666666666666,
              "#ed7953"
             ],
             [
              0.7777777777777778,
              "#fb9f3a"
             ],
             [
              0.8888888888888888,
              "#fdca26"
             ],
             [
              1,
              "#f0f921"
             ]
            ],
            "type": "surface"
           }
          ],
          "table": [
           {
            "cells": {
             "fill": {
              "color": "#EBF0F8"
             },
             "line": {
              "color": "white"
             }
            },
            "header": {
             "fill": {
              "color": "#C8D4E3"
             },
             "line": {
              "color": "white"
             }
            },
            "type": "table"
           }
          ]
         },
         "layout": {
          "annotationdefaults": {
           "arrowcolor": "#2a3f5f",
           "arrowhead": 0,
           "arrowwidth": 1
          },
          "autotypenumbers": "strict",
          "coloraxis": {
           "colorbar": {
            "outlinewidth": 0,
            "ticks": ""
           }
          },
          "colorscale": {
           "diverging": [
            [
             0,
             "#8e0152"
            ],
            [
             0.1,
             "#c51b7d"
            ],
            [
             0.2,
             "#de77ae"
            ],
            [
             0.3,
             "#f1b6da"
            ],
            [
             0.4,
             "#fde0ef"
            ],
            [
             0.5,
             "#f7f7f7"
            ],
            [
             0.6,
             "#e6f5d0"
            ],
            [
             0.7,
             "#b8e186"
            ],
            [
             0.8,
             "#7fbc41"
            ],
            [
             0.9,
             "#4d9221"
            ],
            [
             1,
             "#276419"
            ]
           ],
           "sequential": [
            [
             0,
             "#0d0887"
            ],
            [
             0.1111111111111111,
             "#46039f"
            ],
            [
             0.2222222222222222,
             "#7201a8"
            ],
            [
             0.3333333333333333,
             "#9c179e"
            ],
            [
             0.4444444444444444,
             "#bd3786"
            ],
            [
             0.5555555555555556,
             "#d8576b"
            ],
            [
             0.6666666666666666,
             "#ed7953"
            ],
            [
             0.7777777777777778,
             "#fb9f3a"
            ],
            [
             0.8888888888888888,
             "#fdca26"
            ],
            [
             1,
             "#f0f921"
            ]
           ],
           "sequentialminus": [
            [
             0,
             "#0d0887"
            ],
            [
             0.1111111111111111,
             "#46039f"
            ],
            [
             0.2222222222222222,
             "#7201a8"
            ],
            [
             0.3333333333333333,
             "#9c179e"
            ],
            [
             0.4444444444444444,
             "#bd3786"
            ],
            [
             0.5555555555555556,
             "#d8576b"
            ],
            [
             0.6666666666666666,
             "#ed7953"
            ],
            [
             0.7777777777777778,
             "#fb9f3a"
            ],
            [
             0.8888888888888888,
             "#fdca26"
            ],
            [
             1,
             "#f0f921"
            ]
           ]
          },
          "colorway": [
           "#636efa",
           "#EF553B",
           "#00cc96",
           "#ab63fa",
           "#FFA15A",
           "#19d3f3",
           "#FF6692",
           "#B6E880",
           "#FF97FF",
           "#FECB52"
          ],
          "font": {
           "color": "#2a3f5f"
          },
          "geo": {
           "bgcolor": "white",
           "lakecolor": "white",
           "landcolor": "#E5ECF6",
           "showlakes": true,
           "showland": true,
           "subunitcolor": "white"
          },
          "hoverlabel": {
           "align": "left"
          },
          "hovermode": "closest",
          "mapbox": {
           "style": "light"
          },
          "paper_bgcolor": "white",
          "plot_bgcolor": "#E5ECF6",
          "polar": {
           "angularaxis": {
            "gridcolor": "white",
            "linecolor": "white",
            "ticks": ""
           },
           "bgcolor": "#E5ECF6",
           "radialaxis": {
            "gridcolor": "white",
            "linecolor": "white",
            "ticks": ""
           }
          },
          "scene": {
           "xaxis": {
            "backgroundcolor": "#E5ECF6",
            "gridcolor": "white",
            "gridwidth": 2,
            "linecolor": "white",
            "showbackground": true,
            "ticks": "",
            "zerolinecolor": "white"
           },
           "yaxis": {
            "backgroundcolor": "#E5ECF6",
            "gridcolor": "white",
            "gridwidth": 2,
            "linecolor": "white",
            "showbackground": true,
            "ticks": "",
            "zerolinecolor": "white"
           },
           "zaxis": {
            "backgroundcolor": "#E5ECF6",
            "gridcolor": "white",
            "gridwidth": 2,
            "linecolor": "white",
            "showbackground": true,
            "ticks": "",
            "zerolinecolor": "white"
           }
          },
          "shapedefaults": {
           "line": {
            "color": "#2a3f5f"
           }
          },
          "ternary": {
           "aaxis": {
            "gridcolor": "white",
            "linecolor": "white",
            "ticks": ""
           },
           "baxis": {
            "gridcolor": "white",
            "linecolor": "white",
            "ticks": ""
           },
           "bgcolor": "#E5ECF6",
           "caxis": {
            "gridcolor": "white",
            "linecolor": "white",
            "ticks": ""
           }
          },
          "title": {
           "x": 0.05
          },
          "xaxis": {
           "automargin": true,
           "gridcolor": "white",
           "linecolor": "white",
           "ticks": "",
           "title": {
            "standoff": 15
           },
           "zerolinecolor": "white",
           "zerolinewidth": 2
          },
          "yaxis": {
           "automargin": true,
           "gridcolor": "white",
           "linecolor": "white",
           "ticks": "",
           "title": {
            "standoff": 15
           },
           "zerolinecolor": "white",
           "zerolinewidth": 2
          }
         }
        },
        "title": {
         "font": {
          "color": "#4D5663"
         }
        },
        "xaxis": {
         "gridcolor": "#E1E5ED",
         "showgrid": true,
         "tickfont": {
          "color": "#4D5663"
         },
         "title": {
          "font": {
           "color": "#4D5663"
          },
          "text": ""
         },
         "zerolinecolor": "#E1E5ED"
        },
        "yaxis": {
         "gridcolor": "#E1E5ED",
         "showgrid": true,
         "tickfont": {
          "color": "#4D5663"
         },
         "title": {
          "font": {
           "color": "#4D5663"
          },
          "text": ""
         },
         "zerolinecolor": "#E1E5ED"
        }
       }
      },
      "text/html": [
       "<div>                            <div id=\"f51d35b9-6ef1-4352-8d67-fdd4024f2307\" class=\"plotly-graph-div\" style=\"height:525px; width:100%;\"></div>            <script type=\"text/javascript\">                require([\"plotly\"], function(Plotly) {                    window.PLOTLYENV=window.PLOTLYENV || {};\n",
       "                    window.PLOTLYENV.BASE_URL='https://plot.ly';                                    if (document.getElementById(\"f51d35b9-6ef1-4352-8d67-fdd4024f2307\")) {                    Plotly.newPlot(                        \"f51d35b9-6ef1-4352-8d67-fdd4024f2307\",                        [{\"line\":{\"color\":\"rgba(255, 153, 51, 1.0)\",\"dash\":\"solid\",\"shape\":\"linear\",\"width\":1.3},\"mode\":\"lines\",\"name\":\"A\",\"text\":\"\",\"x\":[0,1,2,3,4,5,6,7,8,9,10,11,12,13,14,15,16,17,18,19,20,21,22,23,24,25,26,27,28,29,30,31,32,33,34,35,36,37,38,39,40,41,42,43,44,45,46,47,48,49,50,51,52,53,54,55,56,57,58,59,60,61,62,63,64,65,66,67,68,69,70,71,72,73,74,75,76,77,78,79,80,81,82,83,84,85,86,87,88,89,90,91,92,93,94,95,96,97,98,99],\"y\":[-1.8158066953241796,-0.1532154842648918,-0.9087624017607344,-0.715856808084371,-0.7771907606069965,0.7351655714121069,-0.4340066741738052,-1.3736300616332289,-1.0910279061608386,-0.17715896700797562,0.7275992622753656,0.5719735501374622,0.1098535938239624,-0.7597209632957299,-1.1109900639357473,0.6925199043660469,0.7199999841009106,0.2873822213373869,-0.15420187444897465,0.008442848745635374,1.664921806311949,-1.3569852377652243,-0.23428268105986771,-1.9065024563371196,-1.8490542212588523,-0.9960295932103904,0.02314877232934917,1.7212068472548776,1.9013955197338033,-2.35253242851831,0.03040455800019841,0.21563700808987987,-0.4597229928437187,-0.7278607880726488,0.8877592700568671,0.4871704573515719,1.2769068225620719,0.18018462540389163,0.8649699512695074,-0.7445046848660324,-1.2890167760381392,0.5217925979706663,0.9389152424518948,0.9410136911071448,1.5734356802920477,1.4534955851108855,1.6379349099164204,2.051825040464344,-0.8723796481954755,0.6451170978250104,0.7996633553911477,-0.3758811118599081,0.8368783860108395,1.1672923335724237,1.9989574214327248,-0.9803635632487172,1.0272909775625343,-1.6470378469496967,-1.184745488394547,1.240609769403117,2.561043412628804,-0.5143615665306566,0.7449677226155068,-0.6201547168031414,0.6061735043418385,-0.6917606684322949,-0.4568162851669821,-1.4467767829303313,-0.4197208185978394,-0.27718742129594875,0.37837120923512646,1.2126642629518882,0.0393734817792643,-0.26340619911106694,-0.8351980357082801,-0.7959718758615214,0.6618589942538259,-0.4809145778698422,-0.5892785393324456,-0.25863477635135435,-0.6227807044887773,0.6993285851779953,-0.45746330629230986,-1.1643534645330045,1.3236560625253453,-0.6252302065588559,0.3150282283965467,1.137719962772657,0.514273522992465,0.17608458637176752,-0.6721697934374377,-0.9601912730760108,-0.9638044403008365,-0.35406490944069513,0.27014409824766095,0.7873120088931022,-0.4853469923359565,-0.35362079253020634,0.35722262241125424,-0.3869299705042295],\"type\":\"scatter\"},{\"line\":{\"color\":\"rgba(55, 128, 191, 1.0)\",\"dash\":\"solid\",\"shape\":\"linear\",\"width\":1.3},\"mode\":\"lines\",\"name\":\"B\",\"text\":\"\",\"x\":[0,1,2,3,4,5,6,7,8,9,10,11,12,13,14,15,16,17,18,19,20,21,22,23,24,25,26,27,28,29,30,31,32,33,34,35,36,37,38,39,40,41,42,43,44,45,46,47,48,49,50,51,52,53,54,55,56,57,58,59,60,61,62,63,64,65,66,67,68,69,70,71,72,73,74,75,76,77,78,79,80,81,82,83,84,85,86,87,88,89,90,91,92,93,94,95,96,97,98,99],\"y\":[1.6962518426992457,-0.982193639127554,-2.1197856966587434,0.38054873370497094,-1.361275653580498,0.3019613106241735,0.5737655133927131,1.0945211359269573,0.5495438835085136,1.0344716229317987,1.5145618337839344,-1.322817574245342,-1.1907820282214117,-0.528632777074625,1.3012340540546952,-1.0689263129920183,-2.84496629837369,0.046135758701366845,-0.24639563344520166,0.25128120296962836,0.36830940996399714,0.12031333614256282,-0.8010686487431482,-1.9327299966087452,0.7590071315508242,0.09728845697523336,-0.6894331452347948,0.11100076999006471,0.8004367772526133,-0.3793003097447568,-0.010050251411239644,-1.157220777492313,0.2488904704855463,0.8320141897637261,-0.12460299783173051,-0.9910263142307557,0.7372791083222395,0.24955057188182372,-0.8396515362306939,-0.6309241374644079,-0.279841188171254,-0.16186589249778788,0.8051370085683334,0.6540567389457904,-1.5798108304946163,0.20639652702521474,0.39333903402492476,-0.4810666724010602,-0.3800959479086856,-0.3077260319677847,1.5208418364763474,0.7892210421725961,1.8591446122703879,1.7034420043231697,-0.10683091684168655,-0.4775338738383854,-1.0079070689317284,-1.0112734900097282,0.7111182117640453,1.0486950375562232,-0.26391919214625303,-0.4113679094580015,-0.2605367678626934,-0.47530461482159114,-0.053143688579886626,2.3967430629102333,1.8709284111420503,0.25187514496472596,-0.02397569055830253,-0.09829431482066459,0.09403916694330741,0.06531118931264279,1.7638042278748831,1.0049939775004493,-0.6137431487150112,0.6570327734296777,-0.6289093946870737,0.5903155802129443,-1.2205401647556249,0.16685846375701371,-0.7512178872411197,0.08940485042033164,0.7271257315355758,-0.8861325348030998,-0.11871209816686926,-1.4093783931195987,-0.1736218521324273,-1.556684785992902,0.2470908600596826,0.056697008587313615,0.7871147589497839,-0.8801147388503565,0.3565693844796211,-0.3783507036715136,-0.5636310145664183,-0.18403442117576474,0.7945894980989373,0.8203119259602427,-0.8631082962731352,0.21257593940078842],\"type\":\"scatter\"},{\"line\":{\"color\":\"rgba(50, 171, 96, 1.0)\",\"dash\":\"solid\",\"shape\":\"linear\",\"width\":1.3},\"mode\":\"lines\",\"name\":\"C\",\"text\":\"\",\"x\":[0,1,2,3,4,5,6,7,8,9,10,11,12,13,14,15,16,17,18,19,20,21,22,23,24,25,26,27,28,29,30,31,32,33,34,35,36,37,38,39,40,41,42,43,44,45,46,47,48,49,50,51,52,53,54,55,56,57,58,59,60,61,62,63,64,65,66,67,68,69,70,71,72,73,74,75,76,77,78,79,80,81,82,83,84,85,86,87,88,89,90,91,92,93,94,95,96,97,98,99],\"y\":[-0.7385392085312609,0.6059015187854616,1.122739800613316,1.3453235784911914,0.3269935992661774,-1.0707310105993268,-0.3806197642092073,1.6409229266368266,-2.352066299648475,-0.9994785837613791,-0.6912934823216503,1.2826438376675886,0.10291044180972408,0.3349043094372565,-1.0055135614015855,0.9757634381272896,0.9079558995973859,-0.46594652589269664,0.8060052181025692,1.1165653993576703,0.27351976698254615,1.2117888986596437,0.6771514068440193,0.39219000665164555,0.3479770692323999,1.2563752513554332,-1.1979478266842263,-1.78307557243645,-0.7562741622749357,-0.2974990576728704,-0.1151922607598481,1.311871447079243,1.9289668587901412,1.0447706767606724,-0.3002488998726798,0.16269844415688542,0.8631392392988955,-0.7411929665425697,0.5616519838700285,-0.3131147621350836,-0.6069109587105764,-1.447767624550431,-1.442722977432391,-0.6919784434260245,-0.8831316251819575,-0.776479665148661,1.1172122351362055,1.2176337093966687,1.5476467707595074,0.3626072098823158,-1.0983325162443291,-1.383177292817952,1.9628058171277503,-0.055803093732660805,-1.5747713332299496,-0.26532393249082487,0.5479439877410442,1.5535865364644714,-0.47659834301066384,0.2672767984483275,-0.8961147350469946,-0.06471050710422788,-0.5905964775463705,0.7655941714589244,-0.31953091828895985,0.06789288352679154,-1.422263846816249,-0.801161627353756,0.6188842280311928,2.028647190875111,-0.741868678745086,1.6069381796445703,-0.6690556554555435,-0.063584543693092,0.6246448471547272,-0.4216210453943756,-0.8640390041112331,0.5253639742208898,-0.48438019081842754,0.5369509248484133,0.32057822601106967,-1.8760068692251701,0.13126982972121115,0.2970202750556522,0.31359419559538876,-0.3971136117430385,-0.6860056529632396,-0.8962827751063993,0.0025431485827040403,0.27089769469654046,0.7033910031533249,-0.3643665317857516,-0.11787071628933615,-0.9817195744729845,-1.0732541183436184,1.2957749565724392,-1.4894334754857605,0.6917993062855475,-0.3556696508654084,-0.11742785402261754],\"type\":\"scatter\"},{\"line\":{\"color\":\"rgba(128, 0, 128, 1.0)\",\"dash\":\"solid\",\"shape\":\"linear\",\"width\":1.3},\"mode\":\"lines\",\"name\":\"D\",\"text\":\"\",\"x\":[0,1,2,3,4,5,6,7,8,9,10,11,12,13,14,15,16,17,18,19,20,21,22,23,24,25,26,27,28,29,30,31,32,33,34,35,36,37,38,39,40,41,42,43,44,45,46,47,48,49,50,51,52,53,54,55,56,57,58,59,60,61,62,63,64,65,66,67,68,69,70,71,72,73,74,75,76,77,78,79,80,81,82,83,84,85,86,87,88,89,90,91,92,93,94,95,96,97,98,99],\"y\":[-1.6139200331698593,0.1438679806922359,-0.6931362890789643,0.5293045437878271,0.3221349048970399,0.10571979308408555,-0.24687444774814254,1.518751836633535,-1.8417441436634612,1.1901312662968089,1.0452829018107455,0.30605659929868206,-0.43068673344610603,-1.3875533434371963,-0.31328259811412107,-0.47961676390549984,1.325030202070095,-0.4449698448561779,1.0439278536071046,1.5298569917653597,-0.49411730219163136,0.18378781126397709,0.1887592665717357,1.1025966370286202,1.4506954668482208,-2.3261959513491073,-0.4550870936241418,-0.9292829494272545,0.01052435481631606,0.04724180974889832,-0.592794748419755,0.5048698619125271,-0.31543236030487437,1.0659531865858582,-0.8199027965146775,0.9665933026153964,-0.2267356656419576,-0.9656196090197346,0.29696010229584796,-1.6579526166657388,1.2748038036746216,-0.12764161793534448,-0.05487234560680018,0.2861875269503629,0.43721364089885206,1.6086221484162546,-0.7979471094796152,-0.5861898093399176,1.3377350533309027,-0.3739936342499101,0.7462187044964173,-1.2554014451140587,0.5868402650420513,0.8703440156057092,-0.1742196969932546,1.4469818706730642,-0.6262021275282917,0.08399422005607338,-1.8055896023356686,-1.3243969569382086,1.1345389701396054,0.2481429357286683,0.2835512541345572,-0.6881976210702818,-1.0120345386137457,-0.3034886605647908,0.11398208922115317,0.36076317300524025,-0.5169099907753333,1.660678219041089,0.02712667239714875,-2.039741784619864,-0.2805689576358341,1.07484873721293,-0.3521633386079611,0.02930939901426263,-2.5392183963702495,-0.1852718250188313,0.13784622935873658,-0.5808272711014993,-0.5694492380190268,0.3574733700727333,-0.5989894269618654,0.1773981082301825,-2.5437514467559863,0.8468484480608329,0.7898473428685026,0.7168791240146745,0.18038311950933206,0.19470310432542945,-0.6880783920433272,-1.2336408453838985,-0.9501503471607181,0.36047791513110083,-2.3000859597709953,-0.5648727722864505,0.07535442124114042,-1.0231862796219837,-0.2286057647331581,1.6520351190666764],\"type\":\"scatter\"}],                        {\"legend\":{\"bgcolor\":\"#F5F6F9\",\"font\":{\"color\":\"#4D5663\"}},\"paper_bgcolor\":\"#F5F6F9\",\"plot_bgcolor\":\"#F5F6F9\",\"template\":{\"data\":{\"barpolar\":[{\"marker\":{\"line\":{\"color\":\"#E5ECF6\",\"width\":0.5},\"pattern\":{\"fillmode\":\"overlay\",\"size\":10,\"solidity\":0.2}},\"type\":\"barpolar\"}],\"bar\":[{\"error_x\":{\"color\":\"#2a3f5f\"},\"error_y\":{\"color\":\"#2a3f5f\"},\"marker\":{\"line\":{\"color\":\"#E5ECF6\",\"width\":0.5},\"pattern\":{\"fillmode\":\"overlay\",\"size\":10,\"solidity\":0.2}},\"type\":\"bar\"}],\"carpet\":[{\"aaxis\":{\"endlinecolor\":\"#2a3f5f\",\"gridcolor\":\"white\",\"linecolor\":\"white\",\"minorgridcolor\":\"white\",\"startlinecolor\":\"#2a3f5f\"},\"baxis\":{\"endlinecolor\":\"#2a3f5f\",\"gridcolor\":\"white\",\"linecolor\":\"white\",\"minorgridcolor\":\"white\",\"startlinecolor\":\"#2a3f5f\"},\"type\":\"carpet\"}],\"choropleth\":[{\"colorbar\":{\"outlinewidth\":0,\"ticks\":\"\"},\"type\":\"choropleth\"}],\"contourcarpet\":[{\"colorbar\":{\"outlinewidth\":0,\"ticks\":\"\"},\"type\":\"contourcarpet\"}],\"contour\":[{\"colorbar\":{\"outlinewidth\":0,\"ticks\":\"\"},\"colorscale\":[[0.0,\"#0d0887\"],[0.1111111111111111,\"#46039f\"],[0.2222222222222222,\"#7201a8\"],[0.3333333333333333,\"#9c179e\"],[0.4444444444444444,\"#bd3786\"],[0.5555555555555556,\"#d8576b\"],[0.6666666666666666,\"#ed7953\"],[0.7777777777777778,\"#fb9f3a\"],[0.8888888888888888,\"#fdca26\"],[1.0,\"#f0f921\"]],\"type\":\"contour\"}],\"heatmapgl\":[{\"colorbar\":{\"outlinewidth\":0,\"ticks\":\"\"},\"colorscale\":[[0.0,\"#0d0887\"],[0.1111111111111111,\"#46039f\"],[0.2222222222222222,\"#7201a8\"],[0.3333333333333333,\"#9c179e\"],[0.4444444444444444,\"#bd3786\"],[0.5555555555555556,\"#d8576b\"],[0.6666666666666666,\"#ed7953\"],[0.7777777777777778,\"#fb9f3a\"],[0.8888888888888888,\"#fdca26\"],[1.0,\"#f0f921\"]],\"type\":\"heatmapgl\"}],\"heatmap\":[{\"colorbar\":{\"outlinewidth\":0,\"ticks\":\"\"},\"colorscale\":[[0.0,\"#0d0887\"],[0.1111111111111111,\"#46039f\"],[0.2222222222222222,\"#7201a8\"],[0.3333333333333333,\"#9c179e\"],[0.4444444444444444,\"#bd3786\"],[0.5555555555555556,\"#d8576b\"],[0.6666666666666666,\"#ed7953\"],[0.7777777777777778,\"#fb9f3a\"],[0.8888888888888888,\"#fdca26\"],[1.0,\"#f0f921\"]],\"type\":\"heatmap\"}],\"histogram2dcontour\":[{\"colorbar\":{\"outlinewidth\":0,\"ticks\":\"\"},\"colorscale\":[[0.0,\"#0d0887\"],[0.1111111111111111,\"#46039f\"],[0.2222222222222222,\"#7201a8\"],[0.3333333333333333,\"#9c179e\"],[0.4444444444444444,\"#bd3786\"],[0.5555555555555556,\"#d8576b\"],[0.6666666666666666,\"#ed7953\"],[0.7777777777777778,\"#fb9f3a\"],[0.8888888888888888,\"#fdca26\"],[1.0,\"#f0f921\"]],\"type\":\"histogram2dcontour\"}],\"histogram2d\":[{\"colorbar\":{\"outlinewidth\":0,\"ticks\":\"\"},\"colorscale\":[[0.0,\"#0d0887\"],[0.1111111111111111,\"#46039f\"],[0.2222222222222222,\"#7201a8\"],[0.3333333333333333,\"#9c179e\"],[0.4444444444444444,\"#bd3786\"],[0.5555555555555556,\"#d8576b\"],[0.6666666666666666,\"#ed7953\"],[0.7777777777777778,\"#fb9f3a\"],[0.8888888888888888,\"#fdca26\"],[1.0,\"#f0f921\"]],\"type\":\"histogram2d\"}],\"histogram\":[{\"marker\":{\"pattern\":{\"fillmode\":\"overlay\",\"size\":10,\"solidity\":0.2}},\"type\":\"histogram\"}],\"mesh3d\":[{\"colorbar\":{\"outlinewidth\":0,\"ticks\":\"\"},\"type\":\"mesh3d\"}],\"parcoords\":[{\"line\":{\"colorbar\":{\"outlinewidth\":0,\"ticks\":\"\"}},\"type\":\"parcoords\"}],\"pie\":[{\"automargin\":true,\"type\":\"pie\"}],\"scatter3d\":[{\"line\":{\"colorbar\":{\"outlinewidth\":0,\"ticks\":\"\"}},\"marker\":{\"colorbar\":{\"outlinewidth\":0,\"ticks\":\"\"}},\"type\":\"scatter3d\"}],\"scattercarpet\":[{\"marker\":{\"colorbar\":{\"outlinewidth\":0,\"ticks\":\"\"}},\"type\":\"scattercarpet\"}],\"scattergeo\":[{\"marker\":{\"colorbar\":{\"outlinewidth\":0,\"ticks\":\"\"}},\"type\":\"scattergeo\"}],\"scattergl\":[{\"marker\":{\"colorbar\":{\"outlinewidth\":0,\"ticks\":\"\"}},\"type\":\"scattergl\"}],\"scattermapbox\":[{\"marker\":{\"colorbar\":{\"outlinewidth\":0,\"ticks\":\"\"}},\"type\":\"scattermapbox\"}],\"scatterpolargl\":[{\"marker\":{\"colorbar\":{\"outlinewidth\":0,\"ticks\":\"\"}},\"type\":\"scatterpolargl\"}],\"scatterpolar\":[{\"marker\":{\"colorbar\":{\"outlinewidth\":0,\"ticks\":\"\"}},\"type\":\"scatterpolar\"}],\"scatter\":[{\"fillpattern\":{\"fillmode\":\"overlay\",\"size\":10,\"solidity\":0.2},\"type\":\"scatter\"}],\"scatterternary\":[{\"marker\":{\"colorbar\":{\"outlinewidth\":0,\"ticks\":\"\"}},\"type\":\"scatterternary\"}],\"surface\":[{\"colorbar\":{\"outlinewidth\":0,\"ticks\":\"\"},\"colorscale\":[[0.0,\"#0d0887\"],[0.1111111111111111,\"#46039f\"],[0.2222222222222222,\"#7201a8\"],[0.3333333333333333,\"#9c179e\"],[0.4444444444444444,\"#bd3786\"],[0.5555555555555556,\"#d8576b\"],[0.6666666666666666,\"#ed7953\"],[0.7777777777777778,\"#fb9f3a\"],[0.8888888888888888,\"#fdca26\"],[1.0,\"#f0f921\"]],\"type\":\"surface\"}],\"table\":[{\"cells\":{\"fill\":{\"color\":\"#EBF0F8\"},\"line\":{\"color\":\"white\"}},\"header\":{\"fill\":{\"color\":\"#C8D4E3\"},\"line\":{\"color\":\"white\"}},\"type\":\"table\"}]},\"layout\":{\"annotationdefaults\":{\"arrowcolor\":\"#2a3f5f\",\"arrowhead\":0,\"arrowwidth\":1},\"autotypenumbers\":\"strict\",\"coloraxis\":{\"colorbar\":{\"outlinewidth\":0,\"ticks\":\"\"}},\"colorscale\":{\"diverging\":[[0,\"#8e0152\"],[0.1,\"#c51b7d\"],[0.2,\"#de77ae\"],[0.3,\"#f1b6da\"],[0.4,\"#fde0ef\"],[0.5,\"#f7f7f7\"],[0.6,\"#e6f5d0\"],[0.7,\"#b8e186\"],[0.8,\"#7fbc41\"],[0.9,\"#4d9221\"],[1,\"#276419\"]],\"sequential\":[[0.0,\"#0d0887\"],[0.1111111111111111,\"#46039f\"],[0.2222222222222222,\"#7201a8\"],[0.3333333333333333,\"#9c179e\"],[0.4444444444444444,\"#bd3786\"],[0.5555555555555556,\"#d8576b\"],[0.6666666666666666,\"#ed7953\"],[0.7777777777777778,\"#fb9f3a\"],[0.8888888888888888,\"#fdca26\"],[1.0,\"#f0f921\"]],\"sequentialminus\":[[0.0,\"#0d0887\"],[0.1111111111111111,\"#46039f\"],[0.2222222222222222,\"#7201a8\"],[0.3333333333333333,\"#9c179e\"],[0.4444444444444444,\"#bd3786\"],[0.5555555555555556,\"#d8576b\"],[0.6666666666666666,\"#ed7953\"],[0.7777777777777778,\"#fb9f3a\"],[0.8888888888888888,\"#fdca26\"],[1.0,\"#f0f921\"]]},\"colorway\":[\"#636efa\",\"#EF553B\",\"#00cc96\",\"#ab63fa\",\"#FFA15A\",\"#19d3f3\",\"#FF6692\",\"#B6E880\",\"#FF97FF\",\"#FECB52\"],\"font\":{\"color\":\"#2a3f5f\"},\"geo\":{\"bgcolor\":\"white\",\"lakecolor\":\"white\",\"landcolor\":\"#E5ECF6\",\"showlakes\":true,\"showland\":true,\"subunitcolor\":\"white\"},\"hoverlabel\":{\"align\":\"left\"},\"hovermode\":\"closest\",\"mapbox\":{\"style\":\"light\"},\"paper_bgcolor\":\"white\",\"plot_bgcolor\":\"#E5ECF6\",\"polar\":{\"angularaxis\":{\"gridcolor\":\"white\",\"linecolor\":\"white\",\"ticks\":\"\"},\"bgcolor\":\"#E5ECF6\",\"radialaxis\":{\"gridcolor\":\"white\",\"linecolor\":\"white\",\"ticks\":\"\"}},\"scene\":{\"xaxis\":{\"backgroundcolor\":\"#E5ECF6\",\"gridcolor\":\"white\",\"gridwidth\":2,\"linecolor\":\"white\",\"showbackground\":true,\"ticks\":\"\",\"zerolinecolor\":\"white\"},\"yaxis\":{\"backgroundcolor\":\"#E5ECF6\",\"gridcolor\":\"white\",\"gridwidth\":2,\"linecolor\":\"white\",\"showbackground\":true,\"ticks\":\"\",\"zerolinecolor\":\"white\"},\"zaxis\":{\"backgroundcolor\":\"#E5ECF6\",\"gridcolor\":\"white\",\"gridwidth\":2,\"linecolor\":\"white\",\"showbackground\":true,\"ticks\":\"\",\"zerolinecolor\":\"white\"}},\"shapedefaults\":{\"line\":{\"color\":\"#2a3f5f\"}},\"ternary\":{\"aaxis\":{\"gridcolor\":\"white\",\"linecolor\":\"white\",\"ticks\":\"\"},\"baxis\":{\"gridcolor\":\"white\",\"linecolor\":\"white\",\"ticks\":\"\"},\"bgcolor\":\"#E5ECF6\",\"caxis\":{\"gridcolor\":\"white\",\"linecolor\":\"white\",\"ticks\":\"\"}},\"title\":{\"x\":0.05},\"xaxis\":{\"automargin\":true,\"gridcolor\":\"white\",\"linecolor\":\"white\",\"ticks\":\"\",\"title\":{\"standoff\":15},\"zerolinecolor\":\"white\",\"zerolinewidth\":2},\"yaxis\":{\"automargin\":true,\"gridcolor\":\"white\",\"linecolor\":\"white\",\"ticks\":\"\",\"title\":{\"standoff\":15},\"zerolinecolor\":\"white\",\"zerolinewidth\":2}}},\"title\":{\"font\":{\"color\":\"#4D5663\"}},\"xaxis\":{\"gridcolor\":\"#E1E5ED\",\"showgrid\":true,\"tickfont\":{\"color\":\"#4D5663\"},\"title\":{\"font\":{\"color\":\"#4D5663\"},\"text\":\"\"},\"zerolinecolor\":\"#E1E5ED\"},\"yaxis\":{\"gridcolor\":\"#E1E5ED\",\"showgrid\":true,\"tickfont\":{\"color\":\"#4D5663\"},\"title\":{\"font\":{\"color\":\"#4D5663\"},\"text\":\"\"},\"zerolinecolor\":\"#E1E5ED\"}},                        {\"showLink\": true, \"linkText\": \"Export to plot.ly\", \"plotlyServerURL\": \"https://plot.ly\", \"responsive\": true}                    ).then(function(){\n",
       "                            \n",
       "var gd = document.getElementById('f51d35b9-6ef1-4352-8d67-fdd4024f2307');\n",
       "var x = new MutationObserver(function (mutations, observer) {{\n",
       "        var display = window.getComputedStyle(gd).display;\n",
       "        if (!display || display === 'none') {{\n",
       "            console.log([gd, 'removed!']);\n",
       "            Plotly.purge(gd);\n",
       "            observer.disconnect();\n",
       "        }}\n",
       "}});\n",
       "\n",
       "// Listen for the removal of the full notebook cells\n",
       "var notebookContainer = gd.closest('#notebook-container');\n",
       "if (notebookContainer) {{\n",
       "    x.observe(notebookContainer, {childList: true});\n",
       "}}\n",
       "\n",
       "// Listen for the clearing of the current output cell\n",
       "var outputEl = gd.closest('.output');\n",
       "if (outputEl) {{\n",
       "    x.observe(outputEl, {childList: true});\n",
       "}}\n",
       "\n",
       "                        })                };                });            </script>        </div>"
      ]
     },
     "metadata": {},
     "output_type": "display_data"
    }
   ],
   "source": [
    "df.iplot()"
   ]
  },
  {
   "cell_type": "code",
   "execution_count": 21,
   "id": "8104388b",
   "metadata": {},
   "outputs": [
    {
     "data": {
      "application/vnd.plotly.v1+json": {
       "config": {
        "linkText": "Export to plot.ly",
        "plotlyServerURL": "https://plot.ly",
        "showLink": true
       },
       "data": [
        {
         "line": {
          "color": "rgba(255, 153, 51, 1.0)",
          "dash": "solid",
          "shape": "linear",
          "width": 1.3
         },
         "marker": {
          "size": 10,
          "symbol": "circle"
         },
         "mode": "markers",
         "name": "B",
         "text": "",
         "type": "scatter",
         "x": [
          -1.8158066953241796,
          -0.1532154842648918,
          -0.9087624017607344,
          -0.715856808084371,
          -0.7771907606069965,
          0.7351655714121069,
          -0.4340066741738052,
          -1.3736300616332289,
          -1.0910279061608386,
          -0.17715896700797562,
          0.7275992622753656,
          0.5719735501374622,
          0.1098535938239624,
          -0.7597209632957299,
          -1.1109900639357473,
          0.6925199043660469,
          0.7199999841009106,
          0.2873822213373869,
          -0.15420187444897465,
          0.008442848745635374,
          1.664921806311949,
          -1.3569852377652243,
          -0.23428268105986771,
          -1.9065024563371196,
          -1.8490542212588523,
          -0.9960295932103904,
          0.02314877232934917,
          1.7212068472548776,
          1.9013955197338033,
          -2.35253242851831,
          0.03040455800019841,
          0.21563700808987987,
          -0.4597229928437187,
          -0.7278607880726488,
          0.8877592700568671,
          0.4871704573515719,
          1.2769068225620719,
          0.18018462540389163,
          0.8649699512695074,
          -0.7445046848660324,
          -1.2890167760381392,
          0.5217925979706663,
          0.9389152424518948,
          0.9410136911071448,
          1.5734356802920477,
          1.4534955851108855,
          1.6379349099164204,
          2.051825040464344,
          -0.8723796481954755,
          0.6451170978250104,
          0.7996633553911477,
          -0.3758811118599081,
          0.8368783860108395,
          1.1672923335724237,
          1.9989574214327248,
          -0.9803635632487172,
          1.0272909775625343,
          -1.6470378469496967,
          -1.184745488394547,
          1.240609769403117,
          2.561043412628804,
          -0.5143615665306566,
          0.7449677226155068,
          -0.6201547168031414,
          0.6061735043418385,
          -0.6917606684322949,
          -0.4568162851669821,
          -1.4467767829303313,
          -0.4197208185978394,
          -0.27718742129594875,
          0.37837120923512646,
          1.2126642629518882,
          0.0393734817792643,
          -0.26340619911106694,
          -0.8351980357082801,
          -0.7959718758615214,
          0.6618589942538259,
          -0.4809145778698422,
          -0.5892785393324456,
          -0.25863477635135435,
          -0.6227807044887773,
          0.6993285851779953,
          -0.45746330629230986,
          -1.1643534645330045,
          1.3236560625253453,
          -0.6252302065588559,
          0.3150282283965467,
          1.137719962772657,
          0.514273522992465,
          0.17608458637176752,
          -0.6721697934374377,
          -0.9601912730760108,
          -0.9638044403008365,
          -0.35406490944069513,
          0.27014409824766095,
          0.7873120088931022,
          -0.4853469923359565,
          -0.35362079253020634,
          0.35722262241125424,
          -0.3869299705042295
         ],
         "y": [
          1.6962518426992457,
          -0.982193639127554,
          -2.1197856966587434,
          0.38054873370497094,
          -1.361275653580498,
          0.3019613106241735,
          0.5737655133927131,
          1.0945211359269573,
          0.5495438835085136,
          1.0344716229317987,
          1.5145618337839344,
          -1.322817574245342,
          -1.1907820282214117,
          -0.528632777074625,
          1.3012340540546952,
          -1.0689263129920183,
          -2.84496629837369,
          0.046135758701366845,
          -0.24639563344520166,
          0.25128120296962836,
          0.36830940996399714,
          0.12031333614256282,
          -0.8010686487431482,
          -1.9327299966087452,
          0.7590071315508242,
          0.09728845697523336,
          -0.6894331452347948,
          0.11100076999006471,
          0.8004367772526133,
          -0.3793003097447568,
          -0.010050251411239644,
          -1.157220777492313,
          0.2488904704855463,
          0.8320141897637261,
          -0.12460299783173051,
          -0.9910263142307557,
          0.7372791083222395,
          0.24955057188182372,
          -0.8396515362306939,
          -0.6309241374644079,
          -0.279841188171254,
          -0.16186589249778788,
          0.8051370085683334,
          0.6540567389457904,
          -1.5798108304946163,
          0.20639652702521474,
          0.39333903402492476,
          -0.4810666724010602,
          -0.3800959479086856,
          -0.3077260319677847,
          1.5208418364763474,
          0.7892210421725961,
          1.8591446122703879,
          1.7034420043231697,
          -0.10683091684168655,
          -0.4775338738383854,
          -1.0079070689317284,
          -1.0112734900097282,
          0.7111182117640453,
          1.0486950375562232,
          -0.26391919214625303,
          -0.4113679094580015,
          -0.2605367678626934,
          -0.47530461482159114,
          -0.053143688579886626,
          2.3967430629102333,
          1.8709284111420503,
          0.25187514496472596,
          -0.02397569055830253,
          -0.09829431482066459,
          0.09403916694330741,
          0.06531118931264279,
          1.7638042278748831,
          1.0049939775004493,
          -0.6137431487150112,
          0.6570327734296777,
          -0.6289093946870737,
          0.5903155802129443,
          -1.2205401647556249,
          0.16685846375701371,
          -0.7512178872411197,
          0.08940485042033164,
          0.7271257315355758,
          -0.8861325348030998,
          -0.11871209816686926,
          -1.4093783931195987,
          -0.1736218521324273,
          -1.556684785992902,
          0.2470908600596826,
          0.056697008587313615,
          0.7871147589497839,
          -0.8801147388503565,
          0.3565693844796211,
          -0.3783507036715136,
          -0.5636310145664183,
          -0.18403442117576474,
          0.7945894980989373,
          0.8203119259602427,
          -0.8631082962731352,
          0.21257593940078842
         ]
        }
       ],
       "layout": {
        "legend": {
         "bgcolor": "#F5F6F9",
         "font": {
          "color": "#4D5663"
         }
        },
        "paper_bgcolor": "#F5F6F9",
        "plot_bgcolor": "#F5F6F9",
        "template": {
         "data": {
          "bar": [
           {
            "error_x": {
             "color": "#2a3f5f"
            },
            "error_y": {
             "color": "#2a3f5f"
            },
            "marker": {
             "line": {
              "color": "#E5ECF6",
              "width": 0.5
             },
             "pattern": {
              "fillmode": "overlay",
              "size": 10,
              "solidity": 0.2
             }
            },
            "type": "bar"
           }
          ],
          "barpolar": [
           {
            "marker": {
             "line": {
              "color": "#E5ECF6",
              "width": 0.5
             },
             "pattern": {
              "fillmode": "overlay",
              "size": 10,
              "solidity": 0.2
             }
            },
            "type": "barpolar"
           }
          ],
          "carpet": [
           {
            "aaxis": {
             "endlinecolor": "#2a3f5f",
             "gridcolor": "white",
             "linecolor": "white",
             "minorgridcolor": "white",
             "startlinecolor": "#2a3f5f"
            },
            "baxis": {
             "endlinecolor": "#2a3f5f",
             "gridcolor": "white",
             "linecolor": "white",
             "minorgridcolor": "white",
             "startlinecolor": "#2a3f5f"
            },
            "type": "carpet"
           }
          ],
          "choropleth": [
           {
            "colorbar": {
             "outlinewidth": 0,
             "ticks": ""
            },
            "type": "choropleth"
           }
          ],
          "contour": [
           {
            "colorbar": {
             "outlinewidth": 0,
             "ticks": ""
            },
            "colorscale": [
             [
              0,
              "#0d0887"
             ],
             [
              0.1111111111111111,
              "#46039f"
             ],
             [
              0.2222222222222222,
              "#7201a8"
             ],
             [
              0.3333333333333333,
              "#9c179e"
             ],
             [
              0.4444444444444444,
              "#bd3786"
             ],
             [
              0.5555555555555556,
              "#d8576b"
             ],
             [
              0.6666666666666666,
              "#ed7953"
             ],
             [
              0.7777777777777778,
              "#fb9f3a"
             ],
             [
              0.8888888888888888,
              "#fdca26"
             ],
             [
              1,
              "#f0f921"
             ]
            ],
            "type": "contour"
           }
          ],
          "contourcarpet": [
           {
            "colorbar": {
             "outlinewidth": 0,
             "ticks": ""
            },
            "type": "contourcarpet"
           }
          ],
          "heatmap": [
           {
            "colorbar": {
             "outlinewidth": 0,
             "ticks": ""
            },
            "colorscale": [
             [
              0,
              "#0d0887"
             ],
             [
              0.1111111111111111,
              "#46039f"
             ],
             [
              0.2222222222222222,
              "#7201a8"
             ],
             [
              0.3333333333333333,
              "#9c179e"
             ],
             [
              0.4444444444444444,
              "#bd3786"
             ],
             [
              0.5555555555555556,
              "#d8576b"
             ],
             [
              0.6666666666666666,
              "#ed7953"
             ],
             [
              0.7777777777777778,
              "#fb9f3a"
             ],
             [
              0.8888888888888888,
              "#fdca26"
             ],
             [
              1,
              "#f0f921"
             ]
            ],
            "type": "heatmap"
           }
          ],
          "heatmapgl": [
           {
            "colorbar": {
             "outlinewidth": 0,
             "ticks": ""
            },
            "colorscale": [
             [
              0,
              "#0d0887"
             ],
             [
              0.1111111111111111,
              "#46039f"
             ],
             [
              0.2222222222222222,
              "#7201a8"
             ],
             [
              0.3333333333333333,
              "#9c179e"
             ],
             [
              0.4444444444444444,
              "#bd3786"
             ],
             [
              0.5555555555555556,
              "#d8576b"
             ],
             [
              0.6666666666666666,
              "#ed7953"
             ],
             [
              0.7777777777777778,
              "#fb9f3a"
             ],
             [
              0.8888888888888888,
              "#fdca26"
             ],
             [
              1,
              "#f0f921"
             ]
            ],
            "type": "heatmapgl"
           }
          ],
          "histogram": [
           {
            "marker": {
             "pattern": {
              "fillmode": "overlay",
              "size": 10,
              "solidity": 0.2
             }
            },
            "type": "histogram"
           }
          ],
          "histogram2d": [
           {
            "colorbar": {
             "outlinewidth": 0,
             "ticks": ""
            },
            "colorscale": [
             [
              0,
              "#0d0887"
             ],
             [
              0.1111111111111111,
              "#46039f"
             ],
             [
              0.2222222222222222,
              "#7201a8"
             ],
             [
              0.3333333333333333,
              "#9c179e"
             ],
             [
              0.4444444444444444,
              "#bd3786"
             ],
             [
              0.5555555555555556,
              "#d8576b"
             ],
             [
              0.6666666666666666,
              "#ed7953"
             ],
             [
              0.7777777777777778,
              "#fb9f3a"
             ],
             [
              0.8888888888888888,
              "#fdca26"
             ],
             [
              1,
              "#f0f921"
             ]
            ],
            "type": "histogram2d"
           }
          ],
          "histogram2dcontour": [
           {
            "colorbar": {
             "outlinewidth": 0,
             "ticks": ""
            },
            "colorscale": [
             [
              0,
              "#0d0887"
             ],
             [
              0.1111111111111111,
              "#46039f"
             ],
             [
              0.2222222222222222,
              "#7201a8"
             ],
             [
              0.3333333333333333,
              "#9c179e"
             ],
             [
              0.4444444444444444,
              "#bd3786"
             ],
             [
              0.5555555555555556,
              "#d8576b"
             ],
             [
              0.6666666666666666,
              "#ed7953"
             ],
             [
              0.7777777777777778,
              "#fb9f3a"
             ],
             [
              0.8888888888888888,
              "#fdca26"
             ],
             [
              1,
              "#f0f921"
             ]
            ],
            "type": "histogram2dcontour"
           }
          ],
          "mesh3d": [
           {
            "colorbar": {
             "outlinewidth": 0,
             "ticks": ""
            },
            "type": "mesh3d"
           }
          ],
          "parcoords": [
           {
            "line": {
             "colorbar": {
              "outlinewidth": 0,
              "ticks": ""
             }
            },
            "type": "parcoords"
           }
          ],
          "pie": [
           {
            "automargin": true,
            "type": "pie"
           }
          ],
          "scatter": [
           {
            "fillpattern": {
             "fillmode": "overlay",
             "size": 10,
             "solidity": 0.2
            },
            "type": "scatter"
           }
          ],
          "scatter3d": [
           {
            "line": {
             "colorbar": {
              "outlinewidth": 0,
              "ticks": ""
             }
            },
            "marker": {
             "colorbar": {
              "outlinewidth": 0,
              "ticks": ""
             }
            },
            "type": "scatter3d"
           }
          ],
          "scattercarpet": [
           {
            "marker": {
             "colorbar": {
              "outlinewidth": 0,
              "ticks": ""
             }
            },
            "type": "scattercarpet"
           }
          ],
          "scattergeo": [
           {
            "marker": {
             "colorbar": {
              "outlinewidth": 0,
              "ticks": ""
             }
            },
            "type": "scattergeo"
           }
          ],
          "scattergl": [
           {
            "marker": {
             "colorbar": {
              "outlinewidth": 0,
              "ticks": ""
             }
            },
            "type": "scattergl"
           }
          ],
          "scattermapbox": [
           {
            "marker": {
             "colorbar": {
              "outlinewidth": 0,
              "ticks": ""
             }
            },
            "type": "scattermapbox"
           }
          ],
          "scatterpolar": [
           {
            "marker": {
             "colorbar": {
              "outlinewidth": 0,
              "ticks": ""
             }
            },
            "type": "scatterpolar"
           }
          ],
          "scatterpolargl": [
           {
            "marker": {
             "colorbar": {
              "outlinewidth": 0,
              "ticks": ""
             }
            },
            "type": "scatterpolargl"
           }
          ],
          "scatterternary": [
           {
            "marker": {
             "colorbar": {
              "outlinewidth": 0,
              "ticks": ""
             }
            },
            "type": "scatterternary"
           }
          ],
          "surface": [
           {
            "colorbar": {
             "outlinewidth": 0,
             "ticks": ""
            },
            "colorscale": [
             [
              0,
              "#0d0887"
             ],
             [
              0.1111111111111111,
              "#46039f"
             ],
             [
              0.2222222222222222,
              "#7201a8"
             ],
             [
              0.3333333333333333,
              "#9c179e"
             ],
             [
              0.4444444444444444,
              "#bd3786"
             ],
             [
              0.5555555555555556,
              "#d8576b"
             ],
             [
              0.6666666666666666,
              "#ed7953"
             ],
             [
              0.7777777777777778,
              "#fb9f3a"
             ],
             [
              0.8888888888888888,
              "#fdca26"
             ],
             [
              1,
              "#f0f921"
             ]
            ],
            "type": "surface"
           }
          ],
          "table": [
           {
            "cells": {
             "fill": {
              "color": "#EBF0F8"
             },
             "line": {
              "color": "white"
             }
            },
            "header": {
             "fill": {
              "color": "#C8D4E3"
             },
             "line": {
              "color": "white"
             }
            },
            "type": "table"
           }
          ]
         },
         "layout": {
          "annotationdefaults": {
           "arrowcolor": "#2a3f5f",
           "arrowhead": 0,
           "arrowwidth": 1
          },
          "autotypenumbers": "strict",
          "coloraxis": {
           "colorbar": {
            "outlinewidth": 0,
            "ticks": ""
           }
          },
          "colorscale": {
           "diverging": [
            [
             0,
             "#8e0152"
            ],
            [
             0.1,
             "#c51b7d"
            ],
            [
             0.2,
             "#de77ae"
            ],
            [
             0.3,
             "#f1b6da"
            ],
            [
             0.4,
             "#fde0ef"
            ],
            [
             0.5,
             "#f7f7f7"
            ],
            [
             0.6,
             "#e6f5d0"
            ],
            [
             0.7,
             "#b8e186"
            ],
            [
             0.8,
             "#7fbc41"
            ],
            [
             0.9,
             "#4d9221"
            ],
            [
             1,
             "#276419"
            ]
           ],
           "sequential": [
            [
             0,
             "#0d0887"
            ],
            [
             0.1111111111111111,
             "#46039f"
            ],
            [
             0.2222222222222222,
             "#7201a8"
            ],
            [
             0.3333333333333333,
             "#9c179e"
            ],
            [
             0.4444444444444444,
             "#bd3786"
            ],
            [
             0.5555555555555556,
             "#d8576b"
            ],
            [
             0.6666666666666666,
             "#ed7953"
            ],
            [
             0.7777777777777778,
             "#fb9f3a"
            ],
            [
             0.8888888888888888,
             "#fdca26"
            ],
            [
             1,
             "#f0f921"
            ]
           ],
           "sequentialminus": [
            [
             0,
             "#0d0887"
            ],
            [
             0.1111111111111111,
             "#46039f"
            ],
            [
             0.2222222222222222,
             "#7201a8"
            ],
            [
             0.3333333333333333,
             "#9c179e"
            ],
            [
             0.4444444444444444,
             "#bd3786"
            ],
            [
             0.5555555555555556,
             "#d8576b"
            ],
            [
             0.6666666666666666,
             "#ed7953"
            ],
            [
             0.7777777777777778,
             "#fb9f3a"
            ],
            [
             0.8888888888888888,
             "#fdca26"
            ],
            [
             1,
             "#f0f921"
            ]
           ]
          },
          "colorway": [
           "#636efa",
           "#EF553B",
           "#00cc96",
           "#ab63fa",
           "#FFA15A",
           "#19d3f3",
           "#FF6692",
           "#B6E880",
           "#FF97FF",
           "#FECB52"
          ],
          "font": {
           "color": "#2a3f5f"
          },
          "geo": {
           "bgcolor": "white",
           "lakecolor": "white",
           "landcolor": "#E5ECF6",
           "showlakes": true,
           "showland": true,
           "subunitcolor": "white"
          },
          "hoverlabel": {
           "align": "left"
          },
          "hovermode": "closest",
          "mapbox": {
           "style": "light"
          },
          "paper_bgcolor": "white",
          "plot_bgcolor": "#E5ECF6",
          "polar": {
           "angularaxis": {
            "gridcolor": "white",
            "linecolor": "white",
            "ticks": ""
           },
           "bgcolor": "#E5ECF6",
           "radialaxis": {
            "gridcolor": "white",
            "linecolor": "white",
            "ticks": ""
           }
          },
          "scene": {
           "xaxis": {
            "backgroundcolor": "#E5ECF6",
            "gridcolor": "white",
            "gridwidth": 2,
            "linecolor": "white",
            "showbackground": true,
            "ticks": "",
            "zerolinecolor": "white"
           },
           "yaxis": {
            "backgroundcolor": "#E5ECF6",
            "gridcolor": "white",
            "gridwidth": 2,
            "linecolor": "white",
            "showbackground": true,
            "ticks": "",
            "zerolinecolor": "white"
           },
           "zaxis": {
            "backgroundcolor": "#E5ECF6",
            "gridcolor": "white",
            "gridwidth": 2,
            "linecolor": "white",
            "showbackground": true,
            "ticks": "",
            "zerolinecolor": "white"
           }
          },
          "shapedefaults": {
           "line": {
            "color": "#2a3f5f"
           }
          },
          "ternary": {
           "aaxis": {
            "gridcolor": "white",
            "linecolor": "white",
            "ticks": ""
           },
           "baxis": {
            "gridcolor": "white",
            "linecolor": "white",
            "ticks": ""
           },
           "bgcolor": "#E5ECF6",
           "caxis": {
            "gridcolor": "white",
            "linecolor": "white",
            "ticks": ""
           }
          },
          "title": {
           "x": 0.05
          },
          "xaxis": {
           "automargin": true,
           "gridcolor": "white",
           "linecolor": "white",
           "ticks": "",
           "title": {
            "standoff": 15
           },
           "zerolinecolor": "white",
           "zerolinewidth": 2
          },
          "yaxis": {
           "automargin": true,
           "gridcolor": "white",
           "linecolor": "white",
           "ticks": "",
           "title": {
            "standoff": 15
           },
           "zerolinecolor": "white",
           "zerolinewidth": 2
          }
         }
        },
        "title": {
         "font": {
          "color": "#4D5663"
         }
        },
        "xaxis": {
         "gridcolor": "#E1E5ED",
         "showgrid": true,
         "tickfont": {
          "color": "#4D5663"
         },
         "title": {
          "font": {
           "color": "#4D5663"
          },
          "text": ""
         },
         "zerolinecolor": "#E1E5ED"
        },
        "yaxis": {
         "gridcolor": "#E1E5ED",
         "showgrid": true,
         "tickfont": {
          "color": "#4D5663"
         },
         "title": {
          "font": {
           "color": "#4D5663"
          },
          "text": ""
         },
         "zerolinecolor": "#E1E5ED"
        }
       }
      },
      "text/html": [
       "<div>                            <div id=\"c48e0d1a-b9ce-4263-a89f-29cd6290a802\" class=\"plotly-graph-div\" style=\"height:525px; width:100%;\"></div>            <script type=\"text/javascript\">                require([\"plotly\"], function(Plotly) {                    window.PLOTLYENV=window.PLOTLYENV || {};\n",
       "                    window.PLOTLYENV.BASE_URL='https://plot.ly';                                    if (document.getElementById(\"c48e0d1a-b9ce-4263-a89f-29cd6290a802\")) {                    Plotly.newPlot(                        \"c48e0d1a-b9ce-4263-a89f-29cd6290a802\",                        [{\"line\":{\"color\":\"rgba(255, 153, 51, 1.0)\",\"dash\":\"solid\",\"shape\":\"linear\",\"width\":1.3},\"marker\":{\"size\":10,\"symbol\":\"circle\"},\"mode\":\"markers\",\"name\":\"B\",\"text\":\"\",\"x\":[-1.8158066953241796,-0.1532154842648918,-0.9087624017607344,-0.715856808084371,-0.7771907606069965,0.7351655714121069,-0.4340066741738052,-1.3736300616332289,-1.0910279061608386,-0.17715896700797562,0.7275992622753656,0.5719735501374622,0.1098535938239624,-0.7597209632957299,-1.1109900639357473,0.6925199043660469,0.7199999841009106,0.2873822213373869,-0.15420187444897465,0.008442848745635374,1.664921806311949,-1.3569852377652243,-0.23428268105986771,-1.9065024563371196,-1.8490542212588523,-0.9960295932103904,0.02314877232934917,1.7212068472548776,1.9013955197338033,-2.35253242851831,0.03040455800019841,0.21563700808987987,-0.4597229928437187,-0.7278607880726488,0.8877592700568671,0.4871704573515719,1.2769068225620719,0.18018462540389163,0.8649699512695074,-0.7445046848660324,-1.2890167760381392,0.5217925979706663,0.9389152424518948,0.9410136911071448,1.5734356802920477,1.4534955851108855,1.6379349099164204,2.051825040464344,-0.8723796481954755,0.6451170978250104,0.7996633553911477,-0.3758811118599081,0.8368783860108395,1.1672923335724237,1.9989574214327248,-0.9803635632487172,1.0272909775625343,-1.6470378469496967,-1.184745488394547,1.240609769403117,2.561043412628804,-0.5143615665306566,0.7449677226155068,-0.6201547168031414,0.6061735043418385,-0.6917606684322949,-0.4568162851669821,-1.4467767829303313,-0.4197208185978394,-0.27718742129594875,0.37837120923512646,1.2126642629518882,0.0393734817792643,-0.26340619911106694,-0.8351980357082801,-0.7959718758615214,0.6618589942538259,-0.4809145778698422,-0.5892785393324456,-0.25863477635135435,-0.6227807044887773,0.6993285851779953,-0.45746330629230986,-1.1643534645330045,1.3236560625253453,-0.6252302065588559,0.3150282283965467,1.137719962772657,0.514273522992465,0.17608458637176752,-0.6721697934374377,-0.9601912730760108,-0.9638044403008365,-0.35406490944069513,0.27014409824766095,0.7873120088931022,-0.4853469923359565,-0.35362079253020634,0.35722262241125424,-0.3869299705042295],\"y\":[1.6962518426992457,-0.982193639127554,-2.1197856966587434,0.38054873370497094,-1.361275653580498,0.3019613106241735,0.5737655133927131,1.0945211359269573,0.5495438835085136,1.0344716229317987,1.5145618337839344,-1.322817574245342,-1.1907820282214117,-0.528632777074625,1.3012340540546952,-1.0689263129920183,-2.84496629837369,0.046135758701366845,-0.24639563344520166,0.25128120296962836,0.36830940996399714,0.12031333614256282,-0.8010686487431482,-1.9327299966087452,0.7590071315508242,0.09728845697523336,-0.6894331452347948,0.11100076999006471,0.8004367772526133,-0.3793003097447568,-0.010050251411239644,-1.157220777492313,0.2488904704855463,0.8320141897637261,-0.12460299783173051,-0.9910263142307557,0.7372791083222395,0.24955057188182372,-0.8396515362306939,-0.6309241374644079,-0.279841188171254,-0.16186589249778788,0.8051370085683334,0.6540567389457904,-1.5798108304946163,0.20639652702521474,0.39333903402492476,-0.4810666724010602,-0.3800959479086856,-0.3077260319677847,1.5208418364763474,0.7892210421725961,1.8591446122703879,1.7034420043231697,-0.10683091684168655,-0.4775338738383854,-1.0079070689317284,-1.0112734900097282,0.7111182117640453,1.0486950375562232,-0.26391919214625303,-0.4113679094580015,-0.2605367678626934,-0.47530461482159114,-0.053143688579886626,2.3967430629102333,1.8709284111420503,0.25187514496472596,-0.02397569055830253,-0.09829431482066459,0.09403916694330741,0.06531118931264279,1.7638042278748831,1.0049939775004493,-0.6137431487150112,0.6570327734296777,-0.6289093946870737,0.5903155802129443,-1.2205401647556249,0.16685846375701371,-0.7512178872411197,0.08940485042033164,0.7271257315355758,-0.8861325348030998,-0.11871209816686926,-1.4093783931195987,-0.1736218521324273,-1.556684785992902,0.2470908600596826,0.056697008587313615,0.7871147589497839,-0.8801147388503565,0.3565693844796211,-0.3783507036715136,-0.5636310145664183,-0.18403442117576474,0.7945894980989373,0.8203119259602427,-0.8631082962731352,0.21257593940078842],\"type\":\"scatter\"}],                        {\"legend\":{\"bgcolor\":\"#F5F6F9\",\"font\":{\"color\":\"#4D5663\"}},\"paper_bgcolor\":\"#F5F6F9\",\"plot_bgcolor\":\"#F5F6F9\",\"template\":{\"data\":{\"barpolar\":[{\"marker\":{\"line\":{\"color\":\"#E5ECF6\",\"width\":0.5},\"pattern\":{\"fillmode\":\"overlay\",\"size\":10,\"solidity\":0.2}},\"type\":\"barpolar\"}],\"bar\":[{\"error_x\":{\"color\":\"#2a3f5f\"},\"error_y\":{\"color\":\"#2a3f5f\"},\"marker\":{\"line\":{\"color\":\"#E5ECF6\",\"width\":0.5},\"pattern\":{\"fillmode\":\"overlay\",\"size\":10,\"solidity\":0.2}},\"type\":\"bar\"}],\"carpet\":[{\"aaxis\":{\"endlinecolor\":\"#2a3f5f\",\"gridcolor\":\"white\",\"linecolor\":\"white\",\"minorgridcolor\":\"white\",\"startlinecolor\":\"#2a3f5f\"},\"baxis\":{\"endlinecolor\":\"#2a3f5f\",\"gridcolor\":\"white\",\"linecolor\":\"white\",\"minorgridcolor\":\"white\",\"startlinecolor\":\"#2a3f5f\"},\"type\":\"carpet\"}],\"choropleth\":[{\"colorbar\":{\"outlinewidth\":0,\"ticks\":\"\"},\"type\":\"choropleth\"}],\"contourcarpet\":[{\"colorbar\":{\"outlinewidth\":0,\"ticks\":\"\"},\"type\":\"contourcarpet\"}],\"contour\":[{\"colorbar\":{\"outlinewidth\":0,\"ticks\":\"\"},\"colorscale\":[[0.0,\"#0d0887\"],[0.1111111111111111,\"#46039f\"],[0.2222222222222222,\"#7201a8\"],[0.3333333333333333,\"#9c179e\"],[0.4444444444444444,\"#bd3786\"],[0.5555555555555556,\"#d8576b\"],[0.6666666666666666,\"#ed7953\"],[0.7777777777777778,\"#fb9f3a\"],[0.8888888888888888,\"#fdca26\"],[1.0,\"#f0f921\"]],\"type\":\"contour\"}],\"heatmapgl\":[{\"colorbar\":{\"outlinewidth\":0,\"ticks\":\"\"},\"colorscale\":[[0.0,\"#0d0887\"],[0.1111111111111111,\"#46039f\"],[0.2222222222222222,\"#7201a8\"],[0.3333333333333333,\"#9c179e\"],[0.4444444444444444,\"#bd3786\"],[0.5555555555555556,\"#d8576b\"],[0.6666666666666666,\"#ed7953\"],[0.7777777777777778,\"#fb9f3a\"],[0.8888888888888888,\"#fdca26\"],[1.0,\"#f0f921\"]],\"type\":\"heatmapgl\"}],\"heatmap\":[{\"colorbar\":{\"outlinewidth\":0,\"ticks\":\"\"},\"colorscale\":[[0.0,\"#0d0887\"],[0.1111111111111111,\"#46039f\"],[0.2222222222222222,\"#7201a8\"],[0.3333333333333333,\"#9c179e\"],[0.4444444444444444,\"#bd3786\"],[0.5555555555555556,\"#d8576b\"],[0.6666666666666666,\"#ed7953\"],[0.7777777777777778,\"#fb9f3a\"],[0.8888888888888888,\"#fdca26\"],[1.0,\"#f0f921\"]],\"type\":\"heatmap\"}],\"histogram2dcontour\":[{\"colorbar\":{\"outlinewidth\":0,\"ticks\":\"\"},\"colorscale\":[[0.0,\"#0d0887\"],[0.1111111111111111,\"#46039f\"],[0.2222222222222222,\"#7201a8\"],[0.3333333333333333,\"#9c179e\"],[0.4444444444444444,\"#bd3786\"],[0.5555555555555556,\"#d8576b\"],[0.6666666666666666,\"#ed7953\"],[0.7777777777777778,\"#fb9f3a\"],[0.8888888888888888,\"#fdca26\"],[1.0,\"#f0f921\"]],\"type\":\"histogram2dcontour\"}],\"histogram2d\":[{\"colorbar\":{\"outlinewidth\":0,\"ticks\":\"\"},\"colorscale\":[[0.0,\"#0d0887\"],[0.1111111111111111,\"#46039f\"],[0.2222222222222222,\"#7201a8\"],[0.3333333333333333,\"#9c179e\"],[0.4444444444444444,\"#bd3786\"],[0.5555555555555556,\"#d8576b\"],[0.6666666666666666,\"#ed7953\"],[0.7777777777777778,\"#fb9f3a\"],[0.8888888888888888,\"#fdca26\"],[1.0,\"#f0f921\"]],\"type\":\"histogram2d\"}],\"histogram\":[{\"marker\":{\"pattern\":{\"fillmode\":\"overlay\",\"size\":10,\"solidity\":0.2}},\"type\":\"histogram\"}],\"mesh3d\":[{\"colorbar\":{\"outlinewidth\":0,\"ticks\":\"\"},\"type\":\"mesh3d\"}],\"parcoords\":[{\"line\":{\"colorbar\":{\"outlinewidth\":0,\"ticks\":\"\"}},\"type\":\"parcoords\"}],\"pie\":[{\"automargin\":true,\"type\":\"pie\"}],\"scatter3d\":[{\"line\":{\"colorbar\":{\"outlinewidth\":0,\"ticks\":\"\"}},\"marker\":{\"colorbar\":{\"outlinewidth\":0,\"ticks\":\"\"}},\"type\":\"scatter3d\"}],\"scattercarpet\":[{\"marker\":{\"colorbar\":{\"outlinewidth\":0,\"ticks\":\"\"}},\"type\":\"scattercarpet\"}],\"scattergeo\":[{\"marker\":{\"colorbar\":{\"outlinewidth\":0,\"ticks\":\"\"}},\"type\":\"scattergeo\"}],\"scattergl\":[{\"marker\":{\"colorbar\":{\"outlinewidth\":0,\"ticks\":\"\"}},\"type\":\"scattergl\"}],\"scattermapbox\":[{\"marker\":{\"colorbar\":{\"outlinewidth\":0,\"ticks\":\"\"}},\"type\":\"scattermapbox\"}],\"scatterpolargl\":[{\"marker\":{\"colorbar\":{\"outlinewidth\":0,\"ticks\":\"\"}},\"type\":\"scatterpolargl\"}],\"scatterpolar\":[{\"marker\":{\"colorbar\":{\"outlinewidth\":0,\"ticks\":\"\"}},\"type\":\"scatterpolar\"}],\"scatter\":[{\"fillpattern\":{\"fillmode\":\"overlay\",\"size\":10,\"solidity\":0.2},\"type\":\"scatter\"}],\"scatterternary\":[{\"marker\":{\"colorbar\":{\"outlinewidth\":0,\"ticks\":\"\"}},\"type\":\"scatterternary\"}],\"surface\":[{\"colorbar\":{\"outlinewidth\":0,\"ticks\":\"\"},\"colorscale\":[[0.0,\"#0d0887\"],[0.1111111111111111,\"#46039f\"],[0.2222222222222222,\"#7201a8\"],[0.3333333333333333,\"#9c179e\"],[0.4444444444444444,\"#bd3786\"],[0.5555555555555556,\"#d8576b\"],[0.6666666666666666,\"#ed7953\"],[0.7777777777777778,\"#fb9f3a\"],[0.8888888888888888,\"#fdca26\"],[1.0,\"#f0f921\"]],\"type\":\"surface\"}],\"table\":[{\"cells\":{\"fill\":{\"color\":\"#EBF0F8\"},\"line\":{\"color\":\"white\"}},\"header\":{\"fill\":{\"color\":\"#C8D4E3\"},\"line\":{\"color\":\"white\"}},\"type\":\"table\"}]},\"layout\":{\"annotationdefaults\":{\"arrowcolor\":\"#2a3f5f\",\"arrowhead\":0,\"arrowwidth\":1},\"autotypenumbers\":\"strict\",\"coloraxis\":{\"colorbar\":{\"outlinewidth\":0,\"ticks\":\"\"}},\"colorscale\":{\"diverging\":[[0,\"#8e0152\"],[0.1,\"#c51b7d\"],[0.2,\"#de77ae\"],[0.3,\"#f1b6da\"],[0.4,\"#fde0ef\"],[0.5,\"#f7f7f7\"],[0.6,\"#e6f5d0\"],[0.7,\"#b8e186\"],[0.8,\"#7fbc41\"],[0.9,\"#4d9221\"],[1,\"#276419\"]],\"sequential\":[[0.0,\"#0d0887\"],[0.1111111111111111,\"#46039f\"],[0.2222222222222222,\"#7201a8\"],[0.3333333333333333,\"#9c179e\"],[0.4444444444444444,\"#bd3786\"],[0.5555555555555556,\"#d8576b\"],[0.6666666666666666,\"#ed7953\"],[0.7777777777777778,\"#fb9f3a\"],[0.8888888888888888,\"#fdca26\"],[1.0,\"#f0f921\"]],\"sequentialminus\":[[0.0,\"#0d0887\"],[0.1111111111111111,\"#46039f\"],[0.2222222222222222,\"#7201a8\"],[0.3333333333333333,\"#9c179e\"],[0.4444444444444444,\"#bd3786\"],[0.5555555555555556,\"#d8576b\"],[0.6666666666666666,\"#ed7953\"],[0.7777777777777778,\"#fb9f3a\"],[0.8888888888888888,\"#fdca26\"],[1.0,\"#f0f921\"]]},\"colorway\":[\"#636efa\",\"#EF553B\",\"#00cc96\",\"#ab63fa\",\"#FFA15A\",\"#19d3f3\",\"#FF6692\",\"#B6E880\",\"#FF97FF\",\"#FECB52\"],\"font\":{\"color\":\"#2a3f5f\"},\"geo\":{\"bgcolor\":\"white\",\"lakecolor\":\"white\",\"landcolor\":\"#E5ECF6\",\"showlakes\":true,\"showland\":true,\"subunitcolor\":\"white\"},\"hoverlabel\":{\"align\":\"left\"},\"hovermode\":\"closest\",\"mapbox\":{\"style\":\"light\"},\"paper_bgcolor\":\"white\",\"plot_bgcolor\":\"#E5ECF6\",\"polar\":{\"angularaxis\":{\"gridcolor\":\"white\",\"linecolor\":\"white\",\"ticks\":\"\"},\"bgcolor\":\"#E5ECF6\",\"radialaxis\":{\"gridcolor\":\"white\",\"linecolor\":\"white\",\"ticks\":\"\"}},\"scene\":{\"xaxis\":{\"backgroundcolor\":\"#E5ECF6\",\"gridcolor\":\"white\",\"gridwidth\":2,\"linecolor\":\"white\",\"showbackground\":true,\"ticks\":\"\",\"zerolinecolor\":\"white\"},\"yaxis\":{\"backgroundcolor\":\"#E5ECF6\",\"gridcolor\":\"white\",\"gridwidth\":2,\"linecolor\":\"white\",\"showbackground\":true,\"ticks\":\"\",\"zerolinecolor\":\"white\"},\"zaxis\":{\"backgroundcolor\":\"#E5ECF6\",\"gridcolor\":\"white\",\"gridwidth\":2,\"linecolor\":\"white\",\"showbackground\":true,\"ticks\":\"\",\"zerolinecolor\":\"white\"}},\"shapedefaults\":{\"line\":{\"color\":\"#2a3f5f\"}},\"ternary\":{\"aaxis\":{\"gridcolor\":\"white\",\"linecolor\":\"white\",\"ticks\":\"\"},\"baxis\":{\"gridcolor\":\"white\",\"linecolor\":\"white\",\"ticks\":\"\"},\"bgcolor\":\"#E5ECF6\",\"caxis\":{\"gridcolor\":\"white\",\"linecolor\":\"white\",\"ticks\":\"\"}},\"title\":{\"x\":0.05},\"xaxis\":{\"automargin\":true,\"gridcolor\":\"white\",\"linecolor\":\"white\",\"ticks\":\"\",\"title\":{\"standoff\":15},\"zerolinecolor\":\"white\",\"zerolinewidth\":2},\"yaxis\":{\"automargin\":true,\"gridcolor\":\"white\",\"linecolor\":\"white\",\"ticks\":\"\",\"title\":{\"standoff\":15},\"zerolinecolor\":\"white\",\"zerolinewidth\":2}}},\"title\":{\"font\":{\"color\":\"#4D5663\"}},\"xaxis\":{\"gridcolor\":\"#E1E5ED\",\"showgrid\":true,\"tickfont\":{\"color\":\"#4D5663\"},\"title\":{\"font\":{\"color\":\"#4D5663\"},\"text\":\"\"},\"zerolinecolor\":\"#E1E5ED\"},\"yaxis\":{\"gridcolor\":\"#E1E5ED\",\"showgrid\":true,\"tickfont\":{\"color\":\"#4D5663\"},\"title\":{\"font\":{\"color\":\"#4D5663\"},\"text\":\"\"},\"zerolinecolor\":\"#E1E5ED\"}},                        {\"showLink\": true, \"linkText\": \"Export to plot.ly\", \"plotlyServerURL\": \"https://plot.ly\", \"responsive\": true}                    ).then(function(){\n",
       "                            \n",
       "var gd = document.getElementById('c48e0d1a-b9ce-4263-a89f-29cd6290a802');\n",
       "var x = new MutationObserver(function (mutations, observer) {{\n",
       "        var display = window.getComputedStyle(gd).display;\n",
       "        if (!display || display === 'none') {{\n",
       "            console.log([gd, 'removed!']);\n",
       "            Plotly.purge(gd);\n",
       "            observer.disconnect();\n",
       "        }}\n",
       "}});\n",
       "\n",
       "// Listen for the removal of the full notebook cells\n",
       "var notebookContainer = gd.closest('#notebook-container');\n",
       "if (notebookContainer) {{\n",
       "    x.observe(notebookContainer, {childList: true});\n",
       "}}\n",
       "\n",
       "// Listen for the clearing of the current output cell\n",
       "var outputEl = gd.closest('.output');\n",
       "if (outputEl) {{\n",
       "    x.observe(outputEl, {childList: true});\n",
       "}}\n",
       "\n",
       "                        })                };                });            </script>        </div>"
      ]
     },
     "metadata": {},
     "output_type": "display_data"
    }
   ],
   "source": [
    "df.iplot(kind='scatter', x='A', y='B', mode='markers', size=10)"
   ]
  },
  {
   "cell_type": "code",
   "execution_count": 22,
   "id": "8d077e2b",
   "metadata": {},
   "outputs": [
    {
     "data": {
      "application/vnd.plotly.v1+json": {
       "config": {
        "linkText": "Export to plot.ly",
        "plotlyServerURL": "https://plot.ly",
        "showLink": true
       },
       "data": [
        {
         "marker": {
          "color": "rgba(255, 153, 51, 0.6)",
          "line": {
           "color": "rgba(255, 153, 51, 1.0)",
           "width": 1
          }
         },
         "name": "Values",
         "orientation": "v",
         "text": "",
         "type": "bar",
         "x": [
          "A",
          "B",
          "C"
         ],
         "y": [
          32,
          43,
          50
         ]
        }
       ],
       "layout": {
        "legend": {
         "bgcolor": "#F5F6F9",
         "font": {
          "color": "#4D5663"
         }
        },
        "paper_bgcolor": "#F5F6F9",
        "plot_bgcolor": "#F5F6F9",
        "template": {
         "data": {
          "bar": [
           {
            "error_x": {
             "color": "#2a3f5f"
            },
            "error_y": {
             "color": "#2a3f5f"
            },
            "marker": {
             "line": {
              "color": "#E5ECF6",
              "width": 0.5
             },
             "pattern": {
              "fillmode": "overlay",
              "size": 10,
              "solidity": 0.2
             }
            },
            "type": "bar"
           }
          ],
          "barpolar": [
           {
            "marker": {
             "line": {
              "color": "#E5ECF6",
              "width": 0.5
             },
             "pattern": {
              "fillmode": "overlay",
              "size": 10,
              "solidity": 0.2
             }
            },
            "type": "barpolar"
           }
          ],
          "carpet": [
           {
            "aaxis": {
             "endlinecolor": "#2a3f5f",
             "gridcolor": "white",
             "linecolor": "white",
             "minorgridcolor": "white",
             "startlinecolor": "#2a3f5f"
            },
            "baxis": {
             "endlinecolor": "#2a3f5f",
             "gridcolor": "white",
             "linecolor": "white",
             "minorgridcolor": "white",
             "startlinecolor": "#2a3f5f"
            },
            "type": "carpet"
           }
          ],
          "choropleth": [
           {
            "colorbar": {
             "outlinewidth": 0,
             "ticks": ""
            },
            "type": "choropleth"
           }
          ],
          "contour": [
           {
            "colorbar": {
             "outlinewidth": 0,
             "ticks": ""
            },
            "colorscale": [
             [
              0,
              "#0d0887"
             ],
             [
              0.1111111111111111,
              "#46039f"
             ],
             [
              0.2222222222222222,
              "#7201a8"
             ],
             [
              0.3333333333333333,
              "#9c179e"
             ],
             [
              0.4444444444444444,
              "#bd3786"
             ],
             [
              0.5555555555555556,
              "#d8576b"
             ],
             [
              0.6666666666666666,
              "#ed7953"
             ],
             [
              0.7777777777777778,
              "#fb9f3a"
             ],
             [
              0.8888888888888888,
              "#fdca26"
             ],
             [
              1,
              "#f0f921"
             ]
            ],
            "type": "contour"
           }
          ],
          "contourcarpet": [
           {
            "colorbar": {
             "outlinewidth": 0,
             "ticks": ""
            },
            "type": "contourcarpet"
           }
          ],
          "heatmap": [
           {
            "colorbar": {
             "outlinewidth": 0,
             "ticks": ""
            },
            "colorscale": [
             [
              0,
              "#0d0887"
             ],
             [
              0.1111111111111111,
              "#46039f"
             ],
             [
              0.2222222222222222,
              "#7201a8"
             ],
             [
              0.3333333333333333,
              "#9c179e"
             ],
             [
              0.4444444444444444,
              "#bd3786"
             ],
             [
              0.5555555555555556,
              "#d8576b"
             ],
             [
              0.6666666666666666,
              "#ed7953"
             ],
             [
              0.7777777777777778,
              "#fb9f3a"
             ],
             [
              0.8888888888888888,
              "#fdca26"
             ],
             [
              1,
              "#f0f921"
             ]
            ],
            "type": "heatmap"
           }
          ],
          "heatmapgl": [
           {
            "colorbar": {
             "outlinewidth": 0,
             "ticks": ""
            },
            "colorscale": [
             [
              0,
              "#0d0887"
             ],
             [
              0.1111111111111111,
              "#46039f"
             ],
             [
              0.2222222222222222,
              "#7201a8"
             ],
             [
              0.3333333333333333,
              "#9c179e"
             ],
             [
              0.4444444444444444,
              "#bd3786"
             ],
             [
              0.5555555555555556,
              "#d8576b"
             ],
             [
              0.6666666666666666,
              "#ed7953"
             ],
             [
              0.7777777777777778,
              "#fb9f3a"
             ],
             [
              0.8888888888888888,
              "#fdca26"
             ],
             [
              1,
              "#f0f921"
             ]
            ],
            "type": "heatmapgl"
           }
          ],
          "histogram": [
           {
            "marker": {
             "pattern": {
              "fillmode": "overlay",
              "size": 10,
              "solidity": 0.2
             }
            },
            "type": "histogram"
           }
          ],
          "histogram2d": [
           {
            "colorbar": {
             "outlinewidth": 0,
             "ticks": ""
            },
            "colorscale": [
             [
              0,
              "#0d0887"
             ],
             [
              0.1111111111111111,
              "#46039f"
             ],
             [
              0.2222222222222222,
              "#7201a8"
             ],
             [
              0.3333333333333333,
              "#9c179e"
             ],
             [
              0.4444444444444444,
              "#bd3786"
             ],
             [
              0.5555555555555556,
              "#d8576b"
             ],
             [
              0.6666666666666666,
              "#ed7953"
             ],
             [
              0.7777777777777778,
              "#fb9f3a"
             ],
             [
              0.8888888888888888,
              "#fdca26"
             ],
             [
              1,
              "#f0f921"
             ]
            ],
            "type": "histogram2d"
           }
          ],
          "histogram2dcontour": [
           {
            "colorbar": {
             "outlinewidth": 0,
             "ticks": ""
            },
            "colorscale": [
             [
              0,
              "#0d0887"
             ],
             [
              0.1111111111111111,
              "#46039f"
             ],
             [
              0.2222222222222222,
              "#7201a8"
             ],
             [
              0.3333333333333333,
              "#9c179e"
             ],
             [
              0.4444444444444444,
              "#bd3786"
             ],
             [
              0.5555555555555556,
              "#d8576b"
             ],
             [
              0.6666666666666666,
              "#ed7953"
             ],
             [
              0.7777777777777778,
              "#fb9f3a"
             ],
             [
              0.8888888888888888,
              "#fdca26"
             ],
             [
              1,
              "#f0f921"
             ]
            ],
            "type": "histogram2dcontour"
           }
          ],
          "mesh3d": [
           {
            "colorbar": {
             "outlinewidth": 0,
             "ticks": ""
            },
            "type": "mesh3d"
           }
          ],
          "parcoords": [
           {
            "line": {
             "colorbar": {
              "outlinewidth": 0,
              "ticks": ""
             }
            },
            "type": "parcoords"
           }
          ],
          "pie": [
           {
            "automargin": true,
            "type": "pie"
           }
          ],
          "scatter": [
           {
            "fillpattern": {
             "fillmode": "overlay",
             "size": 10,
             "solidity": 0.2
            },
            "type": "scatter"
           }
          ],
          "scatter3d": [
           {
            "line": {
             "colorbar": {
              "outlinewidth": 0,
              "ticks": ""
             }
            },
            "marker": {
             "colorbar": {
              "outlinewidth": 0,
              "ticks": ""
             }
            },
            "type": "scatter3d"
           }
          ],
          "scattercarpet": [
           {
            "marker": {
             "colorbar": {
              "outlinewidth": 0,
              "ticks": ""
             }
            },
            "type": "scattercarpet"
           }
          ],
          "scattergeo": [
           {
            "marker": {
             "colorbar": {
              "outlinewidth": 0,
              "ticks": ""
             }
            },
            "type": "scattergeo"
           }
          ],
          "scattergl": [
           {
            "marker": {
             "colorbar": {
              "outlinewidth": 0,
              "ticks": ""
             }
            },
            "type": "scattergl"
           }
          ],
          "scattermapbox": [
           {
            "marker": {
             "colorbar": {
              "outlinewidth": 0,
              "ticks": ""
             }
            },
            "type": "scattermapbox"
           }
          ],
          "scatterpolar": [
           {
            "marker": {
             "colorbar": {
              "outlinewidth": 0,
              "ticks": ""
             }
            },
            "type": "scatterpolar"
           }
          ],
          "scatterpolargl": [
           {
            "marker": {
             "colorbar": {
              "outlinewidth": 0,
              "ticks": ""
             }
            },
            "type": "scatterpolargl"
           }
          ],
          "scatterternary": [
           {
            "marker": {
             "colorbar": {
              "outlinewidth": 0,
              "ticks": ""
             }
            },
            "type": "scatterternary"
           }
          ],
          "surface": [
           {
            "colorbar": {
             "outlinewidth": 0,
             "ticks": ""
            },
            "colorscale": [
             [
              0,
              "#0d0887"
             ],
             [
              0.1111111111111111,
              "#46039f"
             ],
             [
              0.2222222222222222,
              "#7201a8"
             ],
             [
              0.3333333333333333,
              "#9c179e"
             ],
             [
              0.4444444444444444,
              "#bd3786"
             ],
             [
              0.5555555555555556,
              "#d8576b"
             ],
             [
              0.6666666666666666,
              "#ed7953"
             ],
             [
              0.7777777777777778,
              "#fb9f3a"
             ],
             [
              0.8888888888888888,
              "#fdca26"
             ],
             [
              1,
              "#f0f921"
             ]
            ],
            "type": "surface"
           }
          ],
          "table": [
           {
            "cells": {
             "fill": {
              "color": "#EBF0F8"
             },
             "line": {
              "color": "white"
             }
            },
            "header": {
             "fill": {
              "color": "#C8D4E3"
             },
             "line": {
              "color": "white"
             }
            },
            "type": "table"
           }
          ]
         },
         "layout": {
          "annotationdefaults": {
           "arrowcolor": "#2a3f5f",
           "arrowhead": 0,
           "arrowwidth": 1
          },
          "autotypenumbers": "strict",
          "coloraxis": {
           "colorbar": {
            "outlinewidth": 0,
            "ticks": ""
           }
          },
          "colorscale": {
           "diverging": [
            [
             0,
             "#8e0152"
            ],
            [
             0.1,
             "#c51b7d"
            ],
            [
             0.2,
             "#de77ae"
            ],
            [
             0.3,
             "#f1b6da"
            ],
            [
             0.4,
             "#fde0ef"
            ],
            [
             0.5,
             "#f7f7f7"
            ],
            [
             0.6,
             "#e6f5d0"
            ],
            [
             0.7,
             "#b8e186"
            ],
            [
             0.8,
             "#7fbc41"
            ],
            [
             0.9,
             "#4d9221"
            ],
            [
             1,
             "#276419"
            ]
           ],
           "sequential": [
            [
             0,
             "#0d0887"
            ],
            [
             0.1111111111111111,
             "#46039f"
            ],
            [
             0.2222222222222222,
             "#7201a8"
            ],
            [
             0.3333333333333333,
             "#9c179e"
            ],
            [
             0.4444444444444444,
             "#bd3786"
            ],
            [
             0.5555555555555556,
             "#d8576b"
            ],
            [
             0.6666666666666666,
             "#ed7953"
            ],
            [
             0.7777777777777778,
             "#fb9f3a"
            ],
            [
             0.8888888888888888,
             "#fdca26"
            ],
            [
             1,
             "#f0f921"
            ]
           ],
           "sequentialminus": [
            [
             0,
             "#0d0887"
            ],
            [
             0.1111111111111111,
             "#46039f"
            ],
            [
             0.2222222222222222,
             "#7201a8"
            ],
            [
             0.3333333333333333,
             "#9c179e"
            ],
            [
             0.4444444444444444,
             "#bd3786"
            ],
            [
             0.5555555555555556,
             "#d8576b"
            ],
            [
             0.6666666666666666,
             "#ed7953"
            ],
            [
             0.7777777777777778,
             "#fb9f3a"
            ],
            [
             0.8888888888888888,
             "#fdca26"
            ],
            [
             1,
             "#f0f921"
            ]
           ]
          },
          "colorway": [
           "#636efa",
           "#EF553B",
           "#00cc96",
           "#ab63fa",
           "#FFA15A",
           "#19d3f3",
           "#FF6692",
           "#B6E880",
           "#FF97FF",
           "#FECB52"
          ],
          "font": {
           "color": "#2a3f5f"
          },
          "geo": {
           "bgcolor": "white",
           "lakecolor": "white",
           "landcolor": "#E5ECF6",
           "showlakes": true,
           "showland": true,
           "subunitcolor": "white"
          },
          "hoverlabel": {
           "align": "left"
          },
          "hovermode": "closest",
          "mapbox": {
           "style": "light"
          },
          "paper_bgcolor": "white",
          "plot_bgcolor": "#E5ECF6",
          "polar": {
           "angularaxis": {
            "gridcolor": "white",
            "linecolor": "white",
            "ticks": ""
           },
           "bgcolor": "#E5ECF6",
           "radialaxis": {
            "gridcolor": "white",
            "linecolor": "white",
            "ticks": ""
           }
          },
          "scene": {
           "xaxis": {
            "backgroundcolor": "#E5ECF6",
            "gridcolor": "white",
            "gridwidth": 2,
            "linecolor": "white",
            "showbackground": true,
            "ticks": "",
            "zerolinecolor": "white"
           },
           "yaxis": {
            "backgroundcolor": "#E5ECF6",
            "gridcolor": "white",
            "gridwidth": 2,
            "linecolor": "white",
            "showbackground": true,
            "ticks": "",
            "zerolinecolor": "white"
           },
           "zaxis": {
            "backgroundcolor": "#E5ECF6",
            "gridcolor": "white",
            "gridwidth": 2,
            "linecolor": "white",
            "showbackground": true,
            "ticks": "",
            "zerolinecolor": "white"
           }
          },
          "shapedefaults": {
           "line": {
            "color": "#2a3f5f"
           }
          },
          "ternary": {
           "aaxis": {
            "gridcolor": "white",
            "linecolor": "white",
            "ticks": ""
           },
           "baxis": {
            "gridcolor": "white",
            "linecolor": "white",
            "ticks": ""
           },
           "bgcolor": "#E5ECF6",
           "caxis": {
            "gridcolor": "white",
            "linecolor": "white",
            "ticks": ""
           }
          },
          "title": {
           "x": 0.05
          },
          "xaxis": {
           "automargin": true,
           "gridcolor": "white",
           "linecolor": "white",
           "ticks": "",
           "title": {
            "standoff": 15
           },
           "zerolinecolor": "white",
           "zerolinewidth": 2
          },
          "yaxis": {
           "automargin": true,
           "gridcolor": "white",
           "linecolor": "white",
           "ticks": "",
           "title": {
            "standoff": 15
           },
           "zerolinecolor": "white",
           "zerolinewidth": 2
          }
         }
        },
        "title": {
         "font": {
          "color": "#4D5663"
         }
        },
        "xaxis": {
         "gridcolor": "#E1E5ED",
         "showgrid": true,
         "tickfont": {
          "color": "#4D5663"
         },
         "title": {
          "font": {
           "color": "#4D5663"
          },
          "text": ""
         },
         "zerolinecolor": "#E1E5ED"
        },
        "yaxis": {
         "gridcolor": "#E1E5ED",
         "showgrid": true,
         "tickfont": {
          "color": "#4D5663"
         },
         "title": {
          "font": {
           "color": "#4D5663"
          },
          "text": ""
         },
         "zerolinecolor": "#E1E5ED"
        }
       }
      },
      "text/html": [
       "<div>                            <div id=\"0d6ab7d3-ed3c-498e-bd0c-8d3f2c5888b9\" class=\"plotly-graph-div\" style=\"height:525px; width:100%;\"></div>            <script type=\"text/javascript\">                require([\"plotly\"], function(Plotly) {                    window.PLOTLYENV=window.PLOTLYENV || {};\n",
       "                    window.PLOTLYENV.BASE_URL='https://plot.ly';                                    if (document.getElementById(\"0d6ab7d3-ed3c-498e-bd0c-8d3f2c5888b9\")) {                    Plotly.newPlot(                        \"0d6ab7d3-ed3c-498e-bd0c-8d3f2c5888b9\",                        [{\"marker\":{\"color\":\"rgba(255, 153, 51, 0.6)\",\"line\":{\"color\":\"rgba(255, 153, 51, 1.0)\",\"width\":1}},\"name\":\"Values\",\"orientation\":\"v\",\"text\":\"\",\"x\":[\"A\",\"B\",\"C\"],\"y\":[32,43,50],\"type\":\"bar\"}],                        {\"legend\":{\"bgcolor\":\"#F5F6F9\",\"font\":{\"color\":\"#4D5663\"}},\"paper_bgcolor\":\"#F5F6F9\",\"plot_bgcolor\":\"#F5F6F9\",\"template\":{\"data\":{\"barpolar\":[{\"marker\":{\"line\":{\"color\":\"#E5ECF6\",\"width\":0.5},\"pattern\":{\"fillmode\":\"overlay\",\"size\":10,\"solidity\":0.2}},\"type\":\"barpolar\"}],\"bar\":[{\"error_x\":{\"color\":\"#2a3f5f\"},\"error_y\":{\"color\":\"#2a3f5f\"},\"marker\":{\"line\":{\"color\":\"#E5ECF6\",\"width\":0.5},\"pattern\":{\"fillmode\":\"overlay\",\"size\":10,\"solidity\":0.2}},\"type\":\"bar\"}],\"carpet\":[{\"aaxis\":{\"endlinecolor\":\"#2a3f5f\",\"gridcolor\":\"white\",\"linecolor\":\"white\",\"minorgridcolor\":\"white\",\"startlinecolor\":\"#2a3f5f\"},\"baxis\":{\"endlinecolor\":\"#2a3f5f\",\"gridcolor\":\"white\",\"linecolor\":\"white\",\"minorgridcolor\":\"white\",\"startlinecolor\":\"#2a3f5f\"},\"type\":\"carpet\"}],\"choropleth\":[{\"colorbar\":{\"outlinewidth\":0,\"ticks\":\"\"},\"type\":\"choropleth\"}],\"contourcarpet\":[{\"colorbar\":{\"outlinewidth\":0,\"ticks\":\"\"},\"type\":\"contourcarpet\"}],\"contour\":[{\"colorbar\":{\"outlinewidth\":0,\"ticks\":\"\"},\"colorscale\":[[0.0,\"#0d0887\"],[0.1111111111111111,\"#46039f\"],[0.2222222222222222,\"#7201a8\"],[0.3333333333333333,\"#9c179e\"],[0.4444444444444444,\"#bd3786\"],[0.5555555555555556,\"#d8576b\"],[0.6666666666666666,\"#ed7953\"],[0.7777777777777778,\"#fb9f3a\"],[0.8888888888888888,\"#fdca26\"],[1.0,\"#f0f921\"]],\"type\":\"contour\"}],\"heatmapgl\":[{\"colorbar\":{\"outlinewidth\":0,\"ticks\":\"\"},\"colorscale\":[[0.0,\"#0d0887\"],[0.1111111111111111,\"#46039f\"],[0.2222222222222222,\"#7201a8\"],[0.3333333333333333,\"#9c179e\"],[0.4444444444444444,\"#bd3786\"],[0.5555555555555556,\"#d8576b\"],[0.6666666666666666,\"#ed7953\"],[0.7777777777777778,\"#fb9f3a\"],[0.8888888888888888,\"#fdca26\"],[1.0,\"#f0f921\"]],\"type\":\"heatmapgl\"}],\"heatmap\":[{\"colorbar\":{\"outlinewidth\":0,\"ticks\":\"\"},\"colorscale\":[[0.0,\"#0d0887\"],[0.1111111111111111,\"#46039f\"],[0.2222222222222222,\"#7201a8\"],[0.3333333333333333,\"#9c179e\"],[0.4444444444444444,\"#bd3786\"],[0.5555555555555556,\"#d8576b\"],[0.6666666666666666,\"#ed7953\"],[0.7777777777777778,\"#fb9f3a\"],[0.8888888888888888,\"#fdca26\"],[1.0,\"#f0f921\"]],\"type\":\"heatmap\"}],\"histogram2dcontour\":[{\"colorbar\":{\"outlinewidth\":0,\"ticks\":\"\"},\"colorscale\":[[0.0,\"#0d0887\"],[0.1111111111111111,\"#46039f\"],[0.2222222222222222,\"#7201a8\"],[0.3333333333333333,\"#9c179e\"],[0.4444444444444444,\"#bd3786\"],[0.5555555555555556,\"#d8576b\"],[0.6666666666666666,\"#ed7953\"],[0.7777777777777778,\"#fb9f3a\"],[0.8888888888888888,\"#fdca26\"],[1.0,\"#f0f921\"]],\"type\":\"histogram2dcontour\"}],\"histogram2d\":[{\"colorbar\":{\"outlinewidth\":0,\"ticks\":\"\"},\"colorscale\":[[0.0,\"#0d0887\"],[0.1111111111111111,\"#46039f\"],[0.2222222222222222,\"#7201a8\"],[0.3333333333333333,\"#9c179e\"],[0.4444444444444444,\"#bd3786\"],[0.5555555555555556,\"#d8576b\"],[0.6666666666666666,\"#ed7953\"],[0.7777777777777778,\"#fb9f3a\"],[0.8888888888888888,\"#fdca26\"],[1.0,\"#f0f921\"]],\"type\":\"histogram2d\"}],\"histogram\":[{\"marker\":{\"pattern\":{\"fillmode\":\"overlay\",\"size\":10,\"solidity\":0.2}},\"type\":\"histogram\"}],\"mesh3d\":[{\"colorbar\":{\"outlinewidth\":0,\"ticks\":\"\"},\"type\":\"mesh3d\"}],\"parcoords\":[{\"line\":{\"colorbar\":{\"outlinewidth\":0,\"ticks\":\"\"}},\"type\":\"parcoords\"}],\"pie\":[{\"automargin\":true,\"type\":\"pie\"}],\"scatter3d\":[{\"line\":{\"colorbar\":{\"outlinewidth\":0,\"ticks\":\"\"}},\"marker\":{\"colorbar\":{\"outlinewidth\":0,\"ticks\":\"\"}},\"type\":\"scatter3d\"}],\"scattercarpet\":[{\"marker\":{\"colorbar\":{\"outlinewidth\":0,\"ticks\":\"\"}},\"type\":\"scattercarpet\"}],\"scattergeo\":[{\"marker\":{\"colorbar\":{\"outlinewidth\":0,\"ticks\":\"\"}},\"type\":\"scattergeo\"}],\"scattergl\":[{\"marker\":{\"colorbar\":{\"outlinewidth\":0,\"ticks\":\"\"}},\"type\":\"scattergl\"}],\"scattermapbox\":[{\"marker\":{\"colorbar\":{\"outlinewidth\":0,\"ticks\":\"\"}},\"type\":\"scattermapbox\"}],\"scatterpolargl\":[{\"marker\":{\"colorbar\":{\"outlinewidth\":0,\"ticks\":\"\"}},\"type\":\"scatterpolargl\"}],\"scatterpolar\":[{\"marker\":{\"colorbar\":{\"outlinewidth\":0,\"ticks\":\"\"}},\"type\":\"scatterpolar\"}],\"scatter\":[{\"fillpattern\":{\"fillmode\":\"overlay\",\"size\":10,\"solidity\":0.2},\"type\":\"scatter\"}],\"scatterternary\":[{\"marker\":{\"colorbar\":{\"outlinewidth\":0,\"ticks\":\"\"}},\"type\":\"scatterternary\"}],\"surface\":[{\"colorbar\":{\"outlinewidth\":0,\"ticks\":\"\"},\"colorscale\":[[0.0,\"#0d0887\"],[0.1111111111111111,\"#46039f\"],[0.2222222222222222,\"#7201a8\"],[0.3333333333333333,\"#9c179e\"],[0.4444444444444444,\"#bd3786\"],[0.5555555555555556,\"#d8576b\"],[0.6666666666666666,\"#ed7953\"],[0.7777777777777778,\"#fb9f3a\"],[0.8888888888888888,\"#fdca26\"],[1.0,\"#f0f921\"]],\"type\":\"surface\"}],\"table\":[{\"cells\":{\"fill\":{\"color\":\"#EBF0F8\"},\"line\":{\"color\":\"white\"}},\"header\":{\"fill\":{\"color\":\"#C8D4E3\"},\"line\":{\"color\":\"white\"}},\"type\":\"table\"}]},\"layout\":{\"annotationdefaults\":{\"arrowcolor\":\"#2a3f5f\",\"arrowhead\":0,\"arrowwidth\":1},\"autotypenumbers\":\"strict\",\"coloraxis\":{\"colorbar\":{\"outlinewidth\":0,\"ticks\":\"\"}},\"colorscale\":{\"diverging\":[[0,\"#8e0152\"],[0.1,\"#c51b7d\"],[0.2,\"#de77ae\"],[0.3,\"#f1b6da\"],[0.4,\"#fde0ef\"],[0.5,\"#f7f7f7\"],[0.6,\"#e6f5d0\"],[0.7,\"#b8e186\"],[0.8,\"#7fbc41\"],[0.9,\"#4d9221\"],[1,\"#276419\"]],\"sequential\":[[0.0,\"#0d0887\"],[0.1111111111111111,\"#46039f\"],[0.2222222222222222,\"#7201a8\"],[0.3333333333333333,\"#9c179e\"],[0.4444444444444444,\"#bd3786\"],[0.5555555555555556,\"#d8576b\"],[0.6666666666666666,\"#ed7953\"],[0.7777777777777778,\"#fb9f3a\"],[0.8888888888888888,\"#fdca26\"],[1.0,\"#f0f921\"]],\"sequentialminus\":[[0.0,\"#0d0887\"],[0.1111111111111111,\"#46039f\"],[0.2222222222222222,\"#7201a8\"],[0.3333333333333333,\"#9c179e\"],[0.4444444444444444,\"#bd3786\"],[0.5555555555555556,\"#d8576b\"],[0.6666666666666666,\"#ed7953\"],[0.7777777777777778,\"#fb9f3a\"],[0.8888888888888888,\"#fdca26\"],[1.0,\"#f0f921\"]]},\"colorway\":[\"#636efa\",\"#EF553B\",\"#00cc96\",\"#ab63fa\",\"#FFA15A\",\"#19d3f3\",\"#FF6692\",\"#B6E880\",\"#FF97FF\",\"#FECB52\"],\"font\":{\"color\":\"#2a3f5f\"},\"geo\":{\"bgcolor\":\"white\",\"lakecolor\":\"white\",\"landcolor\":\"#E5ECF6\",\"showlakes\":true,\"showland\":true,\"subunitcolor\":\"white\"},\"hoverlabel\":{\"align\":\"left\"},\"hovermode\":\"closest\",\"mapbox\":{\"style\":\"light\"},\"paper_bgcolor\":\"white\",\"plot_bgcolor\":\"#E5ECF6\",\"polar\":{\"angularaxis\":{\"gridcolor\":\"white\",\"linecolor\":\"white\",\"ticks\":\"\"},\"bgcolor\":\"#E5ECF6\",\"radialaxis\":{\"gridcolor\":\"white\",\"linecolor\":\"white\",\"ticks\":\"\"}},\"scene\":{\"xaxis\":{\"backgroundcolor\":\"#E5ECF6\",\"gridcolor\":\"white\",\"gridwidth\":2,\"linecolor\":\"white\",\"showbackground\":true,\"ticks\":\"\",\"zerolinecolor\":\"white\"},\"yaxis\":{\"backgroundcolor\":\"#E5ECF6\",\"gridcolor\":\"white\",\"gridwidth\":2,\"linecolor\":\"white\",\"showbackground\":true,\"ticks\":\"\",\"zerolinecolor\":\"white\"},\"zaxis\":{\"backgroundcolor\":\"#E5ECF6\",\"gridcolor\":\"white\",\"gridwidth\":2,\"linecolor\":\"white\",\"showbackground\":true,\"ticks\":\"\",\"zerolinecolor\":\"white\"}},\"shapedefaults\":{\"line\":{\"color\":\"#2a3f5f\"}},\"ternary\":{\"aaxis\":{\"gridcolor\":\"white\",\"linecolor\":\"white\",\"ticks\":\"\"},\"baxis\":{\"gridcolor\":\"white\",\"linecolor\":\"white\",\"ticks\":\"\"},\"bgcolor\":\"#E5ECF6\",\"caxis\":{\"gridcolor\":\"white\",\"linecolor\":\"white\",\"ticks\":\"\"}},\"title\":{\"x\":0.05},\"xaxis\":{\"automargin\":true,\"gridcolor\":\"white\",\"linecolor\":\"white\",\"ticks\":\"\",\"title\":{\"standoff\":15},\"zerolinecolor\":\"white\",\"zerolinewidth\":2},\"yaxis\":{\"automargin\":true,\"gridcolor\":\"white\",\"linecolor\":\"white\",\"ticks\":\"\",\"title\":{\"standoff\":15},\"zerolinecolor\":\"white\",\"zerolinewidth\":2}}},\"title\":{\"font\":{\"color\":\"#4D5663\"}},\"xaxis\":{\"gridcolor\":\"#E1E5ED\",\"showgrid\":true,\"tickfont\":{\"color\":\"#4D5663\"},\"title\":{\"font\":{\"color\":\"#4D5663\"},\"text\":\"\"},\"zerolinecolor\":\"#E1E5ED\"},\"yaxis\":{\"gridcolor\":\"#E1E5ED\",\"showgrid\":true,\"tickfont\":{\"color\":\"#4D5663\"},\"title\":{\"font\":{\"color\":\"#4D5663\"},\"text\":\"\"},\"zerolinecolor\":\"#E1E5ED\"}},                        {\"showLink\": true, \"linkText\": \"Export to plot.ly\", \"plotlyServerURL\": \"https://plot.ly\", \"responsive\": true}                    ).then(function(){\n",
       "                            \n",
       "var gd = document.getElementById('0d6ab7d3-ed3c-498e-bd0c-8d3f2c5888b9');\n",
       "var x = new MutationObserver(function (mutations, observer) {{\n",
       "        var display = window.getComputedStyle(gd).display;\n",
       "        if (!display || display === 'none') {{\n",
       "            console.log([gd, 'removed!']);\n",
       "            Plotly.purge(gd);\n",
       "            observer.disconnect();\n",
       "        }}\n",
       "}});\n",
       "\n",
       "// Listen for the removal of the full notebook cells\n",
       "var notebookContainer = gd.closest('#notebook-container');\n",
       "if (notebookContainer) {{\n",
       "    x.observe(notebookContainer, {childList: true});\n",
       "}}\n",
       "\n",
       "// Listen for the clearing of the current output cell\n",
       "var outputEl = gd.closest('.output');\n",
       "if (outputEl) {{\n",
       "    x.observe(outputEl, {childList: true});\n",
       "}}\n",
       "\n",
       "                        })                };                });            </script>        </div>"
      ]
     },
     "metadata": {},
     "output_type": "display_data"
    }
   ],
   "source": [
    "df2.iplot(kind='bar', x='Category', y='Values', mode='markers', size=10)"
   ]
  },
  {
   "cell_type": "code",
   "execution_count": 23,
   "id": "8d27c729",
   "metadata": {},
   "outputs": [
    {
     "data": {
      "text/html": [
       "<div>\n",
       "<style scoped>\n",
       "    .dataframe tbody tr th:only-of-type {\n",
       "        vertical-align: middle;\n",
       "    }\n",
       "\n",
       "    .dataframe tbody tr th {\n",
       "        vertical-align: top;\n",
       "    }\n",
       "\n",
       "    .dataframe thead th {\n",
       "        text-align: right;\n",
       "    }\n",
       "</style>\n",
       "<table border=\"1\" class=\"dataframe\">\n",
       "  <thead>\n",
       "    <tr style=\"text-align: right;\">\n",
       "      <th></th>\n",
       "      <th>Category</th>\n",
       "      <th>Values</th>\n",
       "    </tr>\n",
       "  </thead>\n",
       "  <tbody>\n",
       "    <tr>\n",
       "      <th>0</th>\n",
       "      <td>A</td>\n",
       "      <td>32</td>\n",
       "    </tr>\n",
       "    <tr>\n",
       "      <th>1</th>\n",
       "      <td>B</td>\n",
       "      <td>43</td>\n",
       "    </tr>\n",
       "    <tr>\n",
       "      <th>2</th>\n",
       "      <td>C</td>\n",
       "      <td>50</td>\n",
       "    </tr>\n",
       "  </tbody>\n",
       "</table>\n",
       "</div>"
      ],
      "text/plain": [
       "  Category  Values\n",
       "0        A      32\n",
       "1        B      43\n",
       "2        C      50"
      ]
     },
     "execution_count": 23,
     "metadata": {},
     "output_type": "execute_result"
    }
   ],
   "source": [
    "df2"
   ]
  },
  {
   "cell_type": "code",
   "execution_count": 24,
   "id": "d23031b7",
   "metadata": {},
   "outputs": [
    {
     "data": {
      "application/vnd.plotly.v1+json": {
       "config": {
        "linkText": "Export to plot.ly",
        "plotlyServerURL": "https://plot.ly",
        "showLink": true
       },
       "data": [
        {
         "marker": {
          "color": "rgba(255, 153, 51, 0.6)",
          "line": {
           "color": "rgba(255, 153, 51, 1.0)",
           "width": 1
          }
         },
         "name": "None",
         "orientation": "v",
         "text": "",
         "type": "bar",
         "x": [
          "A",
          "B",
          "C",
          "D"
         ],
         "y": [
          100,
          100,
          100,
          100
         ]
        }
       ],
       "layout": {
        "legend": {
         "bgcolor": "#F5F6F9",
         "font": {
          "color": "#4D5663"
         }
        },
        "paper_bgcolor": "#F5F6F9",
        "plot_bgcolor": "#F5F6F9",
        "template": {
         "data": {
          "bar": [
           {
            "error_x": {
             "color": "#2a3f5f"
            },
            "error_y": {
             "color": "#2a3f5f"
            },
            "marker": {
             "line": {
              "color": "#E5ECF6",
              "width": 0.5
             },
             "pattern": {
              "fillmode": "overlay",
              "size": 10,
              "solidity": 0.2
             }
            },
            "type": "bar"
           }
          ],
          "barpolar": [
           {
            "marker": {
             "line": {
              "color": "#E5ECF6",
              "width": 0.5
             },
             "pattern": {
              "fillmode": "overlay",
              "size": 10,
              "solidity": 0.2
             }
            },
            "type": "barpolar"
           }
          ],
          "carpet": [
           {
            "aaxis": {
             "endlinecolor": "#2a3f5f",
             "gridcolor": "white",
             "linecolor": "white",
             "minorgridcolor": "white",
             "startlinecolor": "#2a3f5f"
            },
            "baxis": {
             "endlinecolor": "#2a3f5f",
             "gridcolor": "white",
             "linecolor": "white",
             "minorgridcolor": "white",
             "startlinecolor": "#2a3f5f"
            },
            "type": "carpet"
           }
          ],
          "choropleth": [
           {
            "colorbar": {
             "outlinewidth": 0,
             "ticks": ""
            },
            "type": "choropleth"
           }
          ],
          "contour": [
           {
            "colorbar": {
             "outlinewidth": 0,
             "ticks": ""
            },
            "colorscale": [
             [
              0,
              "#0d0887"
             ],
             [
              0.1111111111111111,
              "#46039f"
             ],
             [
              0.2222222222222222,
              "#7201a8"
             ],
             [
              0.3333333333333333,
              "#9c179e"
             ],
             [
              0.4444444444444444,
              "#bd3786"
             ],
             [
              0.5555555555555556,
              "#d8576b"
             ],
             [
              0.6666666666666666,
              "#ed7953"
             ],
             [
              0.7777777777777778,
              "#fb9f3a"
             ],
             [
              0.8888888888888888,
              "#fdca26"
             ],
             [
              1,
              "#f0f921"
             ]
            ],
            "type": "contour"
           }
          ],
          "contourcarpet": [
           {
            "colorbar": {
             "outlinewidth": 0,
             "ticks": ""
            },
            "type": "contourcarpet"
           }
          ],
          "heatmap": [
           {
            "colorbar": {
             "outlinewidth": 0,
             "ticks": ""
            },
            "colorscale": [
             [
              0,
              "#0d0887"
             ],
             [
              0.1111111111111111,
              "#46039f"
             ],
             [
              0.2222222222222222,
              "#7201a8"
             ],
             [
              0.3333333333333333,
              "#9c179e"
             ],
             [
              0.4444444444444444,
              "#bd3786"
             ],
             [
              0.5555555555555556,
              "#d8576b"
             ],
             [
              0.6666666666666666,
              "#ed7953"
             ],
             [
              0.7777777777777778,
              "#fb9f3a"
             ],
             [
              0.8888888888888888,
              "#fdca26"
             ],
             [
              1,
              "#f0f921"
             ]
            ],
            "type": "heatmap"
           }
          ],
          "heatmapgl": [
           {
            "colorbar": {
             "outlinewidth": 0,
             "ticks": ""
            },
            "colorscale": [
             [
              0,
              "#0d0887"
             ],
             [
              0.1111111111111111,
              "#46039f"
             ],
             [
              0.2222222222222222,
              "#7201a8"
             ],
             [
              0.3333333333333333,
              "#9c179e"
             ],
             [
              0.4444444444444444,
              "#bd3786"
             ],
             [
              0.5555555555555556,
              "#d8576b"
             ],
             [
              0.6666666666666666,
              "#ed7953"
             ],
             [
              0.7777777777777778,
              "#fb9f3a"
             ],
             [
              0.8888888888888888,
              "#fdca26"
             ],
             [
              1,
              "#f0f921"
             ]
            ],
            "type": "heatmapgl"
           }
          ],
          "histogram": [
           {
            "marker": {
             "pattern": {
              "fillmode": "overlay",
              "size": 10,
              "solidity": 0.2
             }
            },
            "type": "histogram"
           }
          ],
          "histogram2d": [
           {
            "colorbar": {
             "outlinewidth": 0,
             "ticks": ""
            },
            "colorscale": [
             [
              0,
              "#0d0887"
             ],
             [
              0.1111111111111111,
              "#46039f"
             ],
             [
              0.2222222222222222,
              "#7201a8"
             ],
             [
              0.3333333333333333,
              "#9c179e"
             ],
             [
              0.4444444444444444,
              "#bd3786"
             ],
             [
              0.5555555555555556,
              "#d8576b"
             ],
             [
              0.6666666666666666,
              "#ed7953"
             ],
             [
              0.7777777777777778,
              "#fb9f3a"
             ],
             [
              0.8888888888888888,
              "#fdca26"
             ],
             [
              1,
              "#f0f921"
             ]
            ],
            "type": "histogram2d"
           }
          ],
          "histogram2dcontour": [
           {
            "colorbar": {
             "outlinewidth": 0,
             "ticks": ""
            },
            "colorscale": [
             [
              0,
              "#0d0887"
             ],
             [
              0.1111111111111111,
              "#46039f"
             ],
             [
              0.2222222222222222,
              "#7201a8"
             ],
             [
              0.3333333333333333,
              "#9c179e"
             ],
             [
              0.4444444444444444,
              "#bd3786"
             ],
             [
              0.5555555555555556,
              "#d8576b"
             ],
             [
              0.6666666666666666,
              "#ed7953"
             ],
             [
              0.7777777777777778,
              "#fb9f3a"
             ],
             [
              0.8888888888888888,
              "#fdca26"
             ],
             [
              1,
              "#f0f921"
             ]
            ],
            "type": "histogram2dcontour"
           }
          ],
          "mesh3d": [
           {
            "colorbar": {
             "outlinewidth": 0,
             "ticks": ""
            },
            "type": "mesh3d"
           }
          ],
          "parcoords": [
           {
            "line": {
             "colorbar": {
              "outlinewidth": 0,
              "ticks": ""
             }
            },
            "type": "parcoords"
           }
          ],
          "pie": [
           {
            "automargin": true,
            "type": "pie"
           }
          ],
          "scatter": [
           {
            "fillpattern": {
             "fillmode": "overlay",
             "size": 10,
             "solidity": 0.2
            },
            "type": "scatter"
           }
          ],
          "scatter3d": [
           {
            "line": {
             "colorbar": {
              "outlinewidth": 0,
              "ticks": ""
             }
            },
            "marker": {
             "colorbar": {
              "outlinewidth": 0,
              "ticks": ""
             }
            },
            "type": "scatter3d"
           }
          ],
          "scattercarpet": [
           {
            "marker": {
             "colorbar": {
              "outlinewidth": 0,
              "ticks": ""
             }
            },
            "type": "scattercarpet"
           }
          ],
          "scattergeo": [
           {
            "marker": {
             "colorbar": {
              "outlinewidth": 0,
              "ticks": ""
             }
            },
            "type": "scattergeo"
           }
          ],
          "scattergl": [
           {
            "marker": {
             "colorbar": {
              "outlinewidth": 0,
              "ticks": ""
             }
            },
            "type": "scattergl"
           }
          ],
          "scattermapbox": [
           {
            "marker": {
             "colorbar": {
              "outlinewidth": 0,
              "ticks": ""
             }
            },
            "type": "scattermapbox"
           }
          ],
          "scatterpolar": [
           {
            "marker": {
             "colorbar": {
              "outlinewidth": 0,
              "ticks": ""
             }
            },
            "type": "scatterpolar"
           }
          ],
          "scatterpolargl": [
           {
            "marker": {
             "colorbar": {
              "outlinewidth": 0,
              "ticks": ""
             }
            },
            "type": "scatterpolargl"
           }
          ],
          "scatterternary": [
           {
            "marker": {
             "colorbar": {
              "outlinewidth": 0,
              "ticks": ""
             }
            },
            "type": "scatterternary"
           }
          ],
          "surface": [
           {
            "colorbar": {
             "outlinewidth": 0,
             "ticks": ""
            },
            "colorscale": [
             [
              0,
              "#0d0887"
             ],
             [
              0.1111111111111111,
              "#46039f"
             ],
             [
              0.2222222222222222,
              "#7201a8"
             ],
             [
              0.3333333333333333,
              "#9c179e"
             ],
             [
              0.4444444444444444,
              "#bd3786"
             ],
             [
              0.5555555555555556,
              "#d8576b"
             ],
             [
              0.6666666666666666,
              "#ed7953"
             ],
             [
              0.7777777777777778,
              "#fb9f3a"
             ],
             [
              0.8888888888888888,
              "#fdca26"
             ],
             [
              1,
              "#f0f921"
             ]
            ],
            "type": "surface"
           }
          ],
          "table": [
           {
            "cells": {
             "fill": {
              "color": "#EBF0F8"
             },
             "line": {
              "color": "white"
             }
            },
            "header": {
             "fill": {
              "color": "#C8D4E3"
             },
             "line": {
              "color": "white"
             }
            },
            "type": "table"
           }
          ]
         },
         "layout": {
          "annotationdefaults": {
           "arrowcolor": "#2a3f5f",
           "arrowhead": 0,
           "arrowwidth": 1
          },
          "autotypenumbers": "strict",
          "coloraxis": {
           "colorbar": {
            "outlinewidth": 0,
            "ticks": ""
           }
          },
          "colorscale": {
           "diverging": [
            [
             0,
             "#8e0152"
            ],
            [
             0.1,
             "#c51b7d"
            ],
            [
             0.2,
             "#de77ae"
            ],
            [
             0.3,
             "#f1b6da"
            ],
            [
             0.4,
             "#fde0ef"
            ],
            [
             0.5,
             "#f7f7f7"
            ],
            [
             0.6,
             "#e6f5d0"
            ],
            [
             0.7,
             "#b8e186"
            ],
            [
             0.8,
             "#7fbc41"
            ],
            [
             0.9,
             "#4d9221"
            ],
            [
             1,
             "#276419"
            ]
           ],
           "sequential": [
            [
             0,
             "#0d0887"
            ],
            [
             0.1111111111111111,
             "#46039f"
            ],
            [
             0.2222222222222222,
             "#7201a8"
            ],
            [
             0.3333333333333333,
             "#9c179e"
            ],
            [
             0.4444444444444444,
             "#bd3786"
            ],
            [
             0.5555555555555556,
             "#d8576b"
            ],
            [
             0.6666666666666666,
             "#ed7953"
            ],
            [
             0.7777777777777778,
             "#fb9f3a"
            ],
            [
             0.8888888888888888,
             "#fdca26"
            ],
            [
             1,
             "#f0f921"
            ]
           ],
           "sequentialminus": [
            [
             0,
             "#0d0887"
            ],
            [
             0.1111111111111111,
             "#46039f"
            ],
            [
             0.2222222222222222,
             "#7201a8"
            ],
            [
             0.3333333333333333,
             "#9c179e"
            ],
            [
             0.4444444444444444,
             "#bd3786"
            ],
            [
             0.5555555555555556,
             "#d8576b"
            ],
            [
             0.6666666666666666,
             "#ed7953"
            ],
            [
             0.7777777777777778,
             "#fb9f3a"
            ],
            [
             0.8888888888888888,
             "#fdca26"
            ],
            [
             1,
             "#f0f921"
            ]
           ]
          },
          "colorway": [
           "#636efa",
           "#EF553B",
           "#00cc96",
           "#ab63fa",
           "#FFA15A",
           "#19d3f3",
           "#FF6692",
           "#B6E880",
           "#FF97FF",
           "#FECB52"
          ],
          "font": {
           "color": "#2a3f5f"
          },
          "geo": {
           "bgcolor": "white",
           "lakecolor": "white",
           "landcolor": "#E5ECF6",
           "showlakes": true,
           "showland": true,
           "subunitcolor": "white"
          },
          "hoverlabel": {
           "align": "left"
          },
          "hovermode": "closest",
          "mapbox": {
           "style": "light"
          },
          "paper_bgcolor": "white",
          "plot_bgcolor": "#E5ECF6",
          "polar": {
           "angularaxis": {
            "gridcolor": "white",
            "linecolor": "white",
            "ticks": ""
           },
           "bgcolor": "#E5ECF6",
           "radialaxis": {
            "gridcolor": "white",
            "linecolor": "white",
            "ticks": ""
           }
          },
          "scene": {
           "xaxis": {
            "backgroundcolor": "#E5ECF6",
            "gridcolor": "white",
            "gridwidth": 2,
            "linecolor": "white",
            "showbackground": true,
            "ticks": "",
            "zerolinecolor": "white"
           },
           "yaxis": {
            "backgroundcolor": "#E5ECF6",
            "gridcolor": "white",
            "gridwidth": 2,
            "linecolor": "white",
            "showbackground": true,
            "ticks": "",
            "zerolinecolor": "white"
           },
           "zaxis": {
            "backgroundcolor": "#E5ECF6",
            "gridcolor": "white",
            "gridwidth": 2,
            "linecolor": "white",
            "showbackground": true,
            "ticks": "",
            "zerolinecolor": "white"
           }
          },
          "shapedefaults": {
           "line": {
            "color": "#2a3f5f"
           }
          },
          "ternary": {
           "aaxis": {
            "gridcolor": "white",
            "linecolor": "white",
            "ticks": ""
           },
           "baxis": {
            "gridcolor": "white",
            "linecolor": "white",
            "ticks": ""
           },
           "bgcolor": "#E5ECF6",
           "caxis": {
            "gridcolor": "white",
            "linecolor": "white",
            "ticks": ""
           }
          },
          "title": {
           "x": 0.05
          },
          "xaxis": {
           "automargin": true,
           "gridcolor": "white",
           "linecolor": "white",
           "ticks": "",
           "title": {
            "standoff": 15
           },
           "zerolinecolor": "white",
           "zerolinewidth": 2
          },
          "yaxis": {
           "automargin": true,
           "gridcolor": "white",
           "linecolor": "white",
           "ticks": "",
           "title": {
            "standoff": 15
           },
           "zerolinecolor": "white",
           "zerolinewidth": 2
          }
         }
        },
        "title": {
         "font": {
          "color": "#4D5663"
         }
        },
        "xaxis": {
         "gridcolor": "#E1E5ED",
         "showgrid": true,
         "tickfont": {
          "color": "#4D5663"
         },
         "title": {
          "font": {
           "color": "#4D5663"
          },
          "text": ""
         },
         "zerolinecolor": "#E1E5ED"
        },
        "yaxis": {
         "gridcolor": "#E1E5ED",
         "showgrid": true,
         "tickfont": {
          "color": "#4D5663"
         },
         "title": {
          "font": {
           "color": "#4D5663"
          },
          "text": ""
         },
         "zerolinecolor": "#E1E5ED"
        }
       }
      },
      "text/html": [
       "<div>                            <div id=\"1816ffd3-7de2-4551-a29b-9cef7e800c41\" class=\"plotly-graph-div\" style=\"height:525px; width:100%;\"></div>            <script type=\"text/javascript\">                require([\"plotly\"], function(Plotly) {                    window.PLOTLYENV=window.PLOTLYENV || {};\n",
       "                    window.PLOTLYENV.BASE_URL='https://plot.ly';                                    if (document.getElementById(\"1816ffd3-7de2-4551-a29b-9cef7e800c41\")) {                    Plotly.newPlot(                        \"1816ffd3-7de2-4551-a29b-9cef7e800c41\",                        [{\"marker\":{\"color\":\"rgba(255, 153, 51, 0.6)\",\"line\":{\"color\":\"rgba(255, 153, 51, 1.0)\",\"width\":1}},\"name\":\"None\",\"orientation\":\"v\",\"text\":\"\",\"x\":[\"A\",\"B\",\"C\",\"D\"],\"y\":[100,100,100,100],\"type\":\"bar\"}],                        {\"legend\":{\"bgcolor\":\"#F5F6F9\",\"font\":{\"color\":\"#4D5663\"}},\"paper_bgcolor\":\"#F5F6F9\",\"plot_bgcolor\":\"#F5F6F9\",\"template\":{\"data\":{\"barpolar\":[{\"marker\":{\"line\":{\"color\":\"#E5ECF6\",\"width\":0.5},\"pattern\":{\"fillmode\":\"overlay\",\"size\":10,\"solidity\":0.2}},\"type\":\"barpolar\"}],\"bar\":[{\"error_x\":{\"color\":\"#2a3f5f\"},\"error_y\":{\"color\":\"#2a3f5f\"},\"marker\":{\"line\":{\"color\":\"#E5ECF6\",\"width\":0.5},\"pattern\":{\"fillmode\":\"overlay\",\"size\":10,\"solidity\":0.2}},\"type\":\"bar\"}],\"carpet\":[{\"aaxis\":{\"endlinecolor\":\"#2a3f5f\",\"gridcolor\":\"white\",\"linecolor\":\"white\",\"minorgridcolor\":\"white\",\"startlinecolor\":\"#2a3f5f\"},\"baxis\":{\"endlinecolor\":\"#2a3f5f\",\"gridcolor\":\"white\",\"linecolor\":\"white\",\"minorgridcolor\":\"white\",\"startlinecolor\":\"#2a3f5f\"},\"type\":\"carpet\"}],\"choropleth\":[{\"colorbar\":{\"outlinewidth\":0,\"ticks\":\"\"},\"type\":\"choropleth\"}],\"contourcarpet\":[{\"colorbar\":{\"outlinewidth\":0,\"ticks\":\"\"},\"type\":\"contourcarpet\"}],\"contour\":[{\"colorbar\":{\"outlinewidth\":0,\"ticks\":\"\"},\"colorscale\":[[0.0,\"#0d0887\"],[0.1111111111111111,\"#46039f\"],[0.2222222222222222,\"#7201a8\"],[0.3333333333333333,\"#9c179e\"],[0.4444444444444444,\"#bd3786\"],[0.5555555555555556,\"#d8576b\"],[0.6666666666666666,\"#ed7953\"],[0.7777777777777778,\"#fb9f3a\"],[0.8888888888888888,\"#fdca26\"],[1.0,\"#f0f921\"]],\"type\":\"contour\"}],\"heatmapgl\":[{\"colorbar\":{\"outlinewidth\":0,\"ticks\":\"\"},\"colorscale\":[[0.0,\"#0d0887\"],[0.1111111111111111,\"#46039f\"],[0.2222222222222222,\"#7201a8\"],[0.3333333333333333,\"#9c179e\"],[0.4444444444444444,\"#bd3786\"],[0.5555555555555556,\"#d8576b\"],[0.6666666666666666,\"#ed7953\"],[0.7777777777777778,\"#fb9f3a\"],[0.8888888888888888,\"#fdca26\"],[1.0,\"#f0f921\"]],\"type\":\"heatmapgl\"}],\"heatmap\":[{\"colorbar\":{\"outlinewidth\":0,\"ticks\":\"\"},\"colorscale\":[[0.0,\"#0d0887\"],[0.1111111111111111,\"#46039f\"],[0.2222222222222222,\"#7201a8\"],[0.3333333333333333,\"#9c179e\"],[0.4444444444444444,\"#bd3786\"],[0.5555555555555556,\"#d8576b\"],[0.6666666666666666,\"#ed7953\"],[0.7777777777777778,\"#fb9f3a\"],[0.8888888888888888,\"#fdca26\"],[1.0,\"#f0f921\"]],\"type\":\"heatmap\"}],\"histogram2dcontour\":[{\"colorbar\":{\"outlinewidth\":0,\"ticks\":\"\"},\"colorscale\":[[0.0,\"#0d0887\"],[0.1111111111111111,\"#46039f\"],[0.2222222222222222,\"#7201a8\"],[0.3333333333333333,\"#9c179e\"],[0.4444444444444444,\"#bd3786\"],[0.5555555555555556,\"#d8576b\"],[0.6666666666666666,\"#ed7953\"],[0.7777777777777778,\"#fb9f3a\"],[0.8888888888888888,\"#fdca26\"],[1.0,\"#f0f921\"]],\"type\":\"histogram2dcontour\"}],\"histogram2d\":[{\"colorbar\":{\"outlinewidth\":0,\"ticks\":\"\"},\"colorscale\":[[0.0,\"#0d0887\"],[0.1111111111111111,\"#46039f\"],[0.2222222222222222,\"#7201a8\"],[0.3333333333333333,\"#9c179e\"],[0.4444444444444444,\"#bd3786\"],[0.5555555555555556,\"#d8576b\"],[0.6666666666666666,\"#ed7953\"],[0.7777777777777778,\"#fb9f3a\"],[0.8888888888888888,\"#fdca26\"],[1.0,\"#f0f921\"]],\"type\":\"histogram2d\"}],\"histogram\":[{\"marker\":{\"pattern\":{\"fillmode\":\"overlay\",\"size\":10,\"solidity\":0.2}},\"type\":\"histogram\"}],\"mesh3d\":[{\"colorbar\":{\"outlinewidth\":0,\"ticks\":\"\"},\"type\":\"mesh3d\"}],\"parcoords\":[{\"line\":{\"colorbar\":{\"outlinewidth\":0,\"ticks\":\"\"}},\"type\":\"parcoords\"}],\"pie\":[{\"automargin\":true,\"type\":\"pie\"}],\"scatter3d\":[{\"line\":{\"colorbar\":{\"outlinewidth\":0,\"ticks\":\"\"}},\"marker\":{\"colorbar\":{\"outlinewidth\":0,\"ticks\":\"\"}},\"type\":\"scatter3d\"}],\"scattercarpet\":[{\"marker\":{\"colorbar\":{\"outlinewidth\":0,\"ticks\":\"\"}},\"type\":\"scattercarpet\"}],\"scattergeo\":[{\"marker\":{\"colorbar\":{\"outlinewidth\":0,\"ticks\":\"\"}},\"type\":\"scattergeo\"}],\"scattergl\":[{\"marker\":{\"colorbar\":{\"outlinewidth\":0,\"ticks\":\"\"}},\"type\":\"scattergl\"}],\"scattermapbox\":[{\"marker\":{\"colorbar\":{\"outlinewidth\":0,\"ticks\":\"\"}},\"type\":\"scattermapbox\"}],\"scatterpolargl\":[{\"marker\":{\"colorbar\":{\"outlinewidth\":0,\"ticks\":\"\"}},\"type\":\"scatterpolargl\"}],\"scatterpolar\":[{\"marker\":{\"colorbar\":{\"outlinewidth\":0,\"ticks\":\"\"}},\"type\":\"scatterpolar\"}],\"scatter\":[{\"fillpattern\":{\"fillmode\":\"overlay\",\"size\":10,\"solidity\":0.2},\"type\":\"scatter\"}],\"scatterternary\":[{\"marker\":{\"colorbar\":{\"outlinewidth\":0,\"ticks\":\"\"}},\"type\":\"scatterternary\"}],\"surface\":[{\"colorbar\":{\"outlinewidth\":0,\"ticks\":\"\"},\"colorscale\":[[0.0,\"#0d0887\"],[0.1111111111111111,\"#46039f\"],[0.2222222222222222,\"#7201a8\"],[0.3333333333333333,\"#9c179e\"],[0.4444444444444444,\"#bd3786\"],[0.5555555555555556,\"#d8576b\"],[0.6666666666666666,\"#ed7953\"],[0.7777777777777778,\"#fb9f3a\"],[0.8888888888888888,\"#fdca26\"],[1.0,\"#f0f921\"]],\"type\":\"surface\"}],\"table\":[{\"cells\":{\"fill\":{\"color\":\"#EBF0F8\"},\"line\":{\"color\":\"white\"}},\"header\":{\"fill\":{\"color\":\"#C8D4E3\"},\"line\":{\"color\":\"white\"}},\"type\":\"table\"}]},\"layout\":{\"annotationdefaults\":{\"arrowcolor\":\"#2a3f5f\",\"arrowhead\":0,\"arrowwidth\":1},\"autotypenumbers\":\"strict\",\"coloraxis\":{\"colorbar\":{\"outlinewidth\":0,\"ticks\":\"\"}},\"colorscale\":{\"diverging\":[[0,\"#8e0152\"],[0.1,\"#c51b7d\"],[0.2,\"#de77ae\"],[0.3,\"#f1b6da\"],[0.4,\"#fde0ef\"],[0.5,\"#f7f7f7\"],[0.6,\"#e6f5d0\"],[0.7,\"#b8e186\"],[0.8,\"#7fbc41\"],[0.9,\"#4d9221\"],[1,\"#276419\"]],\"sequential\":[[0.0,\"#0d0887\"],[0.1111111111111111,\"#46039f\"],[0.2222222222222222,\"#7201a8\"],[0.3333333333333333,\"#9c179e\"],[0.4444444444444444,\"#bd3786\"],[0.5555555555555556,\"#d8576b\"],[0.6666666666666666,\"#ed7953\"],[0.7777777777777778,\"#fb9f3a\"],[0.8888888888888888,\"#fdca26\"],[1.0,\"#f0f921\"]],\"sequentialminus\":[[0.0,\"#0d0887\"],[0.1111111111111111,\"#46039f\"],[0.2222222222222222,\"#7201a8\"],[0.3333333333333333,\"#9c179e\"],[0.4444444444444444,\"#bd3786\"],[0.5555555555555556,\"#d8576b\"],[0.6666666666666666,\"#ed7953\"],[0.7777777777777778,\"#fb9f3a\"],[0.8888888888888888,\"#fdca26\"],[1.0,\"#f0f921\"]]},\"colorway\":[\"#636efa\",\"#EF553B\",\"#00cc96\",\"#ab63fa\",\"#FFA15A\",\"#19d3f3\",\"#FF6692\",\"#B6E880\",\"#FF97FF\",\"#FECB52\"],\"font\":{\"color\":\"#2a3f5f\"},\"geo\":{\"bgcolor\":\"white\",\"lakecolor\":\"white\",\"landcolor\":\"#E5ECF6\",\"showlakes\":true,\"showland\":true,\"subunitcolor\":\"white\"},\"hoverlabel\":{\"align\":\"left\"},\"hovermode\":\"closest\",\"mapbox\":{\"style\":\"light\"},\"paper_bgcolor\":\"white\",\"plot_bgcolor\":\"#E5ECF6\",\"polar\":{\"angularaxis\":{\"gridcolor\":\"white\",\"linecolor\":\"white\",\"ticks\":\"\"},\"bgcolor\":\"#E5ECF6\",\"radialaxis\":{\"gridcolor\":\"white\",\"linecolor\":\"white\",\"ticks\":\"\"}},\"scene\":{\"xaxis\":{\"backgroundcolor\":\"#E5ECF6\",\"gridcolor\":\"white\",\"gridwidth\":2,\"linecolor\":\"white\",\"showbackground\":true,\"ticks\":\"\",\"zerolinecolor\":\"white\"},\"yaxis\":{\"backgroundcolor\":\"#E5ECF6\",\"gridcolor\":\"white\",\"gridwidth\":2,\"linecolor\":\"white\",\"showbackground\":true,\"ticks\":\"\",\"zerolinecolor\":\"white\"},\"zaxis\":{\"backgroundcolor\":\"#E5ECF6\",\"gridcolor\":\"white\",\"gridwidth\":2,\"linecolor\":\"white\",\"showbackground\":true,\"ticks\":\"\",\"zerolinecolor\":\"white\"}},\"shapedefaults\":{\"line\":{\"color\":\"#2a3f5f\"}},\"ternary\":{\"aaxis\":{\"gridcolor\":\"white\",\"linecolor\":\"white\",\"ticks\":\"\"},\"baxis\":{\"gridcolor\":\"white\",\"linecolor\":\"white\",\"ticks\":\"\"},\"bgcolor\":\"#E5ECF6\",\"caxis\":{\"gridcolor\":\"white\",\"linecolor\":\"white\",\"ticks\":\"\"}},\"title\":{\"x\":0.05},\"xaxis\":{\"automargin\":true,\"gridcolor\":\"white\",\"linecolor\":\"white\",\"ticks\":\"\",\"title\":{\"standoff\":15},\"zerolinecolor\":\"white\",\"zerolinewidth\":2},\"yaxis\":{\"automargin\":true,\"gridcolor\":\"white\",\"linecolor\":\"white\",\"ticks\":\"\",\"title\":{\"standoff\":15},\"zerolinecolor\":\"white\",\"zerolinewidth\":2}}},\"title\":{\"font\":{\"color\":\"#4D5663\"}},\"xaxis\":{\"gridcolor\":\"#E1E5ED\",\"showgrid\":true,\"tickfont\":{\"color\":\"#4D5663\"},\"title\":{\"font\":{\"color\":\"#4D5663\"},\"text\":\"\"},\"zerolinecolor\":\"#E1E5ED\"},\"yaxis\":{\"gridcolor\":\"#E1E5ED\",\"showgrid\":true,\"tickfont\":{\"color\":\"#4D5663\"},\"title\":{\"font\":{\"color\":\"#4D5663\"},\"text\":\"\"},\"zerolinecolor\":\"#E1E5ED\"}},                        {\"showLink\": true, \"linkText\": \"Export to plot.ly\", \"plotlyServerURL\": \"https://plot.ly\", \"responsive\": true}                    ).then(function(){\n",
       "                            \n",
       "var gd = document.getElementById('1816ffd3-7de2-4551-a29b-9cef7e800c41');\n",
       "var x = new MutationObserver(function (mutations, observer) {{\n",
       "        var display = window.getComputedStyle(gd).display;\n",
       "        if (!display || display === 'none') {{\n",
       "            console.log([gd, 'removed!']);\n",
       "            Plotly.purge(gd);\n",
       "            observer.disconnect();\n",
       "        }}\n",
       "}});\n",
       "\n",
       "// Listen for the removal of the full notebook cells\n",
       "var notebookContainer = gd.closest('#notebook-container');\n",
       "if (notebookContainer) {{\n",
       "    x.observe(notebookContainer, {childList: true});\n",
       "}}\n",
       "\n",
       "// Listen for the clearing of the current output cell\n",
       "var outputEl = gd.closest('.output');\n",
       "if (outputEl) {{\n",
       "    x.observe(outputEl, {childList: true});\n",
       "}}\n",
       "\n",
       "                        })                };                });            </script>        </div>"
      ]
     },
     "metadata": {},
     "output_type": "display_data"
    }
   ],
   "source": [
    "df.count().iplot(kind='bar')"
   ]
  },
  {
   "cell_type": "code",
   "execution_count": 25,
   "id": "1b4bae32",
   "metadata": {},
   "outputs": [
    {
     "data": {
      "text/html": [
       "<div>\n",
       "<style scoped>\n",
       "    .dataframe tbody tr th:only-of-type {\n",
       "        vertical-align: middle;\n",
       "    }\n",
       "\n",
       "    .dataframe tbody tr th {\n",
       "        vertical-align: top;\n",
       "    }\n",
       "\n",
       "    .dataframe thead th {\n",
       "        text-align: right;\n",
       "    }\n",
       "</style>\n",
       "<table border=\"1\" class=\"dataframe\">\n",
       "  <thead>\n",
       "    <tr style=\"text-align: right;\">\n",
       "      <th></th>\n",
       "      <th>A</th>\n",
       "      <th>B</th>\n",
       "      <th>C</th>\n",
       "      <th>D</th>\n",
       "    </tr>\n",
       "  </thead>\n",
       "  <tbody>\n",
       "    <tr>\n",
       "      <th>0</th>\n",
       "      <td>-1.815807</td>\n",
       "      <td>1.696252</td>\n",
       "      <td>-0.738539</td>\n",
       "      <td>-1.613920</td>\n",
       "    </tr>\n",
       "    <tr>\n",
       "      <th>1</th>\n",
       "      <td>-0.153215</td>\n",
       "      <td>-0.982194</td>\n",
       "      <td>0.605902</td>\n",
       "      <td>0.143868</td>\n",
       "    </tr>\n",
       "    <tr>\n",
       "      <th>2</th>\n",
       "      <td>-0.908762</td>\n",
       "      <td>-2.119786</td>\n",
       "      <td>1.122740</td>\n",
       "      <td>-0.693136</td>\n",
       "    </tr>\n",
       "    <tr>\n",
       "      <th>3</th>\n",
       "      <td>-0.715857</td>\n",
       "      <td>0.380549</td>\n",
       "      <td>1.345324</td>\n",
       "      <td>0.529305</td>\n",
       "    </tr>\n",
       "    <tr>\n",
       "      <th>4</th>\n",
       "      <td>-0.777191</td>\n",
       "      <td>-1.361276</td>\n",
       "      <td>0.326994</td>\n",
       "      <td>0.322135</td>\n",
       "    </tr>\n",
       "    <tr>\n",
       "      <th>...</th>\n",
       "      <td>...</td>\n",
       "      <td>...</td>\n",
       "      <td>...</td>\n",
       "      <td>...</td>\n",
       "    </tr>\n",
       "    <tr>\n",
       "      <th>95</th>\n",
       "      <td>0.787312</td>\n",
       "      <td>-0.184034</td>\n",
       "      <td>1.295775</td>\n",
       "      <td>-0.564873</td>\n",
       "    </tr>\n",
       "    <tr>\n",
       "      <th>96</th>\n",
       "      <td>-0.485347</td>\n",
       "      <td>0.794589</td>\n",
       "      <td>-1.489433</td>\n",
       "      <td>0.075354</td>\n",
       "    </tr>\n",
       "    <tr>\n",
       "      <th>97</th>\n",
       "      <td>-0.353621</td>\n",
       "      <td>0.820312</td>\n",
       "      <td>0.691799</td>\n",
       "      <td>-1.023186</td>\n",
       "    </tr>\n",
       "    <tr>\n",
       "      <th>98</th>\n",
       "      <td>0.357223</td>\n",
       "      <td>-0.863108</td>\n",
       "      <td>-0.355670</td>\n",
       "      <td>-0.228606</td>\n",
       "    </tr>\n",
       "    <tr>\n",
       "      <th>99</th>\n",
       "      <td>-0.386930</td>\n",
       "      <td>0.212576</td>\n",
       "      <td>-0.117428</td>\n",
       "      <td>1.652035</td>\n",
       "    </tr>\n",
       "  </tbody>\n",
       "</table>\n",
       "<p>100 rows × 4 columns</p>\n",
       "</div>"
      ],
      "text/plain": [
       "           A         B         C         D\n",
       "0  -1.815807  1.696252 -0.738539 -1.613920\n",
       "1  -0.153215 -0.982194  0.605902  0.143868\n",
       "2  -0.908762 -2.119786  1.122740 -0.693136\n",
       "3  -0.715857  0.380549  1.345324  0.529305\n",
       "4  -0.777191 -1.361276  0.326994  0.322135\n",
       "..       ...       ...       ...       ...\n",
       "95  0.787312 -0.184034  1.295775 -0.564873\n",
       "96 -0.485347  0.794589 -1.489433  0.075354\n",
       "97 -0.353621  0.820312  0.691799 -1.023186\n",
       "98  0.357223 -0.863108 -0.355670 -0.228606\n",
       "99 -0.386930  0.212576 -0.117428  1.652035\n",
       "\n",
       "[100 rows x 4 columns]"
      ]
     },
     "execution_count": 25,
     "metadata": {},
     "output_type": "execute_result"
    }
   ],
   "source": [
    "df"
   ]
  },
  {
   "cell_type": "code",
   "execution_count": 26,
   "id": "92d90dae",
   "metadata": {},
   "outputs": [
    {
     "data": {
      "application/vnd.plotly.v1+json": {
       "config": {
        "linkText": "Export to plot.ly",
        "plotlyServerURL": "https://plot.ly",
        "showLink": true
       },
       "data": [
        {
         "boxpoints": false,
         "line": {
          "width": 1.3
         },
         "marker": {
          "color": "rgba(255, 153, 51, 1.0)"
         },
         "name": "A",
         "orientation": "v",
         "type": "box",
         "y": [
          -1.8158066953241796,
          -0.1532154842648918,
          -0.9087624017607344,
          -0.715856808084371,
          -0.7771907606069965,
          0.7351655714121069,
          -0.4340066741738052,
          -1.3736300616332289,
          -1.0910279061608386,
          -0.17715896700797562,
          0.7275992622753656,
          0.5719735501374622,
          0.1098535938239624,
          -0.7597209632957299,
          -1.1109900639357473,
          0.6925199043660469,
          0.7199999841009106,
          0.2873822213373869,
          -0.15420187444897465,
          0.008442848745635374,
          1.664921806311949,
          -1.3569852377652243,
          -0.23428268105986771,
          -1.9065024563371196,
          -1.8490542212588523,
          -0.9960295932103904,
          0.02314877232934917,
          1.7212068472548776,
          1.9013955197338033,
          -2.35253242851831,
          0.03040455800019841,
          0.21563700808987987,
          -0.4597229928437187,
          -0.7278607880726488,
          0.8877592700568671,
          0.4871704573515719,
          1.2769068225620719,
          0.18018462540389163,
          0.8649699512695074,
          -0.7445046848660324,
          -1.2890167760381392,
          0.5217925979706663,
          0.9389152424518948,
          0.9410136911071448,
          1.5734356802920477,
          1.4534955851108855,
          1.6379349099164204,
          2.051825040464344,
          -0.8723796481954755,
          0.6451170978250104,
          0.7996633553911477,
          -0.3758811118599081,
          0.8368783860108395,
          1.1672923335724237,
          1.9989574214327248,
          -0.9803635632487172,
          1.0272909775625343,
          -1.6470378469496967,
          -1.184745488394547,
          1.240609769403117,
          2.561043412628804,
          -0.5143615665306566,
          0.7449677226155068,
          -0.6201547168031414,
          0.6061735043418385,
          -0.6917606684322949,
          -0.4568162851669821,
          -1.4467767829303313,
          -0.4197208185978394,
          -0.27718742129594875,
          0.37837120923512646,
          1.2126642629518882,
          0.0393734817792643,
          -0.26340619911106694,
          -0.8351980357082801,
          -0.7959718758615214,
          0.6618589942538259,
          -0.4809145778698422,
          -0.5892785393324456,
          -0.25863477635135435,
          -0.6227807044887773,
          0.6993285851779953,
          -0.45746330629230986,
          -1.1643534645330045,
          1.3236560625253453,
          -0.6252302065588559,
          0.3150282283965467,
          1.137719962772657,
          0.514273522992465,
          0.17608458637176752,
          -0.6721697934374377,
          -0.9601912730760108,
          -0.9638044403008365,
          -0.35406490944069513,
          0.27014409824766095,
          0.7873120088931022,
          -0.4853469923359565,
          -0.35362079253020634,
          0.35722262241125424,
          -0.3869299705042295
         ]
        },
        {
         "boxpoints": false,
         "line": {
          "width": 1.3
         },
         "marker": {
          "color": "rgba(55, 128, 191, 1.0)"
         },
         "name": "B",
         "orientation": "v",
         "type": "box",
         "y": [
          1.6962518426992457,
          -0.982193639127554,
          -2.1197856966587434,
          0.38054873370497094,
          -1.361275653580498,
          0.3019613106241735,
          0.5737655133927131,
          1.0945211359269573,
          0.5495438835085136,
          1.0344716229317987,
          1.5145618337839344,
          -1.322817574245342,
          -1.1907820282214117,
          -0.528632777074625,
          1.3012340540546952,
          -1.0689263129920183,
          -2.84496629837369,
          0.046135758701366845,
          -0.24639563344520166,
          0.25128120296962836,
          0.36830940996399714,
          0.12031333614256282,
          -0.8010686487431482,
          -1.9327299966087452,
          0.7590071315508242,
          0.09728845697523336,
          -0.6894331452347948,
          0.11100076999006471,
          0.8004367772526133,
          -0.3793003097447568,
          -0.010050251411239644,
          -1.157220777492313,
          0.2488904704855463,
          0.8320141897637261,
          -0.12460299783173051,
          -0.9910263142307557,
          0.7372791083222395,
          0.24955057188182372,
          -0.8396515362306939,
          -0.6309241374644079,
          -0.279841188171254,
          -0.16186589249778788,
          0.8051370085683334,
          0.6540567389457904,
          -1.5798108304946163,
          0.20639652702521474,
          0.39333903402492476,
          -0.4810666724010602,
          -0.3800959479086856,
          -0.3077260319677847,
          1.5208418364763474,
          0.7892210421725961,
          1.8591446122703879,
          1.7034420043231697,
          -0.10683091684168655,
          -0.4775338738383854,
          -1.0079070689317284,
          -1.0112734900097282,
          0.7111182117640453,
          1.0486950375562232,
          -0.26391919214625303,
          -0.4113679094580015,
          -0.2605367678626934,
          -0.47530461482159114,
          -0.053143688579886626,
          2.3967430629102333,
          1.8709284111420503,
          0.25187514496472596,
          -0.02397569055830253,
          -0.09829431482066459,
          0.09403916694330741,
          0.06531118931264279,
          1.7638042278748831,
          1.0049939775004493,
          -0.6137431487150112,
          0.6570327734296777,
          -0.6289093946870737,
          0.5903155802129443,
          -1.2205401647556249,
          0.16685846375701371,
          -0.7512178872411197,
          0.08940485042033164,
          0.7271257315355758,
          -0.8861325348030998,
          -0.11871209816686926,
          -1.4093783931195987,
          -0.1736218521324273,
          -1.556684785992902,
          0.2470908600596826,
          0.056697008587313615,
          0.7871147589497839,
          -0.8801147388503565,
          0.3565693844796211,
          -0.3783507036715136,
          -0.5636310145664183,
          -0.18403442117576474,
          0.7945894980989373,
          0.8203119259602427,
          -0.8631082962731352,
          0.21257593940078842
         ]
        },
        {
         "boxpoints": false,
         "line": {
          "width": 1.3
         },
         "marker": {
          "color": "rgba(50, 171, 96, 1.0)"
         },
         "name": "C",
         "orientation": "v",
         "type": "box",
         "y": [
          -0.7385392085312609,
          0.6059015187854616,
          1.122739800613316,
          1.3453235784911914,
          0.3269935992661774,
          -1.0707310105993268,
          -0.3806197642092073,
          1.6409229266368266,
          -2.352066299648475,
          -0.9994785837613791,
          -0.6912934823216503,
          1.2826438376675886,
          0.10291044180972408,
          0.3349043094372565,
          -1.0055135614015855,
          0.9757634381272896,
          0.9079558995973859,
          -0.46594652589269664,
          0.8060052181025692,
          1.1165653993576703,
          0.27351976698254615,
          1.2117888986596437,
          0.6771514068440193,
          0.39219000665164555,
          0.3479770692323999,
          1.2563752513554332,
          -1.1979478266842263,
          -1.78307557243645,
          -0.7562741622749357,
          -0.2974990576728704,
          -0.1151922607598481,
          1.311871447079243,
          1.9289668587901412,
          1.0447706767606724,
          -0.3002488998726798,
          0.16269844415688542,
          0.8631392392988955,
          -0.7411929665425697,
          0.5616519838700285,
          -0.3131147621350836,
          -0.6069109587105764,
          -1.447767624550431,
          -1.442722977432391,
          -0.6919784434260245,
          -0.8831316251819575,
          -0.776479665148661,
          1.1172122351362055,
          1.2176337093966687,
          1.5476467707595074,
          0.3626072098823158,
          -1.0983325162443291,
          -1.383177292817952,
          1.9628058171277503,
          -0.055803093732660805,
          -1.5747713332299496,
          -0.26532393249082487,
          0.5479439877410442,
          1.5535865364644714,
          -0.47659834301066384,
          0.2672767984483275,
          -0.8961147350469946,
          -0.06471050710422788,
          -0.5905964775463705,
          0.7655941714589244,
          -0.31953091828895985,
          0.06789288352679154,
          -1.422263846816249,
          -0.801161627353756,
          0.6188842280311928,
          2.028647190875111,
          -0.741868678745086,
          1.6069381796445703,
          -0.6690556554555435,
          -0.063584543693092,
          0.6246448471547272,
          -0.4216210453943756,
          -0.8640390041112331,
          0.5253639742208898,
          -0.48438019081842754,
          0.5369509248484133,
          0.32057822601106967,
          -1.8760068692251701,
          0.13126982972121115,
          0.2970202750556522,
          0.31359419559538876,
          -0.3971136117430385,
          -0.6860056529632396,
          -0.8962827751063993,
          0.0025431485827040403,
          0.27089769469654046,
          0.7033910031533249,
          -0.3643665317857516,
          -0.11787071628933615,
          -0.9817195744729845,
          -1.0732541183436184,
          1.2957749565724392,
          -1.4894334754857605,
          0.6917993062855475,
          -0.3556696508654084,
          -0.11742785402261754
         ]
        },
        {
         "boxpoints": false,
         "line": {
          "width": 1.3
         },
         "marker": {
          "color": "rgba(128, 0, 128, 1.0)"
         },
         "name": "D",
         "orientation": "v",
         "type": "box",
         "y": [
          -1.6139200331698593,
          0.1438679806922359,
          -0.6931362890789643,
          0.5293045437878271,
          0.3221349048970399,
          0.10571979308408555,
          -0.24687444774814254,
          1.518751836633535,
          -1.8417441436634612,
          1.1901312662968089,
          1.0452829018107455,
          0.30605659929868206,
          -0.43068673344610603,
          -1.3875533434371963,
          -0.31328259811412107,
          -0.47961676390549984,
          1.325030202070095,
          -0.4449698448561779,
          1.0439278536071046,
          1.5298569917653597,
          -0.49411730219163136,
          0.18378781126397709,
          0.1887592665717357,
          1.1025966370286202,
          1.4506954668482208,
          -2.3261959513491073,
          -0.4550870936241418,
          -0.9292829494272545,
          0.01052435481631606,
          0.04724180974889832,
          -0.592794748419755,
          0.5048698619125271,
          -0.31543236030487437,
          1.0659531865858582,
          -0.8199027965146775,
          0.9665933026153964,
          -0.2267356656419576,
          -0.9656196090197346,
          0.29696010229584796,
          -1.6579526166657388,
          1.2748038036746216,
          -0.12764161793534448,
          -0.05487234560680018,
          0.2861875269503629,
          0.43721364089885206,
          1.6086221484162546,
          -0.7979471094796152,
          -0.5861898093399176,
          1.3377350533309027,
          -0.3739936342499101,
          0.7462187044964173,
          -1.2554014451140587,
          0.5868402650420513,
          0.8703440156057092,
          -0.1742196969932546,
          1.4469818706730642,
          -0.6262021275282917,
          0.08399422005607338,
          -1.8055896023356686,
          -1.3243969569382086,
          1.1345389701396054,
          0.2481429357286683,
          0.2835512541345572,
          -0.6881976210702818,
          -1.0120345386137457,
          -0.3034886605647908,
          0.11398208922115317,
          0.36076317300524025,
          -0.5169099907753333,
          1.660678219041089,
          0.02712667239714875,
          -2.039741784619864,
          -0.2805689576358341,
          1.07484873721293,
          -0.3521633386079611,
          0.02930939901426263,
          -2.5392183963702495,
          -0.1852718250188313,
          0.13784622935873658,
          -0.5808272711014993,
          -0.5694492380190268,
          0.3574733700727333,
          -0.5989894269618654,
          0.1773981082301825,
          -2.5437514467559863,
          0.8468484480608329,
          0.7898473428685026,
          0.7168791240146745,
          0.18038311950933206,
          0.19470310432542945,
          -0.6880783920433272,
          -1.2336408453838985,
          -0.9501503471607181,
          0.36047791513110083,
          -2.3000859597709953,
          -0.5648727722864505,
          0.07535442124114042,
          -1.0231862796219837,
          -0.2286057647331581,
          1.6520351190666764
         ]
        }
       ],
       "layout": {
        "legend": {
         "bgcolor": "#F5F6F9",
         "font": {
          "color": "#4D5663"
         }
        },
        "paper_bgcolor": "#F5F6F9",
        "plot_bgcolor": "#F5F6F9",
        "template": {
         "data": {
          "bar": [
           {
            "error_x": {
             "color": "#2a3f5f"
            },
            "error_y": {
             "color": "#2a3f5f"
            },
            "marker": {
             "line": {
              "color": "#E5ECF6",
              "width": 0.5
             },
             "pattern": {
              "fillmode": "overlay",
              "size": 10,
              "solidity": 0.2
             }
            },
            "type": "bar"
           }
          ],
          "barpolar": [
           {
            "marker": {
             "line": {
              "color": "#E5ECF6",
              "width": 0.5
             },
             "pattern": {
              "fillmode": "overlay",
              "size": 10,
              "solidity": 0.2
             }
            },
            "type": "barpolar"
           }
          ],
          "carpet": [
           {
            "aaxis": {
             "endlinecolor": "#2a3f5f",
             "gridcolor": "white",
             "linecolor": "white",
             "minorgridcolor": "white",
             "startlinecolor": "#2a3f5f"
            },
            "baxis": {
             "endlinecolor": "#2a3f5f",
             "gridcolor": "white",
             "linecolor": "white",
             "minorgridcolor": "white",
             "startlinecolor": "#2a3f5f"
            },
            "type": "carpet"
           }
          ],
          "choropleth": [
           {
            "colorbar": {
             "outlinewidth": 0,
             "ticks": ""
            },
            "type": "choropleth"
           }
          ],
          "contour": [
           {
            "colorbar": {
             "outlinewidth": 0,
             "ticks": ""
            },
            "colorscale": [
             [
              0,
              "#0d0887"
             ],
             [
              0.1111111111111111,
              "#46039f"
             ],
             [
              0.2222222222222222,
              "#7201a8"
             ],
             [
              0.3333333333333333,
              "#9c179e"
             ],
             [
              0.4444444444444444,
              "#bd3786"
             ],
             [
              0.5555555555555556,
              "#d8576b"
             ],
             [
              0.6666666666666666,
              "#ed7953"
             ],
             [
              0.7777777777777778,
              "#fb9f3a"
             ],
             [
              0.8888888888888888,
              "#fdca26"
             ],
             [
              1,
              "#f0f921"
             ]
            ],
            "type": "contour"
           }
          ],
          "contourcarpet": [
           {
            "colorbar": {
             "outlinewidth": 0,
             "ticks": ""
            },
            "type": "contourcarpet"
           }
          ],
          "heatmap": [
           {
            "colorbar": {
             "outlinewidth": 0,
             "ticks": ""
            },
            "colorscale": [
             [
              0,
              "#0d0887"
             ],
             [
              0.1111111111111111,
              "#46039f"
             ],
             [
              0.2222222222222222,
              "#7201a8"
             ],
             [
              0.3333333333333333,
              "#9c179e"
             ],
             [
              0.4444444444444444,
              "#bd3786"
             ],
             [
              0.5555555555555556,
              "#d8576b"
             ],
             [
              0.6666666666666666,
              "#ed7953"
             ],
             [
              0.7777777777777778,
              "#fb9f3a"
             ],
             [
              0.8888888888888888,
              "#fdca26"
             ],
             [
              1,
              "#f0f921"
             ]
            ],
            "type": "heatmap"
           }
          ],
          "heatmapgl": [
           {
            "colorbar": {
             "outlinewidth": 0,
             "ticks": ""
            },
            "colorscale": [
             [
              0,
              "#0d0887"
             ],
             [
              0.1111111111111111,
              "#46039f"
             ],
             [
              0.2222222222222222,
              "#7201a8"
             ],
             [
              0.3333333333333333,
              "#9c179e"
             ],
             [
              0.4444444444444444,
              "#bd3786"
             ],
             [
              0.5555555555555556,
              "#d8576b"
             ],
             [
              0.6666666666666666,
              "#ed7953"
             ],
             [
              0.7777777777777778,
              "#fb9f3a"
             ],
             [
              0.8888888888888888,
              "#fdca26"
             ],
             [
              1,
              "#f0f921"
             ]
            ],
            "type": "heatmapgl"
           }
          ],
          "histogram": [
           {
            "marker": {
             "pattern": {
              "fillmode": "overlay",
              "size": 10,
              "solidity": 0.2
             }
            },
            "type": "histogram"
           }
          ],
          "histogram2d": [
           {
            "colorbar": {
             "outlinewidth": 0,
             "ticks": ""
            },
            "colorscale": [
             [
              0,
              "#0d0887"
             ],
             [
              0.1111111111111111,
              "#46039f"
             ],
             [
              0.2222222222222222,
              "#7201a8"
             ],
             [
              0.3333333333333333,
              "#9c179e"
             ],
             [
              0.4444444444444444,
              "#bd3786"
             ],
             [
              0.5555555555555556,
              "#d8576b"
             ],
             [
              0.6666666666666666,
              "#ed7953"
             ],
             [
              0.7777777777777778,
              "#fb9f3a"
             ],
             [
              0.8888888888888888,
              "#fdca26"
             ],
             [
              1,
              "#f0f921"
             ]
            ],
            "type": "histogram2d"
           }
          ],
          "histogram2dcontour": [
           {
            "colorbar": {
             "outlinewidth": 0,
             "ticks": ""
            },
            "colorscale": [
             [
              0,
              "#0d0887"
             ],
             [
              0.1111111111111111,
              "#46039f"
             ],
             [
              0.2222222222222222,
              "#7201a8"
             ],
             [
              0.3333333333333333,
              "#9c179e"
             ],
             [
              0.4444444444444444,
              "#bd3786"
             ],
             [
              0.5555555555555556,
              "#d8576b"
             ],
             [
              0.6666666666666666,
              "#ed7953"
             ],
             [
              0.7777777777777778,
              "#fb9f3a"
             ],
             [
              0.8888888888888888,
              "#fdca26"
             ],
             [
              1,
              "#f0f921"
             ]
            ],
            "type": "histogram2dcontour"
           }
          ],
          "mesh3d": [
           {
            "colorbar": {
             "outlinewidth": 0,
             "ticks": ""
            },
            "type": "mesh3d"
           }
          ],
          "parcoords": [
           {
            "line": {
             "colorbar": {
              "outlinewidth": 0,
              "ticks": ""
             }
            },
            "type": "parcoords"
           }
          ],
          "pie": [
           {
            "automargin": true,
            "type": "pie"
           }
          ],
          "scatter": [
           {
            "fillpattern": {
             "fillmode": "overlay",
             "size": 10,
             "solidity": 0.2
            },
            "type": "scatter"
           }
          ],
          "scatter3d": [
           {
            "line": {
             "colorbar": {
              "outlinewidth": 0,
              "ticks": ""
             }
            },
            "marker": {
             "colorbar": {
              "outlinewidth": 0,
              "ticks": ""
             }
            },
            "type": "scatter3d"
           }
          ],
          "scattercarpet": [
           {
            "marker": {
             "colorbar": {
              "outlinewidth": 0,
              "ticks": ""
             }
            },
            "type": "scattercarpet"
           }
          ],
          "scattergeo": [
           {
            "marker": {
             "colorbar": {
              "outlinewidth": 0,
              "ticks": ""
             }
            },
            "type": "scattergeo"
           }
          ],
          "scattergl": [
           {
            "marker": {
             "colorbar": {
              "outlinewidth": 0,
              "ticks": ""
             }
            },
            "type": "scattergl"
           }
          ],
          "scattermapbox": [
           {
            "marker": {
             "colorbar": {
              "outlinewidth": 0,
              "ticks": ""
             }
            },
            "type": "scattermapbox"
           }
          ],
          "scatterpolar": [
           {
            "marker": {
             "colorbar": {
              "outlinewidth": 0,
              "ticks": ""
             }
            },
            "type": "scatterpolar"
           }
          ],
          "scatterpolargl": [
           {
            "marker": {
             "colorbar": {
              "outlinewidth": 0,
              "ticks": ""
             }
            },
            "type": "scatterpolargl"
           }
          ],
          "scatterternary": [
           {
            "marker": {
             "colorbar": {
              "outlinewidth": 0,
              "ticks": ""
             }
            },
            "type": "scatterternary"
           }
          ],
          "surface": [
           {
            "colorbar": {
             "outlinewidth": 0,
             "ticks": ""
            },
            "colorscale": [
             [
              0,
              "#0d0887"
             ],
             [
              0.1111111111111111,
              "#46039f"
             ],
             [
              0.2222222222222222,
              "#7201a8"
             ],
             [
              0.3333333333333333,
              "#9c179e"
             ],
             [
              0.4444444444444444,
              "#bd3786"
             ],
             [
              0.5555555555555556,
              "#d8576b"
             ],
             [
              0.6666666666666666,
              "#ed7953"
             ],
             [
              0.7777777777777778,
              "#fb9f3a"
             ],
             [
              0.8888888888888888,
              "#fdca26"
             ],
             [
              1,
              "#f0f921"
             ]
            ],
            "type": "surface"
           }
          ],
          "table": [
           {
            "cells": {
             "fill": {
              "color": "#EBF0F8"
             },
             "line": {
              "color": "white"
             }
            },
            "header": {
             "fill": {
              "color": "#C8D4E3"
             },
             "line": {
              "color": "white"
             }
            },
            "type": "table"
           }
          ]
         },
         "layout": {
          "annotationdefaults": {
           "arrowcolor": "#2a3f5f",
           "arrowhead": 0,
           "arrowwidth": 1
          },
          "autotypenumbers": "strict",
          "coloraxis": {
           "colorbar": {
            "outlinewidth": 0,
            "ticks": ""
           }
          },
          "colorscale": {
           "diverging": [
            [
             0,
             "#8e0152"
            ],
            [
             0.1,
             "#c51b7d"
            ],
            [
             0.2,
             "#de77ae"
            ],
            [
             0.3,
             "#f1b6da"
            ],
            [
             0.4,
             "#fde0ef"
            ],
            [
             0.5,
             "#f7f7f7"
            ],
            [
             0.6,
             "#e6f5d0"
            ],
            [
             0.7,
             "#b8e186"
            ],
            [
             0.8,
             "#7fbc41"
            ],
            [
             0.9,
             "#4d9221"
            ],
            [
             1,
             "#276419"
            ]
           ],
           "sequential": [
            [
             0,
             "#0d0887"
            ],
            [
             0.1111111111111111,
             "#46039f"
            ],
            [
             0.2222222222222222,
             "#7201a8"
            ],
            [
             0.3333333333333333,
             "#9c179e"
            ],
            [
             0.4444444444444444,
             "#bd3786"
            ],
            [
             0.5555555555555556,
             "#d8576b"
            ],
            [
             0.6666666666666666,
             "#ed7953"
            ],
            [
             0.7777777777777778,
             "#fb9f3a"
            ],
            [
             0.8888888888888888,
             "#fdca26"
            ],
            [
             1,
             "#f0f921"
            ]
           ],
           "sequentialminus": [
            [
             0,
             "#0d0887"
            ],
            [
             0.1111111111111111,
             "#46039f"
            ],
            [
             0.2222222222222222,
             "#7201a8"
            ],
            [
             0.3333333333333333,
             "#9c179e"
            ],
            [
             0.4444444444444444,
             "#bd3786"
            ],
            [
             0.5555555555555556,
             "#d8576b"
            ],
            [
             0.6666666666666666,
             "#ed7953"
            ],
            [
             0.7777777777777778,
             "#fb9f3a"
            ],
            [
             0.8888888888888888,
             "#fdca26"
            ],
            [
             1,
             "#f0f921"
            ]
           ]
          },
          "colorway": [
           "#636efa",
           "#EF553B",
           "#00cc96",
           "#ab63fa",
           "#FFA15A",
           "#19d3f3",
           "#FF6692",
           "#B6E880",
           "#FF97FF",
           "#FECB52"
          ],
          "font": {
           "color": "#2a3f5f"
          },
          "geo": {
           "bgcolor": "white",
           "lakecolor": "white",
           "landcolor": "#E5ECF6",
           "showlakes": true,
           "showland": true,
           "subunitcolor": "white"
          },
          "hoverlabel": {
           "align": "left"
          },
          "hovermode": "closest",
          "mapbox": {
           "style": "light"
          },
          "paper_bgcolor": "white",
          "plot_bgcolor": "#E5ECF6",
          "polar": {
           "angularaxis": {
            "gridcolor": "white",
            "linecolor": "white",
            "ticks": ""
           },
           "bgcolor": "#E5ECF6",
           "radialaxis": {
            "gridcolor": "white",
            "linecolor": "white",
            "ticks": ""
           }
          },
          "scene": {
           "xaxis": {
            "backgroundcolor": "#E5ECF6",
            "gridcolor": "white",
            "gridwidth": 2,
            "linecolor": "white",
            "showbackground": true,
            "ticks": "",
            "zerolinecolor": "white"
           },
           "yaxis": {
            "backgroundcolor": "#E5ECF6",
            "gridcolor": "white",
            "gridwidth": 2,
            "linecolor": "white",
            "showbackground": true,
            "ticks": "",
            "zerolinecolor": "white"
           },
           "zaxis": {
            "backgroundcolor": "#E5ECF6",
            "gridcolor": "white",
            "gridwidth": 2,
            "linecolor": "white",
            "showbackground": true,
            "ticks": "",
            "zerolinecolor": "white"
           }
          },
          "shapedefaults": {
           "line": {
            "color": "#2a3f5f"
           }
          },
          "ternary": {
           "aaxis": {
            "gridcolor": "white",
            "linecolor": "white",
            "ticks": ""
           },
           "baxis": {
            "gridcolor": "white",
            "linecolor": "white",
            "ticks": ""
           },
           "bgcolor": "#E5ECF6",
           "caxis": {
            "gridcolor": "white",
            "linecolor": "white",
            "ticks": ""
           }
          },
          "title": {
           "x": 0.05
          },
          "xaxis": {
           "automargin": true,
           "gridcolor": "white",
           "linecolor": "white",
           "ticks": "",
           "title": {
            "standoff": 15
           },
           "zerolinecolor": "white",
           "zerolinewidth": 2
          },
          "yaxis": {
           "automargin": true,
           "gridcolor": "white",
           "linecolor": "white",
           "ticks": "",
           "title": {
            "standoff": 15
           },
           "zerolinecolor": "white",
           "zerolinewidth": 2
          }
         }
        },
        "title": {
         "font": {
          "color": "#4D5663"
         }
        },
        "xaxis": {
         "gridcolor": "#E1E5ED",
         "showgrid": true,
         "tickfont": {
          "color": "#4D5663"
         },
         "title": {
          "font": {
           "color": "#4D5663"
          },
          "text": ""
         },
         "zerolinecolor": "#E1E5ED"
        },
        "yaxis": {
         "gridcolor": "#E1E5ED",
         "showgrid": true,
         "tickfont": {
          "color": "#4D5663"
         },
         "title": {
          "font": {
           "color": "#4D5663"
          },
          "text": ""
         },
         "zerolinecolor": "#E1E5ED"
        }
       }
      },
      "text/html": [
       "<div>                            <div id=\"0f0211d7-5bf6-421f-8f62-3228e1e3b05f\" class=\"plotly-graph-div\" style=\"height:525px; width:100%;\"></div>            <script type=\"text/javascript\">                require([\"plotly\"], function(Plotly) {                    window.PLOTLYENV=window.PLOTLYENV || {};\n",
       "                    window.PLOTLYENV.BASE_URL='https://plot.ly';                                    if (document.getElementById(\"0f0211d7-5bf6-421f-8f62-3228e1e3b05f\")) {                    Plotly.newPlot(                        \"0f0211d7-5bf6-421f-8f62-3228e1e3b05f\",                        [{\"boxpoints\":false,\"line\":{\"width\":1.3},\"marker\":{\"color\":\"rgba(255, 153, 51, 1.0)\"},\"name\":\"A\",\"orientation\":\"v\",\"y\":[-1.8158066953241796,-0.1532154842648918,-0.9087624017607344,-0.715856808084371,-0.7771907606069965,0.7351655714121069,-0.4340066741738052,-1.3736300616332289,-1.0910279061608386,-0.17715896700797562,0.7275992622753656,0.5719735501374622,0.1098535938239624,-0.7597209632957299,-1.1109900639357473,0.6925199043660469,0.7199999841009106,0.2873822213373869,-0.15420187444897465,0.008442848745635374,1.664921806311949,-1.3569852377652243,-0.23428268105986771,-1.9065024563371196,-1.8490542212588523,-0.9960295932103904,0.02314877232934917,1.7212068472548776,1.9013955197338033,-2.35253242851831,0.03040455800019841,0.21563700808987987,-0.4597229928437187,-0.7278607880726488,0.8877592700568671,0.4871704573515719,1.2769068225620719,0.18018462540389163,0.8649699512695074,-0.7445046848660324,-1.2890167760381392,0.5217925979706663,0.9389152424518948,0.9410136911071448,1.5734356802920477,1.4534955851108855,1.6379349099164204,2.051825040464344,-0.8723796481954755,0.6451170978250104,0.7996633553911477,-0.3758811118599081,0.8368783860108395,1.1672923335724237,1.9989574214327248,-0.9803635632487172,1.0272909775625343,-1.6470378469496967,-1.184745488394547,1.240609769403117,2.561043412628804,-0.5143615665306566,0.7449677226155068,-0.6201547168031414,0.6061735043418385,-0.6917606684322949,-0.4568162851669821,-1.4467767829303313,-0.4197208185978394,-0.27718742129594875,0.37837120923512646,1.2126642629518882,0.0393734817792643,-0.26340619911106694,-0.8351980357082801,-0.7959718758615214,0.6618589942538259,-0.4809145778698422,-0.5892785393324456,-0.25863477635135435,-0.6227807044887773,0.6993285851779953,-0.45746330629230986,-1.1643534645330045,1.3236560625253453,-0.6252302065588559,0.3150282283965467,1.137719962772657,0.514273522992465,0.17608458637176752,-0.6721697934374377,-0.9601912730760108,-0.9638044403008365,-0.35406490944069513,0.27014409824766095,0.7873120088931022,-0.4853469923359565,-0.35362079253020634,0.35722262241125424,-0.3869299705042295],\"type\":\"box\"},{\"boxpoints\":false,\"line\":{\"width\":1.3},\"marker\":{\"color\":\"rgba(55, 128, 191, 1.0)\"},\"name\":\"B\",\"orientation\":\"v\",\"y\":[1.6962518426992457,-0.982193639127554,-2.1197856966587434,0.38054873370497094,-1.361275653580498,0.3019613106241735,0.5737655133927131,1.0945211359269573,0.5495438835085136,1.0344716229317987,1.5145618337839344,-1.322817574245342,-1.1907820282214117,-0.528632777074625,1.3012340540546952,-1.0689263129920183,-2.84496629837369,0.046135758701366845,-0.24639563344520166,0.25128120296962836,0.36830940996399714,0.12031333614256282,-0.8010686487431482,-1.9327299966087452,0.7590071315508242,0.09728845697523336,-0.6894331452347948,0.11100076999006471,0.8004367772526133,-0.3793003097447568,-0.010050251411239644,-1.157220777492313,0.2488904704855463,0.8320141897637261,-0.12460299783173051,-0.9910263142307557,0.7372791083222395,0.24955057188182372,-0.8396515362306939,-0.6309241374644079,-0.279841188171254,-0.16186589249778788,0.8051370085683334,0.6540567389457904,-1.5798108304946163,0.20639652702521474,0.39333903402492476,-0.4810666724010602,-0.3800959479086856,-0.3077260319677847,1.5208418364763474,0.7892210421725961,1.8591446122703879,1.7034420043231697,-0.10683091684168655,-0.4775338738383854,-1.0079070689317284,-1.0112734900097282,0.7111182117640453,1.0486950375562232,-0.26391919214625303,-0.4113679094580015,-0.2605367678626934,-0.47530461482159114,-0.053143688579886626,2.3967430629102333,1.8709284111420503,0.25187514496472596,-0.02397569055830253,-0.09829431482066459,0.09403916694330741,0.06531118931264279,1.7638042278748831,1.0049939775004493,-0.6137431487150112,0.6570327734296777,-0.6289093946870737,0.5903155802129443,-1.2205401647556249,0.16685846375701371,-0.7512178872411197,0.08940485042033164,0.7271257315355758,-0.8861325348030998,-0.11871209816686926,-1.4093783931195987,-0.1736218521324273,-1.556684785992902,0.2470908600596826,0.056697008587313615,0.7871147589497839,-0.8801147388503565,0.3565693844796211,-0.3783507036715136,-0.5636310145664183,-0.18403442117576474,0.7945894980989373,0.8203119259602427,-0.8631082962731352,0.21257593940078842],\"type\":\"box\"},{\"boxpoints\":false,\"line\":{\"width\":1.3},\"marker\":{\"color\":\"rgba(50, 171, 96, 1.0)\"},\"name\":\"C\",\"orientation\":\"v\",\"y\":[-0.7385392085312609,0.6059015187854616,1.122739800613316,1.3453235784911914,0.3269935992661774,-1.0707310105993268,-0.3806197642092073,1.6409229266368266,-2.352066299648475,-0.9994785837613791,-0.6912934823216503,1.2826438376675886,0.10291044180972408,0.3349043094372565,-1.0055135614015855,0.9757634381272896,0.9079558995973859,-0.46594652589269664,0.8060052181025692,1.1165653993576703,0.27351976698254615,1.2117888986596437,0.6771514068440193,0.39219000665164555,0.3479770692323999,1.2563752513554332,-1.1979478266842263,-1.78307557243645,-0.7562741622749357,-0.2974990576728704,-0.1151922607598481,1.311871447079243,1.9289668587901412,1.0447706767606724,-0.3002488998726798,0.16269844415688542,0.8631392392988955,-0.7411929665425697,0.5616519838700285,-0.3131147621350836,-0.6069109587105764,-1.447767624550431,-1.442722977432391,-0.6919784434260245,-0.8831316251819575,-0.776479665148661,1.1172122351362055,1.2176337093966687,1.5476467707595074,0.3626072098823158,-1.0983325162443291,-1.383177292817952,1.9628058171277503,-0.055803093732660805,-1.5747713332299496,-0.26532393249082487,0.5479439877410442,1.5535865364644714,-0.47659834301066384,0.2672767984483275,-0.8961147350469946,-0.06471050710422788,-0.5905964775463705,0.7655941714589244,-0.31953091828895985,0.06789288352679154,-1.422263846816249,-0.801161627353756,0.6188842280311928,2.028647190875111,-0.741868678745086,1.6069381796445703,-0.6690556554555435,-0.063584543693092,0.6246448471547272,-0.4216210453943756,-0.8640390041112331,0.5253639742208898,-0.48438019081842754,0.5369509248484133,0.32057822601106967,-1.8760068692251701,0.13126982972121115,0.2970202750556522,0.31359419559538876,-0.3971136117430385,-0.6860056529632396,-0.8962827751063993,0.0025431485827040403,0.27089769469654046,0.7033910031533249,-0.3643665317857516,-0.11787071628933615,-0.9817195744729845,-1.0732541183436184,1.2957749565724392,-1.4894334754857605,0.6917993062855475,-0.3556696508654084,-0.11742785402261754],\"type\":\"box\"},{\"boxpoints\":false,\"line\":{\"width\":1.3},\"marker\":{\"color\":\"rgba(128, 0, 128, 1.0)\"},\"name\":\"D\",\"orientation\":\"v\",\"y\":[-1.6139200331698593,0.1438679806922359,-0.6931362890789643,0.5293045437878271,0.3221349048970399,0.10571979308408555,-0.24687444774814254,1.518751836633535,-1.8417441436634612,1.1901312662968089,1.0452829018107455,0.30605659929868206,-0.43068673344610603,-1.3875533434371963,-0.31328259811412107,-0.47961676390549984,1.325030202070095,-0.4449698448561779,1.0439278536071046,1.5298569917653597,-0.49411730219163136,0.18378781126397709,0.1887592665717357,1.1025966370286202,1.4506954668482208,-2.3261959513491073,-0.4550870936241418,-0.9292829494272545,0.01052435481631606,0.04724180974889832,-0.592794748419755,0.5048698619125271,-0.31543236030487437,1.0659531865858582,-0.8199027965146775,0.9665933026153964,-0.2267356656419576,-0.9656196090197346,0.29696010229584796,-1.6579526166657388,1.2748038036746216,-0.12764161793534448,-0.05487234560680018,0.2861875269503629,0.43721364089885206,1.6086221484162546,-0.7979471094796152,-0.5861898093399176,1.3377350533309027,-0.3739936342499101,0.7462187044964173,-1.2554014451140587,0.5868402650420513,0.8703440156057092,-0.1742196969932546,1.4469818706730642,-0.6262021275282917,0.08399422005607338,-1.8055896023356686,-1.3243969569382086,1.1345389701396054,0.2481429357286683,0.2835512541345572,-0.6881976210702818,-1.0120345386137457,-0.3034886605647908,0.11398208922115317,0.36076317300524025,-0.5169099907753333,1.660678219041089,0.02712667239714875,-2.039741784619864,-0.2805689576358341,1.07484873721293,-0.3521633386079611,0.02930939901426263,-2.5392183963702495,-0.1852718250188313,0.13784622935873658,-0.5808272711014993,-0.5694492380190268,0.3574733700727333,-0.5989894269618654,0.1773981082301825,-2.5437514467559863,0.8468484480608329,0.7898473428685026,0.7168791240146745,0.18038311950933206,0.19470310432542945,-0.6880783920433272,-1.2336408453838985,-0.9501503471607181,0.36047791513110083,-2.3000859597709953,-0.5648727722864505,0.07535442124114042,-1.0231862796219837,-0.2286057647331581,1.6520351190666764],\"type\":\"box\"}],                        {\"legend\":{\"bgcolor\":\"#F5F6F9\",\"font\":{\"color\":\"#4D5663\"}},\"paper_bgcolor\":\"#F5F6F9\",\"plot_bgcolor\":\"#F5F6F9\",\"template\":{\"data\":{\"barpolar\":[{\"marker\":{\"line\":{\"color\":\"#E5ECF6\",\"width\":0.5},\"pattern\":{\"fillmode\":\"overlay\",\"size\":10,\"solidity\":0.2}},\"type\":\"barpolar\"}],\"bar\":[{\"error_x\":{\"color\":\"#2a3f5f\"},\"error_y\":{\"color\":\"#2a3f5f\"},\"marker\":{\"line\":{\"color\":\"#E5ECF6\",\"width\":0.5},\"pattern\":{\"fillmode\":\"overlay\",\"size\":10,\"solidity\":0.2}},\"type\":\"bar\"}],\"carpet\":[{\"aaxis\":{\"endlinecolor\":\"#2a3f5f\",\"gridcolor\":\"white\",\"linecolor\":\"white\",\"minorgridcolor\":\"white\",\"startlinecolor\":\"#2a3f5f\"},\"baxis\":{\"endlinecolor\":\"#2a3f5f\",\"gridcolor\":\"white\",\"linecolor\":\"white\",\"minorgridcolor\":\"white\",\"startlinecolor\":\"#2a3f5f\"},\"type\":\"carpet\"}],\"choropleth\":[{\"colorbar\":{\"outlinewidth\":0,\"ticks\":\"\"},\"type\":\"choropleth\"}],\"contourcarpet\":[{\"colorbar\":{\"outlinewidth\":0,\"ticks\":\"\"},\"type\":\"contourcarpet\"}],\"contour\":[{\"colorbar\":{\"outlinewidth\":0,\"ticks\":\"\"},\"colorscale\":[[0.0,\"#0d0887\"],[0.1111111111111111,\"#46039f\"],[0.2222222222222222,\"#7201a8\"],[0.3333333333333333,\"#9c179e\"],[0.4444444444444444,\"#bd3786\"],[0.5555555555555556,\"#d8576b\"],[0.6666666666666666,\"#ed7953\"],[0.7777777777777778,\"#fb9f3a\"],[0.8888888888888888,\"#fdca26\"],[1.0,\"#f0f921\"]],\"type\":\"contour\"}],\"heatmapgl\":[{\"colorbar\":{\"outlinewidth\":0,\"ticks\":\"\"},\"colorscale\":[[0.0,\"#0d0887\"],[0.1111111111111111,\"#46039f\"],[0.2222222222222222,\"#7201a8\"],[0.3333333333333333,\"#9c179e\"],[0.4444444444444444,\"#bd3786\"],[0.5555555555555556,\"#d8576b\"],[0.6666666666666666,\"#ed7953\"],[0.7777777777777778,\"#fb9f3a\"],[0.8888888888888888,\"#fdca26\"],[1.0,\"#f0f921\"]],\"type\":\"heatmapgl\"}],\"heatmap\":[{\"colorbar\":{\"outlinewidth\":0,\"ticks\":\"\"},\"colorscale\":[[0.0,\"#0d0887\"],[0.1111111111111111,\"#46039f\"],[0.2222222222222222,\"#7201a8\"],[0.3333333333333333,\"#9c179e\"],[0.4444444444444444,\"#bd3786\"],[0.5555555555555556,\"#d8576b\"],[0.6666666666666666,\"#ed7953\"],[0.7777777777777778,\"#fb9f3a\"],[0.8888888888888888,\"#fdca26\"],[1.0,\"#f0f921\"]],\"type\":\"heatmap\"}],\"histogram2dcontour\":[{\"colorbar\":{\"outlinewidth\":0,\"ticks\":\"\"},\"colorscale\":[[0.0,\"#0d0887\"],[0.1111111111111111,\"#46039f\"],[0.2222222222222222,\"#7201a8\"],[0.3333333333333333,\"#9c179e\"],[0.4444444444444444,\"#bd3786\"],[0.5555555555555556,\"#d8576b\"],[0.6666666666666666,\"#ed7953\"],[0.7777777777777778,\"#fb9f3a\"],[0.8888888888888888,\"#fdca26\"],[1.0,\"#f0f921\"]],\"type\":\"histogram2dcontour\"}],\"histogram2d\":[{\"colorbar\":{\"outlinewidth\":0,\"ticks\":\"\"},\"colorscale\":[[0.0,\"#0d0887\"],[0.1111111111111111,\"#46039f\"],[0.2222222222222222,\"#7201a8\"],[0.3333333333333333,\"#9c179e\"],[0.4444444444444444,\"#bd3786\"],[0.5555555555555556,\"#d8576b\"],[0.6666666666666666,\"#ed7953\"],[0.7777777777777778,\"#fb9f3a\"],[0.8888888888888888,\"#fdca26\"],[1.0,\"#f0f921\"]],\"type\":\"histogram2d\"}],\"histogram\":[{\"marker\":{\"pattern\":{\"fillmode\":\"overlay\",\"size\":10,\"solidity\":0.2}},\"type\":\"histogram\"}],\"mesh3d\":[{\"colorbar\":{\"outlinewidth\":0,\"ticks\":\"\"},\"type\":\"mesh3d\"}],\"parcoords\":[{\"line\":{\"colorbar\":{\"outlinewidth\":0,\"ticks\":\"\"}},\"type\":\"parcoords\"}],\"pie\":[{\"automargin\":true,\"type\":\"pie\"}],\"scatter3d\":[{\"line\":{\"colorbar\":{\"outlinewidth\":0,\"ticks\":\"\"}},\"marker\":{\"colorbar\":{\"outlinewidth\":0,\"ticks\":\"\"}},\"type\":\"scatter3d\"}],\"scattercarpet\":[{\"marker\":{\"colorbar\":{\"outlinewidth\":0,\"ticks\":\"\"}},\"type\":\"scattercarpet\"}],\"scattergeo\":[{\"marker\":{\"colorbar\":{\"outlinewidth\":0,\"ticks\":\"\"}},\"type\":\"scattergeo\"}],\"scattergl\":[{\"marker\":{\"colorbar\":{\"outlinewidth\":0,\"ticks\":\"\"}},\"type\":\"scattergl\"}],\"scattermapbox\":[{\"marker\":{\"colorbar\":{\"outlinewidth\":0,\"ticks\":\"\"}},\"type\":\"scattermapbox\"}],\"scatterpolargl\":[{\"marker\":{\"colorbar\":{\"outlinewidth\":0,\"ticks\":\"\"}},\"type\":\"scatterpolargl\"}],\"scatterpolar\":[{\"marker\":{\"colorbar\":{\"outlinewidth\":0,\"ticks\":\"\"}},\"type\":\"scatterpolar\"}],\"scatter\":[{\"fillpattern\":{\"fillmode\":\"overlay\",\"size\":10,\"solidity\":0.2},\"type\":\"scatter\"}],\"scatterternary\":[{\"marker\":{\"colorbar\":{\"outlinewidth\":0,\"ticks\":\"\"}},\"type\":\"scatterternary\"}],\"surface\":[{\"colorbar\":{\"outlinewidth\":0,\"ticks\":\"\"},\"colorscale\":[[0.0,\"#0d0887\"],[0.1111111111111111,\"#46039f\"],[0.2222222222222222,\"#7201a8\"],[0.3333333333333333,\"#9c179e\"],[0.4444444444444444,\"#bd3786\"],[0.5555555555555556,\"#d8576b\"],[0.6666666666666666,\"#ed7953\"],[0.7777777777777778,\"#fb9f3a\"],[0.8888888888888888,\"#fdca26\"],[1.0,\"#f0f921\"]],\"type\":\"surface\"}],\"table\":[{\"cells\":{\"fill\":{\"color\":\"#EBF0F8\"},\"line\":{\"color\":\"white\"}},\"header\":{\"fill\":{\"color\":\"#C8D4E3\"},\"line\":{\"color\":\"white\"}},\"type\":\"table\"}]},\"layout\":{\"annotationdefaults\":{\"arrowcolor\":\"#2a3f5f\",\"arrowhead\":0,\"arrowwidth\":1},\"autotypenumbers\":\"strict\",\"coloraxis\":{\"colorbar\":{\"outlinewidth\":0,\"ticks\":\"\"}},\"colorscale\":{\"diverging\":[[0,\"#8e0152\"],[0.1,\"#c51b7d\"],[0.2,\"#de77ae\"],[0.3,\"#f1b6da\"],[0.4,\"#fde0ef\"],[0.5,\"#f7f7f7\"],[0.6,\"#e6f5d0\"],[0.7,\"#b8e186\"],[0.8,\"#7fbc41\"],[0.9,\"#4d9221\"],[1,\"#276419\"]],\"sequential\":[[0.0,\"#0d0887\"],[0.1111111111111111,\"#46039f\"],[0.2222222222222222,\"#7201a8\"],[0.3333333333333333,\"#9c179e\"],[0.4444444444444444,\"#bd3786\"],[0.5555555555555556,\"#d8576b\"],[0.6666666666666666,\"#ed7953\"],[0.7777777777777778,\"#fb9f3a\"],[0.8888888888888888,\"#fdca26\"],[1.0,\"#f0f921\"]],\"sequentialminus\":[[0.0,\"#0d0887\"],[0.1111111111111111,\"#46039f\"],[0.2222222222222222,\"#7201a8\"],[0.3333333333333333,\"#9c179e\"],[0.4444444444444444,\"#bd3786\"],[0.5555555555555556,\"#d8576b\"],[0.6666666666666666,\"#ed7953\"],[0.7777777777777778,\"#fb9f3a\"],[0.8888888888888888,\"#fdca26\"],[1.0,\"#f0f921\"]]},\"colorway\":[\"#636efa\",\"#EF553B\",\"#00cc96\",\"#ab63fa\",\"#FFA15A\",\"#19d3f3\",\"#FF6692\",\"#B6E880\",\"#FF97FF\",\"#FECB52\"],\"font\":{\"color\":\"#2a3f5f\"},\"geo\":{\"bgcolor\":\"white\",\"lakecolor\":\"white\",\"landcolor\":\"#E5ECF6\",\"showlakes\":true,\"showland\":true,\"subunitcolor\":\"white\"},\"hoverlabel\":{\"align\":\"left\"},\"hovermode\":\"closest\",\"mapbox\":{\"style\":\"light\"},\"paper_bgcolor\":\"white\",\"plot_bgcolor\":\"#E5ECF6\",\"polar\":{\"angularaxis\":{\"gridcolor\":\"white\",\"linecolor\":\"white\",\"ticks\":\"\"},\"bgcolor\":\"#E5ECF6\",\"radialaxis\":{\"gridcolor\":\"white\",\"linecolor\":\"white\",\"ticks\":\"\"}},\"scene\":{\"xaxis\":{\"backgroundcolor\":\"#E5ECF6\",\"gridcolor\":\"white\",\"gridwidth\":2,\"linecolor\":\"white\",\"showbackground\":true,\"ticks\":\"\",\"zerolinecolor\":\"white\"},\"yaxis\":{\"backgroundcolor\":\"#E5ECF6\",\"gridcolor\":\"white\",\"gridwidth\":2,\"linecolor\":\"white\",\"showbackground\":true,\"ticks\":\"\",\"zerolinecolor\":\"white\"},\"zaxis\":{\"backgroundcolor\":\"#E5ECF6\",\"gridcolor\":\"white\",\"gridwidth\":2,\"linecolor\":\"white\",\"showbackground\":true,\"ticks\":\"\",\"zerolinecolor\":\"white\"}},\"shapedefaults\":{\"line\":{\"color\":\"#2a3f5f\"}},\"ternary\":{\"aaxis\":{\"gridcolor\":\"white\",\"linecolor\":\"white\",\"ticks\":\"\"},\"baxis\":{\"gridcolor\":\"white\",\"linecolor\":\"white\",\"ticks\":\"\"},\"bgcolor\":\"#E5ECF6\",\"caxis\":{\"gridcolor\":\"white\",\"linecolor\":\"white\",\"ticks\":\"\"}},\"title\":{\"x\":0.05},\"xaxis\":{\"automargin\":true,\"gridcolor\":\"white\",\"linecolor\":\"white\",\"ticks\":\"\",\"title\":{\"standoff\":15},\"zerolinecolor\":\"white\",\"zerolinewidth\":2},\"yaxis\":{\"automargin\":true,\"gridcolor\":\"white\",\"linecolor\":\"white\",\"ticks\":\"\",\"title\":{\"standoff\":15},\"zerolinecolor\":\"white\",\"zerolinewidth\":2}}},\"title\":{\"font\":{\"color\":\"#4D5663\"}},\"xaxis\":{\"gridcolor\":\"#E1E5ED\",\"showgrid\":true,\"tickfont\":{\"color\":\"#4D5663\"},\"title\":{\"font\":{\"color\":\"#4D5663\"},\"text\":\"\"},\"zerolinecolor\":\"#E1E5ED\"},\"yaxis\":{\"gridcolor\":\"#E1E5ED\",\"showgrid\":true,\"tickfont\":{\"color\":\"#4D5663\"},\"title\":{\"font\":{\"color\":\"#4D5663\"},\"text\":\"\"},\"zerolinecolor\":\"#E1E5ED\"}},                        {\"showLink\": true, \"linkText\": \"Export to plot.ly\", \"plotlyServerURL\": \"https://plot.ly\", \"responsive\": true}                    ).then(function(){\n",
       "                            \n",
       "var gd = document.getElementById('0f0211d7-5bf6-421f-8f62-3228e1e3b05f');\n",
       "var x = new MutationObserver(function (mutations, observer) {{\n",
       "        var display = window.getComputedStyle(gd).display;\n",
       "        if (!display || display === 'none') {{\n",
       "            console.log([gd, 'removed!']);\n",
       "            Plotly.purge(gd);\n",
       "            observer.disconnect();\n",
       "        }}\n",
       "}});\n",
       "\n",
       "// Listen for the removal of the full notebook cells\n",
       "var notebookContainer = gd.closest('#notebook-container');\n",
       "if (notebookContainer) {{\n",
       "    x.observe(notebookContainer, {childList: true});\n",
       "}}\n",
       "\n",
       "// Listen for the clearing of the current output cell\n",
       "var outputEl = gd.closest('.output');\n",
       "if (outputEl) {{\n",
       "    x.observe(outputEl, {childList: true});\n",
       "}}\n",
       "\n",
       "                        })                };                });            </script>        </div>"
      ]
     },
     "metadata": {},
     "output_type": "display_data"
    }
   ],
   "source": [
    "df.iplot(kind='box')"
   ]
  },
  {
   "cell_type": "code",
   "execution_count": 29,
   "id": "edde9a09",
   "metadata": {},
   "outputs": [],
   "source": [
    "df3 = pd.DataFrame({'x':[1,2,3,4,5], 'y':[10,20,30,40,50], 'z':[5,4,3,2,1]})"
   ]
  },
  {
   "cell_type": "code",
   "execution_count": 30,
   "id": "809fcbe5",
   "metadata": {},
   "outputs": [
    {
     "data": {
      "text/html": [
       "<div>\n",
       "<style scoped>\n",
       "    .dataframe tbody tr th:only-of-type {\n",
       "        vertical-align: middle;\n",
       "    }\n",
       "\n",
       "    .dataframe tbody tr th {\n",
       "        vertical-align: top;\n",
       "    }\n",
       "\n",
       "    .dataframe thead th {\n",
       "        text-align: right;\n",
       "    }\n",
       "</style>\n",
       "<table border=\"1\" class=\"dataframe\">\n",
       "  <thead>\n",
       "    <tr style=\"text-align: right;\">\n",
       "      <th></th>\n",
       "      <th>x</th>\n",
       "      <th>y</th>\n",
       "      <th>z</th>\n",
       "    </tr>\n",
       "  </thead>\n",
       "  <tbody>\n",
       "    <tr>\n",
       "      <th>0</th>\n",
       "      <td>1</td>\n",
       "      <td>10</td>\n",
       "      <td>5</td>\n",
       "    </tr>\n",
       "    <tr>\n",
       "      <th>1</th>\n",
       "      <td>2</td>\n",
       "      <td>20</td>\n",
       "      <td>4</td>\n",
       "    </tr>\n",
       "    <tr>\n",
       "      <th>2</th>\n",
       "      <td>3</td>\n",
       "      <td>30</td>\n",
       "      <td>3</td>\n",
       "    </tr>\n",
       "    <tr>\n",
       "      <th>3</th>\n",
       "      <td>4</td>\n",
       "      <td>40</td>\n",
       "      <td>2</td>\n",
       "    </tr>\n",
       "    <tr>\n",
       "      <th>4</th>\n",
       "      <td>5</td>\n",
       "      <td>50</td>\n",
       "      <td>1</td>\n",
       "    </tr>\n",
       "  </tbody>\n",
       "</table>\n",
       "</div>"
      ],
      "text/plain": [
       "   x   y  z\n",
       "0  1  10  5\n",
       "1  2  20  4\n",
       "2  3  30  3\n",
       "3  4  40  2\n",
       "4  5  50  1"
      ]
     },
     "execution_count": 30,
     "metadata": {},
     "output_type": "execute_result"
    }
   ],
   "source": [
    "df3"
   ]
  },
  {
   "cell_type": "code",
   "execution_count": 31,
   "id": "0196c358",
   "metadata": {},
   "outputs": [
    {
     "data": {
      "application/vnd.plotly.v1+json": {
       "config": {
        "linkText": "Export to plot.ly",
        "plotlyServerURL": "https://plot.ly",
        "showLink": true
       },
       "data": [
        {
         "colorscale": [
          [
           0,
           "rgb(165,0,38)"
          ],
          [
           0.1,
           "rgb(215,48,39)"
          ],
          [
           0.2,
           "rgb(244,109,67)"
          ],
          [
           0.3,
           "rgb(253,174,97)"
          ],
          [
           0.4,
           "rgb(254,224,144)"
          ],
          [
           0.5,
           "rgb(255,255,191)"
          ],
          [
           0.6,
           "rgb(224,243,248)"
          ],
          [
           0.7,
           "rgb(171,217,233)"
          ],
          [
           0.8,
           "rgb(116,173,209)"
          ],
          [
           0.9,
           "rgb(69,117,180)"
          ],
          [
           1,
           "rgb(49,54,149)"
          ]
         ],
         "type": "surface",
         "x": [
          0,
          1,
          2,
          3,
          4
         ],
         "y": [
          "x",
          "y",
          "z"
         ],
         "z": [
          [
           1,
           2,
           3,
           4,
           5
          ],
          [
           10,
           20,
           30,
           40,
           50
          ],
          [
           5,
           4,
           3,
           2,
           1
          ]
         ]
        }
       ],
       "layout": {
        "legend": {
         "bgcolor": "#F5F6F9",
         "font": {
          "color": "#4D5663"
         }
        },
        "paper_bgcolor": "#F5F6F9",
        "plot_bgcolor": "#F5F6F9",
        "template": {
         "data": {
          "bar": [
           {
            "error_x": {
             "color": "#2a3f5f"
            },
            "error_y": {
             "color": "#2a3f5f"
            },
            "marker": {
             "line": {
              "color": "#E5ECF6",
              "width": 0.5
             },
             "pattern": {
              "fillmode": "overlay",
              "size": 10,
              "solidity": 0.2
             }
            },
            "type": "bar"
           }
          ],
          "barpolar": [
           {
            "marker": {
             "line": {
              "color": "#E5ECF6",
              "width": 0.5
             },
             "pattern": {
              "fillmode": "overlay",
              "size": 10,
              "solidity": 0.2
             }
            },
            "type": "barpolar"
           }
          ],
          "carpet": [
           {
            "aaxis": {
             "endlinecolor": "#2a3f5f",
             "gridcolor": "white",
             "linecolor": "white",
             "minorgridcolor": "white",
             "startlinecolor": "#2a3f5f"
            },
            "baxis": {
             "endlinecolor": "#2a3f5f",
             "gridcolor": "white",
             "linecolor": "white",
             "minorgridcolor": "white",
             "startlinecolor": "#2a3f5f"
            },
            "type": "carpet"
           }
          ],
          "choropleth": [
           {
            "colorbar": {
             "outlinewidth": 0,
             "ticks": ""
            },
            "type": "choropleth"
           }
          ],
          "contour": [
           {
            "colorbar": {
             "outlinewidth": 0,
             "ticks": ""
            },
            "colorscale": [
             [
              0,
              "#0d0887"
             ],
             [
              0.1111111111111111,
              "#46039f"
             ],
             [
              0.2222222222222222,
              "#7201a8"
             ],
             [
              0.3333333333333333,
              "#9c179e"
             ],
             [
              0.4444444444444444,
              "#bd3786"
             ],
             [
              0.5555555555555556,
              "#d8576b"
             ],
             [
              0.6666666666666666,
              "#ed7953"
             ],
             [
              0.7777777777777778,
              "#fb9f3a"
             ],
             [
              0.8888888888888888,
              "#fdca26"
             ],
             [
              1,
              "#f0f921"
             ]
            ],
            "type": "contour"
           }
          ],
          "contourcarpet": [
           {
            "colorbar": {
             "outlinewidth": 0,
             "ticks": ""
            },
            "type": "contourcarpet"
           }
          ],
          "heatmap": [
           {
            "colorbar": {
             "outlinewidth": 0,
             "ticks": ""
            },
            "colorscale": [
             [
              0,
              "#0d0887"
             ],
             [
              0.1111111111111111,
              "#46039f"
             ],
             [
              0.2222222222222222,
              "#7201a8"
             ],
             [
              0.3333333333333333,
              "#9c179e"
             ],
             [
              0.4444444444444444,
              "#bd3786"
             ],
             [
              0.5555555555555556,
              "#d8576b"
             ],
             [
              0.6666666666666666,
              "#ed7953"
             ],
             [
              0.7777777777777778,
              "#fb9f3a"
             ],
             [
              0.8888888888888888,
              "#fdca26"
             ],
             [
              1,
              "#f0f921"
             ]
            ],
            "type": "heatmap"
           }
          ],
          "heatmapgl": [
           {
            "colorbar": {
             "outlinewidth": 0,
             "ticks": ""
            },
            "colorscale": [
             [
              0,
              "#0d0887"
             ],
             [
              0.1111111111111111,
              "#46039f"
             ],
             [
              0.2222222222222222,
              "#7201a8"
             ],
             [
              0.3333333333333333,
              "#9c179e"
             ],
             [
              0.4444444444444444,
              "#bd3786"
             ],
             [
              0.5555555555555556,
              "#d8576b"
             ],
             [
              0.6666666666666666,
              "#ed7953"
             ],
             [
              0.7777777777777778,
              "#fb9f3a"
             ],
             [
              0.8888888888888888,
              "#fdca26"
             ],
             [
              1,
              "#f0f921"
             ]
            ],
            "type": "heatmapgl"
           }
          ],
          "histogram": [
           {
            "marker": {
             "pattern": {
              "fillmode": "overlay",
              "size": 10,
              "solidity": 0.2
             }
            },
            "type": "histogram"
           }
          ],
          "histogram2d": [
           {
            "colorbar": {
             "outlinewidth": 0,
             "ticks": ""
            },
            "colorscale": [
             [
              0,
              "#0d0887"
             ],
             [
              0.1111111111111111,
              "#46039f"
             ],
             [
              0.2222222222222222,
              "#7201a8"
             ],
             [
              0.3333333333333333,
              "#9c179e"
             ],
             [
              0.4444444444444444,
              "#bd3786"
             ],
             [
              0.5555555555555556,
              "#d8576b"
             ],
             [
              0.6666666666666666,
              "#ed7953"
             ],
             [
              0.7777777777777778,
              "#fb9f3a"
             ],
             [
              0.8888888888888888,
              "#fdca26"
             ],
             [
              1,
              "#f0f921"
             ]
            ],
            "type": "histogram2d"
           }
          ],
          "histogram2dcontour": [
           {
            "colorbar": {
             "outlinewidth": 0,
             "ticks": ""
            },
            "colorscale": [
             [
              0,
              "#0d0887"
             ],
             [
              0.1111111111111111,
              "#46039f"
             ],
             [
              0.2222222222222222,
              "#7201a8"
             ],
             [
              0.3333333333333333,
              "#9c179e"
             ],
             [
              0.4444444444444444,
              "#bd3786"
             ],
             [
              0.5555555555555556,
              "#d8576b"
             ],
             [
              0.6666666666666666,
              "#ed7953"
             ],
             [
              0.7777777777777778,
              "#fb9f3a"
             ],
             [
              0.8888888888888888,
              "#fdca26"
             ],
             [
              1,
              "#f0f921"
             ]
            ],
            "type": "histogram2dcontour"
           }
          ],
          "mesh3d": [
           {
            "colorbar": {
             "outlinewidth": 0,
             "ticks": ""
            },
            "type": "mesh3d"
           }
          ],
          "parcoords": [
           {
            "line": {
             "colorbar": {
              "outlinewidth": 0,
              "ticks": ""
             }
            },
            "type": "parcoords"
           }
          ],
          "pie": [
           {
            "automargin": true,
            "type": "pie"
           }
          ],
          "scatter": [
           {
            "fillpattern": {
             "fillmode": "overlay",
             "size": 10,
             "solidity": 0.2
            },
            "type": "scatter"
           }
          ],
          "scatter3d": [
           {
            "line": {
             "colorbar": {
              "outlinewidth": 0,
              "ticks": ""
             }
            },
            "marker": {
             "colorbar": {
              "outlinewidth": 0,
              "ticks": ""
             }
            },
            "type": "scatter3d"
           }
          ],
          "scattercarpet": [
           {
            "marker": {
             "colorbar": {
              "outlinewidth": 0,
              "ticks": ""
             }
            },
            "type": "scattercarpet"
           }
          ],
          "scattergeo": [
           {
            "marker": {
             "colorbar": {
              "outlinewidth": 0,
              "ticks": ""
             }
            },
            "type": "scattergeo"
           }
          ],
          "scattergl": [
           {
            "marker": {
             "colorbar": {
              "outlinewidth": 0,
              "ticks": ""
             }
            },
            "type": "scattergl"
           }
          ],
          "scattermapbox": [
           {
            "marker": {
             "colorbar": {
              "outlinewidth": 0,
              "ticks": ""
             }
            },
            "type": "scattermapbox"
           }
          ],
          "scatterpolar": [
           {
            "marker": {
             "colorbar": {
              "outlinewidth": 0,
              "ticks": ""
             }
            },
            "type": "scatterpolar"
           }
          ],
          "scatterpolargl": [
           {
            "marker": {
             "colorbar": {
              "outlinewidth": 0,
              "ticks": ""
             }
            },
            "type": "scatterpolargl"
           }
          ],
          "scatterternary": [
           {
            "marker": {
             "colorbar": {
              "outlinewidth": 0,
              "ticks": ""
             }
            },
            "type": "scatterternary"
           }
          ],
          "surface": [
           {
            "colorbar": {
             "outlinewidth": 0,
             "ticks": ""
            },
            "colorscale": [
             [
              0,
              "#0d0887"
             ],
             [
              0.1111111111111111,
              "#46039f"
             ],
             [
              0.2222222222222222,
              "#7201a8"
             ],
             [
              0.3333333333333333,
              "#9c179e"
             ],
             [
              0.4444444444444444,
              "#bd3786"
             ],
             [
              0.5555555555555556,
              "#d8576b"
             ],
             [
              0.6666666666666666,
              "#ed7953"
             ],
             [
              0.7777777777777778,
              "#fb9f3a"
             ],
             [
              0.8888888888888888,
              "#fdca26"
             ],
             [
              1,
              "#f0f921"
             ]
            ],
            "type": "surface"
           }
          ],
          "table": [
           {
            "cells": {
             "fill": {
              "color": "#EBF0F8"
             },
             "line": {
              "color": "white"
             }
            },
            "header": {
             "fill": {
              "color": "#C8D4E3"
             },
             "line": {
              "color": "white"
             }
            },
            "type": "table"
           }
          ]
         },
         "layout": {
          "annotationdefaults": {
           "arrowcolor": "#2a3f5f",
           "arrowhead": 0,
           "arrowwidth": 1
          },
          "autotypenumbers": "strict",
          "coloraxis": {
           "colorbar": {
            "outlinewidth": 0,
            "ticks": ""
           }
          },
          "colorscale": {
           "diverging": [
            [
             0,
             "#8e0152"
            ],
            [
             0.1,
             "#c51b7d"
            ],
            [
             0.2,
             "#de77ae"
            ],
            [
             0.3,
             "#f1b6da"
            ],
            [
             0.4,
             "#fde0ef"
            ],
            [
             0.5,
             "#f7f7f7"
            ],
            [
             0.6,
             "#e6f5d0"
            ],
            [
             0.7,
             "#b8e186"
            ],
            [
             0.8,
             "#7fbc41"
            ],
            [
             0.9,
             "#4d9221"
            ],
            [
             1,
             "#276419"
            ]
           ],
           "sequential": [
            [
             0,
             "#0d0887"
            ],
            [
             0.1111111111111111,
             "#46039f"
            ],
            [
             0.2222222222222222,
             "#7201a8"
            ],
            [
             0.3333333333333333,
             "#9c179e"
            ],
            [
             0.4444444444444444,
             "#bd3786"
            ],
            [
             0.5555555555555556,
             "#d8576b"
            ],
            [
             0.6666666666666666,
             "#ed7953"
            ],
            [
             0.7777777777777778,
             "#fb9f3a"
            ],
            [
             0.8888888888888888,
             "#fdca26"
            ],
            [
             1,
             "#f0f921"
            ]
           ],
           "sequentialminus": [
            [
             0,
             "#0d0887"
            ],
            [
             0.1111111111111111,
             "#46039f"
            ],
            [
             0.2222222222222222,
             "#7201a8"
            ],
            [
             0.3333333333333333,
             "#9c179e"
            ],
            [
             0.4444444444444444,
             "#bd3786"
            ],
            [
             0.5555555555555556,
             "#d8576b"
            ],
            [
             0.6666666666666666,
             "#ed7953"
            ],
            [
             0.7777777777777778,
             "#fb9f3a"
            ],
            [
             0.8888888888888888,
             "#fdca26"
            ],
            [
             1,
             "#f0f921"
            ]
           ]
          },
          "colorway": [
           "#636efa",
           "#EF553B",
           "#00cc96",
           "#ab63fa",
           "#FFA15A",
           "#19d3f3",
           "#FF6692",
           "#B6E880",
           "#FF97FF",
           "#FECB52"
          ],
          "font": {
           "color": "#2a3f5f"
          },
          "geo": {
           "bgcolor": "white",
           "lakecolor": "white",
           "landcolor": "#E5ECF6",
           "showlakes": true,
           "showland": true,
           "subunitcolor": "white"
          },
          "hoverlabel": {
           "align": "left"
          },
          "hovermode": "closest",
          "mapbox": {
           "style": "light"
          },
          "paper_bgcolor": "white",
          "plot_bgcolor": "#E5ECF6",
          "polar": {
           "angularaxis": {
            "gridcolor": "white",
            "linecolor": "white",
            "ticks": ""
           },
           "bgcolor": "#E5ECF6",
           "radialaxis": {
            "gridcolor": "white",
            "linecolor": "white",
            "ticks": ""
           }
          },
          "scene": {
           "xaxis": {
            "backgroundcolor": "#E5ECF6",
            "gridcolor": "white",
            "gridwidth": 2,
            "linecolor": "white",
            "showbackground": true,
            "ticks": "",
            "zerolinecolor": "white"
           },
           "yaxis": {
            "backgroundcolor": "#E5ECF6",
            "gridcolor": "white",
            "gridwidth": 2,
            "linecolor": "white",
            "showbackground": true,
            "ticks": "",
            "zerolinecolor": "white"
           },
           "zaxis": {
            "backgroundcolor": "#E5ECF6",
            "gridcolor": "white",
            "gridwidth": 2,
            "linecolor": "white",
            "showbackground": true,
            "ticks": "",
            "zerolinecolor": "white"
           }
          },
          "shapedefaults": {
           "line": {
            "color": "#2a3f5f"
           }
          },
          "ternary": {
           "aaxis": {
            "gridcolor": "white",
            "linecolor": "white",
            "ticks": ""
           },
           "baxis": {
            "gridcolor": "white",
            "linecolor": "white",
            "ticks": ""
           },
           "bgcolor": "#E5ECF6",
           "caxis": {
            "gridcolor": "white",
            "linecolor": "white",
            "ticks": ""
           }
          },
          "title": {
           "x": 0.05
          },
          "xaxis": {
           "automargin": true,
           "gridcolor": "white",
           "linecolor": "white",
           "ticks": "",
           "title": {
            "standoff": 15
           },
           "zerolinecolor": "white",
           "zerolinewidth": 2
          },
          "yaxis": {
           "automargin": true,
           "gridcolor": "white",
           "linecolor": "white",
           "ticks": "",
           "title": {
            "standoff": 15
           },
           "zerolinecolor": "white",
           "zerolinewidth": 2
          }
         }
        },
        "title": {
         "font": {
          "color": "#4D5663"
         }
        },
        "xaxis": {
         "gridcolor": "#E1E5ED",
         "showgrid": true,
         "tickfont": {
          "color": "#4D5663"
         },
         "title": {
          "font": {
           "color": "#4D5663"
          },
          "text": ""
         },
         "zerolinecolor": "#E1E5ED"
        },
        "yaxis": {
         "gridcolor": "#E1E5ED",
         "showgrid": true,
         "tickfont": {
          "color": "#4D5663"
         },
         "title": {
          "font": {
           "color": "#4D5663"
          },
          "text": ""
         },
         "zerolinecolor": "#E1E5ED"
        }
       }
      },
      "text/html": [
       "<div>                            <div id=\"f1130917-7e3a-4ea2-a9c3-b6c0ba34c8e7\" class=\"plotly-graph-div\" style=\"height:525px; width:100%;\"></div>            <script type=\"text/javascript\">                require([\"plotly\"], function(Plotly) {                    window.PLOTLYENV=window.PLOTLYENV || {};\n",
       "                    window.PLOTLYENV.BASE_URL='https://plot.ly';                                    if (document.getElementById(\"f1130917-7e3a-4ea2-a9c3-b6c0ba34c8e7\")) {                    Plotly.newPlot(                        \"f1130917-7e3a-4ea2-a9c3-b6c0ba34c8e7\",                        [{\"colorscale\":[[0.0,\"rgb(165,0,38)\"],[0.1,\"rgb(215,48,39)\"],[0.2,\"rgb(244,109,67)\"],[0.3,\"rgb(253,174,97)\"],[0.4,\"rgb(254,224,144)\"],[0.5,\"rgb(255,255,191)\"],[0.6,\"rgb(224,243,248)\"],[0.7,\"rgb(171,217,233)\"],[0.8,\"rgb(116,173,209)\"],[0.9,\"rgb(69,117,180)\"],[1.0,\"rgb(49,54,149)\"]],\"x\":[0,1,2,3,4],\"y\":[\"x\",\"y\",\"z\"],\"z\":[[1,2,3,4,5],[10,20,30,40,50],[5,4,3,2,1]],\"type\":\"surface\"}],                        {\"legend\":{\"bgcolor\":\"#F5F6F9\",\"font\":{\"color\":\"#4D5663\"}},\"paper_bgcolor\":\"#F5F6F9\",\"plot_bgcolor\":\"#F5F6F9\",\"template\":{\"data\":{\"barpolar\":[{\"marker\":{\"line\":{\"color\":\"#E5ECF6\",\"width\":0.5},\"pattern\":{\"fillmode\":\"overlay\",\"size\":10,\"solidity\":0.2}},\"type\":\"barpolar\"}],\"bar\":[{\"error_x\":{\"color\":\"#2a3f5f\"},\"error_y\":{\"color\":\"#2a3f5f\"},\"marker\":{\"line\":{\"color\":\"#E5ECF6\",\"width\":0.5},\"pattern\":{\"fillmode\":\"overlay\",\"size\":10,\"solidity\":0.2}},\"type\":\"bar\"}],\"carpet\":[{\"aaxis\":{\"endlinecolor\":\"#2a3f5f\",\"gridcolor\":\"white\",\"linecolor\":\"white\",\"minorgridcolor\":\"white\",\"startlinecolor\":\"#2a3f5f\"},\"baxis\":{\"endlinecolor\":\"#2a3f5f\",\"gridcolor\":\"white\",\"linecolor\":\"white\",\"minorgridcolor\":\"white\",\"startlinecolor\":\"#2a3f5f\"},\"type\":\"carpet\"}],\"choropleth\":[{\"colorbar\":{\"outlinewidth\":0,\"ticks\":\"\"},\"type\":\"choropleth\"}],\"contourcarpet\":[{\"colorbar\":{\"outlinewidth\":0,\"ticks\":\"\"},\"type\":\"contourcarpet\"}],\"contour\":[{\"colorbar\":{\"outlinewidth\":0,\"ticks\":\"\"},\"colorscale\":[[0.0,\"#0d0887\"],[0.1111111111111111,\"#46039f\"],[0.2222222222222222,\"#7201a8\"],[0.3333333333333333,\"#9c179e\"],[0.4444444444444444,\"#bd3786\"],[0.5555555555555556,\"#d8576b\"],[0.6666666666666666,\"#ed7953\"],[0.7777777777777778,\"#fb9f3a\"],[0.8888888888888888,\"#fdca26\"],[1.0,\"#f0f921\"]],\"type\":\"contour\"}],\"heatmapgl\":[{\"colorbar\":{\"outlinewidth\":0,\"ticks\":\"\"},\"colorscale\":[[0.0,\"#0d0887\"],[0.1111111111111111,\"#46039f\"],[0.2222222222222222,\"#7201a8\"],[0.3333333333333333,\"#9c179e\"],[0.4444444444444444,\"#bd3786\"],[0.5555555555555556,\"#d8576b\"],[0.6666666666666666,\"#ed7953\"],[0.7777777777777778,\"#fb9f3a\"],[0.8888888888888888,\"#fdca26\"],[1.0,\"#f0f921\"]],\"type\":\"heatmapgl\"}],\"heatmap\":[{\"colorbar\":{\"outlinewidth\":0,\"ticks\":\"\"},\"colorscale\":[[0.0,\"#0d0887\"],[0.1111111111111111,\"#46039f\"],[0.2222222222222222,\"#7201a8\"],[0.3333333333333333,\"#9c179e\"],[0.4444444444444444,\"#bd3786\"],[0.5555555555555556,\"#d8576b\"],[0.6666666666666666,\"#ed7953\"],[0.7777777777777778,\"#fb9f3a\"],[0.8888888888888888,\"#fdca26\"],[1.0,\"#f0f921\"]],\"type\":\"heatmap\"}],\"histogram2dcontour\":[{\"colorbar\":{\"outlinewidth\":0,\"ticks\":\"\"},\"colorscale\":[[0.0,\"#0d0887\"],[0.1111111111111111,\"#46039f\"],[0.2222222222222222,\"#7201a8\"],[0.3333333333333333,\"#9c179e\"],[0.4444444444444444,\"#bd3786\"],[0.5555555555555556,\"#d8576b\"],[0.6666666666666666,\"#ed7953\"],[0.7777777777777778,\"#fb9f3a\"],[0.8888888888888888,\"#fdca26\"],[1.0,\"#f0f921\"]],\"type\":\"histogram2dcontour\"}],\"histogram2d\":[{\"colorbar\":{\"outlinewidth\":0,\"ticks\":\"\"},\"colorscale\":[[0.0,\"#0d0887\"],[0.1111111111111111,\"#46039f\"],[0.2222222222222222,\"#7201a8\"],[0.3333333333333333,\"#9c179e\"],[0.4444444444444444,\"#bd3786\"],[0.5555555555555556,\"#d8576b\"],[0.6666666666666666,\"#ed7953\"],[0.7777777777777778,\"#fb9f3a\"],[0.8888888888888888,\"#fdca26\"],[1.0,\"#f0f921\"]],\"type\":\"histogram2d\"}],\"histogram\":[{\"marker\":{\"pattern\":{\"fillmode\":\"overlay\",\"size\":10,\"solidity\":0.2}},\"type\":\"histogram\"}],\"mesh3d\":[{\"colorbar\":{\"outlinewidth\":0,\"ticks\":\"\"},\"type\":\"mesh3d\"}],\"parcoords\":[{\"line\":{\"colorbar\":{\"outlinewidth\":0,\"ticks\":\"\"}},\"type\":\"parcoords\"}],\"pie\":[{\"automargin\":true,\"type\":\"pie\"}],\"scatter3d\":[{\"line\":{\"colorbar\":{\"outlinewidth\":0,\"ticks\":\"\"}},\"marker\":{\"colorbar\":{\"outlinewidth\":0,\"ticks\":\"\"}},\"type\":\"scatter3d\"}],\"scattercarpet\":[{\"marker\":{\"colorbar\":{\"outlinewidth\":0,\"ticks\":\"\"}},\"type\":\"scattercarpet\"}],\"scattergeo\":[{\"marker\":{\"colorbar\":{\"outlinewidth\":0,\"ticks\":\"\"}},\"type\":\"scattergeo\"}],\"scattergl\":[{\"marker\":{\"colorbar\":{\"outlinewidth\":0,\"ticks\":\"\"}},\"type\":\"scattergl\"}],\"scattermapbox\":[{\"marker\":{\"colorbar\":{\"outlinewidth\":0,\"ticks\":\"\"}},\"type\":\"scattermapbox\"}],\"scatterpolargl\":[{\"marker\":{\"colorbar\":{\"outlinewidth\":0,\"ticks\":\"\"}},\"type\":\"scatterpolargl\"}],\"scatterpolar\":[{\"marker\":{\"colorbar\":{\"outlinewidth\":0,\"ticks\":\"\"}},\"type\":\"scatterpolar\"}],\"scatter\":[{\"fillpattern\":{\"fillmode\":\"overlay\",\"size\":10,\"solidity\":0.2},\"type\":\"scatter\"}],\"scatterternary\":[{\"marker\":{\"colorbar\":{\"outlinewidth\":0,\"ticks\":\"\"}},\"type\":\"scatterternary\"}],\"surface\":[{\"colorbar\":{\"outlinewidth\":0,\"ticks\":\"\"},\"colorscale\":[[0.0,\"#0d0887\"],[0.1111111111111111,\"#46039f\"],[0.2222222222222222,\"#7201a8\"],[0.3333333333333333,\"#9c179e\"],[0.4444444444444444,\"#bd3786\"],[0.5555555555555556,\"#d8576b\"],[0.6666666666666666,\"#ed7953\"],[0.7777777777777778,\"#fb9f3a\"],[0.8888888888888888,\"#fdca26\"],[1.0,\"#f0f921\"]],\"type\":\"surface\"}],\"table\":[{\"cells\":{\"fill\":{\"color\":\"#EBF0F8\"},\"line\":{\"color\":\"white\"}},\"header\":{\"fill\":{\"color\":\"#C8D4E3\"},\"line\":{\"color\":\"white\"}},\"type\":\"table\"}]},\"layout\":{\"annotationdefaults\":{\"arrowcolor\":\"#2a3f5f\",\"arrowhead\":0,\"arrowwidth\":1},\"autotypenumbers\":\"strict\",\"coloraxis\":{\"colorbar\":{\"outlinewidth\":0,\"ticks\":\"\"}},\"colorscale\":{\"diverging\":[[0,\"#8e0152\"],[0.1,\"#c51b7d\"],[0.2,\"#de77ae\"],[0.3,\"#f1b6da\"],[0.4,\"#fde0ef\"],[0.5,\"#f7f7f7\"],[0.6,\"#e6f5d0\"],[0.7,\"#b8e186\"],[0.8,\"#7fbc41\"],[0.9,\"#4d9221\"],[1,\"#276419\"]],\"sequential\":[[0.0,\"#0d0887\"],[0.1111111111111111,\"#46039f\"],[0.2222222222222222,\"#7201a8\"],[0.3333333333333333,\"#9c179e\"],[0.4444444444444444,\"#bd3786\"],[0.5555555555555556,\"#d8576b\"],[0.6666666666666666,\"#ed7953\"],[0.7777777777777778,\"#fb9f3a\"],[0.8888888888888888,\"#fdca26\"],[1.0,\"#f0f921\"]],\"sequentialminus\":[[0.0,\"#0d0887\"],[0.1111111111111111,\"#46039f\"],[0.2222222222222222,\"#7201a8\"],[0.3333333333333333,\"#9c179e\"],[0.4444444444444444,\"#bd3786\"],[0.5555555555555556,\"#d8576b\"],[0.6666666666666666,\"#ed7953\"],[0.7777777777777778,\"#fb9f3a\"],[0.8888888888888888,\"#fdca26\"],[1.0,\"#f0f921\"]]},\"colorway\":[\"#636efa\",\"#EF553B\",\"#00cc96\",\"#ab63fa\",\"#FFA15A\",\"#19d3f3\",\"#FF6692\",\"#B6E880\",\"#FF97FF\",\"#FECB52\"],\"font\":{\"color\":\"#2a3f5f\"},\"geo\":{\"bgcolor\":\"white\",\"lakecolor\":\"white\",\"landcolor\":\"#E5ECF6\",\"showlakes\":true,\"showland\":true,\"subunitcolor\":\"white\"},\"hoverlabel\":{\"align\":\"left\"},\"hovermode\":\"closest\",\"mapbox\":{\"style\":\"light\"},\"paper_bgcolor\":\"white\",\"plot_bgcolor\":\"#E5ECF6\",\"polar\":{\"angularaxis\":{\"gridcolor\":\"white\",\"linecolor\":\"white\",\"ticks\":\"\"},\"bgcolor\":\"#E5ECF6\",\"radialaxis\":{\"gridcolor\":\"white\",\"linecolor\":\"white\",\"ticks\":\"\"}},\"scene\":{\"xaxis\":{\"backgroundcolor\":\"#E5ECF6\",\"gridcolor\":\"white\",\"gridwidth\":2,\"linecolor\":\"white\",\"showbackground\":true,\"ticks\":\"\",\"zerolinecolor\":\"white\"},\"yaxis\":{\"backgroundcolor\":\"#E5ECF6\",\"gridcolor\":\"white\",\"gridwidth\":2,\"linecolor\":\"white\",\"showbackground\":true,\"ticks\":\"\",\"zerolinecolor\":\"white\"},\"zaxis\":{\"backgroundcolor\":\"#E5ECF6\",\"gridcolor\":\"white\",\"gridwidth\":2,\"linecolor\":\"white\",\"showbackground\":true,\"ticks\":\"\",\"zerolinecolor\":\"white\"}},\"shapedefaults\":{\"line\":{\"color\":\"#2a3f5f\"}},\"ternary\":{\"aaxis\":{\"gridcolor\":\"white\",\"linecolor\":\"white\",\"ticks\":\"\"},\"baxis\":{\"gridcolor\":\"white\",\"linecolor\":\"white\",\"ticks\":\"\"},\"bgcolor\":\"#E5ECF6\",\"caxis\":{\"gridcolor\":\"white\",\"linecolor\":\"white\",\"ticks\":\"\"}},\"title\":{\"x\":0.05},\"xaxis\":{\"automargin\":true,\"gridcolor\":\"white\",\"linecolor\":\"white\",\"ticks\":\"\",\"title\":{\"standoff\":15},\"zerolinecolor\":\"white\",\"zerolinewidth\":2},\"yaxis\":{\"automargin\":true,\"gridcolor\":\"white\",\"linecolor\":\"white\",\"ticks\":\"\",\"title\":{\"standoff\":15},\"zerolinecolor\":\"white\",\"zerolinewidth\":2}}},\"title\":{\"font\":{\"color\":\"#4D5663\"}},\"xaxis\":{\"gridcolor\":\"#E1E5ED\",\"showgrid\":true,\"tickfont\":{\"color\":\"#4D5663\"},\"title\":{\"font\":{\"color\":\"#4D5663\"},\"text\":\"\"},\"zerolinecolor\":\"#E1E5ED\"},\"yaxis\":{\"gridcolor\":\"#E1E5ED\",\"showgrid\":true,\"tickfont\":{\"color\":\"#4D5663\"},\"title\":{\"font\":{\"color\":\"#4D5663\"},\"text\":\"\"},\"zerolinecolor\":\"#E1E5ED\"}},                        {\"showLink\": true, \"linkText\": \"Export to plot.ly\", \"plotlyServerURL\": \"https://plot.ly\", \"responsive\": true}                    ).then(function(){\n",
       "                            \n",
       "var gd = document.getElementById('f1130917-7e3a-4ea2-a9c3-b6c0ba34c8e7');\n",
       "var x = new MutationObserver(function (mutations, observer) {{\n",
       "        var display = window.getComputedStyle(gd).display;\n",
       "        if (!display || display === 'none') {{\n",
       "            console.log([gd, 'removed!']);\n",
       "            Plotly.purge(gd);\n",
       "            observer.disconnect();\n",
       "        }}\n",
       "}});\n",
       "\n",
       "// Listen for the removal of the full notebook cells\n",
       "var notebookContainer = gd.closest('#notebook-container');\n",
       "if (notebookContainer) {{\n",
       "    x.observe(notebookContainer, {childList: true});\n",
       "}}\n",
       "\n",
       "// Listen for the clearing of the current output cell\n",
       "var outputEl = gd.closest('.output');\n",
       "if (outputEl) {{\n",
       "    x.observe(outputEl, {childList: true});\n",
       "}}\n",
       "\n",
       "                        })                };                });            </script>        </div>"
      ]
     },
     "metadata": {},
     "output_type": "display_data"
    }
   ],
   "source": [
    "df3.iplot(kind='surface', colorscale='rdylbu')"
   ]
  },
  {
   "cell_type": "code",
   "execution_count": 32,
   "id": "1c454b5b",
   "metadata": {},
   "outputs": [
    {
     "data": {
      "application/vnd.plotly.v1+json": {
       "config": {
        "linkText": "Export to plot.ly",
        "plotlyServerURL": "https://plot.ly",
        "showLink": true
       },
       "data": [
        {
         "colorscale": [
          [
           0,
           "rgb(255, 153, 51)"
          ],
          [
           0.1111111111111111,
           "rgb(55, 128, 191)"
          ],
          [
           0.2222222222222222,
           "rgb(50, 171, 96)"
          ],
          [
           0.3333333333333333,
           "rgb(128, 0, 128)"
          ],
          [
           0.4444444444444444,
           "rgb(219, 64, 82)"
          ],
          [
           0.5555555555555556,
           "rgb(0, 128, 128)"
          ],
          [
           0.6666666666666666,
           "rgb(255, 255, 51)"
          ],
          [
           0.7777777777777778,
           "rgb(128, 128, 0)"
          ],
          [
           0.8888888888888888,
           "rgb(251, 128, 114)"
          ],
          [
           1,
           "rgb(128, 177, 211)"
          ]
         ],
         "type": "surface",
         "x": [
          0,
          1,
          2,
          3,
          4,
          5,
          6,
          7,
          8,
          9,
          10,
          11,
          12,
          13,
          14,
          15,
          16,
          17,
          18,
          19,
          20,
          21,
          22,
          23,
          24,
          25,
          26,
          27,
          28,
          29,
          30,
          31,
          32,
          33,
          34,
          35,
          36,
          37,
          38,
          39,
          40,
          41,
          42,
          43,
          44,
          45,
          46,
          47,
          48,
          49,
          50,
          51,
          52,
          53,
          54,
          55,
          56,
          57,
          58,
          59,
          60,
          61,
          62,
          63,
          64,
          65,
          66,
          67,
          68,
          69,
          70,
          71,
          72,
          73,
          74,
          75,
          76,
          77,
          78,
          79,
          80,
          81,
          82,
          83,
          84,
          85,
          86,
          87,
          88,
          89,
          90,
          91,
          92,
          93,
          94,
          95,
          96,
          97,
          98,
          99
         ],
         "y": [
          "A",
          "B"
         ],
         "z": [
          [
           -1.8158066953241796,
           -0.1532154842648918,
           -0.9087624017607344,
           -0.715856808084371,
           -0.7771907606069965,
           0.7351655714121069,
           -0.4340066741738052,
           -1.3736300616332289,
           -1.0910279061608386,
           -0.17715896700797562,
           0.7275992622753656,
           0.5719735501374622,
           0.1098535938239624,
           -0.7597209632957299,
           -1.1109900639357473,
           0.6925199043660469,
           0.7199999841009106,
           0.2873822213373869,
           -0.15420187444897465,
           0.008442848745635374,
           1.664921806311949,
           -1.3569852377652243,
           -0.23428268105986771,
           -1.9065024563371196,
           -1.8490542212588523,
           -0.9960295932103904,
           0.02314877232934917,
           1.7212068472548776,
           1.9013955197338033,
           -2.35253242851831,
           0.03040455800019841,
           0.21563700808987987,
           -0.4597229928437187,
           -0.7278607880726488,
           0.8877592700568671,
           0.4871704573515719,
           1.2769068225620719,
           0.18018462540389163,
           0.8649699512695074,
           -0.7445046848660324,
           -1.2890167760381392,
           0.5217925979706663,
           0.9389152424518948,
           0.9410136911071448,
           1.5734356802920477,
           1.4534955851108855,
           1.6379349099164204,
           2.051825040464344,
           -0.8723796481954755,
           0.6451170978250104,
           0.7996633553911477,
           -0.3758811118599081,
           0.8368783860108395,
           1.1672923335724237,
           1.9989574214327248,
           -0.9803635632487172,
           1.0272909775625343,
           -1.6470378469496967,
           -1.184745488394547,
           1.240609769403117,
           2.561043412628804,
           -0.5143615665306566,
           0.7449677226155068,
           -0.6201547168031414,
           0.6061735043418385,
           -0.6917606684322949,
           -0.4568162851669821,
           -1.4467767829303313,
           -0.4197208185978394,
           -0.27718742129594875,
           0.37837120923512646,
           1.2126642629518882,
           0.0393734817792643,
           -0.26340619911106694,
           -0.8351980357082801,
           -0.7959718758615214,
           0.6618589942538259,
           -0.4809145778698422,
           -0.5892785393324456,
           -0.25863477635135435,
           -0.6227807044887773,
           0.6993285851779953,
           -0.45746330629230986,
           -1.1643534645330045,
           1.3236560625253453,
           -0.6252302065588559,
           0.3150282283965467,
           1.137719962772657,
           0.514273522992465,
           0.17608458637176752,
           -0.6721697934374377,
           -0.9601912730760108,
           -0.9638044403008365,
           -0.35406490944069513,
           0.27014409824766095,
           0.7873120088931022,
           -0.4853469923359565,
           -0.35362079253020634,
           0.35722262241125424,
           -0.3869299705042295
          ],
          [
           1.6962518426992457,
           -0.982193639127554,
           -2.1197856966587434,
           0.38054873370497094,
           -1.361275653580498,
           0.3019613106241735,
           0.5737655133927131,
           1.0945211359269573,
           0.5495438835085136,
           1.0344716229317987,
           1.5145618337839344,
           -1.322817574245342,
           -1.1907820282214117,
           -0.528632777074625,
           1.3012340540546952,
           -1.0689263129920183,
           -2.84496629837369,
           0.046135758701366845,
           -0.24639563344520166,
           0.25128120296962836,
           0.36830940996399714,
           0.12031333614256282,
           -0.8010686487431482,
           -1.9327299966087452,
           0.7590071315508242,
           0.09728845697523336,
           -0.6894331452347948,
           0.11100076999006471,
           0.8004367772526133,
           -0.3793003097447568,
           -0.010050251411239644,
           -1.157220777492313,
           0.2488904704855463,
           0.8320141897637261,
           -0.12460299783173051,
           -0.9910263142307557,
           0.7372791083222395,
           0.24955057188182372,
           -0.8396515362306939,
           -0.6309241374644079,
           -0.279841188171254,
           -0.16186589249778788,
           0.8051370085683334,
           0.6540567389457904,
           -1.5798108304946163,
           0.20639652702521474,
           0.39333903402492476,
           -0.4810666724010602,
           -0.3800959479086856,
           -0.3077260319677847,
           1.5208418364763474,
           0.7892210421725961,
           1.8591446122703879,
           1.7034420043231697,
           -0.10683091684168655,
           -0.4775338738383854,
           -1.0079070689317284,
           -1.0112734900097282,
           0.7111182117640453,
           1.0486950375562232,
           -0.26391919214625303,
           -0.4113679094580015,
           -0.2605367678626934,
           -0.47530461482159114,
           -0.053143688579886626,
           2.3967430629102333,
           1.8709284111420503,
           0.25187514496472596,
           -0.02397569055830253,
           -0.09829431482066459,
           0.09403916694330741,
           0.06531118931264279,
           1.7638042278748831,
           1.0049939775004493,
           -0.6137431487150112,
           0.6570327734296777,
           -0.6289093946870737,
           0.5903155802129443,
           -1.2205401647556249,
           0.16685846375701371,
           -0.7512178872411197,
           0.08940485042033164,
           0.7271257315355758,
           -0.8861325348030998,
           -0.11871209816686926,
           -1.4093783931195987,
           -0.1736218521324273,
           -1.556684785992902,
           0.2470908600596826,
           0.056697008587313615,
           0.7871147589497839,
           -0.8801147388503565,
           0.3565693844796211,
           -0.3783507036715136,
           -0.5636310145664183,
           -0.18403442117576474,
           0.7945894980989373,
           0.8203119259602427,
           -0.8631082962731352,
           0.21257593940078842
          ]
         ]
        }
       ],
       "layout": {
        "legend": {
         "bgcolor": "#F5F6F9",
         "font": {
          "color": "#4D5663"
         }
        },
        "paper_bgcolor": "#F5F6F9",
        "plot_bgcolor": "#F5F6F9",
        "template": {
         "data": {
          "bar": [
           {
            "error_x": {
             "color": "#2a3f5f"
            },
            "error_y": {
             "color": "#2a3f5f"
            },
            "marker": {
             "line": {
              "color": "#E5ECF6",
              "width": 0.5
             },
             "pattern": {
              "fillmode": "overlay",
              "size": 10,
              "solidity": 0.2
             }
            },
            "type": "bar"
           }
          ],
          "barpolar": [
           {
            "marker": {
             "line": {
              "color": "#E5ECF6",
              "width": 0.5
             },
             "pattern": {
              "fillmode": "overlay",
              "size": 10,
              "solidity": 0.2
             }
            },
            "type": "barpolar"
           }
          ],
          "carpet": [
           {
            "aaxis": {
             "endlinecolor": "#2a3f5f",
             "gridcolor": "white",
             "linecolor": "white",
             "minorgridcolor": "white",
             "startlinecolor": "#2a3f5f"
            },
            "baxis": {
             "endlinecolor": "#2a3f5f",
             "gridcolor": "white",
             "linecolor": "white",
             "minorgridcolor": "white",
             "startlinecolor": "#2a3f5f"
            },
            "type": "carpet"
           }
          ],
          "choropleth": [
           {
            "colorbar": {
             "outlinewidth": 0,
             "ticks": ""
            },
            "type": "choropleth"
           }
          ],
          "contour": [
           {
            "colorbar": {
             "outlinewidth": 0,
             "ticks": ""
            },
            "colorscale": [
             [
              0,
              "#0d0887"
             ],
             [
              0.1111111111111111,
              "#46039f"
             ],
             [
              0.2222222222222222,
              "#7201a8"
             ],
             [
              0.3333333333333333,
              "#9c179e"
             ],
             [
              0.4444444444444444,
              "#bd3786"
             ],
             [
              0.5555555555555556,
              "#d8576b"
             ],
             [
              0.6666666666666666,
              "#ed7953"
             ],
             [
              0.7777777777777778,
              "#fb9f3a"
             ],
             [
              0.8888888888888888,
              "#fdca26"
             ],
             [
              1,
              "#f0f921"
             ]
            ],
            "type": "contour"
           }
          ],
          "contourcarpet": [
           {
            "colorbar": {
             "outlinewidth": 0,
             "ticks": ""
            },
            "type": "contourcarpet"
           }
          ],
          "heatmap": [
           {
            "colorbar": {
             "outlinewidth": 0,
             "ticks": ""
            },
            "colorscale": [
             [
              0,
              "#0d0887"
             ],
             [
              0.1111111111111111,
              "#46039f"
             ],
             [
              0.2222222222222222,
              "#7201a8"
             ],
             [
              0.3333333333333333,
              "#9c179e"
             ],
             [
              0.4444444444444444,
              "#bd3786"
             ],
             [
              0.5555555555555556,
              "#d8576b"
             ],
             [
              0.6666666666666666,
              "#ed7953"
             ],
             [
              0.7777777777777778,
              "#fb9f3a"
             ],
             [
              0.8888888888888888,
              "#fdca26"
             ],
             [
              1,
              "#f0f921"
             ]
            ],
            "type": "heatmap"
           }
          ],
          "heatmapgl": [
           {
            "colorbar": {
             "outlinewidth": 0,
             "ticks": ""
            },
            "colorscale": [
             [
              0,
              "#0d0887"
             ],
             [
              0.1111111111111111,
              "#46039f"
             ],
             [
              0.2222222222222222,
              "#7201a8"
             ],
             [
              0.3333333333333333,
              "#9c179e"
             ],
             [
              0.4444444444444444,
              "#bd3786"
             ],
             [
              0.5555555555555556,
              "#d8576b"
             ],
             [
              0.6666666666666666,
              "#ed7953"
             ],
             [
              0.7777777777777778,
              "#fb9f3a"
             ],
             [
              0.8888888888888888,
              "#fdca26"
             ],
             [
              1,
              "#f0f921"
             ]
            ],
            "type": "heatmapgl"
           }
          ],
          "histogram": [
           {
            "marker": {
             "pattern": {
              "fillmode": "overlay",
              "size": 10,
              "solidity": 0.2
             }
            },
            "type": "histogram"
           }
          ],
          "histogram2d": [
           {
            "colorbar": {
             "outlinewidth": 0,
             "ticks": ""
            },
            "colorscale": [
             [
              0,
              "#0d0887"
             ],
             [
              0.1111111111111111,
              "#46039f"
             ],
             [
              0.2222222222222222,
              "#7201a8"
             ],
             [
              0.3333333333333333,
              "#9c179e"
             ],
             [
              0.4444444444444444,
              "#bd3786"
             ],
             [
              0.5555555555555556,
              "#d8576b"
             ],
             [
              0.6666666666666666,
              "#ed7953"
             ],
             [
              0.7777777777777778,
              "#fb9f3a"
             ],
             [
              0.8888888888888888,
              "#fdca26"
             ],
             [
              1,
              "#f0f921"
             ]
            ],
            "type": "histogram2d"
           }
          ],
          "histogram2dcontour": [
           {
            "colorbar": {
             "outlinewidth": 0,
             "ticks": ""
            },
            "colorscale": [
             [
              0,
              "#0d0887"
             ],
             [
              0.1111111111111111,
              "#46039f"
             ],
             [
              0.2222222222222222,
              "#7201a8"
             ],
             [
              0.3333333333333333,
              "#9c179e"
             ],
             [
              0.4444444444444444,
              "#bd3786"
             ],
             [
              0.5555555555555556,
              "#d8576b"
             ],
             [
              0.6666666666666666,
              "#ed7953"
             ],
             [
              0.7777777777777778,
              "#fb9f3a"
             ],
             [
              0.8888888888888888,
              "#fdca26"
             ],
             [
              1,
              "#f0f921"
             ]
            ],
            "type": "histogram2dcontour"
           }
          ],
          "mesh3d": [
           {
            "colorbar": {
             "outlinewidth": 0,
             "ticks": ""
            },
            "type": "mesh3d"
           }
          ],
          "parcoords": [
           {
            "line": {
             "colorbar": {
              "outlinewidth": 0,
              "ticks": ""
             }
            },
            "type": "parcoords"
           }
          ],
          "pie": [
           {
            "automargin": true,
            "type": "pie"
           }
          ],
          "scatter": [
           {
            "fillpattern": {
             "fillmode": "overlay",
             "size": 10,
             "solidity": 0.2
            },
            "type": "scatter"
           }
          ],
          "scatter3d": [
           {
            "line": {
             "colorbar": {
              "outlinewidth": 0,
              "ticks": ""
             }
            },
            "marker": {
             "colorbar": {
              "outlinewidth": 0,
              "ticks": ""
             }
            },
            "type": "scatter3d"
           }
          ],
          "scattercarpet": [
           {
            "marker": {
             "colorbar": {
              "outlinewidth": 0,
              "ticks": ""
             }
            },
            "type": "scattercarpet"
           }
          ],
          "scattergeo": [
           {
            "marker": {
             "colorbar": {
              "outlinewidth": 0,
              "ticks": ""
             }
            },
            "type": "scattergeo"
           }
          ],
          "scattergl": [
           {
            "marker": {
             "colorbar": {
              "outlinewidth": 0,
              "ticks": ""
             }
            },
            "type": "scattergl"
           }
          ],
          "scattermapbox": [
           {
            "marker": {
             "colorbar": {
              "outlinewidth": 0,
              "ticks": ""
             }
            },
            "type": "scattermapbox"
           }
          ],
          "scatterpolar": [
           {
            "marker": {
             "colorbar": {
              "outlinewidth": 0,
              "ticks": ""
             }
            },
            "type": "scatterpolar"
           }
          ],
          "scatterpolargl": [
           {
            "marker": {
             "colorbar": {
              "outlinewidth": 0,
              "ticks": ""
             }
            },
            "type": "scatterpolargl"
           }
          ],
          "scatterternary": [
           {
            "marker": {
             "colorbar": {
              "outlinewidth": 0,
              "ticks": ""
             }
            },
            "type": "scatterternary"
           }
          ],
          "surface": [
           {
            "colorbar": {
             "outlinewidth": 0,
             "ticks": ""
            },
            "colorscale": [
             [
              0,
              "#0d0887"
             ],
             [
              0.1111111111111111,
              "#46039f"
             ],
             [
              0.2222222222222222,
              "#7201a8"
             ],
             [
              0.3333333333333333,
              "#9c179e"
             ],
             [
              0.4444444444444444,
              "#bd3786"
             ],
             [
              0.5555555555555556,
              "#d8576b"
             ],
             [
              0.6666666666666666,
              "#ed7953"
             ],
             [
              0.7777777777777778,
              "#fb9f3a"
             ],
             [
              0.8888888888888888,
              "#fdca26"
             ],
             [
              1,
              "#f0f921"
             ]
            ],
            "type": "surface"
           }
          ],
          "table": [
           {
            "cells": {
             "fill": {
              "color": "#EBF0F8"
             },
             "line": {
              "color": "white"
             }
            },
            "header": {
             "fill": {
              "color": "#C8D4E3"
             },
             "line": {
              "color": "white"
             }
            },
            "type": "table"
           }
          ]
         },
         "layout": {
          "annotationdefaults": {
           "arrowcolor": "#2a3f5f",
           "arrowhead": 0,
           "arrowwidth": 1
          },
          "autotypenumbers": "strict",
          "coloraxis": {
           "colorbar": {
            "outlinewidth": 0,
            "ticks": ""
           }
          },
          "colorscale": {
           "diverging": [
            [
             0,
             "#8e0152"
            ],
            [
             0.1,
             "#c51b7d"
            ],
            [
             0.2,
             "#de77ae"
            ],
            [
             0.3,
             "#f1b6da"
            ],
            [
             0.4,
             "#fde0ef"
            ],
            [
             0.5,
             "#f7f7f7"
            ],
            [
             0.6,
             "#e6f5d0"
            ],
            [
             0.7,
             "#b8e186"
            ],
            [
             0.8,
             "#7fbc41"
            ],
            [
             0.9,
             "#4d9221"
            ],
            [
             1,
             "#276419"
            ]
           ],
           "sequential": [
            [
             0,
             "#0d0887"
            ],
            [
             0.1111111111111111,
             "#46039f"
            ],
            [
             0.2222222222222222,
             "#7201a8"
            ],
            [
             0.3333333333333333,
             "#9c179e"
            ],
            [
             0.4444444444444444,
             "#bd3786"
            ],
            [
             0.5555555555555556,
             "#d8576b"
            ],
            [
             0.6666666666666666,
             "#ed7953"
            ],
            [
             0.7777777777777778,
             "#fb9f3a"
            ],
            [
             0.8888888888888888,
             "#fdca26"
            ],
            [
             1,
             "#f0f921"
            ]
           ],
           "sequentialminus": [
            [
             0,
             "#0d0887"
            ],
            [
             0.1111111111111111,
             "#46039f"
            ],
            [
             0.2222222222222222,
             "#7201a8"
            ],
            [
             0.3333333333333333,
             "#9c179e"
            ],
            [
             0.4444444444444444,
             "#bd3786"
            ],
            [
             0.5555555555555556,
             "#d8576b"
            ],
            [
             0.6666666666666666,
             "#ed7953"
            ],
            [
             0.7777777777777778,
             "#fb9f3a"
            ],
            [
             0.8888888888888888,
             "#fdca26"
            ],
            [
             1,
             "#f0f921"
            ]
           ]
          },
          "colorway": [
           "#636efa",
           "#EF553B",
           "#00cc96",
           "#ab63fa",
           "#FFA15A",
           "#19d3f3",
           "#FF6692",
           "#B6E880",
           "#FF97FF",
           "#FECB52"
          ],
          "font": {
           "color": "#2a3f5f"
          },
          "geo": {
           "bgcolor": "white",
           "lakecolor": "white",
           "landcolor": "#E5ECF6",
           "showlakes": true,
           "showland": true,
           "subunitcolor": "white"
          },
          "hoverlabel": {
           "align": "left"
          },
          "hovermode": "closest",
          "mapbox": {
           "style": "light"
          },
          "paper_bgcolor": "white",
          "plot_bgcolor": "#E5ECF6",
          "polar": {
           "angularaxis": {
            "gridcolor": "white",
            "linecolor": "white",
            "ticks": ""
           },
           "bgcolor": "#E5ECF6",
           "radialaxis": {
            "gridcolor": "white",
            "linecolor": "white",
            "ticks": ""
           }
          },
          "scene": {
           "xaxis": {
            "backgroundcolor": "#E5ECF6",
            "gridcolor": "white",
            "gridwidth": 2,
            "linecolor": "white",
            "showbackground": true,
            "ticks": "",
            "zerolinecolor": "white"
           },
           "yaxis": {
            "backgroundcolor": "#E5ECF6",
            "gridcolor": "white",
            "gridwidth": 2,
            "linecolor": "white",
            "showbackground": true,
            "ticks": "",
            "zerolinecolor": "white"
           },
           "zaxis": {
            "backgroundcolor": "#E5ECF6",
            "gridcolor": "white",
            "gridwidth": 2,
            "linecolor": "white",
            "showbackground": true,
            "ticks": "",
            "zerolinecolor": "white"
           }
          },
          "shapedefaults": {
           "line": {
            "color": "#2a3f5f"
           }
          },
          "ternary": {
           "aaxis": {
            "gridcolor": "white",
            "linecolor": "white",
            "ticks": ""
           },
           "baxis": {
            "gridcolor": "white",
            "linecolor": "white",
            "ticks": ""
           },
           "bgcolor": "#E5ECF6",
           "caxis": {
            "gridcolor": "white",
            "linecolor": "white",
            "ticks": ""
           }
          },
          "title": {
           "x": 0.05
          },
          "xaxis": {
           "automargin": true,
           "gridcolor": "white",
           "linecolor": "white",
           "ticks": "",
           "title": {
            "standoff": 15
           },
           "zerolinecolor": "white",
           "zerolinewidth": 2
          },
          "yaxis": {
           "automargin": true,
           "gridcolor": "white",
           "linecolor": "white",
           "ticks": "",
           "title": {
            "standoff": 15
           },
           "zerolinecolor": "white",
           "zerolinewidth": 2
          }
         }
        },
        "title": {
         "font": {
          "color": "#4D5663"
         }
        },
        "xaxis": {
         "gridcolor": "#E1E5ED",
         "showgrid": true,
         "tickfont": {
          "color": "#4D5663"
         },
         "title": {
          "font": {
           "color": "#4D5663"
          },
          "text": ""
         },
         "zerolinecolor": "#E1E5ED"
        },
        "yaxis": {
         "gridcolor": "#E1E5ED",
         "showgrid": true,
         "tickfont": {
          "color": "#4D5663"
         },
         "title": {
          "font": {
           "color": "#4D5663"
          },
          "text": ""
         },
         "zerolinecolor": "#E1E5ED"
        }
       }
      },
      "text/html": [
       "<div>                            <div id=\"e14c3fda-acf3-4a5e-993d-52b59d7d8519\" class=\"plotly-graph-div\" style=\"height:525px; width:100%;\"></div>            <script type=\"text/javascript\">                require([\"plotly\"], function(Plotly) {                    window.PLOTLYENV=window.PLOTLYENV || {};\n",
       "                    window.PLOTLYENV.BASE_URL='https://plot.ly';                                    if (document.getElementById(\"e14c3fda-acf3-4a5e-993d-52b59d7d8519\")) {                    Plotly.newPlot(                        \"e14c3fda-acf3-4a5e-993d-52b59d7d8519\",                        [{\"colorscale\":[[0.0,\"rgb(255, 153, 51)\"],[0.1111111111111111,\"rgb(55, 128, 191)\"],[0.2222222222222222,\"rgb(50, 171, 96)\"],[0.3333333333333333,\"rgb(128, 0, 128)\"],[0.4444444444444444,\"rgb(219, 64, 82)\"],[0.5555555555555556,\"rgb(0, 128, 128)\"],[0.6666666666666666,\"rgb(255, 255, 51)\"],[0.7777777777777778,\"rgb(128, 128, 0)\"],[0.8888888888888888,\"rgb(251, 128, 114)\"],[1.0,\"rgb(128, 177, 211)\"]],\"x\":[0,1,2,3,4,5,6,7,8,9,10,11,12,13,14,15,16,17,18,19,20,21,22,23,24,25,26,27,28,29,30,31,32,33,34,35,36,37,38,39,40,41,42,43,44,45,46,47,48,49,50,51,52,53,54,55,56,57,58,59,60,61,62,63,64,65,66,67,68,69,70,71,72,73,74,75,76,77,78,79,80,81,82,83,84,85,86,87,88,89,90,91,92,93,94,95,96,97,98,99],\"y\":[\"A\",\"B\"],\"z\":[[-1.8158066953241796,-0.1532154842648918,-0.9087624017607344,-0.715856808084371,-0.7771907606069965,0.7351655714121069,-0.4340066741738052,-1.3736300616332289,-1.0910279061608386,-0.17715896700797562,0.7275992622753656,0.5719735501374622,0.1098535938239624,-0.7597209632957299,-1.1109900639357473,0.6925199043660469,0.7199999841009106,0.2873822213373869,-0.15420187444897465,0.008442848745635374,1.664921806311949,-1.3569852377652243,-0.23428268105986771,-1.9065024563371196,-1.8490542212588523,-0.9960295932103904,0.02314877232934917,1.7212068472548776,1.9013955197338033,-2.35253242851831,0.03040455800019841,0.21563700808987987,-0.4597229928437187,-0.7278607880726488,0.8877592700568671,0.4871704573515719,1.2769068225620719,0.18018462540389163,0.8649699512695074,-0.7445046848660324,-1.2890167760381392,0.5217925979706663,0.9389152424518948,0.9410136911071448,1.5734356802920477,1.4534955851108855,1.6379349099164204,2.051825040464344,-0.8723796481954755,0.6451170978250104,0.7996633553911477,-0.3758811118599081,0.8368783860108395,1.1672923335724237,1.9989574214327248,-0.9803635632487172,1.0272909775625343,-1.6470378469496967,-1.184745488394547,1.240609769403117,2.561043412628804,-0.5143615665306566,0.7449677226155068,-0.6201547168031414,0.6061735043418385,-0.6917606684322949,-0.4568162851669821,-1.4467767829303313,-0.4197208185978394,-0.27718742129594875,0.37837120923512646,1.2126642629518882,0.0393734817792643,-0.26340619911106694,-0.8351980357082801,-0.7959718758615214,0.6618589942538259,-0.4809145778698422,-0.5892785393324456,-0.25863477635135435,-0.6227807044887773,0.6993285851779953,-0.45746330629230986,-1.1643534645330045,1.3236560625253453,-0.6252302065588559,0.3150282283965467,1.137719962772657,0.514273522992465,0.17608458637176752,-0.6721697934374377,-0.9601912730760108,-0.9638044403008365,-0.35406490944069513,0.27014409824766095,0.7873120088931022,-0.4853469923359565,-0.35362079253020634,0.35722262241125424,-0.3869299705042295],[1.6962518426992457,-0.982193639127554,-2.1197856966587434,0.38054873370497094,-1.361275653580498,0.3019613106241735,0.5737655133927131,1.0945211359269573,0.5495438835085136,1.0344716229317987,1.5145618337839344,-1.322817574245342,-1.1907820282214117,-0.528632777074625,1.3012340540546952,-1.0689263129920183,-2.84496629837369,0.046135758701366845,-0.24639563344520166,0.25128120296962836,0.36830940996399714,0.12031333614256282,-0.8010686487431482,-1.9327299966087452,0.7590071315508242,0.09728845697523336,-0.6894331452347948,0.11100076999006471,0.8004367772526133,-0.3793003097447568,-0.010050251411239644,-1.157220777492313,0.2488904704855463,0.8320141897637261,-0.12460299783173051,-0.9910263142307557,0.7372791083222395,0.24955057188182372,-0.8396515362306939,-0.6309241374644079,-0.279841188171254,-0.16186589249778788,0.8051370085683334,0.6540567389457904,-1.5798108304946163,0.20639652702521474,0.39333903402492476,-0.4810666724010602,-0.3800959479086856,-0.3077260319677847,1.5208418364763474,0.7892210421725961,1.8591446122703879,1.7034420043231697,-0.10683091684168655,-0.4775338738383854,-1.0079070689317284,-1.0112734900097282,0.7111182117640453,1.0486950375562232,-0.26391919214625303,-0.4113679094580015,-0.2605367678626934,-0.47530461482159114,-0.053143688579886626,2.3967430629102333,1.8709284111420503,0.25187514496472596,-0.02397569055830253,-0.09829431482066459,0.09403916694330741,0.06531118931264279,1.7638042278748831,1.0049939775004493,-0.6137431487150112,0.6570327734296777,-0.6289093946870737,0.5903155802129443,-1.2205401647556249,0.16685846375701371,-0.7512178872411197,0.08940485042033164,0.7271257315355758,-0.8861325348030998,-0.11871209816686926,-1.4093783931195987,-0.1736218521324273,-1.556684785992902,0.2470908600596826,0.056697008587313615,0.7871147589497839,-0.8801147388503565,0.3565693844796211,-0.3783507036715136,-0.5636310145664183,-0.18403442117576474,0.7945894980989373,0.8203119259602427,-0.8631082962731352,0.21257593940078842]],\"type\":\"surface\"}],                        {\"legend\":{\"bgcolor\":\"#F5F6F9\",\"font\":{\"color\":\"#4D5663\"}},\"paper_bgcolor\":\"#F5F6F9\",\"plot_bgcolor\":\"#F5F6F9\",\"template\":{\"data\":{\"barpolar\":[{\"marker\":{\"line\":{\"color\":\"#E5ECF6\",\"width\":0.5},\"pattern\":{\"fillmode\":\"overlay\",\"size\":10,\"solidity\":0.2}},\"type\":\"barpolar\"}],\"bar\":[{\"error_x\":{\"color\":\"#2a3f5f\"},\"error_y\":{\"color\":\"#2a3f5f\"},\"marker\":{\"line\":{\"color\":\"#E5ECF6\",\"width\":0.5},\"pattern\":{\"fillmode\":\"overlay\",\"size\":10,\"solidity\":0.2}},\"type\":\"bar\"}],\"carpet\":[{\"aaxis\":{\"endlinecolor\":\"#2a3f5f\",\"gridcolor\":\"white\",\"linecolor\":\"white\",\"minorgridcolor\":\"white\",\"startlinecolor\":\"#2a3f5f\"},\"baxis\":{\"endlinecolor\":\"#2a3f5f\",\"gridcolor\":\"white\",\"linecolor\":\"white\",\"minorgridcolor\":\"white\",\"startlinecolor\":\"#2a3f5f\"},\"type\":\"carpet\"}],\"choropleth\":[{\"colorbar\":{\"outlinewidth\":0,\"ticks\":\"\"},\"type\":\"choropleth\"}],\"contourcarpet\":[{\"colorbar\":{\"outlinewidth\":0,\"ticks\":\"\"},\"type\":\"contourcarpet\"}],\"contour\":[{\"colorbar\":{\"outlinewidth\":0,\"ticks\":\"\"},\"colorscale\":[[0.0,\"#0d0887\"],[0.1111111111111111,\"#46039f\"],[0.2222222222222222,\"#7201a8\"],[0.3333333333333333,\"#9c179e\"],[0.4444444444444444,\"#bd3786\"],[0.5555555555555556,\"#d8576b\"],[0.6666666666666666,\"#ed7953\"],[0.7777777777777778,\"#fb9f3a\"],[0.8888888888888888,\"#fdca26\"],[1.0,\"#f0f921\"]],\"type\":\"contour\"}],\"heatmapgl\":[{\"colorbar\":{\"outlinewidth\":0,\"ticks\":\"\"},\"colorscale\":[[0.0,\"#0d0887\"],[0.1111111111111111,\"#46039f\"],[0.2222222222222222,\"#7201a8\"],[0.3333333333333333,\"#9c179e\"],[0.4444444444444444,\"#bd3786\"],[0.5555555555555556,\"#d8576b\"],[0.6666666666666666,\"#ed7953\"],[0.7777777777777778,\"#fb9f3a\"],[0.8888888888888888,\"#fdca26\"],[1.0,\"#f0f921\"]],\"type\":\"heatmapgl\"}],\"heatmap\":[{\"colorbar\":{\"outlinewidth\":0,\"ticks\":\"\"},\"colorscale\":[[0.0,\"#0d0887\"],[0.1111111111111111,\"#46039f\"],[0.2222222222222222,\"#7201a8\"],[0.3333333333333333,\"#9c179e\"],[0.4444444444444444,\"#bd3786\"],[0.5555555555555556,\"#d8576b\"],[0.6666666666666666,\"#ed7953\"],[0.7777777777777778,\"#fb9f3a\"],[0.8888888888888888,\"#fdca26\"],[1.0,\"#f0f921\"]],\"type\":\"heatmap\"}],\"histogram2dcontour\":[{\"colorbar\":{\"outlinewidth\":0,\"ticks\":\"\"},\"colorscale\":[[0.0,\"#0d0887\"],[0.1111111111111111,\"#46039f\"],[0.2222222222222222,\"#7201a8\"],[0.3333333333333333,\"#9c179e\"],[0.4444444444444444,\"#bd3786\"],[0.5555555555555556,\"#d8576b\"],[0.6666666666666666,\"#ed7953\"],[0.7777777777777778,\"#fb9f3a\"],[0.8888888888888888,\"#fdca26\"],[1.0,\"#f0f921\"]],\"type\":\"histogram2dcontour\"}],\"histogram2d\":[{\"colorbar\":{\"outlinewidth\":0,\"ticks\":\"\"},\"colorscale\":[[0.0,\"#0d0887\"],[0.1111111111111111,\"#46039f\"],[0.2222222222222222,\"#7201a8\"],[0.3333333333333333,\"#9c179e\"],[0.4444444444444444,\"#bd3786\"],[0.5555555555555556,\"#d8576b\"],[0.6666666666666666,\"#ed7953\"],[0.7777777777777778,\"#fb9f3a\"],[0.8888888888888888,\"#fdca26\"],[1.0,\"#f0f921\"]],\"type\":\"histogram2d\"}],\"histogram\":[{\"marker\":{\"pattern\":{\"fillmode\":\"overlay\",\"size\":10,\"solidity\":0.2}},\"type\":\"histogram\"}],\"mesh3d\":[{\"colorbar\":{\"outlinewidth\":0,\"ticks\":\"\"},\"type\":\"mesh3d\"}],\"parcoords\":[{\"line\":{\"colorbar\":{\"outlinewidth\":0,\"ticks\":\"\"}},\"type\":\"parcoords\"}],\"pie\":[{\"automargin\":true,\"type\":\"pie\"}],\"scatter3d\":[{\"line\":{\"colorbar\":{\"outlinewidth\":0,\"ticks\":\"\"}},\"marker\":{\"colorbar\":{\"outlinewidth\":0,\"ticks\":\"\"}},\"type\":\"scatter3d\"}],\"scattercarpet\":[{\"marker\":{\"colorbar\":{\"outlinewidth\":0,\"ticks\":\"\"}},\"type\":\"scattercarpet\"}],\"scattergeo\":[{\"marker\":{\"colorbar\":{\"outlinewidth\":0,\"ticks\":\"\"}},\"type\":\"scattergeo\"}],\"scattergl\":[{\"marker\":{\"colorbar\":{\"outlinewidth\":0,\"ticks\":\"\"}},\"type\":\"scattergl\"}],\"scattermapbox\":[{\"marker\":{\"colorbar\":{\"outlinewidth\":0,\"ticks\":\"\"}},\"type\":\"scattermapbox\"}],\"scatterpolargl\":[{\"marker\":{\"colorbar\":{\"outlinewidth\":0,\"ticks\":\"\"}},\"type\":\"scatterpolargl\"}],\"scatterpolar\":[{\"marker\":{\"colorbar\":{\"outlinewidth\":0,\"ticks\":\"\"}},\"type\":\"scatterpolar\"}],\"scatter\":[{\"fillpattern\":{\"fillmode\":\"overlay\",\"size\":10,\"solidity\":0.2},\"type\":\"scatter\"}],\"scatterternary\":[{\"marker\":{\"colorbar\":{\"outlinewidth\":0,\"ticks\":\"\"}},\"type\":\"scatterternary\"}],\"surface\":[{\"colorbar\":{\"outlinewidth\":0,\"ticks\":\"\"},\"colorscale\":[[0.0,\"#0d0887\"],[0.1111111111111111,\"#46039f\"],[0.2222222222222222,\"#7201a8\"],[0.3333333333333333,\"#9c179e\"],[0.4444444444444444,\"#bd3786\"],[0.5555555555555556,\"#d8576b\"],[0.6666666666666666,\"#ed7953\"],[0.7777777777777778,\"#fb9f3a\"],[0.8888888888888888,\"#fdca26\"],[1.0,\"#f0f921\"]],\"type\":\"surface\"}],\"table\":[{\"cells\":{\"fill\":{\"color\":\"#EBF0F8\"},\"line\":{\"color\":\"white\"}},\"header\":{\"fill\":{\"color\":\"#C8D4E3\"},\"line\":{\"color\":\"white\"}},\"type\":\"table\"}]},\"layout\":{\"annotationdefaults\":{\"arrowcolor\":\"#2a3f5f\",\"arrowhead\":0,\"arrowwidth\":1},\"autotypenumbers\":\"strict\",\"coloraxis\":{\"colorbar\":{\"outlinewidth\":0,\"ticks\":\"\"}},\"colorscale\":{\"diverging\":[[0,\"#8e0152\"],[0.1,\"#c51b7d\"],[0.2,\"#de77ae\"],[0.3,\"#f1b6da\"],[0.4,\"#fde0ef\"],[0.5,\"#f7f7f7\"],[0.6,\"#e6f5d0\"],[0.7,\"#b8e186\"],[0.8,\"#7fbc41\"],[0.9,\"#4d9221\"],[1,\"#276419\"]],\"sequential\":[[0.0,\"#0d0887\"],[0.1111111111111111,\"#46039f\"],[0.2222222222222222,\"#7201a8\"],[0.3333333333333333,\"#9c179e\"],[0.4444444444444444,\"#bd3786\"],[0.5555555555555556,\"#d8576b\"],[0.6666666666666666,\"#ed7953\"],[0.7777777777777778,\"#fb9f3a\"],[0.8888888888888888,\"#fdca26\"],[1.0,\"#f0f921\"]],\"sequentialminus\":[[0.0,\"#0d0887\"],[0.1111111111111111,\"#46039f\"],[0.2222222222222222,\"#7201a8\"],[0.3333333333333333,\"#9c179e\"],[0.4444444444444444,\"#bd3786\"],[0.5555555555555556,\"#d8576b\"],[0.6666666666666666,\"#ed7953\"],[0.7777777777777778,\"#fb9f3a\"],[0.8888888888888888,\"#fdca26\"],[1.0,\"#f0f921\"]]},\"colorway\":[\"#636efa\",\"#EF553B\",\"#00cc96\",\"#ab63fa\",\"#FFA15A\",\"#19d3f3\",\"#FF6692\",\"#B6E880\",\"#FF97FF\",\"#FECB52\"],\"font\":{\"color\":\"#2a3f5f\"},\"geo\":{\"bgcolor\":\"white\",\"lakecolor\":\"white\",\"landcolor\":\"#E5ECF6\",\"showlakes\":true,\"showland\":true,\"subunitcolor\":\"white\"},\"hoverlabel\":{\"align\":\"left\"},\"hovermode\":\"closest\",\"mapbox\":{\"style\":\"light\"},\"paper_bgcolor\":\"white\",\"plot_bgcolor\":\"#E5ECF6\",\"polar\":{\"angularaxis\":{\"gridcolor\":\"white\",\"linecolor\":\"white\",\"ticks\":\"\"},\"bgcolor\":\"#E5ECF6\",\"radialaxis\":{\"gridcolor\":\"white\",\"linecolor\":\"white\",\"ticks\":\"\"}},\"scene\":{\"xaxis\":{\"backgroundcolor\":\"#E5ECF6\",\"gridcolor\":\"white\",\"gridwidth\":2,\"linecolor\":\"white\",\"showbackground\":true,\"ticks\":\"\",\"zerolinecolor\":\"white\"},\"yaxis\":{\"backgroundcolor\":\"#E5ECF6\",\"gridcolor\":\"white\",\"gridwidth\":2,\"linecolor\":\"white\",\"showbackground\":true,\"ticks\":\"\",\"zerolinecolor\":\"white\"},\"zaxis\":{\"backgroundcolor\":\"#E5ECF6\",\"gridcolor\":\"white\",\"gridwidth\":2,\"linecolor\":\"white\",\"showbackground\":true,\"ticks\":\"\",\"zerolinecolor\":\"white\"}},\"shapedefaults\":{\"line\":{\"color\":\"#2a3f5f\"}},\"ternary\":{\"aaxis\":{\"gridcolor\":\"white\",\"linecolor\":\"white\",\"ticks\":\"\"},\"baxis\":{\"gridcolor\":\"white\",\"linecolor\":\"white\",\"ticks\":\"\"},\"bgcolor\":\"#E5ECF6\",\"caxis\":{\"gridcolor\":\"white\",\"linecolor\":\"white\",\"ticks\":\"\"}},\"title\":{\"x\":0.05},\"xaxis\":{\"automargin\":true,\"gridcolor\":\"white\",\"linecolor\":\"white\",\"ticks\":\"\",\"title\":{\"standoff\":15},\"zerolinecolor\":\"white\",\"zerolinewidth\":2},\"yaxis\":{\"automargin\":true,\"gridcolor\":\"white\",\"linecolor\":\"white\",\"ticks\":\"\",\"title\":{\"standoff\":15},\"zerolinecolor\":\"white\",\"zerolinewidth\":2}}},\"title\":{\"font\":{\"color\":\"#4D5663\"}},\"xaxis\":{\"gridcolor\":\"#E1E5ED\",\"showgrid\":true,\"tickfont\":{\"color\":\"#4D5663\"},\"title\":{\"font\":{\"color\":\"#4D5663\"},\"text\":\"\"},\"zerolinecolor\":\"#E1E5ED\"},\"yaxis\":{\"gridcolor\":\"#E1E5ED\",\"showgrid\":true,\"tickfont\":{\"color\":\"#4D5663\"},\"title\":{\"font\":{\"color\":\"#4D5663\"},\"text\":\"\"},\"zerolinecolor\":\"#E1E5ED\"}},                        {\"showLink\": true, \"linkText\": \"Export to plot.ly\", \"plotlyServerURL\": \"https://plot.ly\", \"responsive\": true}                    ).then(function(){\n",
       "                            \n",
       "var gd = document.getElementById('e14c3fda-acf3-4a5e-993d-52b59d7d8519');\n",
       "var x = new MutationObserver(function (mutations, observer) {{\n",
       "        var display = window.getComputedStyle(gd).display;\n",
       "        if (!display || display === 'none') {{\n",
       "            console.log([gd, 'removed!']);\n",
       "            Plotly.purge(gd);\n",
       "            observer.disconnect();\n",
       "        }}\n",
       "}});\n",
       "\n",
       "// Listen for the removal of the full notebook cells\n",
       "var notebookContainer = gd.closest('#notebook-container');\n",
       "if (notebookContainer) {{\n",
       "    x.observe(notebookContainer, {childList: true});\n",
       "}}\n",
       "\n",
       "// Listen for the clearing of the current output cell\n",
       "var outputEl = gd.closest('.output');\n",
       "if (outputEl) {{\n",
       "    x.observe(outputEl, {childList: true});\n",
       "}}\n",
       "\n",
       "                        })                };                });            </script>        </div>"
      ]
     },
     "metadata": {},
     "output_type": "display_data"
    }
   ],
   "source": [
    "df[['A', 'B']].iplot(kind='surface')"
   ]
  },
  {
   "cell_type": "code",
   "execution_count": 33,
   "id": "fcdf0c93",
   "metadata": {},
   "outputs": [
    {
     "name": "stderr",
     "output_type": "stream",
     "text": [
      "C:\\ProgramData\\Anaconda3\\lib\\site-packages\\cufflinks\\plotlytools.py:849: FutureWarning:\n",
      "\n",
      "The pandas.np module is deprecated and will be removed from pandas in a future version. Import numpy directly instead\n",
      "\n",
      "C:\\ProgramData\\Anaconda3\\lib\\site-packages\\cufflinks\\plotlytools.py:850: FutureWarning:\n",
      "\n",
      "The pandas.np module is deprecated and will be removed from pandas in a future version. Import numpy directly instead\n",
      "\n"
     ]
    },
    {
     "data": {
      "application/vnd.plotly.v1+json": {
       "config": {
        "linkText": "Export to plot.ly",
        "plotlyServerURL": "https://plot.ly",
        "showLink": true
       },
       "data": [
        {
         "line": {
          "color": "rgba(255, 153, 51, 1.0)",
          "dash": "solid",
          "shape": "linear",
          "width": 1.3
         },
         "mode": "lines",
         "name": "A",
         "text": "",
         "type": "scatter",
         "x": [
          0,
          1,
          2,
          3,
          4,
          5,
          6,
          7,
          8,
          9,
          10,
          11,
          12,
          13,
          14,
          15,
          16,
          17,
          18,
          19,
          20,
          21,
          22,
          23,
          24,
          25,
          26,
          27,
          28,
          29,
          30,
          31,
          32,
          33,
          34,
          35,
          36,
          37,
          38,
          39,
          40,
          41,
          42,
          43,
          44,
          45,
          46,
          47,
          48,
          49,
          50,
          51,
          52,
          53,
          54,
          55,
          56,
          57,
          58,
          59,
          60,
          61,
          62,
          63,
          64,
          65,
          66,
          67,
          68,
          69,
          70,
          71,
          72,
          73,
          74,
          75,
          76,
          77,
          78,
          79,
          80,
          81,
          82,
          83,
          84,
          85,
          86,
          87,
          88,
          89,
          90,
          91,
          92,
          93,
          94,
          95,
          96,
          97,
          98,
          99
         ],
         "y": [
          -1.8158066953241796,
          -0.1532154842648918,
          -0.9087624017607344,
          -0.715856808084371,
          -0.7771907606069965,
          0.7351655714121069,
          -0.4340066741738052,
          -1.3736300616332289,
          -1.0910279061608386,
          -0.17715896700797562,
          0.7275992622753656,
          0.5719735501374622,
          0.1098535938239624,
          -0.7597209632957299,
          -1.1109900639357473,
          0.6925199043660469,
          0.7199999841009106,
          0.2873822213373869,
          -0.15420187444897465,
          0.008442848745635374,
          1.664921806311949,
          -1.3569852377652243,
          -0.23428268105986771,
          -1.9065024563371196,
          -1.8490542212588523,
          -0.9960295932103904,
          0.02314877232934917,
          1.7212068472548776,
          1.9013955197338033,
          -2.35253242851831,
          0.03040455800019841,
          0.21563700808987987,
          -0.4597229928437187,
          -0.7278607880726488,
          0.8877592700568671,
          0.4871704573515719,
          1.2769068225620719,
          0.18018462540389163,
          0.8649699512695074,
          -0.7445046848660324,
          -1.2890167760381392,
          0.5217925979706663,
          0.9389152424518948,
          0.9410136911071448,
          1.5734356802920477,
          1.4534955851108855,
          1.6379349099164204,
          2.051825040464344,
          -0.8723796481954755,
          0.6451170978250104,
          0.7996633553911477,
          -0.3758811118599081,
          0.8368783860108395,
          1.1672923335724237,
          1.9989574214327248,
          -0.9803635632487172,
          1.0272909775625343,
          -1.6470378469496967,
          -1.184745488394547,
          1.240609769403117,
          2.561043412628804,
          -0.5143615665306566,
          0.7449677226155068,
          -0.6201547168031414,
          0.6061735043418385,
          -0.6917606684322949,
          -0.4568162851669821,
          -1.4467767829303313,
          -0.4197208185978394,
          -0.27718742129594875,
          0.37837120923512646,
          1.2126642629518882,
          0.0393734817792643,
          -0.26340619911106694,
          -0.8351980357082801,
          -0.7959718758615214,
          0.6618589942538259,
          -0.4809145778698422,
          -0.5892785393324456,
          -0.25863477635135435,
          -0.6227807044887773,
          0.6993285851779953,
          -0.45746330629230986,
          -1.1643534645330045,
          1.3236560625253453,
          -0.6252302065588559,
          0.3150282283965467,
          1.137719962772657,
          0.514273522992465,
          0.17608458637176752,
          -0.6721697934374377,
          -0.9601912730760108,
          -0.9638044403008365,
          -0.35406490944069513,
          0.27014409824766095,
          0.7873120088931022,
          -0.4853469923359565,
          -0.35362079253020634,
          0.35722262241125424,
          -0.3869299705042295
         ]
        },
        {
         "line": {
          "color": "rgba(55, 128, 191, 1.0)",
          "dash": "solid",
          "shape": "linear",
          "width": 1.3
         },
         "mode": "lines",
         "name": "B",
         "text": "",
         "type": "scatter",
         "x": [
          0,
          1,
          2,
          3,
          4,
          5,
          6,
          7,
          8,
          9,
          10,
          11,
          12,
          13,
          14,
          15,
          16,
          17,
          18,
          19,
          20,
          21,
          22,
          23,
          24,
          25,
          26,
          27,
          28,
          29,
          30,
          31,
          32,
          33,
          34,
          35,
          36,
          37,
          38,
          39,
          40,
          41,
          42,
          43,
          44,
          45,
          46,
          47,
          48,
          49,
          50,
          51,
          52,
          53,
          54,
          55,
          56,
          57,
          58,
          59,
          60,
          61,
          62,
          63,
          64,
          65,
          66,
          67,
          68,
          69,
          70,
          71,
          72,
          73,
          74,
          75,
          76,
          77,
          78,
          79,
          80,
          81,
          82,
          83,
          84,
          85,
          86,
          87,
          88,
          89,
          90,
          91,
          92,
          93,
          94,
          95,
          96,
          97,
          98,
          99
         ],
         "y": [
          1.6962518426992457,
          -0.982193639127554,
          -2.1197856966587434,
          0.38054873370497094,
          -1.361275653580498,
          0.3019613106241735,
          0.5737655133927131,
          1.0945211359269573,
          0.5495438835085136,
          1.0344716229317987,
          1.5145618337839344,
          -1.322817574245342,
          -1.1907820282214117,
          -0.528632777074625,
          1.3012340540546952,
          -1.0689263129920183,
          -2.84496629837369,
          0.046135758701366845,
          -0.24639563344520166,
          0.25128120296962836,
          0.36830940996399714,
          0.12031333614256282,
          -0.8010686487431482,
          -1.9327299966087452,
          0.7590071315508242,
          0.09728845697523336,
          -0.6894331452347948,
          0.11100076999006471,
          0.8004367772526133,
          -0.3793003097447568,
          -0.010050251411239644,
          -1.157220777492313,
          0.2488904704855463,
          0.8320141897637261,
          -0.12460299783173051,
          -0.9910263142307557,
          0.7372791083222395,
          0.24955057188182372,
          -0.8396515362306939,
          -0.6309241374644079,
          -0.279841188171254,
          -0.16186589249778788,
          0.8051370085683334,
          0.6540567389457904,
          -1.5798108304946163,
          0.20639652702521474,
          0.39333903402492476,
          -0.4810666724010602,
          -0.3800959479086856,
          -0.3077260319677847,
          1.5208418364763474,
          0.7892210421725961,
          1.8591446122703879,
          1.7034420043231697,
          -0.10683091684168655,
          -0.4775338738383854,
          -1.0079070689317284,
          -1.0112734900097282,
          0.7111182117640453,
          1.0486950375562232,
          -0.26391919214625303,
          -0.4113679094580015,
          -0.2605367678626934,
          -0.47530461482159114,
          -0.053143688579886626,
          2.3967430629102333,
          1.8709284111420503,
          0.25187514496472596,
          -0.02397569055830253,
          -0.09829431482066459,
          0.09403916694330741,
          0.06531118931264279,
          1.7638042278748831,
          1.0049939775004493,
          -0.6137431487150112,
          0.6570327734296777,
          -0.6289093946870737,
          0.5903155802129443,
          -1.2205401647556249,
          0.16685846375701371,
          -0.7512178872411197,
          0.08940485042033164,
          0.7271257315355758,
          -0.8861325348030998,
          -0.11871209816686926,
          -1.4093783931195987,
          -0.1736218521324273,
          -1.556684785992902,
          0.2470908600596826,
          0.056697008587313615,
          0.7871147589497839,
          -0.8801147388503565,
          0.3565693844796211,
          -0.3783507036715136,
          -0.5636310145664183,
          -0.18403442117576474,
          0.7945894980989373,
          0.8203119259602427,
          -0.8631082962731352,
          0.21257593940078842
         ]
        },
        {
         "connectgaps": false,
         "fill": "tozeroy",
         "line": {
          "color": "green",
          "dash": "solid",
          "shape": "linear",
          "width": 0.5
         },
         "mode": "lines",
         "name": "Spread",
         "showlegend": false,
         "type": "scatter",
         "x": [
          0,
          1,
          2,
          3,
          4,
          5,
          6,
          7,
          8,
          9,
          10,
          11,
          12,
          13,
          14,
          15,
          16,
          17,
          18,
          19,
          20,
          21,
          22,
          23,
          24,
          25,
          26,
          27,
          28,
          29,
          30,
          31,
          32,
          33,
          34,
          35,
          36,
          37,
          38,
          39,
          40,
          41,
          42,
          43,
          44,
          45,
          46,
          47,
          48,
          49,
          50,
          51,
          52,
          53,
          54,
          55,
          56,
          57,
          58,
          59,
          60,
          61,
          62,
          63,
          64,
          65,
          66,
          67,
          68,
          69,
          70,
          71,
          72,
          73,
          74,
          75,
          76,
          77,
          78,
          79,
          80,
          81,
          82,
          83,
          84,
          85,
          86,
          87,
          88,
          89,
          90,
          91,
          92,
          93,
          94,
          95,
          96,
          97,
          98,
          99
         ],
         "xaxis": "x2",
         "y": [
          "",
          0.8289781548626622,
          1.211023294898009,
          "",
          0.5840848929735014,
          0.43320426078793345,
          "",
          "",
          "",
          "",
          "",
          1.8947911243828042,
          1.300635622045374,
          "",
          "",
          1.7614462173580652,
          3.5649662824746007,
          0.24124646263602004,
          0.092193758996227,
          "",
          1.296612396347952,
          "",
          0.5667859676832805,
          0.02622754027162566,
          "",
          "",
          0.712581917564144,
          1.6102060772648128,
          1.10095874248119,
          "",
          0.04045480941143805,
          1.3728577855821928,
          "",
          "",
          1.0123622678885975,
          1.4781967715823277,
          0.5396277142398324,
          "",
          1.7046214875002013,
          "",
          "",
          0.6836584904684542,
          0.13377823388356147,
          0.2869569521613544,
          3.153246510786664,
          1.2470990580856707,
          1.2445958758914957,
          2.5328917128654043,
          "",
          0.9528431297927951,
          "",
          "",
          "",
          "",
          2.1057883382744116,
          "",
          2.035198046494263,
          "",
          "",
          0.1919147318468939,
          2.8249626047750573,
          "",
          1.0055044904782002,
          "",
          0.6593171929217251,
          "",
          "",
          "",
          "",
          "",
          0.2843320422918191,
          1.1473530736392454,
          "",
          "",
          "",
          "",
          1.2907683889408996,
          "",
          0.6312616254231793,
          "",
          0.1284371827523424,
          0.6099237347576637,
          "",
          "",
          1.4423681606922145,
          0.7841481865607428,
          0.488650080528974,
          2.6944047487655594,
          0.26718266293278237,
          0.11938757778445391,
          "",
          "",
          "",
          0.024285794230818447,
          0.8337751128140792,
          0.9713464300688669,
          "",
          "",
          1.2203309186843896,
          ""
         ],
         "yaxis": "y2"
        },
        {
         "connectgaps": false,
         "fill": "tozeroy",
         "line": {
          "color": "red",
          "dash": "solid",
          "shape": "linear",
          "width": 0.5
         },
         "mode": "lines",
         "name": "Spread",
         "showlegend": false,
         "type": "scatter",
         "x": [
          0,
          1,
          2,
          3,
          4,
          5,
          6,
          7,
          8,
          9,
          10,
          11,
          12,
          13,
          14,
          15,
          16,
          17,
          18,
          19,
          20,
          21,
          22,
          23,
          24,
          25,
          26,
          27,
          28,
          29,
          30,
          31,
          32,
          33,
          34,
          35,
          36,
          37,
          38,
          39,
          40,
          41,
          42,
          43,
          44,
          45,
          46,
          47,
          48,
          49,
          50,
          51,
          52,
          53,
          54,
          55,
          56,
          57,
          58,
          59,
          60,
          61,
          62,
          63,
          64,
          65,
          66,
          67,
          68,
          69,
          70,
          71,
          72,
          73,
          74,
          75,
          76,
          77,
          78,
          79,
          80,
          81,
          82,
          83,
          84,
          85,
          86,
          87,
          88,
          89,
          90,
          91,
          92,
          93,
          94,
          95,
          96,
          97,
          98,
          99
         ],
         "xaxis": "x2",
         "y": [
          -3.5120585380234255,
          "",
          "",
          -1.096405541789342,
          "",
          "",
          -1.0077721875665182,
          -2.468151197560186,
          -1.6405717896693521,
          -1.2116305899397743,
          -0.7869625715085687,
          "",
          "",
          -0.23108818622110494,
          -2.4122241179904425,
          "",
          "",
          "",
          "",
          -0.242838354223993,
          "",
          -1.477298573907787,
          "",
          "",
          -2.6080613528096768,
          -1.0933180501856237,
          "",
          "",
          "",
          -1.973232118773553,
          "",
          "",
          -0.708613463329265,
          -1.5598749778363747,
          "",
          "",
          "",
          -0.0693659464779321,
          "",
          -0.11358054740162449,
          -1.0091755878668853,
          "",
          "",
          "",
          "",
          "",
          "",
          "",
          -0.4922837002867899,
          "",
          -0.7211784810851997,
          -1.1651021540325042,
          -1.0222662262595483,
          -0.536149670750746,
          "",
          -0.5028296894103318,
          "",
          -0.6357643569399685,
          -1.8958637001585923,
          "",
          "",
          -0.10299365707265506,
          "",
          -0.14485010198155024,
          "",
          -3.088503731342528,
          -2.3277446963090322,
          -1.6986519278950571,
          -0.3957451280395369,
          -0.17889310647528417,
          "",
          "",
          -1.7244307460956187,
          -1.2684001766115163,
          -0.22145488699326887,
          -1.453004649291199,
          "",
          -1.0712301580827865,
          "",
          -0.4254932401083681,
          "",
          "",
          -1.1845890378278856,
          -0.27822092972990464,
          "",
          "",
          "",
          "",
          "",
          "",
          -1.4592845523872215,
          -0.0800765342256543,
          -1.3203738247804575,
          "",
          "",
          "",
          -1.2799364904348938,
          -1.1739327184904491,
          "",
          -0.599505909905018
         ],
         "yaxis": "y2"
        }
       ],
       "layout": {
        "hovermode": "x",
        "legend": {
         "bgcolor": "#F5F6F9",
         "font": {
          "color": "#4D5663"
         }
        },
        "paper_bgcolor": "#F5F6F9",
        "plot_bgcolor": "#F5F6F9",
        "template": {
         "data": {
          "bar": [
           {
            "error_x": {
             "color": "#2a3f5f"
            },
            "error_y": {
             "color": "#2a3f5f"
            },
            "marker": {
             "line": {
              "color": "#E5ECF6",
              "width": 0.5
             },
             "pattern": {
              "fillmode": "overlay",
              "size": 10,
              "solidity": 0.2
             }
            },
            "type": "bar"
           }
          ],
          "barpolar": [
           {
            "marker": {
             "line": {
              "color": "#E5ECF6",
              "width": 0.5
             },
             "pattern": {
              "fillmode": "overlay",
              "size": 10,
              "solidity": 0.2
             }
            },
            "type": "barpolar"
           }
          ],
          "carpet": [
           {
            "aaxis": {
             "endlinecolor": "#2a3f5f",
             "gridcolor": "white",
             "linecolor": "white",
             "minorgridcolor": "white",
             "startlinecolor": "#2a3f5f"
            },
            "baxis": {
             "endlinecolor": "#2a3f5f",
             "gridcolor": "white",
             "linecolor": "white",
             "minorgridcolor": "white",
             "startlinecolor": "#2a3f5f"
            },
            "type": "carpet"
           }
          ],
          "choropleth": [
           {
            "colorbar": {
             "outlinewidth": 0,
             "ticks": ""
            },
            "type": "choropleth"
           }
          ],
          "contour": [
           {
            "colorbar": {
             "outlinewidth": 0,
             "ticks": ""
            },
            "colorscale": [
             [
              0,
              "#0d0887"
             ],
             [
              0.1111111111111111,
              "#46039f"
             ],
             [
              0.2222222222222222,
              "#7201a8"
             ],
             [
              0.3333333333333333,
              "#9c179e"
             ],
             [
              0.4444444444444444,
              "#bd3786"
             ],
             [
              0.5555555555555556,
              "#d8576b"
             ],
             [
              0.6666666666666666,
              "#ed7953"
             ],
             [
              0.7777777777777778,
              "#fb9f3a"
             ],
             [
              0.8888888888888888,
              "#fdca26"
             ],
             [
              1,
              "#f0f921"
             ]
            ],
            "type": "contour"
           }
          ],
          "contourcarpet": [
           {
            "colorbar": {
             "outlinewidth": 0,
             "ticks": ""
            },
            "type": "contourcarpet"
           }
          ],
          "heatmap": [
           {
            "colorbar": {
             "outlinewidth": 0,
             "ticks": ""
            },
            "colorscale": [
             [
              0,
              "#0d0887"
             ],
             [
              0.1111111111111111,
              "#46039f"
             ],
             [
              0.2222222222222222,
              "#7201a8"
             ],
             [
              0.3333333333333333,
              "#9c179e"
             ],
             [
              0.4444444444444444,
              "#bd3786"
             ],
             [
              0.5555555555555556,
              "#d8576b"
             ],
             [
              0.6666666666666666,
              "#ed7953"
             ],
             [
              0.7777777777777778,
              "#fb9f3a"
             ],
             [
              0.8888888888888888,
              "#fdca26"
             ],
             [
              1,
              "#f0f921"
             ]
            ],
            "type": "heatmap"
           }
          ],
          "heatmapgl": [
           {
            "colorbar": {
             "outlinewidth": 0,
             "ticks": ""
            },
            "colorscale": [
             [
              0,
              "#0d0887"
             ],
             [
              0.1111111111111111,
              "#46039f"
             ],
             [
              0.2222222222222222,
              "#7201a8"
             ],
             [
              0.3333333333333333,
              "#9c179e"
             ],
             [
              0.4444444444444444,
              "#bd3786"
             ],
             [
              0.5555555555555556,
              "#d8576b"
             ],
             [
              0.6666666666666666,
              "#ed7953"
             ],
             [
              0.7777777777777778,
              "#fb9f3a"
             ],
             [
              0.8888888888888888,
              "#fdca26"
             ],
             [
              1,
              "#f0f921"
             ]
            ],
            "type": "heatmapgl"
           }
          ],
          "histogram": [
           {
            "marker": {
             "pattern": {
              "fillmode": "overlay",
              "size": 10,
              "solidity": 0.2
             }
            },
            "type": "histogram"
           }
          ],
          "histogram2d": [
           {
            "colorbar": {
             "outlinewidth": 0,
             "ticks": ""
            },
            "colorscale": [
             [
              0,
              "#0d0887"
             ],
             [
              0.1111111111111111,
              "#46039f"
             ],
             [
              0.2222222222222222,
              "#7201a8"
             ],
             [
              0.3333333333333333,
              "#9c179e"
             ],
             [
              0.4444444444444444,
              "#bd3786"
             ],
             [
              0.5555555555555556,
              "#d8576b"
             ],
             [
              0.6666666666666666,
              "#ed7953"
             ],
             [
              0.7777777777777778,
              "#fb9f3a"
             ],
             [
              0.8888888888888888,
              "#fdca26"
             ],
             [
              1,
              "#f0f921"
             ]
            ],
            "type": "histogram2d"
           }
          ],
          "histogram2dcontour": [
           {
            "colorbar": {
             "outlinewidth": 0,
             "ticks": ""
            },
            "colorscale": [
             [
              0,
              "#0d0887"
             ],
             [
              0.1111111111111111,
              "#46039f"
             ],
             [
              0.2222222222222222,
              "#7201a8"
             ],
             [
              0.3333333333333333,
              "#9c179e"
             ],
             [
              0.4444444444444444,
              "#bd3786"
             ],
             [
              0.5555555555555556,
              "#d8576b"
             ],
             [
              0.6666666666666666,
              "#ed7953"
             ],
             [
              0.7777777777777778,
              "#fb9f3a"
             ],
             [
              0.8888888888888888,
              "#fdca26"
             ],
             [
              1,
              "#f0f921"
             ]
            ],
            "type": "histogram2dcontour"
           }
          ],
          "mesh3d": [
           {
            "colorbar": {
             "outlinewidth": 0,
             "ticks": ""
            },
            "type": "mesh3d"
           }
          ],
          "parcoords": [
           {
            "line": {
             "colorbar": {
              "outlinewidth": 0,
              "ticks": ""
             }
            },
            "type": "parcoords"
           }
          ],
          "pie": [
           {
            "automargin": true,
            "type": "pie"
           }
          ],
          "scatter": [
           {
            "fillpattern": {
             "fillmode": "overlay",
             "size": 10,
             "solidity": 0.2
            },
            "type": "scatter"
           }
          ],
          "scatter3d": [
           {
            "line": {
             "colorbar": {
              "outlinewidth": 0,
              "ticks": ""
             }
            },
            "marker": {
             "colorbar": {
              "outlinewidth": 0,
              "ticks": ""
             }
            },
            "type": "scatter3d"
           }
          ],
          "scattercarpet": [
           {
            "marker": {
             "colorbar": {
              "outlinewidth": 0,
              "ticks": ""
             }
            },
            "type": "scattercarpet"
           }
          ],
          "scattergeo": [
           {
            "marker": {
             "colorbar": {
              "outlinewidth": 0,
              "ticks": ""
             }
            },
            "type": "scattergeo"
           }
          ],
          "scattergl": [
           {
            "marker": {
             "colorbar": {
              "outlinewidth": 0,
              "ticks": ""
             }
            },
            "type": "scattergl"
           }
          ],
          "scattermapbox": [
           {
            "marker": {
             "colorbar": {
              "outlinewidth": 0,
              "ticks": ""
             }
            },
            "type": "scattermapbox"
           }
          ],
          "scatterpolar": [
           {
            "marker": {
             "colorbar": {
              "outlinewidth": 0,
              "ticks": ""
             }
            },
            "type": "scatterpolar"
           }
          ],
          "scatterpolargl": [
           {
            "marker": {
             "colorbar": {
              "outlinewidth": 0,
              "ticks": ""
             }
            },
            "type": "scatterpolargl"
           }
          ],
          "scatterternary": [
           {
            "marker": {
             "colorbar": {
              "outlinewidth": 0,
              "ticks": ""
             }
            },
            "type": "scatterternary"
           }
          ],
          "surface": [
           {
            "colorbar": {
             "outlinewidth": 0,
             "ticks": ""
            },
            "colorscale": [
             [
              0,
              "#0d0887"
             ],
             [
              0.1111111111111111,
              "#46039f"
             ],
             [
              0.2222222222222222,
              "#7201a8"
             ],
             [
              0.3333333333333333,
              "#9c179e"
             ],
             [
              0.4444444444444444,
              "#bd3786"
             ],
             [
              0.5555555555555556,
              "#d8576b"
             ],
             [
              0.6666666666666666,
              "#ed7953"
             ],
             [
              0.7777777777777778,
              "#fb9f3a"
             ],
             [
              0.8888888888888888,
              "#fdca26"
             ],
             [
              1,
              "#f0f921"
             ]
            ],
            "type": "surface"
           }
          ],
          "table": [
           {
            "cells": {
             "fill": {
              "color": "#EBF0F8"
             },
             "line": {
              "color": "white"
             }
            },
            "header": {
             "fill": {
              "color": "#C8D4E3"
             },
             "line": {
              "color": "white"
             }
            },
            "type": "table"
           }
          ]
         },
         "layout": {
          "annotationdefaults": {
           "arrowcolor": "#2a3f5f",
           "arrowhead": 0,
           "arrowwidth": 1
          },
          "autotypenumbers": "strict",
          "coloraxis": {
           "colorbar": {
            "outlinewidth": 0,
            "ticks": ""
           }
          },
          "colorscale": {
           "diverging": [
            [
             0,
             "#8e0152"
            ],
            [
             0.1,
             "#c51b7d"
            ],
            [
             0.2,
             "#de77ae"
            ],
            [
             0.3,
             "#f1b6da"
            ],
            [
             0.4,
             "#fde0ef"
            ],
            [
             0.5,
             "#f7f7f7"
            ],
            [
             0.6,
             "#e6f5d0"
            ],
            [
             0.7,
             "#b8e186"
            ],
            [
             0.8,
             "#7fbc41"
            ],
            [
             0.9,
             "#4d9221"
            ],
            [
             1,
             "#276419"
            ]
           ],
           "sequential": [
            [
             0,
             "#0d0887"
            ],
            [
             0.1111111111111111,
             "#46039f"
            ],
            [
             0.2222222222222222,
             "#7201a8"
            ],
            [
             0.3333333333333333,
             "#9c179e"
            ],
            [
             0.4444444444444444,
             "#bd3786"
            ],
            [
             0.5555555555555556,
             "#d8576b"
            ],
            [
             0.6666666666666666,
             "#ed7953"
            ],
            [
             0.7777777777777778,
             "#fb9f3a"
            ],
            [
             0.8888888888888888,
             "#fdca26"
            ],
            [
             1,
             "#f0f921"
            ]
           ],
           "sequentialminus": [
            [
             0,
             "#0d0887"
            ],
            [
             0.1111111111111111,
             "#46039f"
            ],
            [
             0.2222222222222222,
             "#7201a8"
            ],
            [
             0.3333333333333333,
             "#9c179e"
            ],
            [
             0.4444444444444444,
             "#bd3786"
            ],
            [
             0.5555555555555556,
             "#d8576b"
            ],
            [
             0.6666666666666666,
             "#ed7953"
            ],
            [
             0.7777777777777778,
             "#fb9f3a"
            ],
            [
             0.8888888888888888,
             "#fdca26"
            ],
            [
             1,
             "#f0f921"
            ]
           ]
          },
          "colorway": [
           "#636efa",
           "#EF553B",
           "#00cc96",
           "#ab63fa",
           "#FFA15A",
           "#19d3f3",
           "#FF6692",
           "#B6E880",
           "#FF97FF",
           "#FECB52"
          ],
          "font": {
           "color": "#2a3f5f"
          },
          "geo": {
           "bgcolor": "white",
           "lakecolor": "white",
           "landcolor": "#E5ECF6",
           "showlakes": true,
           "showland": true,
           "subunitcolor": "white"
          },
          "hoverlabel": {
           "align": "left"
          },
          "hovermode": "closest",
          "mapbox": {
           "style": "light"
          },
          "paper_bgcolor": "white",
          "plot_bgcolor": "#E5ECF6",
          "polar": {
           "angularaxis": {
            "gridcolor": "white",
            "linecolor": "white",
            "ticks": ""
           },
           "bgcolor": "#E5ECF6",
           "radialaxis": {
            "gridcolor": "white",
            "linecolor": "white",
            "ticks": ""
           }
          },
          "scene": {
           "xaxis": {
            "backgroundcolor": "#E5ECF6",
            "gridcolor": "white",
            "gridwidth": 2,
            "linecolor": "white",
            "showbackground": true,
            "ticks": "",
            "zerolinecolor": "white"
           },
           "yaxis": {
            "backgroundcolor": "#E5ECF6",
            "gridcolor": "white",
            "gridwidth": 2,
            "linecolor": "white",
            "showbackground": true,
            "ticks": "",
            "zerolinecolor": "white"
           },
           "zaxis": {
            "backgroundcolor": "#E5ECF6",
            "gridcolor": "white",
            "gridwidth": 2,
            "linecolor": "white",
            "showbackground": true,
            "ticks": "",
            "zerolinecolor": "white"
           }
          },
          "shapedefaults": {
           "line": {
            "color": "#2a3f5f"
           }
          },
          "ternary": {
           "aaxis": {
            "gridcolor": "white",
            "linecolor": "white",
            "ticks": ""
           },
           "baxis": {
            "gridcolor": "white",
            "linecolor": "white",
            "ticks": ""
           },
           "bgcolor": "#E5ECF6",
           "caxis": {
            "gridcolor": "white",
            "linecolor": "white",
            "ticks": ""
           }
          },
          "title": {
           "x": 0.05
          },
          "xaxis": {
           "automargin": true,
           "gridcolor": "white",
           "linecolor": "white",
           "ticks": "",
           "title": {
            "standoff": 15
           },
           "zerolinecolor": "white",
           "zerolinewidth": 2
          },
          "yaxis": {
           "automargin": true,
           "gridcolor": "white",
           "linecolor": "white",
           "ticks": "",
           "title": {
            "standoff": 15
           },
           "zerolinecolor": "white",
           "zerolinewidth": 2
          }
         }
        },
        "title": {
         "font": {
          "color": "#4D5663"
         }
        },
        "xaxis": {
         "gridcolor": "#E1E5ED",
         "showgrid": true,
         "tickfont": {
          "color": "#4D5663"
         },
         "title": {
          "font": {
           "color": "#4D5663"
          },
          "text": ""
         },
         "zerolinecolor": "#E1E5ED"
        },
        "xaxis2": {
         "anchor": "y2",
         "gridcolor": "#E1E5ED",
         "showgrid": true,
         "showticklabels": false,
         "tickfont": {
          "color": "#4D5663"
         },
         "title": {
          "font": {
           "color": "#4D5663"
          },
          "text": ""
         },
         "zerolinecolor": "#E1E5ED"
        },
        "yaxis": {
         "domain": [
          0.3,
          1
         ],
         "gridcolor": "#E1E5ED",
         "showgrid": true,
         "tickfont": {
          "color": "#4D5663"
         },
         "title": {
          "font": {
           "color": "#4D5663"
          },
          "text": ""
         },
         "zerolinecolor": "#E1E5ED"
        },
        "yaxis2": {
         "domain": [
          0,
          0.25
         ],
         "gridcolor": "#E1E5ED",
         "showgrid": true,
         "tickfont": {
          "color": "#4D5663"
         },
         "title": {
          "font": {
           "color": "#4D5663"
          },
          "text": "Spread"
         },
         "zerolinecolor": "#E1E5ED"
        }
       }
      },
      "text/html": [
       "<div>                            <div id=\"971a8e15-220b-4232-81d6-c8e75acbbf81\" class=\"plotly-graph-div\" style=\"height:525px; width:100%;\"></div>            <script type=\"text/javascript\">                require([\"plotly\"], function(Plotly) {                    window.PLOTLYENV=window.PLOTLYENV || {};\n",
       "                    window.PLOTLYENV.BASE_URL='https://plot.ly';                                    if (document.getElementById(\"971a8e15-220b-4232-81d6-c8e75acbbf81\")) {                    Plotly.newPlot(                        \"971a8e15-220b-4232-81d6-c8e75acbbf81\",                        [{\"line\":{\"color\":\"rgba(255, 153, 51, 1.0)\",\"dash\":\"solid\",\"shape\":\"linear\",\"width\":1.3},\"mode\":\"lines\",\"name\":\"A\",\"text\":\"\",\"x\":[0,1,2,3,4,5,6,7,8,9,10,11,12,13,14,15,16,17,18,19,20,21,22,23,24,25,26,27,28,29,30,31,32,33,34,35,36,37,38,39,40,41,42,43,44,45,46,47,48,49,50,51,52,53,54,55,56,57,58,59,60,61,62,63,64,65,66,67,68,69,70,71,72,73,74,75,76,77,78,79,80,81,82,83,84,85,86,87,88,89,90,91,92,93,94,95,96,97,98,99],\"y\":[-1.8158066953241796,-0.1532154842648918,-0.9087624017607344,-0.715856808084371,-0.7771907606069965,0.7351655714121069,-0.4340066741738052,-1.3736300616332289,-1.0910279061608386,-0.17715896700797562,0.7275992622753656,0.5719735501374622,0.1098535938239624,-0.7597209632957299,-1.1109900639357473,0.6925199043660469,0.7199999841009106,0.2873822213373869,-0.15420187444897465,0.008442848745635374,1.664921806311949,-1.3569852377652243,-0.23428268105986771,-1.9065024563371196,-1.8490542212588523,-0.9960295932103904,0.02314877232934917,1.7212068472548776,1.9013955197338033,-2.35253242851831,0.03040455800019841,0.21563700808987987,-0.4597229928437187,-0.7278607880726488,0.8877592700568671,0.4871704573515719,1.2769068225620719,0.18018462540389163,0.8649699512695074,-0.7445046848660324,-1.2890167760381392,0.5217925979706663,0.9389152424518948,0.9410136911071448,1.5734356802920477,1.4534955851108855,1.6379349099164204,2.051825040464344,-0.8723796481954755,0.6451170978250104,0.7996633553911477,-0.3758811118599081,0.8368783860108395,1.1672923335724237,1.9989574214327248,-0.9803635632487172,1.0272909775625343,-1.6470378469496967,-1.184745488394547,1.240609769403117,2.561043412628804,-0.5143615665306566,0.7449677226155068,-0.6201547168031414,0.6061735043418385,-0.6917606684322949,-0.4568162851669821,-1.4467767829303313,-0.4197208185978394,-0.27718742129594875,0.37837120923512646,1.2126642629518882,0.0393734817792643,-0.26340619911106694,-0.8351980357082801,-0.7959718758615214,0.6618589942538259,-0.4809145778698422,-0.5892785393324456,-0.25863477635135435,-0.6227807044887773,0.6993285851779953,-0.45746330629230986,-1.1643534645330045,1.3236560625253453,-0.6252302065588559,0.3150282283965467,1.137719962772657,0.514273522992465,0.17608458637176752,-0.6721697934374377,-0.9601912730760108,-0.9638044403008365,-0.35406490944069513,0.27014409824766095,0.7873120088931022,-0.4853469923359565,-0.35362079253020634,0.35722262241125424,-0.3869299705042295],\"type\":\"scatter\"},{\"line\":{\"color\":\"rgba(55, 128, 191, 1.0)\",\"dash\":\"solid\",\"shape\":\"linear\",\"width\":1.3},\"mode\":\"lines\",\"name\":\"B\",\"text\":\"\",\"x\":[0,1,2,3,4,5,6,7,8,9,10,11,12,13,14,15,16,17,18,19,20,21,22,23,24,25,26,27,28,29,30,31,32,33,34,35,36,37,38,39,40,41,42,43,44,45,46,47,48,49,50,51,52,53,54,55,56,57,58,59,60,61,62,63,64,65,66,67,68,69,70,71,72,73,74,75,76,77,78,79,80,81,82,83,84,85,86,87,88,89,90,91,92,93,94,95,96,97,98,99],\"y\":[1.6962518426992457,-0.982193639127554,-2.1197856966587434,0.38054873370497094,-1.361275653580498,0.3019613106241735,0.5737655133927131,1.0945211359269573,0.5495438835085136,1.0344716229317987,1.5145618337839344,-1.322817574245342,-1.1907820282214117,-0.528632777074625,1.3012340540546952,-1.0689263129920183,-2.84496629837369,0.046135758701366845,-0.24639563344520166,0.25128120296962836,0.36830940996399714,0.12031333614256282,-0.8010686487431482,-1.9327299966087452,0.7590071315508242,0.09728845697523336,-0.6894331452347948,0.11100076999006471,0.8004367772526133,-0.3793003097447568,-0.010050251411239644,-1.157220777492313,0.2488904704855463,0.8320141897637261,-0.12460299783173051,-0.9910263142307557,0.7372791083222395,0.24955057188182372,-0.8396515362306939,-0.6309241374644079,-0.279841188171254,-0.16186589249778788,0.8051370085683334,0.6540567389457904,-1.5798108304946163,0.20639652702521474,0.39333903402492476,-0.4810666724010602,-0.3800959479086856,-0.3077260319677847,1.5208418364763474,0.7892210421725961,1.8591446122703879,1.7034420043231697,-0.10683091684168655,-0.4775338738383854,-1.0079070689317284,-1.0112734900097282,0.7111182117640453,1.0486950375562232,-0.26391919214625303,-0.4113679094580015,-0.2605367678626934,-0.47530461482159114,-0.053143688579886626,2.3967430629102333,1.8709284111420503,0.25187514496472596,-0.02397569055830253,-0.09829431482066459,0.09403916694330741,0.06531118931264279,1.7638042278748831,1.0049939775004493,-0.6137431487150112,0.6570327734296777,-0.6289093946870737,0.5903155802129443,-1.2205401647556249,0.16685846375701371,-0.7512178872411197,0.08940485042033164,0.7271257315355758,-0.8861325348030998,-0.11871209816686926,-1.4093783931195987,-0.1736218521324273,-1.556684785992902,0.2470908600596826,0.056697008587313615,0.7871147589497839,-0.8801147388503565,0.3565693844796211,-0.3783507036715136,-0.5636310145664183,-0.18403442117576474,0.7945894980989373,0.8203119259602427,-0.8631082962731352,0.21257593940078842],\"type\":\"scatter\"},{\"connectgaps\":false,\"fill\":\"tozeroy\",\"line\":{\"color\":\"green\",\"dash\":\"solid\",\"shape\":\"linear\",\"width\":0.5},\"mode\":\"lines\",\"name\":\"Spread\",\"showlegend\":false,\"x\":[0,1,2,3,4,5,6,7,8,9,10,11,12,13,14,15,16,17,18,19,20,21,22,23,24,25,26,27,28,29,30,31,32,33,34,35,36,37,38,39,40,41,42,43,44,45,46,47,48,49,50,51,52,53,54,55,56,57,58,59,60,61,62,63,64,65,66,67,68,69,70,71,72,73,74,75,76,77,78,79,80,81,82,83,84,85,86,87,88,89,90,91,92,93,94,95,96,97,98,99],\"xaxis\":\"x2\",\"y\":[\"\",0.8289781548626622,1.211023294898009,\"\",0.5840848929735014,0.43320426078793345,\"\",\"\",\"\",\"\",\"\",1.8947911243828042,1.300635622045374,\"\",\"\",1.7614462173580652,3.5649662824746007,0.24124646263602004,0.092193758996227,\"\",1.296612396347952,\"\",0.5667859676832805,0.02622754027162566,\"\",\"\",0.712581917564144,1.6102060772648128,1.10095874248119,\"\",0.04045480941143805,1.3728577855821928,\"\",\"\",1.0123622678885975,1.4781967715823277,0.5396277142398324,\"\",1.7046214875002013,\"\",\"\",0.6836584904684542,0.13377823388356147,0.2869569521613544,3.153246510786664,1.2470990580856707,1.2445958758914957,2.5328917128654043,\"\",0.9528431297927951,\"\",\"\",\"\",\"\",2.1057883382744116,\"\",2.035198046494263,\"\",\"\",0.1919147318468939,2.8249626047750573,\"\",1.0055044904782002,\"\",0.6593171929217251,\"\",\"\",\"\",\"\",\"\",0.2843320422918191,1.1473530736392454,\"\",\"\",\"\",\"\",1.2907683889408996,\"\",0.6312616254231793,\"\",0.1284371827523424,0.6099237347576637,\"\",\"\",1.4423681606922145,0.7841481865607428,0.488650080528974,2.6944047487655594,0.26718266293278237,0.11938757778445391,\"\",\"\",\"\",0.024285794230818447,0.8337751128140792,0.9713464300688669,\"\",\"\",1.2203309186843896,\"\"],\"yaxis\":\"y2\",\"type\":\"scatter\"},{\"connectgaps\":false,\"fill\":\"tozeroy\",\"line\":{\"color\":\"red\",\"dash\":\"solid\",\"shape\":\"linear\",\"width\":0.5},\"mode\":\"lines\",\"name\":\"Spread\",\"showlegend\":false,\"x\":[0,1,2,3,4,5,6,7,8,9,10,11,12,13,14,15,16,17,18,19,20,21,22,23,24,25,26,27,28,29,30,31,32,33,34,35,36,37,38,39,40,41,42,43,44,45,46,47,48,49,50,51,52,53,54,55,56,57,58,59,60,61,62,63,64,65,66,67,68,69,70,71,72,73,74,75,76,77,78,79,80,81,82,83,84,85,86,87,88,89,90,91,92,93,94,95,96,97,98,99],\"xaxis\":\"x2\",\"y\":[-3.5120585380234255,\"\",\"\",-1.096405541789342,\"\",\"\",-1.0077721875665182,-2.468151197560186,-1.6405717896693521,-1.2116305899397743,-0.7869625715085687,\"\",\"\",-0.23108818622110494,-2.4122241179904425,\"\",\"\",\"\",\"\",-0.242838354223993,\"\",-1.477298573907787,\"\",\"\",-2.6080613528096768,-1.0933180501856237,\"\",\"\",\"\",-1.973232118773553,\"\",\"\",-0.708613463329265,-1.5598749778363747,\"\",\"\",\"\",-0.0693659464779321,\"\",-0.11358054740162449,-1.0091755878668853,\"\",\"\",\"\",\"\",\"\",\"\",\"\",-0.4922837002867899,\"\",-0.7211784810851997,-1.1651021540325042,-1.0222662262595483,-0.536149670750746,\"\",-0.5028296894103318,\"\",-0.6357643569399685,-1.8958637001585923,\"\",\"\",-0.10299365707265506,\"\",-0.14485010198155024,\"\",-3.088503731342528,-2.3277446963090322,-1.6986519278950571,-0.3957451280395369,-0.17889310647528417,\"\",\"\",-1.7244307460956187,-1.2684001766115163,-0.22145488699326887,-1.453004649291199,\"\",-1.0712301580827865,\"\",-0.4254932401083681,\"\",\"\",-1.1845890378278856,-0.27822092972990464,\"\",\"\",\"\",\"\",\"\",\"\",-1.4592845523872215,-0.0800765342256543,-1.3203738247804575,\"\",\"\",\"\",-1.2799364904348938,-1.1739327184904491,\"\",-0.599505909905018],\"yaxis\":\"y2\",\"type\":\"scatter\"}],                        {\"hovermode\":\"x\",\"legend\":{\"bgcolor\":\"#F5F6F9\",\"font\":{\"color\":\"#4D5663\"}},\"paper_bgcolor\":\"#F5F6F9\",\"plot_bgcolor\":\"#F5F6F9\",\"template\":{\"data\":{\"barpolar\":[{\"marker\":{\"line\":{\"color\":\"#E5ECF6\",\"width\":0.5},\"pattern\":{\"fillmode\":\"overlay\",\"size\":10,\"solidity\":0.2}},\"type\":\"barpolar\"}],\"bar\":[{\"error_x\":{\"color\":\"#2a3f5f\"},\"error_y\":{\"color\":\"#2a3f5f\"},\"marker\":{\"line\":{\"color\":\"#E5ECF6\",\"width\":0.5},\"pattern\":{\"fillmode\":\"overlay\",\"size\":10,\"solidity\":0.2}},\"type\":\"bar\"}],\"carpet\":[{\"aaxis\":{\"endlinecolor\":\"#2a3f5f\",\"gridcolor\":\"white\",\"linecolor\":\"white\",\"minorgridcolor\":\"white\",\"startlinecolor\":\"#2a3f5f\"},\"baxis\":{\"endlinecolor\":\"#2a3f5f\",\"gridcolor\":\"white\",\"linecolor\":\"white\",\"minorgridcolor\":\"white\",\"startlinecolor\":\"#2a3f5f\"},\"type\":\"carpet\"}],\"choropleth\":[{\"colorbar\":{\"outlinewidth\":0,\"ticks\":\"\"},\"type\":\"choropleth\"}],\"contourcarpet\":[{\"colorbar\":{\"outlinewidth\":0,\"ticks\":\"\"},\"type\":\"contourcarpet\"}],\"contour\":[{\"colorbar\":{\"outlinewidth\":0,\"ticks\":\"\"},\"colorscale\":[[0.0,\"#0d0887\"],[0.1111111111111111,\"#46039f\"],[0.2222222222222222,\"#7201a8\"],[0.3333333333333333,\"#9c179e\"],[0.4444444444444444,\"#bd3786\"],[0.5555555555555556,\"#d8576b\"],[0.6666666666666666,\"#ed7953\"],[0.7777777777777778,\"#fb9f3a\"],[0.8888888888888888,\"#fdca26\"],[1.0,\"#f0f921\"]],\"type\":\"contour\"}],\"heatmapgl\":[{\"colorbar\":{\"outlinewidth\":0,\"ticks\":\"\"},\"colorscale\":[[0.0,\"#0d0887\"],[0.1111111111111111,\"#46039f\"],[0.2222222222222222,\"#7201a8\"],[0.3333333333333333,\"#9c179e\"],[0.4444444444444444,\"#bd3786\"],[0.5555555555555556,\"#d8576b\"],[0.6666666666666666,\"#ed7953\"],[0.7777777777777778,\"#fb9f3a\"],[0.8888888888888888,\"#fdca26\"],[1.0,\"#f0f921\"]],\"type\":\"heatmapgl\"}],\"heatmap\":[{\"colorbar\":{\"outlinewidth\":0,\"ticks\":\"\"},\"colorscale\":[[0.0,\"#0d0887\"],[0.1111111111111111,\"#46039f\"],[0.2222222222222222,\"#7201a8\"],[0.3333333333333333,\"#9c179e\"],[0.4444444444444444,\"#bd3786\"],[0.5555555555555556,\"#d8576b\"],[0.6666666666666666,\"#ed7953\"],[0.7777777777777778,\"#fb9f3a\"],[0.8888888888888888,\"#fdca26\"],[1.0,\"#f0f921\"]],\"type\":\"heatmap\"}],\"histogram2dcontour\":[{\"colorbar\":{\"outlinewidth\":0,\"ticks\":\"\"},\"colorscale\":[[0.0,\"#0d0887\"],[0.1111111111111111,\"#46039f\"],[0.2222222222222222,\"#7201a8\"],[0.3333333333333333,\"#9c179e\"],[0.4444444444444444,\"#bd3786\"],[0.5555555555555556,\"#d8576b\"],[0.6666666666666666,\"#ed7953\"],[0.7777777777777778,\"#fb9f3a\"],[0.8888888888888888,\"#fdca26\"],[1.0,\"#f0f921\"]],\"type\":\"histogram2dcontour\"}],\"histogram2d\":[{\"colorbar\":{\"outlinewidth\":0,\"ticks\":\"\"},\"colorscale\":[[0.0,\"#0d0887\"],[0.1111111111111111,\"#46039f\"],[0.2222222222222222,\"#7201a8\"],[0.3333333333333333,\"#9c179e\"],[0.4444444444444444,\"#bd3786\"],[0.5555555555555556,\"#d8576b\"],[0.6666666666666666,\"#ed7953\"],[0.7777777777777778,\"#fb9f3a\"],[0.8888888888888888,\"#fdca26\"],[1.0,\"#f0f921\"]],\"type\":\"histogram2d\"}],\"histogram\":[{\"marker\":{\"pattern\":{\"fillmode\":\"overlay\",\"size\":10,\"solidity\":0.2}},\"type\":\"histogram\"}],\"mesh3d\":[{\"colorbar\":{\"outlinewidth\":0,\"ticks\":\"\"},\"type\":\"mesh3d\"}],\"parcoords\":[{\"line\":{\"colorbar\":{\"outlinewidth\":0,\"ticks\":\"\"}},\"type\":\"parcoords\"}],\"pie\":[{\"automargin\":true,\"type\":\"pie\"}],\"scatter3d\":[{\"line\":{\"colorbar\":{\"outlinewidth\":0,\"ticks\":\"\"}},\"marker\":{\"colorbar\":{\"outlinewidth\":0,\"ticks\":\"\"}},\"type\":\"scatter3d\"}],\"scattercarpet\":[{\"marker\":{\"colorbar\":{\"outlinewidth\":0,\"ticks\":\"\"}},\"type\":\"scattercarpet\"}],\"scattergeo\":[{\"marker\":{\"colorbar\":{\"outlinewidth\":0,\"ticks\":\"\"}},\"type\":\"scattergeo\"}],\"scattergl\":[{\"marker\":{\"colorbar\":{\"outlinewidth\":0,\"ticks\":\"\"}},\"type\":\"scattergl\"}],\"scattermapbox\":[{\"marker\":{\"colorbar\":{\"outlinewidth\":0,\"ticks\":\"\"}},\"type\":\"scattermapbox\"}],\"scatterpolargl\":[{\"marker\":{\"colorbar\":{\"outlinewidth\":0,\"ticks\":\"\"}},\"type\":\"scatterpolargl\"}],\"scatterpolar\":[{\"marker\":{\"colorbar\":{\"outlinewidth\":0,\"ticks\":\"\"}},\"type\":\"scatterpolar\"}],\"scatter\":[{\"fillpattern\":{\"fillmode\":\"overlay\",\"size\":10,\"solidity\":0.2},\"type\":\"scatter\"}],\"scatterternary\":[{\"marker\":{\"colorbar\":{\"outlinewidth\":0,\"ticks\":\"\"}},\"type\":\"scatterternary\"}],\"surface\":[{\"colorbar\":{\"outlinewidth\":0,\"ticks\":\"\"},\"colorscale\":[[0.0,\"#0d0887\"],[0.1111111111111111,\"#46039f\"],[0.2222222222222222,\"#7201a8\"],[0.3333333333333333,\"#9c179e\"],[0.4444444444444444,\"#bd3786\"],[0.5555555555555556,\"#d8576b\"],[0.6666666666666666,\"#ed7953\"],[0.7777777777777778,\"#fb9f3a\"],[0.8888888888888888,\"#fdca26\"],[1.0,\"#f0f921\"]],\"type\":\"surface\"}],\"table\":[{\"cells\":{\"fill\":{\"color\":\"#EBF0F8\"},\"line\":{\"color\":\"white\"}},\"header\":{\"fill\":{\"color\":\"#C8D4E3\"},\"line\":{\"color\":\"white\"}},\"type\":\"table\"}]},\"layout\":{\"annotationdefaults\":{\"arrowcolor\":\"#2a3f5f\",\"arrowhead\":0,\"arrowwidth\":1},\"autotypenumbers\":\"strict\",\"coloraxis\":{\"colorbar\":{\"outlinewidth\":0,\"ticks\":\"\"}},\"colorscale\":{\"diverging\":[[0,\"#8e0152\"],[0.1,\"#c51b7d\"],[0.2,\"#de77ae\"],[0.3,\"#f1b6da\"],[0.4,\"#fde0ef\"],[0.5,\"#f7f7f7\"],[0.6,\"#e6f5d0\"],[0.7,\"#b8e186\"],[0.8,\"#7fbc41\"],[0.9,\"#4d9221\"],[1,\"#276419\"]],\"sequential\":[[0.0,\"#0d0887\"],[0.1111111111111111,\"#46039f\"],[0.2222222222222222,\"#7201a8\"],[0.3333333333333333,\"#9c179e\"],[0.4444444444444444,\"#bd3786\"],[0.5555555555555556,\"#d8576b\"],[0.6666666666666666,\"#ed7953\"],[0.7777777777777778,\"#fb9f3a\"],[0.8888888888888888,\"#fdca26\"],[1.0,\"#f0f921\"]],\"sequentialminus\":[[0.0,\"#0d0887\"],[0.1111111111111111,\"#46039f\"],[0.2222222222222222,\"#7201a8\"],[0.3333333333333333,\"#9c179e\"],[0.4444444444444444,\"#bd3786\"],[0.5555555555555556,\"#d8576b\"],[0.6666666666666666,\"#ed7953\"],[0.7777777777777778,\"#fb9f3a\"],[0.8888888888888888,\"#fdca26\"],[1.0,\"#f0f921\"]]},\"colorway\":[\"#636efa\",\"#EF553B\",\"#00cc96\",\"#ab63fa\",\"#FFA15A\",\"#19d3f3\",\"#FF6692\",\"#B6E880\",\"#FF97FF\",\"#FECB52\"],\"font\":{\"color\":\"#2a3f5f\"},\"geo\":{\"bgcolor\":\"white\",\"lakecolor\":\"white\",\"landcolor\":\"#E5ECF6\",\"showlakes\":true,\"showland\":true,\"subunitcolor\":\"white\"},\"hoverlabel\":{\"align\":\"left\"},\"hovermode\":\"closest\",\"mapbox\":{\"style\":\"light\"},\"paper_bgcolor\":\"white\",\"plot_bgcolor\":\"#E5ECF6\",\"polar\":{\"angularaxis\":{\"gridcolor\":\"white\",\"linecolor\":\"white\",\"ticks\":\"\"},\"bgcolor\":\"#E5ECF6\",\"radialaxis\":{\"gridcolor\":\"white\",\"linecolor\":\"white\",\"ticks\":\"\"}},\"scene\":{\"xaxis\":{\"backgroundcolor\":\"#E5ECF6\",\"gridcolor\":\"white\",\"gridwidth\":2,\"linecolor\":\"white\",\"showbackground\":true,\"ticks\":\"\",\"zerolinecolor\":\"white\"},\"yaxis\":{\"backgroundcolor\":\"#E5ECF6\",\"gridcolor\":\"white\",\"gridwidth\":2,\"linecolor\":\"white\",\"showbackground\":true,\"ticks\":\"\",\"zerolinecolor\":\"white\"},\"zaxis\":{\"backgroundcolor\":\"#E5ECF6\",\"gridcolor\":\"white\",\"gridwidth\":2,\"linecolor\":\"white\",\"showbackground\":true,\"ticks\":\"\",\"zerolinecolor\":\"white\"}},\"shapedefaults\":{\"line\":{\"color\":\"#2a3f5f\"}},\"ternary\":{\"aaxis\":{\"gridcolor\":\"white\",\"linecolor\":\"white\",\"ticks\":\"\"},\"baxis\":{\"gridcolor\":\"white\",\"linecolor\":\"white\",\"ticks\":\"\"},\"bgcolor\":\"#E5ECF6\",\"caxis\":{\"gridcolor\":\"white\",\"linecolor\":\"white\",\"ticks\":\"\"}},\"title\":{\"x\":0.05},\"xaxis\":{\"automargin\":true,\"gridcolor\":\"white\",\"linecolor\":\"white\",\"ticks\":\"\",\"title\":{\"standoff\":15},\"zerolinecolor\":\"white\",\"zerolinewidth\":2},\"yaxis\":{\"automargin\":true,\"gridcolor\":\"white\",\"linecolor\":\"white\",\"ticks\":\"\",\"title\":{\"standoff\":15},\"zerolinecolor\":\"white\",\"zerolinewidth\":2}}},\"title\":{\"font\":{\"color\":\"#4D5663\"}},\"xaxis\":{\"gridcolor\":\"#E1E5ED\",\"showgrid\":true,\"tickfont\":{\"color\":\"#4D5663\"},\"title\":{\"font\":{\"color\":\"#4D5663\"},\"text\":\"\"},\"zerolinecolor\":\"#E1E5ED\"},\"yaxis\":{\"domain\":[0.3,1],\"gridcolor\":\"#E1E5ED\",\"showgrid\":true,\"tickfont\":{\"color\":\"#4D5663\"},\"title\":{\"font\":{\"color\":\"#4D5663\"},\"text\":\"\"},\"zerolinecolor\":\"#E1E5ED\"},\"yaxis2\":{\"domain\":[0,0.25],\"gridcolor\":\"#E1E5ED\",\"showgrid\":true,\"tickfont\":{\"color\":\"#4D5663\"},\"title\":{\"font\":{\"color\":\"#4D5663\"},\"text\":\"Spread\"},\"zerolinecolor\":\"#E1E5ED\"},\"xaxis2\":{\"anchor\":\"y2\",\"gridcolor\":\"#E1E5ED\",\"showgrid\":true,\"showticklabels\":false,\"tickfont\":{\"color\":\"#4D5663\"},\"title\":{\"font\":{\"color\":\"#4D5663\"},\"text\":\"\"},\"zerolinecolor\":\"#E1E5ED\"}},                        {\"showLink\": true, \"linkText\": \"Export to plot.ly\", \"plotlyServerURL\": \"https://plot.ly\", \"responsive\": true}                    ).then(function(){\n",
       "                            \n",
       "var gd = document.getElementById('971a8e15-220b-4232-81d6-c8e75acbbf81');\n",
       "var x = new MutationObserver(function (mutations, observer) {{\n",
       "        var display = window.getComputedStyle(gd).display;\n",
       "        if (!display || display === 'none') {{\n",
       "            console.log([gd, 'removed!']);\n",
       "            Plotly.purge(gd);\n",
       "            observer.disconnect();\n",
       "        }}\n",
       "}});\n",
       "\n",
       "// Listen for the removal of the full notebook cells\n",
       "var notebookContainer = gd.closest('#notebook-container');\n",
       "if (notebookContainer) {{\n",
       "    x.observe(notebookContainer, {childList: true});\n",
       "}}\n",
       "\n",
       "// Listen for the clearing of the current output cell\n",
       "var outputEl = gd.closest('.output');\n",
       "if (outputEl) {{\n",
       "    x.observe(outputEl, {childList: true});\n",
       "}}\n",
       "\n",
       "                        })                };                });            </script>        </div>"
      ]
     },
     "metadata": {},
     "output_type": "display_data"
    }
   ],
   "source": [
    "df[['A', 'B']].iplot(kind='spread')"
   ]
  },
  {
   "cell_type": "code",
   "execution_count": 34,
   "id": "ca418887",
   "metadata": {},
   "outputs": [
    {
     "data": {
      "application/vnd.plotly.v1+json": {
       "config": {
        "linkText": "Export to plot.ly",
        "plotlyServerURL": "https://plot.ly",
        "showLink": true
       },
       "data": [
        {
         "histfunc": "count",
         "histnorm": "",
         "marker": {
          "color": "rgba(255, 153, 51, 1.0)",
          "line": {
           "color": "#4D5663",
           "width": 1.3
          }
         },
         "name": "A",
         "opacity": 0.8,
         "orientation": "v",
         "type": "histogram",
         "x": [
          -1.8158066953241796,
          -0.1532154842648918,
          -0.9087624017607344,
          -0.715856808084371,
          -0.7771907606069965,
          0.7351655714121069,
          -0.4340066741738052,
          -1.3736300616332289,
          -1.0910279061608386,
          -0.17715896700797562,
          0.7275992622753656,
          0.5719735501374622,
          0.1098535938239624,
          -0.7597209632957299,
          -1.1109900639357473,
          0.6925199043660469,
          0.7199999841009106,
          0.2873822213373869,
          -0.15420187444897465,
          0.008442848745635374,
          1.664921806311949,
          -1.3569852377652243,
          -0.23428268105986771,
          -1.9065024563371196,
          -1.8490542212588523,
          -0.9960295932103904,
          0.02314877232934917,
          1.7212068472548776,
          1.9013955197338033,
          -2.35253242851831,
          0.03040455800019841,
          0.21563700808987987,
          -0.4597229928437187,
          -0.7278607880726488,
          0.8877592700568671,
          0.4871704573515719,
          1.2769068225620719,
          0.18018462540389163,
          0.8649699512695074,
          -0.7445046848660324,
          -1.2890167760381392,
          0.5217925979706663,
          0.9389152424518948,
          0.9410136911071448,
          1.5734356802920477,
          1.4534955851108855,
          1.6379349099164204,
          2.051825040464344,
          -0.8723796481954755,
          0.6451170978250104,
          0.7996633553911477,
          -0.3758811118599081,
          0.8368783860108395,
          1.1672923335724237,
          1.9989574214327248,
          -0.9803635632487172,
          1.0272909775625343,
          -1.6470378469496967,
          -1.184745488394547,
          1.240609769403117,
          2.561043412628804,
          -0.5143615665306566,
          0.7449677226155068,
          -0.6201547168031414,
          0.6061735043418385,
          -0.6917606684322949,
          -0.4568162851669821,
          -1.4467767829303313,
          -0.4197208185978394,
          -0.27718742129594875,
          0.37837120923512646,
          1.2126642629518882,
          0.0393734817792643,
          -0.26340619911106694,
          -0.8351980357082801,
          -0.7959718758615214,
          0.6618589942538259,
          -0.4809145778698422,
          -0.5892785393324456,
          -0.25863477635135435,
          -0.6227807044887773,
          0.6993285851779953,
          -0.45746330629230986,
          -1.1643534645330045,
          1.3236560625253453,
          -0.6252302065588559,
          0.3150282283965467,
          1.137719962772657,
          0.514273522992465,
          0.17608458637176752,
          -0.6721697934374377,
          -0.9601912730760108,
          -0.9638044403008365,
          -0.35406490944069513,
          0.27014409824766095,
          0.7873120088931022,
          -0.4853469923359565,
          -0.35362079253020634,
          0.35722262241125424,
          -0.3869299705042295
         ]
        }
       ],
       "layout": {
        "barmode": "overlay",
        "legend": {
         "bgcolor": "#F5F6F9",
         "font": {
          "color": "#4D5663"
         }
        },
        "paper_bgcolor": "#F5F6F9",
        "plot_bgcolor": "#F5F6F9",
        "template": {
         "data": {
          "bar": [
           {
            "error_x": {
             "color": "#2a3f5f"
            },
            "error_y": {
             "color": "#2a3f5f"
            },
            "marker": {
             "line": {
              "color": "#E5ECF6",
              "width": 0.5
             },
             "pattern": {
              "fillmode": "overlay",
              "size": 10,
              "solidity": 0.2
             }
            },
            "type": "bar"
           }
          ],
          "barpolar": [
           {
            "marker": {
             "line": {
              "color": "#E5ECF6",
              "width": 0.5
             },
             "pattern": {
              "fillmode": "overlay",
              "size": 10,
              "solidity": 0.2
             }
            },
            "type": "barpolar"
           }
          ],
          "carpet": [
           {
            "aaxis": {
             "endlinecolor": "#2a3f5f",
             "gridcolor": "white",
             "linecolor": "white",
             "minorgridcolor": "white",
             "startlinecolor": "#2a3f5f"
            },
            "baxis": {
             "endlinecolor": "#2a3f5f",
             "gridcolor": "white",
             "linecolor": "white",
             "minorgridcolor": "white",
             "startlinecolor": "#2a3f5f"
            },
            "type": "carpet"
           }
          ],
          "choropleth": [
           {
            "colorbar": {
             "outlinewidth": 0,
             "ticks": ""
            },
            "type": "choropleth"
           }
          ],
          "contour": [
           {
            "colorbar": {
             "outlinewidth": 0,
             "ticks": ""
            },
            "colorscale": [
             [
              0,
              "#0d0887"
             ],
             [
              0.1111111111111111,
              "#46039f"
             ],
             [
              0.2222222222222222,
              "#7201a8"
             ],
             [
              0.3333333333333333,
              "#9c179e"
             ],
             [
              0.4444444444444444,
              "#bd3786"
             ],
             [
              0.5555555555555556,
              "#d8576b"
             ],
             [
              0.6666666666666666,
              "#ed7953"
             ],
             [
              0.7777777777777778,
              "#fb9f3a"
             ],
             [
              0.8888888888888888,
              "#fdca26"
             ],
             [
              1,
              "#f0f921"
             ]
            ],
            "type": "contour"
           }
          ],
          "contourcarpet": [
           {
            "colorbar": {
             "outlinewidth": 0,
             "ticks": ""
            },
            "type": "contourcarpet"
           }
          ],
          "heatmap": [
           {
            "colorbar": {
             "outlinewidth": 0,
             "ticks": ""
            },
            "colorscale": [
             [
              0,
              "#0d0887"
             ],
             [
              0.1111111111111111,
              "#46039f"
             ],
             [
              0.2222222222222222,
              "#7201a8"
             ],
             [
              0.3333333333333333,
              "#9c179e"
             ],
             [
              0.4444444444444444,
              "#bd3786"
             ],
             [
              0.5555555555555556,
              "#d8576b"
             ],
             [
              0.6666666666666666,
              "#ed7953"
             ],
             [
              0.7777777777777778,
              "#fb9f3a"
             ],
             [
              0.8888888888888888,
              "#fdca26"
             ],
             [
              1,
              "#f0f921"
             ]
            ],
            "type": "heatmap"
           }
          ],
          "heatmapgl": [
           {
            "colorbar": {
             "outlinewidth": 0,
             "ticks": ""
            },
            "colorscale": [
             [
              0,
              "#0d0887"
             ],
             [
              0.1111111111111111,
              "#46039f"
             ],
             [
              0.2222222222222222,
              "#7201a8"
             ],
             [
              0.3333333333333333,
              "#9c179e"
             ],
             [
              0.4444444444444444,
              "#bd3786"
             ],
             [
              0.5555555555555556,
              "#d8576b"
             ],
             [
              0.6666666666666666,
              "#ed7953"
             ],
             [
              0.7777777777777778,
              "#fb9f3a"
             ],
             [
              0.8888888888888888,
              "#fdca26"
             ],
             [
              1,
              "#f0f921"
             ]
            ],
            "type": "heatmapgl"
           }
          ],
          "histogram": [
           {
            "marker": {
             "pattern": {
              "fillmode": "overlay",
              "size": 10,
              "solidity": 0.2
             }
            },
            "type": "histogram"
           }
          ],
          "histogram2d": [
           {
            "colorbar": {
             "outlinewidth": 0,
             "ticks": ""
            },
            "colorscale": [
             [
              0,
              "#0d0887"
             ],
             [
              0.1111111111111111,
              "#46039f"
             ],
             [
              0.2222222222222222,
              "#7201a8"
             ],
             [
              0.3333333333333333,
              "#9c179e"
             ],
             [
              0.4444444444444444,
              "#bd3786"
             ],
             [
              0.5555555555555556,
              "#d8576b"
             ],
             [
              0.6666666666666666,
              "#ed7953"
             ],
             [
              0.7777777777777778,
              "#fb9f3a"
             ],
             [
              0.8888888888888888,
              "#fdca26"
             ],
             [
              1,
              "#f0f921"
             ]
            ],
            "type": "histogram2d"
           }
          ],
          "histogram2dcontour": [
           {
            "colorbar": {
             "outlinewidth": 0,
             "ticks": ""
            },
            "colorscale": [
             [
              0,
              "#0d0887"
             ],
             [
              0.1111111111111111,
              "#46039f"
             ],
             [
              0.2222222222222222,
              "#7201a8"
             ],
             [
              0.3333333333333333,
              "#9c179e"
             ],
             [
              0.4444444444444444,
              "#bd3786"
             ],
             [
              0.5555555555555556,
              "#d8576b"
             ],
             [
              0.6666666666666666,
              "#ed7953"
             ],
             [
              0.7777777777777778,
              "#fb9f3a"
             ],
             [
              0.8888888888888888,
              "#fdca26"
             ],
             [
              1,
              "#f0f921"
             ]
            ],
            "type": "histogram2dcontour"
           }
          ],
          "mesh3d": [
           {
            "colorbar": {
             "outlinewidth": 0,
             "ticks": ""
            },
            "type": "mesh3d"
           }
          ],
          "parcoords": [
           {
            "line": {
             "colorbar": {
              "outlinewidth": 0,
              "ticks": ""
             }
            },
            "type": "parcoords"
           }
          ],
          "pie": [
           {
            "automargin": true,
            "type": "pie"
           }
          ],
          "scatter": [
           {
            "fillpattern": {
             "fillmode": "overlay",
             "size": 10,
             "solidity": 0.2
            },
            "type": "scatter"
           }
          ],
          "scatter3d": [
           {
            "line": {
             "colorbar": {
              "outlinewidth": 0,
              "ticks": ""
             }
            },
            "marker": {
             "colorbar": {
              "outlinewidth": 0,
              "ticks": ""
             }
            },
            "type": "scatter3d"
           }
          ],
          "scattercarpet": [
           {
            "marker": {
             "colorbar": {
              "outlinewidth": 0,
              "ticks": ""
             }
            },
            "type": "scattercarpet"
           }
          ],
          "scattergeo": [
           {
            "marker": {
             "colorbar": {
              "outlinewidth": 0,
              "ticks": ""
             }
            },
            "type": "scattergeo"
           }
          ],
          "scattergl": [
           {
            "marker": {
             "colorbar": {
              "outlinewidth": 0,
              "ticks": ""
             }
            },
            "type": "scattergl"
           }
          ],
          "scattermapbox": [
           {
            "marker": {
             "colorbar": {
              "outlinewidth": 0,
              "ticks": ""
             }
            },
            "type": "scattermapbox"
           }
          ],
          "scatterpolar": [
           {
            "marker": {
             "colorbar": {
              "outlinewidth": 0,
              "ticks": ""
             }
            },
            "type": "scatterpolar"
           }
          ],
          "scatterpolargl": [
           {
            "marker": {
             "colorbar": {
              "outlinewidth": 0,
              "ticks": ""
             }
            },
            "type": "scatterpolargl"
           }
          ],
          "scatterternary": [
           {
            "marker": {
             "colorbar": {
              "outlinewidth": 0,
              "ticks": ""
             }
            },
            "type": "scatterternary"
           }
          ],
          "surface": [
           {
            "colorbar": {
             "outlinewidth": 0,
             "ticks": ""
            },
            "colorscale": [
             [
              0,
              "#0d0887"
             ],
             [
              0.1111111111111111,
              "#46039f"
             ],
             [
              0.2222222222222222,
              "#7201a8"
             ],
             [
              0.3333333333333333,
              "#9c179e"
             ],
             [
              0.4444444444444444,
              "#bd3786"
             ],
             [
              0.5555555555555556,
              "#d8576b"
             ],
             [
              0.6666666666666666,
              "#ed7953"
             ],
             [
              0.7777777777777778,
              "#fb9f3a"
             ],
             [
              0.8888888888888888,
              "#fdca26"
             ],
             [
              1,
              "#f0f921"
             ]
            ],
            "type": "surface"
           }
          ],
          "table": [
           {
            "cells": {
             "fill": {
              "color": "#EBF0F8"
             },
             "line": {
              "color": "white"
             }
            },
            "header": {
             "fill": {
              "color": "#C8D4E3"
             },
             "line": {
              "color": "white"
             }
            },
            "type": "table"
           }
          ]
         },
         "layout": {
          "annotationdefaults": {
           "arrowcolor": "#2a3f5f",
           "arrowhead": 0,
           "arrowwidth": 1
          },
          "autotypenumbers": "strict",
          "coloraxis": {
           "colorbar": {
            "outlinewidth": 0,
            "ticks": ""
           }
          },
          "colorscale": {
           "diverging": [
            [
             0,
             "#8e0152"
            ],
            [
             0.1,
             "#c51b7d"
            ],
            [
             0.2,
             "#de77ae"
            ],
            [
             0.3,
             "#f1b6da"
            ],
            [
             0.4,
             "#fde0ef"
            ],
            [
             0.5,
             "#f7f7f7"
            ],
            [
             0.6,
             "#e6f5d0"
            ],
            [
             0.7,
             "#b8e186"
            ],
            [
             0.8,
             "#7fbc41"
            ],
            [
             0.9,
             "#4d9221"
            ],
            [
             1,
             "#276419"
            ]
           ],
           "sequential": [
            [
             0,
             "#0d0887"
            ],
            [
             0.1111111111111111,
             "#46039f"
            ],
            [
             0.2222222222222222,
             "#7201a8"
            ],
            [
             0.3333333333333333,
             "#9c179e"
            ],
            [
             0.4444444444444444,
             "#bd3786"
            ],
            [
             0.5555555555555556,
             "#d8576b"
            ],
            [
             0.6666666666666666,
             "#ed7953"
            ],
            [
             0.7777777777777778,
             "#fb9f3a"
            ],
            [
             0.8888888888888888,
             "#fdca26"
            ],
            [
             1,
             "#f0f921"
            ]
           ],
           "sequentialminus": [
            [
             0,
             "#0d0887"
            ],
            [
             0.1111111111111111,
             "#46039f"
            ],
            [
             0.2222222222222222,
             "#7201a8"
            ],
            [
             0.3333333333333333,
             "#9c179e"
            ],
            [
             0.4444444444444444,
             "#bd3786"
            ],
            [
             0.5555555555555556,
             "#d8576b"
            ],
            [
             0.6666666666666666,
             "#ed7953"
            ],
            [
             0.7777777777777778,
             "#fb9f3a"
            ],
            [
             0.8888888888888888,
             "#fdca26"
            ],
            [
             1,
             "#f0f921"
            ]
           ]
          },
          "colorway": [
           "#636efa",
           "#EF553B",
           "#00cc96",
           "#ab63fa",
           "#FFA15A",
           "#19d3f3",
           "#FF6692",
           "#B6E880",
           "#FF97FF",
           "#FECB52"
          ],
          "font": {
           "color": "#2a3f5f"
          },
          "geo": {
           "bgcolor": "white",
           "lakecolor": "white",
           "landcolor": "#E5ECF6",
           "showlakes": true,
           "showland": true,
           "subunitcolor": "white"
          },
          "hoverlabel": {
           "align": "left"
          },
          "hovermode": "closest",
          "mapbox": {
           "style": "light"
          },
          "paper_bgcolor": "white",
          "plot_bgcolor": "#E5ECF6",
          "polar": {
           "angularaxis": {
            "gridcolor": "white",
            "linecolor": "white",
            "ticks": ""
           },
           "bgcolor": "#E5ECF6",
           "radialaxis": {
            "gridcolor": "white",
            "linecolor": "white",
            "ticks": ""
           }
          },
          "scene": {
           "xaxis": {
            "backgroundcolor": "#E5ECF6",
            "gridcolor": "white",
            "gridwidth": 2,
            "linecolor": "white",
            "showbackground": true,
            "ticks": "",
            "zerolinecolor": "white"
           },
           "yaxis": {
            "backgroundcolor": "#E5ECF6",
            "gridcolor": "white",
            "gridwidth": 2,
            "linecolor": "white",
            "showbackground": true,
            "ticks": "",
            "zerolinecolor": "white"
           },
           "zaxis": {
            "backgroundcolor": "#E5ECF6",
            "gridcolor": "white",
            "gridwidth": 2,
            "linecolor": "white",
            "showbackground": true,
            "ticks": "",
            "zerolinecolor": "white"
           }
          },
          "shapedefaults": {
           "line": {
            "color": "#2a3f5f"
           }
          },
          "ternary": {
           "aaxis": {
            "gridcolor": "white",
            "linecolor": "white",
            "ticks": ""
           },
           "baxis": {
            "gridcolor": "white",
            "linecolor": "white",
            "ticks": ""
           },
           "bgcolor": "#E5ECF6",
           "caxis": {
            "gridcolor": "white",
            "linecolor": "white",
            "ticks": ""
           }
          },
          "title": {
           "x": 0.05
          },
          "xaxis": {
           "automargin": true,
           "gridcolor": "white",
           "linecolor": "white",
           "ticks": "",
           "title": {
            "standoff": 15
           },
           "zerolinecolor": "white",
           "zerolinewidth": 2
          },
          "yaxis": {
           "automargin": true,
           "gridcolor": "white",
           "linecolor": "white",
           "ticks": "",
           "title": {
            "standoff": 15
           },
           "zerolinecolor": "white",
           "zerolinewidth": 2
          }
         }
        },
        "title": {
         "font": {
          "color": "#4D5663"
         }
        },
        "xaxis": {
         "gridcolor": "#E1E5ED",
         "showgrid": true,
         "tickfont": {
          "color": "#4D5663"
         },
         "title": {
          "font": {
           "color": "#4D5663"
          },
          "text": ""
         },
         "zerolinecolor": "#E1E5ED"
        },
        "yaxis": {
         "gridcolor": "#E1E5ED",
         "showgrid": true,
         "tickfont": {
          "color": "#4D5663"
         },
         "title": {
          "font": {
           "color": "#4D5663"
          },
          "text": ""
         },
         "zerolinecolor": "#E1E5ED"
        }
       }
      },
      "text/html": [
       "<div>                            <div id=\"38448bbf-f4a8-4427-9fdb-727dddbfe419\" class=\"plotly-graph-div\" style=\"height:525px; width:100%;\"></div>            <script type=\"text/javascript\">                require([\"plotly\"], function(Plotly) {                    window.PLOTLYENV=window.PLOTLYENV || {};\n",
       "                    window.PLOTLYENV.BASE_URL='https://plot.ly';                                    if (document.getElementById(\"38448bbf-f4a8-4427-9fdb-727dddbfe419\")) {                    Plotly.newPlot(                        \"38448bbf-f4a8-4427-9fdb-727dddbfe419\",                        [{\"histfunc\":\"count\",\"histnorm\":\"\",\"marker\":{\"color\":\"rgba(255, 153, 51, 1.0)\",\"line\":{\"color\":\"#4D5663\",\"width\":1.3}},\"name\":\"A\",\"opacity\":0.8,\"orientation\":\"v\",\"x\":[-1.8158066953241796,-0.1532154842648918,-0.9087624017607344,-0.715856808084371,-0.7771907606069965,0.7351655714121069,-0.4340066741738052,-1.3736300616332289,-1.0910279061608386,-0.17715896700797562,0.7275992622753656,0.5719735501374622,0.1098535938239624,-0.7597209632957299,-1.1109900639357473,0.6925199043660469,0.7199999841009106,0.2873822213373869,-0.15420187444897465,0.008442848745635374,1.664921806311949,-1.3569852377652243,-0.23428268105986771,-1.9065024563371196,-1.8490542212588523,-0.9960295932103904,0.02314877232934917,1.7212068472548776,1.9013955197338033,-2.35253242851831,0.03040455800019841,0.21563700808987987,-0.4597229928437187,-0.7278607880726488,0.8877592700568671,0.4871704573515719,1.2769068225620719,0.18018462540389163,0.8649699512695074,-0.7445046848660324,-1.2890167760381392,0.5217925979706663,0.9389152424518948,0.9410136911071448,1.5734356802920477,1.4534955851108855,1.6379349099164204,2.051825040464344,-0.8723796481954755,0.6451170978250104,0.7996633553911477,-0.3758811118599081,0.8368783860108395,1.1672923335724237,1.9989574214327248,-0.9803635632487172,1.0272909775625343,-1.6470378469496967,-1.184745488394547,1.240609769403117,2.561043412628804,-0.5143615665306566,0.7449677226155068,-0.6201547168031414,0.6061735043418385,-0.6917606684322949,-0.4568162851669821,-1.4467767829303313,-0.4197208185978394,-0.27718742129594875,0.37837120923512646,1.2126642629518882,0.0393734817792643,-0.26340619911106694,-0.8351980357082801,-0.7959718758615214,0.6618589942538259,-0.4809145778698422,-0.5892785393324456,-0.25863477635135435,-0.6227807044887773,0.6993285851779953,-0.45746330629230986,-1.1643534645330045,1.3236560625253453,-0.6252302065588559,0.3150282283965467,1.137719962772657,0.514273522992465,0.17608458637176752,-0.6721697934374377,-0.9601912730760108,-0.9638044403008365,-0.35406490944069513,0.27014409824766095,0.7873120088931022,-0.4853469923359565,-0.35362079253020634,0.35722262241125424,-0.3869299705042295],\"type\":\"histogram\"}],                        {\"barmode\":\"overlay\",\"legend\":{\"bgcolor\":\"#F5F6F9\",\"font\":{\"color\":\"#4D5663\"}},\"paper_bgcolor\":\"#F5F6F9\",\"plot_bgcolor\":\"#F5F6F9\",\"template\":{\"data\":{\"barpolar\":[{\"marker\":{\"line\":{\"color\":\"#E5ECF6\",\"width\":0.5},\"pattern\":{\"fillmode\":\"overlay\",\"size\":10,\"solidity\":0.2}},\"type\":\"barpolar\"}],\"bar\":[{\"error_x\":{\"color\":\"#2a3f5f\"},\"error_y\":{\"color\":\"#2a3f5f\"},\"marker\":{\"line\":{\"color\":\"#E5ECF6\",\"width\":0.5},\"pattern\":{\"fillmode\":\"overlay\",\"size\":10,\"solidity\":0.2}},\"type\":\"bar\"}],\"carpet\":[{\"aaxis\":{\"endlinecolor\":\"#2a3f5f\",\"gridcolor\":\"white\",\"linecolor\":\"white\",\"minorgridcolor\":\"white\",\"startlinecolor\":\"#2a3f5f\"},\"baxis\":{\"endlinecolor\":\"#2a3f5f\",\"gridcolor\":\"white\",\"linecolor\":\"white\",\"minorgridcolor\":\"white\",\"startlinecolor\":\"#2a3f5f\"},\"type\":\"carpet\"}],\"choropleth\":[{\"colorbar\":{\"outlinewidth\":0,\"ticks\":\"\"},\"type\":\"choropleth\"}],\"contourcarpet\":[{\"colorbar\":{\"outlinewidth\":0,\"ticks\":\"\"},\"type\":\"contourcarpet\"}],\"contour\":[{\"colorbar\":{\"outlinewidth\":0,\"ticks\":\"\"},\"colorscale\":[[0.0,\"#0d0887\"],[0.1111111111111111,\"#46039f\"],[0.2222222222222222,\"#7201a8\"],[0.3333333333333333,\"#9c179e\"],[0.4444444444444444,\"#bd3786\"],[0.5555555555555556,\"#d8576b\"],[0.6666666666666666,\"#ed7953\"],[0.7777777777777778,\"#fb9f3a\"],[0.8888888888888888,\"#fdca26\"],[1.0,\"#f0f921\"]],\"type\":\"contour\"}],\"heatmapgl\":[{\"colorbar\":{\"outlinewidth\":0,\"ticks\":\"\"},\"colorscale\":[[0.0,\"#0d0887\"],[0.1111111111111111,\"#46039f\"],[0.2222222222222222,\"#7201a8\"],[0.3333333333333333,\"#9c179e\"],[0.4444444444444444,\"#bd3786\"],[0.5555555555555556,\"#d8576b\"],[0.6666666666666666,\"#ed7953\"],[0.7777777777777778,\"#fb9f3a\"],[0.8888888888888888,\"#fdca26\"],[1.0,\"#f0f921\"]],\"type\":\"heatmapgl\"}],\"heatmap\":[{\"colorbar\":{\"outlinewidth\":0,\"ticks\":\"\"},\"colorscale\":[[0.0,\"#0d0887\"],[0.1111111111111111,\"#46039f\"],[0.2222222222222222,\"#7201a8\"],[0.3333333333333333,\"#9c179e\"],[0.4444444444444444,\"#bd3786\"],[0.5555555555555556,\"#d8576b\"],[0.6666666666666666,\"#ed7953\"],[0.7777777777777778,\"#fb9f3a\"],[0.8888888888888888,\"#fdca26\"],[1.0,\"#f0f921\"]],\"type\":\"heatmap\"}],\"histogram2dcontour\":[{\"colorbar\":{\"outlinewidth\":0,\"ticks\":\"\"},\"colorscale\":[[0.0,\"#0d0887\"],[0.1111111111111111,\"#46039f\"],[0.2222222222222222,\"#7201a8\"],[0.3333333333333333,\"#9c179e\"],[0.4444444444444444,\"#bd3786\"],[0.5555555555555556,\"#d8576b\"],[0.6666666666666666,\"#ed7953\"],[0.7777777777777778,\"#fb9f3a\"],[0.8888888888888888,\"#fdca26\"],[1.0,\"#f0f921\"]],\"type\":\"histogram2dcontour\"}],\"histogram2d\":[{\"colorbar\":{\"outlinewidth\":0,\"ticks\":\"\"},\"colorscale\":[[0.0,\"#0d0887\"],[0.1111111111111111,\"#46039f\"],[0.2222222222222222,\"#7201a8\"],[0.3333333333333333,\"#9c179e\"],[0.4444444444444444,\"#bd3786\"],[0.5555555555555556,\"#d8576b\"],[0.6666666666666666,\"#ed7953\"],[0.7777777777777778,\"#fb9f3a\"],[0.8888888888888888,\"#fdca26\"],[1.0,\"#f0f921\"]],\"type\":\"histogram2d\"}],\"histogram\":[{\"marker\":{\"pattern\":{\"fillmode\":\"overlay\",\"size\":10,\"solidity\":0.2}},\"type\":\"histogram\"}],\"mesh3d\":[{\"colorbar\":{\"outlinewidth\":0,\"ticks\":\"\"},\"type\":\"mesh3d\"}],\"parcoords\":[{\"line\":{\"colorbar\":{\"outlinewidth\":0,\"ticks\":\"\"}},\"type\":\"parcoords\"}],\"pie\":[{\"automargin\":true,\"type\":\"pie\"}],\"scatter3d\":[{\"line\":{\"colorbar\":{\"outlinewidth\":0,\"ticks\":\"\"}},\"marker\":{\"colorbar\":{\"outlinewidth\":0,\"ticks\":\"\"}},\"type\":\"scatter3d\"}],\"scattercarpet\":[{\"marker\":{\"colorbar\":{\"outlinewidth\":0,\"ticks\":\"\"}},\"type\":\"scattercarpet\"}],\"scattergeo\":[{\"marker\":{\"colorbar\":{\"outlinewidth\":0,\"ticks\":\"\"}},\"type\":\"scattergeo\"}],\"scattergl\":[{\"marker\":{\"colorbar\":{\"outlinewidth\":0,\"ticks\":\"\"}},\"type\":\"scattergl\"}],\"scattermapbox\":[{\"marker\":{\"colorbar\":{\"outlinewidth\":0,\"ticks\":\"\"}},\"type\":\"scattermapbox\"}],\"scatterpolargl\":[{\"marker\":{\"colorbar\":{\"outlinewidth\":0,\"ticks\":\"\"}},\"type\":\"scatterpolargl\"}],\"scatterpolar\":[{\"marker\":{\"colorbar\":{\"outlinewidth\":0,\"ticks\":\"\"}},\"type\":\"scatterpolar\"}],\"scatter\":[{\"fillpattern\":{\"fillmode\":\"overlay\",\"size\":10,\"solidity\":0.2},\"type\":\"scatter\"}],\"scatterternary\":[{\"marker\":{\"colorbar\":{\"outlinewidth\":0,\"ticks\":\"\"}},\"type\":\"scatterternary\"}],\"surface\":[{\"colorbar\":{\"outlinewidth\":0,\"ticks\":\"\"},\"colorscale\":[[0.0,\"#0d0887\"],[0.1111111111111111,\"#46039f\"],[0.2222222222222222,\"#7201a8\"],[0.3333333333333333,\"#9c179e\"],[0.4444444444444444,\"#bd3786\"],[0.5555555555555556,\"#d8576b\"],[0.6666666666666666,\"#ed7953\"],[0.7777777777777778,\"#fb9f3a\"],[0.8888888888888888,\"#fdca26\"],[1.0,\"#f0f921\"]],\"type\":\"surface\"}],\"table\":[{\"cells\":{\"fill\":{\"color\":\"#EBF0F8\"},\"line\":{\"color\":\"white\"}},\"header\":{\"fill\":{\"color\":\"#C8D4E3\"},\"line\":{\"color\":\"white\"}},\"type\":\"table\"}]},\"layout\":{\"annotationdefaults\":{\"arrowcolor\":\"#2a3f5f\",\"arrowhead\":0,\"arrowwidth\":1},\"autotypenumbers\":\"strict\",\"coloraxis\":{\"colorbar\":{\"outlinewidth\":0,\"ticks\":\"\"}},\"colorscale\":{\"diverging\":[[0,\"#8e0152\"],[0.1,\"#c51b7d\"],[0.2,\"#de77ae\"],[0.3,\"#f1b6da\"],[0.4,\"#fde0ef\"],[0.5,\"#f7f7f7\"],[0.6,\"#e6f5d0\"],[0.7,\"#b8e186\"],[0.8,\"#7fbc41\"],[0.9,\"#4d9221\"],[1,\"#276419\"]],\"sequential\":[[0.0,\"#0d0887\"],[0.1111111111111111,\"#46039f\"],[0.2222222222222222,\"#7201a8\"],[0.3333333333333333,\"#9c179e\"],[0.4444444444444444,\"#bd3786\"],[0.5555555555555556,\"#d8576b\"],[0.6666666666666666,\"#ed7953\"],[0.7777777777777778,\"#fb9f3a\"],[0.8888888888888888,\"#fdca26\"],[1.0,\"#f0f921\"]],\"sequentialminus\":[[0.0,\"#0d0887\"],[0.1111111111111111,\"#46039f\"],[0.2222222222222222,\"#7201a8\"],[0.3333333333333333,\"#9c179e\"],[0.4444444444444444,\"#bd3786\"],[0.5555555555555556,\"#d8576b\"],[0.6666666666666666,\"#ed7953\"],[0.7777777777777778,\"#fb9f3a\"],[0.8888888888888888,\"#fdca26\"],[1.0,\"#f0f921\"]]},\"colorway\":[\"#636efa\",\"#EF553B\",\"#00cc96\",\"#ab63fa\",\"#FFA15A\",\"#19d3f3\",\"#FF6692\",\"#B6E880\",\"#FF97FF\",\"#FECB52\"],\"font\":{\"color\":\"#2a3f5f\"},\"geo\":{\"bgcolor\":\"white\",\"lakecolor\":\"white\",\"landcolor\":\"#E5ECF6\",\"showlakes\":true,\"showland\":true,\"subunitcolor\":\"white\"},\"hoverlabel\":{\"align\":\"left\"},\"hovermode\":\"closest\",\"mapbox\":{\"style\":\"light\"},\"paper_bgcolor\":\"white\",\"plot_bgcolor\":\"#E5ECF6\",\"polar\":{\"angularaxis\":{\"gridcolor\":\"white\",\"linecolor\":\"white\",\"ticks\":\"\"},\"bgcolor\":\"#E5ECF6\",\"radialaxis\":{\"gridcolor\":\"white\",\"linecolor\":\"white\",\"ticks\":\"\"}},\"scene\":{\"xaxis\":{\"backgroundcolor\":\"#E5ECF6\",\"gridcolor\":\"white\",\"gridwidth\":2,\"linecolor\":\"white\",\"showbackground\":true,\"ticks\":\"\",\"zerolinecolor\":\"white\"},\"yaxis\":{\"backgroundcolor\":\"#E5ECF6\",\"gridcolor\":\"white\",\"gridwidth\":2,\"linecolor\":\"white\",\"showbackground\":true,\"ticks\":\"\",\"zerolinecolor\":\"white\"},\"zaxis\":{\"backgroundcolor\":\"#E5ECF6\",\"gridcolor\":\"white\",\"gridwidth\":2,\"linecolor\":\"white\",\"showbackground\":true,\"ticks\":\"\",\"zerolinecolor\":\"white\"}},\"shapedefaults\":{\"line\":{\"color\":\"#2a3f5f\"}},\"ternary\":{\"aaxis\":{\"gridcolor\":\"white\",\"linecolor\":\"white\",\"ticks\":\"\"},\"baxis\":{\"gridcolor\":\"white\",\"linecolor\":\"white\",\"ticks\":\"\"},\"bgcolor\":\"#E5ECF6\",\"caxis\":{\"gridcolor\":\"white\",\"linecolor\":\"white\",\"ticks\":\"\"}},\"title\":{\"x\":0.05},\"xaxis\":{\"automargin\":true,\"gridcolor\":\"white\",\"linecolor\":\"white\",\"ticks\":\"\",\"title\":{\"standoff\":15},\"zerolinecolor\":\"white\",\"zerolinewidth\":2},\"yaxis\":{\"automargin\":true,\"gridcolor\":\"white\",\"linecolor\":\"white\",\"ticks\":\"\",\"title\":{\"standoff\":15},\"zerolinecolor\":\"white\",\"zerolinewidth\":2}}},\"title\":{\"font\":{\"color\":\"#4D5663\"}},\"xaxis\":{\"gridcolor\":\"#E1E5ED\",\"showgrid\":true,\"tickfont\":{\"color\":\"#4D5663\"},\"title\":{\"font\":{\"color\":\"#4D5663\"},\"text\":\"\"},\"zerolinecolor\":\"#E1E5ED\"},\"yaxis\":{\"gridcolor\":\"#E1E5ED\",\"showgrid\":true,\"tickfont\":{\"color\":\"#4D5663\"},\"title\":{\"font\":{\"color\":\"#4D5663\"},\"text\":\"\"},\"zerolinecolor\":\"#E1E5ED\"}},                        {\"showLink\": true, \"linkText\": \"Export to plot.ly\", \"plotlyServerURL\": \"https://plot.ly\", \"responsive\": true}                    ).then(function(){\n",
       "                            \n",
       "var gd = document.getElementById('38448bbf-f4a8-4427-9fdb-727dddbfe419');\n",
       "var x = new MutationObserver(function (mutations, observer) {{\n",
       "        var display = window.getComputedStyle(gd).display;\n",
       "        if (!display || display === 'none') {{\n",
       "            console.log([gd, 'removed!']);\n",
       "            Plotly.purge(gd);\n",
       "            observer.disconnect();\n",
       "        }}\n",
       "}});\n",
       "\n",
       "// Listen for the removal of the full notebook cells\n",
       "var notebookContainer = gd.closest('#notebook-container');\n",
       "if (notebookContainer) {{\n",
       "    x.observe(notebookContainer, {childList: true});\n",
       "}}\n",
       "\n",
       "// Listen for the clearing of the current output cell\n",
       "var outputEl = gd.closest('.output');\n",
       "if (outputEl) {{\n",
       "    x.observe(outputEl, {childList: true});\n",
       "}}\n",
       "\n",
       "                        })                };                });            </script>        </div>"
      ]
     },
     "metadata": {},
     "output_type": "display_data"
    }
   ],
   "source": [
    "df['A'].iplot(kind='hist')"
   ]
  },
  {
   "cell_type": "code",
   "execution_count": 36,
   "id": "182da600",
   "metadata": {},
   "outputs": [
    {
     "data": {
      "application/vnd.plotly.v1+json": {
       "config": {
        "linkText": "Export to plot.ly",
        "plotlyServerURL": "https://plot.ly",
        "showLink": true
       },
       "data": [
        {
         "histfunc": "count",
         "histnorm": "",
         "marker": {
          "color": "rgba(255, 153, 51, 1.0)",
          "line": {
           "color": "#4D5663",
           "width": 1.3
          }
         },
         "name": "A",
         "nbinsx": 30,
         "opacity": 0.8,
         "orientation": "v",
         "type": "histogram",
         "x": [
          -1.8158066953241796,
          -0.1532154842648918,
          -0.9087624017607344,
          -0.715856808084371,
          -0.7771907606069965,
          0.7351655714121069,
          -0.4340066741738052,
          -1.3736300616332289,
          -1.0910279061608386,
          -0.17715896700797562,
          0.7275992622753656,
          0.5719735501374622,
          0.1098535938239624,
          -0.7597209632957299,
          -1.1109900639357473,
          0.6925199043660469,
          0.7199999841009106,
          0.2873822213373869,
          -0.15420187444897465,
          0.008442848745635374,
          1.664921806311949,
          -1.3569852377652243,
          -0.23428268105986771,
          -1.9065024563371196,
          -1.8490542212588523,
          -0.9960295932103904,
          0.02314877232934917,
          1.7212068472548776,
          1.9013955197338033,
          -2.35253242851831,
          0.03040455800019841,
          0.21563700808987987,
          -0.4597229928437187,
          -0.7278607880726488,
          0.8877592700568671,
          0.4871704573515719,
          1.2769068225620719,
          0.18018462540389163,
          0.8649699512695074,
          -0.7445046848660324,
          -1.2890167760381392,
          0.5217925979706663,
          0.9389152424518948,
          0.9410136911071448,
          1.5734356802920477,
          1.4534955851108855,
          1.6379349099164204,
          2.051825040464344,
          -0.8723796481954755,
          0.6451170978250104,
          0.7996633553911477,
          -0.3758811118599081,
          0.8368783860108395,
          1.1672923335724237,
          1.9989574214327248,
          -0.9803635632487172,
          1.0272909775625343,
          -1.6470378469496967,
          -1.184745488394547,
          1.240609769403117,
          2.561043412628804,
          -0.5143615665306566,
          0.7449677226155068,
          -0.6201547168031414,
          0.6061735043418385,
          -0.6917606684322949,
          -0.4568162851669821,
          -1.4467767829303313,
          -0.4197208185978394,
          -0.27718742129594875,
          0.37837120923512646,
          1.2126642629518882,
          0.0393734817792643,
          -0.26340619911106694,
          -0.8351980357082801,
          -0.7959718758615214,
          0.6618589942538259,
          -0.4809145778698422,
          -0.5892785393324456,
          -0.25863477635135435,
          -0.6227807044887773,
          0.6993285851779953,
          -0.45746330629230986,
          -1.1643534645330045,
          1.3236560625253453,
          -0.6252302065588559,
          0.3150282283965467,
          1.137719962772657,
          0.514273522992465,
          0.17608458637176752,
          -0.6721697934374377,
          -0.9601912730760108,
          -0.9638044403008365,
          -0.35406490944069513,
          0.27014409824766095,
          0.7873120088931022,
          -0.4853469923359565,
          -0.35362079253020634,
          0.35722262241125424,
          -0.3869299705042295
         ]
        }
       ],
       "layout": {
        "barmode": "overlay",
        "legend": {
         "bgcolor": "#F5F6F9",
         "font": {
          "color": "#4D5663"
         }
        },
        "paper_bgcolor": "#F5F6F9",
        "plot_bgcolor": "#F5F6F9",
        "template": {
         "data": {
          "bar": [
           {
            "error_x": {
             "color": "#2a3f5f"
            },
            "error_y": {
             "color": "#2a3f5f"
            },
            "marker": {
             "line": {
              "color": "#E5ECF6",
              "width": 0.5
             },
             "pattern": {
              "fillmode": "overlay",
              "size": 10,
              "solidity": 0.2
             }
            },
            "type": "bar"
           }
          ],
          "barpolar": [
           {
            "marker": {
             "line": {
              "color": "#E5ECF6",
              "width": 0.5
             },
             "pattern": {
              "fillmode": "overlay",
              "size": 10,
              "solidity": 0.2
             }
            },
            "type": "barpolar"
           }
          ],
          "carpet": [
           {
            "aaxis": {
             "endlinecolor": "#2a3f5f",
             "gridcolor": "white",
             "linecolor": "white",
             "minorgridcolor": "white",
             "startlinecolor": "#2a3f5f"
            },
            "baxis": {
             "endlinecolor": "#2a3f5f",
             "gridcolor": "white",
             "linecolor": "white",
             "minorgridcolor": "white",
             "startlinecolor": "#2a3f5f"
            },
            "type": "carpet"
           }
          ],
          "choropleth": [
           {
            "colorbar": {
             "outlinewidth": 0,
             "ticks": ""
            },
            "type": "choropleth"
           }
          ],
          "contour": [
           {
            "colorbar": {
             "outlinewidth": 0,
             "ticks": ""
            },
            "colorscale": [
             [
              0,
              "#0d0887"
             ],
             [
              0.1111111111111111,
              "#46039f"
             ],
             [
              0.2222222222222222,
              "#7201a8"
             ],
             [
              0.3333333333333333,
              "#9c179e"
             ],
             [
              0.4444444444444444,
              "#bd3786"
             ],
             [
              0.5555555555555556,
              "#d8576b"
             ],
             [
              0.6666666666666666,
              "#ed7953"
             ],
             [
              0.7777777777777778,
              "#fb9f3a"
             ],
             [
              0.8888888888888888,
              "#fdca26"
             ],
             [
              1,
              "#f0f921"
             ]
            ],
            "type": "contour"
           }
          ],
          "contourcarpet": [
           {
            "colorbar": {
             "outlinewidth": 0,
             "ticks": ""
            },
            "type": "contourcarpet"
           }
          ],
          "heatmap": [
           {
            "colorbar": {
             "outlinewidth": 0,
             "ticks": ""
            },
            "colorscale": [
             [
              0,
              "#0d0887"
             ],
             [
              0.1111111111111111,
              "#46039f"
             ],
             [
              0.2222222222222222,
              "#7201a8"
             ],
             [
              0.3333333333333333,
              "#9c179e"
             ],
             [
              0.4444444444444444,
              "#bd3786"
             ],
             [
              0.5555555555555556,
              "#d8576b"
             ],
             [
              0.6666666666666666,
              "#ed7953"
             ],
             [
              0.7777777777777778,
              "#fb9f3a"
             ],
             [
              0.8888888888888888,
              "#fdca26"
             ],
             [
              1,
              "#f0f921"
             ]
            ],
            "type": "heatmap"
           }
          ],
          "heatmapgl": [
           {
            "colorbar": {
             "outlinewidth": 0,
             "ticks": ""
            },
            "colorscale": [
             [
              0,
              "#0d0887"
             ],
             [
              0.1111111111111111,
              "#46039f"
             ],
             [
              0.2222222222222222,
              "#7201a8"
             ],
             [
              0.3333333333333333,
              "#9c179e"
             ],
             [
              0.4444444444444444,
              "#bd3786"
             ],
             [
              0.5555555555555556,
              "#d8576b"
             ],
             [
              0.6666666666666666,
              "#ed7953"
             ],
             [
              0.7777777777777778,
              "#fb9f3a"
             ],
             [
              0.8888888888888888,
              "#fdca26"
             ],
             [
              1,
              "#f0f921"
             ]
            ],
            "type": "heatmapgl"
           }
          ],
          "histogram": [
           {
            "marker": {
             "pattern": {
              "fillmode": "overlay",
              "size": 10,
              "solidity": 0.2
             }
            },
            "type": "histogram"
           }
          ],
          "histogram2d": [
           {
            "colorbar": {
             "outlinewidth": 0,
             "ticks": ""
            },
            "colorscale": [
             [
              0,
              "#0d0887"
             ],
             [
              0.1111111111111111,
              "#46039f"
             ],
             [
              0.2222222222222222,
              "#7201a8"
             ],
             [
              0.3333333333333333,
              "#9c179e"
             ],
             [
              0.4444444444444444,
              "#bd3786"
             ],
             [
              0.5555555555555556,
              "#d8576b"
             ],
             [
              0.6666666666666666,
              "#ed7953"
             ],
             [
              0.7777777777777778,
              "#fb9f3a"
             ],
             [
              0.8888888888888888,
              "#fdca26"
             ],
             [
              1,
              "#f0f921"
             ]
            ],
            "type": "histogram2d"
           }
          ],
          "histogram2dcontour": [
           {
            "colorbar": {
             "outlinewidth": 0,
             "ticks": ""
            },
            "colorscale": [
             [
              0,
              "#0d0887"
             ],
             [
              0.1111111111111111,
              "#46039f"
             ],
             [
              0.2222222222222222,
              "#7201a8"
             ],
             [
              0.3333333333333333,
              "#9c179e"
             ],
             [
              0.4444444444444444,
              "#bd3786"
             ],
             [
              0.5555555555555556,
              "#d8576b"
             ],
             [
              0.6666666666666666,
              "#ed7953"
             ],
             [
              0.7777777777777778,
              "#fb9f3a"
             ],
             [
              0.8888888888888888,
              "#fdca26"
             ],
             [
              1,
              "#f0f921"
             ]
            ],
            "type": "histogram2dcontour"
           }
          ],
          "mesh3d": [
           {
            "colorbar": {
             "outlinewidth": 0,
             "ticks": ""
            },
            "type": "mesh3d"
           }
          ],
          "parcoords": [
           {
            "line": {
             "colorbar": {
              "outlinewidth": 0,
              "ticks": ""
             }
            },
            "type": "parcoords"
           }
          ],
          "pie": [
           {
            "automargin": true,
            "type": "pie"
           }
          ],
          "scatter": [
           {
            "fillpattern": {
             "fillmode": "overlay",
             "size": 10,
             "solidity": 0.2
            },
            "type": "scatter"
           }
          ],
          "scatter3d": [
           {
            "line": {
             "colorbar": {
              "outlinewidth": 0,
              "ticks": ""
             }
            },
            "marker": {
             "colorbar": {
              "outlinewidth": 0,
              "ticks": ""
             }
            },
            "type": "scatter3d"
           }
          ],
          "scattercarpet": [
           {
            "marker": {
             "colorbar": {
              "outlinewidth": 0,
              "ticks": ""
             }
            },
            "type": "scattercarpet"
           }
          ],
          "scattergeo": [
           {
            "marker": {
             "colorbar": {
              "outlinewidth": 0,
              "ticks": ""
             }
            },
            "type": "scattergeo"
           }
          ],
          "scattergl": [
           {
            "marker": {
             "colorbar": {
              "outlinewidth": 0,
              "ticks": ""
             }
            },
            "type": "scattergl"
           }
          ],
          "scattermapbox": [
           {
            "marker": {
             "colorbar": {
              "outlinewidth": 0,
              "ticks": ""
             }
            },
            "type": "scattermapbox"
           }
          ],
          "scatterpolar": [
           {
            "marker": {
             "colorbar": {
              "outlinewidth": 0,
              "ticks": ""
             }
            },
            "type": "scatterpolar"
           }
          ],
          "scatterpolargl": [
           {
            "marker": {
             "colorbar": {
              "outlinewidth": 0,
              "ticks": ""
             }
            },
            "type": "scatterpolargl"
           }
          ],
          "scatterternary": [
           {
            "marker": {
             "colorbar": {
              "outlinewidth": 0,
              "ticks": ""
             }
            },
            "type": "scatterternary"
           }
          ],
          "surface": [
           {
            "colorbar": {
             "outlinewidth": 0,
             "ticks": ""
            },
            "colorscale": [
             [
              0,
              "#0d0887"
             ],
             [
              0.1111111111111111,
              "#46039f"
             ],
             [
              0.2222222222222222,
              "#7201a8"
             ],
             [
              0.3333333333333333,
              "#9c179e"
             ],
             [
              0.4444444444444444,
              "#bd3786"
             ],
             [
              0.5555555555555556,
              "#d8576b"
             ],
             [
              0.6666666666666666,
              "#ed7953"
             ],
             [
              0.7777777777777778,
              "#fb9f3a"
             ],
             [
              0.8888888888888888,
              "#fdca26"
             ],
             [
              1,
              "#f0f921"
             ]
            ],
            "type": "surface"
           }
          ],
          "table": [
           {
            "cells": {
             "fill": {
              "color": "#EBF0F8"
             },
             "line": {
              "color": "white"
             }
            },
            "header": {
             "fill": {
              "color": "#C8D4E3"
             },
             "line": {
              "color": "white"
             }
            },
            "type": "table"
           }
          ]
         },
         "layout": {
          "annotationdefaults": {
           "arrowcolor": "#2a3f5f",
           "arrowhead": 0,
           "arrowwidth": 1
          },
          "autotypenumbers": "strict",
          "coloraxis": {
           "colorbar": {
            "outlinewidth": 0,
            "ticks": ""
           }
          },
          "colorscale": {
           "diverging": [
            [
             0,
             "#8e0152"
            ],
            [
             0.1,
             "#c51b7d"
            ],
            [
             0.2,
             "#de77ae"
            ],
            [
             0.3,
             "#f1b6da"
            ],
            [
             0.4,
             "#fde0ef"
            ],
            [
             0.5,
             "#f7f7f7"
            ],
            [
             0.6,
             "#e6f5d0"
            ],
            [
             0.7,
             "#b8e186"
            ],
            [
             0.8,
             "#7fbc41"
            ],
            [
             0.9,
             "#4d9221"
            ],
            [
             1,
             "#276419"
            ]
           ],
           "sequential": [
            [
             0,
             "#0d0887"
            ],
            [
             0.1111111111111111,
             "#46039f"
            ],
            [
             0.2222222222222222,
             "#7201a8"
            ],
            [
             0.3333333333333333,
             "#9c179e"
            ],
            [
             0.4444444444444444,
             "#bd3786"
            ],
            [
             0.5555555555555556,
             "#d8576b"
            ],
            [
             0.6666666666666666,
             "#ed7953"
            ],
            [
             0.7777777777777778,
             "#fb9f3a"
            ],
            [
             0.8888888888888888,
             "#fdca26"
            ],
            [
             1,
             "#f0f921"
            ]
           ],
           "sequentialminus": [
            [
             0,
             "#0d0887"
            ],
            [
             0.1111111111111111,
             "#46039f"
            ],
            [
             0.2222222222222222,
             "#7201a8"
            ],
            [
             0.3333333333333333,
             "#9c179e"
            ],
            [
             0.4444444444444444,
             "#bd3786"
            ],
            [
             0.5555555555555556,
             "#d8576b"
            ],
            [
             0.6666666666666666,
             "#ed7953"
            ],
            [
             0.7777777777777778,
             "#fb9f3a"
            ],
            [
             0.8888888888888888,
             "#fdca26"
            ],
            [
             1,
             "#f0f921"
            ]
           ]
          },
          "colorway": [
           "#636efa",
           "#EF553B",
           "#00cc96",
           "#ab63fa",
           "#FFA15A",
           "#19d3f3",
           "#FF6692",
           "#B6E880",
           "#FF97FF",
           "#FECB52"
          ],
          "font": {
           "color": "#2a3f5f"
          },
          "geo": {
           "bgcolor": "white",
           "lakecolor": "white",
           "landcolor": "#E5ECF6",
           "showlakes": true,
           "showland": true,
           "subunitcolor": "white"
          },
          "hoverlabel": {
           "align": "left"
          },
          "hovermode": "closest",
          "mapbox": {
           "style": "light"
          },
          "paper_bgcolor": "white",
          "plot_bgcolor": "#E5ECF6",
          "polar": {
           "angularaxis": {
            "gridcolor": "white",
            "linecolor": "white",
            "ticks": ""
           },
           "bgcolor": "#E5ECF6",
           "radialaxis": {
            "gridcolor": "white",
            "linecolor": "white",
            "ticks": ""
           }
          },
          "scene": {
           "xaxis": {
            "backgroundcolor": "#E5ECF6",
            "gridcolor": "white",
            "gridwidth": 2,
            "linecolor": "white",
            "showbackground": true,
            "ticks": "",
            "zerolinecolor": "white"
           },
           "yaxis": {
            "backgroundcolor": "#E5ECF6",
            "gridcolor": "white",
            "gridwidth": 2,
            "linecolor": "white",
            "showbackground": true,
            "ticks": "",
            "zerolinecolor": "white"
           },
           "zaxis": {
            "backgroundcolor": "#E5ECF6",
            "gridcolor": "white",
            "gridwidth": 2,
            "linecolor": "white",
            "showbackground": true,
            "ticks": "",
            "zerolinecolor": "white"
           }
          },
          "shapedefaults": {
           "line": {
            "color": "#2a3f5f"
           }
          },
          "ternary": {
           "aaxis": {
            "gridcolor": "white",
            "linecolor": "white",
            "ticks": ""
           },
           "baxis": {
            "gridcolor": "white",
            "linecolor": "white",
            "ticks": ""
           },
           "bgcolor": "#E5ECF6",
           "caxis": {
            "gridcolor": "white",
            "linecolor": "white",
            "ticks": ""
           }
          },
          "title": {
           "x": 0.05
          },
          "xaxis": {
           "automargin": true,
           "gridcolor": "white",
           "linecolor": "white",
           "ticks": "",
           "title": {
            "standoff": 15
           },
           "zerolinecolor": "white",
           "zerolinewidth": 2
          },
          "yaxis": {
           "automargin": true,
           "gridcolor": "white",
           "linecolor": "white",
           "ticks": "",
           "title": {
            "standoff": 15
           },
           "zerolinecolor": "white",
           "zerolinewidth": 2
          }
         }
        },
        "title": {
         "font": {
          "color": "#4D5663"
         }
        },
        "xaxis": {
         "gridcolor": "#E1E5ED",
         "showgrid": true,
         "tickfont": {
          "color": "#4D5663"
         },
         "title": {
          "font": {
           "color": "#4D5663"
          },
          "text": ""
         },
         "zerolinecolor": "#E1E5ED"
        },
        "yaxis": {
         "gridcolor": "#E1E5ED",
         "showgrid": true,
         "tickfont": {
          "color": "#4D5663"
         },
         "title": {
          "font": {
           "color": "#4D5663"
          },
          "text": ""
         },
         "zerolinecolor": "#E1E5ED"
        }
       }
      },
      "text/html": [
       "<div>                            <div id=\"067c5e58-1b0c-4ad3-8f74-e6e9e58b97b8\" class=\"plotly-graph-div\" style=\"height:525px; width:100%;\"></div>            <script type=\"text/javascript\">                require([\"plotly\"], function(Plotly) {                    window.PLOTLYENV=window.PLOTLYENV || {};\n",
       "                    window.PLOTLYENV.BASE_URL='https://plot.ly';                                    if (document.getElementById(\"067c5e58-1b0c-4ad3-8f74-e6e9e58b97b8\")) {                    Plotly.newPlot(                        \"067c5e58-1b0c-4ad3-8f74-e6e9e58b97b8\",                        [{\"histfunc\":\"count\",\"histnorm\":\"\",\"marker\":{\"color\":\"rgba(255, 153, 51, 1.0)\",\"line\":{\"color\":\"#4D5663\",\"width\":1.3}},\"name\":\"A\",\"nbinsx\":30,\"opacity\":0.8,\"orientation\":\"v\",\"x\":[-1.8158066953241796,-0.1532154842648918,-0.9087624017607344,-0.715856808084371,-0.7771907606069965,0.7351655714121069,-0.4340066741738052,-1.3736300616332289,-1.0910279061608386,-0.17715896700797562,0.7275992622753656,0.5719735501374622,0.1098535938239624,-0.7597209632957299,-1.1109900639357473,0.6925199043660469,0.7199999841009106,0.2873822213373869,-0.15420187444897465,0.008442848745635374,1.664921806311949,-1.3569852377652243,-0.23428268105986771,-1.9065024563371196,-1.8490542212588523,-0.9960295932103904,0.02314877232934917,1.7212068472548776,1.9013955197338033,-2.35253242851831,0.03040455800019841,0.21563700808987987,-0.4597229928437187,-0.7278607880726488,0.8877592700568671,0.4871704573515719,1.2769068225620719,0.18018462540389163,0.8649699512695074,-0.7445046848660324,-1.2890167760381392,0.5217925979706663,0.9389152424518948,0.9410136911071448,1.5734356802920477,1.4534955851108855,1.6379349099164204,2.051825040464344,-0.8723796481954755,0.6451170978250104,0.7996633553911477,-0.3758811118599081,0.8368783860108395,1.1672923335724237,1.9989574214327248,-0.9803635632487172,1.0272909775625343,-1.6470378469496967,-1.184745488394547,1.240609769403117,2.561043412628804,-0.5143615665306566,0.7449677226155068,-0.6201547168031414,0.6061735043418385,-0.6917606684322949,-0.4568162851669821,-1.4467767829303313,-0.4197208185978394,-0.27718742129594875,0.37837120923512646,1.2126642629518882,0.0393734817792643,-0.26340619911106694,-0.8351980357082801,-0.7959718758615214,0.6618589942538259,-0.4809145778698422,-0.5892785393324456,-0.25863477635135435,-0.6227807044887773,0.6993285851779953,-0.45746330629230986,-1.1643534645330045,1.3236560625253453,-0.6252302065588559,0.3150282283965467,1.137719962772657,0.514273522992465,0.17608458637176752,-0.6721697934374377,-0.9601912730760108,-0.9638044403008365,-0.35406490944069513,0.27014409824766095,0.7873120088931022,-0.4853469923359565,-0.35362079253020634,0.35722262241125424,-0.3869299705042295],\"type\":\"histogram\"}],                        {\"barmode\":\"overlay\",\"legend\":{\"bgcolor\":\"#F5F6F9\",\"font\":{\"color\":\"#4D5663\"}},\"paper_bgcolor\":\"#F5F6F9\",\"plot_bgcolor\":\"#F5F6F9\",\"template\":{\"data\":{\"barpolar\":[{\"marker\":{\"line\":{\"color\":\"#E5ECF6\",\"width\":0.5},\"pattern\":{\"fillmode\":\"overlay\",\"size\":10,\"solidity\":0.2}},\"type\":\"barpolar\"}],\"bar\":[{\"error_x\":{\"color\":\"#2a3f5f\"},\"error_y\":{\"color\":\"#2a3f5f\"},\"marker\":{\"line\":{\"color\":\"#E5ECF6\",\"width\":0.5},\"pattern\":{\"fillmode\":\"overlay\",\"size\":10,\"solidity\":0.2}},\"type\":\"bar\"}],\"carpet\":[{\"aaxis\":{\"endlinecolor\":\"#2a3f5f\",\"gridcolor\":\"white\",\"linecolor\":\"white\",\"minorgridcolor\":\"white\",\"startlinecolor\":\"#2a3f5f\"},\"baxis\":{\"endlinecolor\":\"#2a3f5f\",\"gridcolor\":\"white\",\"linecolor\":\"white\",\"minorgridcolor\":\"white\",\"startlinecolor\":\"#2a3f5f\"},\"type\":\"carpet\"}],\"choropleth\":[{\"colorbar\":{\"outlinewidth\":0,\"ticks\":\"\"},\"type\":\"choropleth\"}],\"contourcarpet\":[{\"colorbar\":{\"outlinewidth\":0,\"ticks\":\"\"},\"type\":\"contourcarpet\"}],\"contour\":[{\"colorbar\":{\"outlinewidth\":0,\"ticks\":\"\"},\"colorscale\":[[0.0,\"#0d0887\"],[0.1111111111111111,\"#46039f\"],[0.2222222222222222,\"#7201a8\"],[0.3333333333333333,\"#9c179e\"],[0.4444444444444444,\"#bd3786\"],[0.5555555555555556,\"#d8576b\"],[0.6666666666666666,\"#ed7953\"],[0.7777777777777778,\"#fb9f3a\"],[0.8888888888888888,\"#fdca26\"],[1.0,\"#f0f921\"]],\"type\":\"contour\"}],\"heatmapgl\":[{\"colorbar\":{\"outlinewidth\":0,\"ticks\":\"\"},\"colorscale\":[[0.0,\"#0d0887\"],[0.1111111111111111,\"#46039f\"],[0.2222222222222222,\"#7201a8\"],[0.3333333333333333,\"#9c179e\"],[0.4444444444444444,\"#bd3786\"],[0.5555555555555556,\"#d8576b\"],[0.6666666666666666,\"#ed7953\"],[0.7777777777777778,\"#fb9f3a\"],[0.8888888888888888,\"#fdca26\"],[1.0,\"#f0f921\"]],\"type\":\"heatmapgl\"}],\"heatmap\":[{\"colorbar\":{\"outlinewidth\":0,\"ticks\":\"\"},\"colorscale\":[[0.0,\"#0d0887\"],[0.1111111111111111,\"#46039f\"],[0.2222222222222222,\"#7201a8\"],[0.3333333333333333,\"#9c179e\"],[0.4444444444444444,\"#bd3786\"],[0.5555555555555556,\"#d8576b\"],[0.6666666666666666,\"#ed7953\"],[0.7777777777777778,\"#fb9f3a\"],[0.8888888888888888,\"#fdca26\"],[1.0,\"#f0f921\"]],\"type\":\"heatmap\"}],\"histogram2dcontour\":[{\"colorbar\":{\"outlinewidth\":0,\"ticks\":\"\"},\"colorscale\":[[0.0,\"#0d0887\"],[0.1111111111111111,\"#46039f\"],[0.2222222222222222,\"#7201a8\"],[0.3333333333333333,\"#9c179e\"],[0.4444444444444444,\"#bd3786\"],[0.5555555555555556,\"#d8576b\"],[0.6666666666666666,\"#ed7953\"],[0.7777777777777778,\"#fb9f3a\"],[0.8888888888888888,\"#fdca26\"],[1.0,\"#f0f921\"]],\"type\":\"histogram2dcontour\"}],\"histogram2d\":[{\"colorbar\":{\"outlinewidth\":0,\"ticks\":\"\"},\"colorscale\":[[0.0,\"#0d0887\"],[0.1111111111111111,\"#46039f\"],[0.2222222222222222,\"#7201a8\"],[0.3333333333333333,\"#9c179e\"],[0.4444444444444444,\"#bd3786\"],[0.5555555555555556,\"#d8576b\"],[0.6666666666666666,\"#ed7953\"],[0.7777777777777778,\"#fb9f3a\"],[0.8888888888888888,\"#fdca26\"],[1.0,\"#f0f921\"]],\"type\":\"histogram2d\"}],\"histogram\":[{\"marker\":{\"pattern\":{\"fillmode\":\"overlay\",\"size\":10,\"solidity\":0.2}},\"type\":\"histogram\"}],\"mesh3d\":[{\"colorbar\":{\"outlinewidth\":0,\"ticks\":\"\"},\"type\":\"mesh3d\"}],\"parcoords\":[{\"line\":{\"colorbar\":{\"outlinewidth\":0,\"ticks\":\"\"}},\"type\":\"parcoords\"}],\"pie\":[{\"automargin\":true,\"type\":\"pie\"}],\"scatter3d\":[{\"line\":{\"colorbar\":{\"outlinewidth\":0,\"ticks\":\"\"}},\"marker\":{\"colorbar\":{\"outlinewidth\":0,\"ticks\":\"\"}},\"type\":\"scatter3d\"}],\"scattercarpet\":[{\"marker\":{\"colorbar\":{\"outlinewidth\":0,\"ticks\":\"\"}},\"type\":\"scattercarpet\"}],\"scattergeo\":[{\"marker\":{\"colorbar\":{\"outlinewidth\":0,\"ticks\":\"\"}},\"type\":\"scattergeo\"}],\"scattergl\":[{\"marker\":{\"colorbar\":{\"outlinewidth\":0,\"ticks\":\"\"}},\"type\":\"scattergl\"}],\"scattermapbox\":[{\"marker\":{\"colorbar\":{\"outlinewidth\":0,\"ticks\":\"\"}},\"type\":\"scattermapbox\"}],\"scatterpolargl\":[{\"marker\":{\"colorbar\":{\"outlinewidth\":0,\"ticks\":\"\"}},\"type\":\"scatterpolargl\"}],\"scatterpolar\":[{\"marker\":{\"colorbar\":{\"outlinewidth\":0,\"ticks\":\"\"}},\"type\":\"scatterpolar\"}],\"scatter\":[{\"fillpattern\":{\"fillmode\":\"overlay\",\"size\":10,\"solidity\":0.2},\"type\":\"scatter\"}],\"scatterternary\":[{\"marker\":{\"colorbar\":{\"outlinewidth\":0,\"ticks\":\"\"}},\"type\":\"scatterternary\"}],\"surface\":[{\"colorbar\":{\"outlinewidth\":0,\"ticks\":\"\"},\"colorscale\":[[0.0,\"#0d0887\"],[0.1111111111111111,\"#46039f\"],[0.2222222222222222,\"#7201a8\"],[0.3333333333333333,\"#9c179e\"],[0.4444444444444444,\"#bd3786\"],[0.5555555555555556,\"#d8576b\"],[0.6666666666666666,\"#ed7953\"],[0.7777777777777778,\"#fb9f3a\"],[0.8888888888888888,\"#fdca26\"],[1.0,\"#f0f921\"]],\"type\":\"surface\"}],\"table\":[{\"cells\":{\"fill\":{\"color\":\"#EBF0F8\"},\"line\":{\"color\":\"white\"}},\"header\":{\"fill\":{\"color\":\"#C8D4E3\"},\"line\":{\"color\":\"white\"}},\"type\":\"table\"}]},\"layout\":{\"annotationdefaults\":{\"arrowcolor\":\"#2a3f5f\",\"arrowhead\":0,\"arrowwidth\":1},\"autotypenumbers\":\"strict\",\"coloraxis\":{\"colorbar\":{\"outlinewidth\":0,\"ticks\":\"\"}},\"colorscale\":{\"diverging\":[[0,\"#8e0152\"],[0.1,\"#c51b7d\"],[0.2,\"#de77ae\"],[0.3,\"#f1b6da\"],[0.4,\"#fde0ef\"],[0.5,\"#f7f7f7\"],[0.6,\"#e6f5d0\"],[0.7,\"#b8e186\"],[0.8,\"#7fbc41\"],[0.9,\"#4d9221\"],[1,\"#276419\"]],\"sequential\":[[0.0,\"#0d0887\"],[0.1111111111111111,\"#46039f\"],[0.2222222222222222,\"#7201a8\"],[0.3333333333333333,\"#9c179e\"],[0.4444444444444444,\"#bd3786\"],[0.5555555555555556,\"#d8576b\"],[0.6666666666666666,\"#ed7953\"],[0.7777777777777778,\"#fb9f3a\"],[0.8888888888888888,\"#fdca26\"],[1.0,\"#f0f921\"]],\"sequentialminus\":[[0.0,\"#0d0887\"],[0.1111111111111111,\"#46039f\"],[0.2222222222222222,\"#7201a8\"],[0.3333333333333333,\"#9c179e\"],[0.4444444444444444,\"#bd3786\"],[0.5555555555555556,\"#d8576b\"],[0.6666666666666666,\"#ed7953\"],[0.7777777777777778,\"#fb9f3a\"],[0.8888888888888888,\"#fdca26\"],[1.0,\"#f0f921\"]]},\"colorway\":[\"#636efa\",\"#EF553B\",\"#00cc96\",\"#ab63fa\",\"#FFA15A\",\"#19d3f3\",\"#FF6692\",\"#B6E880\",\"#FF97FF\",\"#FECB52\"],\"font\":{\"color\":\"#2a3f5f\"},\"geo\":{\"bgcolor\":\"white\",\"lakecolor\":\"white\",\"landcolor\":\"#E5ECF6\",\"showlakes\":true,\"showland\":true,\"subunitcolor\":\"white\"},\"hoverlabel\":{\"align\":\"left\"},\"hovermode\":\"closest\",\"mapbox\":{\"style\":\"light\"},\"paper_bgcolor\":\"white\",\"plot_bgcolor\":\"#E5ECF6\",\"polar\":{\"angularaxis\":{\"gridcolor\":\"white\",\"linecolor\":\"white\",\"ticks\":\"\"},\"bgcolor\":\"#E5ECF6\",\"radialaxis\":{\"gridcolor\":\"white\",\"linecolor\":\"white\",\"ticks\":\"\"}},\"scene\":{\"xaxis\":{\"backgroundcolor\":\"#E5ECF6\",\"gridcolor\":\"white\",\"gridwidth\":2,\"linecolor\":\"white\",\"showbackground\":true,\"ticks\":\"\",\"zerolinecolor\":\"white\"},\"yaxis\":{\"backgroundcolor\":\"#E5ECF6\",\"gridcolor\":\"white\",\"gridwidth\":2,\"linecolor\":\"white\",\"showbackground\":true,\"ticks\":\"\",\"zerolinecolor\":\"white\"},\"zaxis\":{\"backgroundcolor\":\"#E5ECF6\",\"gridcolor\":\"white\",\"gridwidth\":2,\"linecolor\":\"white\",\"showbackground\":true,\"ticks\":\"\",\"zerolinecolor\":\"white\"}},\"shapedefaults\":{\"line\":{\"color\":\"#2a3f5f\"}},\"ternary\":{\"aaxis\":{\"gridcolor\":\"white\",\"linecolor\":\"white\",\"ticks\":\"\"},\"baxis\":{\"gridcolor\":\"white\",\"linecolor\":\"white\",\"ticks\":\"\"},\"bgcolor\":\"#E5ECF6\",\"caxis\":{\"gridcolor\":\"white\",\"linecolor\":\"white\",\"ticks\":\"\"}},\"title\":{\"x\":0.05},\"xaxis\":{\"automargin\":true,\"gridcolor\":\"white\",\"linecolor\":\"white\",\"ticks\":\"\",\"title\":{\"standoff\":15},\"zerolinecolor\":\"white\",\"zerolinewidth\":2},\"yaxis\":{\"automargin\":true,\"gridcolor\":\"white\",\"linecolor\":\"white\",\"ticks\":\"\",\"title\":{\"standoff\":15},\"zerolinecolor\":\"white\",\"zerolinewidth\":2}}},\"title\":{\"font\":{\"color\":\"#4D5663\"}},\"xaxis\":{\"gridcolor\":\"#E1E5ED\",\"showgrid\":true,\"tickfont\":{\"color\":\"#4D5663\"},\"title\":{\"font\":{\"color\":\"#4D5663\"},\"text\":\"\"},\"zerolinecolor\":\"#E1E5ED\"},\"yaxis\":{\"gridcolor\":\"#E1E5ED\",\"showgrid\":true,\"tickfont\":{\"color\":\"#4D5663\"},\"title\":{\"font\":{\"color\":\"#4D5663\"},\"text\":\"\"},\"zerolinecolor\":\"#E1E5ED\"}},                        {\"showLink\": true, \"linkText\": \"Export to plot.ly\", \"plotlyServerURL\": \"https://plot.ly\", \"responsive\": true}                    ).then(function(){\n",
       "                            \n",
       "var gd = document.getElementById('067c5e58-1b0c-4ad3-8f74-e6e9e58b97b8');\n",
       "var x = new MutationObserver(function (mutations, observer) {{\n",
       "        var display = window.getComputedStyle(gd).display;\n",
       "        if (!display || display === 'none') {{\n",
       "            console.log([gd, 'removed!']);\n",
       "            Plotly.purge(gd);\n",
       "            observer.disconnect();\n",
       "        }}\n",
       "}});\n",
       "\n",
       "// Listen for the removal of the full notebook cells\n",
       "var notebookContainer = gd.closest('#notebook-container');\n",
       "if (notebookContainer) {{\n",
       "    x.observe(notebookContainer, {childList: true});\n",
       "}}\n",
       "\n",
       "// Listen for the clearing of the current output cell\n",
       "var outputEl = gd.closest('.output');\n",
       "if (outputEl) {{\n",
       "    x.observe(outputEl, {childList: true});\n",
       "}}\n",
       "\n",
       "                        })                };                });            </script>        </div>"
      ]
     },
     "metadata": {},
     "output_type": "display_data"
    }
   ],
   "source": [
    "df['A'].iplot(kind='hist', bins=30)"
   ]
  },
  {
   "cell_type": "code",
   "execution_count": 37,
   "id": "1cca8fe2",
   "metadata": {},
   "outputs": [
    {
     "data": {
      "application/vnd.plotly.v1+json": {
       "config": {
        "linkText": "Export to plot.ly",
        "plotlyServerURL": "https://plot.ly",
        "showLink": true
       },
       "data": [
        {
         "marker": {
          "color": [
           "rgb(255, 153, 51)",
           "rgb(55, 128, 191)",
           "rgb(50, 171, 96)",
           "rgb(128, 0, 128)",
           "rgb(219, 64, 82)",
           "rgb(0, 128, 128)",
           "rgb(255, 255, 51)",
           "rgb(128, 128, 0)",
           "rgb(251, 128, 114)",
           "rgb(128, 177, 211)"
          ],
          "line": {
           "width": 1.3
          },
          "size": [
           48,
           79,
           91,
           96,
           73,
           41,
           57,
           103,
           12,
           42,
           49,
           94,
           68,
           73,
           42,
           87,
           86,
           55,
           84,
           91,
           71,
           93,
           81,
           74,
           73,
           94,
           38,
           24,
           48,
           58,
           63,
           95,
           109,
           89,
           58,
           69,
           85,
           48,
           78,
           58,
           51,
           32,
           32,
           49,
           45,
           47,
           91,
           93,
           101,
           73,
           40,
           34,
           110,
           64,
           29,
           59,
           78,
           101,
           54,
           71,
           45,
           64,
           52,
           83,
           58,
           67,
           33,
           47,
           79,
           112,
           48,
           102,
           50,
           64,
           79,
           56,
           45,
           77,
           54,
           77,
           73,
           22,
           68,
           72,
           72,
           56,
           50,
           45,
           65,
           71,
           81,
           57,
           63,
           43,
           41,
           95,
           31,
           81,
           57,
           63
          ],
          "symbol": "circle"
         },
         "mode": "markers",
         "text": "",
         "type": "scatter",
         "x": [
          -1.8158066953241796,
          -0.1532154842648918,
          -0.9087624017607344,
          -0.715856808084371,
          -0.7771907606069965,
          0.7351655714121069,
          -0.4340066741738052,
          -1.3736300616332289,
          -1.0910279061608386,
          -0.17715896700797562,
          0.7275992622753656,
          0.5719735501374622,
          0.1098535938239624,
          -0.7597209632957299,
          -1.1109900639357473,
          0.6925199043660469,
          0.7199999841009106,
          0.2873822213373869,
          -0.15420187444897465,
          0.008442848745635374,
          1.664921806311949,
          -1.3569852377652243,
          -0.23428268105986771,
          -1.9065024563371196,
          -1.8490542212588523,
          -0.9960295932103904,
          0.02314877232934917,
          1.7212068472548776,
          1.9013955197338033,
          -2.35253242851831,
          0.03040455800019841,
          0.21563700808987987,
          -0.4597229928437187,
          -0.7278607880726488,
          0.8877592700568671,
          0.4871704573515719,
          1.2769068225620719,
          0.18018462540389163,
          0.8649699512695074,
          -0.7445046848660324,
          -1.2890167760381392,
          0.5217925979706663,
          0.9389152424518948,
          0.9410136911071448,
          1.5734356802920477,
          1.4534955851108855,
          1.6379349099164204,
          2.051825040464344,
          -0.8723796481954755,
          0.6451170978250104,
          0.7996633553911477,
          -0.3758811118599081,
          0.8368783860108395,
          1.1672923335724237,
          1.9989574214327248,
          -0.9803635632487172,
          1.0272909775625343,
          -1.6470378469496967,
          -1.184745488394547,
          1.240609769403117,
          2.561043412628804,
          -0.5143615665306566,
          0.7449677226155068,
          -0.6201547168031414,
          0.6061735043418385,
          -0.6917606684322949,
          -0.4568162851669821,
          -1.4467767829303313,
          -0.4197208185978394,
          -0.27718742129594875,
          0.37837120923512646,
          1.2126642629518882,
          0.0393734817792643,
          -0.26340619911106694,
          -0.8351980357082801,
          -0.7959718758615214,
          0.6618589942538259,
          -0.4809145778698422,
          -0.5892785393324456,
          -0.25863477635135435,
          -0.6227807044887773,
          0.6993285851779953,
          -0.45746330629230986,
          -1.1643534645330045,
          1.3236560625253453,
          -0.6252302065588559,
          0.3150282283965467,
          1.137719962772657,
          0.514273522992465,
          0.17608458637176752,
          -0.6721697934374377,
          -0.9601912730760108,
          -0.9638044403008365,
          -0.35406490944069513,
          0.27014409824766095,
          0.7873120088931022,
          -0.4853469923359565,
          -0.35362079253020634,
          0.35722262241125424,
          -0.3869299705042295
         ],
         "y": [
          1.6962518426992457,
          -0.982193639127554,
          -2.1197856966587434,
          0.38054873370497094,
          -1.361275653580498,
          0.3019613106241735,
          0.5737655133927131,
          1.0945211359269573,
          0.5495438835085136,
          1.0344716229317987,
          1.5145618337839344,
          -1.322817574245342,
          -1.1907820282214117,
          -0.528632777074625,
          1.3012340540546952,
          -1.0689263129920183,
          -2.84496629837369,
          0.046135758701366845,
          -0.24639563344520166,
          0.25128120296962836,
          0.36830940996399714,
          0.12031333614256282,
          -0.8010686487431482,
          -1.9327299966087452,
          0.7590071315508242,
          0.09728845697523336,
          -0.6894331452347948,
          0.11100076999006471,
          0.8004367772526133,
          -0.3793003097447568,
          -0.010050251411239644,
          -1.157220777492313,
          0.2488904704855463,
          0.8320141897637261,
          -0.12460299783173051,
          -0.9910263142307557,
          0.7372791083222395,
          0.24955057188182372,
          -0.8396515362306939,
          -0.6309241374644079,
          -0.279841188171254,
          -0.16186589249778788,
          0.8051370085683334,
          0.6540567389457904,
          -1.5798108304946163,
          0.20639652702521474,
          0.39333903402492476,
          -0.4810666724010602,
          -0.3800959479086856,
          -0.3077260319677847,
          1.5208418364763474,
          0.7892210421725961,
          1.8591446122703879,
          1.7034420043231697,
          -0.10683091684168655,
          -0.4775338738383854,
          -1.0079070689317284,
          -1.0112734900097282,
          0.7111182117640453,
          1.0486950375562232,
          -0.26391919214625303,
          -0.4113679094580015,
          -0.2605367678626934,
          -0.47530461482159114,
          -0.053143688579886626,
          2.3967430629102333,
          1.8709284111420503,
          0.25187514496472596,
          -0.02397569055830253,
          -0.09829431482066459,
          0.09403916694330741,
          0.06531118931264279,
          1.7638042278748831,
          1.0049939775004493,
          -0.6137431487150112,
          0.6570327734296777,
          -0.6289093946870737,
          0.5903155802129443,
          -1.2205401647556249,
          0.16685846375701371,
          -0.7512178872411197,
          0.08940485042033164,
          0.7271257315355758,
          -0.8861325348030998,
          -0.11871209816686926,
          -1.4093783931195987,
          -0.1736218521324273,
          -1.556684785992902,
          0.2470908600596826,
          0.056697008587313615,
          0.7871147589497839,
          -0.8801147388503565,
          0.3565693844796211,
          -0.3783507036715136,
          -0.5636310145664183,
          -0.18403442117576474,
          0.7945894980989373,
          0.8203119259602427,
          -0.8631082962731352,
          0.21257593940078842
         ]
        }
       ],
       "layout": {
        "legend": {
         "bgcolor": "#F5F6F9",
         "font": {
          "color": "#4D5663"
         }
        },
        "paper_bgcolor": "#F5F6F9",
        "plot_bgcolor": "#F5F6F9",
        "template": {
         "data": {
          "bar": [
           {
            "error_x": {
             "color": "#2a3f5f"
            },
            "error_y": {
             "color": "#2a3f5f"
            },
            "marker": {
             "line": {
              "color": "#E5ECF6",
              "width": 0.5
             },
             "pattern": {
              "fillmode": "overlay",
              "size": 10,
              "solidity": 0.2
             }
            },
            "type": "bar"
           }
          ],
          "barpolar": [
           {
            "marker": {
             "line": {
              "color": "#E5ECF6",
              "width": 0.5
             },
             "pattern": {
              "fillmode": "overlay",
              "size": 10,
              "solidity": 0.2
             }
            },
            "type": "barpolar"
           }
          ],
          "carpet": [
           {
            "aaxis": {
             "endlinecolor": "#2a3f5f",
             "gridcolor": "white",
             "linecolor": "white",
             "minorgridcolor": "white",
             "startlinecolor": "#2a3f5f"
            },
            "baxis": {
             "endlinecolor": "#2a3f5f",
             "gridcolor": "white",
             "linecolor": "white",
             "minorgridcolor": "white",
             "startlinecolor": "#2a3f5f"
            },
            "type": "carpet"
           }
          ],
          "choropleth": [
           {
            "colorbar": {
             "outlinewidth": 0,
             "ticks": ""
            },
            "type": "choropleth"
           }
          ],
          "contour": [
           {
            "colorbar": {
             "outlinewidth": 0,
             "ticks": ""
            },
            "colorscale": [
             [
              0,
              "#0d0887"
             ],
             [
              0.1111111111111111,
              "#46039f"
             ],
             [
              0.2222222222222222,
              "#7201a8"
             ],
             [
              0.3333333333333333,
              "#9c179e"
             ],
             [
              0.4444444444444444,
              "#bd3786"
             ],
             [
              0.5555555555555556,
              "#d8576b"
             ],
             [
              0.6666666666666666,
              "#ed7953"
             ],
             [
              0.7777777777777778,
              "#fb9f3a"
             ],
             [
              0.8888888888888888,
              "#fdca26"
             ],
             [
              1,
              "#f0f921"
             ]
            ],
            "type": "contour"
           }
          ],
          "contourcarpet": [
           {
            "colorbar": {
             "outlinewidth": 0,
             "ticks": ""
            },
            "type": "contourcarpet"
           }
          ],
          "heatmap": [
           {
            "colorbar": {
             "outlinewidth": 0,
             "ticks": ""
            },
            "colorscale": [
             [
              0,
              "#0d0887"
             ],
             [
              0.1111111111111111,
              "#46039f"
             ],
             [
              0.2222222222222222,
              "#7201a8"
             ],
             [
              0.3333333333333333,
              "#9c179e"
             ],
             [
              0.4444444444444444,
              "#bd3786"
             ],
             [
              0.5555555555555556,
              "#d8576b"
             ],
             [
              0.6666666666666666,
              "#ed7953"
             ],
             [
              0.7777777777777778,
              "#fb9f3a"
             ],
             [
              0.8888888888888888,
              "#fdca26"
             ],
             [
              1,
              "#f0f921"
             ]
            ],
            "type": "heatmap"
           }
          ],
          "heatmapgl": [
           {
            "colorbar": {
             "outlinewidth": 0,
             "ticks": ""
            },
            "colorscale": [
             [
              0,
              "#0d0887"
             ],
             [
              0.1111111111111111,
              "#46039f"
             ],
             [
              0.2222222222222222,
              "#7201a8"
             ],
             [
              0.3333333333333333,
              "#9c179e"
             ],
             [
              0.4444444444444444,
              "#bd3786"
             ],
             [
              0.5555555555555556,
              "#d8576b"
             ],
             [
              0.6666666666666666,
              "#ed7953"
             ],
             [
              0.7777777777777778,
              "#fb9f3a"
             ],
             [
              0.8888888888888888,
              "#fdca26"
             ],
             [
              1,
              "#f0f921"
             ]
            ],
            "type": "heatmapgl"
           }
          ],
          "histogram": [
           {
            "marker": {
             "pattern": {
              "fillmode": "overlay",
              "size": 10,
              "solidity": 0.2
             }
            },
            "type": "histogram"
           }
          ],
          "histogram2d": [
           {
            "colorbar": {
             "outlinewidth": 0,
             "ticks": ""
            },
            "colorscale": [
             [
              0,
              "#0d0887"
             ],
             [
              0.1111111111111111,
              "#46039f"
             ],
             [
              0.2222222222222222,
              "#7201a8"
             ],
             [
              0.3333333333333333,
              "#9c179e"
             ],
             [
              0.4444444444444444,
              "#bd3786"
             ],
             [
              0.5555555555555556,
              "#d8576b"
             ],
             [
              0.6666666666666666,
              "#ed7953"
             ],
             [
              0.7777777777777778,
              "#fb9f3a"
             ],
             [
              0.8888888888888888,
              "#fdca26"
             ],
             [
              1,
              "#f0f921"
             ]
            ],
            "type": "histogram2d"
           }
          ],
          "histogram2dcontour": [
           {
            "colorbar": {
             "outlinewidth": 0,
             "ticks": ""
            },
            "colorscale": [
             [
              0,
              "#0d0887"
             ],
             [
              0.1111111111111111,
              "#46039f"
             ],
             [
              0.2222222222222222,
              "#7201a8"
             ],
             [
              0.3333333333333333,
              "#9c179e"
             ],
             [
              0.4444444444444444,
              "#bd3786"
             ],
             [
              0.5555555555555556,
              "#d8576b"
             ],
             [
              0.6666666666666666,
              "#ed7953"
             ],
             [
              0.7777777777777778,
              "#fb9f3a"
             ],
             [
              0.8888888888888888,
              "#fdca26"
             ],
             [
              1,
              "#f0f921"
             ]
            ],
            "type": "histogram2dcontour"
           }
          ],
          "mesh3d": [
           {
            "colorbar": {
             "outlinewidth": 0,
             "ticks": ""
            },
            "type": "mesh3d"
           }
          ],
          "parcoords": [
           {
            "line": {
             "colorbar": {
              "outlinewidth": 0,
              "ticks": ""
             }
            },
            "type": "parcoords"
           }
          ],
          "pie": [
           {
            "automargin": true,
            "type": "pie"
           }
          ],
          "scatter": [
           {
            "fillpattern": {
             "fillmode": "overlay",
             "size": 10,
             "solidity": 0.2
            },
            "type": "scatter"
           }
          ],
          "scatter3d": [
           {
            "line": {
             "colorbar": {
              "outlinewidth": 0,
              "ticks": ""
             }
            },
            "marker": {
             "colorbar": {
              "outlinewidth": 0,
              "ticks": ""
             }
            },
            "type": "scatter3d"
           }
          ],
          "scattercarpet": [
           {
            "marker": {
             "colorbar": {
              "outlinewidth": 0,
              "ticks": ""
             }
            },
            "type": "scattercarpet"
           }
          ],
          "scattergeo": [
           {
            "marker": {
             "colorbar": {
              "outlinewidth": 0,
              "ticks": ""
             }
            },
            "type": "scattergeo"
           }
          ],
          "scattergl": [
           {
            "marker": {
             "colorbar": {
              "outlinewidth": 0,
              "ticks": ""
             }
            },
            "type": "scattergl"
           }
          ],
          "scattermapbox": [
           {
            "marker": {
             "colorbar": {
              "outlinewidth": 0,
              "ticks": ""
             }
            },
            "type": "scattermapbox"
           }
          ],
          "scatterpolar": [
           {
            "marker": {
             "colorbar": {
              "outlinewidth": 0,
              "ticks": ""
             }
            },
            "type": "scatterpolar"
           }
          ],
          "scatterpolargl": [
           {
            "marker": {
             "colorbar": {
              "outlinewidth": 0,
              "ticks": ""
             }
            },
            "type": "scatterpolargl"
           }
          ],
          "scatterternary": [
           {
            "marker": {
             "colorbar": {
              "outlinewidth": 0,
              "ticks": ""
             }
            },
            "type": "scatterternary"
           }
          ],
          "surface": [
           {
            "colorbar": {
             "outlinewidth": 0,
             "ticks": ""
            },
            "colorscale": [
             [
              0,
              "#0d0887"
             ],
             [
              0.1111111111111111,
              "#46039f"
             ],
             [
              0.2222222222222222,
              "#7201a8"
             ],
             [
              0.3333333333333333,
              "#9c179e"
             ],
             [
              0.4444444444444444,
              "#bd3786"
             ],
             [
              0.5555555555555556,
              "#d8576b"
             ],
             [
              0.6666666666666666,
              "#ed7953"
             ],
             [
              0.7777777777777778,
              "#fb9f3a"
             ],
             [
              0.8888888888888888,
              "#fdca26"
             ],
             [
              1,
              "#f0f921"
             ]
            ],
            "type": "surface"
           }
          ],
          "table": [
           {
            "cells": {
             "fill": {
              "color": "#EBF0F8"
             },
             "line": {
              "color": "white"
             }
            },
            "header": {
             "fill": {
              "color": "#C8D4E3"
             },
             "line": {
              "color": "white"
             }
            },
            "type": "table"
           }
          ]
         },
         "layout": {
          "annotationdefaults": {
           "arrowcolor": "#2a3f5f",
           "arrowhead": 0,
           "arrowwidth": 1
          },
          "autotypenumbers": "strict",
          "coloraxis": {
           "colorbar": {
            "outlinewidth": 0,
            "ticks": ""
           }
          },
          "colorscale": {
           "diverging": [
            [
             0,
             "#8e0152"
            ],
            [
             0.1,
             "#c51b7d"
            ],
            [
             0.2,
             "#de77ae"
            ],
            [
             0.3,
             "#f1b6da"
            ],
            [
             0.4,
             "#fde0ef"
            ],
            [
             0.5,
             "#f7f7f7"
            ],
            [
             0.6,
             "#e6f5d0"
            ],
            [
             0.7,
             "#b8e186"
            ],
            [
             0.8,
             "#7fbc41"
            ],
            [
             0.9,
             "#4d9221"
            ],
            [
             1,
             "#276419"
            ]
           ],
           "sequential": [
            [
             0,
             "#0d0887"
            ],
            [
             0.1111111111111111,
             "#46039f"
            ],
            [
             0.2222222222222222,
             "#7201a8"
            ],
            [
             0.3333333333333333,
             "#9c179e"
            ],
            [
             0.4444444444444444,
             "#bd3786"
            ],
            [
             0.5555555555555556,
             "#d8576b"
            ],
            [
             0.6666666666666666,
             "#ed7953"
            ],
            [
             0.7777777777777778,
             "#fb9f3a"
            ],
            [
             0.8888888888888888,
             "#fdca26"
            ],
            [
             1,
             "#f0f921"
            ]
           ],
           "sequentialminus": [
            [
             0,
             "#0d0887"
            ],
            [
             0.1111111111111111,
             "#46039f"
            ],
            [
             0.2222222222222222,
             "#7201a8"
            ],
            [
             0.3333333333333333,
             "#9c179e"
            ],
            [
             0.4444444444444444,
             "#bd3786"
            ],
            [
             0.5555555555555556,
             "#d8576b"
            ],
            [
             0.6666666666666666,
             "#ed7953"
            ],
            [
             0.7777777777777778,
             "#fb9f3a"
            ],
            [
             0.8888888888888888,
             "#fdca26"
            ],
            [
             1,
             "#f0f921"
            ]
           ]
          },
          "colorway": [
           "#636efa",
           "#EF553B",
           "#00cc96",
           "#ab63fa",
           "#FFA15A",
           "#19d3f3",
           "#FF6692",
           "#B6E880",
           "#FF97FF",
           "#FECB52"
          ],
          "font": {
           "color": "#2a3f5f"
          },
          "geo": {
           "bgcolor": "white",
           "lakecolor": "white",
           "landcolor": "#E5ECF6",
           "showlakes": true,
           "showland": true,
           "subunitcolor": "white"
          },
          "hoverlabel": {
           "align": "left"
          },
          "hovermode": "closest",
          "mapbox": {
           "style": "light"
          },
          "paper_bgcolor": "white",
          "plot_bgcolor": "#E5ECF6",
          "polar": {
           "angularaxis": {
            "gridcolor": "white",
            "linecolor": "white",
            "ticks": ""
           },
           "bgcolor": "#E5ECF6",
           "radialaxis": {
            "gridcolor": "white",
            "linecolor": "white",
            "ticks": ""
           }
          },
          "scene": {
           "xaxis": {
            "backgroundcolor": "#E5ECF6",
            "gridcolor": "white",
            "gridwidth": 2,
            "linecolor": "white",
            "showbackground": true,
            "ticks": "",
            "zerolinecolor": "white"
           },
           "yaxis": {
            "backgroundcolor": "#E5ECF6",
            "gridcolor": "white",
            "gridwidth": 2,
            "linecolor": "white",
            "showbackground": true,
            "ticks": "",
            "zerolinecolor": "white"
           },
           "zaxis": {
            "backgroundcolor": "#E5ECF6",
            "gridcolor": "white",
            "gridwidth": 2,
            "linecolor": "white",
            "showbackground": true,
            "ticks": "",
            "zerolinecolor": "white"
           }
          },
          "shapedefaults": {
           "line": {
            "color": "#2a3f5f"
           }
          },
          "ternary": {
           "aaxis": {
            "gridcolor": "white",
            "linecolor": "white",
            "ticks": ""
           },
           "baxis": {
            "gridcolor": "white",
            "linecolor": "white",
            "ticks": ""
           },
           "bgcolor": "#E5ECF6",
           "caxis": {
            "gridcolor": "white",
            "linecolor": "white",
            "ticks": ""
           }
          },
          "title": {
           "x": 0.05
          },
          "xaxis": {
           "automargin": true,
           "gridcolor": "white",
           "linecolor": "white",
           "ticks": "",
           "title": {
            "standoff": 15
           },
           "zerolinecolor": "white",
           "zerolinewidth": 2
          },
          "yaxis": {
           "automargin": true,
           "gridcolor": "white",
           "linecolor": "white",
           "ticks": "",
           "title": {
            "standoff": 15
           },
           "zerolinecolor": "white",
           "zerolinewidth": 2
          }
         }
        },
        "title": {
         "font": {
          "color": "#4D5663"
         }
        },
        "xaxis": {
         "gridcolor": "#E1E5ED",
         "showgrid": true,
         "tickfont": {
          "color": "#4D5663"
         },
         "title": {
          "font": {
           "color": "#4D5663"
          },
          "text": ""
         },
         "zerolinecolor": "#E1E5ED"
        },
        "yaxis": {
         "gridcolor": "#E1E5ED",
         "showgrid": true,
         "tickfont": {
          "color": "#4D5663"
         },
         "title": {
          "font": {
           "color": "#4D5663"
          },
          "text": ""
         },
         "zerolinecolor": "#E1E5ED"
        }
       }
      },
      "text/html": [
       "<div>                            <div id=\"ce29480b-e7dc-4445-83d4-4224c7df7f55\" class=\"plotly-graph-div\" style=\"height:525px; width:100%;\"></div>            <script type=\"text/javascript\">                require([\"plotly\"], function(Plotly) {                    window.PLOTLYENV=window.PLOTLYENV || {};\n",
       "                    window.PLOTLYENV.BASE_URL='https://plot.ly';                                    if (document.getElementById(\"ce29480b-e7dc-4445-83d4-4224c7df7f55\")) {                    Plotly.newPlot(                        \"ce29480b-e7dc-4445-83d4-4224c7df7f55\",                        [{\"marker\":{\"color\":[\"rgb(255, 153, 51)\",\"rgb(55, 128, 191)\",\"rgb(50, 171, 96)\",\"rgb(128, 0, 128)\",\"rgb(219, 64, 82)\",\"rgb(0, 128, 128)\",\"rgb(255, 255, 51)\",\"rgb(128, 128, 0)\",\"rgb(251, 128, 114)\",\"rgb(128, 177, 211)\"],\"line\":{\"width\":1.3},\"size\":[48,79,91,96,73,41,57,103,12,42,49,94,68,73,42,87,86,55,84,91,71,93,81,74,73,94,38,24,48,58,63,95,109,89,58,69,85,48,78,58,51,32,32,49,45,47,91,93,101,73,40,34,110,64,29,59,78,101,54,71,45,64,52,83,58,67,33,47,79,112,48,102,50,64,79,56,45,77,54,77,73,22,68,72,72,56,50,45,65,71,81,57,63,43,41,95,31,81,57,63],\"symbol\":\"circle\"},\"mode\":\"markers\",\"text\":\"\",\"x\":[-1.8158066953241796,-0.1532154842648918,-0.9087624017607344,-0.715856808084371,-0.7771907606069965,0.7351655714121069,-0.4340066741738052,-1.3736300616332289,-1.0910279061608386,-0.17715896700797562,0.7275992622753656,0.5719735501374622,0.1098535938239624,-0.7597209632957299,-1.1109900639357473,0.6925199043660469,0.7199999841009106,0.2873822213373869,-0.15420187444897465,0.008442848745635374,1.664921806311949,-1.3569852377652243,-0.23428268105986771,-1.9065024563371196,-1.8490542212588523,-0.9960295932103904,0.02314877232934917,1.7212068472548776,1.9013955197338033,-2.35253242851831,0.03040455800019841,0.21563700808987987,-0.4597229928437187,-0.7278607880726488,0.8877592700568671,0.4871704573515719,1.2769068225620719,0.18018462540389163,0.8649699512695074,-0.7445046848660324,-1.2890167760381392,0.5217925979706663,0.9389152424518948,0.9410136911071448,1.5734356802920477,1.4534955851108855,1.6379349099164204,2.051825040464344,-0.8723796481954755,0.6451170978250104,0.7996633553911477,-0.3758811118599081,0.8368783860108395,1.1672923335724237,1.9989574214327248,-0.9803635632487172,1.0272909775625343,-1.6470378469496967,-1.184745488394547,1.240609769403117,2.561043412628804,-0.5143615665306566,0.7449677226155068,-0.6201547168031414,0.6061735043418385,-0.6917606684322949,-0.4568162851669821,-1.4467767829303313,-0.4197208185978394,-0.27718742129594875,0.37837120923512646,1.2126642629518882,0.0393734817792643,-0.26340619911106694,-0.8351980357082801,-0.7959718758615214,0.6618589942538259,-0.4809145778698422,-0.5892785393324456,-0.25863477635135435,-0.6227807044887773,0.6993285851779953,-0.45746330629230986,-1.1643534645330045,1.3236560625253453,-0.6252302065588559,0.3150282283965467,1.137719962772657,0.514273522992465,0.17608458637176752,-0.6721697934374377,-0.9601912730760108,-0.9638044403008365,-0.35406490944069513,0.27014409824766095,0.7873120088931022,-0.4853469923359565,-0.35362079253020634,0.35722262241125424,-0.3869299705042295],\"y\":[1.6962518426992457,-0.982193639127554,-2.1197856966587434,0.38054873370497094,-1.361275653580498,0.3019613106241735,0.5737655133927131,1.0945211359269573,0.5495438835085136,1.0344716229317987,1.5145618337839344,-1.322817574245342,-1.1907820282214117,-0.528632777074625,1.3012340540546952,-1.0689263129920183,-2.84496629837369,0.046135758701366845,-0.24639563344520166,0.25128120296962836,0.36830940996399714,0.12031333614256282,-0.8010686487431482,-1.9327299966087452,0.7590071315508242,0.09728845697523336,-0.6894331452347948,0.11100076999006471,0.8004367772526133,-0.3793003097447568,-0.010050251411239644,-1.157220777492313,0.2488904704855463,0.8320141897637261,-0.12460299783173051,-0.9910263142307557,0.7372791083222395,0.24955057188182372,-0.8396515362306939,-0.6309241374644079,-0.279841188171254,-0.16186589249778788,0.8051370085683334,0.6540567389457904,-1.5798108304946163,0.20639652702521474,0.39333903402492476,-0.4810666724010602,-0.3800959479086856,-0.3077260319677847,1.5208418364763474,0.7892210421725961,1.8591446122703879,1.7034420043231697,-0.10683091684168655,-0.4775338738383854,-1.0079070689317284,-1.0112734900097282,0.7111182117640453,1.0486950375562232,-0.26391919214625303,-0.4113679094580015,-0.2605367678626934,-0.47530461482159114,-0.053143688579886626,2.3967430629102333,1.8709284111420503,0.25187514496472596,-0.02397569055830253,-0.09829431482066459,0.09403916694330741,0.06531118931264279,1.7638042278748831,1.0049939775004493,-0.6137431487150112,0.6570327734296777,-0.6289093946870737,0.5903155802129443,-1.2205401647556249,0.16685846375701371,-0.7512178872411197,0.08940485042033164,0.7271257315355758,-0.8861325348030998,-0.11871209816686926,-1.4093783931195987,-0.1736218521324273,-1.556684785992902,0.2470908600596826,0.056697008587313615,0.7871147589497839,-0.8801147388503565,0.3565693844796211,-0.3783507036715136,-0.5636310145664183,-0.18403442117576474,0.7945894980989373,0.8203119259602427,-0.8631082962731352,0.21257593940078842],\"type\":\"scatter\"}],                        {\"legend\":{\"bgcolor\":\"#F5F6F9\",\"font\":{\"color\":\"#4D5663\"}},\"paper_bgcolor\":\"#F5F6F9\",\"plot_bgcolor\":\"#F5F6F9\",\"template\":{\"data\":{\"barpolar\":[{\"marker\":{\"line\":{\"color\":\"#E5ECF6\",\"width\":0.5},\"pattern\":{\"fillmode\":\"overlay\",\"size\":10,\"solidity\":0.2}},\"type\":\"barpolar\"}],\"bar\":[{\"error_x\":{\"color\":\"#2a3f5f\"},\"error_y\":{\"color\":\"#2a3f5f\"},\"marker\":{\"line\":{\"color\":\"#E5ECF6\",\"width\":0.5},\"pattern\":{\"fillmode\":\"overlay\",\"size\":10,\"solidity\":0.2}},\"type\":\"bar\"}],\"carpet\":[{\"aaxis\":{\"endlinecolor\":\"#2a3f5f\",\"gridcolor\":\"white\",\"linecolor\":\"white\",\"minorgridcolor\":\"white\",\"startlinecolor\":\"#2a3f5f\"},\"baxis\":{\"endlinecolor\":\"#2a3f5f\",\"gridcolor\":\"white\",\"linecolor\":\"white\",\"minorgridcolor\":\"white\",\"startlinecolor\":\"#2a3f5f\"},\"type\":\"carpet\"}],\"choropleth\":[{\"colorbar\":{\"outlinewidth\":0,\"ticks\":\"\"},\"type\":\"choropleth\"}],\"contourcarpet\":[{\"colorbar\":{\"outlinewidth\":0,\"ticks\":\"\"},\"type\":\"contourcarpet\"}],\"contour\":[{\"colorbar\":{\"outlinewidth\":0,\"ticks\":\"\"},\"colorscale\":[[0.0,\"#0d0887\"],[0.1111111111111111,\"#46039f\"],[0.2222222222222222,\"#7201a8\"],[0.3333333333333333,\"#9c179e\"],[0.4444444444444444,\"#bd3786\"],[0.5555555555555556,\"#d8576b\"],[0.6666666666666666,\"#ed7953\"],[0.7777777777777778,\"#fb9f3a\"],[0.8888888888888888,\"#fdca26\"],[1.0,\"#f0f921\"]],\"type\":\"contour\"}],\"heatmapgl\":[{\"colorbar\":{\"outlinewidth\":0,\"ticks\":\"\"},\"colorscale\":[[0.0,\"#0d0887\"],[0.1111111111111111,\"#46039f\"],[0.2222222222222222,\"#7201a8\"],[0.3333333333333333,\"#9c179e\"],[0.4444444444444444,\"#bd3786\"],[0.5555555555555556,\"#d8576b\"],[0.6666666666666666,\"#ed7953\"],[0.7777777777777778,\"#fb9f3a\"],[0.8888888888888888,\"#fdca26\"],[1.0,\"#f0f921\"]],\"type\":\"heatmapgl\"}],\"heatmap\":[{\"colorbar\":{\"outlinewidth\":0,\"ticks\":\"\"},\"colorscale\":[[0.0,\"#0d0887\"],[0.1111111111111111,\"#46039f\"],[0.2222222222222222,\"#7201a8\"],[0.3333333333333333,\"#9c179e\"],[0.4444444444444444,\"#bd3786\"],[0.5555555555555556,\"#d8576b\"],[0.6666666666666666,\"#ed7953\"],[0.7777777777777778,\"#fb9f3a\"],[0.8888888888888888,\"#fdca26\"],[1.0,\"#f0f921\"]],\"type\":\"heatmap\"}],\"histogram2dcontour\":[{\"colorbar\":{\"outlinewidth\":0,\"ticks\":\"\"},\"colorscale\":[[0.0,\"#0d0887\"],[0.1111111111111111,\"#46039f\"],[0.2222222222222222,\"#7201a8\"],[0.3333333333333333,\"#9c179e\"],[0.4444444444444444,\"#bd3786\"],[0.5555555555555556,\"#d8576b\"],[0.6666666666666666,\"#ed7953\"],[0.7777777777777778,\"#fb9f3a\"],[0.8888888888888888,\"#fdca26\"],[1.0,\"#f0f921\"]],\"type\":\"histogram2dcontour\"}],\"histogram2d\":[{\"colorbar\":{\"outlinewidth\":0,\"ticks\":\"\"},\"colorscale\":[[0.0,\"#0d0887\"],[0.1111111111111111,\"#46039f\"],[0.2222222222222222,\"#7201a8\"],[0.3333333333333333,\"#9c179e\"],[0.4444444444444444,\"#bd3786\"],[0.5555555555555556,\"#d8576b\"],[0.6666666666666666,\"#ed7953\"],[0.7777777777777778,\"#fb9f3a\"],[0.8888888888888888,\"#fdca26\"],[1.0,\"#f0f921\"]],\"type\":\"histogram2d\"}],\"histogram\":[{\"marker\":{\"pattern\":{\"fillmode\":\"overlay\",\"size\":10,\"solidity\":0.2}},\"type\":\"histogram\"}],\"mesh3d\":[{\"colorbar\":{\"outlinewidth\":0,\"ticks\":\"\"},\"type\":\"mesh3d\"}],\"parcoords\":[{\"line\":{\"colorbar\":{\"outlinewidth\":0,\"ticks\":\"\"}},\"type\":\"parcoords\"}],\"pie\":[{\"automargin\":true,\"type\":\"pie\"}],\"scatter3d\":[{\"line\":{\"colorbar\":{\"outlinewidth\":0,\"ticks\":\"\"}},\"marker\":{\"colorbar\":{\"outlinewidth\":0,\"ticks\":\"\"}},\"type\":\"scatter3d\"}],\"scattercarpet\":[{\"marker\":{\"colorbar\":{\"outlinewidth\":0,\"ticks\":\"\"}},\"type\":\"scattercarpet\"}],\"scattergeo\":[{\"marker\":{\"colorbar\":{\"outlinewidth\":0,\"ticks\":\"\"}},\"type\":\"scattergeo\"}],\"scattergl\":[{\"marker\":{\"colorbar\":{\"outlinewidth\":0,\"ticks\":\"\"}},\"type\":\"scattergl\"}],\"scattermapbox\":[{\"marker\":{\"colorbar\":{\"outlinewidth\":0,\"ticks\":\"\"}},\"type\":\"scattermapbox\"}],\"scatterpolargl\":[{\"marker\":{\"colorbar\":{\"outlinewidth\":0,\"ticks\":\"\"}},\"type\":\"scatterpolargl\"}],\"scatterpolar\":[{\"marker\":{\"colorbar\":{\"outlinewidth\":0,\"ticks\":\"\"}},\"type\":\"scatterpolar\"}],\"scatter\":[{\"fillpattern\":{\"fillmode\":\"overlay\",\"size\":10,\"solidity\":0.2},\"type\":\"scatter\"}],\"scatterternary\":[{\"marker\":{\"colorbar\":{\"outlinewidth\":0,\"ticks\":\"\"}},\"type\":\"scatterternary\"}],\"surface\":[{\"colorbar\":{\"outlinewidth\":0,\"ticks\":\"\"},\"colorscale\":[[0.0,\"#0d0887\"],[0.1111111111111111,\"#46039f\"],[0.2222222222222222,\"#7201a8\"],[0.3333333333333333,\"#9c179e\"],[0.4444444444444444,\"#bd3786\"],[0.5555555555555556,\"#d8576b\"],[0.6666666666666666,\"#ed7953\"],[0.7777777777777778,\"#fb9f3a\"],[0.8888888888888888,\"#fdca26\"],[1.0,\"#f0f921\"]],\"type\":\"surface\"}],\"table\":[{\"cells\":{\"fill\":{\"color\":\"#EBF0F8\"},\"line\":{\"color\":\"white\"}},\"header\":{\"fill\":{\"color\":\"#C8D4E3\"},\"line\":{\"color\":\"white\"}},\"type\":\"table\"}]},\"layout\":{\"annotationdefaults\":{\"arrowcolor\":\"#2a3f5f\",\"arrowhead\":0,\"arrowwidth\":1},\"autotypenumbers\":\"strict\",\"coloraxis\":{\"colorbar\":{\"outlinewidth\":0,\"ticks\":\"\"}},\"colorscale\":{\"diverging\":[[0,\"#8e0152\"],[0.1,\"#c51b7d\"],[0.2,\"#de77ae\"],[0.3,\"#f1b6da\"],[0.4,\"#fde0ef\"],[0.5,\"#f7f7f7\"],[0.6,\"#e6f5d0\"],[0.7,\"#b8e186\"],[0.8,\"#7fbc41\"],[0.9,\"#4d9221\"],[1,\"#276419\"]],\"sequential\":[[0.0,\"#0d0887\"],[0.1111111111111111,\"#46039f\"],[0.2222222222222222,\"#7201a8\"],[0.3333333333333333,\"#9c179e\"],[0.4444444444444444,\"#bd3786\"],[0.5555555555555556,\"#d8576b\"],[0.6666666666666666,\"#ed7953\"],[0.7777777777777778,\"#fb9f3a\"],[0.8888888888888888,\"#fdca26\"],[1.0,\"#f0f921\"]],\"sequentialminus\":[[0.0,\"#0d0887\"],[0.1111111111111111,\"#46039f\"],[0.2222222222222222,\"#7201a8\"],[0.3333333333333333,\"#9c179e\"],[0.4444444444444444,\"#bd3786\"],[0.5555555555555556,\"#d8576b\"],[0.6666666666666666,\"#ed7953\"],[0.7777777777777778,\"#fb9f3a\"],[0.8888888888888888,\"#fdca26\"],[1.0,\"#f0f921\"]]},\"colorway\":[\"#636efa\",\"#EF553B\",\"#00cc96\",\"#ab63fa\",\"#FFA15A\",\"#19d3f3\",\"#FF6692\",\"#B6E880\",\"#FF97FF\",\"#FECB52\"],\"font\":{\"color\":\"#2a3f5f\"},\"geo\":{\"bgcolor\":\"white\",\"lakecolor\":\"white\",\"landcolor\":\"#E5ECF6\",\"showlakes\":true,\"showland\":true,\"subunitcolor\":\"white\"},\"hoverlabel\":{\"align\":\"left\"},\"hovermode\":\"closest\",\"mapbox\":{\"style\":\"light\"},\"paper_bgcolor\":\"white\",\"plot_bgcolor\":\"#E5ECF6\",\"polar\":{\"angularaxis\":{\"gridcolor\":\"white\",\"linecolor\":\"white\",\"ticks\":\"\"},\"bgcolor\":\"#E5ECF6\",\"radialaxis\":{\"gridcolor\":\"white\",\"linecolor\":\"white\",\"ticks\":\"\"}},\"scene\":{\"xaxis\":{\"backgroundcolor\":\"#E5ECF6\",\"gridcolor\":\"white\",\"gridwidth\":2,\"linecolor\":\"white\",\"showbackground\":true,\"ticks\":\"\",\"zerolinecolor\":\"white\"},\"yaxis\":{\"backgroundcolor\":\"#E5ECF6\",\"gridcolor\":\"white\",\"gridwidth\":2,\"linecolor\":\"white\",\"showbackground\":true,\"ticks\":\"\",\"zerolinecolor\":\"white\"},\"zaxis\":{\"backgroundcolor\":\"#E5ECF6\",\"gridcolor\":\"white\",\"gridwidth\":2,\"linecolor\":\"white\",\"showbackground\":true,\"ticks\":\"\",\"zerolinecolor\":\"white\"}},\"shapedefaults\":{\"line\":{\"color\":\"#2a3f5f\"}},\"ternary\":{\"aaxis\":{\"gridcolor\":\"white\",\"linecolor\":\"white\",\"ticks\":\"\"},\"baxis\":{\"gridcolor\":\"white\",\"linecolor\":\"white\",\"ticks\":\"\"},\"bgcolor\":\"#E5ECF6\",\"caxis\":{\"gridcolor\":\"white\",\"linecolor\":\"white\",\"ticks\":\"\"}},\"title\":{\"x\":0.05},\"xaxis\":{\"automargin\":true,\"gridcolor\":\"white\",\"linecolor\":\"white\",\"ticks\":\"\",\"title\":{\"standoff\":15},\"zerolinecolor\":\"white\",\"zerolinewidth\":2},\"yaxis\":{\"automargin\":true,\"gridcolor\":\"white\",\"linecolor\":\"white\",\"ticks\":\"\",\"title\":{\"standoff\":15},\"zerolinecolor\":\"white\",\"zerolinewidth\":2}}},\"title\":{\"font\":{\"color\":\"#4D5663\"}},\"xaxis\":{\"gridcolor\":\"#E1E5ED\",\"showgrid\":true,\"tickfont\":{\"color\":\"#4D5663\"},\"title\":{\"font\":{\"color\":\"#4D5663\"},\"text\":\"\"},\"zerolinecolor\":\"#E1E5ED\"},\"yaxis\":{\"gridcolor\":\"#E1E5ED\",\"showgrid\":true,\"tickfont\":{\"color\":\"#4D5663\"},\"title\":{\"font\":{\"color\":\"#4D5663\"},\"text\":\"\"},\"zerolinecolor\":\"#E1E5ED\"}},                        {\"showLink\": true, \"linkText\": \"Export to plot.ly\", \"plotlyServerURL\": \"https://plot.ly\", \"responsive\": true}                    ).then(function(){\n",
       "                            \n",
       "var gd = document.getElementById('ce29480b-e7dc-4445-83d4-4224c7df7f55');\n",
       "var x = new MutationObserver(function (mutations, observer) {{\n",
       "        var display = window.getComputedStyle(gd).display;\n",
       "        if (!display || display === 'none') {{\n",
       "            console.log([gd, 'removed!']);\n",
       "            Plotly.purge(gd);\n",
       "            observer.disconnect();\n",
       "        }}\n",
       "}});\n",
       "\n",
       "// Listen for the removal of the full notebook cells\n",
       "var notebookContainer = gd.closest('#notebook-container');\n",
       "if (notebookContainer) {{\n",
       "    x.observe(notebookContainer, {childList: true});\n",
       "}}\n",
       "\n",
       "// Listen for the clearing of the current output cell\n",
       "var outputEl = gd.closest('.output');\n",
       "if (outputEl) {{\n",
       "    x.observe(outputEl, {childList: true});\n",
       "}}\n",
       "\n",
       "                        })                };                });            </script>        </div>"
      ]
     },
     "metadata": {},
     "output_type": "display_data"
    }
   ],
   "source": [
    "df.iplot(kind='bubble', x='A', y='B', size='C')"
   ]
  },
  {
   "cell_type": "code",
   "execution_count": 39,
   "id": "124a3081",
   "metadata": {},
   "outputs": [
    {
     "data": {
      "application/vnd.plotly.v1+json": {
       "config": {
        "linkText": "Export to plot.ly",
        "plotlyServerURL": "https://plot.ly",
        "showLink": true
       },
       "data": [
        {
         "histfunc": "count",
         "histnorm": "",
         "marker": {
          "color": "rgba(255, 153, 51, 1.0)",
          "line": {
           "color": "#4D5663",
           "width": 1.3
          }
         },
         "name": "A",
         "nbinsx": 10,
         "opacity": 0.8,
         "orientation": "v",
         "type": "histogram",
         "x": [
          -1.8158066953241796,
          -0.1532154842648918,
          -0.9087624017607344,
          -0.715856808084371,
          -0.7771907606069965,
          0.7351655714121069,
          -0.4340066741738052,
          -1.3736300616332289,
          -1.0910279061608386,
          -0.17715896700797562,
          0.7275992622753656,
          0.5719735501374622,
          0.1098535938239624,
          -0.7597209632957299,
          -1.1109900639357473,
          0.6925199043660469,
          0.7199999841009106,
          0.2873822213373869,
          -0.15420187444897465,
          0.008442848745635374,
          1.664921806311949,
          -1.3569852377652243,
          -0.23428268105986771,
          -1.9065024563371196,
          -1.8490542212588523,
          -0.9960295932103904,
          0.02314877232934917,
          1.7212068472548776,
          1.9013955197338033,
          -2.35253242851831,
          0.03040455800019841,
          0.21563700808987987,
          -0.4597229928437187,
          -0.7278607880726488,
          0.8877592700568671,
          0.4871704573515719,
          1.2769068225620719,
          0.18018462540389163,
          0.8649699512695074,
          -0.7445046848660324,
          -1.2890167760381392,
          0.5217925979706663,
          0.9389152424518948,
          0.9410136911071448,
          1.5734356802920477,
          1.4534955851108855,
          1.6379349099164204,
          2.051825040464344,
          -0.8723796481954755,
          0.6451170978250104,
          0.7996633553911477,
          -0.3758811118599081,
          0.8368783860108395,
          1.1672923335724237,
          1.9989574214327248,
          -0.9803635632487172,
          1.0272909775625343,
          -1.6470378469496967,
          -1.184745488394547,
          1.240609769403117,
          2.561043412628804,
          -0.5143615665306566,
          0.7449677226155068,
          -0.6201547168031414,
          0.6061735043418385,
          -0.6917606684322949,
          -0.4568162851669821,
          -1.4467767829303313,
          -0.4197208185978394,
          -0.27718742129594875,
          0.37837120923512646,
          1.2126642629518882,
          0.0393734817792643,
          -0.26340619911106694,
          -0.8351980357082801,
          -0.7959718758615214,
          0.6618589942538259,
          -0.4809145778698422,
          -0.5892785393324456,
          -0.25863477635135435,
          -0.6227807044887773,
          0.6993285851779953,
          -0.45746330629230986,
          -1.1643534645330045,
          1.3236560625253453,
          -0.6252302065588559,
          0.3150282283965467,
          1.137719962772657,
          0.514273522992465,
          0.17608458637176752,
          -0.6721697934374377,
          -0.9601912730760108,
          -0.9638044403008365,
          -0.35406490944069513,
          0.27014409824766095,
          0.7873120088931022,
          -0.4853469923359565,
          -0.35362079253020634,
          0.35722262241125424,
          -0.3869299705042295
         ],
         "xaxis": "x",
         "yaxis": "y"
        },
        {
         "line": {
          "color": "rgba(128, 128, 128, 1.0)",
          "dash": "solid",
          "shape": "linear",
          "width": 1.3
         },
         "marker": {
          "size": 2,
          "symbol": "circle"
         },
         "mode": "markers",
         "name": "A",
         "text": "",
         "type": "scatter",
         "x": [
          1.6962518426992457,
          -0.982193639127554,
          -2.1197856966587434,
          0.38054873370497094,
          -1.361275653580498,
          0.3019613106241735,
          0.5737655133927131,
          1.0945211359269573,
          0.5495438835085136,
          1.0344716229317987,
          1.5145618337839344,
          -1.322817574245342,
          -1.1907820282214117,
          -0.528632777074625,
          1.3012340540546952,
          -1.0689263129920183,
          -2.84496629837369,
          0.046135758701366845,
          -0.24639563344520166,
          0.25128120296962836,
          0.36830940996399714,
          0.12031333614256282,
          -0.8010686487431482,
          -1.9327299966087452,
          0.7590071315508242,
          0.09728845697523336,
          -0.6894331452347948,
          0.11100076999006471,
          0.8004367772526133,
          -0.3793003097447568,
          -0.010050251411239644,
          -1.157220777492313,
          0.2488904704855463,
          0.8320141897637261,
          -0.12460299783173051,
          -0.9910263142307557,
          0.7372791083222395,
          0.24955057188182372,
          -0.8396515362306939,
          -0.6309241374644079,
          -0.279841188171254,
          -0.16186589249778788,
          0.8051370085683334,
          0.6540567389457904,
          -1.5798108304946163,
          0.20639652702521474,
          0.39333903402492476,
          -0.4810666724010602,
          -0.3800959479086856,
          -0.3077260319677847,
          1.5208418364763474,
          0.7892210421725961,
          1.8591446122703879,
          1.7034420043231697,
          -0.10683091684168655,
          -0.4775338738383854,
          -1.0079070689317284,
          -1.0112734900097282,
          0.7111182117640453,
          1.0486950375562232,
          -0.26391919214625303,
          -0.4113679094580015,
          -0.2605367678626934,
          -0.47530461482159114,
          -0.053143688579886626,
          2.3967430629102333,
          1.8709284111420503,
          0.25187514496472596,
          -0.02397569055830253,
          -0.09829431482066459,
          0.09403916694330741,
          0.06531118931264279,
          1.7638042278748831,
          1.0049939775004493,
          -0.6137431487150112,
          0.6570327734296777,
          -0.6289093946870737,
          0.5903155802129443,
          -1.2205401647556249,
          0.16685846375701371,
          -0.7512178872411197,
          0.08940485042033164,
          0.7271257315355758,
          -0.8861325348030998,
          -0.11871209816686926,
          -1.4093783931195987,
          -0.1736218521324273,
          -1.556684785992902,
          0.2470908600596826,
          0.056697008587313615,
          0.7871147589497839,
          -0.8801147388503565,
          0.3565693844796211,
          -0.3783507036715136,
          -0.5636310145664183,
          -0.18403442117576474,
          0.7945894980989373,
          0.8203119259602427,
          -0.8631082962731352,
          0.21257593940078842
         ],
         "xaxis": "x2",
         "y": [
          -1.8158066953241796,
          -0.1532154842648918,
          -0.9087624017607344,
          -0.715856808084371,
          -0.7771907606069965,
          0.7351655714121069,
          -0.4340066741738052,
          -1.3736300616332289,
          -1.0910279061608386,
          -0.17715896700797562,
          0.7275992622753656,
          0.5719735501374622,
          0.1098535938239624,
          -0.7597209632957299,
          -1.1109900639357473,
          0.6925199043660469,
          0.7199999841009106,
          0.2873822213373869,
          -0.15420187444897465,
          0.008442848745635374,
          1.664921806311949,
          -1.3569852377652243,
          -0.23428268105986771,
          -1.9065024563371196,
          -1.8490542212588523,
          -0.9960295932103904,
          0.02314877232934917,
          1.7212068472548776,
          1.9013955197338033,
          -2.35253242851831,
          0.03040455800019841,
          0.21563700808987987,
          -0.4597229928437187,
          -0.7278607880726488,
          0.8877592700568671,
          0.4871704573515719,
          1.2769068225620719,
          0.18018462540389163,
          0.8649699512695074,
          -0.7445046848660324,
          -1.2890167760381392,
          0.5217925979706663,
          0.9389152424518948,
          0.9410136911071448,
          1.5734356802920477,
          1.4534955851108855,
          1.6379349099164204,
          2.051825040464344,
          -0.8723796481954755,
          0.6451170978250104,
          0.7996633553911477,
          -0.3758811118599081,
          0.8368783860108395,
          1.1672923335724237,
          1.9989574214327248,
          -0.9803635632487172,
          1.0272909775625343,
          -1.6470378469496967,
          -1.184745488394547,
          1.240609769403117,
          2.561043412628804,
          -0.5143615665306566,
          0.7449677226155068,
          -0.6201547168031414,
          0.6061735043418385,
          -0.6917606684322949,
          -0.4568162851669821,
          -1.4467767829303313,
          -0.4197208185978394,
          -0.27718742129594875,
          0.37837120923512646,
          1.2126642629518882,
          0.0393734817792643,
          -0.26340619911106694,
          -0.8351980357082801,
          -0.7959718758615214,
          0.6618589942538259,
          -0.4809145778698422,
          -0.5892785393324456,
          -0.25863477635135435,
          -0.6227807044887773,
          0.6993285851779953,
          -0.45746330629230986,
          -1.1643534645330045,
          1.3236560625253453,
          -0.6252302065588559,
          0.3150282283965467,
          1.137719962772657,
          0.514273522992465,
          0.17608458637176752,
          -0.6721697934374377,
          -0.9601912730760108,
          -0.9638044403008365,
          -0.35406490944069513,
          0.27014409824766095,
          0.7873120088931022,
          -0.4853469923359565,
          -0.35362079253020634,
          0.35722262241125424,
          -0.3869299705042295
         ],
         "yaxis": "y2"
        },
        {
         "line": {
          "color": "rgba(128, 128, 128, 1.0)",
          "dash": "solid",
          "shape": "linear",
          "width": 1.3
         },
         "marker": {
          "size": 2,
          "symbol": "circle"
         },
         "mode": "markers",
         "name": "A",
         "text": "",
         "type": "scatter",
         "x": [
          -0.7385392085312609,
          0.6059015187854616,
          1.122739800613316,
          1.3453235784911914,
          0.3269935992661774,
          -1.0707310105993268,
          -0.3806197642092073,
          1.6409229266368266,
          -2.352066299648475,
          -0.9994785837613791,
          -0.6912934823216503,
          1.2826438376675886,
          0.10291044180972408,
          0.3349043094372565,
          -1.0055135614015855,
          0.9757634381272896,
          0.9079558995973859,
          -0.46594652589269664,
          0.8060052181025692,
          1.1165653993576703,
          0.27351976698254615,
          1.2117888986596437,
          0.6771514068440193,
          0.39219000665164555,
          0.3479770692323999,
          1.2563752513554332,
          -1.1979478266842263,
          -1.78307557243645,
          -0.7562741622749357,
          -0.2974990576728704,
          -0.1151922607598481,
          1.311871447079243,
          1.9289668587901412,
          1.0447706767606724,
          -0.3002488998726798,
          0.16269844415688542,
          0.8631392392988955,
          -0.7411929665425697,
          0.5616519838700285,
          -0.3131147621350836,
          -0.6069109587105764,
          -1.447767624550431,
          -1.442722977432391,
          -0.6919784434260245,
          -0.8831316251819575,
          -0.776479665148661,
          1.1172122351362055,
          1.2176337093966687,
          1.5476467707595074,
          0.3626072098823158,
          -1.0983325162443291,
          -1.383177292817952,
          1.9628058171277503,
          -0.055803093732660805,
          -1.5747713332299496,
          -0.26532393249082487,
          0.5479439877410442,
          1.5535865364644714,
          -0.47659834301066384,
          0.2672767984483275,
          -0.8961147350469946,
          -0.06471050710422788,
          -0.5905964775463705,
          0.7655941714589244,
          -0.31953091828895985,
          0.06789288352679154,
          -1.422263846816249,
          -0.801161627353756,
          0.6188842280311928,
          2.028647190875111,
          -0.741868678745086,
          1.6069381796445703,
          -0.6690556554555435,
          -0.063584543693092,
          0.6246448471547272,
          -0.4216210453943756,
          -0.8640390041112331,
          0.5253639742208898,
          -0.48438019081842754,
          0.5369509248484133,
          0.32057822601106967,
          -1.8760068692251701,
          0.13126982972121115,
          0.2970202750556522,
          0.31359419559538876,
          -0.3971136117430385,
          -0.6860056529632396,
          -0.8962827751063993,
          0.0025431485827040403,
          0.27089769469654046,
          0.7033910031533249,
          -0.3643665317857516,
          -0.11787071628933615,
          -0.9817195744729845,
          -1.0732541183436184,
          1.2957749565724392,
          -1.4894334754857605,
          0.6917993062855475,
          -0.3556696508654084,
          -0.11742785402261754
         ],
         "xaxis": "x3",
         "y": [
          -1.8158066953241796,
          -0.1532154842648918,
          -0.9087624017607344,
          -0.715856808084371,
          -0.7771907606069965,
          0.7351655714121069,
          -0.4340066741738052,
          -1.3736300616332289,
          -1.0910279061608386,
          -0.17715896700797562,
          0.7275992622753656,
          0.5719735501374622,
          0.1098535938239624,
          -0.7597209632957299,
          -1.1109900639357473,
          0.6925199043660469,
          0.7199999841009106,
          0.2873822213373869,
          -0.15420187444897465,
          0.008442848745635374,
          1.664921806311949,
          -1.3569852377652243,
          -0.23428268105986771,
          -1.9065024563371196,
          -1.8490542212588523,
          -0.9960295932103904,
          0.02314877232934917,
          1.7212068472548776,
          1.9013955197338033,
          -2.35253242851831,
          0.03040455800019841,
          0.21563700808987987,
          -0.4597229928437187,
          -0.7278607880726488,
          0.8877592700568671,
          0.4871704573515719,
          1.2769068225620719,
          0.18018462540389163,
          0.8649699512695074,
          -0.7445046848660324,
          -1.2890167760381392,
          0.5217925979706663,
          0.9389152424518948,
          0.9410136911071448,
          1.5734356802920477,
          1.4534955851108855,
          1.6379349099164204,
          2.051825040464344,
          -0.8723796481954755,
          0.6451170978250104,
          0.7996633553911477,
          -0.3758811118599081,
          0.8368783860108395,
          1.1672923335724237,
          1.9989574214327248,
          -0.9803635632487172,
          1.0272909775625343,
          -1.6470378469496967,
          -1.184745488394547,
          1.240609769403117,
          2.561043412628804,
          -0.5143615665306566,
          0.7449677226155068,
          -0.6201547168031414,
          0.6061735043418385,
          -0.6917606684322949,
          -0.4568162851669821,
          -1.4467767829303313,
          -0.4197208185978394,
          -0.27718742129594875,
          0.37837120923512646,
          1.2126642629518882,
          0.0393734817792643,
          -0.26340619911106694,
          -0.8351980357082801,
          -0.7959718758615214,
          0.6618589942538259,
          -0.4809145778698422,
          -0.5892785393324456,
          -0.25863477635135435,
          -0.6227807044887773,
          0.6993285851779953,
          -0.45746330629230986,
          -1.1643534645330045,
          1.3236560625253453,
          -0.6252302065588559,
          0.3150282283965467,
          1.137719962772657,
          0.514273522992465,
          0.17608458637176752,
          -0.6721697934374377,
          -0.9601912730760108,
          -0.9638044403008365,
          -0.35406490944069513,
          0.27014409824766095,
          0.7873120088931022,
          -0.4853469923359565,
          -0.35362079253020634,
          0.35722262241125424,
          -0.3869299705042295
         ],
         "yaxis": "y3"
        },
        {
         "line": {
          "color": "rgba(128, 128, 128, 1.0)",
          "dash": "solid",
          "shape": "linear",
          "width": 1.3
         },
         "marker": {
          "size": 2,
          "symbol": "circle"
         },
         "mode": "markers",
         "name": "A",
         "text": "",
         "type": "scatter",
         "x": [
          -1.6139200331698593,
          0.1438679806922359,
          -0.6931362890789643,
          0.5293045437878271,
          0.3221349048970399,
          0.10571979308408555,
          -0.24687444774814254,
          1.518751836633535,
          -1.8417441436634612,
          1.1901312662968089,
          1.0452829018107455,
          0.30605659929868206,
          -0.43068673344610603,
          -1.3875533434371963,
          -0.31328259811412107,
          -0.47961676390549984,
          1.325030202070095,
          -0.4449698448561779,
          1.0439278536071046,
          1.5298569917653597,
          -0.49411730219163136,
          0.18378781126397709,
          0.1887592665717357,
          1.1025966370286202,
          1.4506954668482208,
          -2.3261959513491073,
          -0.4550870936241418,
          -0.9292829494272545,
          0.01052435481631606,
          0.04724180974889832,
          -0.592794748419755,
          0.5048698619125271,
          -0.31543236030487437,
          1.0659531865858582,
          -0.8199027965146775,
          0.9665933026153964,
          -0.2267356656419576,
          -0.9656196090197346,
          0.29696010229584796,
          -1.6579526166657388,
          1.2748038036746216,
          -0.12764161793534448,
          -0.05487234560680018,
          0.2861875269503629,
          0.43721364089885206,
          1.6086221484162546,
          -0.7979471094796152,
          -0.5861898093399176,
          1.3377350533309027,
          -0.3739936342499101,
          0.7462187044964173,
          -1.2554014451140587,
          0.5868402650420513,
          0.8703440156057092,
          -0.1742196969932546,
          1.4469818706730642,
          -0.6262021275282917,
          0.08399422005607338,
          -1.8055896023356686,
          -1.3243969569382086,
          1.1345389701396054,
          0.2481429357286683,
          0.2835512541345572,
          -0.6881976210702818,
          -1.0120345386137457,
          -0.3034886605647908,
          0.11398208922115317,
          0.36076317300524025,
          -0.5169099907753333,
          1.660678219041089,
          0.02712667239714875,
          -2.039741784619864,
          -0.2805689576358341,
          1.07484873721293,
          -0.3521633386079611,
          0.02930939901426263,
          -2.5392183963702495,
          -0.1852718250188313,
          0.13784622935873658,
          -0.5808272711014993,
          -0.5694492380190268,
          0.3574733700727333,
          -0.5989894269618654,
          0.1773981082301825,
          -2.5437514467559863,
          0.8468484480608329,
          0.7898473428685026,
          0.7168791240146745,
          0.18038311950933206,
          0.19470310432542945,
          -0.6880783920433272,
          -1.2336408453838985,
          -0.9501503471607181,
          0.36047791513110083,
          -2.3000859597709953,
          -0.5648727722864505,
          0.07535442124114042,
          -1.0231862796219837,
          -0.2286057647331581,
          1.6520351190666764
         ],
         "xaxis": "x4",
         "y": [
          -1.8158066953241796,
          -0.1532154842648918,
          -0.9087624017607344,
          -0.715856808084371,
          -0.7771907606069965,
          0.7351655714121069,
          -0.4340066741738052,
          -1.3736300616332289,
          -1.0910279061608386,
          -0.17715896700797562,
          0.7275992622753656,
          0.5719735501374622,
          0.1098535938239624,
          -0.7597209632957299,
          -1.1109900639357473,
          0.6925199043660469,
          0.7199999841009106,
          0.2873822213373869,
          -0.15420187444897465,
          0.008442848745635374,
          1.664921806311949,
          -1.3569852377652243,
          -0.23428268105986771,
          -1.9065024563371196,
          -1.8490542212588523,
          -0.9960295932103904,
          0.02314877232934917,
          1.7212068472548776,
          1.9013955197338033,
          -2.35253242851831,
          0.03040455800019841,
          0.21563700808987987,
          -0.4597229928437187,
          -0.7278607880726488,
          0.8877592700568671,
          0.4871704573515719,
          1.2769068225620719,
          0.18018462540389163,
          0.8649699512695074,
          -0.7445046848660324,
          -1.2890167760381392,
          0.5217925979706663,
          0.9389152424518948,
          0.9410136911071448,
          1.5734356802920477,
          1.4534955851108855,
          1.6379349099164204,
          2.051825040464344,
          -0.8723796481954755,
          0.6451170978250104,
          0.7996633553911477,
          -0.3758811118599081,
          0.8368783860108395,
          1.1672923335724237,
          1.9989574214327248,
          -0.9803635632487172,
          1.0272909775625343,
          -1.6470378469496967,
          -1.184745488394547,
          1.240609769403117,
          2.561043412628804,
          -0.5143615665306566,
          0.7449677226155068,
          -0.6201547168031414,
          0.6061735043418385,
          -0.6917606684322949,
          -0.4568162851669821,
          -1.4467767829303313,
          -0.4197208185978394,
          -0.27718742129594875,
          0.37837120923512646,
          1.2126642629518882,
          0.0393734817792643,
          -0.26340619911106694,
          -0.8351980357082801,
          -0.7959718758615214,
          0.6618589942538259,
          -0.4809145778698422,
          -0.5892785393324456,
          -0.25863477635135435,
          -0.6227807044887773,
          0.6993285851779953,
          -0.45746330629230986,
          -1.1643534645330045,
          1.3236560625253453,
          -0.6252302065588559,
          0.3150282283965467,
          1.137719962772657,
          0.514273522992465,
          0.17608458637176752,
          -0.6721697934374377,
          -0.9601912730760108,
          -0.9638044403008365,
          -0.35406490944069513,
          0.27014409824766095,
          0.7873120088931022,
          -0.4853469923359565,
          -0.35362079253020634,
          0.35722262241125424,
          -0.3869299705042295
         ],
         "yaxis": "y4"
        },
        {
         "line": {
          "color": "rgba(128, 128, 128, 1.0)",
          "dash": "solid",
          "shape": "linear",
          "width": 1.3
         },
         "marker": {
          "size": 2,
          "symbol": "circle"
         },
         "mode": "markers",
         "name": "B",
         "text": "",
         "type": "scatter",
         "x": [
          -1.8158066953241796,
          -0.1532154842648918,
          -0.9087624017607344,
          -0.715856808084371,
          -0.7771907606069965,
          0.7351655714121069,
          -0.4340066741738052,
          -1.3736300616332289,
          -1.0910279061608386,
          -0.17715896700797562,
          0.7275992622753656,
          0.5719735501374622,
          0.1098535938239624,
          -0.7597209632957299,
          -1.1109900639357473,
          0.6925199043660469,
          0.7199999841009106,
          0.2873822213373869,
          -0.15420187444897465,
          0.008442848745635374,
          1.664921806311949,
          -1.3569852377652243,
          -0.23428268105986771,
          -1.9065024563371196,
          -1.8490542212588523,
          -0.9960295932103904,
          0.02314877232934917,
          1.7212068472548776,
          1.9013955197338033,
          -2.35253242851831,
          0.03040455800019841,
          0.21563700808987987,
          -0.4597229928437187,
          -0.7278607880726488,
          0.8877592700568671,
          0.4871704573515719,
          1.2769068225620719,
          0.18018462540389163,
          0.8649699512695074,
          -0.7445046848660324,
          -1.2890167760381392,
          0.5217925979706663,
          0.9389152424518948,
          0.9410136911071448,
          1.5734356802920477,
          1.4534955851108855,
          1.6379349099164204,
          2.051825040464344,
          -0.8723796481954755,
          0.6451170978250104,
          0.7996633553911477,
          -0.3758811118599081,
          0.8368783860108395,
          1.1672923335724237,
          1.9989574214327248,
          -0.9803635632487172,
          1.0272909775625343,
          -1.6470378469496967,
          -1.184745488394547,
          1.240609769403117,
          2.561043412628804,
          -0.5143615665306566,
          0.7449677226155068,
          -0.6201547168031414,
          0.6061735043418385,
          -0.6917606684322949,
          -0.4568162851669821,
          -1.4467767829303313,
          -0.4197208185978394,
          -0.27718742129594875,
          0.37837120923512646,
          1.2126642629518882,
          0.0393734817792643,
          -0.26340619911106694,
          -0.8351980357082801,
          -0.7959718758615214,
          0.6618589942538259,
          -0.4809145778698422,
          -0.5892785393324456,
          -0.25863477635135435,
          -0.6227807044887773,
          0.6993285851779953,
          -0.45746330629230986,
          -1.1643534645330045,
          1.3236560625253453,
          -0.6252302065588559,
          0.3150282283965467,
          1.137719962772657,
          0.514273522992465,
          0.17608458637176752,
          -0.6721697934374377,
          -0.9601912730760108,
          -0.9638044403008365,
          -0.35406490944069513,
          0.27014409824766095,
          0.7873120088931022,
          -0.4853469923359565,
          -0.35362079253020634,
          0.35722262241125424,
          -0.3869299705042295
         ],
         "xaxis": "x5",
         "y": [
          1.6962518426992457,
          -0.982193639127554,
          -2.1197856966587434,
          0.38054873370497094,
          -1.361275653580498,
          0.3019613106241735,
          0.5737655133927131,
          1.0945211359269573,
          0.5495438835085136,
          1.0344716229317987,
          1.5145618337839344,
          -1.322817574245342,
          -1.1907820282214117,
          -0.528632777074625,
          1.3012340540546952,
          -1.0689263129920183,
          -2.84496629837369,
          0.046135758701366845,
          -0.24639563344520166,
          0.25128120296962836,
          0.36830940996399714,
          0.12031333614256282,
          -0.8010686487431482,
          -1.9327299966087452,
          0.7590071315508242,
          0.09728845697523336,
          -0.6894331452347948,
          0.11100076999006471,
          0.8004367772526133,
          -0.3793003097447568,
          -0.010050251411239644,
          -1.157220777492313,
          0.2488904704855463,
          0.8320141897637261,
          -0.12460299783173051,
          -0.9910263142307557,
          0.7372791083222395,
          0.24955057188182372,
          -0.8396515362306939,
          -0.6309241374644079,
          -0.279841188171254,
          -0.16186589249778788,
          0.8051370085683334,
          0.6540567389457904,
          -1.5798108304946163,
          0.20639652702521474,
          0.39333903402492476,
          -0.4810666724010602,
          -0.3800959479086856,
          -0.3077260319677847,
          1.5208418364763474,
          0.7892210421725961,
          1.8591446122703879,
          1.7034420043231697,
          -0.10683091684168655,
          -0.4775338738383854,
          -1.0079070689317284,
          -1.0112734900097282,
          0.7111182117640453,
          1.0486950375562232,
          -0.26391919214625303,
          -0.4113679094580015,
          -0.2605367678626934,
          -0.47530461482159114,
          -0.053143688579886626,
          2.3967430629102333,
          1.8709284111420503,
          0.25187514496472596,
          -0.02397569055830253,
          -0.09829431482066459,
          0.09403916694330741,
          0.06531118931264279,
          1.7638042278748831,
          1.0049939775004493,
          -0.6137431487150112,
          0.6570327734296777,
          -0.6289093946870737,
          0.5903155802129443,
          -1.2205401647556249,
          0.16685846375701371,
          -0.7512178872411197,
          0.08940485042033164,
          0.7271257315355758,
          -0.8861325348030998,
          -0.11871209816686926,
          -1.4093783931195987,
          -0.1736218521324273,
          -1.556684785992902,
          0.2470908600596826,
          0.056697008587313615,
          0.7871147589497839,
          -0.8801147388503565,
          0.3565693844796211,
          -0.3783507036715136,
          -0.5636310145664183,
          -0.18403442117576474,
          0.7945894980989373,
          0.8203119259602427,
          -0.8631082962731352,
          0.21257593940078842
         ],
         "yaxis": "y5"
        },
        {
         "histfunc": "count",
         "histnorm": "",
         "marker": {
          "color": "rgba(55, 128, 191, 1.0)",
          "line": {
           "color": "#4D5663",
           "width": 1.3
          }
         },
         "name": "B",
         "nbinsx": 10,
         "opacity": 0.8,
         "orientation": "v",
         "type": "histogram",
         "x": [
          1.6962518426992457,
          -0.982193639127554,
          -2.1197856966587434,
          0.38054873370497094,
          -1.361275653580498,
          0.3019613106241735,
          0.5737655133927131,
          1.0945211359269573,
          0.5495438835085136,
          1.0344716229317987,
          1.5145618337839344,
          -1.322817574245342,
          -1.1907820282214117,
          -0.528632777074625,
          1.3012340540546952,
          -1.0689263129920183,
          -2.84496629837369,
          0.046135758701366845,
          -0.24639563344520166,
          0.25128120296962836,
          0.36830940996399714,
          0.12031333614256282,
          -0.8010686487431482,
          -1.9327299966087452,
          0.7590071315508242,
          0.09728845697523336,
          -0.6894331452347948,
          0.11100076999006471,
          0.8004367772526133,
          -0.3793003097447568,
          -0.010050251411239644,
          -1.157220777492313,
          0.2488904704855463,
          0.8320141897637261,
          -0.12460299783173051,
          -0.9910263142307557,
          0.7372791083222395,
          0.24955057188182372,
          -0.8396515362306939,
          -0.6309241374644079,
          -0.279841188171254,
          -0.16186589249778788,
          0.8051370085683334,
          0.6540567389457904,
          -1.5798108304946163,
          0.20639652702521474,
          0.39333903402492476,
          -0.4810666724010602,
          -0.3800959479086856,
          -0.3077260319677847,
          1.5208418364763474,
          0.7892210421725961,
          1.8591446122703879,
          1.7034420043231697,
          -0.10683091684168655,
          -0.4775338738383854,
          -1.0079070689317284,
          -1.0112734900097282,
          0.7111182117640453,
          1.0486950375562232,
          -0.26391919214625303,
          -0.4113679094580015,
          -0.2605367678626934,
          -0.47530461482159114,
          -0.053143688579886626,
          2.3967430629102333,
          1.8709284111420503,
          0.25187514496472596,
          -0.02397569055830253,
          -0.09829431482066459,
          0.09403916694330741,
          0.06531118931264279,
          1.7638042278748831,
          1.0049939775004493,
          -0.6137431487150112,
          0.6570327734296777,
          -0.6289093946870737,
          0.5903155802129443,
          -1.2205401647556249,
          0.16685846375701371,
          -0.7512178872411197,
          0.08940485042033164,
          0.7271257315355758,
          -0.8861325348030998,
          -0.11871209816686926,
          -1.4093783931195987,
          -0.1736218521324273,
          -1.556684785992902,
          0.2470908600596826,
          0.056697008587313615,
          0.7871147589497839,
          -0.8801147388503565,
          0.3565693844796211,
          -0.3783507036715136,
          -0.5636310145664183,
          -0.18403442117576474,
          0.7945894980989373,
          0.8203119259602427,
          -0.8631082962731352,
          0.21257593940078842
         ],
         "xaxis": "x6",
         "yaxis": "y6"
        },
        {
         "line": {
          "color": "rgba(128, 128, 128, 1.0)",
          "dash": "solid",
          "shape": "linear",
          "width": 1.3
         },
         "marker": {
          "size": 2,
          "symbol": "circle"
         },
         "mode": "markers",
         "name": "B",
         "text": "",
         "type": "scatter",
         "x": [
          -0.7385392085312609,
          0.6059015187854616,
          1.122739800613316,
          1.3453235784911914,
          0.3269935992661774,
          -1.0707310105993268,
          -0.3806197642092073,
          1.6409229266368266,
          -2.352066299648475,
          -0.9994785837613791,
          -0.6912934823216503,
          1.2826438376675886,
          0.10291044180972408,
          0.3349043094372565,
          -1.0055135614015855,
          0.9757634381272896,
          0.9079558995973859,
          -0.46594652589269664,
          0.8060052181025692,
          1.1165653993576703,
          0.27351976698254615,
          1.2117888986596437,
          0.6771514068440193,
          0.39219000665164555,
          0.3479770692323999,
          1.2563752513554332,
          -1.1979478266842263,
          -1.78307557243645,
          -0.7562741622749357,
          -0.2974990576728704,
          -0.1151922607598481,
          1.311871447079243,
          1.9289668587901412,
          1.0447706767606724,
          -0.3002488998726798,
          0.16269844415688542,
          0.8631392392988955,
          -0.7411929665425697,
          0.5616519838700285,
          -0.3131147621350836,
          -0.6069109587105764,
          -1.447767624550431,
          -1.442722977432391,
          -0.6919784434260245,
          -0.8831316251819575,
          -0.776479665148661,
          1.1172122351362055,
          1.2176337093966687,
          1.5476467707595074,
          0.3626072098823158,
          -1.0983325162443291,
          -1.383177292817952,
          1.9628058171277503,
          -0.055803093732660805,
          -1.5747713332299496,
          -0.26532393249082487,
          0.5479439877410442,
          1.5535865364644714,
          -0.47659834301066384,
          0.2672767984483275,
          -0.8961147350469946,
          -0.06471050710422788,
          -0.5905964775463705,
          0.7655941714589244,
          -0.31953091828895985,
          0.06789288352679154,
          -1.422263846816249,
          -0.801161627353756,
          0.6188842280311928,
          2.028647190875111,
          -0.741868678745086,
          1.6069381796445703,
          -0.6690556554555435,
          -0.063584543693092,
          0.6246448471547272,
          -0.4216210453943756,
          -0.8640390041112331,
          0.5253639742208898,
          -0.48438019081842754,
          0.5369509248484133,
          0.32057822601106967,
          -1.8760068692251701,
          0.13126982972121115,
          0.2970202750556522,
          0.31359419559538876,
          -0.3971136117430385,
          -0.6860056529632396,
          -0.8962827751063993,
          0.0025431485827040403,
          0.27089769469654046,
          0.7033910031533249,
          -0.3643665317857516,
          -0.11787071628933615,
          -0.9817195744729845,
          -1.0732541183436184,
          1.2957749565724392,
          -1.4894334754857605,
          0.6917993062855475,
          -0.3556696508654084,
          -0.11742785402261754
         ],
         "xaxis": "x7",
         "y": [
          1.6962518426992457,
          -0.982193639127554,
          -2.1197856966587434,
          0.38054873370497094,
          -1.361275653580498,
          0.3019613106241735,
          0.5737655133927131,
          1.0945211359269573,
          0.5495438835085136,
          1.0344716229317987,
          1.5145618337839344,
          -1.322817574245342,
          -1.1907820282214117,
          -0.528632777074625,
          1.3012340540546952,
          -1.0689263129920183,
          -2.84496629837369,
          0.046135758701366845,
          -0.24639563344520166,
          0.25128120296962836,
          0.36830940996399714,
          0.12031333614256282,
          -0.8010686487431482,
          -1.9327299966087452,
          0.7590071315508242,
          0.09728845697523336,
          -0.6894331452347948,
          0.11100076999006471,
          0.8004367772526133,
          -0.3793003097447568,
          -0.010050251411239644,
          -1.157220777492313,
          0.2488904704855463,
          0.8320141897637261,
          -0.12460299783173051,
          -0.9910263142307557,
          0.7372791083222395,
          0.24955057188182372,
          -0.8396515362306939,
          -0.6309241374644079,
          -0.279841188171254,
          -0.16186589249778788,
          0.8051370085683334,
          0.6540567389457904,
          -1.5798108304946163,
          0.20639652702521474,
          0.39333903402492476,
          -0.4810666724010602,
          -0.3800959479086856,
          -0.3077260319677847,
          1.5208418364763474,
          0.7892210421725961,
          1.8591446122703879,
          1.7034420043231697,
          -0.10683091684168655,
          -0.4775338738383854,
          -1.0079070689317284,
          -1.0112734900097282,
          0.7111182117640453,
          1.0486950375562232,
          -0.26391919214625303,
          -0.4113679094580015,
          -0.2605367678626934,
          -0.47530461482159114,
          -0.053143688579886626,
          2.3967430629102333,
          1.8709284111420503,
          0.25187514496472596,
          -0.02397569055830253,
          -0.09829431482066459,
          0.09403916694330741,
          0.06531118931264279,
          1.7638042278748831,
          1.0049939775004493,
          -0.6137431487150112,
          0.6570327734296777,
          -0.6289093946870737,
          0.5903155802129443,
          -1.2205401647556249,
          0.16685846375701371,
          -0.7512178872411197,
          0.08940485042033164,
          0.7271257315355758,
          -0.8861325348030998,
          -0.11871209816686926,
          -1.4093783931195987,
          -0.1736218521324273,
          -1.556684785992902,
          0.2470908600596826,
          0.056697008587313615,
          0.7871147589497839,
          -0.8801147388503565,
          0.3565693844796211,
          -0.3783507036715136,
          -0.5636310145664183,
          -0.18403442117576474,
          0.7945894980989373,
          0.8203119259602427,
          -0.8631082962731352,
          0.21257593940078842
         ],
         "yaxis": "y7"
        },
        {
         "line": {
          "color": "rgba(128, 128, 128, 1.0)",
          "dash": "solid",
          "shape": "linear",
          "width": 1.3
         },
         "marker": {
          "size": 2,
          "symbol": "circle"
         },
         "mode": "markers",
         "name": "B",
         "text": "",
         "type": "scatter",
         "x": [
          -1.6139200331698593,
          0.1438679806922359,
          -0.6931362890789643,
          0.5293045437878271,
          0.3221349048970399,
          0.10571979308408555,
          -0.24687444774814254,
          1.518751836633535,
          -1.8417441436634612,
          1.1901312662968089,
          1.0452829018107455,
          0.30605659929868206,
          -0.43068673344610603,
          -1.3875533434371963,
          -0.31328259811412107,
          -0.47961676390549984,
          1.325030202070095,
          -0.4449698448561779,
          1.0439278536071046,
          1.5298569917653597,
          -0.49411730219163136,
          0.18378781126397709,
          0.1887592665717357,
          1.1025966370286202,
          1.4506954668482208,
          -2.3261959513491073,
          -0.4550870936241418,
          -0.9292829494272545,
          0.01052435481631606,
          0.04724180974889832,
          -0.592794748419755,
          0.5048698619125271,
          -0.31543236030487437,
          1.0659531865858582,
          -0.8199027965146775,
          0.9665933026153964,
          -0.2267356656419576,
          -0.9656196090197346,
          0.29696010229584796,
          -1.6579526166657388,
          1.2748038036746216,
          -0.12764161793534448,
          -0.05487234560680018,
          0.2861875269503629,
          0.43721364089885206,
          1.6086221484162546,
          -0.7979471094796152,
          -0.5861898093399176,
          1.3377350533309027,
          -0.3739936342499101,
          0.7462187044964173,
          -1.2554014451140587,
          0.5868402650420513,
          0.8703440156057092,
          -0.1742196969932546,
          1.4469818706730642,
          -0.6262021275282917,
          0.08399422005607338,
          -1.8055896023356686,
          -1.3243969569382086,
          1.1345389701396054,
          0.2481429357286683,
          0.2835512541345572,
          -0.6881976210702818,
          -1.0120345386137457,
          -0.3034886605647908,
          0.11398208922115317,
          0.36076317300524025,
          -0.5169099907753333,
          1.660678219041089,
          0.02712667239714875,
          -2.039741784619864,
          -0.2805689576358341,
          1.07484873721293,
          -0.3521633386079611,
          0.02930939901426263,
          -2.5392183963702495,
          -0.1852718250188313,
          0.13784622935873658,
          -0.5808272711014993,
          -0.5694492380190268,
          0.3574733700727333,
          -0.5989894269618654,
          0.1773981082301825,
          -2.5437514467559863,
          0.8468484480608329,
          0.7898473428685026,
          0.7168791240146745,
          0.18038311950933206,
          0.19470310432542945,
          -0.6880783920433272,
          -1.2336408453838985,
          -0.9501503471607181,
          0.36047791513110083,
          -2.3000859597709953,
          -0.5648727722864505,
          0.07535442124114042,
          -1.0231862796219837,
          -0.2286057647331581,
          1.6520351190666764
         ],
         "xaxis": "x8",
         "y": [
          1.6962518426992457,
          -0.982193639127554,
          -2.1197856966587434,
          0.38054873370497094,
          -1.361275653580498,
          0.3019613106241735,
          0.5737655133927131,
          1.0945211359269573,
          0.5495438835085136,
          1.0344716229317987,
          1.5145618337839344,
          -1.322817574245342,
          -1.1907820282214117,
          -0.528632777074625,
          1.3012340540546952,
          -1.0689263129920183,
          -2.84496629837369,
          0.046135758701366845,
          -0.24639563344520166,
          0.25128120296962836,
          0.36830940996399714,
          0.12031333614256282,
          -0.8010686487431482,
          -1.9327299966087452,
          0.7590071315508242,
          0.09728845697523336,
          -0.6894331452347948,
          0.11100076999006471,
          0.8004367772526133,
          -0.3793003097447568,
          -0.010050251411239644,
          -1.157220777492313,
          0.2488904704855463,
          0.8320141897637261,
          -0.12460299783173051,
          -0.9910263142307557,
          0.7372791083222395,
          0.24955057188182372,
          -0.8396515362306939,
          -0.6309241374644079,
          -0.279841188171254,
          -0.16186589249778788,
          0.8051370085683334,
          0.6540567389457904,
          -1.5798108304946163,
          0.20639652702521474,
          0.39333903402492476,
          -0.4810666724010602,
          -0.3800959479086856,
          -0.3077260319677847,
          1.5208418364763474,
          0.7892210421725961,
          1.8591446122703879,
          1.7034420043231697,
          -0.10683091684168655,
          -0.4775338738383854,
          -1.0079070689317284,
          -1.0112734900097282,
          0.7111182117640453,
          1.0486950375562232,
          -0.26391919214625303,
          -0.4113679094580015,
          -0.2605367678626934,
          -0.47530461482159114,
          -0.053143688579886626,
          2.3967430629102333,
          1.8709284111420503,
          0.25187514496472596,
          -0.02397569055830253,
          -0.09829431482066459,
          0.09403916694330741,
          0.06531118931264279,
          1.7638042278748831,
          1.0049939775004493,
          -0.6137431487150112,
          0.6570327734296777,
          -0.6289093946870737,
          0.5903155802129443,
          -1.2205401647556249,
          0.16685846375701371,
          -0.7512178872411197,
          0.08940485042033164,
          0.7271257315355758,
          -0.8861325348030998,
          -0.11871209816686926,
          -1.4093783931195987,
          -0.1736218521324273,
          -1.556684785992902,
          0.2470908600596826,
          0.056697008587313615,
          0.7871147589497839,
          -0.8801147388503565,
          0.3565693844796211,
          -0.3783507036715136,
          -0.5636310145664183,
          -0.18403442117576474,
          0.7945894980989373,
          0.8203119259602427,
          -0.8631082962731352,
          0.21257593940078842
         ],
         "yaxis": "y8"
        },
        {
         "line": {
          "color": "rgba(128, 128, 128, 1.0)",
          "dash": "solid",
          "shape": "linear",
          "width": 1.3
         },
         "marker": {
          "size": 2,
          "symbol": "circle"
         },
         "mode": "markers",
         "name": "C",
         "text": "",
         "type": "scatter",
         "x": [
          -1.8158066953241796,
          -0.1532154842648918,
          -0.9087624017607344,
          -0.715856808084371,
          -0.7771907606069965,
          0.7351655714121069,
          -0.4340066741738052,
          -1.3736300616332289,
          -1.0910279061608386,
          -0.17715896700797562,
          0.7275992622753656,
          0.5719735501374622,
          0.1098535938239624,
          -0.7597209632957299,
          -1.1109900639357473,
          0.6925199043660469,
          0.7199999841009106,
          0.2873822213373869,
          -0.15420187444897465,
          0.008442848745635374,
          1.664921806311949,
          -1.3569852377652243,
          -0.23428268105986771,
          -1.9065024563371196,
          -1.8490542212588523,
          -0.9960295932103904,
          0.02314877232934917,
          1.7212068472548776,
          1.9013955197338033,
          -2.35253242851831,
          0.03040455800019841,
          0.21563700808987987,
          -0.4597229928437187,
          -0.7278607880726488,
          0.8877592700568671,
          0.4871704573515719,
          1.2769068225620719,
          0.18018462540389163,
          0.8649699512695074,
          -0.7445046848660324,
          -1.2890167760381392,
          0.5217925979706663,
          0.9389152424518948,
          0.9410136911071448,
          1.5734356802920477,
          1.4534955851108855,
          1.6379349099164204,
          2.051825040464344,
          -0.8723796481954755,
          0.6451170978250104,
          0.7996633553911477,
          -0.3758811118599081,
          0.8368783860108395,
          1.1672923335724237,
          1.9989574214327248,
          -0.9803635632487172,
          1.0272909775625343,
          -1.6470378469496967,
          -1.184745488394547,
          1.240609769403117,
          2.561043412628804,
          -0.5143615665306566,
          0.7449677226155068,
          -0.6201547168031414,
          0.6061735043418385,
          -0.6917606684322949,
          -0.4568162851669821,
          -1.4467767829303313,
          -0.4197208185978394,
          -0.27718742129594875,
          0.37837120923512646,
          1.2126642629518882,
          0.0393734817792643,
          -0.26340619911106694,
          -0.8351980357082801,
          -0.7959718758615214,
          0.6618589942538259,
          -0.4809145778698422,
          -0.5892785393324456,
          -0.25863477635135435,
          -0.6227807044887773,
          0.6993285851779953,
          -0.45746330629230986,
          -1.1643534645330045,
          1.3236560625253453,
          -0.6252302065588559,
          0.3150282283965467,
          1.137719962772657,
          0.514273522992465,
          0.17608458637176752,
          -0.6721697934374377,
          -0.9601912730760108,
          -0.9638044403008365,
          -0.35406490944069513,
          0.27014409824766095,
          0.7873120088931022,
          -0.4853469923359565,
          -0.35362079253020634,
          0.35722262241125424,
          -0.3869299705042295
         ],
         "xaxis": "x9",
         "y": [
          -0.7385392085312609,
          0.6059015187854616,
          1.122739800613316,
          1.3453235784911914,
          0.3269935992661774,
          -1.0707310105993268,
          -0.3806197642092073,
          1.6409229266368266,
          -2.352066299648475,
          -0.9994785837613791,
          -0.6912934823216503,
          1.2826438376675886,
          0.10291044180972408,
          0.3349043094372565,
          -1.0055135614015855,
          0.9757634381272896,
          0.9079558995973859,
          -0.46594652589269664,
          0.8060052181025692,
          1.1165653993576703,
          0.27351976698254615,
          1.2117888986596437,
          0.6771514068440193,
          0.39219000665164555,
          0.3479770692323999,
          1.2563752513554332,
          -1.1979478266842263,
          -1.78307557243645,
          -0.7562741622749357,
          -0.2974990576728704,
          -0.1151922607598481,
          1.311871447079243,
          1.9289668587901412,
          1.0447706767606724,
          -0.3002488998726798,
          0.16269844415688542,
          0.8631392392988955,
          -0.7411929665425697,
          0.5616519838700285,
          -0.3131147621350836,
          -0.6069109587105764,
          -1.447767624550431,
          -1.442722977432391,
          -0.6919784434260245,
          -0.8831316251819575,
          -0.776479665148661,
          1.1172122351362055,
          1.2176337093966687,
          1.5476467707595074,
          0.3626072098823158,
          -1.0983325162443291,
          -1.383177292817952,
          1.9628058171277503,
          -0.055803093732660805,
          -1.5747713332299496,
          -0.26532393249082487,
          0.5479439877410442,
          1.5535865364644714,
          -0.47659834301066384,
          0.2672767984483275,
          -0.8961147350469946,
          -0.06471050710422788,
          -0.5905964775463705,
          0.7655941714589244,
          -0.31953091828895985,
          0.06789288352679154,
          -1.422263846816249,
          -0.801161627353756,
          0.6188842280311928,
          2.028647190875111,
          -0.741868678745086,
          1.6069381796445703,
          -0.6690556554555435,
          -0.063584543693092,
          0.6246448471547272,
          -0.4216210453943756,
          -0.8640390041112331,
          0.5253639742208898,
          -0.48438019081842754,
          0.5369509248484133,
          0.32057822601106967,
          -1.8760068692251701,
          0.13126982972121115,
          0.2970202750556522,
          0.31359419559538876,
          -0.3971136117430385,
          -0.6860056529632396,
          -0.8962827751063993,
          0.0025431485827040403,
          0.27089769469654046,
          0.7033910031533249,
          -0.3643665317857516,
          -0.11787071628933615,
          -0.9817195744729845,
          -1.0732541183436184,
          1.2957749565724392,
          -1.4894334754857605,
          0.6917993062855475,
          -0.3556696508654084,
          -0.11742785402261754
         ],
         "yaxis": "y9"
        },
        {
         "line": {
          "color": "rgba(128, 128, 128, 1.0)",
          "dash": "solid",
          "shape": "linear",
          "width": 1.3
         },
         "marker": {
          "size": 2,
          "symbol": "circle"
         },
         "mode": "markers",
         "name": "C",
         "text": "",
         "type": "scatter",
         "x": [
          1.6962518426992457,
          -0.982193639127554,
          -2.1197856966587434,
          0.38054873370497094,
          -1.361275653580498,
          0.3019613106241735,
          0.5737655133927131,
          1.0945211359269573,
          0.5495438835085136,
          1.0344716229317987,
          1.5145618337839344,
          -1.322817574245342,
          -1.1907820282214117,
          -0.528632777074625,
          1.3012340540546952,
          -1.0689263129920183,
          -2.84496629837369,
          0.046135758701366845,
          -0.24639563344520166,
          0.25128120296962836,
          0.36830940996399714,
          0.12031333614256282,
          -0.8010686487431482,
          -1.9327299966087452,
          0.7590071315508242,
          0.09728845697523336,
          -0.6894331452347948,
          0.11100076999006471,
          0.8004367772526133,
          -0.3793003097447568,
          -0.010050251411239644,
          -1.157220777492313,
          0.2488904704855463,
          0.8320141897637261,
          -0.12460299783173051,
          -0.9910263142307557,
          0.7372791083222395,
          0.24955057188182372,
          -0.8396515362306939,
          -0.6309241374644079,
          -0.279841188171254,
          -0.16186589249778788,
          0.8051370085683334,
          0.6540567389457904,
          -1.5798108304946163,
          0.20639652702521474,
          0.39333903402492476,
          -0.4810666724010602,
          -0.3800959479086856,
          -0.3077260319677847,
          1.5208418364763474,
          0.7892210421725961,
          1.8591446122703879,
          1.7034420043231697,
          -0.10683091684168655,
          -0.4775338738383854,
          -1.0079070689317284,
          -1.0112734900097282,
          0.7111182117640453,
          1.0486950375562232,
          -0.26391919214625303,
          -0.4113679094580015,
          -0.2605367678626934,
          -0.47530461482159114,
          -0.053143688579886626,
          2.3967430629102333,
          1.8709284111420503,
          0.25187514496472596,
          -0.02397569055830253,
          -0.09829431482066459,
          0.09403916694330741,
          0.06531118931264279,
          1.7638042278748831,
          1.0049939775004493,
          -0.6137431487150112,
          0.6570327734296777,
          -0.6289093946870737,
          0.5903155802129443,
          -1.2205401647556249,
          0.16685846375701371,
          -0.7512178872411197,
          0.08940485042033164,
          0.7271257315355758,
          -0.8861325348030998,
          -0.11871209816686926,
          -1.4093783931195987,
          -0.1736218521324273,
          -1.556684785992902,
          0.2470908600596826,
          0.056697008587313615,
          0.7871147589497839,
          -0.8801147388503565,
          0.3565693844796211,
          -0.3783507036715136,
          -0.5636310145664183,
          -0.18403442117576474,
          0.7945894980989373,
          0.8203119259602427,
          -0.8631082962731352,
          0.21257593940078842
         ],
         "xaxis": "x10",
         "y": [
          -0.7385392085312609,
          0.6059015187854616,
          1.122739800613316,
          1.3453235784911914,
          0.3269935992661774,
          -1.0707310105993268,
          -0.3806197642092073,
          1.6409229266368266,
          -2.352066299648475,
          -0.9994785837613791,
          -0.6912934823216503,
          1.2826438376675886,
          0.10291044180972408,
          0.3349043094372565,
          -1.0055135614015855,
          0.9757634381272896,
          0.9079558995973859,
          -0.46594652589269664,
          0.8060052181025692,
          1.1165653993576703,
          0.27351976698254615,
          1.2117888986596437,
          0.6771514068440193,
          0.39219000665164555,
          0.3479770692323999,
          1.2563752513554332,
          -1.1979478266842263,
          -1.78307557243645,
          -0.7562741622749357,
          -0.2974990576728704,
          -0.1151922607598481,
          1.311871447079243,
          1.9289668587901412,
          1.0447706767606724,
          -0.3002488998726798,
          0.16269844415688542,
          0.8631392392988955,
          -0.7411929665425697,
          0.5616519838700285,
          -0.3131147621350836,
          -0.6069109587105764,
          -1.447767624550431,
          -1.442722977432391,
          -0.6919784434260245,
          -0.8831316251819575,
          -0.776479665148661,
          1.1172122351362055,
          1.2176337093966687,
          1.5476467707595074,
          0.3626072098823158,
          -1.0983325162443291,
          -1.383177292817952,
          1.9628058171277503,
          -0.055803093732660805,
          -1.5747713332299496,
          -0.26532393249082487,
          0.5479439877410442,
          1.5535865364644714,
          -0.47659834301066384,
          0.2672767984483275,
          -0.8961147350469946,
          -0.06471050710422788,
          -0.5905964775463705,
          0.7655941714589244,
          -0.31953091828895985,
          0.06789288352679154,
          -1.422263846816249,
          -0.801161627353756,
          0.6188842280311928,
          2.028647190875111,
          -0.741868678745086,
          1.6069381796445703,
          -0.6690556554555435,
          -0.063584543693092,
          0.6246448471547272,
          -0.4216210453943756,
          -0.8640390041112331,
          0.5253639742208898,
          -0.48438019081842754,
          0.5369509248484133,
          0.32057822601106967,
          -1.8760068692251701,
          0.13126982972121115,
          0.2970202750556522,
          0.31359419559538876,
          -0.3971136117430385,
          -0.6860056529632396,
          -0.8962827751063993,
          0.0025431485827040403,
          0.27089769469654046,
          0.7033910031533249,
          -0.3643665317857516,
          -0.11787071628933615,
          -0.9817195744729845,
          -1.0732541183436184,
          1.2957749565724392,
          -1.4894334754857605,
          0.6917993062855475,
          -0.3556696508654084,
          -0.11742785402261754
         ],
         "yaxis": "y10"
        },
        {
         "histfunc": "count",
         "histnorm": "",
         "marker": {
          "color": "rgba(50, 171, 96, 1.0)",
          "line": {
           "color": "#4D5663",
           "width": 1.3
          }
         },
         "name": "C",
         "nbinsx": 10,
         "opacity": 0.8,
         "orientation": "v",
         "type": "histogram",
         "x": [
          -0.7385392085312609,
          0.6059015187854616,
          1.122739800613316,
          1.3453235784911914,
          0.3269935992661774,
          -1.0707310105993268,
          -0.3806197642092073,
          1.6409229266368266,
          -2.352066299648475,
          -0.9994785837613791,
          -0.6912934823216503,
          1.2826438376675886,
          0.10291044180972408,
          0.3349043094372565,
          -1.0055135614015855,
          0.9757634381272896,
          0.9079558995973859,
          -0.46594652589269664,
          0.8060052181025692,
          1.1165653993576703,
          0.27351976698254615,
          1.2117888986596437,
          0.6771514068440193,
          0.39219000665164555,
          0.3479770692323999,
          1.2563752513554332,
          -1.1979478266842263,
          -1.78307557243645,
          -0.7562741622749357,
          -0.2974990576728704,
          -0.1151922607598481,
          1.311871447079243,
          1.9289668587901412,
          1.0447706767606724,
          -0.3002488998726798,
          0.16269844415688542,
          0.8631392392988955,
          -0.7411929665425697,
          0.5616519838700285,
          -0.3131147621350836,
          -0.6069109587105764,
          -1.447767624550431,
          -1.442722977432391,
          -0.6919784434260245,
          -0.8831316251819575,
          -0.776479665148661,
          1.1172122351362055,
          1.2176337093966687,
          1.5476467707595074,
          0.3626072098823158,
          -1.0983325162443291,
          -1.383177292817952,
          1.9628058171277503,
          -0.055803093732660805,
          -1.5747713332299496,
          -0.26532393249082487,
          0.5479439877410442,
          1.5535865364644714,
          -0.47659834301066384,
          0.2672767984483275,
          -0.8961147350469946,
          -0.06471050710422788,
          -0.5905964775463705,
          0.7655941714589244,
          -0.31953091828895985,
          0.06789288352679154,
          -1.422263846816249,
          -0.801161627353756,
          0.6188842280311928,
          2.028647190875111,
          -0.741868678745086,
          1.6069381796445703,
          -0.6690556554555435,
          -0.063584543693092,
          0.6246448471547272,
          -0.4216210453943756,
          -0.8640390041112331,
          0.5253639742208898,
          -0.48438019081842754,
          0.5369509248484133,
          0.32057822601106967,
          -1.8760068692251701,
          0.13126982972121115,
          0.2970202750556522,
          0.31359419559538876,
          -0.3971136117430385,
          -0.6860056529632396,
          -0.8962827751063993,
          0.0025431485827040403,
          0.27089769469654046,
          0.7033910031533249,
          -0.3643665317857516,
          -0.11787071628933615,
          -0.9817195744729845,
          -1.0732541183436184,
          1.2957749565724392,
          -1.4894334754857605,
          0.6917993062855475,
          -0.3556696508654084,
          -0.11742785402261754
         ],
         "xaxis": "x11",
         "yaxis": "y11"
        },
        {
         "line": {
          "color": "rgba(128, 128, 128, 1.0)",
          "dash": "solid",
          "shape": "linear",
          "width": 1.3
         },
         "marker": {
          "size": 2,
          "symbol": "circle"
         },
         "mode": "markers",
         "name": "C",
         "text": "",
         "type": "scatter",
         "x": [
          -1.6139200331698593,
          0.1438679806922359,
          -0.6931362890789643,
          0.5293045437878271,
          0.3221349048970399,
          0.10571979308408555,
          -0.24687444774814254,
          1.518751836633535,
          -1.8417441436634612,
          1.1901312662968089,
          1.0452829018107455,
          0.30605659929868206,
          -0.43068673344610603,
          -1.3875533434371963,
          -0.31328259811412107,
          -0.47961676390549984,
          1.325030202070095,
          -0.4449698448561779,
          1.0439278536071046,
          1.5298569917653597,
          -0.49411730219163136,
          0.18378781126397709,
          0.1887592665717357,
          1.1025966370286202,
          1.4506954668482208,
          -2.3261959513491073,
          -0.4550870936241418,
          -0.9292829494272545,
          0.01052435481631606,
          0.04724180974889832,
          -0.592794748419755,
          0.5048698619125271,
          -0.31543236030487437,
          1.0659531865858582,
          -0.8199027965146775,
          0.9665933026153964,
          -0.2267356656419576,
          -0.9656196090197346,
          0.29696010229584796,
          -1.6579526166657388,
          1.2748038036746216,
          -0.12764161793534448,
          -0.05487234560680018,
          0.2861875269503629,
          0.43721364089885206,
          1.6086221484162546,
          -0.7979471094796152,
          -0.5861898093399176,
          1.3377350533309027,
          -0.3739936342499101,
          0.7462187044964173,
          -1.2554014451140587,
          0.5868402650420513,
          0.8703440156057092,
          -0.1742196969932546,
          1.4469818706730642,
          -0.6262021275282917,
          0.08399422005607338,
          -1.8055896023356686,
          -1.3243969569382086,
          1.1345389701396054,
          0.2481429357286683,
          0.2835512541345572,
          -0.6881976210702818,
          -1.0120345386137457,
          -0.3034886605647908,
          0.11398208922115317,
          0.36076317300524025,
          -0.5169099907753333,
          1.660678219041089,
          0.02712667239714875,
          -2.039741784619864,
          -0.2805689576358341,
          1.07484873721293,
          -0.3521633386079611,
          0.02930939901426263,
          -2.5392183963702495,
          -0.1852718250188313,
          0.13784622935873658,
          -0.5808272711014993,
          -0.5694492380190268,
          0.3574733700727333,
          -0.5989894269618654,
          0.1773981082301825,
          -2.5437514467559863,
          0.8468484480608329,
          0.7898473428685026,
          0.7168791240146745,
          0.18038311950933206,
          0.19470310432542945,
          -0.6880783920433272,
          -1.2336408453838985,
          -0.9501503471607181,
          0.36047791513110083,
          -2.3000859597709953,
          -0.5648727722864505,
          0.07535442124114042,
          -1.0231862796219837,
          -0.2286057647331581,
          1.6520351190666764
         ],
         "xaxis": "x12",
         "y": [
          -0.7385392085312609,
          0.6059015187854616,
          1.122739800613316,
          1.3453235784911914,
          0.3269935992661774,
          -1.0707310105993268,
          -0.3806197642092073,
          1.6409229266368266,
          -2.352066299648475,
          -0.9994785837613791,
          -0.6912934823216503,
          1.2826438376675886,
          0.10291044180972408,
          0.3349043094372565,
          -1.0055135614015855,
          0.9757634381272896,
          0.9079558995973859,
          -0.46594652589269664,
          0.8060052181025692,
          1.1165653993576703,
          0.27351976698254615,
          1.2117888986596437,
          0.6771514068440193,
          0.39219000665164555,
          0.3479770692323999,
          1.2563752513554332,
          -1.1979478266842263,
          -1.78307557243645,
          -0.7562741622749357,
          -0.2974990576728704,
          -0.1151922607598481,
          1.311871447079243,
          1.9289668587901412,
          1.0447706767606724,
          -0.3002488998726798,
          0.16269844415688542,
          0.8631392392988955,
          -0.7411929665425697,
          0.5616519838700285,
          -0.3131147621350836,
          -0.6069109587105764,
          -1.447767624550431,
          -1.442722977432391,
          -0.6919784434260245,
          -0.8831316251819575,
          -0.776479665148661,
          1.1172122351362055,
          1.2176337093966687,
          1.5476467707595074,
          0.3626072098823158,
          -1.0983325162443291,
          -1.383177292817952,
          1.9628058171277503,
          -0.055803093732660805,
          -1.5747713332299496,
          -0.26532393249082487,
          0.5479439877410442,
          1.5535865364644714,
          -0.47659834301066384,
          0.2672767984483275,
          -0.8961147350469946,
          -0.06471050710422788,
          -0.5905964775463705,
          0.7655941714589244,
          -0.31953091828895985,
          0.06789288352679154,
          -1.422263846816249,
          -0.801161627353756,
          0.6188842280311928,
          2.028647190875111,
          -0.741868678745086,
          1.6069381796445703,
          -0.6690556554555435,
          -0.063584543693092,
          0.6246448471547272,
          -0.4216210453943756,
          -0.8640390041112331,
          0.5253639742208898,
          -0.48438019081842754,
          0.5369509248484133,
          0.32057822601106967,
          -1.8760068692251701,
          0.13126982972121115,
          0.2970202750556522,
          0.31359419559538876,
          -0.3971136117430385,
          -0.6860056529632396,
          -0.8962827751063993,
          0.0025431485827040403,
          0.27089769469654046,
          0.7033910031533249,
          -0.3643665317857516,
          -0.11787071628933615,
          -0.9817195744729845,
          -1.0732541183436184,
          1.2957749565724392,
          -1.4894334754857605,
          0.6917993062855475,
          -0.3556696508654084,
          -0.11742785402261754
         ],
         "yaxis": "y12"
        },
        {
         "line": {
          "color": "rgba(128, 128, 128, 1.0)",
          "dash": "solid",
          "shape": "linear",
          "width": 1.3
         },
         "marker": {
          "size": 2,
          "symbol": "circle"
         },
         "mode": "markers",
         "name": "D",
         "text": "",
         "type": "scatter",
         "x": [
          -1.8158066953241796,
          -0.1532154842648918,
          -0.9087624017607344,
          -0.715856808084371,
          -0.7771907606069965,
          0.7351655714121069,
          -0.4340066741738052,
          -1.3736300616332289,
          -1.0910279061608386,
          -0.17715896700797562,
          0.7275992622753656,
          0.5719735501374622,
          0.1098535938239624,
          -0.7597209632957299,
          -1.1109900639357473,
          0.6925199043660469,
          0.7199999841009106,
          0.2873822213373869,
          -0.15420187444897465,
          0.008442848745635374,
          1.664921806311949,
          -1.3569852377652243,
          -0.23428268105986771,
          -1.9065024563371196,
          -1.8490542212588523,
          -0.9960295932103904,
          0.02314877232934917,
          1.7212068472548776,
          1.9013955197338033,
          -2.35253242851831,
          0.03040455800019841,
          0.21563700808987987,
          -0.4597229928437187,
          -0.7278607880726488,
          0.8877592700568671,
          0.4871704573515719,
          1.2769068225620719,
          0.18018462540389163,
          0.8649699512695074,
          -0.7445046848660324,
          -1.2890167760381392,
          0.5217925979706663,
          0.9389152424518948,
          0.9410136911071448,
          1.5734356802920477,
          1.4534955851108855,
          1.6379349099164204,
          2.051825040464344,
          -0.8723796481954755,
          0.6451170978250104,
          0.7996633553911477,
          -0.3758811118599081,
          0.8368783860108395,
          1.1672923335724237,
          1.9989574214327248,
          -0.9803635632487172,
          1.0272909775625343,
          -1.6470378469496967,
          -1.184745488394547,
          1.240609769403117,
          2.561043412628804,
          -0.5143615665306566,
          0.7449677226155068,
          -0.6201547168031414,
          0.6061735043418385,
          -0.6917606684322949,
          -0.4568162851669821,
          -1.4467767829303313,
          -0.4197208185978394,
          -0.27718742129594875,
          0.37837120923512646,
          1.2126642629518882,
          0.0393734817792643,
          -0.26340619911106694,
          -0.8351980357082801,
          -0.7959718758615214,
          0.6618589942538259,
          -0.4809145778698422,
          -0.5892785393324456,
          -0.25863477635135435,
          -0.6227807044887773,
          0.6993285851779953,
          -0.45746330629230986,
          -1.1643534645330045,
          1.3236560625253453,
          -0.6252302065588559,
          0.3150282283965467,
          1.137719962772657,
          0.514273522992465,
          0.17608458637176752,
          -0.6721697934374377,
          -0.9601912730760108,
          -0.9638044403008365,
          -0.35406490944069513,
          0.27014409824766095,
          0.7873120088931022,
          -0.4853469923359565,
          -0.35362079253020634,
          0.35722262241125424,
          -0.3869299705042295
         ],
         "xaxis": "x13",
         "y": [
          -1.6139200331698593,
          0.1438679806922359,
          -0.6931362890789643,
          0.5293045437878271,
          0.3221349048970399,
          0.10571979308408555,
          -0.24687444774814254,
          1.518751836633535,
          -1.8417441436634612,
          1.1901312662968089,
          1.0452829018107455,
          0.30605659929868206,
          -0.43068673344610603,
          -1.3875533434371963,
          -0.31328259811412107,
          -0.47961676390549984,
          1.325030202070095,
          -0.4449698448561779,
          1.0439278536071046,
          1.5298569917653597,
          -0.49411730219163136,
          0.18378781126397709,
          0.1887592665717357,
          1.1025966370286202,
          1.4506954668482208,
          -2.3261959513491073,
          -0.4550870936241418,
          -0.9292829494272545,
          0.01052435481631606,
          0.04724180974889832,
          -0.592794748419755,
          0.5048698619125271,
          -0.31543236030487437,
          1.0659531865858582,
          -0.8199027965146775,
          0.9665933026153964,
          -0.2267356656419576,
          -0.9656196090197346,
          0.29696010229584796,
          -1.6579526166657388,
          1.2748038036746216,
          -0.12764161793534448,
          -0.05487234560680018,
          0.2861875269503629,
          0.43721364089885206,
          1.6086221484162546,
          -0.7979471094796152,
          -0.5861898093399176,
          1.3377350533309027,
          -0.3739936342499101,
          0.7462187044964173,
          -1.2554014451140587,
          0.5868402650420513,
          0.8703440156057092,
          -0.1742196969932546,
          1.4469818706730642,
          -0.6262021275282917,
          0.08399422005607338,
          -1.8055896023356686,
          -1.3243969569382086,
          1.1345389701396054,
          0.2481429357286683,
          0.2835512541345572,
          -0.6881976210702818,
          -1.0120345386137457,
          -0.3034886605647908,
          0.11398208922115317,
          0.36076317300524025,
          -0.5169099907753333,
          1.660678219041089,
          0.02712667239714875,
          -2.039741784619864,
          -0.2805689576358341,
          1.07484873721293,
          -0.3521633386079611,
          0.02930939901426263,
          -2.5392183963702495,
          -0.1852718250188313,
          0.13784622935873658,
          -0.5808272711014993,
          -0.5694492380190268,
          0.3574733700727333,
          -0.5989894269618654,
          0.1773981082301825,
          -2.5437514467559863,
          0.8468484480608329,
          0.7898473428685026,
          0.7168791240146745,
          0.18038311950933206,
          0.19470310432542945,
          -0.6880783920433272,
          -1.2336408453838985,
          -0.9501503471607181,
          0.36047791513110083,
          -2.3000859597709953,
          -0.5648727722864505,
          0.07535442124114042,
          -1.0231862796219837,
          -0.2286057647331581,
          1.6520351190666764
         ],
         "yaxis": "y13"
        },
        {
         "line": {
          "color": "rgba(128, 128, 128, 1.0)",
          "dash": "solid",
          "shape": "linear",
          "width": 1.3
         },
         "marker": {
          "size": 2,
          "symbol": "circle"
         },
         "mode": "markers",
         "name": "D",
         "text": "",
         "type": "scatter",
         "x": [
          1.6962518426992457,
          -0.982193639127554,
          -2.1197856966587434,
          0.38054873370497094,
          -1.361275653580498,
          0.3019613106241735,
          0.5737655133927131,
          1.0945211359269573,
          0.5495438835085136,
          1.0344716229317987,
          1.5145618337839344,
          -1.322817574245342,
          -1.1907820282214117,
          -0.528632777074625,
          1.3012340540546952,
          -1.0689263129920183,
          -2.84496629837369,
          0.046135758701366845,
          -0.24639563344520166,
          0.25128120296962836,
          0.36830940996399714,
          0.12031333614256282,
          -0.8010686487431482,
          -1.9327299966087452,
          0.7590071315508242,
          0.09728845697523336,
          -0.6894331452347948,
          0.11100076999006471,
          0.8004367772526133,
          -0.3793003097447568,
          -0.010050251411239644,
          -1.157220777492313,
          0.2488904704855463,
          0.8320141897637261,
          -0.12460299783173051,
          -0.9910263142307557,
          0.7372791083222395,
          0.24955057188182372,
          -0.8396515362306939,
          -0.6309241374644079,
          -0.279841188171254,
          -0.16186589249778788,
          0.8051370085683334,
          0.6540567389457904,
          -1.5798108304946163,
          0.20639652702521474,
          0.39333903402492476,
          -0.4810666724010602,
          -0.3800959479086856,
          -0.3077260319677847,
          1.5208418364763474,
          0.7892210421725961,
          1.8591446122703879,
          1.7034420043231697,
          -0.10683091684168655,
          -0.4775338738383854,
          -1.0079070689317284,
          -1.0112734900097282,
          0.7111182117640453,
          1.0486950375562232,
          -0.26391919214625303,
          -0.4113679094580015,
          -0.2605367678626934,
          -0.47530461482159114,
          -0.053143688579886626,
          2.3967430629102333,
          1.8709284111420503,
          0.25187514496472596,
          -0.02397569055830253,
          -0.09829431482066459,
          0.09403916694330741,
          0.06531118931264279,
          1.7638042278748831,
          1.0049939775004493,
          -0.6137431487150112,
          0.6570327734296777,
          -0.6289093946870737,
          0.5903155802129443,
          -1.2205401647556249,
          0.16685846375701371,
          -0.7512178872411197,
          0.08940485042033164,
          0.7271257315355758,
          -0.8861325348030998,
          -0.11871209816686926,
          -1.4093783931195987,
          -0.1736218521324273,
          -1.556684785992902,
          0.2470908600596826,
          0.056697008587313615,
          0.7871147589497839,
          -0.8801147388503565,
          0.3565693844796211,
          -0.3783507036715136,
          -0.5636310145664183,
          -0.18403442117576474,
          0.7945894980989373,
          0.8203119259602427,
          -0.8631082962731352,
          0.21257593940078842
         ],
         "xaxis": "x14",
         "y": [
          -1.6139200331698593,
          0.1438679806922359,
          -0.6931362890789643,
          0.5293045437878271,
          0.3221349048970399,
          0.10571979308408555,
          -0.24687444774814254,
          1.518751836633535,
          -1.8417441436634612,
          1.1901312662968089,
          1.0452829018107455,
          0.30605659929868206,
          -0.43068673344610603,
          -1.3875533434371963,
          -0.31328259811412107,
          -0.47961676390549984,
          1.325030202070095,
          -0.4449698448561779,
          1.0439278536071046,
          1.5298569917653597,
          -0.49411730219163136,
          0.18378781126397709,
          0.1887592665717357,
          1.1025966370286202,
          1.4506954668482208,
          -2.3261959513491073,
          -0.4550870936241418,
          -0.9292829494272545,
          0.01052435481631606,
          0.04724180974889832,
          -0.592794748419755,
          0.5048698619125271,
          -0.31543236030487437,
          1.0659531865858582,
          -0.8199027965146775,
          0.9665933026153964,
          -0.2267356656419576,
          -0.9656196090197346,
          0.29696010229584796,
          -1.6579526166657388,
          1.2748038036746216,
          -0.12764161793534448,
          -0.05487234560680018,
          0.2861875269503629,
          0.43721364089885206,
          1.6086221484162546,
          -0.7979471094796152,
          -0.5861898093399176,
          1.3377350533309027,
          -0.3739936342499101,
          0.7462187044964173,
          -1.2554014451140587,
          0.5868402650420513,
          0.8703440156057092,
          -0.1742196969932546,
          1.4469818706730642,
          -0.6262021275282917,
          0.08399422005607338,
          -1.8055896023356686,
          -1.3243969569382086,
          1.1345389701396054,
          0.2481429357286683,
          0.2835512541345572,
          -0.6881976210702818,
          -1.0120345386137457,
          -0.3034886605647908,
          0.11398208922115317,
          0.36076317300524025,
          -0.5169099907753333,
          1.660678219041089,
          0.02712667239714875,
          -2.039741784619864,
          -0.2805689576358341,
          1.07484873721293,
          -0.3521633386079611,
          0.02930939901426263,
          -2.5392183963702495,
          -0.1852718250188313,
          0.13784622935873658,
          -0.5808272711014993,
          -0.5694492380190268,
          0.3574733700727333,
          -0.5989894269618654,
          0.1773981082301825,
          -2.5437514467559863,
          0.8468484480608329,
          0.7898473428685026,
          0.7168791240146745,
          0.18038311950933206,
          0.19470310432542945,
          -0.6880783920433272,
          -1.2336408453838985,
          -0.9501503471607181,
          0.36047791513110083,
          -2.3000859597709953,
          -0.5648727722864505,
          0.07535442124114042,
          -1.0231862796219837,
          -0.2286057647331581,
          1.6520351190666764
         ],
         "yaxis": "y14"
        },
        {
         "line": {
          "color": "rgba(128, 128, 128, 1.0)",
          "dash": "solid",
          "shape": "linear",
          "width": 1.3
         },
         "marker": {
          "size": 2,
          "symbol": "circle"
         },
         "mode": "markers",
         "name": "D",
         "text": "",
         "type": "scatter",
         "x": [
          -0.7385392085312609,
          0.6059015187854616,
          1.122739800613316,
          1.3453235784911914,
          0.3269935992661774,
          -1.0707310105993268,
          -0.3806197642092073,
          1.6409229266368266,
          -2.352066299648475,
          -0.9994785837613791,
          -0.6912934823216503,
          1.2826438376675886,
          0.10291044180972408,
          0.3349043094372565,
          -1.0055135614015855,
          0.9757634381272896,
          0.9079558995973859,
          -0.46594652589269664,
          0.8060052181025692,
          1.1165653993576703,
          0.27351976698254615,
          1.2117888986596437,
          0.6771514068440193,
          0.39219000665164555,
          0.3479770692323999,
          1.2563752513554332,
          -1.1979478266842263,
          -1.78307557243645,
          -0.7562741622749357,
          -0.2974990576728704,
          -0.1151922607598481,
          1.311871447079243,
          1.9289668587901412,
          1.0447706767606724,
          -0.3002488998726798,
          0.16269844415688542,
          0.8631392392988955,
          -0.7411929665425697,
          0.5616519838700285,
          -0.3131147621350836,
          -0.6069109587105764,
          -1.447767624550431,
          -1.442722977432391,
          -0.6919784434260245,
          -0.8831316251819575,
          -0.776479665148661,
          1.1172122351362055,
          1.2176337093966687,
          1.5476467707595074,
          0.3626072098823158,
          -1.0983325162443291,
          -1.383177292817952,
          1.9628058171277503,
          -0.055803093732660805,
          -1.5747713332299496,
          -0.26532393249082487,
          0.5479439877410442,
          1.5535865364644714,
          -0.47659834301066384,
          0.2672767984483275,
          -0.8961147350469946,
          -0.06471050710422788,
          -0.5905964775463705,
          0.7655941714589244,
          -0.31953091828895985,
          0.06789288352679154,
          -1.422263846816249,
          -0.801161627353756,
          0.6188842280311928,
          2.028647190875111,
          -0.741868678745086,
          1.6069381796445703,
          -0.6690556554555435,
          -0.063584543693092,
          0.6246448471547272,
          -0.4216210453943756,
          -0.8640390041112331,
          0.5253639742208898,
          -0.48438019081842754,
          0.5369509248484133,
          0.32057822601106967,
          -1.8760068692251701,
          0.13126982972121115,
          0.2970202750556522,
          0.31359419559538876,
          -0.3971136117430385,
          -0.6860056529632396,
          -0.8962827751063993,
          0.0025431485827040403,
          0.27089769469654046,
          0.7033910031533249,
          -0.3643665317857516,
          -0.11787071628933615,
          -0.9817195744729845,
          -1.0732541183436184,
          1.2957749565724392,
          -1.4894334754857605,
          0.6917993062855475,
          -0.3556696508654084,
          -0.11742785402261754
         ],
         "xaxis": "x15",
         "y": [
          -1.6139200331698593,
          0.1438679806922359,
          -0.6931362890789643,
          0.5293045437878271,
          0.3221349048970399,
          0.10571979308408555,
          -0.24687444774814254,
          1.518751836633535,
          -1.8417441436634612,
          1.1901312662968089,
          1.0452829018107455,
          0.30605659929868206,
          -0.43068673344610603,
          -1.3875533434371963,
          -0.31328259811412107,
          -0.47961676390549984,
          1.325030202070095,
          -0.4449698448561779,
          1.0439278536071046,
          1.5298569917653597,
          -0.49411730219163136,
          0.18378781126397709,
          0.1887592665717357,
          1.1025966370286202,
          1.4506954668482208,
          -2.3261959513491073,
          -0.4550870936241418,
          -0.9292829494272545,
          0.01052435481631606,
          0.04724180974889832,
          -0.592794748419755,
          0.5048698619125271,
          -0.31543236030487437,
          1.0659531865858582,
          -0.8199027965146775,
          0.9665933026153964,
          -0.2267356656419576,
          -0.9656196090197346,
          0.29696010229584796,
          -1.6579526166657388,
          1.2748038036746216,
          -0.12764161793534448,
          -0.05487234560680018,
          0.2861875269503629,
          0.43721364089885206,
          1.6086221484162546,
          -0.7979471094796152,
          -0.5861898093399176,
          1.3377350533309027,
          -0.3739936342499101,
          0.7462187044964173,
          -1.2554014451140587,
          0.5868402650420513,
          0.8703440156057092,
          -0.1742196969932546,
          1.4469818706730642,
          -0.6262021275282917,
          0.08399422005607338,
          -1.8055896023356686,
          -1.3243969569382086,
          1.1345389701396054,
          0.2481429357286683,
          0.2835512541345572,
          -0.6881976210702818,
          -1.0120345386137457,
          -0.3034886605647908,
          0.11398208922115317,
          0.36076317300524025,
          -0.5169099907753333,
          1.660678219041089,
          0.02712667239714875,
          -2.039741784619864,
          -0.2805689576358341,
          1.07484873721293,
          -0.3521633386079611,
          0.02930939901426263,
          -2.5392183963702495,
          -0.1852718250188313,
          0.13784622935873658,
          -0.5808272711014993,
          -0.5694492380190268,
          0.3574733700727333,
          -0.5989894269618654,
          0.1773981082301825,
          -2.5437514467559863,
          0.8468484480608329,
          0.7898473428685026,
          0.7168791240146745,
          0.18038311950933206,
          0.19470310432542945,
          -0.6880783920433272,
          -1.2336408453838985,
          -0.9501503471607181,
          0.36047791513110083,
          -2.3000859597709953,
          -0.5648727722864505,
          0.07535442124114042,
          -1.0231862796219837,
          -0.2286057647331581,
          1.6520351190666764
         ],
         "yaxis": "y15"
        },
        {
         "histfunc": "count",
         "histnorm": "",
         "marker": {
          "color": "rgba(128, 0, 128, 1.0)",
          "line": {
           "color": "#4D5663",
           "width": 1.3
          }
         },
         "name": "D",
         "nbinsx": 10,
         "opacity": 0.8,
         "orientation": "v",
         "type": "histogram",
         "x": [
          -1.6139200331698593,
          0.1438679806922359,
          -0.6931362890789643,
          0.5293045437878271,
          0.3221349048970399,
          0.10571979308408555,
          -0.24687444774814254,
          1.518751836633535,
          -1.8417441436634612,
          1.1901312662968089,
          1.0452829018107455,
          0.30605659929868206,
          -0.43068673344610603,
          -1.3875533434371963,
          -0.31328259811412107,
          -0.47961676390549984,
          1.325030202070095,
          -0.4449698448561779,
          1.0439278536071046,
          1.5298569917653597,
          -0.49411730219163136,
          0.18378781126397709,
          0.1887592665717357,
          1.1025966370286202,
          1.4506954668482208,
          -2.3261959513491073,
          -0.4550870936241418,
          -0.9292829494272545,
          0.01052435481631606,
          0.04724180974889832,
          -0.592794748419755,
          0.5048698619125271,
          -0.31543236030487437,
          1.0659531865858582,
          -0.8199027965146775,
          0.9665933026153964,
          -0.2267356656419576,
          -0.9656196090197346,
          0.29696010229584796,
          -1.6579526166657388,
          1.2748038036746216,
          -0.12764161793534448,
          -0.05487234560680018,
          0.2861875269503629,
          0.43721364089885206,
          1.6086221484162546,
          -0.7979471094796152,
          -0.5861898093399176,
          1.3377350533309027,
          -0.3739936342499101,
          0.7462187044964173,
          -1.2554014451140587,
          0.5868402650420513,
          0.8703440156057092,
          -0.1742196969932546,
          1.4469818706730642,
          -0.6262021275282917,
          0.08399422005607338,
          -1.8055896023356686,
          -1.3243969569382086,
          1.1345389701396054,
          0.2481429357286683,
          0.2835512541345572,
          -0.6881976210702818,
          -1.0120345386137457,
          -0.3034886605647908,
          0.11398208922115317,
          0.36076317300524025,
          -0.5169099907753333,
          1.660678219041089,
          0.02712667239714875,
          -2.039741784619864,
          -0.2805689576358341,
          1.07484873721293,
          -0.3521633386079611,
          0.02930939901426263,
          -2.5392183963702495,
          -0.1852718250188313,
          0.13784622935873658,
          -0.5808272711014993,
          -0.5694492380190268,
          0.3574733700727333,
          -0.5989894269618654,
          0.1773981082301825,
          -2.5437514467559863,
          0.8468484480608329,
          0.7898473428685026,
          0.7168791240146745,
          0.18038311950933206,
          0.19470310432542945,
          -0.6880783920433272,
          -1.2336408453838985,
          -0.9501503471607181,
          0.36047791513110083,
          -2.3000859597709953,
          -0.5648727722864505,
          0.07535442124114042,
          -1.0231862796219837,
          -0.2286057647331581,
          1.6520351190666764
         ],
         "xaxis": "x16",
         "yaxis": "y16"
        }
       ],
       "layout": {
        "bargap": 0.02,
        "legend": {
         "bgcolor": "#F5F6F9",
         "font": {
          "color": "#4D5663"
         }
        },
        "paper_bgcolor": "#F5F6F9",
        "plot_bgcolor": "#F5F6F9",
        "showlegend": false,
        "template": {
         "data": {
          "bar": [
           {
            "error_x": {
             "color": "#2a3f5f"
            },
            "error_y": {
             "color": "#2a3f5f"
            },
            "marker": {
             "line": {
              "color": "#E5ECF6",
              "width": 0.5
             },
             "pattern": {
              "fillmode": "overlay",
              "size": 10,
              "solidity": 0.2
             }
            },
            "type": "bar"
           }
          ],
          "barpolar": [
           {
            "marker": {
             "line": {
              "color": "#E5ECF6",
              "width": 0.5
             },
             "pattern": {
              "fillmode": "overlay",
              "size": 10,
              "solidity": 0.2
             }
            },
            "type": "barpolar"
           }
          ],
          "carpet": [
           {
            "aaxis": {
             "endlinecolor": "#2a3f5f",
             "gridcolor": "white",
             "linecolor": "white",
             "minorgridcolor": "white",
             "startlinecolor": "#2a3f5f"
            },
            "baxis": {
             "endlinecolor": "#2a3f5f",
             "gridcolor": "white",
             "linecolor": "white",
             "minorgridcolor": "white",
             "startlinecolor": "#2a3f5f"
            },
            "type": "carpet"
           }
          ],
          "choropleth": [
           {
            "colorbar": {
             "outlinewidth": 0,
             "ticks": ""
            },
            "type": "choropleth"
           }
          ],
          "contour": [
           {
            "colorbar": {
             "outlinewidth": 0,
             "ticks": ""
            },
            "colorscale": [
             [
              0,
              "#0d0887"
             ],
             [
              0.1111111111111111,
              "#46039f"
             ],
             [
              0.2222222222222222,
              "#7201a8"
             ],
             [
              0.3333333333333333,
              "#9c179e"
             ],
             [
              0.4444444444444444,
              "#bd3786"
             ],
             [
              0.5555555555555556,
              "#d8576b"
             ],
             [
              0.6666666666666666,
              "#ed7953"
             ],
             [
              0.7777777777777778,
              "#fb9f3a"
             ],
             [
              0.8888888888888888,
              "#fdca26"
             ],
             [
              1,
              "#f0f921"
             ]
            ],
            "type": "contour"
           }
          ],
          "contourcarpet": [
           {
            "colorbar": {
             "outlinewidth": 0,
             "ticks": ""
            },
            "type": "contourcarpet"
           }
          ],
          "heatmap": [
           {
            "colorbar": {
             "outlinewidth": 0,
             "ticks": ""
            },
            "colorscale": [
             [
              0,
              "#0d0887"
             ],
             [
              0.1111111111111111,
              "#46039f"
             ],
             [
              0.2222222222222222,
              "#7201a8"
             ],
             [
              0.3333333333333333,
              "#9c179e"
             ],
             [
              0.4444444444444444,
              "#bd3786"
             ],
             [
              0.5555555555555556,
              "#d8576b"
             ],
             [
              0.6666666666666666,
              "#ed7953"
             ],
             [
              0.7777777777777778,
              "#fb9f3a"
             ],
             [
              0.8888888888888888,
              "#fdca26"
             ],
             [
              1,
              "#f0f921"
             ]
            ],
            "type": "heatmap"
           }
          ],
          "heatmapgl": [
           {
            "colorbar": {
             "outlinewidth": 0,
             "ticks": ""
            },
            "colorscale": [
             [
              0,
              "#0d0887"
             ],
             [
              0.1111111111111111,
              "#46039f"
             ],
             [
              0.2222222222222222,
              "#7201a8"
             ],
             [
              0.3333333333333333,
              "#9c179e"
             ],
             [
              0.4444444444444444,
              "#bd3786"
             ],
             [
              0.5555555555555556,
              "#d8576b"
             ],
             [
              0.6666666666666666,
              "#ed7953"
             ],
             [
              0.7777777777777778,
              "#fb9f3a"
             ],
             [
              0.8888888888888888,
              "#fdca26"
             ],
             [
              1,
              "#f0f921"
             ]
            ],
            "type": "heatmapgl"
           }
          ],
          "histogram": [
           {
            "marker": {
             "pattern": {
              "fillmode": "overlay",
              "size": 10,
              "solidity": 0.2
             }
            },
            "type": "histogram"
           }
          ],
          "histogram2d": [
           {
            "colorbar": {
             "outlinewidth": 0,
             "ticks": ""
            },
            "colorscale": [
             [
              0,
              "#0d0887"
             ],
             [
              0.1111111111111111,
              "#46039f"
             ],
             [
              0.2222222222222222,
              "#7201a8"
             ],
             [
              0.3333333333333333,
              "#9c179e"
             ],
             [
              0.4444444444444444,
              "#bd3786"
             ],
             [
              0.5555555555555556,
              "#d8576b"
             ],
             [
              0.6666666666666666,
              "#ed7953"
             ],
             [
              0.7777777777777778,
              "#fb9f3a"
             ],
             [
              0.8888888888888888,
              "#fdca26"
             ],
             [
              1,
              "#f0f921"
             ]
            ],
            "type": "histogram2d"
           }
          ],
          "histogram2dcontour": [
           {
            "colorbar": {
             "outlinewidth": 0,
             "ticks": ""
            },
            "colorscale": [
             [
              0,
              "#0d0887"
             ],
             [
              0.1111111111111111,
              "#46039f"
             ],
             [
              0.2222222222222222,
              "#7201a8"
             ],
             [
              0.3333333333333333,
              "#9c179e"
             ],
             [
              0.4444444444444444,
              "#bd3786"
             ],
             [
              0.5555555555555556,
              "#d8576b"
             ],
             [
              0.6666666666666666,
              "#ed7953"
             ],
             [
              0.7777777777777778,
              "#fb9f3a"
             ],
             [
              0.8888888888888888,
              "#fdca26"
             ],
             [
              1,
              "#f0f921"
             ]
            ],
            "type": "histogram2dcontour"
           }
          ],
          "mesh3d": [
           {
            "colorbar": {
             "outlinewidth": 0,
             "ticks": ""
            },
            "type": "mesh3d"
           }
          ],
          "parcoords": [
           {
            "line": {
             "colorbar": {
              "outlinewidth": 0,
              "ticks": ""
             }
            },
            "type": "parcoords"
           }
          ],
          "pie": [
           {
            "automargin": true,
            "type": "pie"
           }
          ],
          "scatter": [
           {
            "fillpattern": {
             "fillmode": "overlay",
             "size": 10,
             "solidity": 0.2
            },
            "type": "scatter"
           }
          ],
          "scatter3d": [
           {
            "line": {
             "colorbar": {
              "outlinewidth": 0,
              "ticks": ""
             }
            },
            "marker": {
             "colorbar": {
              "outlinewidth": 0,
              "ticks": ""
             }
            },
            "type": "scatter3d"
           }
          ],
          "scattercarpet": [
           {
            "marker": {
             "colorbar": {
              "outlinewidth": 0,
              "ticks": ""
             }
            },
            "type": "scattercarpet"
           }
          ],
          "scattergeo": [
           {
            "marker": {
             "colorbar": {
              "outlinewidth": 0,
              "ticks": ""
             }
            },
            "type": "scattergeo"
           }
          ],
          "scattergl": [
           {
            "marker": {
             "colorbar": {
              "outlinewidth": 0,
              "ticks": ""
             }
            },
            "type": "scattergl"
           }
          ],
          "scattermapbox": [
           {
            "marker": {
             "colorbar": {
              "outlinewidth": 0,
              "ticks": ""
             }
            },
            "type": "scattermapbox"
           }
          ],
          "scatterpolar": [
           {
            "marker": {
             "colorbar": {
              "outlinewidth": 0,
              "ticks": ""
             }
            },
            "type": "scatterpolar"
           }
          ],
          "scatterpolargl": [
           {
            "marker": {
             "colorbar": {
              "outlinewidth": 0,
              "ticks": ""
             }
            },
            "type": "scatterpolargl"
           }
          ],
          "scatterternary": [
           {
            "marker": {
             "colorbar": {
              "outlinewidth": 0,
              "ticks": ""
             }
            },
            "type": "scatterternary"
           }
          ],
          "surface": [
           {
            "colorbar": {
             "outlinewidth": 0,
             "ticks": ""
            },
            "colorscale": [
             [
              0,
              "#0d0887"
             ],
             [
              0.1111111111111111,
              "#46039f"
             ],
             [
              0.2222222222222222,
              "#7201a8"
             ],
             [
              0.3333333333333333,
              "#9c179e"
             ],
             [
              0.4444444444444444,
              "#bd3786"
             ],
             [
              0.5555555555555556,
              "#d8576b"
             ],
             [
              0.6666666666666666,
              "#ed7953"
             ],
             [
              0.7777777777777778,
              "#fb9f3a"
             ],
             [
              0.8888888888888888,
              "#fdca26"
             ],
             [
              1,
              "#f0f921"
             ]
            ],
            "type": "surface"
           }
          ],
          "table": [
           {
            "cells": {
             "fill": {
              "color": "#EBF0F8"
             },
             "line": {
              "color": "white"
             }
            },
            "header": {
             "fill": {
              "color": "#C8D4E3"
             },
             "line": {
              "color": "white"
             }
            },
            "type": "table"
           }
          ]
         },
         "layout": {
          "annotationdefaults": {
           "arrowcolor": "#2a3f5f",
           "arrowhead": 0,
           "arrowwidth": 1
          },
          "autotypenumbers": "strict",
          "coloraxis": {
           "colorbar": {
            "outlinewidth": 0,
            "ticks": ""
           }
          },
          "colorscale": {
           "diverging": [
            [
             0,
             "#8e0152"
            ],
            [
             0.1,
             "#c51b7d"
            ],
            [
             0.2,
             "#de77ae"
            ],
            [
             0.3,
             "#f1b6da"
            ],
            [
             0.4,
             "#fde0ef"
            ],
            [
             0.5,
             "#f7f7f7"
            ],
            [
             0.6,
             "#e6f5d0"
            ],
            [
             0.7,
             "#b8e186"
            ],
            [
             0.8,
             "#7fbc41"
            ],
            [
             0.9,
             "#4d9221"
            ],
            [
             1,
             "#276419"
            ]
           ],
           "sequential": [
            [
             0,
             "#0d0887"
            ],
            [
             0.1111111111111111,
             "#46039f"
            ],
            [
             0.2222222222222222,
             "#7201a8"
            ],
            [
             0.3333333333333333,
             "#9c179e"
            ],
            [
             0.4444444444444444,
             "#bd3786"
            ],
            [
             0.5555555555555556,
             "#d8576b"
            ],
            [
             0.6666666666666666,
             "#ed7953"
            ],
            [
             0.7777777777777778,
             "#fb9f3a"
            ],
            [
             0.8888888888888888,
             "#fdca26"
            ],
            [
             1,
             "#f0f921"
            ]
           ],
           "sequentialminus": [
            [
             0,
             "#0d0887"
            ],
            [
             0.1111111111111111,
             "#46039f"
            ],
            [
             0.2222222222222222,
             "#7201a8"
            ],
            [
             0.3333333333333333,
             "#9c179e"
            ],
            [
             0.4444444444444444,
             "#bd3786"
            ],
            [
             0.5555555555555556,
             "#d8576b"
            ],
            [
             0.6666666666666666,
             "#ed7953"
            ],
            [
             0.7777777777777778,
             "#fb9f3a"
            ],
            [
             0.8888888888888888,
             "#fdca26"
            ],
            [
             1,
             "#f0f921"
            ]
           ]
          },
          "colorway": [
           "#636efa",
           "#EF553B",
           "#00cc96",
           "#ab63fa",
           "#FFA15A",
           "#19d3f3",
           "#FF6692",
           "#B6E880",
           "#FF97FF",
           "#FECB52"
          ],
          "font": {
           "color": "#2a3f5f"
          },
          "geo": {
           "bgcolor": "white",
           "lakecolor": "white",
           "landcolor": "#E5ECF6",
           "showlakes": true,
           "showland": true,
           "subunitcolor": "white"
          },
          "hoverlabel": {
           "align": "left"
          },
          "hovermode": "closest",
          "mapbox": {
           "style": "light"
          },
          "paper_bgcolor": "white",
          "plot_bgcolor": "#E5ECF6",
          "polar": {
           "angularaxis": {
            "gridcolor": "white",
            "linecolor": "white",
            "ticks": ""
           },
           "bgcolor": "#E5ECF6",
           "radialaxis": {
            "gridcolor": "white",
            "linecolor": "white",
            "ticks": ""
           }
          },
          "scene": {
           "xaxis": {
            "backgroundcolor": "#E5ECF6",
            "gridcolor": "white",
            "gridwidth": 2,
            "linecolor": "white",
            "showbackground": true,
            "ticks": "",
            "zerolinecolor": "white"
           },
           "yaxis": {
            "backgroundcolor": "#E5ECF6",
            "gridcolor": "white",
            "gridwidth": 2,
            "linecolor": "white",
            "showbackground": true,
            "ticks": "",
            "zerolinecolor": "white"
           },
           "zaxis": {
            "backgroundcolor": "#E5ECF6",
            "gridcolor": "white",
            "gridwidth": 2,
            "linecolor": "white",
            "showbackground": true,
            "ticks": "",
            "zerolinecolor": "white"
           }
          },
          "shapedefaults": {
           "line": {
            "color": "#2a3f5f"
           }
          },
          "ternary": {
           "aaxis": {
            "gridcolor": "white",
            "linecolor": "white",
            "ticks": ""
           },
           "baxis": {
            "gridcolor": "white",
            "linecolor": "white",
            "ticks": ""
           },
           "bgcolor": "#E5ECF6",
           "caxis": {
            "gridcolor": "white",
            "linecolor": "white",
            "ticks": ""
           }
          },
          "title": {
           "x": 0.05
          },
          "xaxis": {
           "automargin": true,
           "gridcolor": "white",
           "linecolor": "white",
           "ticks": "",
           "title": {
            "standoff": 15
           },
           "zerolinecolor": "white",
           "zerolinewidth": 2
          },
          "yaxis": {
           "automargin": true,
           "gridcolor": "white",
           "linecolor": "white",
           "ticks": "",
           "title": {
            "standoff": 15
           },
           "zerolinecolor": "white",
           "zerolinewidth": 2
          }
         }
        },
        "title": {
         "font": {
          "color": "#4D5663"
         }
        },
        "xaxis": {
         "anchor": "y",
         "domain": [
          0,
          0.2125
         ],
         "gridcolor": "#E1E5ED",
         "showgrid": false,
         "tickfont": {
          "color": "#4D5663"
         },
         "title": {
          "font": {
           "color": "#4D5663"
          },
          "text": ""
         },
         "zerolinecolor": "#E1E5ED"
        },
        "xaxis10": {
         "anchor": "y10",
         "domain": [
          0.2625,
          0.475
         ],
         "gridcolor": "#E1E5ED",
         "showgrid": false,
         "tickfont": {
          "color": "#4D5663"
         },
         "title": {
          "font": {
           "color": "#4D5663"
          },
          "text": ""
         },
         "zerolinecolor": "#E1E5ED"
        },
        "xaxis11": {
         "anchor": "y11",
         "domain": [
          0.525,
          0.7375
         ],
         "gridcolor": "#E1E5ED",
         "showgrid": false,
         "tickfont": {
          "color": "#4D5663"
         },
         "title": {
          "font": {
           "color": "#4D5663"
          },
          "text": ""
         },
         "zerolinecolor": "#E1E5ED"
        },
        "xaxis12": {
         "anchor": "y12",
         "domain": [
          0.7875,
          1
         ],
         "gridcolor": "#E1E5ED",
         "showgrid": false,
         "tickfont": {
          "color": "#4D5663"
         },
         "title": {
          "font": {
           "color": "#4D5663"
          },
          "text": ""
         },
         "zerolinecolor": "#E1E5ED"
        },
        "xaxis13": {
         "anchor": "y13",
         "domain": [
          0,
          0.2125
         ],
         "gridcolor": "#E1E5ED",
         "showgrid": false,
         "tickfont": {
          "color": "#4D5663"
         },
         "title": {
          "font": {
           "color": "#4D5663"
          },
          "text": ""
         },
         "zerolinecolor": "#E1E5ED"
        },
        "xaxis14": {
         "anchor": "y14",
         "domain": [
          0.2625,
          0.475
         ],
         "gridcolor": "#E1E5ED",
         "showgrid": false,
         "tickfont": {
          "color": "#4D5663"
         },
         "title": {
          "font": {
           "color": "#4D5663"
          },
          "text": ""
         },
         "zerolinecolor": "#E1E5ED"
        },
        "xaxis15": {
         "anchor": "y15",
         "domain": [
          0.525,
          0.7375
         ],
         "gridcolor": "#E1E5ED",
         "showgrid": false,
         "tickfont": {
          "color": "#4D5663"
         },
         "title": {
          "font": {
           "color": "#4D5663"
          },
          "text": ""
         },
         "zerolinecolor": "#E1E5ED"
        },
        "xaxis16": {
         "anchor": "y16",
         "domain": [
          0.7875,
          1
         ],
         "gridcolor": "#E1E5ED",
         "showgrid": false,
         "tickfont": {
          "color": "#4D5663"
         },
         "title": {
          "font": {
           "color": "#4D5663"
          },
          "text": ""
         },
         "zerolinecolor": "#E1E5ED"
        },
        "xaxis2": {
         "anchor": "y2",
         "domain": [
          0.2625,
          0.475
         ],
         "gridcolor": "#E1E5ED",
         "showgrid": false,
         "tickfont": {
          "color": "#4D5663"
         },
         "title": {
          "font": {
           "color": "#4D5663"
          },
          "text": ""
         },
         "zerolinecolor": "#E1E5ED"
        },
        "xaxis3": {
         "anchor": "y3",
         "domain": [
          0.525,
          0.7375
         ],
         "gridcolor": "#E1E5ED",
         "showgrid": false,
         "tickfont": {
          "color": "#4D5663"
         },
         "title": {
          "font": {
           "color": "#4D5663"
          },
          "text": ""
         },
         "zerolinecolor": "#E1E5ED"
        },
        "xaxis4": {
         "anchor": "y4",
         "domain": [
          0.7875,
          1
         ],
         "gridcolor": "#E1E5ED",
         "showgrid": false,
         "tickfont": {
          "color": "#4D5663"
         },
         "title": {
          "font": {
           "color": "#4D5663"
          },
          "text": ""
         },
         "zerolinecolor": "#E1E5ED"
        },
        "xaxis5": {
         "anchor": "y5",
         "domain": [
          0,
          0.2125
         ],
         "gridcolor": "#E1E5ED",
         "showgrid": false,
         "tickfont": {
          "color": "#4D5663"
         },
         "title": {
          "font": {
           "color": "#4D5663"
          },
          "text": ""
         },
         "zerolinecolor": "#E1E5ED"
        },
        "xaxis6": {
         "anchor": "y6",
         "domain": [
          0.2625,
          0.475
         ],
         "gridcolor": "#E1E5ED",
         "showgrid": false,
         "tickfont": {
          "color": "#4D5663"
         },
         "title": {
          "font": {
           "color": "#4D5663"
          },
          "text": ""
         },
         "zerolinecolor": "#E1E5ED"
        },
        "xaxis7": {
         "anchor": "y7",
         "domain": [
          0.525,
          0.7375
         ],
         "gridcolor": "#E1E5ED",
         "showgrid": false,
         "tickfont": {
          "color": "#4D5663"
         },
         "title": {
          "font": {
           "color": "#4D5663"
          },
          "text": ""
         },
         "zerolinecolor": "#E1E5ED"
        },
        "xaxis8": {
         "anchor": "y8",
         "domain": [
          0.7875,
          1
         ],
         "gridcolor": "#E1E5ED",
         "showgrid": false,
         "tickfont": {
          "color": "#4D5663"
         },
         "title": {
          "font": {
           "color": "#4D5663"
          },
          "text": ""
         },
         "zerolinecolor": "#E1E5ED"
        },
        "xaxis9": {
         "anchor": "y9",
         "domain": [
          0,
          0.2125
         ],
         "gridcolor": "#E1E5ED",
         "showgrid": false,
         "tickfont": {
          "color": "#4D5663"
         },
         "title": {
          "font": {
           "color": "#4D5663"
          },
          "text": ""
         },
         "zerolinecolor": "#E1E5ED"
        },
        "yaxis": {
         "anchor": "x",
         "domain": [
          0.8025,
          1
         ],
         "gridcolor": "#E1E5ED",
         "showgrid": false,
         "tickfont": {
          "color": "#4D5663"
         },
         "title": {
          "font": {
           "color": "#4D5663"
          },
          "text": ""
         },
         "zerolinecolor": "#E1E5ED"
        },
        "yaxis10": {
         "anchor": "x10",
         "domain": [
          0.2675,
          0.465
         ],
         "gridcolor": "#E1E5ED",
         "showgrid": false,
         "tickfont": {
          "color": "#4D5663"
         },
         "title": {
          "font": {
           "color": "#4D5663"
          },
          "text": ""
         },
         "zerolinecolor": "#E1E5ED"
        },
        "yaxis11": {
         "anchor": "x11",
         "domain": [
          0.2675,
          0.465
         ],
         "gridcolor": "#E1E5ED",
         "showgrid": false,
         "tickfont": {
          "color": "#4D5663"
         },
         "title": {
          "font": {
           "color": "#4D5663"
          },
          "text": ""
         },
         "zerolinecolor": "#E1E5ED"
        },
        "yaxis12": {
         "anchor": "x12",
         "domain": [
          0.2675,
          0.465
         ],
         "gridcolor": "#E1E5ED",
         "showgrid": false,
         "tickfont": {
          "color": "#4D5663"
         },
         "title": {
          "font": {
           "color": "#4D5663"
          },
          "text": ""
         },
         "zerolinecolor": "#E1E5ED"
        },
        "yaxis13": {
         "anchor": "x13",
         "domain": [
          0,
          0.1975
         ],
         "gridcolor": "#E1E5ED",
         "showgrid": false,
         "tickfont": {
          "color": "#4D5663"
         },
         "title": {
          "font": {
           "color": "#4D5663"
          },
          "text": ""
         },
         "zerolinecolor": "#E1E5ED"
        },
        "yaxis14": {
         "anchor": "x14",
         "domain": [
          0,
          0.1975
         ],
         "gridcolor": "#E1E5ED",
         "showgrid": false,
         "tickfont": {
          "color": "#4D5663"
         },
         "title": {
          "font": {
           "color": "#4D5663"
          },
          "text": ""
         },
         "zerolinecolor": "#E1E5ED"
        },
        "yaxis15": {
         "anchor": "x15",
         "domain": [
          0,
          0.1975
         ],
         "gridcolor": "#E1E5ED",
         "showgrid": false,
         "tickfont": {
          "color": "#4D5663"
         },
         "title": {
          "font": {
           "color": "#4D5663"
          },
          "text": ""
         },
         "zerolinecolor": "#E1E5ED"
        },
        "yaxis16": {
         "anchor": "x16",
         "domain": [
          0,
          0.1975
         ],
         "gridcolor": "#E1E5ED",
         "showgrid": false,
         "tickfont": {
          "color": "#4D5663"
         },
         "title": {
          "font": {
           "color": "#4D5663"
          },
          "text": ""
         },
         "zerolinecolor": "#E1E5ED"
        },
        "yaxis2": {
         "anchor": "x2",
         "domain": [
          0.8025,
          1
         ],
         "gridcolor": "#E1E5ED",
         "showgrid": false,
         "tickfont": {
          "color": "#4D5663"
         },
         "title": {
          "font": {
           "color": "#4D5663"
          },
          "text": ""
         },
         "zerolinecolor": "#E1E5ED"
        },
        "yaxis3": {
         "anchor": "x3",
         "domain": [
          0.8025,
          1
         ],
         "gridcolor": "#E1E5ED",
         "showgrid": false,
         "tickfont": {
          "color": "#4D5663"
         },
         "title": {
          "font": {
           "color": "#4D5663"
          },
          "text": ""
         },
         "zerolinecolor": "#E1E5ED"
        },
        "yaxis4": {
         "anchor": "x4",
         "domain": [
          0.8025,
          1
         ],
         "gridcolor": "#E1E5ED",
         "showgrid": false,
         "tickfont": {
          "color": "#4D5663"
         },
         "title": {
          "font": {
           "color": "#4D5663"
          },
          "text": ""
         },
         "zerolinecolor": "#E1E5ED"
        },
        "yaxis5": {
         "anchor": "x5",
         "domain": [
          0.535,
          0.7325
         ],
         "gridcolor": "#E1E5ED",
         "showgrid": false,
         "tickfont": {
          "color": "#4D5663"
         },
         "title": {
          "font": {
           "color": "#4D5663"
          },
          "text": ""
         },
         "zerolinecolor": "#E1E5ED"
        },
        "yaxis6": {
         "anchor": "x6",
         "domain": [
          0.535,
          0.7325
         ],
         "gridcolor": "#E1E5ED",
         "showgrid": false,
         "tickfont": {
          "color": "#4D5663"
         },
         "title": {
          "font": {
           "color": "#4D5663"
          },
          "text": ""
         },
         "zerolinecolor": "#E1E5ED"
        },
        "yaxis7": {
         "anchor": "x7",
         "domain": [
          0.535,
          0.7325
         ],
         "gridcolor": "#E1E5ED",
         "showgrid": false,
         "tickfont": {
          "color": "#4D5663"
         },
         "title": {
          "font": {
           "color": "#4D5663"
          },
          "text": ""
         },
         "zerolinecolor": "#E1E5ED"
        },
        "yaxis8": {
         "anchor": "x8",
         "domain": [
          0.535,
          0.7325
         ],
         "gridcolor": "#E1E5ED",
         "showgrid": false,
         "tickfont": {
          "color": "#4D5663"
         },
         "title": {
          "font": {
           "color": "#4D5663"
          },
          "text": ""
         },
         "zerolinecolor": "#E1E5ED"
        },
        "yaxis9": {
         "anchor": "x9",
         "domain": [
          0.2675,
          0.465
         ],
         "gridcolor": "#E1E5ED",
         "showgrid": false,
         "tickfont": {
          "color": "#4D5663"
         },
         "title": {
          "font": {
           "color": "#4D5663"
          },
          "text": ""
         },
         "zerolinecolor": "#E1E5ED"
        }
       }
      },
      "text/html": [
       "<div>                            <div id=\"09d23196-0cd9-490d-9fef-d1fee2106092\" class=\"plotly-graph-div\" style=\"height:525px; width:100%;\"></div>            <script type=\"text/javascript\">                require([\"plotly\"], function(Plotly) {                    window.PLOTLYENV=window.PLOTLYENV || {};\n",
       "                    window.PLOTLYENV.BASE_URL='https://plot.ly';                                    if (document.getElementById(\"09d23196-0cd9-490d-9fef-d1fee2106092\")) {                    Plotly.newPlot(                        \"09d23196-0cd9-490d-9fef-d1fee2106092\",                        [{\"histfunc\":\"count\",\"histnorm\":\"\",\"marker\":{\"color\":\"rgba(255, 153, 51, 1.0)\",\"line\":{\"color\":\"#4D5663\",\"width\":1.3}},\"name\":\"A\",\"nbinsx\":10,\"opacity\":0.8,\"orientation\":\"v\",\"x\":[-1.8158066953241796,-0.1532154842648918,-0.9087624017607344,-0.715856808084371,-0.7771907606069965,0.7351655714121069,-0.4340066741738052,-1.3736300616332289,-1.0910279061608386,-0.17715896700797562,0.7275992622753656,0.5719735501374622,0.1098535938239624,-0.7597209632957299,-1.1109900639357473,0.6925199043660469,0.7199999841009106,0.2873822213373869,-0.15420187444897465,0.008442848745635374,1.664921806311949,-1.3569852377652243,-0.23428268105986771,-1.9065024563371196,-1.8490542212588523,-0.9960295932103904,0.02314877232934917,1.7212068472548776,1.9013955197338033,-2.35253242851831,0.03040455800019841,0.21563700808987987,-0.4597229928437187,-0.7278607880726488,0.8877592700568671,0.4871704573515719,1.2769068225620719,0.18018462540389163,0.8649699512695074,-0.7445046848660324,-1.2890167760381392,0.5217925979706663,0.9389152424518948,0.9410136911071448,1.5734356802920477,1.4534955851108855,1.6379349099164204,2.051825040464344,-0.8723796481954755,0.6451170978250104,0.7996633553911477,-0.3758811118599081,0.8368783860108395,1.1672923335724237,1.9989574214327248,-0.9803635632487172,1.0272909775625343,-1.6470378469496967,-1.184745488394547,1.240609769403117,2.561043412628804,-0.5143615665306566,0.7449677226155068,-0.6201547168031414,0.6061735043418385,-0.6917606684322949,-0.4568162851669821,-1.4467767829303313,-0.4197208185978394,-0.27718742129594875,0.37837120923512646,1.2126642629518882,0.0393734817792643,-0.26340619911106694,-0.8351980357082801,-0.7959718758615214,0.6618589942538259,-0.4809145778698422,-0.5892785393324456,-0.25863477635135435,-0.6227807044887773,0.6993285851779953,-0.45746330629230986,-1.1643534645330045,1.3236560625253453,-0.6252302065588559,0.3150282283965467,1.137719962772657,0.514273522992465,0.17608458637176752,-0.6721697934374377,-0.9601912730760108,-0.9638044403008365,-0.35406490944069513,0.27014409824766095,0.7873120088931022,-0.4853469923359565,-0.35362079253020634,0.35722262241125424,-0.3869299705042295],\"xaxis\":\"x\",\"yaxis\":\"y\",\"type\":\"histogram\"},{\"line\":{\"color\":\"rgba(128, 128, 128, 1.0)\",\"dash\":\"solid\",\"shape\":\"linear\",\"width\":1.3},\"marker\":{\"size\":2,\"symbol\":\"circle\"},\"mode\":\"markers\",\"name\":\"A\",\"text\":\"\",\"x\":[1.6962518426992457,-0.982193639127554,-2.1197856966587434,0.38054873370497094,-1.361275653580498,0.3019613106241735,0.5737655133927131,1.0945211359269573,0.5495438835085136,1.0344716229317987,1.5145618337839344,-1.322817574245342,-1.1907820282214117,-0.528632777074625,1.3012340540546952,-1.0689263129920183,-2.84496629837369,0.046135758701366845,-0.24639563344520166,0.25128120296962836,0.36830940996399714,0.12031333614256282,-0.8010686487431482,-1.9327299966087452,0.7590071315508242,0.09728845697523336,-0.6894331452347948,0.11100076999006471,0.8004367772526133,-0.3793003097447568,-0.010050251411239644,-1.157220777492313,0.2488904704855463,0.8320141897637261,-0.12460299783173051,-0.9910263142307557,0.7372791083222395,0.24955057188182372,-0.8396515362306939,-0.6309241374644079,-0.279841188171254,-0.16186589249778788,0.8051370085683334,0.6540567389457904,-1.5798108304946163,0.20639652702521474,0.39333903402492476,-0.4810666724010602,-0.3800959479086856,-0.3077260319677847,1.5208418364763474,0.7892210421725961,1.8591446122703879,1.7034420043231697,-0.10683091684168655,-0.4775338738383854,-1.0079070689317284,-1.0112734900097282,0.7111182117640453,1.0486950375562232,-0.26391919214625303,-0.4113679094580015,-0.2605367678626934,-0.47530461482159114,-0.053143688579886626,2.3967430629102333,1.8709284111420503,0.25187514496472596,-0.02397569055830253,-0.09829431482066459,0.09403916694330741,0.06531118931264279,1.7638042278748831,1.0049939775004493,-0.6137431487150112,0.6570327734296777,-0.6289093946870737,0.5903155802129443,-1.2205401647556249,0.16685846375701371,-0.7512178872411197,0.08940485042033164,0.7271257315355758,-0.8861325348030998,-0.11871209816686926,-1.4093783931195987,-0.1736218521324273,-1.556684785992902,0.2470908600596826,0.056697008587313615,0.7871147589497839,-0.8801147388503565,0.3565693844796211,-0.3783507036715136,-0.5636310145664183,-0.18403442117576474,0.7945894980989373,0.8203119259602427,-0.8631082962731352,0.21257593940078842],\"xaxis\":\"x2\",\"y\":[-1.8158066953241796,-0.1532154842648918,-0.9087624017607344,-0.715856808084371,-0.7771907606069965,0.7351655714121069,-0.4340066741738052,-1.3736300616332289,-1.0910279061608386,-0.17715896700797562,0.7275992622753656,0.5719735501374622,0.1098535938239624,-0.7597209632957299,-1.1109900639357473,0.6925199043660469,0.7199999841009106,0.2873822213373869,-0.15420187444897465,0.008442848745635374,1.664921806311949,-1.3569852377652243,-0.23428268105986771,-1.9065024563371196,-1.8490542212588523,-0.9960295932103904,0.02314877232934917,1.7212068472548776,1.9013955197338033,-2.35253242851831,0.03040455800019841,0.21563700808987987,-0.4597229928437187,-0.7278607880726488,0.8877592700568671,0.4871704573515719,1.2769068225620719,0.18018462540389163,0.8649699512695074,-0.7445046848660324,-1.2890167760381392,0.5217925979706663,0.9389152424518948,0.9410136911071448,1.5734356802920477,1.4534955851108855,1.6379349099164204,2.051825040464344,-0.8723796481954755,0.6451170978250104,0.7996633553911477,-0.3758811118599081,0.8368783860108395,1.1672923335724237,1.9989574214327248,-0.9803635632487172,1.0272909775625343,-1.6470378469496967,-1.184745488394547,1.240609769403117,2.561043412628804,-0.5143615665306566,0.7449677226155068,-0.6201547168031414,0.6061735043418385,-0.6917606684322949,-0.4568162851669821,-1.4467767829303313,-0.4197208185978394,-0.27718742129594875,0.37837120923512646,1.2126642629518882,0.0393734817792643,-0.26340619911106694,-0.8351980357082801,-0.7959718758615214,0.6618589942538259,-0.4809145778698422,-0.5892785393324456,-0.25863477635135435,-0.6227807044887773,0.6993285851779953,-0.45746330629230986,-1.1643534645330045,1.3236560625253453,-0.6252302065588559,0.3150282283965467,1.137719962772657,0.514273522992465,0.17608458637176752,-0.6721697934374377,-0.9601912730760108,-0.9638044403008365,-0.35406490944069513,0.27014409824766095,0.7873120088931022,-0.4853469923359565,-0.35362079253020634,0.35722262241125424,-0.3869299705042295],\"yaxis\":\"y2\",\"type\":\"scatter\"},{\"line\":{\"color\":\"rgba(128, 128, 128, 1.0)\",\"dash\":\"solid\",\"shape\":\"linear\",\"width\":1.3},\"marker\":{\"size\":2,\"symbol\":\"circle\"},\"mode\":\"markers\",\"name\":\"A\",\"text\":\"\",\"x\":[-0.7385392085312609,0.6059015187854616,1.122739800613316,1.3453235784911914,0.3269935992661774,-1.0707310105993268,-0.3806197642092073,1.6409229266368266,-2.352066299648475,-0.9994785837613791,-0.6912934823216503,1.2826438376675886,0.10291044180972408,0.3349043094372565,-1.0055135614015855,0.9757634381272896,0.9079558995973859,-0.46594652589269664,0.8060052181025692,1.1165653993576703,0.27351976698254615,1.2117888986596437,0.6771514068440193,0.39219000665164555,0.3479770692323999,1.2563752513554332,-1.1979478266842263,-1.78307557243645,-0.7562741622749357,-0.2974990576728704,-0.1151922607598481,1.311871447079243,1.9289668587901412,1.0447706767606724,-0.3002488998726798,0.16269844415688542,0.8631392392988955,-0.7411929665425697,0.5616519838700285,-0.3131147621350836,-0.6069109587105764,-1.447767624550431,-1.442722977432391,-0.6919784434260245,-0.8831316251819575,-0.776479665148661,1.1172122351362055,1.2176337093966687,1.5476467707595074,0.3626072098823158,-1.0983325162443291,-1.383177292817952,1.9628058171277503,-0.055803093732660805,-1.5747713332299496,-0.26532393249082487,0.5479439877410442,1.5535865364644714,-0.47659834301066384,0.2672767984483275,-0.8961147350469946,-0.06471050710422788,-0.5905964775463705,0.7655941714589244,-0.31953091828895985,0.06789288352679154,-1.422263846816249,-0.801161627353756,0.6188842280311928,2.028647190875111,-0.741868678745086,1.6069381796445703,-0.6690556554555435,-0.063584543693092,0.6246448471547272,-0.4216210453943756,-0.8640390041112331,0.5253639742208898,-0.48438019081842754,0.5369509248484133,0.32057822601106967,-1.8760068692251701,0.13126982972121115,0.2970202750556522,0.31359419559538876,-0.3971136117430385,-0.6860056529632396,-0.8962827751063993,0.0025431485827040403,0.27089769469654046,0.7033910031533249,-0.3643665317857516,-0.11787071628933615,-0.9817195744729845,-1.0732541183436184,1.2957749565724392,-1.4894334754857605,0.6917993062855475,-0.3556696508654084,-0.11742785402261754],\"xaxis\":\"x3\",\"y\":[-1.8158066953241796,-0.1532154842648918,-0.9087624017607344,-0.715856808084371,-0.7771907606069965,0.7351655714121069,-0.4340066741738052,-1.3736300616332289,-1.0910279061608386,-0.17715896700797562,0.7275992622753656,0.5719735501374622,0.1098535938239624,-0.7597209632957299,-1.1109900639357473,0.6925199043660469,0.7199999841009106,0.2873822213373869,-0.15420187444897465,0.008442848745635374,1.664921806311949,-1.3569852377652243,-0.23428268105986771,-1.9065024563371196,-1.8490542212588523,-0.9960295932103904,0.02314877232934917,1.7212068472548776,1.9013955197338033,-2.35253242851831,0.03040455800019841,0.21563700808987987,-0.4597229928437187,-0.7278607880726488,0.8877592700568671,0.4871704573515719,1.2769068225620719,0.18018462540389163,0.8649699512695074,-0.7445046848660324,-1.2890167760381392,0.5217925979706663,0.9389152424518948,0.9410136911071448,1.5734356802920477,1.4534955851108855,1.6379349099164204,2.051825040464344,-0.8723796481954755,0.6451170978250104,0.7996633553911477,-0.3758811118599081,0.8368783860108395,1.1672923335724237,1.9989574214327248,-0.9803635632487172,1.0272909775625343,-1.6470378469496967,-1.184745488394547,1.240609769403117,2.561043412628804,-0.5143615665306566,0.7449677226155068,-0.6201547168031414,0.6061735043418385,-0.6917606684322949,-0.4568162851669821,-1.4467767829303313,-0.4197208185978394,-0.27718742129594875,0.37837120923512646,1.2126642629518882,0.0393734817792643,-0.26340619911106694,-0.8351980357082801,-0.7959718758615214,0.6618589942538259,-0.4809145778698422,-0.5892785393324456,-0.25863477635135435,-0.6227807044887773,0.6993285851779953,-0.45746330629230986,-1.1643534645330045,1.3236560625253453,-0.6252302065588559,0.3150282283965467,1.137719962772657,0.514273522992465,0.17608458637176752,-0.6721697934374377,-0.9601912730760108,-0.9638044403008365,-0.35406490944069513,0.27014409824766095,0.7873120088931022,-0.4853469923359565,-0.35362079253020634,0.35722262241125424,-0.3869299705042295],\"yaxis\":\"y3\",\"type\":\"scatter\"},{\"line\":{\"color\":\"rgba(128, 128, 128, 1.0)\",\"dash\":\"solid\",\"shape\":\"linear\",\"width\":1.3},\"marker\":{\"size\":2,\"symbol\":\"circle\"},\"mode\":\"markers\",\"name\":\"A\",\"text\":\"\",\"x\":[-1.6139200331698593,0.1438679806922359,-0.6931362890789643,0.5293045437878271,0.3221349048970399,0.10571979308408555,-0.24687444774814254,1.518751836633535,-1.8417441436634612,1.1901312662968089,1.0452829018107455,0.30605659929868206,-0.43068673344610603,-1.3875533434371963,-0.31328259811412107,-0.47961676390549984,1.325030202070095,-0.4449698448561779,1.0439278536071046,1.5298569917653597,-0.49411730219163136,0.18378781126397709,0.1887592665717357,1.1025966370286202,1.4506954668482208,-2.3261959513491073,-0.4550870936241418,-0.9292829494272545,0.01052435481631606,0.04724180974889832,-0.592794748419755,0.5048698619125271,-0.31543236030487437,1.0659531865858582,-0.8199027965146775,0.9665933026153964,-0.2267356656419576,-0.9656196090197346,0.29696010229584796,-1.6579526166657388,1.2748038036746216,-0.12764161793534448,-0.05487234560680018,0.2861875269503629,0.43721364089885206,1.6086221484162546,-0.7979471094796152,-0.5861898093399176,1.3377350533309027,-0.3739936342499101,0.7462187044964173,-1.2554014451140587,0.5868402650420513,0.8703440156057092,-0.1742196969932546,1.4469818706730642,-0.6262021275282917,0.08399422005607338,-1.8055896023356686,-1.3243969569382086,1.1345389701396054,0.2481429357286683,0.2835512541345572,-0.6881976210702818,-1.0120345386137457,-0.3034886605647908,0.11398208922115317,0.36076317300524025,-0.5169099907753333,1.660678219041089,0.02712667239714875,-2.039741784619864,-0.2805689576358341,1.07484873721293,-0.3521633386079611,0.02930939901426263,-2.5392183963702495,-0.1852718250188313,0.13784622935873658,-0.5808272711014993,-0.5694492380190268,0.3574733700727333,-0.5989894269618654,0.1773981082301825,-2.5437514467559863,0.8468484480608329,0.7898473428685026,0.7168791240146745,0.18038311950933206,0.19470310432542945,-0.6880783920433272,-1.2336408453838985,-0.9501503471607181,0.36047791513110083,-2.3000859597709953,-0.5648727722864505,0.07535442124114042,-1.0231862796219837,-0.2286057647331581,1.6520351190666764],\"xaxis\":\"x4\",\"y\":[-1.8158066953241796,-0.1532154842648918,-0.9087624017607344,-0.715856808084371,-0.7771907606069965,0.7351655714121069,-0.4340066741738052,-1.3736300616332289,-1.0910279061608386,-0.17715896700797562,0.7275992622753656,0.5719735501374622,0.1098535938239624,-0.7597209632957299,-1.1109900639357473,0.6925199043660469,0.7199999841009106,0.2873822213373869,-0.15420187444897465,0.008442848745635374,1.664921806311949,-1.3569852377652243,-0.23428268105986771,-1.9065024563371196,-1.8490542212588523,-0.9960295932103904,0.02314877232934917,1.7212068472548776,1.9013955197338033,-2.35253242851831,0.03040455800019841,0.21563700808987987,-0.4597229928437187,-0.7278607880726488,0.8877592700568671,0.4871704573515719,1.2769068225620719,0.18018462540389163,0.8649699512695074,-0.7445046848660324,-1.2890167760381392,0.5217925979706663,0.9389152424518948,0.9410136911071448,1.5734356802920477,1.4534955851108855,1.6379349099164204,2.051825040464344,-0.8723796481954755,0.6451170978250104,0.7996633553911477,-0.3758811118599081,0.8368783860108395,1.1672923335724237,1.9989574214327248,-0.9803635632487172,1.0272909775625343,-1.6470378469496967,-1.184745488394547,1.240609769403117,2.561043412628804,-0.5143615665306566,0.7449677226155068,-0.6201547168031414,0.6061735043418385,-0.6917606684322949,-0.4568162851669821,-1.4467767829303313,-0.4197208185978394,-0.27718742129594875,0.37837120923512646,1.2126642629518882,0.0393734817792643,-0.26340619911106694,-0.8351980357082801,-0.7959718758615214,0.6618589942538259,-0.4809145778698422,-0.5892785393324456,-0.25863477635135435,-0.6227807044887773,0.6993285851779953,-0.45746330629230986,-1.1643534645330045,1.3236560625253453,-0.6252302065588559,0.3150282283965467,1.137719962772657,0.514273522992465,0.17608458637176752,-0.6721697934374377,-0.9601912730760108,-0.9638044403008365,-0.35406490944069513,0.27014409824766095,0.7873120088931022,-0.4853469923359565,-0.35362079253020634,0.35722262241125424,-0.3869299705042295],\"yaxis\":\"y4\",\"type\":\"scatter\"},{\"line\":{\"color\":\"rgba(128, 128, 128, 1.0)\",\"dash\":\"solid\",\"shape\":\"linear\",\"width\":1.3},\"marker\":{\"size\":2,\"symbol\":\"circle\"},\"mode\":\"markers\",\"name\":\"B\",\"text\":\"\",\"x\":[-1.8158066953241796,-0.1532154842648918,-0.9087624017607344,-0.715856808084371,-0.7771907606069965,0.7351655714121069,-0.4340066741738052,-1.3736300616332289,-1.0910279061608386,-0.17715896700797562,0.7275992622753656,0.5719735501374622,0.1098535938239624,-0.7597209632957299,-1.1109900639357473,0.6925199043660469,0.7199999841009106,0.2873822213373869,-0.15420187444897465,0.008442848745635374,1.664921806311949,-1.3569852377652243,-0.23428268105986771,-1.9065024563371196,-1.8490542212588523,-0.9960295932103904,0.02314877232934917,1.7212068472548776,1.9013955197338033,-2.35253242851831,0.03040455800019841,0.21563700808987987,-0.4597229928437187,-0.7278607880726488,0.8877592700568671,0.4871704573515719,1.2769068225620719,0.18018462540389163,0.8649699512695074,-0.7445046848660324,-1.2890167760381392,0.5217925979706663,0.9389152424518948,0.9410136911071448,1.5734356802920477,1.4534955851108855,1.6379349099164204,2.051825040464344,-0.8723796481954755,0.6451170978250104,0.7996633553911477,-0.3758811118599081,0.8368783860108395,1.1672923335724237,1.9989574214327248,-0.9803635632487172,1.0272909775625343,-1.6470378469496967,-1.184745488394547,1.240609769403117,2.561043412628804,-0.5143615665306566,0.7449677226155068,-0.6201547168031414,0.6061735043418385,-0.6917606684322949,-0.4568162851669821,-1.4467767829303313,-0.4197208185978394,-0.27718742129594875,0.37837120923512646,1.2126642629518882,0.0393734817792643,-0.26340619911106694,-0.8351980357082801,-0.7959718758615214,0.6618589942538259,-0.4809145778698422,-0.5892785393324456,-0.25863477635135435,-0.6227807044887773,0.6993285851779953,-0.45746330629230986,-1.1643534645330045,1.3236560625253453,-0.6252302065588559,0.3150282283965467,1.137719962772657,0.514273522992465,0.17608458637176752,-0.6721697934374377,-0.9601912730760108,-0.9638044403008365,-0.35406490944069513,0.27014409824766095,0.7873120088931022,-0.4853469923359565,-0.35362079253020634,0.35722262241125424,-0.3869299705042295],\"xaxis\":\"x5\",\"y\":[1.6962518426992457,-0.982193639127554,-2.1197856966587434,0.38054873370497094,-1.361275653580498,0.3019613106241735,0.5737655133927131,1.0945211359269573,0.5495438835085136,1.0344716229317987,1.5145618337839344,-1.322817574245342,-1.1907820282214117,-0.528632777074625,1.3012340540546952,-1.0689263129920183,-2.84496629837369,0.046135758701366845,-0.24639563344520166,0.25128120296962836,0.36830940996399714,0.12031333614256282,-0.8010686487431482,-1.9327299966087452,0.7590071315508242,0.09728845697523336,-0.6894331452347948,0.11100076999006471,0.8004367772526133,-0.3793003097447568,-0.010050251411239644,-1.157220777492313,0.2488904704855463,0.8320141897637261,-0.12460299783173051,-0.9910263142307557,0.7372791083222395,0.24955057188182372,-0.8396515362306939,-0.6309241374644079,-0.279841188171254,-0.16186589249778788,0.8051370085683334,0.6540567389457904,-1.5798108304946163,0.20639652702521474,0.39333903402492476,-0.4810666724010602,-0.3800959479086856,-0.3077260319677847,1.5208418364763474,0.7892210421725961,1.8591446122703879,1.7034420043231697,-0.10683091684168655,-0.4775338738383854,-1.0079070689317284,-1.0112734900097282,0.7111182117640453,1.0486950375562232,-0.26391919214625303,-0.4113679094580015,-0.2605367678626934,-0.47530461482159114,-0.053143688579886626,2.3967430629102333,1.8709284111420503,0.25187514496472596,-0.02397569055830253,-0.09829431482066459,0.09403916694330741,0.06531118931264279,1.7638042278748831,1.0049939775004493,-0.6137431487150112,0.6570327734296777,-0.6289093946870737,0.5903155802129443,-1.2205401647556249,0.16685846375701371,-0.7512178872411197,0.08940485042033164,0.7271257315355758,-0.8861325348030998,-0.11871209816686926,-1.4093783931195987,-0.1736218521324273,-1.556684785992902,0.2470908600596826,0.056697008587313615,0.7871147589497839,-0.8801147388503565,0.3565693844796211,-0.3783507036715136,-0.5636310145664183,-0.18403442117576474,0.7945894980989373,0.8203119259602427,-0.8631082962731352,0.21257593940078842],\"yaxis\":\"y5\",\"type\":\"scatter\"},{\"histfunc\":\"count\",\"histnorm\":\"\",\"marker\":{\"color\":\"rgba(55, 128, 191, 1.0)\",\"line\":{\"color\":\"#4D5663\",\"width\":1.3}},\"name\":\"B\",\"nbinsx\":10,\"opacity\":0.8,\"orientation\":\"v\",\"x\":[1.6962518426992457,-0.982193639127554,-2.1197856966587434,0.38054873370497094,-1.361275653580498,0.3019613106241735,0.5737655133927131,1.0945211359269573,0.5495438835085136,1.0344716229317987,1.5145618337839344,-1.322817574245342,-1.1907820282214117,-0.528632777074625,1.3012340540546952,-1.0689263129920183,-2.84496629837369,0.046135758701366845,-0.24639563344520166,0.25128120296962836,0.36830940996399714,0.12031333614256282,-0.8010686487431482,-1.9327299966087452,0.7590071315508242,0.09728845697523336,-0.6894331452347948,0.11100076999006471,0.8004367772526133,-0.3793003097447568,-0.010050251411239644,-1.157220777492313,0.2488904704855463,0.8320141897637261,-0.12460299783173051,-0.9910263142307557,0.7372791083222395,0.24955057188182372,-0.8396515362306939,-0.6309241374644079,-0.279841188171254,-0.16186589249778788,0.8051370085683334,0.6540567389457904,-1.5798108304946163,0.20639652702521474,0.39333903402492476,-0.4810666724010602,-0.3800959479086856,-0.3077260319677847,1.5208418364763474,0.7892210421725961,1.8591446122703879,1.7034420043231697,-0.10683091684168655,-0.4775338738383854,-1.0079070689317284,-1.0112734900097282,0.7111182117640453,1.0486950375562232,-0.26391919214625303,-0.4113679094580015,-0.2605367678626934,-0.47530461482159114,-0.053143688579886626,2.3967430629102333,1.8709284111420503,0.25187514496472596,-0.02397569055830253,-0.09829431482066459,0.09403916694330741,0.06531118931264279,1.7638042278748831,1.0049939775004493,-0.6137431487150112,0.6570327734296777,-0.6289093946870737,0.5903155802129443,-1.2205401647556249,0.16685846375701371,-0.7512178872411197,0.08940485042033164,0.7271257315355758,-0.8861325348030998,-0.11871209816686926,-1.4093783931195987,-0.1736218521324273,-1.556684785992902,0.2470908600596826,0.056697008587313615,0.7871147589497839,-0.8801147388503565,0.3565693844796211,-0.3783507036715136,-0.5636310145664183,-0.18403442117576474,0.7945894980989373,0.8203119259602427,-0.8631082962731352,0.21257593940078842],\"xaxis\":\"x6\",\"yaxis\":\"y6\",\"type\":\"histogram\"},{\"line\":{\"color\":\"rgba(128, 128, 128, 1.0)\",\"dash\":\"solid\",\"shape\":\"linear\",\"width\":1.3},\"marker\":{\"size\":2,\"symbol\":\"circle\"},\"mode\":\"markers\",\"name\":\"B\",\"text\":\"\",\"x\":[-0.7385392085312609,0.6059015187854616,1.122739800613316,1.3453235784911914,0.3269935992661774,-1.0707310105993268,-0.3806197642092073,1.6409229266368266,-2.352066299648475,-0.9994785837613791,-0.6912934823216503,1.2826438376675886,0.10291044180972408,0.3349043094372565,-1.0055135614015855,0.9757634381272896,0.9079558995973859,-0.46594652589269664,0.8060052181025692,1.1165653993576703,0.27351976698254615,1.2117888986596437,0.6771514068440193,0.39219000665164555,0.3479770692323999,1.2563752513554332,-1.1979478266842263,-1.78307557243645,-0.7562741622749357,-0.2974990576728704,-0.1151922607598481,1.311871447079243,1.9289668587901412,1.0447706767606724,-0.3002488998726798,0.16269844415688542,0.8631392392988955,-0.7411929665425697,0.5616519838700285,-0.3131147621350836,-0.6069109587105764,-1.447767624550431,-1.442722977432391,-0.6919784434260245,-0.8831316251819575,-0.776479665148661,1.1172122351362055,1.2176337093966687,1.5476467707595074,0.3626072098823158,-1.0983325162443291,-1.383177292817952,1.9628058171277503,-0.055803093732660805,-1.5747713332299496,-0.26532393249082487,0.5479439877410442,1.5535865364644714,-0.47659834301066384,0.2672767984483275,-0.8961147350469946,-0.06471050710422788,-0.5905964775463705,0.7655941714589244,-0.31953091828895985,0.06789288352679154,-1.422263846816249,-0.801161627353756,0.6188842280311928,2.028647190875111,-0.741868678745086,1.6069381796445703,-0.6690556554555435,-0.063584543693092,0.6246448471547272,-0.4216210453943756,-0.8640390041112331,0.5253639742208898,-0.48438019081842754,0.5369509248484133,0.32057822601106967,-1.8760068692251701,0.13126982972121115,0.2970202750556522,0.31359419559538876,-0.3971136117430385,-0.6860056529632396,-0.8962827751063993,0.0025431485827040403,0.27089769469654046,0.7033910031533249,-0.3643665317857516,-0.11787071628933615,-0.9817195744729845,-1.0732541183436184,1.2957749565724392,-1.4894334754857605,0.6917993062855475,-0.3556696508654084,-0.11742785402261754],\"xaxis\":\"x7\",\"y\":[1.6962518426992457,-0.982193639127554,-2.1197856966587434,0.38054873370497094,-1.361275653580498,0.3019613106241735,0.5737655133927131,1.0945211359269573,0.5495438835085136,1.0344716229317987,1.5145618337839344,-1.322817574245342,-1.1907820282214117,-0.528632777074625,1.3012340540546952,-1.0689263129920183,-2.84496629837369,0.046135758701366845,-0.24639563344520166,0.25128120296962836,0.36830940996399714,0.12031333614256282,-0.8010686487431482,-1.9327299966087452,0.7590071315508242,0.09728845697523336,-0.6894331452347948,0.11100076999006471,0.8004367772526133,-0.3793003097447568,-0.010050251411239644,-1.157220777492313,0.2488904704855463,0.8320141897637261,-0.12460299783173051,-0.9910263142307557,0.7372791083222395,0.24955057188182372,-0.8396515362306939,-0.6309241374644079,-0.279841188171254,-0.16186589249778788,0.8051370085683334,0.6540567389457904,-1.5798108304946163,0.20639652702521474,0.39333903402492476,-0.4810666724010602,-0.3800959479086856,-0.3077260319677847,1.5208418364763474,0.7892210421725961,1.8591446122703879,1.7034420043231697,-0.10683091684168655,-0.4775338738383854,-1.0079070689317284,-1.0112734900097282,0.7111182117640453,1.0486950375562232,-0.26391919214625303,-0.4113679094580015,-0.2605367678626934,-0.47530461482159114,-0.053143688579886626,2.3967430629102333,1.8709284111420503,0.25187514496472596,-0.02397569055830253,-0.09829431482066459,0.09403916694330741,0.06531118931264279,1.7638042278748831,1.0049939775004493,-0.6137431487150112,0.6570327734296777,-0.6289093946870737,0.5903155802129443,-1.2205401647556249,0.16685846375701371,-0.7512178872411197,0.08940485042033164,0.7271257315355758,-0.8861325348030998,-0.11871209816686926,-1.4093783931195987,-0.1736218521324273,-1.556684785992902,0.2470908600596826,0.056697008587313615,0.7871147589497839,-0.8801147388503565,0.3565693844796211,-0.3783507036715136,-0.5636310145664183,-0.18403442117576474,0.7945894980989373,0.8203119259602427,-0.8631082962731352,0.21257593940078842],\"yaxis\":\"y7\",\"type\":\"scatter\"},{\"line\":{\"color\":\"rgba(128, 128, 128, 1.0)\",\"dash\":\"solid\",\"shape\":\"linear\",\"width\":1.3},\"marker\":{\"size\":2,\"symbol\":\"circle\"},\"mode\":\"markers\",\"name\":\"B\",\"text\":\"\",\"x\":[-1.6139200331698593,0.1438679806922359,-0.6931362890789643,0.5293045437878271,0.3221349048970399,0.10571979308408555,-0.24687444774814254,1.518751836633535,-1.8417441436634612,1.1901312662968089,1.0452829018107455,0.30605659929868206,-0.43068673344610603,-1.3875533434371963,-0.31328259811412107,-0.47961676390549984,1.325030202070095,-0.4449698448561779,1.0439278536071046,1.5298569917653597,-0.49411730219163136,0.18378781126397709,0.1887592665717357,1.1025966370286202,1.4506954668482208,-2.3261959513491073,-0.4550870936241418,-0.9292829494272545,0.01052435481631606,0.04724180974889832,-0.592794748419755,0.5048698619125271,-0.31543236030487437,1.0659531865858582,-0.8199027965146775,0.9665933026153964,-0.2267356656419576,-0.9656196090197346,0.29696010229584796,-1.6579526166657388,1.2748038036746216,-0.12764161793534448,-0.05487234560680018,0.2861875269503629,0.43721364089885206,1.6086221484162546,-0.7979471094796152,-0.5861898093399176,1.3377350533309027,-0.3739936342499101,0.7462187044964173,-1.2554014451140587,0.5868402650420513,0.8703440156057092,-0.1742196969932546,1.4469818706730642,-0.6262021275282917,0.08399422005607338,-1.8055896023356686,-1.3243969569382086,1.1345389701396054,0.2481429357286683,0.2835512541345572,-0.6881976210702818,-1.0120345386137457,-0.3034886605647908,0.11398208922115317,0.36076317300524025,-0.5169099907753333,1.660678219041089,0.02712667239714875,-2.039741784619864,-0.2805689576358341,1.07484873721293,-0.3521633386079611,0.02930939901426263,-2.5392183963702495,-0.1852718250188313,0.13784622935873658,-0.5808272711014993,-0.5694492380190268,0.3574733700727333,-0.5989894269618654,0.1773981082301825,-2.5437514467559863,0.8468484480608329,0.7898473428685026,0.7168791240146745,0.18038311950933206,0.19470310432542945,-0.6880783920433272,-1.2336408453838985,-0.9501503471607181,0.36047791513110083,-2.3000859597709953,-0.5648727722864505,0.07535442124114042,-1.0231862796219837,-0.2286057647331581,1.6520351190666764],\"xaxis\":\"x8\",\"y\":[1.6962518426992457,-0.982193639127554,-2.1197856966587434,0.38054873370497094,-1.361275653580498,0.3019613106241735,0.5737655133927131,1.0945211359269573,0.5495438835085136,1.0344716229317987,1.5145618337839344,-1.322817574245342,-1.1907820282214117,-0.528632777074625,1.3012340540546952,-1.0689263129920183,-2.84496629837369,0.046135758701366845,-0.24639563344520166,0.25128120296962836,0.36830940996399714,0.12031333614256282,-0.8010686487431482,-1.9327299966087452,0.7590071315508242,0.09728845697523336,-0.6894331452347948,0.11100076999006471,0.8004367772526133,-0.3793003097447568,-0.010050251411239644,-1.157220777492313,0.2488904704855463,0.8320141897637261,-0.12460299783173051,-0.9910263142307557,0.7372791083222395,0.24955057188182372,-0.8396515362306939,-0.6309241374644079,-0.279841188171254,-0.16186589249778788,0.8051370085683334,0.6540567389457904,-1.5798108304946163,0.20639652702521474,0.39333903402492476,-0.4810666724010602,-0.3800959479086856,-0.3077260319677847,1.5208418364763474,0.7892210421725961,1.8591446122703879,1.7034420043231697,-0.10683091684168655,-0.4775338738383854,-1.0079070689317284,-1.0112734900097282,0.7111182117640453,1.0486950375562232,-0.26391919214625303,-0.4113679094580015,-0.2605367678626934,-0.47530461482159114,-0.053143688579886626,2.3967430629102333,1.8709284111420503,0.25187514496472596,-0.02397569055830253,-0.09829431482066459,0.09403916694330741,0.06531118931264279,1.7638042278748831,1.0049939775004493,-0.6137431487150112,0.6570327734296777,-0.6289093946870737,0.5903155802129443,-1.2205401647556249,0.16685846375701371,-0.7512178872411197,0.08940485042033164,0.7271257315355758,-0.8861325348030998,-0.11871209816686926,-1.4093783931195987,-0.1736218521324273,-1.556684785992902,0.2470908600596826,0.056697008587313615,0.7871147589497839,-0.8801147388503565,0.3565693844796211,-0.3783507036715136,-0.5636310145664183,-0.18403442117576474,0.7945894980989373,0.8203119259602427,-0.8631082962731352,0.21257593940078842],\"yaxis\":\"y8\",\"type\":\"scatter\"},{\"line\":{\"color\":\"rgba(128, 128, 128, 1.0)\",\"dash\":\"solid\",\"shape\":\"linear\",\"width\":1.3},\"marker\":{\"size\":2,\"symbol\":\"circle\"},\"mode\":\"markers\",\"name\":\"C\",\"text\":\"\",\"x\":[-1.8158066953241796,-0.1532154842648918,-0.9087624017607344,-0.715856808084371,-0.7771907606069965,0.7351655714121069,-0.4340066741738052,-1.3736300616332289,-1.0910279061608386,-0.17715896700797562,0.7275992622753656,0.5719735501374622,0.1098535938239624,-0.7597209632957299,-1.1109900639357473,0.6925199043660469,0.7199999841009106,0.2873822213373869,-0.15420187444897465,0.008442848745635374,1.664921806311949,-1.3569852377652243,-0.23428268105986771,-1.9065024563371196,-1.8490542212588523,-0.9960295932103904,0.02314877232934917,1.7212068472548776,1.9013955197338033,-2.35253242851831,0.03040455800019841,0.21563700808987987,-0.4597229928437187,-0.7278607880726488,0.8877592700568671,0.4871704573515719,1.2769068225620719,0.18018462540389163,0.8649699512695074,-0.7445046848660324,-1.2890167760381392,0.5217925979706663,0.9389152424518948,0.9410136911071448,1.5734356802920477,1.4534955851108855,1.6379349099164204,2.051825040464344,-0.8723796481954755,0.6451170978250104,0.7996633553911477,-0.3758811118599081,0.8368783860108395,1.1672923335724237,1.9989574214327248,-0.9803635632487172,1.0272909775625343,-1.6470378469496967,-1.184745488394547,1.240609769403117,2.561043412628804,-0.5143615665306566,0.7449677226155068,-0.6201547168031414,0.6061735043418385,-0.6917606684322949,-0.4568162851669821,-1.4467767829303313,-0.4197208185978394,-0.27718742129594875,0.37837120923512646,1.2126642629518882,0.0393734817792643,-0.26340619911106694,-0.8351980357082801,-0.7959718758615214,0.6618589942538259,-0.4809145778698422,-0.5892785393324456,-0.25863477635135435,-0.6227807044887773,0.6993285851779953,-0.45746330629230986,-1.1643534645330045,1.3236560625253453,-0.6252302065588559,0.3150282283965467,1.137719962772657,0.514273522992465,0.17608458637176752,-0.6721697934374377,-0.9601912730760108,-0.9638044403008365,-0.35406490944069513,0.27014409824766095,0.7873120088931022,-0.4853469923359565,-0.35362079253020634,0.35722262241125424,-0.3869299705042295],\"xaxis\":\"x9\",\"y\":[-0.7385392085312609,0.6059015187854616,1.122739800613316,1.3453235784911914,0.3269935992661774,-1.0707310105993268,-0.3806197642092073,1.6409229266368266,-2.352066299648475,-0.9994785837613791,-0.6912934823216503,1.2826438376675886,0.10291044180972408,0.3349043094372565,-1.0055135614015855,0.9757634381272896,0.9079558995973859,-0.46594652589269664,0.8060052181025692,1.1165653993576703,0.27351976698254615,1.2117888986596437,0.6771514068440193,0.39219000665164555,0.3479770692323999,1.2563752513554332,-1.1979478266842263,-1.78307557243645,-0.7562741622749357,-0.2974990576728704,-0.1151922607598481,1.311871447079243,1.9289668587901412,1.0447706767606724,-0.3002488998726798,0.16269844415688542,0.8631392392988955,-0.7411929665425697,0.5616519838700285,-0.3131147621350836,-0.6069109587105764,-1.447767624550431,-1.442722977432391,-0.6919784434260245,-0.8831316251819575,-0.776479665148661,1.1172122351362055,1.2176337093966687,1.5476467707595074,0.3626072098823158,-1.0983325162443291,-1.383177292817952,1.9628058171277503,-0.055803093732660805,-1.5747713332299496,-0.26532393249082487,0.5479439877410442,1.5535865364644714,-0.47659834301066384,0.2672767984483275,-0.8961147350469946,-0.06471050710422788,-0.5905964775463705,0.7655941714589244,-0.31953091828895985,0.06789288352679154,-1.422263846816249,-0.801161627353756,0.6188842280311928,2.028647190875111,-0.741868678745086,1.6069381796445703,-0.6690556554555435,-0.063584543693092,0.6246448471547272,-0.4216210453943756,-0.8640390041112331,0.5253639742208898,-0.48438019081842754,0.5369509248484133,0.32057822601106967,-1.8760068692251701,0.13126982972121115,0.2970202750556522,0.31359419559538876,-0.3971136117430385,-0.6860056529632396,-0.8962827751063993,0.0025431485827040403,0.27089769469654046,0.7033910031533249,-0.3643665317857516,-0.11787071628933615,-0.9817195744729845,-1.0732541183436184,1.2957749565724392,-1.4894334754857605,0.6917993062855475,-0.3556696508654084,-0.11742785402261754],\"yaxis\":\"y9\",\"type\":\"scatter\"},{\"line\":{\"color\":\"rgba(128, 128, 128, 1.0)\",\"dash\":\"solid\",\"shape\":\"linear\",\"width\":1.3},\"marker\":{\"size\":2,\"symbol\":\"circle\"},\"mode\":\"markers\",\"name\":\"C\",\"text\":\"\",\"x\":[1.6962518426992457,-0.982193639127554,-2.1197856966587434,0.38054873370497094,-1.361275653580498,0.3019613106241735,0.5737655133927131,1.0945211359269573,0.5495438835085136,1.0344716229317987,1.5145618337839344,-1.322817574245342,-1.1907820282214117,-0.528632777074625,1.3012340540546952,-1.0689263129920183,-2.84496629837369,0.046135758701366845,-0.24639563344520166,0.25128120296962836,0.36830940996399714,0.12031333614256282,-0.8010686487431482,-1.9327299966087452,0.7590071315508242,0.09728845697523336,-0.6894331452347948,0.11100076999006471,0.8004367772526133,-0.3793003097447568,-0.010050251411239644,-1.157220777492313,0.2488904704855463,0.8320141897637261,-0.12460299783173051,-0.9910263142307557,0.7372791083222395,0.24955057188182372,-0.8396515362306939,-0.6309241374644079,-0.279841188171254,-0.16186589249778788,0.8051370085683334,0.6540567389457904,-1.5798108304946163,0.20639652702521474,0.39333903402492476,-0.4810666724010602,-0.3800959479086856,-0.3077260319677847,1.5208418364763474,0.7892210421725961,1.8591446122703879,1.7034420043231697,-0.10683091684168655,-0.4775338738383854,-1.0079070689317284,-1.0112734900097282,0.7111182117640453,1.0486950375562232,-0.26391919214625303,-0.4113679094580015,-0.2605367678626934,-0.47530461482159114,-0.053143688579886626,2.3967430629102333,1.8709284111420503,0.25187514496472596,-0.02397569055830253,-0.09829431482066459,0.09403916694330741,0.06531118931264279,1.7638042278748831,1.0049939775004493,-0.6137431487150112,0.6570327734296777,-0.6289093946870737,0.5903155802129443,-1.2205401647556249,0.16685846375701371,-0.7512178872411197,0.08940485042033164,0.7271257315355758,-0.8861325348030998,-0.11871209816686926,-1.4093783931195987,-0.1736218521324273,-1.556684785992902,0.2470908600596826,0.056697008587313615,0.7871147589497839,-0.8801147388503565,0.3565693844796211,-0.3783507036715136,-0.5636310145664183,-0.18403442117576474,0.7945894980989373,0.8203119259602427,-0.8631082962731352,0.21257593940078842],\"xaxis\":\"x10\",\"y\":[-0.7385392085312609,0.6059015187854616,1.122739800613316,1.3453235784911914,0.3269935992661774,-1.0707310105993268,-0.3806197642092073,1.6409229266368266,-2.352066299648475,-0.9994785837613791,-0.6912934823216503,1.2826438376675886,0.10291044180972408,0.3349043094372565,-1.0055135614015855,0.9757634381272896,0.9079558995973859,-0.46594652589269664,0.8060052181025692,1.1165653993576703,0.27351976698254615,1.2117888986596437,0.6771514068440193,0.39219000665164555,0.3479770692323999,1.2563752513554332,-1.1979478266842263,-1.78307557243645,-0.7562741622749357,-0.2974990576728704,-0.1151922607598481,1.311871447079243,1.9289668587901412,1.0447706767606724,-0.3002488998726798,0.16269844415688542,0.8631392392988955,-0.7411929665425697,0.5616519838700285,-0.3131147621350836,-0.6069109587105764,-1.447767624550431,-1.442722977432391,-0.6919784434260245,-0.8831316251819575,-0.776479665148661,1.1172122351362055,1.2176337093966687,1.5476467707595074,0.3626072098823158,-1.0983325162443291,-1.383177292817952,1.9628058171277503,-0.055803093732660805,-1.5747713332299496,-0.26532393249082487,0.5479439877410442,1.5535865364644714,-0.47659834301066384,0.2672767984483275,-0.8961147350469946,-0.06471050710422788,-0.5905964775463705,0.7655941714589244,-0.31953091828895985,0.06789288352679154,-1.422263846816249,-0.801161627353756,0.6188842280311928,2.028647190875111,-0.741868678745086,1.6069381796445703,-0.6690556554555435,-0.063584543693092,0.6246448471547272,-0.4216210453943756,-0.8640390041112331,0.5253639742208898,-0.48438019081842754,0.5369509248484133,0.32057822601106967,-1.8760068692251701,0.13126982972121115,0.2970202750556522,0.31359419559538876,-0.3971136117430385,-0.6860056529632396,-0.8962827751063993,0.0025431485827040403,0.27089769469654046,0.7033910031533249,-0.3643665317857516,-0.11787071628933615,-0.9817195744729845,-1.0732541183436184,1.2957749565724392,-1.4894334754857605,0.6917993062855475,-0.3556696508654084,-0.11742785402261754],\"yaxis\":\"y10\",\"type\":\"scatter\"},{\"histfunc\":\"count\",\"histnorm\":\"\",\"marker\":{\"color\":\"rgba(50, 171, 96, 1.0)\",\"line\":{\"color\":\"#4D5663\",\"width\":1.3}},\"name\":\"C\",\"nbinsx\":10,\"opacity\":0.8,\"orientation\":\"v\",\"x\":[-0.7385392085312609,0.6059015187854616,1.122739800613316,1.3453235784911914,0.3269935992661774,-1.0707310105993268,-0.3806197642092073,1.6409229266368266,-2.352066299648475,-0.9994785837613791,-0.6912934823216503,1.2826438376675886,0.10291044180972408,0.3349043094372565,-1.0055135614015855,0.9757634381272896,0.9079558995973859,-0.46594652589269664,0.8060052181025692,1.1165653993576703,0.27351976698254615,1.2117888986596437,0.6771514068440193,0.39219000665164555,0.3479770692323999,1.2563752513554332,-1.1979478266842263,-1.78307557243645,-0.7562741622749357,-0.2974990576728704,-0.1151922607598481,1.311871447079243,1.9289668587901412,1.0447706767606724,-0.3002488998726798,0.16269844415688542,0.8631392392988955,-0.7411929665425697,0.5616519838700285,-0.3131147621350836,-0.6069109587105764,-1.447767624550431,-1.442722977432391,-0.6919784434260245,-0.8831316251819575,-0.776479665148661,1.1172122351362055,1.2176337093966687,1.5476467707595074,0.3626072098823158,-1.0983325162443291,-1.383177292817952,1.9628058171277503,-0.055803093732660805,-1.5747713332299496,-0.26532393249082487,0.5479439877410442,1.5535865364644714,-0.47659834301066384,0.2672767984483275,-0.8961147350469946,-0.06471050710422788,-0.5905964775463705,0.7655941714589244,-0.31953091828895985,0.06789288352679154,-1.422263846816249,-0.801161627353756,0.6188842280311928,2.028647190875111,-0.741868678745086,1.6069381796445703,-0.6690556554555435,-0.063584543693092,0.6246448471547272,-0.4216210453943756,-0.8640390041112331,0.5253639742208898,-0.48438019081842754,0.5369509248484133,0.32057822601106967,-1.8760068692251701,0.13126982972121115,0.2970202750556522,0.31359419559538876,-0.3971136117430385,-0.6860056529632396,-0.8962827751063993,0.0025431485827040403,0.27089769469654046,0.7033910031533249,-0.3643665317857516,-0.11787071628933615,-0.9817195744729845,-1.0732541183436184,1.2957749565724392,-1.4894334754857605,0.6917993062855475,-0.3556696508654084,-0.11742785402261754],\"xaxis\":\"x11\",\"yaxis\":\"y11\",\"type\":\"histogram\"},{\"line\":{\"color\":\"rgba(128, 128, 128, 1.0)\",\"dash\":\"solid\",\"shape\":\"linear\",\"width\":1.3},\"marker\":{\"size\":2,\"symbol\":\"circle\"},\"mode\":\"markers\",\"name\":\"C\",\"text\":\"\",\"x\":[-1.6139200331698593,0.1438679806922359,-0.6931362890789643,0.5293045437878271,0.3221349048970399,0.10571979308408555,-0.24687444774814254,1.518751836633535,-1.8417441436634612,1.1901312662968089,1.0452829018107455,0.30605659929868206,-0.43068673344610603,-1.3875533434371963,-0.31328259811412107,-0.47961676390549984,1.325030202070095,-0.4449698448561779,1.0439278536071046,1.5298569917653597,-0.49411730219163136,0.18378781126397709,0.1887592665717357,1.1025966370286202,1.4506954668482208,-2.3261959513491073,-0.4550870936241418,-0.9292829494272545,0.01052435481631606,0.04724180974889832,-0.592794748419755,0.5048698619125271,-0.31543236030487437,1.0659531865858582,-0.8199027965146775,0.9665933026153964,-0.2267356656419576,-0.9656196090197346,0.29696010229584796,-1.6579526166657388,1.2748038036746216,-0.12764161793534448,-0.05487234560680018,0.2861875269503629,0.43721364089885206,1.6086221484162546,-0.7979471094796152,-0.5861898093399176,1.3377350533309027,-0.3739936342499101,0.7462187044964173,-1.2554014451140587,0.5868402650420513,0.8703440156057092,-0.1742196969932546,1.4469818706730642,-0.6262021275282917,0.08399422005607338,-1.8055896023356686,-1.3243969569382086,1.1345389701396054,0.2481429357286683,0.2835512541345572,-0.6881976210702818,-1.0120345386137457,-0.3034886605647908,0.11398208922115317,0.36076317300524025,-0.5169099907753333,1.660678219041089,0.02712667239714875,-2.039741784619864,-0.2805689576358341,1.07484873721293,-0.3521633386079611,0.02930939901426263,-2.5392183963702495,-0.1852718250188313,0.13784622935873658,-0.5808272711014993,-0.5694492380190268,0.3574733700727333,-0.5989894269618654,0.1773981082301825,-2.5437514467559863,0.8468484480608329,0.7898473428685026,0.7168791240146745,0.18038311950933206,0.19470310432542945,-0.6880783920433272,-1.2336408453838985,-0.9501503471607181,0.36047791513110083,-2.3000859597709953,-0.5648727722864505,0.07535442124114042,-1.0231862796219837,-0.2286057647331581,1.6520351190666764],\"xaxis\":\"x12\",\"y\":[-0.7385392085312609,0.6059015187854616,1.122739800613316,1.3453235784911914,0.3269935992661774,-1.0707310105993268,-0.3806197642092073,1.6409229266368266,-2.352066299648475,-0.9994785837613791,-0.6912934823216503,1.2826438376675886,0.10291044180972408,0.3349043094372565,-1.0055135614015855,0.9757634381272896,0.9079558995973859,-0.46594652589269664,0.8060052181025692,1.1165653993576703,0.27351976698254615,1.2117888986596437,0.6771514068440193,0.39219000665164555,0.3479770692323999,1.2563752513554332,-1.1979478266842263,-1.78307557243645,-0.7562741622749357,-0.2974990576728704,-0.1151922607598481,1.311871447079243,1.9289668587901412,1.0447706767606724,-0.3002488998726798,0.16269844415688542,0.8631392392988955,-0.7411929665425697,0.5616519838700285,-0.3131147621350836,-0.6069109587105764,-1.447767624550431,-1.442722977432391,-0.6919784434260245,-0.8831316251819575,-0.776479665148661,1.1172122351362055,1.2176337093966687,1.5476467707595074,0.3626072098823158,-1.0983325162443291,-1.383177292817952,1.9628058171277503,-0.055803093732660805,-1.5747713332299496,-0.26532393249082487,0.5479439877410442,1.5535865364644714,-0.47659834301066384,0.2672767984483275,-0.8961147350469946,-0.06471050710422788,-0.5905964775463705,0.7655941714589244,-0.31953091828895985,0.06789288352679154,-1.422263846816249,-0.801161627353756,0.6188842280311928,2.028647190875111,-0.741868678745086,1.6069381796445703,-0.6690556554555435,-0.063584543693092,0.6246448471547272,-0.4216210453943756,-0.8640390041112331,0.5253639742208898,-0.48438019081842754,0.5369509248484133,0.32057822601106967,-1.8760068692251701,0.13126982972121115,0.2970202750556522,0.31359419559538876,-0.3971136117430385,-0.6860056529632396,-0.8962827751063993,0.0025431485827040403,0.27089769469654046,0.7033910031533249,-0.3643665317857516,-0.11787071628933615,-0.9817195744729845,-1.0732541183436184,1.2957749565724392,-1.4894334754857605,0.6917993062855475,-0.3556696508654084,-0.11742785402261754],\"yaxis\":\"y12\",\"type\":\"scatter\"},{\"line\":{\"color\":\"rgba(128, 128, 128, 1.0)\",\"dash\":\"solid\",\"shape\":\"linear\",\"width\":1.3},\"marker\":{\"size\":2,\"symbol\":\"circle\"},\"mode\":\"markers\",\"name\":\"D\",\"text\":\"\",\"x\":[-1.8158066953241796,-0.1532154842648918,-0.9087624017607344,-0.715856808084371,-0.7771907606069965,0.7351655714121069,-0.4340066741738052,-1.3736300616332289,-1.0910279061608386,-0.17715896700797562,0.7275992622753656,0.5719735501374622,0.1098535938239624,-0.7597209632957299,-1.1109900639357473,0.6925199043660469,0.7199999841009106,0.2873822213373869,-0.15420187444897465,0.008442848745635374,1.664921806311949,-1.3569852377652243,-0.23428268105986771,-1.9065024563371196,-1.8490542212588523,-0.9960295932103904,0.02314877232934917,1.7212068472548776,1.9013955197338033,-2.35253242851831,0.03040455800019841,0.21563700808987987,-0.4597229928437187,-0.7278607880726488,0.8877592700568671,0.4871704573515719,1.2769068225620719,0.18018462540389163,0.8649699512695074,-0.7445046848660324,-1.2890167760381392,0.5217925979706663,0.9389152424518948,0.9410136911071448,1.5734356802920477,1.4534955851108855,1.6379349099164204,2.051825040464344,-0.8723796481954755,0.6451170978250104,0.7996633553911477,-0.3758811118599081,0.8368783860108395,1.1672923335724237,1.9989574214327248,-0.9803635632487172,1.0272909775625343,-1.6470378469496967,-1.184745488394547,1.240609769403117,2.561043412628804,-0.5143615665306566,0.7449677226155068,-0.6201547168031414,0.6061735043418385,-0.6917606684322949,-0.4568162851669821,-1.4467767829303313,-0.4197208185978394,-0.27718742129594875,0.37837120923512646,1.2126642629518882,0.0393734817792643,-0.26340619911106694,-0.8351980357082801,-0.7959718758615214,0.6618589942538259,-0.4809145778698422,-0.5892785393324456,-0.25863477635135435,-0.6227807044887773,0.6993285851779953,-0.45746330629230986,-1.1643534645330045,1.3236560625253453,-0.6252302065588559,0.3150282283965467,1.137719962772657,0.514273522992465,0.17608458637176752,-0.6721697934374377,-0.9601912730760108,-0.9638044403008365,-0.35406490944069513,0.27014409824766095,0.7873120088931022,-0.4853469923359565,-0.35362079253020634,0.35722262241125424,-0.3869299705042295],\"xaxis\":\"x13\",\"y\":[-1.6139200331698593,0.1438679806922359,-0.6931362890789643,0.5293045437878271,0.3221349048970399,0.10571979308408555,-0.24687444774814254,1.518751836633535,-1.8417441436634612,1.1901312662968089,1.0452829018107455,0.30605659929868206,-0.43068673344610603,-1.3875533434371963,-0.31328259811412107,-0.47961676390549984,1.325030202070095,-0.4449698448561779,1.0439278536071046,1.5298569917653597,-0.49411730219163136,0.18378781126397709,0.1887592665717357,1.1025966370286202,1.4506954668482208,-2.3261959513491073,-0.4550870936241418,-0.9292829494272545,0.01052435481631606,0.04724180974889832,-0.592794748419755,0.5048698619125271,-0.31543236030487437,1.0659531865858582,-0.8199027965146775,0.9665933026153964,-0.2267356656419576,-0.9656196090197346,0.29696010229584796,-1.6579526166657388,1.2748038036746216,-0.12764161793534448,-0.05487234560680018,0.2861875269503629,0.43721364089885206,1.6086221484162546,-0.7979471094796152,-0.5861898093399176,1.3377350533309027,-0.3739936342499101,0.7462187044964173,-1.2554014451140587,0.5868402650420513,0.8703440156057092,-0.1742196969932546,1.4469818706730642,-0.6262021275282917,0.08399422005607338,-1.8055896023356686,-1.3243969569382086,1.1345389701396054,0.2481429357286683,0.2835512541345572,-0.6881976210702818,-1.0120345386137457,-0.3034886605647908,0.11398208922115317,0.36076317300524025,-0.5169099907753333,1.660678219041089,0.02712667239714875,-2.039741784619864,-0.2805689576358341,1.07484873721293,-0.3521633386079611,0.02930939901426263,-2.5392183963702495,-0.1852718250188313,0.13784622935873658,-0.5808272711014993,-0.5694492380190268,0.3574733700727333,-0.5989894269618654,0.1773981082301825,-2.5437514467559863,0.8468484480608329,0.7898473428685026,0.7168791240146745,0.18038311950933206,0.19470310432542945,-0.6880783920433272,-1.2336408453838985,-0.9501503471607181,0.36047791513110083,-2.3000859597709953,-0.5648727722864505,0.07535442124114042,-1.0231862796219837,-0.2286057647331581,1.6520351190666764],\"yaxis\":\"y13\",\"type\":\"scatter\"},{\"line\":{\"color\":\"rgba(128, 128, 128, 1.0)\",\"dash\":\"solid\",\"shape\":\"linear\",\"width\":1.3},\"marker\":{\"size\":2,\"symbol\":\"circle\"},\"mode\":\"markers\",\"name\":\"D\",\"text\":\"\",\"x\":[1.6962518426992457,-0.982193639127554,-2.1197856966587434,0.38054873370497094,-1.361275653580498,0.3019613106241735,0.5737655133927131,1.0945211359269573,0.5495438835085136,1.0344716229317987,1.5145618337839344,-1.322817574245342,-1.1907820282214117,-0.528632777074625,1.3012340540546952,-1.0689263129920183,-2.84496629837369,0.046135758701366845,-0.24639563344520166,0.25128120296962836,0.36830940996399714,0.12031333614256282,-0.8010686487431482,-1.9327299966087452,0.7590071315508242,0.09728845697523336,-0.6894331452347948,0.11100076999006471,0.8004367772526133,-0.3793003097447568,-0.010050251411239644,-1.157220777492313,0.2488904704855463,0.8320141897637261,-0.12460299783173051,-0.9910263142307557,0.7372791083222395,0.24955057188182372,-0.8396515362306939,-0.6309241374644079,-0.279841188171254,-0.16186589249778788,0.8051370085683334,0.6540567389457904,-1.5798108304946163,0.20639652702521474,0.39333903402492476,-0.4810666724010602,-0.3800959479086856,-0.3077260319677847,1.5208418364763474,0.7892210421725961,1.8591446122703879,1.7034420043231697,-0.10683091684168655,-0.4775338738383854,-1.0079070689317284,-1.0112734900097282,0.7111182117640453,1.0486950375562232,-0.26391919214625303,-0.4113679094580015,-0.2605367678626934,-0.47530461482159114,-0.053143688579886626,2.3967430629102333,1.8709284111420503,0.25187514496472596,-0.02397569055830253,-0.09829431482066459,0.09403916694330741,0.06531118931264279,1.7638042278748831,1.0049939775004493,-0.6137431487150112,0.6570327734296777,-0.6289093946870737,0.5903155802129443,-1.2205401647556249,0.16685846375701371,-0.7512178872411197,0.08940485042033164,0.7271257315355758,-0.8861325348030998,-0.11871209816686926,-1.4093783931195987,-0.1736218521324273,-1.556684785992902,0.2470908600596826,0.056697008587313615,0.7871147589497839,-0.8801147388503565,0.3565693844796211,-0.3783507036715136,-0.5636310145664183,-0.18403442117576474,0.7945894980989373,0.8203119259602427,-0.8631082962731352,0.21257593940078842],\"xaxis\":\"x14\",\"y\":[-1.6139200331698593,0.1438679806922359,-0.6931362890789643,0.5293045437878271,0.3221349048970399,0.10571979308408555,-0.24687444774814254,1.518751836633535,-1.8417441436634612,1.1901312662968089,1.0452829018107455,0.30605659929868206,-0.43068673344610603,-1.3875533434371963,-0.31328259811412107,-0.47961676390549984,1.325030202070095,-0.4449698448561779,1.0439278536071046,1.5298569917653597,-0.49411730219163136,0.18378781126397709,0.1887592665717357,1.1025966370286202,1.4506954668482208,-2.3261959513491073,-0.4550870936241418,-0.9292829494272545,0.01052435481631606,0.04724180974889832,-0.592794748419755,0.5048698619125271,-0.31543236030487437,1.0659531865858582,-0.8199027965146775,0.9665933026153964,-0.2267356656419576,-0.9656196090197346,0.29696010229584796,-1.6579526166657388,1.2748038036746216,-0.12764161793534448,-0.05487234560680018,0.2861875269503629,0.43721364089885206,1.6086221484162546,-0.7979471094796152,-0.5861898093399176,1.3377350533309027,-0.3739936342499101,0.7462187044964173,-1.2554014451140587,0.5868402650420513,0.8703440156057092,-0.1742196969932546,1.4469818706730642,-0.6262021275282917,0.08399422005607338,-1.8055896023356686,-1.3243969569382086,1.1345389701396054,0.2481429357286683,0.2835512541345572,-0.6881976210702818,-1.0120345386137457,-0.3034886605647908,0.11398208922115317,0.36076317300524025,-0.5169099907753333,1.660678219041089,0.02712667239714875,-2.039741784619864,-0.2805689576358341,1.07484873721293,-0.3521633386079611,0.02930939901426263,-2.5392183963702495,-0.1852718250188313,0.13784622935873658,-0.5808272711014993,-0.5694492380190268,0.3574733700727333,-0.5989894269618654,0.1773981082301825,-2.5437514467559863,0.8468484480608329,0.7898473428685026,0.7168791240146745,0.18038311950933206,0.19470310432542945,-0.6880783920433272,-1.2336408453838985,-0.9501503471607181,0.36047791513110083,-2.3000859597709953,-0.5648727722864505,0.07535442124114042,-1.0231862796219837,-0.2286057647331581,1.6520351190666764],\"yaxis\":\"y14\",\"type\":\"scatter\"},{\"line\":{\"color\":\"rgba(128, 128, 128, 1.0)\",\"dash\":\"solid\",\"shape\":\"linear\",\"width\":1.3},\"marker\":{\"size\":2,\"symbol\":\"circle\"},\"mode\":\"markers\",\"name\":\"D\",\"text\":\"\",\"x\":[-0.7385392085312609,0.6059015187854616,1.122739800613316,1.3453235784911914,0.3269935992661774,-1.0707310105993268,-0.3806197642092073,1.6409229266368266,-2.352066299648475,-0.9994785837613791,-0.6912934823216503,1.2826438376675886,0.10291044180972408,0.3349043094372565,-1.0055135614015855,0.9757634381272896,0.9079558995973859,-0.46594652589269664,0.8060052181025692,1.1165653993576703,0.27351976698254615,1.2117888986596437,0.6771514068440193,0.39219000665164555,0.3479770692323999,1.2563752513554332,-1.1979478266842263,-1.78307557243645,-0.7562741622749357,-0.2974990576728704,-0.1151922607598481,1.311871447079243,1.9289668587901412,1.0447706767606724,-0.3002488998726798,0.16269844415688542,0.8631392392988955,-0.7411929665425697,0.5616519838700285,-0.3131147621350836,-0.6069109587105764,-1.447767624550431,-1.442722977432391,-0.6919784434260245,-0.8831316251819575,-0.776479665148661,1.1172122351362055,1.2176337093966687,1.5476467707595074,0.3626072098823158,-1.0983325162443291,-1.383177292817952,1.9628058171277503,-0.055803093732660805,-1.5747713332299496,-0.26532393249082487,0.5479439877410442,1.5535865364644714,-0.47659834301066384,0.2672767984483275,-0.8961147350469946,-0.06471050710422788,-0.5905964775463705,0.7655941714589244,-0.31953091828895985,0.06789288352679154,-1.422263846816249,-0.801161627353756,0.6188842280311928,2.028647190875111,-0.741868678745086,1.6069381796445703,-0.6690556554555435,-0.063584543693092,0.6246448471547272,-0.4216210453943756,-0.8640390041112331,0.5253639742208898,-0.48438019081842754,0.5369509248484133,0.32057822601106967,-1.8760068692251701,0.13126982972121115,0.2970202750556522,0.31359419559538876,-0.3971136117430385,-0.6860056529632396,-0.8962827751063993,0.0025431485827040403,0.27089769469654046,0.7033910031533249,-0.3643665317857516,-0.11787071628933615,-0.9817195744729845,-1.0732541183436184,1.2957749565724392,-1.4894334754857605,0.6917993062855475,-0.3556696508654084,-0.11742785402261754],\"xaxis\":\"x15\",\"y\":[-1.6139200331698593,0.1438679806922359,-0.6931362890789643,0.5293045437878271,0.3221349048970399,0.10571979308408555,-0.24687444774814254,1.518751836633535,-1.8417441436634612,1.1901312662968089,1.0452829018107455,0.30605659929868206,-0.43068673344610603,-1.3875533434371963,-0.31328259811412107,-0.47961676390549984,1.325030202070095,-0.4449698448561779,1.0439278536071046,1.5298569917653597,-0.49411730219163136,0.18378781126397709,0.1887592665717357,1.1025966370286202,1.4506954668482208,-2.3261959513491073,-0.4550870936241418,-0.9292829494272545,0.01052435481631606,0.04724180974889832,-0.592794748419755,0.5048698619125271,-0.31543236030487437,1.0659531865858582,-0.8199027965146775,0.9665933026153964,-0.2267356656419576,-0.9656196090197346,0.29696010229584796,-1.6579526166657388,1.2748038036746216,-0.12764161793534448,-0.05487234560680018,0.2861875269503629,0.43721364089885206,1.6086221484162546,-0.7979471094796152,-0.5861898093399176,1.3377350533309027,-0.3739936342499101,0.7462187044964173,-1.2554014451140587,0.5868402650420513,0.8703440156057092,-0.1742196969932546,1.4469818706730642,-0.6262021275282917,0.08399422005607338,-1.8055896023356686,-1.3243969569382086,1.1345389701396054,0.2481429357286683,0.2835512541345572,-0.6881976210702818,-1.0120345386137457,-0.3034886605647908,0.11398208922115317,0.36076317300524025,-0.5169099907753333,1.660678219041089,0.02712667239714875,-2.039741784619864,-0.2805689576358341,1.07484873721293,-0.3521633386079611,0.02930939901426263,-2.5392183963702495,-0.1852718250188313,0.13784622935873658,-0.5808272711014993,-0.5694492380190268,0.3574733700727333,-0.5989894269618654,0.1773981082301825,-2.5437514467559863,0.8468484480608329,0.7898473428685026,0.7168791240146745,0.18038311950933206,0.19470310432542945,-0.6880783920433272,-1.2336408453838985,-0.9501503471607181,0.36047791513110083,-2.3000859597709953,-0.5648727722864505,0.07535442124114042,-1.0231862796219837,-0.2286057647331581,1.6520351190666764],\"yaxis\":\"y15\",\"type\":\"scatter\"},{\"histfunc\":\"count\",\"histnorm\":\"\",\"marker\":{\"color\":\"rgba(128, 0, 128, 1.0)\",\"line\":{\"color\":\"#4D5663\",\"width\":1.3}},\"name\":\"D\",\"nbinsx\":10,\"opacity\":0.8,\"orientation\":\"v\",\"x\":[-1.6139200331698593,0.1438679806922359,-0.6931362890789643,0.5293045437878271,0.3221349048970399,0.10571979308408555,-0.24687444774814254,1.518751836633535,-1.8417441436634612,1.1901312662968089,1.0452829018107455,0.30605659929868206,-0.43068673344610603,-1.3875533434371963,-0.31328259811412107,-0.47961676390549984,1.325030202070095,-0.4449698448561779,1.0439278536071046,1.5298569917653597,-0.49411730219163136,0.18378781126397709,0.1887592665717357,1.1025966370286202,1.4506954668482208,-2.3261959513491073,-0.4550870936241418,-0.9292829494272545,0.01052435481631606,0.04724180974889832,-0.592794748419755,0.5048698619125271,-0.31543236030487437,1.0659531865858582,-0.8199027965146775,0.9665933026153964,-0.2267356656419576,-0.9656196090197346,0.29696010229584796,-1.6579526166657388,1.2748038036746216,-0.12764161793534448,-0.05487234560680018,0.2861875269503629,0.43721364089885206,1.6086221484162546,-0.7979471094796152,-0.5861898093399176,1.3377350533309027,-0.3739936342499101,0.7462187044964173,-1.2554014451140587,0.5868402650420513,0.8703440156057092,-0.1742196969932546,1.4469818706730642,-0.6262021275282917,0.08399422005607338,-1.8055896023356686,-1.3243969569382086,1.1345389701396054,0.2481429357286683,0.2835512541345572,-0.6881976210702818,-1.0120345386137457,-0.3034886605647908,0.11398208922115317,0.36076317300524025,-0.5169099907753333,1.660678219041089,0.02712667239714875,-2.039741784619864,-0.2805689576358341,1.07484873721293,-0.3521633386079611,0.02930939901426263,-2.5392183963702495,-0.1852718250188313,0.13784622935873658,-0.5808272711014993,-0.5694492380190268,0.3574733700727333,-0.5989894269618654,0.1773981082301825,-2.5437514467559863,0.8468484480608329,0.7898473428685026,0.7168791240146745,0.18038311950933206,0.19470310432542945,-0.6880783920433272,-1.2336408453838985,-0.9501503471607181,0.36047791513110083,-2.3000859597709953,-0.5648727722864505,0.07535442124114042,-1.0231862796219837,-0.2286057647331581,1.6520351190666764],\"xaxis\":\"x16\",\"yaxis\":\"y16\",\"type\":\"histogram\"}],                        {\"bargap\":0.02,\"legend\":{\"bgcolor\":\"#F5F6F9\",\"font\":{\"color\":\"#4D5663\"}},\"paper_bgcolor\":\"#F5F6F9\",\"plot_bgcolor\":\"#F5F6F9\",\"showlegend\":false,\"template\":{\"data\":{\"barpolar\":[{\"marker\":{\"line\":{\"color\":\"#E5ECF6\",\"width\":0.5},\"pattern\":{\"fillmode\":\"overlay\",\"size\":10,\"solidity\":0.2}},\"type\":\"barpolar\"}],\"bar\":[{\"error_x\":{\"color\":\"#2a3f5f\"},\"error_y\":{\"color\":\"#2a3f5f\"},\"marker\":{\"line\":{\"color\":\"#E5ECF6\",\"width\":0.5},\"pattern\":{\"fillmode\":\"overlay\",\"size\":10,\"solidity\":0.2}},\"type\":\"bar\"}],\"carpet\":[{\"aaxis\":{\"endlinecolor\":\"#2a3f5f\",\"gridcolor\":\"white\",\"linecolor\":\"white\",\"minorgridcolor\":\"white\",\"startlinecolor\":\"#2a3f5f\"},\"baxis\":{\"endlinecolor\":\"#2a3f5f\",\"gridcolor\":\"white\",\"linecolor\":\"white\",\"minorgridcolor\":\"white\",\"startlinecolor\":\"#2a3f5f\"},\"type\":\"carpet\"}],\"choropleth\":[{\"colorbar\":{\"outlinewidth\":0,\"ticks\":\"\"},\"type\":\"choropleth\"}],\"contourcarpet\":[{\"colorbar\":{\"outlinewidth\":0,\"ticks\":\"\"},\"type\":\"contourcarpet\"}],\"contour\":[{\"colorbar\":{\"outlinewidth\":0,\"ticks\":\"\"},\"colorscale\":[[0.0,\"#0d0887\"],[0.1111111111111111,\"#46039f\"],[0.2222222222222222,\"#7201a8\"],[0.3333333333333333,\"#9c179e\"],[0.4444444444444444,\"#bd3786\"],[0.5555555555555556,\"#d8576b\"],[0.6666666666666666,\"#ed7953\"],[0.7777777777777778,\"#fb9f3a\"],[0.8888888888888888,\"#fdca26\"],[1.0,\"#f0f921\"]],\"type\":\"contour\"}],\"heatmapgl\":[{\"colorbar\":{\"outlinewidth\":0,\"ticks\":\"\"},\"colorscale\":[[0.0,\"#0d0887\"],[0.1111111111111111,\"#46039f\"],[0.2222222222222222,\"#7201a8\"],[0.3333333333333333,\"#9c179e\"],[0.4444444444444444,\"#bd3786\"],[0.5555555555555556,\"#d8576b\"],[0.6666666666666666,\"#ed7953\"],[0.7777777777777778,\"#fb9f3a\"],[0.8888888888888888,\"#fdca26\"],[1.0,\"#f0f921\"]],\"type\":\"heatmapgl\"}],\"heatmap\":[{\"colorbar\":{\"outlinewidth\":0,\"ticks\":\"\"},\"colorscale\":[[0.0,\"#0d0887\"],[0.1111111111111111,\"#46039f\"],[0.2222222222222222,\"#7201a8\"],[0.3333333333333333,\"#9c179e\"],[0.4444444444444444,\"#bd3786\"],[0.5555555555555556,\"#d8576b\"],[0.6666666666666666,\"#ed7953\"],[0.7777777777777778,\"#fb9f3a\"],[0.8888888888888888,\"#fdca26\"],[1.0,\"#f0f921\"]],\"type\":\"heatmap\"}],\"histogram2dcontour\":[{\"colorbar\":{\"outlinewidth\":0,\"ticks\":\"\"},\"colorscale\":[[0.0,\"#0d0887\"],[0.1111111111111111,\"#46039f\"],[0.2222222222222222,\"#7201a8\"],[0.3333333333333333,\"#9c179e\"],[0.4444444444444444,\"#bd3786\"],[0.5555555555555556,\"#d8576b\"],[0.6666666666666666,\"#ed7953\"],[0.7777777777777778,\"#fb9f3a\"],[0.8888888888888888,\"#fdca26\"],[1.0,\"#f0f921\"]],\"type\":\"histogram2dcontour\"}],\"histogram2d\":[{\"colorbar\":{\"outlinewidth\":0,\"ticks\":\"\"},\"colorscale\":[[0.0,\"#0d0887\"],[0.1111111111111111,\"#46039f\"],[0.2222222222222222,\"#7201a8\"],[0.3333333333333333,\"#9c179e\"],[0.4444444444444444,\"#bd3786\"],[0.5555555555555556,\"#d8576b\"],[0.6666666666666666,\"#ed7953\"],[0.7777777777777778,\"#fb9f3a\"],[0.8888888888888888,\"#fdca26\"],[1.0,\"#f0f921\"]],\"type\":\"histogram2d\"}],\"histogram\":[{\"marker\":{\"pattern\":{\"fillmode\":\"overlay\",\"size\":10,\"solidity\":0.2}},\"type\":\"histogram\"}],\"mesh3d\":[{\"colorbar\":{\"outlinewidth\":0,\"ticks\":\"\"},\"type\":\"mesh3d\"}],\"parcoords\":[{\"line\":{\"colorbar\":{\"outlinewidth\":0,\"ticks\":\"\"}},\"type\":\"parcoords\"}],\"pie\":[{\"automargin\":true,\"type\":\"pie\"}],\"scatter3d\":[{\"line\":{\"colorbar\":{\"outlinewidth\":0,\"ticks\":\"\"}},\"marker\":{\"colorbar\":{\"outlinewidth\":0,\"ticks\":\"\"}},\"type\":\"scatter3d\"}],\"scattercarpet\":[{\"marker\":{\"colorbar\":{\"outlinewidth\":0,\"ticks\":\"\"}},\"type\":\"scattercarpet\"}],\"scattergeo\":[{\"marker\":{\"colorbar\":{\"outlinewidth\":0,\"ticks\":\"\"}},\"type\":\"scattergeo\"}],\"scattergl\":[{\"marker\":{\"colorbar\":{\"outlinewidth\":0,\"ticks\":\"\"}},\"type\":\"scattergl\"}],\"scattermapbox\":[{\"marker\":{\"colorbar\":{\"outlinewidth\":0,\"ticks\":\"\"}},\"type\":\"scattermapbox\"}],\"scatterpolargl\":[{\"marker\":{\"colorbar\":{\"outlinewidth\":0,\"ticks\":\"\"}},\"type\":\"scatterpolargl\"}],\"scatterpolar\":[{\"marker\":{\"colorbar\":{\"outlinewidth\":0,\"ticks\":\"\"}},\"type\":\"scatterpolar\"}],\"scatter\":[{\"fillpattern\":{\"fillmode\":\"overlay\",\"size\":10,\"solidity\":0.2},\"type\":\"scatter\"}],\"scatterternary\":[{\"marker\":{\"colorbar\":{\"outlinewidth\":0,\"ticks\":\"\"}},\"type\":\"scatterternary\"}],\"surface\":[{\"colorbar\":{\"outlinewidth\":0,\"ticks\":\"\"},\"colorscale\":[[0.0,\"#0d0887\"],[0.1111111111111111,\"#46039f\"],[0.2222222222222222,\"#7201a8\"],[0.3333333333333333,\"#9c179e\"],[0.4444444444444444,\"#bd3786\"],[0.5555555555555556,\"#d8576b\"],[0.6666666666666666,\"#ed7953\"],[0.7777777777777778,\"#fb9f3a\"],[0.8888888888888888,\"#fdca26\"],[1.0,\"#f0f921\"]],\"type\":\"surface\"}],\"table\":[{\"cells\":{\"fill\":{\"color\":\"#EBF0F8\"},\"line\":{\"color\":\"white\"}},\"header\":{\"fill\":{\"color\":\"#C8D4E3\"},\"line\":{\"color\":\"white\"}},\"type\":\"table\"}]},\"layout\":{\"annotationdefaults\":{\"arrowcolor\":\"#2a3f5f\",\"arrowhead\":0,\"arrowwidth\":1},\"autotypenumbers\":\"strict\",\"coloraxis\":{\"colorbar\":{\"outlinewidth\":0,\"ticks\":\"\"}},\"colorscale\":{\"diverging\":[[0,\"#8e0152\"],[0.1,\"#c51b7d\"],[0.2,\"#de77ae\"],[0.3,\"#f1b6da\"],[0.4,\"#fde0ef\"],[0.5,\"#f7f7f7\"],[0.6,\"#e6f5d0\"],[0.7,\"#b8e186\"],[0.8,\"#7fbc41\"],[0.9,\"#4d9221\"],[1,\"#276419\"]],\"sequential\":[[0.0,\"#0d0887\"],[0.1111111111111111,\"#46039f\"],[0.2222222222222222,\"#7201a8\"],[0.3333333333333333,\"#9c179e\"],[0.4444444444444444,\"#bd3786\"],[0.5555555555555556,\"#d8576b\"],[0.6666666666666666,\"#ed7953\"],[0.7777777777777778,\"#fb9f3a\"],[0.8888888888888888,\"#fdca26\"],[1.0,\"#f0f921\"]],\"sequentialminus\":[[0.0,\"#0d0887\"],[0.1111111111111111,\"#46039f\"],[0.2222222222222222,\"#7201a8\"],[0.3333333333333333,\"#9c179e\"],[0.4444444444444444,\"#bd3786\"],[0.5555555555555556,\"#d8576b\"],[0.6666666666666666,\"#ed7953\"],[0.7777777777777778,\"#fb9f3a\"],[0.8888888888888888,\"#fdca26\"],[1.0,\"#f0f921\"]]},\"colorway\":[\"#636efa\",\"#EF553B\",\"#00cc96\",\"#ab63fa\",\"#FFA15A\",\"#19d3f3\",\"#FF6692\",\"#B6E880\",\"#FF97FF\",\"#FECB52\"],\"font\":{\"color\":\"#2a3f5f\"},\"geo\":{\"bgcolor\":\"white\",\"lakecolor\":\"white\",\"landcolor\":\"#E5ECF6\",\"showlakes\":true,\"showland\":true,\"subunitcolor\":\"white\"},\"hoverlabel\":{\"align\":\"left\"},\"hovermode\":\"closest\",\"mapbox\":{\"style\":\"light\"},\"paper_bgcolor\":\"white\",\"plot_bgcolor\":\"#E5ECF6\",\"polar\":{\"angularaxis\":{\"gridcolor\":\"white\",\"linecolor\":\"white\",\"ticks\":\"\"},\"bgcolor\":\"#E5ECF6\",\"radialaxis\":{\"gridcolor\":\"white\",\"linecolor\":\"white\",\"ticks\":\"\"}},\"scene\":{\"xaxis\":{\"backgroundcolor\":\"#E5ECF6\",\"gridcolor\":\"white\",\"gridwidth\":2,\"linecolor\":\"white\",\"showbackground\":true,\"ticks\":\"\",\"zerolinecolor\":\"white\"},\"yaxis\":{\"backgroundcolor\":\"#E5ECF6\",\"gridcolor\":\"white\",\"gridwidth\":2,\"linecolor\":\"white\",\"showbackground\":true,\"ticks\":\"\",\"zerolinecolor\":\"white\"},\"zaxis\":{\"backgroundcolor\":\"#E5ECF6\",\"gridcolor\":\"white\",\"gridwidth\":2,\"linecolor\":\"white\",\"showbackground\":true,\"ticks\":\"\",\"zerolinecolor\":\"white\"}},\"shapedefaults\":{\"line\":{\"color\":\"#2a3f5f\"}},\"ternary\":{\"aaxis\":{\"gridcolor\":\"white\",\"linecolor\":\"white\",\"ticks\":\"\"},\"baxis\":{\"gridcolor\":\"white\",\"linecolor\":\"white\",\"ticks\":\"\"},\"bgcolor\":\"#E5ECF6\",\"caxis\":{\"gridcolor\":\"white\",\"linecolor\":\"white\",\"ticks\":\"\"}},\"title\":{\"x\":0.05},\"xaxis\":{\"automargin\":true,\"gridcolor\":\"white\",\"linecolor\":\"white\",\"ticks\":\"\",\"title\":{\"standoff\":15},\"zerolinecolor\":\"white\",\"zerolinewidth\":2},\"yaxis\":{\"automargin\":true,\"gridcolor\":\"white\",\"linecolor\":\"white\",\"ticks\":\"\",\"title\":{\"standoff\":15},\"zerolinecolor\":\"white\",\"zerolinewidth\":2}}},\"title\":{\"font\":{\"color\":\"#4D5663\"}},\"xaxis\":{\"anchor\":\"y\",\"domain\":[0.0,0.2125],\"gridcolor\":\"#E1E5ED\",\"showgrid\":false,\"tickfont\":{\"color\":\"#4D5663\"},\"title\":{\"font\":{\"color\":\"#4D5663\"},\"text\":\"\"},\"zerolinecolor\":\"#E1E5ED\"},\"yaxis\":{\"anchor\":\"x\",\"domain\":[0.8025,1.0],\"gridcolor\":\"#E1E5ED\",\"showgrid\":false,\"tickfont\":{\"color\":\"#4D5663\"},\"title\":{\"font\":{\"color\":\"#4D5663\"},\"text\":\"\"},\"zerolinecolor\":\"#E1E5ED\"},\"xaxis2\":{\"anchor\":\"y2\",\"domain\":[0.2625,0.475],\"gridcolor\":\"#E1E5ED\",\"showgrid\":false,\"tickfont\":{\"color\":\"#4D5663\"},\"title\":{\"font\":{\"color\":\"#4D5663\"},\"text\":\"\"},\"zerolinecolor\":\"#E1E5ED\"},\"yaxis2\":{\"anchor\":\"x2\",\"domain\":[0.8025,1.0],\"gridcolor\":\"#E1E5ED\",\"showgrid\":false,\"tickfont\":{\"color\":\"#4D5663\"},\"title\":{\"font\":{\"color\":\"#4D5663\"},\"text\":\"\"},\"zerolinecolor\":\"#E1E5ED\"},\"xaxis3\":{\"anchor\":\"y3\",\"domain\":[0.525,0.7375],\"gridcolor\":\"#E1E5ED\",\"showgrid\":false,\"tickfont\":{\"color\":\"#4D5663\"},\"title\":{\"font\":{\"color\":\"#4D5663\"},\"text\":\"\"},\"zerolinecolor\":\"#E1E5ED\"},\"yaxis3\":{\"anchor\":\"x3\",\"domain\":[0.8025,1.0],\"gridcolor\":\"#E1E5ED\",\"showgrid\":false,\"tickfont\":{\"color\":\"#4D5663\"},\"title\":{\"font\":{\"color\":\"#4D5663\"},\"text\":\"\"},\"zerolinecolor\":\"#E1E5ED\"},\"xaxis4\":{\"anchor\":\"y4\",\"domain\":[0.7875,1.0],\"gridcolor\":\"#E1E5ED\",\"showgrid\":false,\"tickfont\":{\"color\":\"#4D5663\"},\"title\":{\"font\":{\"color\":\"#4D5663\"},\"text\":\"\"},\"zerolinecolor\":\"#E1E5ED\"},\"yaxis4\":{\"anchor\":\"x4\",\"domain\":[0.8025,1.0],\"gridcolor\":\"#E1E5ED\",\"showgrid\":false,\"tickfont\":{\"color\":\"#4D5663\"},\"title\":{\"font\":{\"color\":\"#4D5663\"},\"text\":\"\"},\"zerolinecolor\":\"#E1E5ED\"},\"xaxis5\":{\"anchor\":\"y5\",\"domain\":[0.0,0.2125],\"gridcolor\":\"#E1E5ED\",\"showgrid\":false,\"tickfont\":{\"color\":\"#4D5663\"},\"title\":{\"font\":{\"color\":\"#4D5663\"},\"text\":\"\"},\"zerolinecolor\":\"#E1E5ED\"},\"yaxis5\":{\"anchor\":\"x5\",\"domain\":[0.535,0.7325],\"gridcolor\":\"#E1E5ED\",\"showgrid\":false,\"tickfont\":{\"color\":\"#4D5663\"},\"title\":{\"font\":{\"color\":\"#4D5663\"},\"text\":\"\"},\"zerolinecolor\":\"#E1E5ED\"},\"xaxis6\":{\"anchor\":\"y6\",\"domain\":[0.2625,0.475],\"gridcolor\":\"#E1E5ED\",\"showgrid\":false,\"tickfont\":{\"color\":\"#4D5663\"},\"title\":{\"font\":{\"color\":\"#4D5663\"},\"text\":\"\"},\"zerolinecolor\":\"#E1E5ED\"},\"yaxis6\":{\"anchor\":\"x6\",\"domain\":[0.535,0.7325],\"gridcolor\":\"#E1E5ED\",\"showgrid\":false,\"tickfont\":{\"color\":\"#4D5663\"},\"title\":{\"font\":{\"color\":\"#4D5663\"},\"text\":\"\"},\"zerolinecolor\":\"#E1E5ED\"},\"xaxis7\":{\"anchor\":\"y7\",\"domain\":[0.525,0.7375],\"gridcolor\":\"#E1E5ED\",\"showgrid\":false,\"tickfont\":{\"color\":\"#4D5663\"},\"title\":{\"font\":{\"color\":\"#4D5663\"},\"text\":\"\"},\"zerolinecolor\":\"#E1E5ED\"},\"yaxis7\":{\"anchor\":\"x7\",\"domain\":[0.535,0.7325],\"gridcolor\":\"#E1E5ED\",\"showgrid\":false,\"tickfont\":{\"color\":\"#4D5663\"},\"title\":{\"font\":{\"color\":\"#4D5663\"},\"text\":\"\"},\"zerolinecolor\":\"#E1E5ED\"},\"xaxis8\":{\"anchor\":\"y8\",\"domain\":[0.7875,1.0],\"gridcolor\":\"#E1E5ED\",\"showgrid\":false,\"tickfont\":{\"color\":\"#4D5663\"},\"title\":{\"font\":{\"color\":\"#4D5663\"},\"text\":\"\"},\"zerolinecolor\":\"#E1E5ED\"},\"yaxis8\":{\"anchor\":\"x8\",\"domain\":[0.535,0.7325],\"gridcolor\":\"#E1E5ED\",\"showgrid\":false,\"tickfont\":{\"color\":\"#4D5663\"},\"title\":{\"font\":{\"color\":\"#4D5663\"},\"text\":\"\"},\"zerolinecolor\":\"#E1E5ED\"},\"xaxis9\":{\"anchor\":\"y9\",\"domain\":[0.0,0.2125],\"gridcolor\":\"#E1E5ED\",\"showgrid\":false,\"tickfont\":{\"color\":\"#4D5663\"},\"title\":{\"font\":{\"color\":\"#4D5663\"},\"text\":\"\"},\"zerolinecolor\":\"#E1E5ED\"},\"yaxis9\":{\"anchor\":\"x9\",\"domain\":[0.2675,0.465],\"gridcolor\":\"#E1E5ED\",\"showgrid\":false,\"tickfont\":{\"color\":\"#4D5663\"},\"title\":{\"font\":{\"color\":\"#4D5663\"},\"text\":\"\"},\"zerolinecolor\":\"#E1E5ED\"},\"xaxis10\":{\"anchor\":\"y10\",\"domain\":[0.2625,0.475],\"gridcolor\":\"#E1E5ED\",\"showgrid\":false,\"tickfont\":{\"color\":\"#4D5663\"},\"title\":{\"font\":{\"color\":\"#4D5663\"},\"text\":\"\"},\"zerolinecolor\":\"#E1E5ED\"},\"yaxis10\":{\"anchor\":\"x10\",\"domain\":[0.2675,0.465],\"gridcolor\":\"#E1E5ED\",\"showgrid\":false,\"tickfont\":{\"color\":\"#4D5663\"},\"title\":{\"font\":{\"color\":\"#4D5663\"},\"text\":\"\"},\"zerolinecolor\":\"#E1E5ED\"},\"xaxis11\":{\"anchor\":\"y11\",\"domain\":[0.525,0.7375],\"gridcolor\":\"#E1E5ED\",\"showgrid\":false,\"tickfont\":{\"color\":\"#4D5663\"},\"title\":{\"font\":{\"color\":\"#4D5663\"},\"text\":\"\"},\"zerolinecolor\":\"#E1E5ED\"},\"yaxis11\":{\"anchor\":\"x11\",\"domain\":[0.2675,0.465],\"gridcolor\":\"#E1E5ED\",\"showgrid\":false,\"tickfont\":{\"color\":\"#4D5663\"},\"title\":{\"font\":{\"color\":\"#4D5663\"},\"text\":\"\"},\"zerolinecolor\":\"#E1E5ED\"},\"xaxis12\":{\"anchor\":\"y12\",\"domain\":[0.7875,1.0],\"gridcolor\":\"#E1E5ED\",\"showgrid\":false,\"tickfont\":{\"color\":\"#4D5663\"},\"title\":{\"font\":{\"color\":\"#4D5663\"},\"text\":\"\"},\"zerolinecolor\":\"#E1E5ED\"},\"yaxis12\":{\"anchor\":\"x12\",\"domain\":[0.2675,0.465],\"gridcolor\":\"#E1E5ED\",\"showgrid\":false,\"tickfont\":{\"color\":\"#4D5663\"},\"title\":{\"font\":{\"color\":\"#4D5663\"},\"text\":\"\"},\"zerolinecolor\":\"#E1E5ED\"},\"xaxis13\":{\"anchor\":\"y13\",\"domain\":[0.0,0.2125],\"gridcolor\":\"#E1E5ED\",\"showgrid\":false,\"tickfont\":{\"color\":\"#4D5663\"},\"title\":{\"font\":{\"color\":\"#4D5663\"},\"text\":\"\"},\"zerolinecolor\":\"#E1E5ED\"},\"yaxis13\":{\"anchor\":\"x13\",\"domain\":[0.0,0.1975],\"gridcolor\":\"#E1E5ED\",\"showgrid\":false,\"tickfont\":{\"color\":\"#4D5663\"},\"title\":{\"font\":{\"color\":\"#4D5663\"},\"text\":\"\"},\"zerolinecolor\":\"#E1E5ED\"},\"xaxis14\":{\"anchor\":\"y14\",\"domain\":[0.2625,0.475],\"gridcolor\":\"#E1E5ED\",\"showgrid\":false,\"tickfont\":{\"color\":\"#4D5663\"},\"title\":{\"font\":{\"color\":\"#4D5663\"},\"text\":\"\"},\"zerolinecolor\":\"#E1E5ED\"},\"yaxis14\":{\"anchor\":\"x14\",\"domain\":[0.0,0.1975],\"gridcolor\":\"#E1E5ED\",\"showgrid\":false,\"tickfont\":{\"color\":\"#4D5663\"},\"title\":{\"font\":{\"color\":\"#4D5663\"},\"text\":\"\"},\"zerolinecolor\":\"#E1E5ED\"},\"xaxis15\":{\"anchor\":\"y15\",\"domain\":[0.525,0.7375],\"gridcolor\":\"#E1E5ED\",\"showgrid\":false,\"tickfont\":{\"color\":\"#4D5663\"},\"title\":{\"font\":{\"color\":\"#4D5663\"},\"text\":\"\"},\"zerolinecolor\":\"#E1E5ED\"},\"yaxis15\":{\"anchor\":\"x15\",\"domain\":[0.0,0.1975],\"gridcolor\":\"#E1E5ED\",\"showgrid\":false,\"tickfont\":{\"color\":\"#4D5663\"},\"title\":{\"font\":{\"color\":\"#4D5663\"},\"text\":\"\"},\"zerolinecolor\":\"#E1E5ED\"},\"xaxis16\":{\"anchor\":\"y16\",\"domain\":[0.7875,1.0],\"gridcolor\":\"#E1E5ED\",\"showgrid\":false,\"tickfont\":{\"color\":\"#4D5663\"},\"title\":{\"font\":{\"color\":\"#4D5663\"},\"text\":\"\"},\"zerolinecolor\":\"#E1E5ED\"},\"yaxis16\":{\"anchor\":\"x16\",\"domain\":[0.0,0.1975],\"gridcolor\":\"#E1E5ED\",\"showgrid\":false,\"tickfont\":{\"color\":\"#4D5663\"},\"title\":{\"font\":{\"color\":\"#4D5663\"},\"text\":\"\"},\"zerolinecolor\":\"#E1E5ED\"}},                        {\"showLink\": true, \"linkText\": \"Export to plot.ly\", \"plotlyServerURL\": \"https://plot.ly\", \"responsive\": true}                    ).then(function(){\n",
       "                            \n",
       "var gd = document.getElementById('09d23196-0cd9-490d-9fef-d1fee2106092');\n",
       "var x = new MutationObserver(function (mutations, observer) {{\n",
       "        var display = window.getComputedStyle(gd).display;\n",
       "        if (!display || display === 'none') {{\n",
       "            console.log([gd, 'removed!']);\n",
       "            Plotly.purge(gd);\n",
       "            observer.disconnect();\n",
       "        }}\n",
       "}});\n",
       "\n",
       "// Listen for the removal of the full notebook cells\n",
       "var notebookContainer = gd.closest('#notebook-container');\n",
       "if (notebookContainer) {{\n",
       "    x.observe(notebookContainer, {childList: true});\n",
       "}}\n",
       "\n",
       "// Listen for the clearing of the current output cell\n",
       "var outputEl = gd.closest('.output');\n",
       "if (outputEl) {{\n",
       "    x.observe(outputEl, {childList: true});\n",
       "}}\n",
       "\n",
       "                        })                };                });            </script>        </div>"
      ]
     },
     "metadata": {},
     "output_type": "display_data"
    }
   ],
   "source": [
    "df.scatter_matrix()"
   ]
  },
  {
   "cell_type": "code",
   "execution_count": null,
   "id": "37fd1c61",
   "metadata": {},
   "outputs": [],
   "source": []
  }
 ],
 "metadata": {
  "kernelspec": {
   "display_name": "Python 3 (ipykernel)",
   "language": "python",
   "name": "python3"
  },
  "language_info": {
   "codemirror_mode": {
    "name": "ipython",
    "version": 3
   },
   "file_extension": ".py",
   "mimetype": "text/x-python",
   "name": "python",
   "nbconvert_exporter": "python",
   "pygments_lexer": "ipython3",
   "version": "3.9.7"
  }
 },
 "nbformat": 4,
 "nbformat_minor": 5
}
