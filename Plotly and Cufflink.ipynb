{
 "cells": [
  {
   "cell_type": "code",
   "execution_count": 1,
   "id": "ac6766ab",
   "metadata": {},
   "outputs": [],
   "source": [
    "# plotly is a JS library for interactive web-based visualizations\n",
    "# cufflinks: library that connects plotly and pandas"
   ]
  },
  {
   "cell_type": "markdown",
   "id": "6c1a0642",
   "metadata": {},
   "source": [
    "# Plotly and Cufflinks"
   ]
  },
  {
   "cell_type": "code",
   "execution_count": 2,
   "id": "35da6059",
   "metadata": {},
   "outputs": [],
   "source": [
    "import pandas as pd\n",
    "import numpy as np"
   ]
  },
  {
   "cell_type": "code",
   "execution_count": 3,
   "id": "146c19b6",
   "metadata": {},
   "outputs": [],
   "source": [
    "%matplotlib inline"
   ]
  },
  {
   "cell_type": "code",
   "execution_count": 4,
   "id": "9f1cc119",
   "metadata": {},
   "outputs": [
    {
     "name": "stdout",
     "output_type": "stream",
     "text": [
      "5.10.0\n"
     ]
    }
   ],
   "source": [
    "from plotly import __version__\n",
    "print(__version__)"
   ]
  },
  {
   "cell_type": "code",
   "execution_count": 5,
   "id": "a3b0981f",
   "metadata": {},
   "outputs": [],
   "source": [
    "from plotly.offline import download_plotlyjs, init_notebook_mode, plot, iplot"
   ]
  },
  {
   "cell_type": "code",
   "execution_count": 6,
   "id": "6cd9c427",
   "metadata": {},
   "outputs": [
    {
     "name": "stdout",
     "output_type": "stream",
     "text": [
      "5.10.0\n"
     ]
    }
   ],
   "source": [
    "print(__version__)"
   ]
  },
  {
   "cell_type": "code",
   "execution_count": 7,
   "id": "94643583",
   "metadata": {},
   "outputs": [],
   "source": [
    "import cufflinks as cf"
   ]
  },
  {
   "cell_type": "code",
   "execution_count": 8,
   "id": "52dad8aa",
   "metadata": {},
   "outputs": [
    {
     "data": {
      "text/html": [
       "        <script type=\"text/javascript\">\n",
       "        window.PlotlyConfig = {MathJaxConfig: 'local'};\n",
       "        if (window.MathJax && window.MathJax.Hub && window.MathJax.Hub.Config) {window.MathJax.Hub.Config({SVG: {font: \"STIX-Web\"}});}\n",
       "        if (typeof require !== 'undefined') {\n",
       "        require.undef(\"plotly\");\n",
       "        requirejs.config({\n",
       "            paths: {\n",
       "                'plotly': ['https://cdn.plot.ly/plotly-2.14.0.min']\n",
       "            }\n",
       "        });\n",
       "        require(['plotly'], function(Plotly) {\n",
       "            window._Plotly = Plotly;\n",
       "        });\n",
       "        }\n",
       "        </script>\n",
       "        "
      ]
     },
     "metadata": {},
     "output_type": "display_data"
    }
   ],
   "source": [
    "init_notebook_mode(connected=True)"
   ]
  },
  {
   "cell_type": "code",
   "execution_count": 9,
   "id": "805a79b8",
   "metadata": {},
   "outputs": [
    {
     "data": {
      "text/html": [
       "        <script type=\"text/javascript\">\n",
       "        window.PlotlyConfig = {MathJaxConfig: 'local'};\n",
       "        if (window.MathJax && window.MathJax.Hub && window.MathJax.Hub.Config) {window.MathJax.Hub.Config({SVG: {font: \"STIX-Web\"}});}\n",
       "        if (typeof require !== 'undefined') {\n",
       "        require.undef(\"plotly\");\n",
       "        requirejs.config({\n",
       "            paths: {\n",
       "                'plotly': ['https://cdn.plot.ly/plotly-2.14.0.min']\n",
       "            }\n",
       "        });\n",
       "        require(['plotly'], function(Plotly) {\n",
       "            window._Plotly = Plotly;\n",
       "        });\n",
       "        }\n",
       "        </script>\n",
       "        "
      ]
     },
     "metadata": {},
     "output_type": "display_data"
    }
   ],
   "source": [
    "cf.go_offline()"
   ]
  },
  {
   "cell_type": "code",
   "execution_count": 10,
   "id": "beb430aa",
   "metadata": {},
   "outputs": [],
   "source": [
    "# Create Data"
   ]
  },
  {
   "cell_type": "code",
   "execution_count": 11,
   "id": "689c9679",
   "metadata": {},
   "outputs": [],
   "source": [
    "df = pd.DataFrame(np.random.randn(100,4), columns = 'A B C D'.split())"
   ]
  },
  {
   "cell_type": "code",
   "execution_count": 12,
   "id": "1170d7fe",
   "metadata": {},
   "outputs": [
    {
     "data": {
      "text/html": [
       "<div>\n",
       "<style scoped>\n",
       "    .dataframe tbody tr th:only-of-type {\n",
       "        vertical-align: middle;\n",
       "    }\n",
       "\n",
       "    .dataframe tbody tr th {\n",
       "        vertical-align: top;\n",
       "    }\n",
       "\n",
       "    .dataframe thead th {\n",
       "        text-align: right;\n",
       "    }\n",
       "</style>\n",
       "<table border=\"1\" class=\"dataframe\">\n",
       "  <thead>\n",
       "    <tr style=\"text-align: right;\">\n",
       "      <th></th>\n",
       "      <th>A</th>\n",
       "      <th>B</th>\n",
       "      <th>C</th>\n",
       "      <th>D</th>\n",
       "    </tr>\n",
       "  </thead>\n",
       "  <tbody>\n",
       "    <tr>\n",
       "      <th>0</th>\n",
       "      <td>0.335676</td>\n",
       "      <td>-0.517443</td>\n",
       "      <td>-0.127373</td>\n",
       "      <td>-1.215285</td>\n",
       "    </tr>\n",
       "    <tr>\n",
       "      <th>1</th>\n",
       "      <td>-0.810987</td>\n",
       "      <td>2.600350</td>\n",
       "      <td>0.803418</td>\n",
       "      <td>1.096241</td>\n",
       "    </tr>\n",
       "    <tr>\n",
       "      <th>2</th>\n",
       "      <td>-2.631676</td>\n",
       "      <td>-0.398273</td>\n",
       "      <td>-1.296227</td>\n",
       "      <td>0.282391</td>\n",
       "    </tr>\n",
       "    <tr>\n",
       "      <th>3</th>\n",
       "      <td>0.577628</td>\n",
       "      <td>1.050747</td>\n",
       "      <td>1.617191</td>\n",
       "      <td>-0.640068</td>\n",
       "    </tr>\n",
       "    <tr>\n",
       "      <th>4</th>\n",
       "      <td>-0.225305</td>\n",
       "      <td>0.848428</td>\n",
       "      <td>-0.191352</td>\n",
       "      <td>1.390327</td>\n",
       "    </tr>\n",
       "  </tbody>\n",
       "</table>\n",
       "</div>"
      ],
      "text/plain": [
       "          A         B         C         D\n",
       "0  0.335676 -0.517443 -0.127373 -1.215285\n",
       "1 -0.810987  2.600350  0.803418  1.096241\n",
       "2 -2.631676 -0.398273 -1.296227  0.282391\n",
       "3  0.577628  1.050747  1.617191 -0.640068\n",
       "4 -0.225305  0.848428 -0.191352  1.390327"
      ]
     },
     "execution_count": 12,
     "metadata": {},
     "output_type": "execute_result"
    }
   ],
   "source": [
    "df.head()"
   ]
  },
  {
   "cell_type": "code",
   "execution_count": 13,
   "id": "ed32d3d9",
   "metadata": {},
   "outputs": [],
   "source": [
    "df2 = pd.DataFrame({'Category': ['A', 'B', 'C'], 'Values':[32, 43, 50]})"
   ]
  },
  {
   "cell_type": "code",
   "execution_count": 14,
   "id": "0ba4f284",
   "metadata": {},
   "outputs": [
    {
     "data": {
      "text/html": [
       "<div>\n",
       "<style scoped>\n",
       "    .dataframe tbody tr th:only-of-type {\n",
       "        vertical-align: middle;\n",
       "    }\n",
       "\n",
       "    .dataframe tbody tr th {\n",
       "        vertical-align: top;\n",
       "    }\n",
       "\n",
       "    .dataframe thead th {\n",
       "        text-align: right;\n",
       "    }\n",
       "</style>\n",
       "<table border=\"1\" class=\"dataframe\">\n",
       "  <thead>\n",
       "    <tr style=\"text-align: right;\">\n",
       "      <th></th>\n",
       "      <th>Category</th>\n",
       "      <th>Values</th>\n",
       "    </tr>\n",
       "  </thead>\n",
       "  <tbody>\n",
       "    <tr>\n",
       "      <th>0</th>\n",
       "      <td>A</td>\n",
       "      <td>32</td>\n",
       "    </tr>\n",
       "    <tr>\n",
       "      <th>1</th>\n",
       "      <td>B</td>\n",
       "      <td>43</td>\n",
       "    </tr>\n",
       "    <tr>\n",
       "      <th>2</th>\n",
       "      <td>C</td>\n",
       "      <td>50</td>\n",
       "    </tr>\n",
       "  </tbody>\n",
       "</table>\n",
       "</div>"
      ],
      "text/plain": [
       "  Category  Values\n",
       "0        A      32\n",
       "1        B      43\n",
       "2        C      50"
      ]
     },
     "execution_count": 14,
     "metadata": {},
     "output_type": "execute_result"
    }
   ],
   "source": [
    "df2.head()"
   ]
  },
  {
   "cell_type": "code",
   "execution_count": 15,
   "id": "6c3a48d3",
   "metadata": {},
   "outputs": [
    {
     "data": {
      "text/plain": [
       "<AxesSubplot:>"
      ]
     },
     "execution_count": 15,
     "metadata": {},
     "output_type": "execute_result"
    },
    {
     "data": {
      "image/png": "[encoded data removed]",
      "text/plain": [
       "<Figure size 432x288 with 1 Axes>"
      ]
     },
     "metadata": {
      "needs_background": "light"
     },
     "output_type": "display_data"
    }
   ],
   "source": [
    "df.plot()"
   ]
  },
  {
   "cell_type": "code",
   "execution_count": 16,
   "id": "163f128f",
   "metadata": {},
   "outputs": [
    {
     "data": {
      "application/vnd.plotly.v1+json": {
       "config": {
        "linkText": "Export to plot.ly",
        "plotlyServerURL": "https://plot.ly",
        "showLink": true
       },
       "data": [
        {
         "line": {
          "color": "rgba(255, 153, 51, 1.0)",
          "dash": "solid",
          "shape": "linear",
          "width": 1.3
         },
         "mode": "lines",
         "name": "A",
         "text": "",
         "type": "scatter",
         "x": [
          0,
          1,
          2,
          3,
          4,
          5,
          6,
          7,
          8,
          9,
          10,
          11,
          12,
          13,
          14,
          15,
          16,
          17,
          18,
          19,
          20,
          21,
          22,
          23,
          24,
          25,
          26,
          27,
          28,
          29,
          30,
          31,
          32,
          33,
          34,
          35,
          36,
          37,
          38,
          39,
          40,
          41,
          42,
          43,
          44,
          45,
          46,
          47,
          48,
          49,
          50,
          51,
          52,
          53,
          54,
          55,
          56,
          57,
          58,
          59,
          60,
          61,
          62,
          63,
          64,
          65,
          66,
          67,
          68,
          69,
          70,
          71,
          72,
          73,
          74,
          75,
          76,
          77,
          78,
          79,
          80,
          81,
          82,
          83,
          84,
          85,
          86,
          87,
          88,
          89,
          90,
          91,
          92,
          93,
          94,
          95,
          96,
          97,
          98,
          99
         ],
         "y": [
          0.33567605600194994,
          -0.8109873503861798,
          -2.6316756978724447,
          0.5776275311286065,
          -0.22530496487367777,
          0.8097460374131469,
          -0.5115338215552406,
          -0.4590997186416238,
          -0.298577056088914,
          -0.28541368761683306,
          -0.5472911448565846,
          0.3027742133920709,
          0.8902345216571652,
          -0.9239113525121986,
          0.9416625216245742,
          -0.18066450525113226,
          -2.0881969759280192,
          0.47500151093148335,
          -1.2731709071783763,
          1.230559710728227,
          -0.1605185431067916,
          0.6015686401189955,
          1.0663771004856937,
          0.4339044154824729,
          0.42688970128877163,
          0.7278870362259178,
          -0.6948804563250303,
          -0.05374882813326524,
          -1.6336690547739716,
          -0.88579686362121,
          -0.9542553464180343,
          -0.5644192605571883,
          1.0782994643519894,
          0.49503871747449035,
          0.5343533913205508,
          1.447396904689215,
          0.804473836069314,
          0.3481074903159142,
          -0.2505714270670016,
          -0.9029133179431246,
          0.2940895274251988,
          0.14540457070201546,
          -0.10762877600905554,
          0.3053893258733171,
          0.598940030645167,
          0.7820125036292656,
          -0.8966714305533445,
          1.6606846244283409,
          0.5727604798690485,
          1.6231494486869715,
          -0.8105612809550491,
          -0.3923264306412344,
          -0.04246774635108637,
          -0.059903525664294535,
          -0.5311755088064984,
          -0.23453465907896814,
          -2.0232349749481413,
          -0.475191922450835,
          -0.40907645810611803,
          -0.1339567374388445,
          -2.7697162720257404,
          -1.358394353131801,
          -0.08178397964309239,
          0.7753013039142149,
          0.5360340367280473,
          0.2533268706667387,
          0.5625348411215483,
          0.31576535434829717,
          -1.206120024494666,
          0.048844511971718504,
          1.120232843572727,
          0.21992570366912945,
          -0.21448152530239026,
          -1.908920438887307,
          0.9638465930685435,
          0.7935170953105968,
          0.8460362189297203,
          0.8793126804341501,
          -0.3120587028701596,
          0.9023335833858086,
          -1.2657523325157283,
          1.268781693218166,
          -0.05215591066790494,
          0.6968094280163797,
          -1.189618503274249,
          1.8258605748682426,
          -1.6072554233354683,
          0.0468494169654665,
          0.6188673797537998,
          -0.35377270836903085,
          0.7879111619926648,
          1.0992184325469223,
          -0.3551296686529979,
          0.9551820492099591,
          -1.9799928033362035,
          -1.4876434001811865,
          1.258773185930191,
          0.06426248988592512,
          -0.27308672608175666,
          2.3920188360109895
         ]
        },
        {
         "line": {
          "color": "rgba(55, 128, 191, 1.0)",
          "dash": "solid",
          "shape": "linear",
          "width": 1.3
         },
         "mode": "lines",
         "name": "B",
         "text": "",
         "type": "scatter",
         "x": [
          0,
          1,
          2,
          3,
          4,
          5,
          6,
          7,
          8,
          9,
          10,
          11,
          12,
          13,
          14,
          15,
          16,
          17,
          18,
          19,
          20,
          21,
          22,
          23,
          24,
          25,
          26,
          27,
          28,
          29,
          30,
          31,
          32,
          33,
          34,
          35,
          36,
          37,
          38,
          39,
          40,
          41,
          42,
          43,
          44,
          45,
          46,
          47,
          48,
          49,
          50,
          51,
          52,
          53,
          54,
          55,
          56,
          57,
          58,
          59,
          60,
          61,
          62,
          63,
          64,
          65,
          66,
          67,
          68,
          69,
          70,
          71,
          72,
          73,
          74,
          75,
          76,
          77,
          78,
          79,
          80,
          81,
          82,
          83,
          84,
          85,
          86,
          87,
          88,
          89,
          90,
          91,
          92,
          93,
          94,
          95,
          96,
          97,
          98,
          99
         ],
         "y": [
          -0.5174427882896812,
          2.6003500721367523,
          -0.398272656123329,
          1.0507472535838591,
          0.8484275564204568,
          0.34558531549137267,
          -0.7251750770576902,
          0.21203195288143903,
          1.0247005880785944,
          -0.41853128884587465,
          -0.5792595251450603,
          -0.23468009328856468,
          -0.37024797574697754,
          -1.6223191538820032,
          0.15822171939306529,
          0.7577979333440427,
          1.3104606801852252,
          0.354980393666831,
          1.0120449798349127,
          -1.3830630529587908,
          -0.7625692342748789,
          -0.031060772043171623,
          0.5876748574760096,
          -0.743381893549244,
          -0.07429448923367035,
          -1.2004104644731826,
          -0.24151882697923244,
          -2.320503904382237,
          -0.24087115581766094,
          -0.6987973244103791,
          -1.529215465871502,
          -0.4634558897134851,
          -0.517397324567097,
          -1.8826290407376154,
          -0.31550730650325126,
          -1.2810841938510928,
          -0.8165122345800369,
          0.010350999435031857,
          0.6307697461985253,
          0.6349949735690572,
          -1.3556578317900443,
          -0.07291038369075702,
          1.8848957700591833,
          -0.05777255081355184,
          0.6305221253983728,
          -0.977814856382125,
          1.2690335969192925,
          -0.5369021582866585,
          0.722476421578678,
          -0.6211934196164647,
          -0.3681602983448335,
          0.9156272215217325,
          -0.7906496269252035,
          1.245402244792277,
          -0.8609902609396055,
          1.5565591336143088,
          2.2655015589706453,
          -0.559343883766819,
          0.6072014775791178,
          0.18524797697217793,
          -0.5927180845146982,
          -0.4885482202160909,
          -0.2893087340183615,
          -0.09883201903432087,
          -0.5075521083179926,
          -0.021700889479004296,
          -1.305263590768384,
          -2.475515689150806,
          0.7843295779319387,
          -1.2032159148318333,
          1.9693577778767357,
          1.2238146565172854,
          1.1218344358044634,
          0.6674877264904224,
          1.2987751223433057,
          0.8637612322891047,
          0.7141219494868857,
          -0.5771529440751496,
          -1.2094988170327658,
          -0.30680557397477326,
          -1.5553797829605431,
          -1.7642989796422124,
          0.2592547356714931,
          2.168363029888972,
          0.030842989528504984,
          -1.6804497353868382,
          0.2818989496594489,
          -1.4778125028049618,
          -0.19193682085594233,
          0.6545811208782711,
          -0.6105512277782915,
          -0.5515806204315961,
          0.6817777225025149,
          -3.5935123694260622,
          -0.7399182083758457,
          0.17627441095701263,
          0.5453205448981414,
          -1.5226575299689897,
          -0.08078954284580486,
          -0.2065928315307047
         ]
        },
        {
         "line": {
          "color": "rgba(50, 171, 96, 1.0)",
          "dash": "solid",
          "shape": "linear",
          "width": 1.3
         },
         "mode": "lines",
         "name": "C",
         "text": "",
         "type": "scatter",
         "x": [
          0,
          1,
          2,
          3,
          4,
          5,
          6,
          7,
          8,
          9,
          10,
          11,
          12,
          13,
          14,
          15,
          16,
          17,
          18,
          19,
          20,
          21,
          22,
          23,
          24,
          25,
          26,
          27,
          28,
          29,
          30,
          31,
          32,
          33,
          34,
          35,
          36,
          37,
          38,
          39,
          40,
          41,
          42,
          43,
          44,
          45,
          46,
          47,
          48,
          49,
          50,
          51,
          52,
          53,
          54,
          55,
          56,
          57,
          58,
          59,
          60,
          61,
          62,
          63,
          64,
          65,
          66,
          67,
          68,
          69,
          70,
          71,
          72,
          73,
          74,
          75,
          76,
          77,
          78,
          79,
          80,
          81,
          82,
          83,
          84,
          85,
          86,
          87,
          88,
          89,
          90,
          91,
          92,
          93,
          94,
          95,
          96,
          97,
          98,
          99
         ],
         "y": [
          -0.1273731034144319,
          0.8034179756806943,
          -1.2962268513591653,
          1.6171909704679153,
          -0.1913518478400872,
          -0.24719348349434403,
          -0.2575053212468563,
          0.5361937874809402,
          -0.34299576177883084,
          -0.422061097231771,
          0.3075629011819519,
          -0.05769047720344889,
          0.9375230337933363,
          0.42134994381321567,
          1.645771436901701,
          0.15570179343022572,
          -0.035488120203908034,
          -1.111127717248961,
          1.7488295852063047,
          -0.47725913826796484,
          -0.8951657268028664,
          1.040873912756864,
          0.6889517936390033,
          -0.6254565490192873,
          0.056607400359586675,
          -1.3344126648432137,
          0.5310244992109355,
          -0.4026060645353525,
          -1.0112905888470805,
          0.20254588806340293,
          -0.9398128398987691,
          0.29030816143088617,
          0.16960740519693995,
          -0.33546214813743086,
          -0.6318648534740554,
          -1.2603199668632525,
          -1.0584187303336114,
          -0.6584419154679033,
          -0.7761830707174558,
          0.18356733446499296,
          -0.6057873440205137,
          -0.38084706376348565,
          -0.055308437607390355,
          0.08121281945616167,
          0.7809925917005588,
          0.6784590127680238,
          -0.38320706289779743,
          -0.3812362488829061,
          -0.6858059697491599,
          0.420085435333433,
          -0.39589726553536614,
          -0.19222354626648713,
          -0.08390596200550164,
          0.7972359303415871,
          -0.6324179402608489,
          0.1421195234625367,
          0.057195156546059195,
          -0.314341651685965,
          0.9736859634741865,
          -2.9788993036423044,
          -0.6845441151492541,
          -0.5576943489797075,
          -1.3516323922134519,
          -0.9709362653080871,
          1.365256366153465,
          0.718956349712268,
          1.7339131565957542,
          -1.067851815371018,
          2.281657356242972,
          -1.007744798463298,
          -0.46677493557946326,
          -1.8191960234718,
          0.6336433726417379,
          -0.40964073312347576,
          -0.4470642019493151,
          1.0112267153589807,
          -0.26318140097456244,
          -1.7523284028838095,
          -1.397493698943379,
          0.4235660701861368,
          0.1259307601550791,
          2.1980836331430025,
          -0.3342919828009481,
          -0.26164888590349483,
          0.20436642301007998,
          -0.1777398559179107,
          0.10999343897028462,
          0.668650044421462,
          0.324701718534536,
          0.8905536096097691,
          0.4920584619743266,
          1.3408738529546866,
          0.13752194313626281,
          0.8088909918748413,
          1.2113437911270513,
          0.4249118524186255,
          0.30084655728003756,
          -0.7350581437557522,
          -1.9848828439828112,
          -0.1861666450404373
         ]
        },
        {
         "line": {
          "color": "rgba(128, 0, 128, 1.0)",
          "dash": "solid",
          "shape": "linear",
          "width": 1.3
         },
         "mode": "lines",
         "name": "D",
         "text": "",
         "type": "scatter",
         "x": [
          0,
          1,
          2,
          3,
          4,
          5,
          6,
          7,
          8,
          9,
          10,
          11,
          12,
          13,
          14,
          15,
          16,
          17,
          18,
          19,
          20,
          21,
          22,
          23,
          24,
          25,
          26,
          27,
          28,
          29,
          30,
          31,
          32,
          33,
          34,
          35,
          36,
          37,
          38,
          39,
          40,
          41,
          42,
          43,
          44,
          45,
          46,
          47,
          48,
          49,
          50,
          51,
          52,
          53,
          54,
          55,
          56,
          57,
          58,
          59,
          60,
          61,
          62,
          63,
          64,
          65,
          66,
          67,
          68,
          69,
          70,
          71,
          72,
          73,
          74,
          75,
          76,
          77,
          78,
          79,
          80,
          81,
          82,
          83,
          84,
          85,
          86,
          87,
          88,
          89,
          90,
          91,
          92,
          93,
          94,
          95,
          96,
          97,
          98,
          99
         ],
         "y": [
          -1.2152851008211565,
          1.0962407727647794,
          0.2823908965066684,
          -0.6400684740103899,
          1.3903268293981896,
          -0.43630370787208284,
          1.6855131931434146,
          -0.9510958329218072,
          -0.6219085330422188,
          -0.9489707598641608,
          -0.698742389319351,
          -0.7742272368309635,
          -0.3410186360699531,
          -0.8397183898787279,
          0.7690901833270892,
          0.8840260416222037,
          -0.032686325892768694,
          -1.349531625789729,
          -0.7123989177524955,
          -0.04498944586512662,
          2.249757015409204,
          0.03491111501659019,
          -1.8688678320066794,
          -0.7707283779343044,
          1.0245726748841517,
          -0.6019804065389124,
          0.8900592546444966,
          -0.004287296778723674,
          0.8397354542570362,
          -0.8455151163471136,
          -1.1570187828662188,
          -0.8080015750324793,
          1.1366737065640298,
          0.20018527553765764,
          0.2042123536287555,
          -1.0756118862161772,
          0.8143163347496459,
          -1.252014538609369,
          0.6733080904317835,
          -0.48688831904411545,
          -0.23028457498088148,
          1.9164650989757752,
          0.04696896761610842,
          -0.18478364368208358,
          0.6562449701171231,
          0.970407885869781,
          0.5305986929009918,
          1.4513113578274168,
          -0.3966058987582575,
          -0.7543690817060114,
          -0.19486789883670178,
          -0.3710372637818589,
          1.6469037256148995,
          0.6649176182225256,
          1.4478534444262872,
          0.014408312854281256,
          -0.3051805260346321,
          -0.21018848007375243,
          -0.3905530081100771,
          -0.12450602429243515,
          2.0313701611809596,
          1.230245442258353,
          1.101503992277737,
          0.7190159022852662,
          1.2220747509649195,
          1.0544433483124593,
          1.2243129070919712,
          -1.2257988521518608,
          2.012474194307803,
          -2.2196512022802324,
          1.240136683313242,
          -0.2552959649056867,
          -0.805767928666894,
          1.0173382130401711,
          -0.205032689441431,
          0.948533066179219,
          -0.7681816201859842,
          0.18470324422208365,
          -1.1318009661745418,
          0.9932173025919385,
          0.8224097988300498,
          1.523893031642696,
          -0.6203463645126658,
          -0.02936686658955437,
          0.25822352747392713,
          0.8206167221288364,
          0.4955907866340889,
          -1.607998054022176,
          1.656886245540623,
          -0.28242404280303507,
          -0.053329563698971974,
          -2.2066591204599866,
          0.6330151286390073,
          -1.173645519287031,
          -0.8934444114391192,
          -1.2552486674952328,
          -1.2170900382830623,
          1.2869385915640499,
          -0.17230883936722877,
          0.7043037370227436
         ]
        }
       ],
       "layout": {
        "legend": {
         "bgcolor": "#F5F6F9",
         "font": {
          "color": "#4D5663"
         }
        },
        "paper_bgcolor": "#F5F6F9",
        "plot_bgcolor": "#F5F6F9",
        "template": {
         "data": {
          "bar": [
           {
            "error_x": {
             "color": "#2a3f5f"
            },
            "error_y": {
             "color": "#2a3f5f"
            },
            "marker": {
             "line": {
              "color": "#E5ECF6",
              "width": 0.5
             },
             "pattern": {
              "fillmode": "overlay",
              "size": 10,
              "solidity": 0.2
             }
            },
            "type": "bar"
           }
          ],
          "barpolar": [
           {
            "marker": {
             "line": {
              "color": "#E5ECF6",
              "width": 0.5
             },
             "pattern": {
              "fillmode": "overlay",
              "size": 10,
              "solidity": 0.2
             }
            },
            "type": "barpolar"
           }
          ],
          "carpet": [
           {
            "aaxis": {
             "endlinecolor": "#2a3f5f",
             "gridcolor": "white",
             "linecolor": "white",
             "minorgridcolor": "white",
             "startlinecolor": "#2a3f5f"
            },
            "baxis": {
             "endlinecolor": "#2a3f5f",
             "gridcolor": "white",
             "linecolor": "white",
             "minorgridcolor": "white",
             "startlinecolor": "#2a3f5f"
            },
            "type": "carpet"
           }
          ],
          "choropleth": [
           {
            "colorbar": {
             "outlinewidth": 0,
             "ticks": ""
            },
            "type": "choropleth"
           }
          ],
          "contour": [
           {
            "colorbar": {
             "outlinewidth": 0,
             "ticks": ""
            },
            "colorscale": [
             [
              0,
              "#0d0887"
             ],
             [
              0.1111111111111111,
              "#46039f"
             ],
             [
              0.2222222222222222,
              "#7201a8"
             ],
             [
              0.3333333333333333,
              "#9c179e"
             ],
             [
              0.4444444444444444,
              "#bd3786"
             ],
             [
              0.5555555555555556,
              "#d8576b"
             ],
             [
              0.6666666666666666,
              "#ed7953"
             ],
             [
              0.7777777777777778,
              "#fb9f3a"
             ],
             [
              0.8888888888888888,
              "#fdca26"
             ],
             [
              1,
              "#f0f921"
             ]
            ],
            "type": "contour"
           }
          ],
          "contourcarpet": [
           {
            "colorbar": {
             "outlinewidth": 0,
             "ticks": ""
            },
            "type": "contourcarpet"
           }
          ],
          "heatmap": [
           {
            "colorbar": {
             "outlinewidth": 0,
             "ticks": ""
            },
            "colorscale": [
             [
              0,
              "#0d0887"
             ],
             [
              0.1111111111111111,
              "#46039f"
             ],
             [
              0.2222222222222222,
              "#7201a8"
             ],
             [
              0.3333333333333333,
              "#9c179e"
             ],
             [
              0.4444444444444444,
              "#bd3786"
             ],
             [
              0.5555555555555556,
              "#d8576b"
             ],
             [
              0.6666666666666666,
              "#ed7953"
             ],
             [
              0.7777777777777778,
              "#fb9f3a"
             ],
             [
              0.8888888888888888,
              "#fdca26"
             ],
             [
              1,
              "#f0f921"
             ]
            ],
            "type": "heatmap"
           }
          ],
          "heatmapgl": [
           {
            "colorbar": {
             "outlinewidth": 0,
             "ticks": ""
            },
            "colorscale": [
             [
              0,
              "#0d0887"
             ],
             [
              0.1111111111111111,
              "#46039f"
             ],
             [
              0.2222222222222222,
              "#7201a8"
             ],
             [
              0.3333333333333333,
              "#9c179e"
             ],
             [
              0.4444444444444444,
              "#bd3786"
             ],
             [
              0.5555555555555556,
              "#d8576b"
             ],
             [
              0.6666666666666666,
              "#ed7953"
             ],
             [
              0.7777777777777778,
              "#fb9f3a"
             ],
             [
              0.8888888888888888,
              "#fdca26"
             ],
             [
              1,
              "#f0f921"
             ]
            ],
            "type": "heatmapgl"
           }
          ],
          "histogram": [
           {
            "marker": {
             "pattern": {
              "fillmode": "overlay",
              "size": 10,
              "solidity": 0.2
             }
            },
            "type": "histogram"
           }
          ],
          "histogram2d": [
           {
            "colorbar": {
             "outlinewidth": 0,
             "ticks": ""
            },
            "colorscale": [
             [
              0,
              "#0d0887"
             ],
             [
              0.1111111111111111,
              "#46039f"
             ],
             [
              0.2222222222222222,
              "#7201a8"
             ],
             [
              0.3333333333333333,
              "#9c179e"
             ],
             [
              0.4444444444444444,
              "#bd3786"
             ],
             [
              0.5555555555555556,
              "#d8576b"
             ],
             [
              0.6666666666666666,
              "#ed7953"
             ],
             [
              0.7777777777777778,
              "#fb9f3a"
             ],
             [
              0.8888888888888888,
              "#fdca26"
             ],
             [
              1,
              "#f0f921"
             ]
            ],
            "type": "histogram2d"
           }
          ],
          "histogram2dcontour": [
           {
            "colorbar": {
             "outlinewidth": 0,
             "ticks": ""
            },
            "colorscale": [
             [
              0,
              "#0d0887"
             ],
             [
              0.1111111111111111,
              "#46039f"
             ],
             [
              0.2222222222222222,
              "#7201a8"
             ],
             [
              0.3333333333333333,
              "#9c179e"
             ],
             [
              0.4444444444444444,
              "#bd3786"
             ],
             [
              0.5555555555555556,
              "#d8576b"
             ],
             [
              0.6666666666666666,
              "#ed7953"
             ],
             [
              0.7777777777777778,
              "#fb9f3a"
             ],
             [
              0.8888888888888888,
              "#fdca26"
             ],
             [
              1,
              "#f0f921"
             ]
            ],
            "type": "histogram2dcontour"
           }
          ],
          "mesh3d": [
           {
            "colorbar": {
             "outlinewidth": 0,
             "ticks": ""
            },
            "type": "mesh3d"
           }
          ],
          "parcoords": [
           {
            "line": {
             "colorbar": {
              "outlinewidth": 0,
              "ticks": ""
             }
            },
            "type": "parcoords"
           }
          ],
          "pie": [
           {
            "automargin": true,
            "type": "pie"
           }
          ],
          "scatter": [
           {
            "fillpattern": {
             "fillmode": "overlay",
             "size": 10,
             "solidity": 0.2
            },
            "type": "scatter"
           }
          ],
          "scatter3d": [
           {
            "line": {
             "colorbar": {
              "outlinewidth": 0,
              "ticks": ""
             }
            },
            "marker": {
             "colorbar": {
              "outlinewidth": 0,
              "ticks": ""
             }
            },
            "type": "scatter3d"
           }
          ],
          "scattercarpet": [
           {
            "marker": {
             "colorbar": {
              "outlinewidth": 0,
              "ticks": ""
             }
            },
            "type": "scattercarpet"
           }
          ],
          "scattergeo": [
           {
            "marker": {
             "colorbar": {
              "outlinewidth": 0,
              "ticks": ""
             }
            },
            "type": "scattergeo"
           }
          ],
          "scattergl": [
           {
            "marker": {
             "colorbar": {
              "outlinewidth": 0,
              "ticks": ""
             }
            },
            "type": "scattergl"
           }
          ],
          "scattermapbox": [
           {
            "marker": {
             "colorbar": {
              "outlinewidth": 0,
              "ticks": ""
             }
            },
            "type": "scattermapbox"
           }
          ],
          "scatterpolar": [
           {
            "marker": {
             "colorbar": {
              "outlinewidth": 0,
              "ticks": ""
             }
            },
            "type": "scatterpolar"
           }
          ],
          "scatterpolargl": [
           {
            "marker": {
             "colorbar": {
              "outlinewidth": 0,
              "ticks": ""
             }
            },
            "type": "scatterpolargl"
           }
          ],
          "scatterternary": [
           {
            "marker": {
             "colorbar": {
              "outlinewidth": 0,
              "ticks": ""
             }
            },
            "type": "scatterternary"
           }
          ],
          "surface": [
           {
            "colorbar": {
             "outlinewidth": 0,
             "ticks": ""
            },
            "colorscale": [
             [
              0,
              "#0d0887"
             ],
             [
              0.1111111111111111,
              "#46039f"
             ],
             [
              0.2222222222222222,
              "#7201a8"
             ],
             [
              0.3333333333333333,
              "#9c179e"
             ],
             [
              0.4444444444444444,
              "#bd3786"
             ],
             [
              0.5555555555555556,
              "#d8576b"
             ],
             [
              0.6666666666666666,
              "#ed7953"
             ],
             [
              0.7777777777777778,
              "#fb9f3a"
             ],
             [
              0.8888888888888888,
              "#fdca26"
             ],
             [
              1,
              "#f0f921"
             ]
            ],
            "type": "surface"
           }
          ],
          "table": [
           {
            "cells": {
             "fill": {
              "color": "#EBF0F8"
             },
             "line": {
              "color": "white"
             }
            },
            "header": {
             "fill": {
              "color": "#C8D4E3"
             },
             "line": {
              "color": "white"
             }
            },
            "type": "table"
           }
          ]
         },
         "layout": {
          "annotationdefaults": {
           "arrowcolor": "#2a3f5f",
           "arrowhead": 0,
           "arrowwidth": 1
          },
          "autotypenumbers": "strict",
          "coloraxis": {
           "colorbar": {
            "outlinewidth": 0,
            "ticks": ""
           }
          },
          "colorscale": {
           "diverging": [
            [
             0,
             "#8e0152"
            ],
            [
             0.1,
             "#c51b7d"
            ],
            [
             0.2,
             "#de77ae"
            ],
            [
             0.3,
             "#f1b6da"
            ],
            [
             0.4,
             "#fde0ef"
            ],
            [
             0.5,
             "#f7f7f7"
            ],
            [
             0.6,
             "#e6f5d0"
            ],
            [
             0.7,
             "#b8e186"
            ],
            [
             0.8,
             "#7fbc41"
            ],
            [
             0.9,
             "#4d9221"
            ],
            [
             1,
             "#276419"
            ]
           ],
           "sequential": [
            [
             0,
             "#0d0887"
            ],
            [
             0.1111111111111111,
             "#46039f"
            ],
            [
             0.2222222222222222,
             "#7201a8"
            ],
            [
             0.3333333333333333,
             "#9c179e"
            ],
            [
             0.4444444444444444,
             "#bd3786"
            ],
            [
             0.5555555555555556,
             "#d8576b"
            ],
            [
             0.6666666666666666,
             "#ed7953"
            ],
            [
             0.7777777777777778,
             "#fb9f3a"
            ],
            [
             0.8888888888888888,
             "#fdca26"
            ],
            [
             1,
             "#f0f921"
            ]
           ],
           "sequentialminus": [
            [
             0,
             "#0d0887"
            ],
            [
             0.1111111111111111,
             "#46039f"
            ],
            [
             0.2222222222222222,
             "#7201a8"
            ],
            [
             0.3333333333333333,
             "#9c179e"
            ],
            [
             0.4444444444444444,
             "#bd3786"
            ],
            [
             0.5555555555555556,
             "#d8576b"
            ],
            [
             0.6666666666666666,
             "#ed7953"
            ],
            [
             0.7777777777777778,
             "#fb9f3a"
            ],
            [
             0.8888888888888888,
             "#fdca26"
            ],
            [
             1,
             "#f0f921"
            ]
           ]
          },
          "colorway": [
           "#636efa",
           "#EF553B",
           "#00cc96",
           "#ab63fa",
           "#FFA15A",
           "#19d3f3",
           "#FF6692",
           "#B6E880",
           "#FF97FF",
           "#FECB52"
          ],
          "font": {
           "color": "#2a3f5f"
          },
          "geo": {
           "bgcolor": "white",
           "lakecolor": "white",
           "landcolor": "#E5ECF6",
           "showlakes": true,
           "showland": true,
           "subunitcolor": "white"
          },
          "hoverlabel": {
           "align": "left"
          },
          "hovermode": "closest",
          "mapbox": {
           "style": "light"
          },
          "paper_bgcolor": "white",
          "plot_bgcolor": "#E5ECF6",
          "polar": {
           "angularaxis": {
            "gridcolor": "white",
            "linecolor": "white",
            "ticks": ""
           },
           "bgcolor": "#E5ECF6",
           "radialaxis": {
            "gridcolor": "white",
            "linecolor": "white",
            "ticks": ""
           }
          },
          "scene": {
           "xaxis": {
            "backgroundcolor": "#E5ECF6",
            "gridcolor": "white",
            "gridwidth": 2,
            "linecolor": "white",
            "showbackground": true,
            "ticks": "",
            "zerolinecolor": "white"
           },
           "yaxis": {
            "backgroundcolor": "#E5ECF6",
            "gridcolor": "white",
            "gridwidth": 2,
            "linecolor": "white",
            "showbackground": true,
            "ticks": "",
            "zerolinecolor": "white"
           },
           "zaxis": {
            "backgroundcolor": "#E5ECF6",
            "gridcolor": "white",
            "gridwidth": 2,
            "linecolor": "white",
            "showbackground": true,
            "ticks": "",
            "zerolinecolor": "white"
           }
          },
          "shapedefaults": {
           "line": {
            "color": "#2a3f5f"
           }
          },
          "ternary": {
           "aaxis": {
            "gridcolor": "white",
            "linecolor": "white",
            "ticks": ""
           },
           "baxis": {
            "gridcolor": "white",
            "linecolor": "white",
            "ticks": ""
           },
           "bgcolor": "#E5ECF6",
           "caxis": {
            "gridcolor": "white",
            "linecolor": "white",
            "ticks": ""
           }
          },
          "title": {
           "x": 0.05
          },
          "xaxis": {
           "automargin": true,
           "gridcolor": "white",
           "linecolor": "white",
           "ticks": "",
           "title": {
            "standoff": 15
           },
           "zerolinecolor": "white",
           "zerolinewidth": 2
          },
          "yaxis": {
           "automargin": true,
           "gridcolor": "white",
           "linecolor": "white",
           "ticks": "",
           "title": {
            "standoff": 15
           },
           "zerolinecolor": "white",
           "zerolinewidth": 2
          }
         }
        },
        "title": {
         "font": {
          "color": "#4D5663"
         }
        },
        "xaxis": {
         "gridcolor": "#E1E5ED",
         "showgrid": true,
         "tickfont": {
          "color": "#4D5663"
         },
         "title": {
          "font": {
           "color": "#4D5663"
          },
          "text": ""
         },
         "zerolinecolor": "#E1E5ED"
        },
        "yaxis": {
         "gridcolor": "#E1E5ED",
         "showgrid": true,
         "tickfont": {
          "color": "#4D5663"
         },
         "title": {
          "font": {
           "color": "#4D5663"
          },
          "text": ""
         },
         "zerolinecolor": "#E1E5ED"
        }
       }
      },
      "text/html": [
       "<div>                            <div id=\"9ae689ed-30ab-43a7-acd9-1bed3a2f5310\" class=\"plotly-graph-div\" style=\"height:525px; width:100%;\"></div>            <script type=\"text/javascript\">                require([\"plotly\"], function(Plotly) {                    window.PLOTLYENV=window.PLOTLYENV || {};\n",
       "                    window.PLOTLYENV.BASE_URL='https://plot.ly';                                    if (document.getElementById(\"9ae689ed-30ab-43a7-acd9-1bed3a2f5310\")) {                    Plotly.newPlot(                        \"9ae689ed-30ab-43a7-acd9-1bed3a2f5310\",                        [{\"line\":{\"color\":\"rgba(255, 153, 51, 1.0)\",\"dash\":\"solid\",\"shape\":\"linear\",\"width\":1.3},\"mode\":\"lines\",\"name\":\"A\",\"text\":\"\",\"x\":[0,1,2,3,4,5,6,7,8,9,10,11,12,13,14,15,16,17,18,19,20,21,22,23,24,25,26,27,28,29,30,31,32,33,34,35,36,37,38,39,40,41,42,43,44,45,46,47,48,49,50,51,52,53,54,55,56,57,58,59,60,61,62,63,64,65,66,67,68,69,70,71,72,73,74,75,76,77,78,79,80,81,82,83,84,85,86,87,88,89,90,91,92,93,94,95,96,97,98,99],\"y\":[0.33567605600194994,-0.8109873503861798,-2.6316756978724447,0.5776275311286065,-0.22530496487367777,0.8097460374131469,-0.5115338215552406,-0.4590997186416238,-0.298577056088914,-0.28541368761683306,-0.5472911448565846,0.3027742133920709,0.8902345216571652,-0.9239113525121986,0.9416625216245742,-0.18066450525113226,-2.0881969759280192,0.47500151093148335,-1.2731709071783763,1.230559710728227,-0.1605185431067916,0.6015686401189955,1.0663771004856937,0.4339044154824729,0.42688970128877163,0.7278870362259178,-0.6948804563250303,-0.05374882813326524,-1.6336690547739716,-0.88579686362121,-0.9542553464180343,-0.5644192605571883,1.0782994643519894,0.49503871747449035,0.5343533913205508,1.447396904689215,0.804473836069314,0.3481074903159142,-0.2505714270670016,-0.9029133179431246,0.2940895274251988,0.14540457070201546,-0.10762877600905554,0.3053893258733171,0.598940030645167,0.7820125036292656,-0.8966714305533445,1.6606846244283409,0.5727604798690485,1.6231494486869715,-0.8105612809550491,-0.3923264306412344,-0.04246774635108637,-0.059903525664294535,-0.5311755088064984,-0.23453465907896814,-2.0232349749481413,-0.475191922450835,-0.40907645810611803,-0.1339567374388445,-2.7697162720257404,-1.358394353131801,-0.08178397964309239,0.7753013039142149,0.5360340367280473,0.2533268706667387,0.5625348411215483,0.31576535434829717,-1.206120024494666,0.048844511971718504,1.120232843572727,0.21992570366912945,-0.21448152530239026,-1.908920438887307,0.9638465930685435,0.7935170953105968,0.8460362189297203,0.8793126804341501,-0.3120587028701596,0.9023335833858086,-1.2657523325157283,1.268781693218166,-0.05215591066790494,0.6968094280163797,-1.189618503274249,1.8258605748682426,-1.6072554233354683,0.0468494169654665,0.6188673797537998,-0.35377270836903085,0.7879111619926648,1.0992184325469223,-0.3551296686529979,0.9551820492099591,-1.9799928033362035,-1.4876434001811865,1.258773185930191,0.06426248988592512,-0.27308672608175666,2.3920188360109895],\"type\":\"scatter\"},{\"line\":{\"color\":\"rgba(55, 128, 191, 1.0)\",\"dash\":\"solid\",\"shape\":\"linear\",\"width\":1.3},\"mode\":\"lines\",\"name\":\"B\",\"text\":\"\",\"x\":[0,1,2,3,4,5,6,7,8,9,10,11,12,13,14,15,16,17,18,19,20,21,22,23,24,25,26,27,28,29,30,31,32,33,34,35,36,37,38,39,40,41,42,43,44,45,46,47,48,49,50,51,52,53,54,55,56,57,58,59,60,61,62,63,64,65,66,67,68,69,70,71,72,73,74,75,76,77,78,79,80,81,82,83,84,85,86,87,88,89,90,91,92,93,94,95,96,97,98,99],\"y\":[-0.5174427882896812,2.6003500721367523,-0.398272656123329,1.0507472535838591,0.8484275564204568,0.34558531549137267,-0.7251750770576902,0.21203195288143903,1.0247005880785944,-0.41853128884587465,-0.5792595251450603,-0.23468009328856468,-0.37024797574697754,-1.6223191538820032,0.15822171939306529,0.7577979333440427,1.3104606801852252,0.354980393666831,1.0120449798349127,-1.3830630529587908,-0.7625692342748789,-0.031060772043171623,0.5876748574760096,-0.743381893549244,-0.07429448923367035,-1.2004104644731826,-0.24151882697923244,-2.320503904382237,-0.24087115581766094,-0.6987973244103791,-1.529215465871502,-0.4634558897134851,-0.517397324567097,-1.8826290407376154,-0.31550730650325126,-1.2810841938510928,-0.8165122345800369,0.010350999435031857,0.6307697461985253,0.6349949735690572,-1.3556578317900443,-0.07291038369075702,1.8848957700591833,-0.05777255081355184,0.6305221253983728,-0.977814856382125,1.2690335969192925,-0.5369021582866585,0.722476421578678,-0.6211934196164647,-0.3681602983448335,0.9156272215217325,-0.7906496269252035,1.245402244792277,-0.8609902609396055,1.5565591336143088,2.2655015589706453,-0.559343883766819,0.6072014775791178,0.18524797697217793,-0.5927180845146982,-0.4885482202160909,-0.2893087340183615,-0.09883201903432087,-0.5075521083179926,-0.021700889479004296,-1.305263590768384,-2.475515689150806,0.7843295779319387,-1.2032159148318333,1.9693577778767357,1.2238146565172854,1.1218344358044634,0.6674877264904224,1.2987751223433057,0.8637612322891047,0.7141219494868857,-0.5771529440751496,-1.2094988170327658,-0.30680557397477326,-1.5553797829605431,-1.7642989796422124,0.2592547356714931,2.168363029888972,0.030842989528504984,-1.6804497353868382,0.2818989496594489,-1.4778125028049618,-0.19193682085594233,0.6545811208782711,-0.6105512277782915,-0.5515806204315961,0.6817777225025149,-3.5935123694260622,-0.7399182083758457,0.17627441095701263,0.5453205448981414,-1.5226575299689897,-0.08078954284580486,-0.2065928315307047],\"type\":\"scatter\"},{\"line\":{\"color\":\"rgba(50, 171, 96, 1.0)\",\"dash\":\"solid\",\"shape\":\"linear\",\"width\":1.3},\"mode\":\"lines\",\"name\":\"C\",\"text\":\"\",\"x\":[0,1,2,3,4,5,6,7,8,9,10,11,12,13,14,15,16,17,18,19,20,21,22,23,24,25,26,27,28,29,30,31,32,33,34,35,36,37,38,39,40,41,42,43,44,45,46,47,48,49,50,51,52,53,54,55,56,57,58,59,60,61,62,63,64,65,66,67,68,69,70,71,72,73,74,75,76,77,78,79,80,81,82,83,84,85,86,87,88,89,90,91,92,93,94,95,96,97,98,99],\"y\":[-0.1273731034144319,0.8034179756806943,-1.2962268513591653,1.6171909704679153,-0.1913518478400872,-0.24719348349434403,-0.2575053212468563,0.5361937874809402,-0.34299576177883084,-0.422061097231771,0.3075629011819519,-0.05769047720344889,0.9375230337933363,0.42134994381321567,1.645771436901701,0.15570179343022572,-0.035488120203908034,-1.111127717248961,1.7488295852063047,-0.47725913826796484,-0.8951657268028664,1.040873912756864,0.6889517936390033,-0.6254565490192873,0.056607400359586675,-1.3344126648432137,0.5310244992109355,-0.4026060645353525,-1.0112905888470805,0.20254588806340293,-0.9398128398987691,0.29030816143088617,0.16960740519693995,-0.33546214813743086,-0.6318648534740554,-1.2603199668632525,-1.0584187303336114,-0.6584419154679033,-0.7761830707174558,0.18356733446499296,-0.6057873440205137,-0.38084706376348565,-0.055308437607390355,0.08121281945616167,0.7809925917005588,0.6784590127680238,-0.38320706289779743,-0.3812362488829061,-0.6858059697491599,0.420085435333433,-0.39589726553536614,-0.19222354626648713,-0.08390596200550164,0.7972359303415871,-0.6324179402608489,0.1421195234625367,0.057195156546059195,-0.314341651685965,0.9736859634741865,-2.9788993036423044,-0.6845441151492541,-0.5576943489797075,-1.3516323922134519,-0.9709362653080871,1.365256366153465,0.718956349712268,1.7339131565957542,-1.067851815371018,2.281657356242972,-1.007744798463298,-0.46677493557946326,-1.8191960234718,0.6336433726417379,-0.40964073312347576,-0.4470642019493151,1.0112267153589807,-0.26318140097456244,-1.7523284028838095,-1.397493698943379,0.4235660701861368,0.1259307601550791,2.1980836331430025,-0.3342919828009481,-0.26164888590349483,0.20436642301007998,-0.1777398559179107,0.10999343897028462,0.668650044421462,0.324701718534536,0.8905536096097691,0.4920584619743266,1.3408738529546866,0.13752194313626281,0.8088909918748413,1.2113437911270513,0.4249118524186255,0.30084655728003756,-0.7350581437557522,-1.9848828439828112,-0.1861666450404373],\"type\":\"scatter\"},{\"line\":{\"color\":\"rgba(128, 0, 128, 1.0)\",\"dash\":\"solid\",\"shape\":\"linear\",\"width\":1.3},\"mode\":\"lines\",\"name\":\"D\",\"text\":\"\",\"x\":[0,1,2,3,4,5,6,7,8,9,10,11,12,13,14,15,16,17,18,19,20,21,22,23,24,25,26,27,28,29,30,31,32,33,34,35,36,37,38,39,40,41,42,43,44,45,46,47,48,49,50,51,52,53,54,55,56,57,58,59,60,61,62,63,64,65,66,67,68,69,70,71,72,73,74,75,76,77,78,79,80,81,82,83,84,85,86,87,88,89,90,91,92,93,94,95,96,97,98,99],\"y\":[-1.2152851008211565,1.0962407727647794,0.2823908965066684,-0.6400684740103899,1.3903268293981896,-0.43630370787208284,1.6855131931434146,-0.9510958329218072,-0.6219085330422188,-0.9489707598641608,-0.698742389319351,-0.7742272368309635,-0.3410186360699531,-0.8397183898787279,0.7690901833270892,0.8840260416222037,-0.032686325892768694,-1.349531625789729,-0.7123989177524955,-0.04498944586512662,2.249757015409204,0.03491111501659019,-1.8688678320066794,-0.7707283779343044,1.0245726748841517,-0.6019804065389124,0.8900592546444966,-0.004287296778723674,0.8397354542570362,-0.8455151163471136,-1.1570187828662188,-0.8080015750324793,1.1366737065640298,0.20018527553765764,0.2042123536287555,-1.0756118862161772,0.8143163347496459,-1.252014538609369,0.6733080904317835,-0.48688831904411545,-0.23028457498088148,1.9164650989757752,0.04696896761610842,-0.18478364368208358,0.6562449701171231,0.970407885869781,0.5305986929009918,1.4513113578274168,-0.3966058987582575,-0.7543690817060114,-0.19486789883670178,-0.3710372637818589,1.6469037256148995,0.6649176182225256,1.4478534444262872,0.014408312854281256,-0.3051805260346321,-0.21018848007375243,-0.3905530081100771,-0.12450602429243515,2.0313701611809596,1.230245442258353,1.101503992277737,0.7190159022852662,1.2220747509649195,1.0544433483124593,1.2243129070919712,-1.2257988521518608,2.012474194307803,-2.2196512022802324,1.240136683313242,-0.2552959649056867,-0.805767928666894,1.0173382130401711,-0.205032689441431,0.948533066179219,-0.7681816201859842,0.18470324422208365,-1.1318009661745418,0.9932173025919385,0.8224097988300498,1.523893031642696,-0.6203463645126658,-0.02936686658955437,0.25822352747392713,0.8206167221288364,0.4955907866340889,-1.607998054022176,1.656886245540623,-0.28242404280303507,-0.053329563698971974,-2.2066591204599866,0.6330151286390073,-1.173645519287031,-0.8934444114391192,-1.2552486674952328,-1.2170900382830623,1.2869385915640499,-0.17230883936722877,0.7043037370227436],\"type\":\"scatter\"}],                        {\"legend\":{\"bgcolor\":\"#F5F6F9\",\"font\":{\"color\":\"#4D5663\"}},\"paper_bgcolor\":\"#F5F6F9\",\"plot_bgcolor\":\"#F5F6F9\",\"template\":{\"data\":{\"barpolar\":[{\"marker\":{\"line\":{\"color\":\"#E5ECF6\",\"width\":0.5},\"pattern\":{\"fillmode\":\"overlay\",\"size\":10,\"solidity\":0.2}},\"type\":\"barpolar\"}],\"bar\":[{\"error_x\":{\"color\":\"#2a3f5f\"},\"error_y\":{\"color\":\"#2a3f5f\"},\"marker\":{\"line\":{\"color\":\"#E5ECF6\",\"width\":0.5},\"pattern\":{\"fillmode\":\"overlay\",\"size\":10,\"solidity\":0.2}},\"type\":\"bar\"}],\"carpet\":[{\"aaxis\":{\"endlinecolor\":\"#2a3f5f\",\"gridcolor\":\"white\",\"linecolor\":\"white\",\"minorgridcolor\":\"white\",\"startlinecolor\":\"#2a3f5f\"},\"baxis\":{\"endlinecolor\":\"#2a3f5f\",\"gridcolor\":\"white\",\"linecolor\":\"white\",\"minorgridcolor\":\"white\",\"startlinecolor\":\"#2a3f5f\"},\"type\":\"carpet\"}],\"choropleth\":[{\"colorbar\":{\"outlinewidth\":0,\"ticks\":\"\"},\"type\":\"choropleth\"}],\"contourcarpet\":[{\"colorbar\":{\"outlinewidth\":0,\"ticks\":\"\"},\"type\":\"contourcarpet\"}],\"contour\":[{\"colorbar\":{\"outlinewidth\":0,\"ticks\":\"\"},\"colorscale\":[[0.0,\"#0d0887\"],[0.1111111111111111,\"#46039f\"],[0.2222222222222222,\"#7201a8\"],[0.3333333333333333,\"#9c179e\"],[0.4444444444444444,\"#bd3786\"],[0.5555555555555556,\"#d8576b\"],[0.6666666666666666,\"#ed7953\"],[0.7777777777777778,\"#fb9f3a\"],[0.8888888888888888,\"#fdca26\"],[1.0,\"#f0f921\"]],\"type\":\"contour\"}],\"heatmapgl\":[{\"colorbar\":{\"outlinewidth\":0,\"ticks\":\"\"},\"colorscale\":[[0.0,\"#0d0887\"],[0.1111111111111111,\"#46039f\"],[0.2222222222222222,\"#7201a8\"],[0.3333333333333333,\"#9c179e\"],[0.4444444444444444,\"#bd3786\"],[0.5555555555555556,\"#d8576b\"],[0.6666666666666666,\"#ed7953\"],[0.7777777777777778,\"#fb9f3a\"],[0.8888888888888888,\"#fdca26\"],[1.0,\"#f0f921\"]],\"type\":\"heatmapgl\"}],\"heatmap\":[{\"colorbar\":{\"outlinewidth\":0,\"ticks\":\"\"},\"colorscale\":[[0.0,\"#0d0887\"],[0.1111111111111111,\"#46039f\"],[0.2222222222222222,\"#7201a8\"],[0.3333333333333333,\"#9c179e\"],[0.4444444444444444,\"#bd3786\"],[0.5555555555555556,\"#d8576b\"],[0.6666666666666666,\"#ed7953\"],[0.7777777777777778,\"#fb9f3a\"],[0.8888888888888888,\"#fdca26\"],[1.0,\"#f0f921\"]],\"type\":\"heatmap\"}],\"histogram2dcontour\":[{\"colorbar\":{\"outlinewidth\":0,\"ticks\":\"\"},\"colorscale\":[[0.0,\"#0d0887\"],[0.1111111111111111,\"#46039f\"],[0.2222222222222222,\"#7201a8\"],[0.3333333333333333,\"#9c179e\"],[0.4444444444444444,\"#bd3786\"],[0.5555555555555556,\"#d8576b\"],[0.6666666666666666,\"#ed7953\"],[0.7777777777777778,\"#fb9f3a\"],[0.8888888888888888,\"#fdca26\"],[1.0,\"#f0f921\"]],\"type\":\"histogram2dcontour\"}],\"histogram2d\":[{\"colorbar\":{\"outlinewidth\":0,\"ticks\":\"\"},\"colorscale\":[[0.0,\"#0d0887\"],[0.1111111111111111,\"#46039f\"],[0.2222222222222222,\"#7201a8\"],[0.3333333333333333,\"#9c179e\"],[0.4444444444444444,\"#bd3786\"],[0.5555555555555556,\"#d8576b\"],[0.6666666666666666,\"#ed7953\"],[0.7777777777777778,\"#fb9f3a\"],[0.8888888888888888,\"#fdca26\"],[1.0,\"#f0f921\"]],\"type\":\"histogram2d\"}],\"histogram\":[{\"marker\":{\"pattern\":{\"fillmode\":\"overlay\",\"size\":10,\"solidity\":0.2}},\"type\":\"histogram\"}],\"mesh3d\":[{\"colorbar\":{\"outlinewidth\":0,\"ticks\":\"\"},\"type\":\"mesh3d\"}],\"parcoords\":[{\"line\":{\"colorbar\":{\"outlinewidth\":0,\"ticks\":\"\"}},\"type\":\"parcoords\"}],\"pie\":[{\"automargin\":true,\"type\":\"pie\"}],\"scatter3d\":[{\"line\":{\"colorbar\":{\"outlinewidth\":0,\"ticks\":\"\"}},\"marker\":{\"colorbar\":{\"outlinewidth\":0,\"ticks\":\"\"}},\"type\":\"scatter3d\"}],\"scattercarpet\":[{\"marker\":{\"colorbar\":{\"outlinewidth\":0,\"ticks\":\"\"}},\"type\":\"scattercarpet\"}],\"scattergeo\":[{\"marker\":{\"colorbar\":{\"outlinewidth\":0,\"ticks\":\"\"}},\"type\":\"scattergeo\"}],\"scattergl\":[{\"marker\":{\"colorbar\":{\"outlinewidth\":0,\"ticks\":\"\"}},\"type\":\"scattergl\"}],\"scattermapbox\":[{\"marker\":{\"colorbar\":{\"outlinewidth\":0,\"ticks\":\"\"}},\"type\":\"scattermapbox\"}],\"scatterpolargl\":[{\"marker\":{\"colorbar\":{\"outlinewidth\":0,\"ticks\":\"\"}},\"type\":\"scatterpolargl\"}],\"scatterpolar\":[{\"marker\":{\"colorbar\":{\"outlinewidth\":0,\"ticks\":\"\"}},\"type\":\"scatterpolar\"}],\"scatter\":[{\"fillpattern\":{\"fillmode\":\"overlay\",\"size\":10,\"solidity\":0.2},\"type\":\"scatter\"}],\"scatterternary\":[{\"marker\":{\"colorbar\":{\"outlinewidth\":0,\"ticks\":\"\"}},\"type\":\"scatterternary\"}],\"surface\":[{\"colorbar\":{\"outlinewidth\":0,\"ticks\":\"\"},\"colorscale\":[[0.0,\"#0d0887\"],[0.1111111111111111,\"#46039f\"],[0.2222222222222222,\"#7201a8\"],[0.3333333333333333,\"#9c179e\"],[0.4444444444444444,\"#bd3786\"],[0.5555555555555556,\"#d8576b\"],[0.6666666666666666,\"#ed7953\"],[0.7777777777777778,\"#fb9f3a\"],[0.8888888888888888,\"#fdca26\"],[1.0,\"#f0f921\"]],\"type\":\"surface\"}],\"table\":[{\"cells\":{\"fill\":{\"color\":\"#EBF0F8\"},\"line\":{\"color\":\"white\"}},\"header\":{\"fill\":{\"color\":\"#C8D4E3\"},\"line\":{\"color\":\"white\"}},\"type\":\"table\"}]},\"layout\":{\"annotationdefaults\":{\"arrowcolor\":\"#2a3f5f\",\"arrowhead\":0,\"arrowwidth\":1},\"autotypenumbers\":\"strict\",\"coloraxis\":{\"colorbar\":{\"outlinewidth\":0,\"ticks\":\"\"}},\"colorscale\":{\"diverging\":[[0,\"#8e0152\"],[0.1,\"#c51b7d\"],[0.2,\"#de77ae\"],[0.3,\"#f1b6da\"],[0.4,\"#fde0ef\"],[0.5,\"#f7f7f7\"],[0.6,\"#e6f5d0\"],[0.7,\"#b8e186\"],[0.8,\"#7fbc41\"],[0.9,\"#4d9221\"],[1,\"#276419\"]],\"sequential\":[[0.0,\"#0d0887\"],[0.1111111111111111,\"#46039f\"],[0.2222222222222222,\"#7201a8\"],[0.3333333333333333,\"#9c179e\"],[0.4444444444444444,\"#bd3786\"],[0.5555555555555556,\"#d8576b\"],[0.6666666666666666,\"#ed7953\"],[0.7777777777777778,\"#fb9f3a\"],[0.8888888888888888,\"#fdca26\"],[1.0,\"#f0f921\"]],\"sequentialminus\":[[0.0,\"#0d0887\"],[0.1111111111111111,\"#46039f\"],[0.2222222222222222,\"#7201a8\"],[0.3333333333333333,\"#9c179e\"],[0.4444444444444444,\"#bd3786\"],[0.5555555555555556,\"#d8576b\"],[0.6666666666666666,\"#ed7953\"],[0.7777777777777778,\"#fb9f3a\"],[0.8888888888888888,\"#fdca26\"],[1.0,\"#f0f921\"]]},\"colorway\":[\"#636efa\",\"#EF553B\",\"#00cc96\",\"#ab63fa\",\"#FFA15A\",\"#19d3f3\",\"#FF6692\",\"#B6E880\",\"#FF97FF\",\"#FECB52\"],\"font\":{\"color\":\"#2a3f5f\"},\"geo\":{\"bgcolor\":\"white\",\"lakecolor\":\"white\",\"landcolor\":\"#E5ECF6\",\"showlakes\":true,\"showland\":true,\"subunitcolor\":\"white\"},\"hoverlabel\":{\"align\":\"left\"},\"hovermode\":\"closest\",\"mapbox\":{\"style\":\"light\"},\"paper_bgcolor\":\"white\",\"plot_bgcolor\":\"#E5ECF6\",\"polar\":{\"angularaxis\":{\"gridcolor\":\"white\",\"linecolor\":\"white\",\"ticks\":\"\"},\"bgcolor\":\"#E5ECF6\",\"radialaxis\":{\"gridcolor\":\"white\",\"linecolor\":\"white\",\"ticks\":\"\"}},\"scene\":{\"xaxis\":{\"backgroundcolor\":\"#E5ECF6\",\"gridcolor\":\"white\",\"gridwidth\":2,\"linecolor\":\"white\",\"showbackground\":true,\"ticks\":\"\",\"zerolinecolor\":\"white\"},\"yaxis\":{\"backgroundcolor\":\"#E5ECF6\",\"gridcolor\":\"white\",\"gridwidth\":2,\"linecolor\":\"white\",\"showbackground\":true,\"ticks\":\"\",\"zerolinecolor\":\"white\"},\"zaxis\":{\"backgroundcolor\":\"#E5ECF6\",\"gridcolor\":\"white\",\"gridwidth\":2,\"linecolor\":\"white\",\"showbackground\":true,\"ticks\":\"\",\"zerolinecolor\":\"white\"}},\"shapedefaults\":{\"line\":{\"color\":\"#2a3f5f\"}},\"ternary\":{\"aaxis\":{\"gridcolor\":\"white\",\"linecolor\":\"white\",\"ticks\":\"\"},\"baxis\":{\"gridcolor\":\"white\",\"linecolor\":\"white\",\"ticks\":\"\"},\"bgcolor\":\"#E5ECF6\",\"caxis\":{\"gridcolor\":\"white\",\"linecolor\":\"white\",\"ticks\":\"\"}},\"title\":{\"x\":0.05},\"xaxis\":{\"automargin\":true,\"gridcolor\":\"white\",\"linecolor\":\"white\",\"ticks\":\"\",\"title\":{\"standoff\":15},\"zerolinecolor\":\"white\",\"zerolinewidth\":2},\"yaxis\":{\"automargin\":true,\"gridcolor\":\"white\",\"linecolor\":\"white\",\"ticks\":\"\",\"title\":{\"standoff\":15},\"zerolinecolor\":\"white\",\"zerolinewidth\":2}}},\"title\":{\"font\":{\"color\":\"#4D5663\"}},\"xaxis\":{\"gridcolor\":\"#E1E5ED\",\"showgrid\":true,\"tickfont\":{\"color\":\"#4D5663\"},\"title\":{\"font\":{\"color\":\"#4D5663\"},\"text\":\"\"},\"zerolinecolor\":\"#E1E5ED\"},\"yaxis\":{\"gridcolor\":\"#E1E5ED\",\"showgrid\":true,\"tickfont\":{\"color\":\"#4D5663\"},\"title\":{\"font\":{\"color\":\"#4D5663\"},\"text\":\"\"},\"zerolinecolor\":\"#E1E5ED\"}},                        {\"showLink\": true, \"linkText\": \"Export to plot.ly\", \"plotlyServerURL\": \"https://plot.ly\", \"responsive\": true}                    ).then(function(){\n",
       "                            \n",
       "var gd = document.getElementById('9ae689ed-30ab-43a7-acd9-1bed3a2f5310');\n",
       "var x = new MutationObserver(function (mutations, observer) {{\n",
       "        var display = window.getComputedStyle(gd).display;\n",
       "        if (!display || display === 'none') {{\n",
       "            console.log([gd, 'removed!']);\n",
       "            Plotly.purge(gd);\n",
       "            observer.disconnect();\n",
       "        }}\n",
       "}});\n",
       "\n",
       "// Listen for the removal of the full notebook cells\n",
       "var notebookContainer = gd.closest('#notebook-container');\n",
       "if (notebookContainer) {{\n",
       "    x.observe(notebookContainer, {childList: true});\n",
       "}}\n",
       "\n",
       "// Listen for the clearing of the current output cell\n",
       "var outputEl = gd.closest('.output');\n",
       "if (outputEl) {{\n",
       "    x.observe(outputEl, {childList: true});\n",
       "}}\n",
       "\n",
       "                        })                };                });            </script>        </div>"
      ]
     },
     "metadata": {},
     "output_type": "display_data"
    }
   ],
   "source": [
    "df.iplot()"
   ]
  },
  {
   "cell_type": "code",
   "execution_count": 17,
   "id": "8104388b",
   "metadata": {},
   "outputs": [
    {
     "data": {
      "application/vnd.plotly.v1+json": {
       "config": {
        "linkText": "Export to plot.ly",
        "plotlyServerURL": "https://plot.ly",
        "showLink": true
       },
       "data": [
        {
         "line": {
          "color": "rgba(255, 153, 51, 1.0)",
          "dash": "solid",
          "shape": "linear",
          "width": 1.3
         },
         "marker": {
          "size": 10,
          "symbol": "circle"
         },
         "mode": "markers",
         "name": "B",
         "text": "",
         "type": "scatter",
         "x": [
          0.33567605600194994,
          -0.8109873503861798,
          -2.6316756978724447,
          0.5776275311286065,
          -0.22530496487367777,
          0.8097460374131469,
          -0.5115338215552406,
          -0.4590997186416238,
          -0.298577056088914,
          -0.28541368761683306,
          -0.5472911448565846,
          0.3027742133920709,
          0.8902345216571652,
          -0.9239113525121986,
          0.9416625216245742,
          -0.18066450525113226,
          -2.0881969759280192,
          0.47500151093148335,
          -1.2731709071783763,
          1.230559710728227,
          -0.1605185431067916,
          0.6015686401189955,
          1.0663771004856937,
          0.4339044154824729,
          0.42688970128877163,
          0.7278870362259178,
          -0.6948804563250303,
          -0.05374882813326524,
          -1.6336690547739716,
          -0.88579686362121,
          -0.9542553464180343,
          -0.5644192605571883,
          1.0782994643519894,
          0.49503871747449035,
          0.5343533913205508,
          1.447396904689215,
          0.804473836069314,
          0.3481074903159142,
          -0.2505714270670016,
          -0.9029133179431246,
          0.2940895274251988,
          0.14540457070201546,
          -0.10762877600905554,
          0.3053893258733171,
          0.598940030645167,
          0.7820125036292656,
          -0.8966714305533445,
          1.6606846244283409,
          0.5727604798690485,
          1.6231494486869715,
          -0.8105612809550491,
          -0.3923264306412344,
          -0.04246774635108637,
          -0.059903525664294535,
          -0.5311755088064984,
          -0.23453465907896814,
          -2.0232349749481413,
          -0.475191922450835,
          -0.40907645810611803,
          -0.1339567374388445,
          -2.7697162720257404,
          -1.358394353131801,
          -0.08178397964309239,
          0.7753013039142149,
          0.5360340367280473,
          0.2533268706667387,
          0.5625348411215483,
          0.31576535434829717,
          -1.206120024494666,
          0.048844511971718504,
          1.120232843572727,
          0.21992570366912945,
          -0.21448152530239026,
          -1.908920438887307,
          0.9638465930685435,
          0.7935170953105968,
          0.8460362189297203,
          0.8793126804341501,
          -0.3120587028701596,
          0.9023335833858086,
          -1.2657523325157283,
          1.268781693218166,
          -0.05215591066790494,
          0.6968094280163797,
          -1.189618503274249,
          1.8258605748682426,
          -1.6072554233354683,
          0.0468494169654665,
          0.6188673797537998,
          -0.35377270836903085,
          0.7879111619926648,
          1.0992184325469223,
          -0.3551296686529979,
          0.9551820492099591,
          -1.9799928033362035,
          -1.4876434001811865,
          1.258773185930191,
          0.06426248988592512,
          -0.27308672608175666,
          2.3920188360109895
         ],
         "y": [
          -0.5174427882896812,
          2.6003500721367523,
          -0.398272656123329,
          1.0507472535838591,
          0.8484275564204568,
          0.34558531549137267,
          -0.7251750770576902,
          0.21203195288143903,
          1.0247005880785944,
          -0.41853128884587465,
          -0.5792595251450603,
          -0.23468009328856468,
          -0.37024797574697754,
          -1.6223191538820032,
          0.15822171939306529,
          0.7577979333440427,
          1.3104606801852252,
          0.354980393666831,
          1.0120449798349127,
          -1.3830630529587908,
          -0.7625692342748789,
          -0.031060772043171623,
          0.5876748574760096,
          -0.743381893549244,
          -0.07429448923367035,
          -1.2004104644731826,
          -0.24151882697923244,
          -2.320503904382237,
          -0.24087115581766094,
          -0.6987973244103791,
          -1.529215465871502,
          -0.4634558897134851,
          -0.517397324567097,
          -1.8826290407376154,
          -0.31550730650325126,
          -1.2810841938510928,
          -0.8165122345800369,
          0.010350999435031857,
          0.6307697461985253,
          0.6349949735690572,
          -1.3556578317900443,
          -0.07291038369075702,
          1.8848957700591833,
          -0.05777255081355184,
          0.6305221253983728,
          -0.977814856382125,
          1.2690335969192925,
          -0.5369021582866585,
          0.722476421578678,
          -0.6211934196164647,
          -0.3681602983448335,
          0.9156272215217325,
          -0.7906496269252035,
          1.245402244792277,
          -0.8609902609396055,
          1.5565591336143088,
          2.2655015589706453,
          -0.559343883766819,
          0.6072014775791178,
          0.18524797697217793,
          -0.5927180845146982,
          -0.4885482202160909,
          -0.2893087340183615,
          -0.09883201903432087,
          -0.5075521083179926,
          -0.021700889479004296,
          -1.305263590768384,
          -2.475515689150806,
          0.7843295779319387,
          -1.2032159148318333,
          1.9693577778767357,
          1.2238146565172854,
          1.1218344358044634,
          0.6674877264904224,
          1.2987751223433057,
          0.8637612322891047,
          0.7141219494868857,
          -0.5771529440751496,
          -1.2094988170327658,
          -0.30680557397477326,
          -1.5553797829605431,
          -1.7642989796422124,
          0.2592547356714931,
          2.168363029888972,
          0.030842989528504984,
          -1.6804497353868382,
          0.2818989496594489,
          -1.4778125028049618,
          -0.19193682085594233,
          0.6545811208782711,
          -0.6105512277782915,
          -0.5515806204315961,
          0.6817777225025149,
          -3.5935123694260622,
          -0.7399182083758457,
          0.17627441095701263,
          0.5453205448981414,
          -1.5226575299689897,
          -0.08078954284580486,
          -0.2065928315307047
         ]
        }
       ],
       "layout": {
        "legend": {
         "bgcolor": "#F5F6F9",
         "font": {
          "color": "#4D5663"
         }
        },
        "paper_bgcolor": "#F5F6F9",
        "plot_bgcolor": "#F5F6F9",
        "template": {
         "data": {
          "bar": [
           {
            "error_x": {
             "color": "#2a3f5f"
            },
            "error_y": {
             "color": "#2a3f5f"
            },
            "marker": {
             "line": {
              "color": "#E5ECF6",
              "width": 0.5
             },
             "pattern": {
              "fillmode": "overlay",
              "size": 10,
              "solidity": 0.2
             }
            },
            "type": "bar"
           }
          ],
          "barpolar": [
           {
            "marker": {
             "line": {
              "color": "#E5ECF6",
              "width": 0.5
             },
             "pattern": {
              "fillmode": "overlay",
              "size": 10,
              "solidity": 0.2
             }
            },
            "type": "barpolar"
           }
          ],
          "carpet": [
           {
            "aaxis": {
             "endlinecolor": "#2a3f5f",
             "gridcolor": "white",
             "linecolor": "white",
             "minorgridcolor": "white",
             "startlinecolor": "#2a3f5f"
            },
            "baxis": {
             "endlinecolor": "#2a3f5f",
             "gridcolor": "white",
             "linecolor": "white",
             "minorgridcolor": "white",
             "startlinecolor": "#2a3f5f"
            },
            "type": "carpet"
           }
          ],
          "choropleth": [
           {
            "colorbar": {
             "outlinewidth": 0,
             "ticks": ""
            },
            "type": "choropleth"
           }
          ],
          "contour": [
           {
            "colorbar": {
             "outlinewidth": 0,
             "ticks": ""
            },
            "colorscale": [
             [
              0,
              "#0d0887"
             ],
             [
              0.1111111111111111,
              "#46039f"
             ],
             [
              0.2222222222222222,
              "#7201a8"
             ],
             [
              0.3333333333333333,
              "#9c179e"
             ],
             [
              0.4444444444444444,
              "#bd3786"
             ],
             [
              0.5555555555555556,
              "#d8576b"
             ],
             [
              0.6666666666666666,
              "#ed7953"
             ],
             [
              0.7777777777777778,
              "#fb9f3a"
             ],
             [
              0.8888888888888888,
              "#fdca26"
             ],
             [
              1,
              "#f0f921"
             ]
            ],
            "type": "contour"
           }
          ],
          "contourcarpet": [
           {
            "colorbar": {
             "outlinewidth": 0,
             "ticks": ""
            },
            "type": "contourcarpet"
           }
          ],
          "heatmap": [
           {
            "colorbar": {
             "outlinewidth": 0,
             "ticks": ""
            },
            "colorscale": [
             [
              0,
              "#0d0887"
             ],
             [
              0.1111111111111111,
              "#46039f"
             ],
             [
              0.2222222222222222,
              "#7201a8"
             ],
             [
              0.3333333333333333,
              "#9c179e"
             ],
             [
              0.4444444444444444,
              "#bd3786"
             ],
             [
              0.5555555555555556,
              "#d8576b"
             ],
             [
              0.6666666666666666,
              "#ed7953"
             ],
             [
              0.7777777777777778,
              "#fb9f3a"
             ],
             [
              0.8888888888888888,
              "#fdca26"
             ],
             [
              1,
              "#f0f921"
             ]
            ],
            "type": "heatmap"
           }
          ],
          "heatmapgl": [
           {
            "colorbar": {
             "outlinewidth": 0,
             "ticks": ""
            },
            "colorscale": [
             [
              0,
              "#0d0887"
             ],
             [
              0.1111111111111111,
              "#46039f"
             ],
             [
              0.2222222222222222,
              "#7201a8"
             ],
             [
              0.3333333333333333,
              "#9c179e"
             ],
             [
              0.4444444444444444,
              "#bd3786"
             ],
             [
              0.5555555555555556,
              "#d8576b"
             ],
             [
              0.6666666666666666,
              "#ed7953"
             ],
             [
              0.7777777777777778,
              "#fb9f3a"
             ],
             [
              0.8888888888888888,
              "#fdca26"
             ],
             [
              1,
              "#f0f921"
             ]
            ],
            "type": "heatmapgl"
           }
          ],
          "histogram": [
           {
            "marker": {
             "pattern": {
              "fillmode": "overlay",
              "size": 10,
              "solidity": 0.2
             }
            },
            "type": "histogram"
           }
          ],
          "histogram2d": [
           {
            "colorbar": {
             "outlinewidth": 0,
             "ticks": ""
            },
            "colorscale": [
             [
              0,
              "#0d0887"
             ],
             [
              0.1111111111111111,
              "#46039f"
             ],
             [
              0.2222222222222222,
              "#7201a8"
             ],
             [
              0.3333333333333333,
              "#9c179e"
             ],
             [
              0.4444444444444444,
              "#bd3786"
             ],
             [
              0.5555555555555556,
              "#d8576b"
             ],
             [
              0.6666666666666666,
              "#ed7953"
             ],
             [
              0.7777777777777778,
              "#fb9f3a"
             ],
             [
              0.8888888888888888,
              "#fdca26"
             ],
             [
              1,
              "#f0f921"
             ]
            ],
            "type": "histogram2d"
           }
          ],
          "histogram2dcontour": [
           {
            "colorbar": {
             "outlinewidth": 0,
             "ticks": ""
            },
            "colorscale": [
             [
              0,
              "#0d0887"
             ],
             [
              0.1111111111111111,
              "#46039f"
             ],
             [
              0.2222222222222222,
              "#7201a8"
             ],
             [
              0.3333333333333333,
              "#9c179e"
             ],
             [
              0.4444444444444444,
              "#bd3786"
             ],
             [
              0.5555555555555556,
              "#d8576b"
             ],
             [
              0.6666666666666666,
              "#ed7953"
             ],
             [
              0.7777777777777778,
              "#fb9f3a"
             ],
             [
              0.8888888888888888,
              "#fdca26"
             ],
             [
              1,
              "#f0f921"
             ]
            ],
            "type": "histogram2dcontour"
           }
          ],
          "mesh3d": [
           {
            "colorbar": {
             "outlinewidth": 0,
             "ticks": ""
            },
            "type": "mesh3d"
           }
          ],
          "parcoords": [
           {
            "line": {
             "colorbar": {
              "outlinewidth": 0,
              "ticks": ""
             }
            },
            "type": "parcoords"
           }
          ],
          "pie": [
           {
            "automargin": true,
            "type": "pie"
           }
          ],
          "scatter": [
           {
            "fillpattern": {
             "fillmode": "overlay",
             "size": 10,
             "solidity": 0.2
            },
            "type": "scatter"
           }
          ],
          "scatter3d": [
           {
            "line": {
             "colorbar": {
              "outlinewidth": 0,
              "ticks": ""
             }
            },
            "marker": {
             "colorbar": {
              "outlinewidth": 0,
              "ticks": ""
             }
            },
            "type": "scatter3d"
           }
          ],
          "scattercarpet": [
           {
            "marker": {
             "colorbar": {
              "outlinewidth": 0,
              "ticks": ""
             }
            },
            "type": "scattercarpet"
           }
          ],
          "scattergeo": [
           {
            "marker": {
             "colorbar": {
              "outlinewidth": 0,
              "ticks": ""
             }
            },
            "type": "scattergeo"
           }
          ],
          "scattergl": [
           {
            "marker": {
             "colorbar": {
              "outlinewidth": 0,
              "ticks": ""
             }
            },
            "type": "scattergl"
           }
          ],
          "scattermapbox": [
           {
            "marker": {
             "colorbar": {
              "outlinewidth": 0,
              "ticks": ""
             }
            },
            "type": "scattermapbox"
           }
          ],
          "scatterpolar": [
           {
            "marker": {
             "colorbar": {
              "outlinewidth": 0,
              "ticks": ""
             }
            },
            "type": "scatterpolar"
           }
          ],
          "scatterpolargl": [
           {
            "marker": {
             "colorbar": {
              "outlinewidth": 0,
              "ticks": ""
             }
            },
            "type": "scatterpolargl"
           }
          ],
          "scatterternary": [
           {
            "marker": {
             "colorbar": {
              "outlinewidth": 0,
              "ticks": ""
             }
            },
            "type": "scatterternary"
           }
          ],
          "surface": [
           {
            "colorbar": {
             "outlinewidth": 0,
             "ticks": ""
            },
            "colorscale": [
             [
              0,
              "#0d0887"
             ],
             [
              0.1111111111111111,
              "#46039f"
             ],
             [
              0.2222222222222222,
              "#7201a8"
             ],
             [
              0.3333333333333333,
              "#9c179e"
             ],
             [
              0.4444444444444444,
              "#bd3786"
             ],
             [
              0.5555555555555556,
              "#d8576b"
             ],
             [
              0.6666666666666666,
              "#ed7953"
             ],
             [
              0.7777777777777778,
              "#fb9f3a"
             ],
             [
              0.8888888888888888,
              "#fdca26"
             ],
             [
              1,
              "#f0f921"
             ]
            ],
            "type": "surface"
           }
          ],
          "table": [
           {
            "cells": {
             "fill": {
              "color": "#EBF0F8"
             },
             "line": {
              "color": "white"
             }
            },
            "header": {
             "fill": {
              "color": "#C8D4E3"
             },
             "line": {
              "color": "white"
             }
            },
            "type": "table"
           }
          ]
         },
         "layout": {
          "annotationdefaults": {
           "arrowcolor": "#2a3f5f",
           "arrowhead": 0,
           "arrowwidth": 1
          },
          "autotypenumbers": "strict",
          "coloraxis": {
           "colorbar": {
            "outlinewidth": 0,
            "ticks": ""
           }
          },
          "colorscale": {
           "diverging": [
            [
             0,
             "#8e0152"
            ],
            [
             0.1,
             "#c51b7d"
            ],
            [
             0.2,
             "#de77ae"
            ],
            [
             0.3,
             "#f1b6da"
            ],
            [
             0.4,
             "#fde0ef"
            ],
            [
             0.5,
             "#f7f7f7"
            ],
            [
             0.6,
             "#e6f5d0"
            ],
            [
             0.7,
             "#b8e186"
            ],
            [
             0.8,
             "#7fbc41"
            ],
            [
             0.9,
             "#4d9221"
            ],
            [
             1,
             "#276419"
            ]
           ],
           "sequential": [
            [
             0,
             "#0d0887"
            ],
            [
             0.1111111111111111,
             "#46039f"
            ],
            [
             0.2222222222222222,
             "#7201a8"
            ],
            [
             0.3333333333333333,
             "#9c179e"
            ],
            [
             0.4444444444444444,
             "#bd3786"
            ],
            [
             0.5555555555555556,
             "#d8576b"
            ],
            [
             0.6666666666666666,
             "#ed7953"
            ],
            [
             0.7777777777777778,
             "#fb9f3a"
            ],
            [
             0.8888888888888888,
             "#fdca26"
            ],
            [
             1,
             "#f0f921"
            ]
           ],
           "sequentialminus": [
            [
             0,
             "#0d0887"
            ],
            [
             0.1111111111111111,
             "#46039f"
            ],
            [
             0.2222222222222222,
             "#7201a8"
            ],
            [
             0.3333333333333333,
             "#9c179e"
            ],
            [
             0.4444444444444444,
             "#bd3786"
            ],
            [
             0.5555555555555556,
             "#d8576b"
            ],
            [
             0.6666666666666666,
             "#ed7953"
            ],
            [
             0.7777777777777778,
             "#fb9f3a"
            ],
            [
             0.8888888888888888,
             "#fdca26"
            ],
            [
             1,
             "#f0f921"
            ]
           ]
          },
          "colorway": [
           "#636efa",
           "#EF553B",
           "#00cc96",
           "#ab63fa",
           "#FFA15A",
           "#19d3f3",
           "#FF6692",
           "#B6E880",
           "#FF97FF",
           "#FECB52"
          ],
          "font": {
           "color": "#2a3f5f"
          },
          "geo": {
           "bgcolor": "white",
           "lakecolor": "white",
           "landcolor": "#E5ECF6",
           "showlakes": true,
           "showland": true,
           "subunitcolor": "white"
          },
          "hoverlabel": {
           "align": "left"
          },
          "hovermode": "closest",
          "mapbox": {
           "style": "light"
          },
          "paper_bgcolor": "white",
          "plot_bgcolor": "#E5ECF6",
          "polar": {
           "angularaxis": {
            "gridcolor": "white",
            "linecolor": "white",
            "ticks": ""
           },
           "bgcolor": "#E5ECF6",
           "radialaxis": {
            "gridcolor": "white",
            "linecolor": "white",
            "ticks": ""
           }
          },
          "scene": {
           "xaxis": {
            "backgroundcolor": "#E5ECF6",
            "gridcolor": "white",
            "gridwidth": 2,
            "linecolor": "white",
            "showbackground": true,
            "ticks": "",
            "zerolinecolor": "white"
           },
           "yaxis": {
            "backgroundcolor": "#E5ECF6",
            "gridcolor": "white",
            "gridwidth": 2,
            "linecolor": "white",
            "showbackground": true,
            "ticks": "",
            "zerolinecolor": "white"
           },
           "zaxis": {
            "backgroundcolor": "#E5ECF6",
            "gridcolor": "white",
            "gridwidth": 2,
            "linecolor": "white",
            "showbackground": true,
            "ticks": "",
            "zerolinecolor": "white"
           }
          },
          "shapedefaults": {
           "line": {
            "color": "#2a3f5f"
           }
          },
          "ternary": {
           "aaxis": {
            "gridcolor": "white",
            "linecolor": "white",
            "ticks": ""
           },
           "baxis": {
            "gridcolor": "white",
            "linecolor": "white",
            "ticks": ""
           },
           "bgcolor": "#E5ECF6",
           "caxis": {
            "gridcolor": "white",
            "linecolor": "white",
            "ticks": ""
           }
          },
          "title": {
           "x": 0.05
          },
          "xaxis": {
           "automargin": true,
           "gridcolor": "white",
           "linecolor": "white",
           "ticks": "",
           "title": {
            "standoff": 15
           },
           "zerolinecolor": "white",
           "zerolinewidth": 2
          },
          "yaxis": {
           "automargin": true,
           "gridcolor": "white",
           "linecolor": "white",
           "ticks": "",
           "title": {
            "standoff": 15
           },
           "zerolinecolor": "white",
           "zerolinewidth": 2
          }
         }
        },
        "title": {
         "font": {
          "color": "#4D5663"
         }
        },
        "xaxis": {
         "gridcolor": "#E1E5ED",
         "showgrid": true,
         "tickfont": {
          "color": "#4D5663"
         },
         "title": {
          "font": {
           "color": "#4D5663"
          },
          "text": ""
         },
         "zerolinecolor": "#E1E5ED"
        },
        "yaxis": {
         "gridcolor": "#E1E5ED",
         "showgrid": true,
         "tickfont": {
          "color": "#4D5663"
         },
         "title": {
          "font": {
           "color": "#4D5663"
          },
          "text": ""
         },
         "zerolinecolor": "#E1E5ED"
        }
       }
      },
      "text/html": [
       "<div>                            <div id=\"588f6053-af14-4af1-a03b-eeb6216fac54\" class=\"plotly-graph-div\" style=\"height:525px; width:100%;\"></div>            <script type=\"text/javascript\">                require([\"plotly\"], function(Plotly) {                    window.PLOTLYENV=window.PLOTLYENV || {};\n",
       "                    window.PLOTLYENV.BASE_URL='https://plot.ly';                                    if (document.getElementById(\"588f6053-af14-4af1-a03b-eeb6216fac54\")) {                    Plotly.newPlot(                        \"588f6053-af14-4af1-a03b-eeb6216fac54\",                        [{\"line\":{\"color\":\"rgba(255, 153, 51, 1.0)\",\"dash\":\"solid\",\"shape\":\"linear\",\"width\":1.3},\"marker\":{\"size\":10,\"symbol\":\"circle\"},\"mode\":\"markers\",\"name\":\"B\",\"text\":\"\",\"x\":[0.33567605600194994,-0.8109873503861798,-2.6316756978724447,0.5776275311286065,-0.22530496487367777,0.8097460374131469,-0.5115338215552406,-0.4590997186416238,-0.298577056088914,-0.28541368761683306,-0.5472911448565846,0.3027742133920709,0.8902345216571652,-0.9239113525121986,0.9416625216245742,-0.18066450525113226,-2.0881969759280192,0.47500151093148335,-1.2731709071783763,1.230559710728227,-0.1605185431067916,0.6015686401189955,1.0663771004856937,0.4339044154824729,0.42688970128877163,0.7278870362259178,-0.6948804563250303,-0.05374882813326524,-1.6336690547739716,-0.88579686362121,-0.9542553464180343,-0.5644192605571883,1.0782994643519894,0.49503871747449035,0.5343533913205508,1.447396904689215,0.804473836069314,0.3481074903159142,-0.2505714270670016,-0.9029133179431246,0.2940895274251988,0.14540457070201546,-0.10762877600905554,0.3053893258733171,0.598940030645167,0.7820125036292656,-0.8966714305533445,1.6606846244283409,0.5727604798690485,1.6231494486869715,-0.8105612809550491,-0.3923264306412344,-0.04246774635108637,-0.059903525664294535,-0.5311755088064984,-0.23453465907896814,-2.0232349749481413,-0.475191922450835,-0.40907645810611803,-0.1339567374388445,-2.7697162720257404,-1.358394353131801,-0.08178397964309239,0.7753013039142149,0.5360340367280473,0.2533268706667387,0.5625348411215483,0.31576535434829717,-1.206120024494666,0.048844511971718504,1.120232843572727,0.21992570366912945,-0.21448152530239026,-1.908920438887307,0.9638465930685435,0.7935170953105968,0.8460362189297203,0.8793126804341501,-0.3120587028701596,0.9023335833858086,-1.2657523325157283,1.268781693218166,-0.05215591066790494,0.6968094280163797,-1.189618503274249,1.8258605748682426,-1.6072554233354683,0.0468494169654665,0.6188673797537998,-0.35377270836903085,0.7879111619926648,1.0992184325469223,-0.3551296686529979,0.9551820492099591,-1.9799928033362035,-1.4876434001811865,1.258773185930191,0.06426248988592512,-0.27308672608175666,2.3920188360109895],\"y\":[-0.5174427882896812,2.6003500721367523,-0.398272656123329,1.0507472535838591,0.8484275564204568,0.34558531549137267,-0.7251750770576902,0.21203195288143903,1.0247005880785944,-0.41853128884587465,-0.5792595251450603,-0.23468009328856468,-0.37024797574697754,-1.6223191538820032,0.15822171939306529,0.7577979333440427,1.3104606801852252,0.354980393666831,1.0120449798349127,-1.3830630529587908,-0.7625692342748789,-0.031060772043171623,0.5876748574760096,-0.743381893549244,-0.07429448923367035,-1.2004104644731826,-0.24151882697923244,-2.320503904382237,-0.24087115581766094,-0.6987973244103791,-1.529215465871502,-0.4634558897134851,-0.517397324567097,-1.8826290407376154,-0.31550730650325126,-1.2810841938510928,-0.8165122345800369,0.010350999435031857,0.6307697461985253,0.6349949735690572,-1.3556578317900443,-0.07291038369075702,1.8848957700591833,-0.05777255081355184,0.6305221253983728,-0.977814856382125,1.2690335969192925,-0.5369021582866585,0.722476421578678,-0.6211934196164647,-0.3681602983448335,0.9156272215217325,-0.7906496269252035,1.245402244792277,-0.8609902609396055,1.5565591336143088,2.2655015589706453,-0.559343883766819,0.6072014775791178,0.18524797697217793,-0.5927180845146982,-0.4885482202160909,-0.2893087340183615,-0.09883201903432087,-0.5075521083179926,-0.021700889479004296,-1.305263590768384,-2.475515689150806,0.7843295779319387,-1.2032159148318333,1.9693577778767357,1.2238146565172854,1.1218344358044634,0.6674877264904224,1.2987751223433057,0.8637612322891047,0.7141219494868857,-0.5771529440751496,-1.2094988170327658,-0.30680557397477326,-1.5553797829605431,-1.7642989796422124,0.2592547356714931,2.168363029888972,0.030842989528504984,-1.6804497353868382,0.2818989496594489,-1.4778125028049618,-0.19193682085594233,0.6545811208782711,-0.6105512277782915,-0.5515806204315961,0.6817777225025149,-3.5935123694260622,-0.7399182083758457,0.17627441095701263,0.5453205448981414,-1.5226575299689897,-0.08078954284580486,-0.2065928315307047],\"type\":\"scatter\"}],                        {\"legend\":{\"bgcolor\":\"#F5F6F9\",\"font\":{\"color\":\"#4D5663\"}},\"paper_bgcolor\":\"#F5F6F9\",\"plot_bgcolor\":\"#F5F6F9\",\"template\":{\"data\":{\"barpolar\":[{\"marker\":{\"line\":{\"color\":\"#E5ECF6\",\"width\":0.5},\"pattern\":{\"fillmode\":\"overlay\",\"size\":10,\"solidity\":0.2}},\"type\":\"barpolar\"}],\"bar\":[{\"error_x\":{\"color\":\"#2a3f5f\"},\"error_y\":{\"color\":\"#2a3f5f\"},\"marker\":{\"line\":{\"color\":\"#E5ECF6\",\"width\":0.5},\"pattern\":{\"fillmode\":\"overlay\",\"size\":10,\"solidity\":0.2}},\"type\":\"bar\"}],\"carpet\":[{\"aaxis\":{\"endlinecolor\":\"#2a3f5f\",\"gridcolor\":\"white\",\"linecolor\":\"white\",\"minorgridcolor\":\"white\",\"startlinecolor\":\"#2a3f5f\"},\"baxis\":{\"endlinecolor\":\"#2a3f5f\",\"gridcolor\":\"white\",\"linecolor\":\"white\",\"minorgridcolor\":\"white\",\"startlinecolor\":\"#2a3f5f\"},\"type\":\"carpet\"}],\"choropleth\":[{\"colorbar\":{\"outlinewidth\":0,\"ticks\":\"\"},\"type\":\"choropleth\"}],\"contourcarpet\":[{\"colorbar\":{\"outlinewidth\":0,\"ticks\":\"\"},\"type\":\"contourcarpet\"}],\"contour\":[{\"colorbar\":{\"outlinewidth\":0,\"ticks\":\"\"},\"colorscale\":[[0.0,\"#0d0887\"],[0.1111111111111111,\"#46039f\"],[0.2222222222222222,\"#7201a8\"],[0.3333333333333333,\"#9c179e\"],[0.4444444444444444,\"#bd3786\"],[0.5555555555555556,\"#d8576b\"],[0.6666666666666666,\"#ed7953\"],[0.7777777777777778,\"#fb9f3a\"],[0.8888888888888888,\"#fdca26\"],[1.0,\"#f0f921\"]],\"type\":\"contour\"}],\"heatmapgl\":[{\"colorbar\":{\"outlinewidth\":0,\"ticks\":\"\"},\"colorscale\":[[0.0,\"#0d0887\"],[0.1111111111111111,\"#46039f\"],[0.2222222222222222,\"#7201a8\"],[0.3333333333333333,\"#9c179e\"],[0.4444444444444444,\"#bd3786\"],[0.5555555555555556,\"#d8576b\"],[0.6666666666666666,\"#ed7953\"],[0.7777777777777778,\"#fb9f3a\"],[0.8888888888888888,\"#fdca26\"],[1.0,\"#f0f921\"]],\"type\":\"heatmapgl\"}],\"heatmap\":[{\"colorbar\":{\"outlinewidth\":0,\"ticks\":\"\"},\"colorscale\":[[0.0,\"#0d0887\"],[0.1111111111111111,\"#46039f\"],[0.2222222222222222,\"#7201a8\"],[0.3333333333333333,\"#9c179e\"],[0.4444444444444444,\"#bd3786\"],[0.5555555555555556,\"#d8576b\"],[0.6666666666666666,\"#ed7953\"],[0.7777777777777778,\"#fb9f3a\"],[0.8888888888888888,\"#fdca26\"],[1.0,\"#f0f921\"]],\"type\":\"heatmap\"}],\"histogram2dcontour\":[{\"colorbar\":{\"outlinewidth\":0,\"ticks\":\"\"},\"colorscale\":[[0.0,\"#0d0887\"],[0.1111111111111111,\"#46039f\"],[0.2222222222222222,\"#7201a8\"],[0.3333333333333333,\"#9c179e\"],[0.4444444444444444,\"#bd3786\"],[0.5555555555555556,\"#d8576b\"],[0.6666666666666666,\"#ed7953\"],[0.7777777777777778,\"#fb9f3a\"],[0.8888888888888888,\"#fdca26\"],[1.0,\"#f0f921\"]],\"type\":\"histogram2dcontour\"}],\"histogram2d\":[{\"colorbar\":{\"outlinewidth\":0,\"ticks\":\"\"},\"colorscale\":[[0.0,\"#0d0887\"],[0.1111111111111111,\"#46039f\"],[0.2222222222222222,\"#7201a8\"],[0.3333333333333333,\"#9c179e\"],[0.4444444444444444,\"#bd3786\"],[0.5555555555555556,\"#d8576b\"],[0.6666666666666666,\"#ed7953\"],[0.7777777777777778,\"#fb9f3a\"],[0.8888888888888888,\"#fdca26\"],[1.0,\"#f0f921\"]],\"type\":\"histogram2d\"}],\"histogram\":[{\"marker\":{\"pattern\":{\"fillmode\":\"overlay\",\"size\":10,\"solidity\":0.2}},\"type\":\"histogram\"}],\"mesh3d\":[{\"colorbar\":{\"outlinewidth\":0,\"ticks\":\"\"},\"type\":\"mesh3d\"}],\"parcoords\":[{\"line\":{\"colorbar\":{\"outlinewidth\":0,\"ticks\":\"\"}},\"type\":\"parcoords\"}],\"pie\":[{\"automargin\":true,\"type\":\"pie\"}],\"scatter3d\":[{\"line\":{\"colorbar\":{\"outlinewidth\":0,\"ticks\":\"\"}},\"marker\":{\"colorbar\":{\"outlinewidth\":0,\"ticks\":\"\"}},\"type\":\"scatter3d\"}],\"scattercarpet\":[{\"marker\":{\"colorbar\":{\"outlinewidth\":0,\"ticks\":\"\"}},\"type\":\"scattercarpet\"}],\"scattergeo\":[{\"marker\":{\"colorbar\":{\"outlinewidth\":0,\"ticks\":\"\"}},\"type\":\"scattergeo\"}],\"scattergl\":[{\"marker\":{\"colorbar\":{\"outlinewidth\":0,\"ticks\":\"\"}},\"type\":\"scattergl\"}],\"scattermapbox\":[{\"marker\":{\"colorbar\":{\"outlinewidth\":0,\"ticks\":\"\"}},\"type\":\"scattermapbox\"}],\"scatterpolargl\":[{\"marker\":{\"colorbar\":{\"outlinewidth\":0,\"ticks\":\"\"}},\"type\":\"scatterpolargl\"}],\"scatterpolar\":[{\"marker\":{\"colorbar\":{\"outlinewidth\":0,\"ticks\":\"\"}},\"type\":\"scatterpolar\"}],\"scatter\":[{\"fillpattern\":{\"fillmode\":\"overlay\",\"size\":10,\"solidity\":0.2},\"type\":\"scatter\"}],\"scatterternary\":[{\"marker\":{\"colorbar\":{\"outlinewidth\":0,\"ticks\":\"\"}},\"type\":\"scatterternary\"}],\"surface\":[{\"colorbar\":{\"outlinewidth\":0,\"ticks\":\"\"},\"colorscale\":[[0.0,\"#0d0887\"],[0.1111111111111111,\"#46039f\"],[0.2222222222222222,\"#7201a8\"],[0.3333333333333333,\"#9c179e\"],[0.4444444444444444,\"#bd3786\"],[0.5555555555555556,\"#d8576b\"],[0.6666666666666666,\"#ed7953\"],[0.7777777777777778,\"#fb9f3a\"],[0.8888888888888888,\"#fdca26\"],[1.0,\"#f0f921\"]],\"type\":\"surface\"}],\"table\":[{\"cells\":{\"fill\":{\"color\":\"#EBF0F8\"},\"line\":{\"color\":\"white\"}},\"header\":{\"fill\":{\"color\":\"#C8D4E3\"},\"line\":{\"color\":\"white\"}},\"type\":\"table\"}]},\"layout\":{\"annotationdefaults\":{\"arrowcolor\":\"#2a3f5f\",\"arrowhead\":0,\"arrowwidth\":1},\"autotypenumbers\":\"strict\",\"coloraxis\":{\"colorbar\":{\"outlinewidth\":0,\"ticks\":\"\"}},\"colorscale\":{\"diverging\":[[0,\"#8e0152\"],[0.1,\"#c51b7d\"],[0.2,\"#de77ae\"],[0.3,\"#f1b6da\"],[0.4,\"#fde0ef\"],[0.5,\"#f7f7f7\"],[0.6,\"#e6f5d0\"],[0.7,\"#b8e186\"],[0.8,\"#7fbc41\"],[0.9,\"#4d9221\"],[1,\"#276419\"]],\"sequential\":[[0.0,\"#0d0887\"],[0.1111111111111111,\"#46039f\"],[0.2222222222222222,\"#7201a8\"],[0.3333333333333333,\"#9c179e\"],[0.4444444444444444,\"#bd3786\"],[0.5555555555555556,\"#d8576b\"],[0.6666666666666666,\"#ed7953\"],[0.7777777777777778,\"#fb9f3a\"],[0.8888888888888888,\"#fdca26\"],[1.0,\"#f0f921\"]],\"sequentialminus\":[[0.0,\"#0d0887\"],[0.1111111111111111,\"#46039f\"],[0.2222222222222222,\"#7201a8\"],[0.3333333333333333,\"#9c179e\"],[0.4444444444444444,\"#bd3786\"],[0.5555555555555556,\"#d8576b\"],[0.6666666666666666,\"#ed7953\"],[0.7777777777777778,\"#fb9f3a\"],[0.8888888888888888,\"#fdca26\"],[1.0,\"#f0f921\"]]},\"colorway\":[\"#636efa\",\"#EF553B\",\"#00cc96\",\"#ab63fa\",\"#FFA15A\",\"#19d3f3\",\"#FF6692\",\"#B6E880\",\"#FF97FF\",\"#FECB52\"],\"font\":{\"color\":\"#2a3f5f\"},\"geo\":{\"bgcolor\":\"white\",\"lakecolor\":\"white\",\"landcolor\":\"#E5ECF6\",\"showlakes\":true,\"showland\":true,\"subunitcolor\":\"white\"},\"hoverlabel\":{\"align\":\"left\"},\"hovermode\":\"closest\",\"mapbox\":{\"style\":\"light\"},\"paper_bgcolor\":\"white\",\"plot_bgcolor\":\"#E5ECF6\",\"polar\":{\"angularaxis\":{\"gridcolor\":\"white\",\"linecolor\":\"white\",\"ticks\":\"\"},\"bgcolor\":\"#E5ECF6\",\"radialaxis\":{\"gridcolor\":\"white\",\"linecolor\":\"white\",\"ticks\":\"\"}},\"scene\":{\"xaxis\":{\"backgroundcolor\":\"#E5ECF6\",\"gridcolor\":\"white\",\"gridwidth\":2,\"linecolor\":\"white\",\"showbackground\":true,\"ticks\":\"\",\"zerolinecolor\":\"white\"},\"yaxis\":{\"backgroundcolor\":\"#E5ECF6\",\"gridcolor\":\"white\",\"gridwidth\":2,\"linecolor\":\"white\",\"showbackground\":true,\"ticks\":\"\",\"zerolinecolor\":\"white\"},\"zaxis\":{\"backgroundcolor\":\"#E5ECF6\",\"gridcolor\":\"white\",\"gridwidth\":2,\"linecolor\":\"white\",\"showbackground\":true,\"ticks\":\"\",\"zerolinecolor\":\"white\"}},\"shapedefaults\":{\"line\":{\"color\":\"#2a3f5f\"}},\"ternary\":{\"aaxis\":{\"gridcolor\":\"white\",\"linecolor\":\"white\",\"ticks\":\"\"},\"baxis\":{\"gridcolor\":\"white\",\"linecolor\":\"white\",\"ticks\":\"\"},\"bgcolor\":\"#E5ECF6\",\"caxis\":{\"gridcolor\":\"white\",\"linecolor\":\"white\",\"ticks\":\"\"}},\"title\":{\"x\":0.05},\"xaxis\":{\"automargin\":true,\"gridcolor\":\"white\",\"linecolor\":\"white\",\"ticks\":\"\",\"title\":{\"standoff\":15},\"zerolinecolor\":\"white\",\"zerolinewidth\":2},\"yaxis\":{\"automargin\":true,\"gridcolor\":\"white\",\"linecolor\":\"white\",\"ticks\":\"\",\"title\":{\"standoff\":15},\"zerolinecolor\":\"white\",\"zerolinewidth\":2}}},\"title\":{\"font\":{\"color\":\"#4D5663\"}},\"xaxis\":{\"gridcolor\":\"#E1E5ED\",\"showgrid\":true,\"tickfont\":{\"color\":\"#4D5663\"},\"title\":{\"font\":{\"color\":\"#4D5663\"},\"text\":\"\"},\"zerolinecolor\":\"#E1E5ED\"},\"yaxis\":{\"gridcolor\":\"#E1E5ED\",\"showgrid\":true,\"tickfont\":{\"color\":\"#4D5663\"},\"title\":{\"font\":{\"color\":\"#4D5663\"},\"text\":\"\"},\"zerolinecolor\":\"#E1E5ED\"}},                        {\"showLink\": true, \"linkText\": \"Export to plot.ly\", \"plotlyServerURL\": \"https://plot.ly\", \"responsive\": true}                    ).then(function(){\n",
       "                            \n",
       "var gd = document.getElementById('588f6053-af14-4af1-a03b-eeb6216fac54');\n",
       "var x = new MutationObserver(function (mutations, observer) {{\n",
       "        var display = window.getComputedStyle(gd).display;\n",
       "        if (!display || display === 'none') {{\n",
       "            console.log([gd, 'removed!']);\n",
       "            Plotly.purge(gd);\n",
       "            observer.disconnect();\n",
       "        }}\n",
       "}});\n",
       "\n",
       "// Listen for the removal of the full notebook cells\n",
       "var notebookContainer = gd.closest('#notebook-container');\n",
       "if (notebookContainer) {{\n",
       "    x.observe(notebookContainer, {childList: true});\n",
       "}}\n",
       "\n",
       "// Listen for the clearing of the current output cell\n",
       "var outputEl = gd.closest('.output');\n",
       "if (outputEl) {{\n",
       "    x.observe(outputEl, {childList: true});\n",
       "}}\n",
       "\n",
       "                        })                };                });            </script>        </div>"
      ]
     },
     "metadata": {},
     "output_type": "display_data"
    }
   ],
   "source": [
    "df.iplot(kind='scatter', x='A', y='B', mode='markers', size=10)"
   ]
  },
  {
   "cell_type": "code",
   "execution_count": 18,
   "id": "8d077e2b",
   "metadata": {},
   "outputs": [
    {
     "data": {
      "application/vnd.plotly.v1+json": {
       "config": {
        "linkText": "Export to plot.ly",
        "plotlyServerURL": "https://plot.ly",
        "showLink": true
       },
       "data": [
        {
         "marker": {
          "color": "rgba(255, 153, 51, 0.6)",
          "line": {
           "color": "rgba(255, 153, 51, 1.0)",
           "width": 1
          }
         },
         "name": "Values",
         "orientation": "v",
         "text": "",
         "type": "bar",
         "x": [
          "A",
          "B",
          "C"
         ],
         "y": [
          32,
          43,
          50
         ]
        }
       ],
       "layout": {
        "legend": {
         "bgcolor": "#F5F6F9",
         "font": {
          "color": "#4D5663"
         }
        },
        "paper_bgcolor": "#F5F6F9",
        "plot_bgcolor": "#F5F6F9",
        "template": {
         "data": {
          "bar": [
           {
            "error_x": {
             "color": "#2a3f5f"
            },
            "error_y": {
             "color": "#2a3f5f"
            },
            "marker": {
             "line": {
              "color": "#E5ECF6",
              "width": 0.5
             },
             "pattern": {
              "fillmode": "overlay",
              "size": 10,
              "solidity": 0.2
             }
            },
            "type": "bar"
           }
          ],
          "barpolar": [
           {
            "marker": {
             "line": {
              "color": "#E5ECF6",
              "width": 0.5
             },
             "pattern": {
              "fillmode": "overlay",
              "size": 10,
              "solidity": 0.2
             }
            },
            "type": "barpolar"
           }
          ],
          "carpet": [
           {
            "aaxis": {
             "endlinecolor": "#2a3f5f",
             "gridcolor": "white",
             "linecolor": "white",
             "minorgridcolor": "white",
             "startlinecolor": "#2a3f5f"
            },
            "baxis": {
             "endlinecolor": "#2a3f5f",
             "gridcolor": "white",
             "linecolor": "white",
             "minorgridcolor": "white",
             "startlinecolor": "#2a3f5f"
            },
            "type": "carpet"
           }
          ],
          "choropleth": [
           {
            "colorbar": {
             "outlinewidth": 0,
             "ticks": ""
            },
            "type": "choropleth"
           }
          ],
          "contour": [
           {
            "colorbar": {
             "outlinewidth": 0,
             "ticks": ""
            },
            "colorscale": [
             [
              0,
              "#0d0887"
             ],
             [
              0.1111111111111111,
              "#46039f"
             ],
             [
              0.2222222222222222,
              "#7201a8"
             ],
             [
              0.3333333333333333,
              "#9c179e"
             ],
             [
              0.4444444444444444,
              "#bd3786"
             ],
             [
              0.5555555555555556,
              "#d8576b"
             ],
             [
              0.6666666666666666,
              "#ed7953"
             ],
             [
              0.7777777777777778,
              "#fb9f3a"
             ],
             [
              0.8888888888888888,
              "#fdca26"
             ],
             [
              1,
              "#f0f921"
             ]
            ],
            "type": "contour"
           }
          ],
          "contourcarpet": [
           {
            "colorbar": {
             "outlinewidth": 0,
             "ticks": ""
            },
            "type": "contourcarpet"
           }
          ],
          "heatmap": [
           {
            "colorbar": {
             "outlinewidth": 0,
             "ticks": ""
            },
            "colorscale": [
             [
              0,
              "#0d0887"
             ],
             [
              0.1111111111111111,
              "#46039f"
             ],
             [
              0.2222222222222222,
              "#7201a8"
             ],
             [
              0.3333333333333333,
              "#9c179e"
             ],
             [
              0.4444444444444444,
              "#bd3786"
             ],
             [
              0.5555555555555556,
              "#d8576b"
             ],
             [
              0.6666666666666666,
              "#ed7953"
             ],
             [
              0.7777777777777778,
              "#fb9f3a"
             ],
             [
              0.8888888888888888,
              "#fdca26"
             ],
             [
              1,
              "#f0f921"
             ]
            ],
            "type": "heatmap"
           }
          ],
          "heatmapgl": [
           {
            "colorbar": {
             "outlinewidth": 0,
             "ticks": ""
            },
            "colorscale": [
             [
              0,
              "#0d0887"
             ],
             [
              0.1111111111111111,
              "#46039f"
             ],
             [
              0.2222222222222222,
              "#7201a8"
             ],
             [
              0.3333333333333333,
              "#9c179e"
             ],
             [
              0.4444444444444444,
              "#bd3786"
             ],
             [
              0.5555555555555556,
              "#d8576b"
             ],
             [
              0.6666666666666666,
              "#ed7953"
             ],
             [
              0.7777777777777778,
              "#fb9f3a"
             ],
             [
              0.8888888888888888,
              "#fdca26"
             ],
             [
              1,
              "#f0f921"
             ]
            ],
            "type": "heatmapgl"
           }
          ],
          "histogram": [
           {
            "marker": {
             "pattern": {
              "fillmode": "overlay",
              "size": 10,
              "solidity": 0.2
             }
            },
            "type": "histogram"
           }
          ],
          "histogram2d": [
           {
            "colorbar": {
             "outlinewidth": 0,
             "ticks": ""
            },
            "colorscale": [
             [
              0,
              "#0d0887"
             ],
             [
              0.1111111111111111,
              "#46039f"
             ],
             [
              0.2222222222222222,
              "#7201a8"
             ],
             [
              0.3333333333333333,
              "#9c179e"
             ],
             [
              0.4444444444444444,
              "#bd3786"
             ],
             [
              0.5555555555555556,
              "#d8576b"
             ],
             [
              0.6666666666666666,
              "#ed7953"
             ],
             [
              0.7777777777777778,
              "#fb9f3a"
             ],
             [
              0.8888888888888888,
              "#fdca26"
             ],
             [
              1,
              "#f0f921"
             ]
            ],
            "type": "histogram2d"
           }
          ],
          "histogram2dcontour": [
           {
            "colorbar": {
             "outlinewidth": 0,
             "ticks": ""
            },
            "colorscale": [
             [
              0,
              "#0d0887"
             ],
             [
              0.1111111111111111,
              "#46039f"
             ],
             [
              0.2222222222222222,
              "#7201a8"
             ],
             [
              0.3333333333333333,
              "#9c179e"
             ],
             [
              0.4444444444444444,
              "#bd3786"
             ],
             [
              0.5555555555555556,
              "#d8576b"
             ],
             [
              0.6666666666666666,
              "#ed7953"
             ],
             [
              0.7777777777777778,
              "#fb9f3a"
             ],
             [
              0.8888888888888888,
              "#fdca26"
             ],
             [
              1,
              "#f0f921"
             ]
            ],
            "type": "histogram2dcontour"
           }
          ],
          "mesh3d": [
           {
            "colorbar": {
             "outlinewidth": 0,
             "ticks": ""
            },
            "type": "mesh3d"
           }
          ],
          "parcoords": [
           {
            "line": {
             "colorbar": {
              "outlinewidth": 0,
              "ticks": ""
             }
            },
            "type": "parcoords"
           }
          ],
          "pie": [
           {
            "automargin": true,
            "type": "pie"
           }
          ],
          "scatter": [
           {
            "fillpattern": {
             "fillmode": "overlay",
             "size": 10,
             "solidity": 0.2
            },
            "type": "scatter"
           }
          ],
          "scatter3d": [
           {
            "line": {
             "colorbar": {
              "outlinewidth": 0,
              "ticks": ""
             }
            },
            "marker": {
             "colorbar": {
              "outlinewidth": 0,
              "ticks": ""
             }
            },
            "type": "scatter3d"
           }
          ],
          "scattercarpet": [
           {
            "marker": {
             "colorbar": {
              "outlinewidth": 0,
              "ticks": ""
             }
            },
            "type": "scattercarpet"
           }
          ],
          "scattergeo": [
           {
            "marker": {
             "colorbar": {
              "outlinewidth": 0,
              "ticks": ""
             }
            },
            "type": "scattergeo"
           }
          ],
          "scattergl": [
           {
            "marker": {
             "colorbar": {
              "outlinewidth": 0,
              "ticks": ""
             }
            },
            "type": "scattergl"
           }
          ],
          "scattermapbox": [
           {
            "marker": {
             "colorbar": {
              "outlinewidth": 0,
              "ticks": ""
             }
            },
            "type": "scattermapbox"
           }
          ],
          "scatterpolar": [
           {
            "marker": {
             "colorbar": {
              "outlinewidth": 0,
              "ticks": ""
             }
            },
            "type": "scatterpolar"
           }
          ],
          "scatterpolargl": [
           {
            "marker": {
             "colorbar": {
              "outlinewidth": 0,
              "ticks": ""
             }
            },
            "type": "scatterpolargl"
           }
          ],
          "scatterternary": [
           {
            "marker": {
             "colorbar": {
              "outlinewidth": 0,
              "ticks": ""
             }
            },
            "type": "scatterternary"
           }
          ],
          "surface": [
           {
            "colorbar": {
             "outlinewidth": 0,
             "ticks": ""
            },
            "colorscale": [
             [
              0,
              "#0d0887"
             ],
             [
              0.1111111111111111,
              "#46039f"
             ],
             [
              0.2222222222222222,
              "#7201a8"
             ],
             [
              0.3333333333333333,
              "#9c179e"
             ],
             [
              0.4444444444444444,
              "#bd3786"
             ],
             [
              0.5555555555555556,
              "#d8576b"
             ],
             [
              0.6666666666666666,
              "#ed7953"
             ],
             [
              0.7777777777777778,
              "#fb9f3a"
             ],
             [
              0.8888888888888888,
              "#fdca26"
             ],
             [
              1,
              "#f0f921"
             ]
            ],
            "type": "surface"
           }
          ],
          "table": [
           {
            "cells": {
             "fill": {
              "color": "#EBF0F8"
             },
             "line": {
              "color": "white"
             }
            },
            "header": {
             "fill": {
              "color": "#C8D4E3"
             },
             "line": {
              "color": "white"
             }
            },
            "type": "table"
           }
          ]
         },
         "layout": {
          "annotationdefaults": {
           "arrowcolor": "#2a3f5f",
           "arrowhead": 0,
           "arrowwidth": 1
          },
          "autotypenumbers": "strict",
          "coloraxis": {
           "colorbar": {
            "outlinewidth": 0,
            "ticks": ""
           }
          },
          "colorscale": {
           "diverging": [
            [
             0,
             "#8e0152"
            ],
            [
             0.1,
             "#c51b7d"
            ],
            [
             0.2,
             "#de77ae"
            ],
            [
             0.3,
             "#f1b6da"
            ],
            [
             0.4,
             "#fde0ef"
            ],
            [
             0.5,
             "#f7f7f7"
            ],
            [
             0.6,
             "#e6f5d0"
            ],
            [
             0.7,
             "#b8e186"
            ],
            [
             0.8,
             "#7fbc41"
            ],
            [
             0.9,
             "#4d9221"
            ],
            [
             1,
             "#276419"
            ]
           ],
           "sequential": [
            [
             0,
             "#0d0887"
            ],
            [
             0.1111111111111111,
             "#46039f"
            ],
            [
             0.2222222222222222,
             "#7201a8"
            ],
            [
             0.3333333333333333,
             "#9c179e"
            ],
            [
             0.4444444444444444,
             "#bd3786"
            ],
            [
             0.5555555555555556,
             "#d8576b"
            ],
            [
             0.6666666666666666,
             "#ed7953"
            ],
            [
             0.7777777777777778,
             "#fb9f3a"
            ],
            [
             0.8888888888888888,
             "#fdca26"
            ],
            [
             1,
             "#f0f921"
            ]
           ],
           "sequentialminus": [
            [
             0,
             "#0d0887"
            ],
            [
             0.1111111111111111,
             "#46039f"
            ],
            [
             0.2222222222222222,
             "#7201a8"
            ],
            [
             0.3333333333333333,
             "#9c179e"
            ],
            [
             0.4444444444444444,
             "#bd3786"
            ],
            [
             0.5555555555555556,
             "#d8576b"
            ],
            [
             0.6666666666666666,
             "#ed7953"
            ],
            [
             0.7777777777777778,
             "#fb9f3a"
            ],
            [
             0.8888888888888888,
             "#fdca26"
            ],
            [
             1,
             "#f0f921"
            ]
           ]
          },
          "colorway": [
           "#636efa",
           "#EF553B",
           "#00cc96",
           "#ab63fa",
           "#FFA15A",
           "#19d3f3",
           "#FF6692",
           "#B6E880",
           "#FF97FF",
           "#FECB52"
          ],
          "font": {
           "color": "#2a3f5f"
          },
          "geo": {
           "bgcolor": "white",
           "lakecolor": "white",
           "landcolor": "#E5ECF6",
           "showlakes": true,
           "showland": true,
           "subunitcolor": "white"
          },
          "hoverlabel": {
           "align": "left"
          },
          "hovermode": "closest",
          "mapbox": {
           "style": "light"
          },
          "paper_bgcolor": "white",
          "plot_bgcolor": "#E5ECF6",
          "polar": {
           "angularaxis": {
            "gridcolor": "white",
            "linecolor": "white",
            "ticks": ""
           },
           "bgcolor": "#E5ECF6",
           "radialaxis": {
            "gridcolor": "white",
            "linecolor": "white",
            "ticks": ""
           }
          },
          "scene": {
           "xaxis": {
            "backgroundcolor": "#E5ECF6",
            "gridcolor": "white",
            "gridwidth": 2,
            "linecolor": "white",
            "showbackground": true,
            "ticks": "",
            "zerolinecolor": "white"
           },
           "yaxis": {
            "backgroundcolor": "#E5ECF6",
            "gridcolor": "white",
            "gridwidth": 2,
            "linecolor": "white",
            "showbackground": true,
            "ticks": "",
            "zerolinecolor": "white"
           },
           "zaxis": {
            "backgroundcolor": "#E5ECF6",
            "gridcolor": "white",
            "gridwidth": 2,
            "linecolor": "white",
            "showbackground": true,
            "ticks": "",
            "zerolinecolor": "white"
           }
          },
          "shapedefaults": {
           "line": {
            "color": "#2a3f5f"
           }
          },
          "ternary": {
           "aaxis": {
            "gridcolor": "white",
            "linecolor": "white",
            "ticks": ""
           },
           "baxis": {
            "gridcolor": "white",
            "linecolor": "white",
            "ticks": ""
           },
           "bgcolor": "#E5ECF6",
           "caxis": {
            "gridcolor": "white",
            "linecolor": "white",
            "ticks": ""
           }
          },
          "title": {
           "x": 0.05
          },
          "xaxis": {
           "automargin": true,
           "gridcolor": "white",
           "linecolor": "white",
           "ticks": "",
           "title": {
            "standoff": 15
           },
           "zerolinecolor": "white",
           "zerolinewidth": 2
          },
          "yaxis": {
           "automargin": true,
           "gridcolor": "white",
           "linecolor": "white",
           "ticks": "",
           "title": {
            "standoff": 15
           },
           "zerolinecolor": "white",
           "zerolinewidth": 2
          }
         }
        },
        "title": {
         "font": {
          "color": "#4D5663"
         }
        },
        "xaxis": {
         "gridcolor": "#E1E5ED",
         "showgrid": true,
         "tickfont": {
          "color": "#4D5663"
         },
         "title": {
          "font": {
           "color": "#4D5663"
          },
          "text": ""
         },
         "zerolinecolor": "#E1E5ED"
        },
        "yaxis": {
         "gridcolor": "#E1E5ED",
         "showgrid": true,
         "tickfont": {
          "color": "#4D5663"
         },
         "title": {
          "font": {
           "color": "#4D5663"
          },
          "text": ""
         },
         "zerolinecolor": "#E1E5ED"
        }
       }
      },
      "text/html": [
       "<div>                            <div id=\"0fb4fabb-90c0-41bb-8b95-008bd5340fe2\" class=\"plotly-graph-div\" style=\"height:525px; width:100%;\"></div>            <script type=\"text/javascript\">                require([\"plotly\"], function(Plotly) {                    window.PLOTLYENV=window.PLOTLYENV || {};\n",
       "                    window.PLOTLYENV.BASE_URL='https://plot.ly';                                    if (document.getElementById(\"0fb4fabb-90c0-41bb-8b95-008bd5340fe2\")) {                    Plotly.newPlot(                        \"0fb4fabb-90c0-41bb-8b95-008bd5340fe2\",                        [{\"marker\":{\"color\":\"rgba(255, 153, 51, 0.6)\",\"line\":{\"color\":\"rgba(255, 153, 51, 1.0)\",\"width\":1}},\"name\":\"Values\",\"orientation\":\"v\",\"text\":\"\",\"x\":[\"A\",\"B\",\"C\"],\"y\":[32,43,50],\"type\":\"bar\"}],                        {\"legend\":{\"bgcolor\":\"#F5F6F9\",\"font\":{\"color\":\"#4D5663\"}},\"paper_bgcolor\":\"#F5F6F9\",\"plot_bgcolor\":\"#F5F6F9\",\"template\":{\"data\":{\"barpolar\":[{\"marker\":{\"line\":{\"color\":\"#E5ECF6\",\"width\":0.5},\"pattern\":{\"fillmode\":\"overlay\",\"size\":10,\"solidity\":0.2}},\"type\":\"barpolar\"}],\"bar\":[{\"error_x\":{\"color\":\"#2a3f5f\"},\"error_y\":{\"color\":\"#2a3f5f\"},\"marker\":{\"line\":{\"color\":\"#E5ECF6\",\"width\":0.5},\"pattern\":{\"fillmode\":\"overlay\",\"size\":10,\"solidity\":0.2}},\"type\":\"bar\"}],\"carpet\":[{\"aaxis\":{\"endlinecolor\":\"#2a3f5f\",\"gridcolor\":\"white\",\"linecolor\":\"white\",\"minorgridcolor\":\"white\",\"startlinecolor\":\"#2a3f5f\"},\"baxis\":{\"endlinecolor\":\"#2a3f5f\",\"gridcolor\":\"white\",\"linecolor\":\"white\",\"minorgridcolor\":\"white\",\"startlinecolor\":\"#2a3f5f\"},\"type\":\"carpet\"}],\"choropleth\":[{\"colorbar\":{\"outlinewidth\":0,\"ticks\":\"\"},\"type\":\"choropleth\"}],\"contourcarpet\":[{\"colorbar\":{\"outlinewidth\":0,\"ticks\":\"\"},\"type\":\"contourcarpet\"}],\"contour\":[{\"colorbar\":{\"outlinewidth\":0,\"ticks\":\"\"},\"colorscale\":[[0.0,\"#0d0887\"],[0.1111111111111111,\"#46039f\"],[0.2222222222222222,\"#7201a8\"],[0.3333333333333333,\"#9c179e\"],[0.4444444444444444,\"#bd3786\"],[0.5555555555555556,\"#d8576b\"],[0.6666666666666666,\"#ed7953\"],[0.7777777777777778,\"#fb9f3a\"],[0.8888888888888888,\"#fdca26\"],[1.0,\"#f0f921\"]],\"type\":\"contour\"}],\"heatmapgl\":[{\"colorbar\":{\"outlinewidth\":0,\"ticks\":\"\"},\"colorscale\":[[0.0,\"#0d0887\"],[0.1111111111111111,\"#46039f\"],[0.2222222222222222,\"#7201a8\"],[0.3333333333333333,\"#9c179e\"],[0.4444444444444444,\"#bd3786\"],[0.5555555555555556,\"#d8576b\"],[0.6666666666666666,\"#ed7953\"],[0.7777777777777778,\"#fb9f3a\"],[0.8888888888888888,\"#fdca26\"],[1.0,\"#f0f921\"]],\"type\":\"heatmapgl\"}],\"heatmap\":[{\"colorbar\":{\"outlinewidth\":0,\"ticks\":\"\"},\"colorscale\":[[0.0,\"#0d0887\"],[0.1111111111111111,\"#46039f\"],[0.2222222222222222,\"#7201a8\"],[0.3333333333333333,\"#9c179e\"],[0.4444444444444444,\"#bd3786\"],[0.5555555555555556,\"#d8576b\"],[0.6666666666666666,\"#ed7953\"],[0.7777777777777778,\"#fb9f3a\"],[0.8888888888888888,\"#fdca26\"],[1.0,\"#f0f921\"]],\"type\":\"heatmap\"}],\"histogram2dcontour\":[{\"colorbar\":{\"outlinewidth\":0,\"ticks\":\"\"},\"colorscale\":[[0.0,\"#0d0887\"],[0.1111111111111111,\"#46039f\"],[0.2222222222222222,\"#7201a8\"],[0.3333333333333333,\"#9c179e\"],[0.4444444444444444,\"#bd3786\"],[0.5555555555555556,\"#d8576b\"],[0.6666666666666666,\"#ed7953\"],[0.7777777777777778,\"#fb9f3a\"],[0.8888888888888888,\"#fdca26\"],[1.0,\"#f0f921\"]],\"type\":\"histogram2dcontour\"}],\"histogram2d\":[{\"colorbar\":{\"outlinewidth\":0,\"ticks\":\"\"},\"colorscale\":[[0.0,\"#0d0887\"],[0.1111111111111111,\"#46039f\"],[0.2222222222222222,\"#7201a8\"],[0.3333333333333333,\"#9c179e\"],[0.4444444444444444,\"#bd3786\"],[0.5555555555555556,\"#d8576b\"],[0.6666666666666666,\"#ed7953\"],[0.7777777777777778,\"#fb9f3a\"],[0.8888888888888888,\"#fdca26\"],[1.0,\"#f0f921\"]],\"type\":\"histogram2d\"}],\"histogram\":[{\"marker\":{\"pattern\":{\"fillmode\":\"overlay\",\"size\":10,\"solidity\":0.2}},\"type\":\"histogram\"}],\"mesh3d\":[{\"colorbar\":{\"outlinewidth\":0,\"ticks\":\"\"},\"type\":\"mesh3d\"}],\"parcoords\":[{\"line\":{\"colorbar\":{\"outlinewidth\":0,\"ticks\":\"\"}},\"type\":\"parcoords\"}],\"pie\":[{\"automargin\":true,\"type\":\"pie\"}],\"scatter3d\":[{\"line\":{\"colorbar\":{\"outlinewidth\":0,\"ticks\":\"\"}},\"marker\":{\"colorbar\":{\"outlinewidth\":0,\"ticks\":\"\"}},\"type\":\"scatter3d\"}],\"scattercarpet\":[{\"marker\":{\"colorbar\":{\"outlinewidth\":0,\"ticks\":\"\"}},\"type\":\"scattercarpet\"}],\"scattergeo\":[{\"marker\":{\"colorbar\":{\"outlinewidth\":0,\"ticks\":\"\"}},\"type\":\"scattergeo\"}],\"scattergl\":[{\"marker\":{\"colorbar\":{\"outlinewidth\":0,\"ticks\":\"\"}},\"type\":\"scattergl\"}],\"scattermapbox\":[{\"marker\":{\"colorbar\":{\"outlinewidth\":0,\"ticks\":\"\"}},\"type\":\"scattermapbox\"}],\"scatterpolargl\":[{\"marker\":{\"colorbar\":{\"outlinewidth\":0,\"ticks\":\"\"}},\"type\":\"scatterpolargl\"}],\"scatterpolar\":[{\"marker\":{\"colorbar\":{\"outlinewidth\":0,\"ticks\":\"\"}},\"type\":\"scatterpolar\"}],\"scatter\":[{\"fillpattern\":{\"fillmode\":\"overlay\",\"size\":10,\"solidity\":0.2},\"type\":\"scatter\"}],\"scatterternary\":[{\"marker\":{\"colorbar\":{\"outlinewidth\":0,\"ticks\":\"\"}},\"type\":\"scatterternary\"}],\"surface\":[{\"colorbar\":{\"outlinewidth\":0,\"ticks\":\"\"},\"colorscale\":[[0.0,\"#0d0887\"],[0.1111111111111111,\"#46039f\"],[0.2222222222222222,\"#7201a8\"],[0.3333333333333333,\"#9c179e\"],[0.4444444444444444,\"#bd3786\"],[0.5555555555555556,\"#d8576b\"],[0.6666666666666666,\"#ed7953\"],[0.7777777777777778,\"#fb9f3a\"],[0.8888888888888888,\"#fdca26\"],[1.0,\"#f0f921\"]],\"type\":\"surface\"}],\"table\":[{\"cells\":{\"fill\":{\"color\":\"#EBF0F8\"},\"line\":{\"color\":\"white\"}},\"header\":{\"fill\":{\"color\":\"#C8D4E3\"},\"line\":{\"color\":\"white\"}},\"type\":\"table\"}]},\"layout\":{\"annotationdefaults\":{\"arrowcolor\":\"#2a3f5f\",\"arrowhead\":0,\"arrowwidth\":1},\"autotypenumbers\":\"strict\",\"coloraxis\":{\"colorbar\":{\"outlinewidth\":0,\"ticks\":\"\"}},\"colorscale\":{\"diverging\":[[0,\"#8e0152\"],[0.1,\"#c51b7d\"],[0.2,\"#de77ae\"],[0.3,\"#f1b6da\"],[0.4,\"#fde0ef\"],[0.5,\"#f7f7f7\"],[0.6,\"#e6f5d0\"],[0.7,\"#b8e186\"],[0.8,\"#7fbc41\"],[0.9,\"#4d9221\"],[1,\"#276419\"]],\"sequential\":[[0.0,\"#0d0887\"],[0.1111111111111111,\"#46039f\"],[0.2222222222222222,\"#7201a8\"],[0.3333333333333333,\"#9c179e\"],[0.4444444444444444,\"#bd3786\"],[0.5555555555555556,\"#d8576b\"],[0.6666666666666666,\"#ed7953\"],[0.7777777777777778,\"#fb9f3a\"],[0.8888888888888888,\"#fdca26\"],[1.0,\"#f0f921\"]],\"sequentialminus\":[[0.0,\"#0d0887\"],[0.1111111111111111,\"#46039f\"],[0.2222222222222222,\"#7201a8\"],[0.3333333333333333,\"#9c179e\"],[0.4444444444444444,\"#bd3786\"],[0.5555555555555556,\"#d8576b\"],[0.6666666666666666,\"#ed7953\"],[0.7777777777777778,\"#fb9f3a\"],[0.8888888888888888,\"#fdca26\"],[1.0,\"#f0f921\"]]},\"colorway\":[\"#636efa\",\"#EF553B\",\"#00cc96\",\"#ab63fa\",\"#FFA15A\",\"#19d3f3\",\"#FF6692\",\"#B6E880\",\"#FF97FF\",\"#FECB52\"],\"font\":{\"color\":\"#2a3f5f\"},\"geo\":{\"bgcolor\":\"white\",\"lakecolor\":\"white\",\"landcolor\":\"#E5ECF6\",\"showlakes\":true,\"showland\":true,\"subunitcolor\":\"white\"},\"hoverlabel\":{\"align\":\"left\"},\"hovermode\":\"closest\",\"mapbox\":{\"style\":\"light\"},\"paper_bgcolor\":\"white\",\"plot_bgcolor\":\"#E5ECF6\",\"polar\":{\"angularaxis\":{\"gridcolor\":\"white\",\"linecolor\":\"white\",\"ticks\":\"\"},\"bgcolor\":\"#E5ECF6\",\"radialaxis\":{\"gridcolor\":\"white\",\"linecolor\":\"white\",\"ticks\":\"\"}},\"scene\":{\"xaxis\":{\"backgroundcolor\":\"#E5ECF6\",\"gridcolor\":\"white\",\"gridwidth\":2,\"linecolor\":\"white\",\"showbackground\":true,\"ticks\":\"\",\"zerolinecolor\":\"white\"},\"yaxis\":{\"backgroundcolor\":\"#E5ECF6\",\"gridcolor\":\"white\",\"gridwidth\":2,\"linecolor\":\"white\",\"showbackground\":true,\"ticks\":\"\",\"zerolinecolor\":\"white\"},\"zaxis\":{\"backgroundcolor\":\"#E5ECF6\",\"gridcolor\":\"white\",\"gridwidth\":2,\"linecolor\":\"white\",\"showbackground\":true,\"ticks\":\"\",\"zerolinecolor\":\"white\"}},\"shapedefaults\":{\"line\":{\"color\":\"#2a3f5f\"}},\"ternary\":{\"aaxis\":{\"gridcolor\":\"white\",\"linecolor\":\"white\",\"ticks\":\"\"},\"baxis\":{\"gridcolor\":\"white\",\"linecolor\":\"white\",\"ticks\":\"\"},\"bgcolor\":\"#E5ECF6\",\"caxis\":{\"gridcolor\":\"white\",\"linecolor\":\"white\",\"ticks\":\"\"}},\"title\":{\"x\":0.05},\"xaxis\":{\"automargin\":true,\"gridcolor\":\"white\",\"linecolor\":\"white\",\"ticks\":\"\",\"title\":{\"standoff\":15},\"zerolinecolor\":\"white\",\"zerolinewidth\":2},\"yaxis\":{\"automargin\":true,\"gridcolor\":\"white\",\"linecolor\":\"white\",\"ticks\":\"\",\"title\":{\"standoff\":15},\"zerolinecolor\":\"white\",\"zerolinewidth\":2}}},\"title\":{\"font\":{\"color\":\"#4D5663\"}},\"xaxis\":{\"gridcolor\":\"#E1E5ED\",\"showgrid\":true,\"tickfont\":{\"color\":\"#4D5663\"},\"title\":{\"font\":{\"color\":\"#4D5663\"},\"text\":\"\"},\"zerolinecolor\":\"#E1E5ED\"},\"yaxis\":{\"gridcolor\":\"#E1E5ED\",\"showgrid\":true,\"tickfont\":{\"color\":\"#4D5663\"},\"title\":{\"font\":{\"color\":\"#4D5663\"},\"text\":\"\"},\"zerolinecolor\":\"#E1E5ED\"}},                        {\"showLink\": true, \"linkText\": \"Export to plot.ly\", \"plotlyServerURL\": \"https://plot.ly\", \"responsive\": true}                    ).then(function(){\n",
       "                            \n",
       "var gd = document.getElementById('0fb4fabb-90c0-41bb-8b95-008bd5340fe2');\n",
       "var x = new MutationObserver(function (mutations, observer) {{\n",
       "        var display = window.getComputedStyle(gd).display;\n",
       "        if (!display || display === 'none') {{\n",
       "            console.log([gd, 'removed!']);\n",
       "            Plotly.purge(gd);\n",
       "            observer.disconnect();\n",
       "        }}\n",
       "}});\n",
       "\n",
       "// Listen for the removal of the full notebook cells\n",
       "var notebookContainer = gd.closest('#notebook-container');\n",
       "if (notebookContainer) {{\n",
       "    x.observe(notebookContainer, {childList: true});\n",
       "}}\n",
       "\n",
       "// Listen for the clearing of the current output cell\n",
       "var outputEl = gd.closest('.output');\n",
       "if (outputEl) {{\n",
       "    x.observe(outputEl, {childList: true});\n",
       "}}\n",
       "\n",
       "                        })                };                });            </script>        </div>"
      ]
     },
     "metadata": {},
     "output_type": "display_data"
    }
   ],
   "source": [
    "df2.iplot(kind='bar', x='Category', y='Values', mode='markers', size=10)"
   ]
  },
  {
   "cell_type": "code",
   "execution_count": 19,
   "id": "8d27c729",
   "metadata": {},
   "outputs": [
    {
     "data": {
      "text/html": [
       "<div>\n",
       "<style scoped>\n",
       "    .dataframe tbody tr th:only-of-type {\n",
       "        vertical-align: middle;\n",
       "    }\n",
       "\n",
       "    .dataframe tbody tr th {\n",
       "        vertical-align: top;\n",
       "    }\n",
       "\n",
       "    .dataframe thead th {\n",
       "        text-align: right;\n",
       "    }\n",
       "</style>\n",
       "<table border=\"1\" class=\"dataframe\">\n",
       "  <thead>\n",
       "    <tr style=\"text-align: right;\">\n",
       "      <th></th>\n",
       "      <th>Category</th>\n",
       "      <th>Values</th>\n",
       "    </tr>\n",
       "  </thead>\n",
       "  <tbody>\n",
       "    <tr>\n",
       "      <th>0</th>\n",
       "      <td>A</td>\n",
       "      <td>32</td>\n",
       "    </tr>\n",
       "    <tr>\n",
       "      <th>1</th>\n",
       "      <td>B</td>\n",
       "      <td>43</td>\n",
       "    </tr>\n",
       "    <tr>\n",
       "      <th>2</th>\n",
       "      <td>C</td>\n",
       "      <td>50</td>\n",
       "    </tr>\n",
       "  </tbody>\n",
       "</table>\n",
       "</div>"
      ],
      "text/plain": [
       "  Category  Values\n",
       "0        A      32\n",
       "1        B      43\n",
       "2        C      50"
      ]
     },
     "execution_count": 19,
     "metadata": {},
     "output_type": "execute_result"
    }
   ],
   "source": [
    "df2"
   ]
  },
  {
   "cell_type": "code",
   "execution_count": 20,
   "id": "d23031b7",
   "metadata": {},
   "outputs": [
    {
     "data": {
      "application/vnd.plotly.v1+json": {
       "config": {
        "linkText": "Export to plot.ly",
        "plotlyServerURL": "https://plot.ly",
        "showLink": true
       },
       "data": [
        {
         "marker": {
          "color": "rgba(255, 153, 51, 0.6)",
          "line": {
           "color": "rgba(255, 153, 51, 1.0)",
           "width": 1
          }
         },
         "name": "None",
         "orientation": "v",
         "text": "",
         "type": "bar",
         "x": [
          "A",
          "B",
          "C",
          "D"
         ],
         "y": [
          100,
          100,
          100,
          100
         ]
        }
       ],
       "layout": {
        "legend": {
         "bgcolor": "#F5F6F9",
         "font": {
          "color": "#4D5663"
         }
        },
        "paper_bgcolor": "#F5F6F9",
        "plot_bgcolor": "#F5F6F9",
        "template": {
         "data": {
          "bar": [
           {
            "error_x": {
             "color": "#2a3f5f"
            },
            "error_y": {
             "color": "#2a3f5f"
            },
            "marker": {
             "line": {
              "color": "#E5ECF6",
              "width": 0.5
             },
             "pattern": {
              "fillmode": "overlay",
              "size": 10,
              "solidity": 0.2
             }
            },
            "type": "bar"
           }
          ],
          "barpolar": [
           {
            "marker": {
             "line": {
              "color": "#E5ECF6",
              "width": 0.5
             },
             "pattern": {
              "fillmode": "overlay",
              "size": 10,
              "solidity": 0.2
             }
            },
            "type": "barpolar"
           }
          ],
          "carpet": [
           {
            "aaxis": {
             "endlinecolor": "#2a3f5f",
             "gridcolor": "white",
             "linecolor": "white",
             "minorgridcolor": "white",
             "startlinecolor": "#2a3f5f"
            },
            "baxis": {
             "endlinecolor": "#2a3f5f",
             "gridcolor": "white",
             "linecolor": "white",
             "minorgridcolor": "white",
             "startlinecolor": "#2a3f5f"
            },
            "type": "carpet"
           }
          ],
          "choropleth": [
           {
            "colorbar": {
             "outlinewidth": 0,
             "ticks": ""
            },
            "type": "choropleth"
           }
          ],
          "contour": [
           {
            "colorbar": {
             "outlinewidth": 0,
             "ticks": ""
            },
            "colorscale": [
             [
              0,
              "#0d0887"
             ],
             [
              0.1111111111111111,
              "#46039f"
             ],
             [
              0.2222222222222222,
              "#7201a8"
             ],
             [
              0.3333333333333333,
              "#9c179e"
             ],
             [
              0.4444444444444444,
              "#bd3786"
             ],
             [
              0.5555555555555556,
              "#d8576b"
             ],
             [
              0.6666666666666666,
              "#ed7953"
             ],
             [
              0.7777777777777778,
              "#fb9f3a"
             ],
             [
              0.8888888888888888,
              "#fdca26"
             ],
             [
              1,
              "#f0f921"
             ]
            ],
            "type": "contour"
           }
          ],
          "contourcarpet": [
           {
            "colorbar": {
             "outlinewidth": 0,
             "ticks": ""
            },
            "type": "contourcarpet"
           }
          ],
          "heatmap": [
           {
            "colorbar": {
             "outlinewidth": 0,
             "ticks": ""
            },
            "colorscale": [
             [
              0,
              "#0d0887"
             ],
             [
              0.1111111111111111,
              "#46039f"
             ],
             [
              0.2222222222222222,
              "#7201a8"
             ],
             [
              0.3333333333333333,
              "#9c179e"
             ],
             [
              0.4444444444444444,
              "#bd3786"
             ],
             [
              0.5555555555555556,
              "#d8576b"
             ],
             [
              0.6666666666666666,
              "#ed7953"
             ],
             [
              0.7777777777777778,
              "#fb9f3a"
             ],
             [
              0.8888888888888888,
              "#fdca26"
             ],
             [
              1,
              "#f0f921"
             ]
            ],
            "type": "heatmap"
           }
          ],
          "heatmapgl": [
           {
            "colorbar": {
             "outlinewidth": 0,
             "ticks": ""
            },
            "colorscale": [
             [
              0,
              "#0d0887"
             ],
             [
              0.1111111111111111,
              "#46039f"
             ],
             [
              0.2222222222222222,
              "#7201a8"
             ],
             [
              0.3333333333333333,
              "#9c179e"
             ],
             [
              0.4444444444444444,
              "#bd3786"
             ],
             [
              0.5555555555555556,
              "#d8576b"
             ],
             [
              0.6666666666666666,
              "#ed7953"
             ],
             [
              0.7777777777777778,
              "#fb9f3a"
             ],
             [
              0.8888888888888888,
              "#fdca26"
             ],
             [
              1,
              "#f0f921"
             ]
            ],
            "type": "heatmapgl"
           }
          ],
          "histogram": [
           {
            "marker": {
             "pattern": {
              "fillmode": "overlay",
              "size": 10,
              "solidity": 0.2
             }
            },
            "type": "histogram"
           }
          ],
          "histogram2d": [
           {
            "colorbar": {
             "outlinewidth": 0,
             "ticks": ""
            },
            "colorscale": [
             [
              0,
              "#0d0887"
             ],
             [
              0.1111111111111111,
              "#46039f"
             ],
             [
              0.2222222222222222,
              "#7201a8"
             ],
             [
              0.3333333333333333,
              "#9c179e"
             ],
             [
              0.4444444444444444,
              "#bd3786"
             ],
             [
              0.5555555555555556,
              "#d8576b"
             ],
             [
              0.6666666666666666,
              "#ed7953"
             ],
             [
              0.7777777777777778,
              "#fb9f3a"
             ],
             [
              0.8888888888888888,
              "#fdca26"
             ],
             [
              1,
              "#f0f921"
             ]
            ],
            "type": "histogram2d"
           }
          ],
          "histogram2dcontour": [
           {
            "colorbar": {
             "outlinewidth": 0,
             "ticks": ""
            },
            "colorscale": [
             [
              0,
              "#0d0887"
             ],
             [
              0.1111111111111111,
              "#46039f"
             ],
             [
              0.2222222222222222,
              "#7201a8"
             ],
             [
              0.3333333333333333,
              "#9c179e"
             ],
             [
              0.4444444444444444,
              "#bd3786"
             ],
             [
              0.5555555555555556,
              "#d8576b"
             ],
             [
              0.6666666666666666,
              "#ed7953"
             ],
             [
              0.7777777777777778,
              "#fb9f3a"
             ],
             [
              0.8888888888888888,
              "#fdca26"
             ],
             [
              1,
              "#f0f921"
             ]
            ],
            "type": "histogram2dcontour"
           }
          ],
          "mesh3d": [
           {
            "colorbar": {
             "outlinewidth": 0,
             "ticks": ""
            },
            "type": "mesh3d"
           }
          ],
          "parcoords": [
           {
            "line": {
             "colorbar": {
              "outlinewidth": 0,
              "ticks": ""
             }
            },
            "type": "parcoords"
           }
          ],
          "pie": [
           {
            "automargin": true,
            "type": "pie"
           }
          ],
          "scatter": [
           {
            "fillpattern": {
             "fillmode": "overlay",
             "size": 10,
             "solidity": 0.2
            },
            "type": "scatter"
           }
          ],
          "scatter3d": [
           {
            "line": {
             "colorbar": {
              "outlinewidth": 0,
              "ticks": ""
             }
            },
            "marker": {
             "colorbar": {
              "outlinewidth": 0,
              "ticks": ""
             }
            },
            "type": "scatter3d"
           }
          ],
          "scattercarpet": [
           {
            "marker": {
             "colorbar": {
              "outlinewidth": 0,
              "ticks": ""
             }
            },
            "type": "scattercarpet"
           }
          ],
          "scattergeo": [
           {
            "marker": {
             "colorbar": {
              "outlinewidth": 0,
              "ticks": ""
             }
            },
            "type": "scattergeo"
           }
          ],
          "scattergl": [
           {
            "marker": {
             "colorbar": {
              "outlinewidth": 0,
              "ticks": ""
             }
            },
            "type": "scattergl"
           }
          ],
          "scattermapbox": [
           {
            "marker": {
             "colorbar": {
              "outlinewidth": 0,
              "ticks": ""
             }
            },
            "type": "scattermapbox"
           }
          ],
          "scatterpolar": [
           {
            "marker": {
             "colorbar": {
              "outlinewidth": 0,
              "ticks": ""
             }
            },
            "type": "scatterpolar"
           }
          ],
          "scatterpolargl": [
           {
            "marker": {
             "colorbar": {
              "outlinewidth": 0,
              "ticks": ""
             }
            },
            "type": "scatterpolargl"
           }
          ],
          "scatterternary": [
           {
            "marker": {
             "colorbar": {
              "outlinewidth": 0,
              "ticks": ""
             }
            },
            "type": "scatterternary"
           }
          ],
          "surface": [
           {
            "colorbar": {
             "outlinewidth": 0,
             "ticks": ""
            },
            "colorscale": [
             [
              0,
              "#0d0887"
             ],
             [
              0.1111111111111111,
              "#46039f"
             ],
             [
              0.2222222222222222,
              "#7201a8"
             ],
             [
              0.3333333333333333,
              "#9c179e"
             ],
             [
              0.4444444444444444,
              "#bd3786"
             ],
             [
              0.5555555555555556,
              "#d8576b"
             ],
             [
              0.6666666666666666,
              "#ed7953"
             ],
             [
              0.7777777777777778,
              "#fb9f3a"
             ],
             [
              0.8888888888888888,
              "#fdca26"
             ],
             [
              1,
              "#f0f921"
             ]
            ],
            "type": "surface"
           }
          ],
          "table": [
           {
            "cells": {
             "fill": {
              "color": "#EBF0F8"
             },
             "line": {
              "color": "white"
             }
            },
            "header": {
             "fill": {
              "color": "#C8D4E3"
             },
             "line": {
              "color": "white"
             }
            },
            "type": "table"
           }
          ]
         },
         "layout": {
          "annotationdefaults": {
           "arrowcolor": "#2a3f5f",
           "arrowhead": 0,
           "arrowwidth": 1
          },
          "autotypenumbers": "strict",
          "coloraxis": {
           "colorbar": {
            "outlinewidth": 0,
            "ticks": ""
           }
          },
          "colorscale": {
           "diverging": [
            [
             0,
             "#8e0152"
            ],
            [
             0.1,
             "#c51b7d"
            ],
            [
             0.2,
             "#de77ae"
            ],
            [
             0.3,
             "#f1b6da"
            ],
            [
             0.4,
             "#fde0ef"
            ],
            [
             0.5,
             "#f7f7f7"
            ],
            [
             0.6,
             "#e6f5d0"
            ],
            [
             0.7,
             "#b8e186"
            ],
            [
             0.8,
             "#7fbc41"
            ],
            [
             0.9,
             "#4d9221"
            ],
            [
             1,
             "#276419"
            ]
           ],
           "sequential": [
            [
             0,
             "#0d0887"
            ],
            [
             0.1111111111111111,
             "#46039f"
            ],
            [
             0.2222222222222222,
             "#7201a8"
            ],
            [
             0.3333333333333333,
             "#9c179e"
            ],
            [
             0.4444444444444444,
             "#bd3786"
            ],
            [
             0.5555555555555556,
             "#d8576b"
            ],
            [
             0.6666666666666666,
             "#ed7953"
            ],
            [
             0.7777777777777778,
             "#fb9f3a"
            ],
            [
             0.8888888888888888,
             "#fdca26"
            ],
            [
             1,
             "#f0f921"
            ]
           ],
           "sequentialminus": [
            [
             0,
             "#0d0887"
            ],
            [
             0.1111111111111111,
             "#46039f"
            ],
            [
             0.2222222222222222,
             "#7201a8"
            ],
            [
             0.3333333333333333,
             "#9c179e"
            ],
            [
             0.4444444444444444,
             "#bd3786"
            ],
            [
             0.5555555555555556,
             "#d8576b"
            ],
            [
             0.6666666666666666,
             "#ed7953"
            ],
            [
             0.7777777777777778,
             "#fb9f3a"
            ],
            [
             0.8888888888888888,
             "#fdca26"
            ],
            [
             1,
             "#f0f921"
            ]
           ]
          },
          "colorway": [
           "#636efa",
           "#EF553B",
           "#00cc96",
           "#ab63fa",
           "#FFA15A",
           "#19d3f3",
           "#FF6692",
           "#B6E880",
           "#FF97FF",
           "#FECB52"
          ],
          "font": {
           "color": "#2a3f5f"
          },
          "geo": {
           "bgcolor": "white",
           "lakecolor": "white",
           "landcolor": "#E5ECF6",
           "showlakes": true,
           "showland": true,
           "subunitcolor": "white"
          },
          "hoverlabel": {
           "align": "left"
          },
          "hovermode": "closest",
          "mapbox": {
           "style": "light"
          },
          "paper_bgcolor": "white",
          "plot_bgcolor": "#E5ECF6",
          "polar": {
           "angularaxis": {
            "gridcolor": "white",
            "linecolor": "white",
            "ticks": ""
           },
           "bgcolor": "#E5ECF6",
           "radialaxis": {
            "gridcolor": "white",
            "linecolor": "white",
            "ticks": ""
           }
          },
          "scene": {
           "xaxis": {
            "backgroundcolor": "#E5ECF6",
            "gridcolor": "white",
            "gridwidth": 2,
            "linecolor": "white",
            "showbackground": true,
            "ticks": "",
            "zerolinecolor": "white"
           },
           "yaxis": {
            "backgroundcolor": "#E5ECF6",
            "gridcolor": "white",
            "gridwidth": 2,
            "linecolor": "white",
            "showbackground": true,
            "ticks": "",
            "zerolinecolor": "white"
           },
           "zaxis": {
            "backgroundcolor": "#E5ECF6",
            "gridcolor": "white",
            "gridwidth": 2,
            "linecolor": "white",
            "showbackground": true,
            "ticks": "",
            "zerolinecolor": "white"
           }
          },
          "shapedefaults": {
           "line": {
            "color": "#2a3f5f"
           }
          },
          "ternary": {
           "aaxis": {
            "gridcolor": "white",
            "linecolor": "white",
            "ticks": ""
           },
           "baxis": {
            "gridcolor": "white",
            "linecolor": "white",
            "ticks": ""
           },
           "bgcolor": "#E5ECF6",
           "caxis": {
            "gridcolor": "white",
            "linecolor": "white",
            "ticks": ""
           }
          },
          "title": {
           "x": 0.05
          },
          "xaxis": {
           "automargin": true,
           "gridcolor": "white",
           "linecolor": "white",
           "ticks": "",
           "title": {
            "standoff": 15
           },
           "zerolinecolor": "white",
           "zerolinewidth": 2
          },
          "yaxis": {
           "automargin": true,
           "gridcolor": "white",
           "linecolor": "white",
           "ticks": "",
           "title": {
            "standoff": 15
           },
           "zerolinecolor": "white",
           "zerolinewidth": 2
          }
         }
        },
        "title": {
         "font": {
          "color": "#4D5663"
         }
        },
        "xaxis": {
         "gridcolor": "#E1E5ED",
         "showgrid": true,
         "tickfont": {
          "color": "#4D5663"
         },
         "title": {
          "font": {
           "color": "#4D5663"
          },
          "text": ""
         },
         "zerolinecolor": "#E1E5ED"
        },
        "yaxis": {
         "gridcolor": "#E1E5ED",
         "showgrid": true,
         "tickfont": {
          "color": "#4D5663"
         },
         "title": {
          "font": {
           "color": "#4D5663"
          },
          "text": ""
         },
         "zerolinecolor": "#E1E5ED"
        }
       }
      },
      "text/html": [
       "<div>                            <div id=\"71ce6ed1-4f99-4ca9-927f-83fbe44826ee\" class=\"plotly-graph-div\" style=\"height:525px; width:100%;\"></div>            <script type=\"text/javascript\">                require([\"plotly\"], function(Plotly) {                    window.PLOTLYENV=window.PLOTLYENV || {};\n",
       "                    window.PLOTLYENV.BASE_URL='https://plot.ly';                                    if (document.getElementById(\"71ce6ed1-4f99-4ca9-927f-83fbe44826ee\")) {                    Plotly.newPlot(                        \"71ce6ed1-4f99-4ca9-927f-83fbe44826ee\",                        [{\"marker\":{\"color\":\"rgba(255, 153, 51, 0.6)\",\"line\":{\"color\":\"rgba(255, 153, 51, 1.0)\",\"width\":1}},\"name\":\"None\",\"orientation\":\"v\",\"text\":\"\",\"x\":[\"A\",\"B\",\"C\",\"D\"],\"y\":[100,100,100,100],\"type\":\"bar\"}],                        {\"legend\":{\"bgcolor\":\"#F5F6F9\",\"font\":{\"color\":\"#4D5663\"}},\"paper_bgcolor\":\"#F5F6F9\",\"plot_bgcolor\":\"#F5F6F9\",\"template\":{\"data\":{\"barpolar\":[{\"marker\":{\"line\":{\"color\":\"#E5ECF6\",\"width\":0.5},\"pattern\":{\"fillmode\":\"overlay\",\"size\":10,\"solidity\":0.2}},\"type\":\"barpolar\"}],\"bar\":[{\"error_x\":{\"color\":\"#2a3f5f\"},\"error_y\":{\"color\":\"#2a3f5f\"},\"marker\":{\"line\":{\"color\":\"#E5ECF6\",\"width\":0.5},\"pattern\":{\"fillmode\":\"overlay\",\"size\":10,\"solidity\":0.2}},\"type\":\"bar\"}],\"carpet\":[{\"aaxis\":{\"endlinecolor\":\"#2a3f5f\",\"gridcolor\":\"white\",\"linecolor\":\"white\",\"minorgridcolor\":\"white\",\"startlinecolor\":\"#2a3f5f\"},\"baxis\":{\"endlinecolor\":\"#2a3f5f\",\"gridcolor\":\"white\",\"linecolor\":\"white\",\"minorgridcolor\":\"white\",\"startlinecolor\":\"#2a3f5f\"},\"type\":\"carpet\"}],\"choropleth\":[{\"colorbar\":{\"outlinewidth\":0,\"ticks\":\"\"},\"type\":\"choropleth\"}],\"contourcarpet\":[{\"colorbar\":{\"outlinewidth\":0,\"ticks\":\"\"},\"type\":\"contourcarpet\"}],\"contour\":[{\"colorbar\":{\"outlinewidth\":0,\"ticks\":\"\"},\"colorscale\":[[0.0,\"#0d0887\"],[0.1111111111111111,\"#46039f\"],[0.2222222222222222,\"#7201a8\"],[0.3333333333333333,\"#9c179e\"],[0.4444444444444444,\"#bd3786\"],[0.5555555555555556,\"#d8576b\"],[0.6666666666666666,\"#ed7953\"],[0.7777777777777778,\"#fb9f3a\"],[0.8888888888888888,\"#fdca26\"],[1.0,\"#f0f921\"]],\"type\":\"contour\"}],\"heatmapgl\":[{\"colorbar\":{\"outlinewidth\":0,\"ticks\":\"\"},\"colorscale\":[[0.0,\"#0d0887\"],[0.1111111111111111,\"#46039f\"],[0.2222222222222222,\"#7201a8\"],[0.3333333333333333,\"#9c179e\"],[0.4444444444444444,\"#bd3786\"],[0.5555555555555556,\"#d8576b\"],[0.6666666666666666,\"#ed7953\"],[0.7777777777777778,\"#fb9f3a\"],[0.8888888888888888,\"#fdca26\"],[1.0,\"#f0f921\"]],\"type\":\"heatmapgl\"}],\"heatmap\":[{\"colorbar\":{\"outlinewidth\":0,\"ticks\":\"\"},\"colorscale\":[[0.0,\"#0d0887\"],[0.1111111111111111,\"#46039f\"],[0.2222222222222222,\"#7201a8\"],[0.3333333333333333,\"#9c179e\"],[0.4444444444444444,\"#bd3786\"],[0.5555555555555556,\"#d8576b\"],[0.6666666666666666,\"#ed7953\"],[0.7777777777777778,\"#fb9f3a\"],[0.8888888888888888,\"#fdca26\"],[1.0,\"#f0f921\"]],\"type\":\"heatmap\"}],\"histogram2dcontour\":[{\"colorbar\":{\"outlinewidth\":0,\"ticks\":\"\"},\"colorscale\":[[0.0,\"#0d0887\"],[0.1111111111111111,\"#46039f\"],[0.2222222222222222,\"#7201a8\"],[0.3333333333333333,\"#9c179e\"],[0.4444444444444444,\"#bd3786\"],[0.5555555555555556,\"#d8576b\"],[0.6666666666666666,\"#ed7953\"],[0.7777777777777778,\"#fb9f3a\"],[0.8888888888888888,\"#fdca26\"],[1.0,\"#f0f921\"]],\"type\":\"histogram2dcontour\"}],\"histogram2d\":[{\"colorbar\":{\"outlinewidth\":0,\"ticks\":\"\"},\"colorscale\":[[0.0,\"#0d0887\"],[0.1111111111111111,\"#46039f\"],[0.2222222222222222,\"#7201a8\"],[0.3333333333333333,\"#9c179e\"],[0.4444444444444444,\"#bd3786\"],[0.5555555555555556,\"#d8576b\"],[0.6666666666666666,\"#ed7953\"],[0.7777777777777778,\"#fb9f3a\"],[0.8888888888888888,\"#fdca26\"],[1.0,\"#f0f921\"]],\"type\":\"histogram2d\"}],\"histogram\":[{\"marker\":{\"pattern\":{\"fillmode\":\"overlay\",\"size\":10,\"solidity\":0.2}},\"type\":\"histogram\"}],\"mesh3d\":[{\"colorbar\":{\"outlinewidth\":0,\"ticks\":\"\"},\"type\":\"mesh3d\"}],\"parcoords\":[{\"line\":{\"colorbar\":{\"outlinewidth\":0,\"ticks\":\"\"}},\"type\":\"parcoords\"}],\"pie\":[{\"automargin\":true,\"type\":\"pie\"}],\"scatter3d\":[{\"line\":{\"colorbar\":{\"outlinewidth\":0,\"ticks\":\"\"}},\"marker\":{\"colorbar\":{\"outlinewidth\":0,\"ticks\":\"\"}},\"type\":\"scatter3d\"}],\"scattercarpet\":[{\"marker\":{\"colorbar\":{\"outlinewidth\":0,\"ticks\":\"\"}},\"type\":\"scattercarpet\"}],\"scattergeo\":[{\"marker\":{\"colorbar\":{\"outlinewidth\":0,\"ticks\":\"\"}},\"type\":\"scattergeo\"}],\"scattergl\":[{\"marker\":{\"colorbar\":{\"outlinewidth\":0,\"ticks\":\"\"}},\"type\":\"scattergl\"}],\"scattermapbox\":[{\"marker\":{\"colorbar\":{\"outlinewidth\":0,\"ticks\":\"\"}},\"type\":\"scattermapbox\"}],\"scatterpolargl\":[{\"marker\":{\"colorbar\":{\"outlinewidth\":0,\"ticks\":\"\"}},\"type\":\"scatterpolargl\"}],\"scatterpolar\":[{\"marker\":{\"colorbar\":{\"outlinewidth\":0,\"ticks\":\"\"}},\"type\":\"scatterpolar\"}],\"scatter\":[{\"fillpattern\":{\"fillmode\":\"overlay\",\"size\":10,\"solidity\":0.2},\"type\":\"scatter\"}],\"scatterternary\":[{\"marker\":{\"colorbar\":{\"outlinewidth\":0,\"ticks\":\"\"}},\"type\":\"scatterternary\"}],\"surface\":[{\"colorbar\":{\"outlinewidth\":0,\"ticks\":\"\"},\"colorscale\":[[0.0,\"#0d0887\"],[0.1111111111111111,\"#46039f\"],[0.2222222222222222,\"#7201a8\"],[0.3333333333333333,\"#9c179e\"],[0.4444444444444444,\"#bd3786\"],[0.5555555555555556,\"#d8576b\"],[0.6666666666666666,\"#ed7953\"],[0.7777777777777778,\"#fb9f3a\"],[0.8888888888888888,\"#fdca26\"],[1.0,\"#f0f921\"]],\"type\":\"surface\"}],\"table\":[{\"cells\":{\"fill\":{\"color\":\"#EBF0F8\"},\"line\":{\"color\":\"white\"}},\"header\":{\"fill\":{\"color\":\"#C8D4E3\"},\"line\":{\"color\":\"white\"}},\"type\":\"table\"}]},\"layout\":{\"annotationdefaults\":{\"arrowcolor\":\"#2a3f5f\",\"arrowhead\":0,\"arrowwidth\":1},\"autotypenumbers\":\"strict\",\"coloraxis\":{\"colorbar\":{\"outlinewidth\":0,\"ticks\":\"\"}},\"colorscale\":{\"diverging\":[[0,\"#8e0152\"],[0.1,\"#c51b7d\"],[0.2,\"#de77ae\"],[0.3,\"#f1b6da\"],[0.4,\"#fde0ef\"],[0.5,\"#f7f7f7\"],[0.6,\"#e6f5d0\"],[0.7,\"#b8e186\"],[0.8,\"#7fbc41\"],[0.9,\"#4d9221\"],[1,\"#276419\"]],\"sequential\":[[0.0,\"#0d0887\"],[0.1111111111111111,\"#46039f\"],[0.2222222222222222,\"#7201a8\"],[0.3333333333333333,\"#9c179e\"],[0.4444444444444444,\"#bd3786\"],[0.5555555555555556,\"#d8576b\"],[0.6666666666666666,\"#ed7953\"],[0.7777777777777778,\"#fb9f3a\"],[0.8888888888888888,\"#fdca26\"],[1.0,\"#f0f921\"]],\"sequentialminus\":[[0.0,\"#0d0887\"],[0.1111111111111111,\"#46039f\"],[0.2222222222222222,\"#7201a8\"],[0.3333333333333333,\"#9c179e\"],[0.4444444444444444,\"#bd3786\"],[0.5555555555555556,\"#d8576b\"],[0.6666666666666666,\"#ed7953\"],[0.7777777777777778,\"#fb9f3a\"],[0.8888888888888888,\"#fdca26\"],[1.0,\"#f0f921\"]]},\"colorway\":[\"#636efa\",\"#EF553B\",\"#00cc96\",\"#ab63fa\",\"#FFA15A\",\"#19d3f3\",\"#FF6692\",\"#B6E880\",\"#FF97FF\",\"#FECB52\"],\"font\":{\"color\":\"#2a3f5f\"},\"geo\":{\"bgcolor\":\"white\",\"lakecolor\":\"white\",\"landcolor\":\"#E5ECF6\",\"showlakes\":true,\"showland\":true,\"subunitcolor\":\"white\"},\"hoverlabel\":{\"align\":\"left\"},\"hovermode\":\"closest\",\"mapbox\":{\"style\":\"light\"},\"paper_bgcolor\":\"white\",\"plot_bgcolor\":\"#E5ECF6\",\"polar\":{\"angularaxis\":{\"gridcolor\":\"white\",\"linecolor\":\"white\",\"ticks\":\"\"},\"bgcolor\":\"#E5ECF6\",\"radialaxis\":{\"gridcolor\":\"white\",\"linecolor\":\"white\",\"ticks\":\"\"}},\"scene\":{\"xaxis\":{\"backgroundcolor\":\"#E5ECF6\",\"gridcolor\":\"white\",\"gridwidth\":2,\"linecolor\":\"white\",\"showbackground\":true,\"ticks\":\"\",\"zerolinecolor\":\"white\"},\"yaxis\":{\"backgroundcolor\":\"#E5ECF6\",\"gridcolor\":\"white\",\"gridwidth\":2,\"linecolor\":\"white\",\"showbackground\":true,\"ticks\":\"\",\"zerolinecolor\":\"white\"},\"zaxis\":{\"backgroundcolor\":\"#E5ECF6\",\"gridcolor\":\"white\",\"gridwidth\":2,\"linecolor\":\"white\",\"showbackground\":true,\"ticks\":\"\",\"zerolinecolor\":\"white\"}},\"shapedefaults\":{\"line\":{\"color\":\"#2a3f5f\"}},\"ternary\":{\"aaxis\":{\"gridcolor\":\"white\",\"linecolor\":\"white\",\"ticks\":\"\"},\"baxis\":{\"gridcolor\":\"white\",\"linecolor\":\"white\",\"ticks\":\"\"},\"bgcolor\":\"#E5ECF6\",\"caxis\":{\"gridcolor\":\"white\",\"linecolor\":\"white\",\"ticks\":\"\"}},\"title\":{\"x\":0.05},\"xaxis\":{\"automargin\":true,\"gridcolor\":\"white\",\"linecolor\":\"white\",\"ticks\":\"\",\"title\":{\"standoff\":15},\"zerolinecolor\":\"white\",\"zerolinewidth\":2},\"yaxis\":{\"automargin\":true,\"gridcolor\":\"white\",\"linecolor\":\"white\",\"ticks\":\"\",\"title\":{\"standoff\":15},\"zerolinecolor\":\"white\",\"zerolinewidth\":2}}},\"title\":{\"font\":{\"color\":\"#4D5663\"}},\"xaxis\":{\"gridcolor\":\"#E1E5ED\",\"showgrid\":true,\"tickfont\":{\"color\":\"#4D5663\"},\"title\":{\"font\":{\"color\":\"#4D5663\"},\"text\":\"\"},\"zerolinecolor\":\"#E1E5ED\"},\"yaxis\":{\"gridcolor\":\"#E1E5ED\",\"showgrid\":true,\"tickfont\":{\"color\":\"#4D5663\"},\"title\":{\"font\":{\"color\":\"#4D5663\"},\"text\":\"\"},\"zerolinecolor\":\"#E1E5ED\"}},                        {\"showLink\": true, \"linkText\": \"Export to plot.ly\", \"plotlyServerURL\": \"https://plot.ly\", \"responsive\": true}                    ).then(function(){\n",
       "                            \n",
       "var gd = document.getElementById('71ce6ed1-4f99-4ca9-927f-83fbe44826ee');\n",
       "var x = new MutationObserver(function (mutations, observer) {{\n",
       "        var display = window.getComputedStyle(gd).display;\n",
       "        if (!display || display === 'none') {{\n",
       "            console.log([gd, 'removed!']);\n",
       "            Plotly.purge(gd);\n",
       "            observer.disconnect();\n",
       "        }}\n",
       "}});\n",
       "\n",
       "// Listen for the removal of the full notebook cells\n",
       "var notebookContainer = gd.closest('#notebook-container');\n",
       "if (notebookContainer) {{\n",
       "    x.observe(notebookContainer, {childList: true});\n",
       "}}\n",
       "\n",
       "// Listen for the clearing of the current output cell\n",
       "var outputEl = gd.closest('.output');\n",
       "if (outputEl) {{\n",
       "    x.observe(outputEl, {childList: true});\n",
       "}}\n",
       "\n",
       "                        })                };                });            </script>        </div>"
      ]
     },
     "metadata": {},
     "output_type": "display_data"
    }
   ],
   "source": [
    "df.count().iplot(kind='bar')"
   ]
  },
  {
   "cell_type": "code",
   "execution_count": 21,
   "id": "1b4bae32",
   "metadata": {},
   "outputs": [
    {
     "data": {
      "text/html": [
       "<div>\n",
       "<style scoped>\n",
       "    .dataframe tbody tr th:only-of-type {\n",
       "        vertical-align: middle;\n",
       "    }\n",
       "\n",
       "    .dataframe tbody tr th {\n",
       "        vertical-align: top;\n",
       "    }\n",
       "\n",
       "    .dataframe thead th {\n",
       "        text-align: right;\n",
       "    }\n",
       "</style>\n",
       "<table border=\"1\" class=\"dataframe\">\n",
       "  <thead>\n",
       "    <tr style=\"text-align: right;\">\n",
       "      <th></th>\n",
       "      <th>A</th>\n",
       "      <th>B</th>\n",
       "      <th>C</th>\n",
       "      <th>D</th>\n",
       "    </tr>\n",
       "  </thead>\n",
       "  <tbody>\n",
       "    <tr>\n",
       "      <th>0</th>\n",
       "      <td>0.335676</td>\n",
       "      <td>-0.517443</td>\n",
       "      <td>-0.127373</td>\n",
       "      <td>-1.215285</td>\n",
       "    </tr>\n",
       "    <tr>\n",
       "      <th>1</th>\n",
       "      <td>-0.810987</td>\n",
       "      <td>2.600350</td>\n",
       "      <td>0.803418</td>\n",
       "      <td>1.096241</td>\n",
       "    </tr>\n",
       "    <tr>\n",
       "      <th>2</th>\n",
       "      <td>-2.631676</td>\n",
       "      <td>-0.398273</td>\n",
       "      <td>-1.296227</td>\n",
       "      <td>0.282391</td>\n",
       "    </tr>\n",
       "    <tr>\n",
       "      <th>3</th>\n",
       "      <td>0.577628</td>\n",
       "      <td>1.050747</td>\n",
       "      <td>1.617191</td>\n",
       "      <td>-0.640068</td>\n",
       "    </tr>\n",
       "    <tr>\n",
       "      <th>4</th>\n",
       "      <td>-0.225305</td>\n",
       "      <td>0.848428</td>\n",
       "      <td>-0.191352</td>\n",
       "      <td>1.390327</td>\n",
       "    </tr>\n",
       "    <tr>\n",
       "      <th>...</th>\n",
       "      <td>...</td>\n",
       "      <td>...</td>\n",
       "      <td>...</td>\n",
       "      <td>...</td>\n",
       "    </tr>\n",
       "    <tr>\n",
       "      <th>95</th>\n",
       "      <td>-1.487643</td>\n",
       "      <td>0.176274</td>\n",
       "      <td>0.424912</td>\n",
       "      <td>-1.255249</td>\n",
       "    </tr>\n",
       "    <tr>\n",
       "      <th>96</th>\n",
       "      <td>1.258773</td>\n",
       "      <td>0.545321</td>\n",
       "      <td>0.300847</td>\n",
       "      <td>-1.217090</td>\n",
       "    </tr>\n",
       "    <tr>\n",
       "      <th>97</th>\n",
       "      <td>0.064262</td>\n",
       "      <td>-1.522658</td>\n",
       "      <td>-0.735058</td>\n",
       "      <td>1.286939</td>\n",
       "    </tr>\n",
       "    <tr>\n",
       "      <th>98</th>\n",
       "      <td>-0.273087</td>\n",
       "      <td>-0.080790</td>\n",
       "      <td>-1.984883</td>\n",
       "      <td>-0.172309</td>\n",
       "    </tr>\n",
       "    <tr>\n",
       "      <th>99</th>\n",
       "      <td>2.392019</td>\n",
       "      <td>-0.206593</td>\n",
       "      <td>-0.186167</td>\n",
       "      <td>0.704304</td>\n",
       "    </tr>\n",
       "  </tbody>\n",
       "</table>\n",
       "<p>100 rows × 4 columns</p>\n",
       "</div>"
      ],
      "text/plain": [
       "           A         B         C         D\n",
       "0   0.335676 -0.517443 -0.127373 -1.215285\n",
       "1  -0.810987  2.600350  0.803418  1.096241\n",
       "2  -2.631676 -0.398273 -1.296227  0.282391\n",
       "3   0.577628  1.050747  1.617191 -0.640068\n",
       "4  -0.225305  0.848428 -0.191352  1.390327\n",
       "..       ...       ...       ...       ...\n",
       "95 -1.487643  0.176274  0.424912 -1.255249\n",
       "96  1.258773  0.545321  0.300847 -1.217090\n",
       "97  0.064262 -1.522658 -0.735058  1.286939\n",
       "98 -0.273087 -0.080790 -1.984883 -0.172309\n",
       "99  2.392019 -0.206593 -0.186167  0.704304\n",
       "\n",
       "[100 rows x 4 columns]"
      ]
     },
     "execution_count": 21,
     "metadata": {},
     "output_type": "execute_result"
    }
   ],
   "source": [
    "df"
   ]
  },
  {
   "cell_type": "code",
   "execution_count": 22,
   "id": "92d90dae",
   "metadata": {},
   "outputs": [
    {
     "data": {
      "application/vnd.plotly.v1+json": {
       "config": {
        "linkText": "Export to plot.ly",
        "plotlyServerURL": "https://plot.ly",
        "showLink": true
       },
       "data": [
        {
         "boxpoints": false,
         "line": {
          "width": 1.3
         },
         "marker": {
          "color": "rgba(255, 153, 51, 1.0)"
         },
         "name": "A",
         "orientation": "v",
         "type": "box",
         "y": [
          0.33567605600194994,
          -0.8109873503861798,
          -2.6316756978724447,
          0.5776275311286065,
          -0.22530496487367777,
          0.8097460374131469,
          -0.5115338215552406,
          -0.4590997186416238,
          -0.298577056088914,
          -0.28541368761683306,
          -0.5472911448565846,
          0.3027742133920709,
          0.8902345216571652,
          -0.9239113525121986,
          0.9416625216245742,
          -0.18066450525113226,
          -2.0881969759280192,
          0.47500151093148335,
          -1.2731709071783763,
          1.230559710728227,
          -0.1605185431067916,
          0.6015686401189955,
          1.0663771004856937,
          0.4339044154824729,
          0.42688970128877163,
          0.7278870362259178,
          -0.6948804563250303,
          -0.05374882813326524,
          -1.6336690547739716,
          -0.88579686362121,
          -0.9542553464180343,
          -0.5644192605571883,
          1.0782994643519894,
          0.49503871747449035,
          0.5343533913205508,
          1.447396904689215,
          0.804473836069314,
          0.3481074903159142,
          -0.2505714270670016,
          -0.9029133179431246,
          0.2940895274251988,
          0.14540457070201546,
          -0.10762877600905554,
          0.3053893258733171,
          0.598940030645167,
          0.7820125036292656,
          -0.8966714305533445,
          1.6606846244283409,
          0.5727604798690485,
          1.6231494486869715,
          -0.8105612809550491,
          -0.3923264306412344,
          -0.04246774635108637,
          -0.059903525664294535,
          -0.5311755088064984,
          -0.23453465907896814,
          -2.0232349749481413,
          -0.475191922450835,
          -0.40907645810611803,
          -0.1339567374388445,
          -2.7697162720257404,
          -1.358394353131801,
          -0.08178397964309239,
          0.7753013039142149,
          0.5360340367280473,
          0.2533268706667387,
          0.5625348411215483,
          0.31576535434829717,
          -1.206120024494666,
          0.048844511971718504,
          1.120232843572727,
          0.21992570366912945,
          -0.21448152530239026,
          -1.908920438887307,
          0.9638465930685435,
          0.7935170953105968,
          0.8460362189297203,
          0.8793126804341501,
          -0.3120587028701596,
          0.9023335833858086,
          -1.2657523325157283,
          1.268781693218166,
          -0.05215591066790494,
          0.6968094280163797,
          -1.189618503274249,
          1.8258605748682426,
          -1.6072554233354683,
          0.0468494169654665,
          0.6188673797537998,
          -0.35377270836903085,
          0.7879111619926648,
          1.0992184325469223,
          -0.3551296686529979,
          0.9551820492099591,
          -1.9799928033362035,
          -1.4876434001811865,
          1.258773185930191,
          0.06426248988592512,
          -0.27308672608175666,
          2.3920188360109895
         ]
        },
        {
         "boxpoints": false,
         "line": {
          "width": 1.3
         },
         "marker": {
          "color": "rgba(55, 128, 191, 1.0)"
         },
         "name": "B",
         "orientation": "v",
         "type": "box",
         "y": [
          -0.5174427882896812,
          2.6003500721367523,
          -0.398272656123329,
          1.0507472535838591,
          0.8484275564204568,
          0.34558531549137267,
          -0.7251750770576902,
          0.21203195288143903,
          1.0247005880785944,
          -0.41853128884587465,
          -0.5792595251450603,
          -0.23468009328856468,
          -0.37024797574697754,
          -1.6223191538820032,
          0.15822171939306529,
          0.7577979333440427,
          1.3104606801852252,
          0.354980393666831,
          1.0120449798349127,
          -1.3830630529587908,
          -0.7625692342748789,
          -0.031060772043171623,
          0.5876748574760096,
          -0.743381893549244,
          -0.07429448923367035,
          -1.2004104644731826,
          -0.24151882697923244,
          -2.320503904382237,
          -0.24087115581766094,
          -0.6987973244103791,
          -1.529215465871502,
          -0.4634558897134851,
          -0.517397324567097,
          -1.8826290407376154,
          -0.31550730650325126,
          -1.2810841938510928,
          -0.8165122345800369,
          0.010350999435031857,
          0.6307697461985253,
          0.6349949735690572,
          -1.3556578317900443,
          -0.07291038369075702,
          1.8848957700591833,
          -0.05777255081355184,
          0.6305221253983728,
          -0.977814856382125,
          1.2690335969192925,
          -0.5369021582866585,
          0.722476421578678,
          -0.6211934196164647,
          -0.3681602983448335,
          0.9156272215217325,
          -0.7906496269252035,
          1.245402244792277,
          -0.8609902609396055,
          1.5565591336143088,
          2.2655015589706453,
          -0.559343883766819,
          0.6072014775791178,
          0.18524797697217793,
          -0.5927180845146982,
          -0.4885482202160909,
          -0.2893087340183615,
          -0.09883201903432087,
          -0.5075521083179926,
          -0.021700889479004296,
          -1.305263590768384,
          -2.475515689150806,
          0.7843295779319387,
          -1.2032159148318333,
          1.9693577778767357,
          1.2238146565172854,
          1.1218344358044634,
          0.6674877264904224,
          1.2987751223433057,
          0.8637612322891047,
          0.7141219494868857,
          -0.5771529440751496,
          -1.2094988170327658,
          -0.30680557397477326,
          -1.5553797829605431,
          -1.7642989796422124,
          0.2592547356714931,
          2.168363029888972,
          0.030842989528504984,
          -1.6804497353868382,
          0.2818989496594489,
          -1.4778125028049618,
          -0.19193682085594233,
          0.6545811208782711,
          -0.6105512277782915,
          -0.5515806204315961,
          0.6817777225025149,
          -3.5935123694260622,
          -0.7399182083758457,
          0.17627441095701263,
          0.5453205448981414,
          -1.5226575299689897,
          -0.08078954284580486,
          -0.2065928315307047
         ]
        },
        {
         "boxpoints": false,
         "line": {
          "width": 1.3
         },
         "marker": {
          "color": "rgba(50, 171, 96, 1.0)"
         },
         "name": "C",
         "orientation": "v",
         "type": "box",
         "y": [
          -0.1273731034144319,
          0.8034179756806943,
          -1.2962268513591653,
          1.6171909704679153,
          -0.1913518478400872,
          -0.24719348349434403,
          -0.2575053212468563,
          0.5361937874809402,
          -0.34299576177883084,
          -0.422061097231771,
          0.3075629011819519,
          -0.05769047720344889,
          0.9375230337933363,
          0.42134994381321567,
          1.645771436901701,
          0.15570179343022572,
          -0.035488120203908034,
          -1.111127717248961,
          1.7488295852063047,
          -0.47725913826796484,
          -0.8951657268028664,
          1.040873912756864,
          0.6889517936390033,
          -0.6254565490192873,
          0.056607400359586675,
          -1.3344126648432137,
          0.5310244992109355,
          -0.4026060645353525,
          -1.0112905888470805,
          0.20254588806340293,
          -0.9398128398987691,
          0.29030816143088617,
          0.16960740519693995,
          -0.33546214813743086,
          -0.6318648534740554,
          -1.2603199668632525,
          -1.0584187303336114,
          -0.6584419154679033,
          -0.7761830707174558,
          0.18356733446499296,
          -0.6057873440205137,
          -0.38084706376348565,
          -0.055308437607390355,
          0.08121281945616167,
          0.7809925917005588,
          0.6784590127680238,
          -0.38320706289779743,
          -0.3812362488829061,
          -0.6858059697491599,
          0.420085435333433,
          -0.39589726553536614,
          -0.19222354626648713,
          -0.08390596200550164,
          0.7972359303415871,
          -0.6324179402608489,
          0.1421195234625367,
          0.057195156546059195,
          -0.314341651685965,
          0.9736859634741865,
          -2.9788993036423044,
          -0.6845441151492541,
          -0.5576943489797075,
          -1.3516323922134519,
          -0.9709362653080871,
          1.365256366153465,
          0.718956349712268,
          1.7339131565957542,
          -1.067851815371018,
          2.281657356242972,
          -1.007744798463298,
          -0.46677493557946326,
          -1.8191960234718,
          0.6336433726417379,
          -0.40964073312347576,
          -0.4470642019493151,
          1.0112267153589807,
          -0.26318140097456244,
          -1.7523284028838095,
          -1.397493698943379,
          0.4235660701861368,
          0.1259307601550791,
          2.1980836331430025,
          -0.3342919828009481,
          -0.26164888590349483,
          0.20436642301007998,
          -0.1777398559179107,
          0.10999343897028462,
          0.668650044421462,
          0.324701718534536,
          0.8905536096097691,
          0.4920584619743266,
          1.3408738529546866,
          0.13752194313626281,
          0.8088909918748413,
          1.2113437911270513,
          0.4249118524186255,
          0.30084655728003756,
          -0.7350581437557522,
          -1.9848828439828112,
          -0.1861666450404373
         ]
        },
        {
         "boxpoints": false,
         "line": {
          "width": 1.3
         },
         "marker": {
          "color": "rgba(128, 0, 128, 1.0)"
         },
         "name": "D",
         "orientation": "v",
         "type": "box",
         "y": [
          -1.2152851008211565,
          1.0962407727647794,
          0.2823908965066684,
          -0.6400684740103899,
          1.3903268293981896,
          -0.43630370787208284,
          1.6855131931434146,
          -0.9510958329218072,
          -0.6219085330422188,
          -0.9489707598641608,
          -0.698742389319351,
          -0.7742272368309635,
          -0.3410186360699531,
          -0.8397183898787279,
          0.7690901833270892,
          0.8840260416222037,
          -0.032686325892768694,
          -1.349531625789729,
          -0.7123989177524955,
          -0.04498944586512662,
          2.249757015409204,
          0.03491111501659019,
          -1.8688678320066794,
          -0.7707283779343044,
          1.0245726748841517,
          -0.6019804065389124,
          0.8900592546444966,
          -0.004287296778723674,
          0.8397354542570362,
          -0.8455151163471136,
          -1.1570187828662188,
          -0.8080015750324793,
          1.1366737065640298,
          0.20018527553765764,
          0.2042123536287555,
          -1.0756118862161772,
          0.8143163347496459,
          -1.252014538609369,
          0.6733080904317835,
          -0.48688831904411545,
          -0.23028457498088148,
          1.9164650989757752,
          0.04696896761610842,
          -0.18478364368208358,
          0.6562449701171231,
          0.970407885869781,
          0.5305986929009918,
          1.4513113578274168,
          -0.3966058987582575,
          -0.7543690817060114,
          -0.19486789883670178,
          -0.3710372637818589,
          1.6469037256148995,
          0.6649176182225256,
          1.4478534444262872,
          0.014408312854281256,
          -0.3051805260346321,
          -0.21018848007375243,
          -0.3905530081100771,
          -0.12450602429243515,
          2.0313701611809596,
          1.230245442258353,
          1.101503992277737,
          0.7190159022852662,
          1.2220747509649195,
          1.0544433483124593,
          1.2243129070919712,
          -1.2257988521518608,
          2.012474194307803,
          -2.2196512022802324,
          1.240136683313242,
          -0.2552959649056867,
          -0.805767928666894,
          1.0173382130401711,
          -0.205032689441431,
          0.948533066179219,
          -0.7681816201859842,
          0.18470324422208365,
          -1.1318009661745418,
          0.9932173025919385,
          0.8224097988300498,
          1.523893031642696,
          -0.6203463645126658,
          -0.02936686658955437,
          0.25822352747392713,
          0.8206167221288364,
          0.4955907866340889,
          -1.607998054022176,
          1.656886245540623,
          -0.28242404280303507,
          -0.053329563698971974,
          -2.2066591204599866,
          0.6330151286390073,
          -1.173645519287031,
          -0.8934444114391192,
          -1.2552486674952328,
          -1.2170900382830623,
          1.2869385915640499,
          -0.17230883936722877,
          0.7043037370227436
         ]
        }
       ],
       "layout": {
        "legend": {
         "bgcolor": "#F5F6F9",
         "font": {
          "color": "#4D5663"
         }
        },
        "paper_bgcolor": "#F5F6F9",
        "plot_bgcolor": "#F5F6F9",
        "template": {
         "data": {
          "bar": [
           {
            "error_x": {
             "color": "#2a3f5f"
            },
            "error_y": {
             "color": "#2a3f5f"
            },
            "marker": {
             "line": {
              "color": "#E5ECF6",
              "width": 0.5
             },
             "pattern": {
              "fillmode": "overlay",
              "size": 10,
              "solidity": 0.2
             }
            },
            "type": "bar"
           }
          ],
          "barpolar": [
           {
            "marker": {
             "line": {
              "color": "#E5ECF6",
              "width": 0.5
             },
             "pattern": {
              "fillmode": "overlay",
              "size": 10,
              "solidity": 0.2
             }
            },
            "type": "barpolar"
           }
          ],
          "carpet": [
           {
            "aaxis": {
             "endlinecolor": "#2a3f5f",
             "gridcolor": "white",
             "linecolor": "white",
             "minorgridcolor": "white",
             "startlinecolor": "#2a3f5f"
            },
            "baxis": {
             "endlinecolor": "#2a3f5f",
             "gridcolor": "white",
             "linecolor": "white",
             "minorgridcolor": "white",
             "startlinecolor": "#2a3f5f"
            },
            "type": "carpet"
           }
          ],
          "choropleth": [
           {
            "colorbar": {
             "outlinewidth": 0,
             "ticks": ""
            },
            "type": "choropleth"
           }
          ],
          "contour": [
           {
            "colorbar": {
             "outlinewidth": 0,
             "ticks": ""
            },
            "colorscale": [
             [
              0,
              "#0d0887"
             ],
             [
              0.1111111111111111,
              "#46039f"
             ],
             [
              0.2222222222222222,
              "#7201a8"
             ],
             [
              0.3333333333333333,
              "#9c179e"
             ],
             [
              0.4444444444444444,
              "#bd3786"
             ],
             [
              0.5555555555555556,
              "#d8576b"
             ],
             [
              0.6666666666666666,
              "#ed7953"
             ],
             [
              0.7777777777777778,
              "#fb9f3a"
             ],
             [
              0.8888888888888888,
              "#fdca26"
             ],
             [
              1,
              "#f0f921"
             ]
            ],
            "type": "contour"
           }
          ],
          "contourcarpet": [
           {
            "colorbar": {
             "outlinewidth": 0,
             "ticks": ""
            },
            "type": "contourcarpet"
           }
          ],
          "heatmap": [
           {
            "colorbar": {
             "outlinewidth": 0,
             "ticks": ""
            },
            "colorscale": [
             [
              0,
              "#0d0887"
             ],
             [
              0.1111111111111111,
              "#46039f"
             ],
             [
              0.2222222222222222,
              "#7201a8"
             ],
             [
              0.3333333333333333,
              "#9c179e"
             ],
             [
              0.4444444444444444,
              "#bd3786"
             ],
             [
              0.5555555555555556,
              "#d8576b"
             ],
             [
              0.6666666666666666,
              "#ed7953"
             ],
             [
              0.7777777777777778,
              "#fb9f3a"
             ],
             [
              0.8888888888888888,
              "#fdca26"
             ],
             [
              1,
              "#f0f921"
             ]
            ],
            "type": "heatmap"
           }
          ],
          "heatmapgl": [
           {
            "colorbar": {
             "outlinewidth": 0,
             "ticks": ""
            },
            "colorscale": [
             [
              0,
              "#0d0887"
             ],
             [
              0.1111111111111111,
              "#46039f"
             ],
             [
              0.2222222222222222,
              "#7201a8"
             ],
             [
              0.3333333333333333,
              "#9c179e"
             ],
             [
              0.4444444444444444,
              "#bd3786"
             ],
             [
              0.5555555555555556,
              "#d8576b"
             ],
             [
              0.6666666666666666,
              "#ed7953"
             ],
             [
              0.7777777777777778,
              "#fb9f3a"
             ],
             [
              0.8888888888888888,
              "#fdca26"
             ],
             [
              1,
              "#f0f921"
             ]
            ],
            "type": "heatmapgl"
           }
          ],
          "histogram": [
           {
            "marker": {
             "pattern": {
              "fillmode": "overlay",
              "size": 10,
              "solidity": 0.2
             }
            },
            "type": "histogram"
           }
          ],
          "histogram2d": [
           {
            "colorbar": {
             "outlinewidth": 0,
             "ticks": ""
            },
            "colorscale": [
             [
              0,
              "#0d0887"
             ],
             [
              0.1111111111111111,
              "#46039f"
             ],
             [
              0.2222222222222222,
              "#7201a8"
             ],
             [
              0.3333333333333333,
              "#9c179e"
             ],
             [
              0.4444444444444444,
              "#bd3786"
             ],
             [
              0.5555555555555556,
              "#d8576b"
             ],
             [
              0.6666666666666666,
              "#ed7953"
             ],
             [
              0.7777777777777778,
              "#fb9f3a"
             ],
             [
              0.8888888888888888,
              "#fdca26"
             ],
             [
              1,
              "#f0f921"
             ]
            ],
            "type": "histogram2d"
           }
          ],
          "histogram2dcontour": [
           {
            "colorbar": {
             "outlinewidth": 0,
             "ticks": ""
            },
            "colorscale": [
             [
              0,
              "#0d0887"
             ],
             [
              0.1111111111111111,
              "#46039f"
             ],
             [
              0.2222222222222222,
              "#7201a8"
             ],
             [
              0.3333333333333333,
              "#9c179e"
             ],
             [
              0.4444444444444444,
              "#bd3786"
             ],
             [
              0.5555555555555556,
              "#d8576b"
             ],
             [
              0.6666666666666666,
              "#ed7953"
             ],
             [
              0.7777777777777778,
              "#fb9f3a"
             ],
             [
              0.8888888888888888,
              "#fdca26"
             ],
             [
              1,
              "#f0f921"
             ]
            ],
            "type": "histogram2dcontour"
           }
          ],
          "mesh3d": [
           {
            "colorbar": {
             "outlinewidth": 0,
             "ticks": ""
            },
            "type": "mesh3d"
           }
          ],
          "parcoords": [
           {
            "line": {
             "colorbar": {
              "outlinewidth": 0,
              "ticks": ""
             }
            },
            "type": "parcoords"
           }
          ],
          "pie": [
           {
            "automargin": true,
            "type": "pie"
           }
          ],
          "scatter": [
           {
            "fillpattern": {
             "fillmode": "overlay",
             "size": 10,
             "solidity": 0.2
            },
            "type": "scatter"
           }
          ],
          "scatter3d": [
           {
            "line": {
             "colorbar": {
              "outlinewidth": 0,
              "ticks": ""
             }
            },
            "marker": {
             "colorbar": {
              "outlinewidth": 0,
              "ticks": ""
             }
            },
            "type": "scatter3d"
           }
          ],
          "scattercarpet": [
           {
            "marker": {
             "colorbar": {
              "outlinewidth": 0,
              "ticks": ""
             }
            },
            "type": "scattercarpet"
           }
          ],
          "scattergeo": [
           {
            "marker": {
             "colorbar": {
              "outlinewidth": 0,
              "ticks": ""
             }
            },
            "type": "scattergeo"
           }
          ],
          "scattergl": [
           {
            "marker": {
             "colorbar": {
              "outlinewidth": 0,
              "ticks": ""
             }
            },
            "type": "scattergl"
           }
          ],
          "scattermapbox": [
           {
            "marker": {
             "colorbar": {
              "outlinewidth": 0,
              "ticks": ""
             }
            },
            "type": "scattermapbox"
           }
          ],
          "scatterpolar": [
           {
            "marker": {
             "colorbar": {
              "outlinewidth": 0,
              "ticks": ""
             }
            },
            "type": "scatterpolar"
           }
          ],
          "scatterpolargl": [
           {
            "marker": {
             "colorbar": {
              "outlinewidth": 0,
              "ticks": ""
             }
            },
            "type": "scatterpolargl"
           }
          ],
          "scatterternary": [
           {
            "marker": {
             "colorbar": {
              "outlinewidth": 0,
              "ticks": ""
             }
            },
            "type": "scatterternary"
           }
          ],
          "surface": [
           {
            "colorbar": {
             "outlinewidth": 0,
             "ticks": ""
            },
            "colorscale": [
             [
              0,
              "#0d0887"
             ],
             [
              0.1111111111111111,
              "#46039f"
             ],
             [
              0.2222222222222222,
              "#7201a8"
             ],
             [
              0.3333333333333333,
              "#9c179e"
             ],
             [
              0.4444444444444444,
              "#bd3786"
             ],
             [
              0.5555555555555556,
              "#d8576b"
             ],
             [
              0.6666666666666666,
              "#ed7953"
             ],
             [
              0.7777777777777778,
              "#fb9f3a"
             ],
             [
              0.8888888888888888,
              "#fdca26"
             ],
             [
              1,
              "#f0f921"
             ]
            ],
            "type": "surface"
           }
          ],
          "table": [
           {
            "cells": {
             "fill": {
              "color": "#EBF0F8"
             },
             "line": {
              "color": "white"
             }
            },
            "header": {
             "fill": {
              "color": "#C8D4E3"
             },
             "line": {
              "color": "white"
             }
            },
            "type": "table"
           }
          ]
         },
         "layout": {
          "annotationdefaults": {
           "arrowcolor": "#2a3f5f",
           "arrowhead": 0,
           "arrowwidth": 1
          },
          "autotypenumbers": "strict",
          "coloraxis": {
           "colorbar": {
            "outlinewidth": 0,
            "ticks": ""
           }
          },
          "colorscale": {
           "diverging": [
            [
             0,
             "#8e0152"
            ],
            [
             0.1,
             "#c51b7d"
            ],
            [
             0.2,
             "#de77ae"
            ],
            [
             0.3,
             "#f1b6da"
            ],
            [
             0.4,
             "#fde0ef"
            ],
            [
             0.5,
             "#f7f7f7"
            ],
            [
             0.6,
             "#e6f5d0"
            ],
            [
             0.7,
             "#b8e186"
            ],
            [
             0.8,
             "#7fbc41"
            ],
            [
             0.9,
             "#4d9221"
            ],
            [
             1,
             "#276419"
            ]
           ],
           "sequential": [
            [
             0,
             "#0d0887"
            ],
            [
             0.1111111111111111,
             "#46039f"
            ],
            [
             0.2222222222222222,
             "#7201a8"
            ],
            [
             0.3333333333333333,
             "#9c179e"
            ],
            [
             0.4444444444444444,
             "#bd3786"
            ],
            [
             0.5555555555555556,
             "#d8576b"
            ],
            [
             0.6666666666666666,
             "#ed7953"
            ],
            [
             0.7777777777777778,
             "#fb9f3a"
            ],
            [
             0.8888888888888888,
             "#fdca26"
            ],
            [
             1,
             "#f0f921"
            ]
           ],
           "sequentialminus": [
            [
             0,
             "#0d0887"
            ],
            [
             0.1111111111111111,
             "#46039f"
            ],
            [
             0.2222222222222222,
             "#7201a8"
            ],
            [
             0.3333333333333333,
             "#9c179e"
            ],
            [
             0.4444444444444444,
             "#bd3786"
            ],
            [
             0.5555555555555556,
             "#d8576b"
            ],
            [
             0.6666666666666666,
             "#ed7953"
            ],
            [
             0.7777777777777778,
             "#fb9f3a"
            ],
            [
             0.8888888888888888,
             "#fdca26"
            ],
            [
             1,
             "#f0f921"
            ]
           ]
          },
          "colorway": [
           "#636efa",
           "#EF553B",
           "#00cc96",
           "#ab63fa",
           "#FFA15A",
           "#19d3f3",
           "#FF6692",
           "#B6E880",
           "#FF97FF",
           "#FECB52"
          ],
          "font": {
           "color": "#2a3f5f"
          },
          "geo": {
           "bgcolor": "white",
           "lakecolor": "white",
           "landcolor": "#E5ECF6",
           "showlakes": true,
           "showland": true,
           "subunitcolor": "white"
          },
          "hoverlabel": {
           "align": "left"
          },
          "hovermode": "closest",
          "mapbox": {
           "style": "light"
          },
          "paper_bgcolor": "white",
          "plot_bgcolor": "#E5ECF6",
          "polar": {
           "angularaxis": {
            "gridcolor": "white",
            "linecolor": "white",
            "ticks": ""
           },
           "bgcolor": "#E5ECF6",
           "radialaxis": {
            "gridcolor": "white",
            "linecolor": "white",
            "ticks": ""
           }
          },
          "scene": {
           "xaxis": {
            "backgroundcolor": "#E5ECF6",
            "gridcolor": "white",
            "gridwidth": 2,
            "linecolor": "white",
            "showbackground": true,
            "ticks": "",
            "zerolinecolor": "white"
           },
           "yaxis": {
            "backgroundcolor": "#E5ECF6",
            "gridcolor": "white",
            "gridwidth": 2,
            "linecolor": "white",
            "showbackground": true,
            "ticks": "",
            "zerolinecolor": "white"
           },
           "zaxis": {
            "backgroundcolor": "#E5ECF6",
            "gridcolor": "white",
            "gridwidth": 2,
            "linecolor": "white",
            "showbackground": true,
            "ticks": "",
            "zerolinecolor": "white"
           }
          },
          "shapedefaults": {
           "line": {
            "color": "#2a3f5f"
           }
          },
          "ternary": {
           "aaxis": {
            "gridcolor": "white",
            "linecolor": "white",
            "ticks": ""
           },
           "baxis": {
            "gridcolor": "white",
            "linecolor": "white",
            "ticks": ""
           },
           "bgcolor": "#E5ECF6",
           "caxis": {
            "gridcolor": "white",
            "linecolor": "white",
            "ticks": ""
           }
          },
          "title": {
           "x": 0.05
          },
          "xaxis": {
           "automargin": true,
           "gridcolor": "white",
           "linecolor": "white",
           "ticks": "",
           "title": {
            "standoff": 15
           },
           "zerolinecolor": "white",
           "zerolinewidth": 2
          },
          "yaxis": {
           "automargin": true,
           "gridcolor": "white",
           "linecolor": "white",
           "ticks": "",
           "title": {
            "standoff": 15
           },
           "zerolinecolor": "white",
           "zerolinewidth": 2
          }
         }
        },
        "title": {
         "font": {
          "color": "#4D5663"
         }
        },
        "xaxis": {
         "gridcolor": "#E1E5ED",
         "showgrid": true,
         "tickfont": {
          "color": "#4D5663"
         },
         "title": {
          "font": {
           "color": "#4D5663"
          },
          "text": ""
         },
         "zerolinecolor": "#E1E5ED"
        },
        "yaxis": {
         "gridcolor": "#E1E5ED",
         "showgrid": true,
         "tickfont": {
          "color": "#4D5663"
         },
         "title": {
          "font": {
           "color": "#4D5663"
          },
          "text": ""
         },
         "zerolinecolor": "#E1E5ED"
        }
       }
      },
      "text/html": [
       "<div>                            <div id=\"a8d83f10-f235-4fdf-8952-6cdd6e232ad1\" class=\"plotly-graph-div\" style=\"height:525px; width:100%;\"></div>            <script type=\"text/javascript\">                require([\"plotly\"], function(Plotly) {                    window.PLOTLYENV=window.PLOTLYENV || {};\n",
       "                    window.PLOTLYENV.BASE_URL='https://plot.ly';                                    if (document.getElementById(\"a8d83f10-f235-4fdf-8952-6cdd6e232ad1\")) {                    Plotly.newPlot(                        \"a8d83f10-f235-4fdf-8952-6cdd6e232ad1\",                        [{\"boxpoints\":false,\"line\":{\"width\":1.3},\"marker\":{\"color\":\"rgba(255, 153, 51, 1.0)\"},\"name\":\"A\",\"orientation\":\"v\",\"y\":[0.33567605600194994,-0.8109873503861798,-2.6316756978724447,0.5776275311286065,-0.22530496487367777,0.8097460374131469,-0.5115338215552406,-0.4590997186416238,-0.298577056088914,-0.28541368761683306,-0.5472911448565846,0.3027742133920709,0.8902345216571652,-0.9239113525121986,0.9416625216245742,-0.18066450525113226,-2.0881969759280192,0.47500151093148335,-1.2731709071783763,1.230559710728227,-0.1605185431067916,0.6015686401189955,1.0663771004856937,0.4339044154824729,0.42688970128877163,0.7278870362259178,-0.6948804563250303,-0.05374882813326524,-1.6336690547739716,-0.88579686362121,-0.9542553464180343,-0.5644192605571883,1.0782994643519894,0.49503871747449035,0.5343533913205508,1.447396904689215,0.804473836069314,0.3481074903159142,-0.2505714270670016,-0.9029133179431246,0.2940895274251988,0.14540457070201546,-0.10762877600905554,0.3053893258733171,0.598940030645167,0.7820125036292656,-0.8966714305533445,1.6606846244283409,0.5727604798690485,1.6231494486869715,-0.8105612809550491,-0.3923264306412344,-0.04246774635108637,-0.059903525664294535,-0.5311755088064984,-0.23453465907896814,-2.0232349749481413,-0.475191922450835,-0.40907645810611803,-0.1339567374388445,-2.7697162720257404,-1.358394353131801,-0.08178397964309239,0.7753013039142149,0.5360340367280473,0.2533268706667387,0.5625348411215483,0.31576535434829717,-1.206120024494666,0.048844511971718504,1.120232843572727,0.21992570366912945,-0.21448152530239026,-1.908920438887307,0.9638465930685435,0.7935170953105968,0.8460362189297203,0.8793126804341501,-0.3120587028701596,0.9023335833858086,-1.2657523325157283,1.268781693218166,-0.05215591066790494,0.6968094280163797,-1.189618503274249,1.8258605748682426,-1.6072554233354683,0.0468494169654665,0.6188673797537998,-0.35377270836903085,0.7879111619926648,1.0992184325469223,-0.3551296686529979,0.9551820492099591,-1.9799928033362035,-1.4876434001811865,1.258773185930191,0.06426248988592512,-0.27308672608175666,2.3920188360109895],\"type\":\"box\"},{\"boxpoints\":false,\"line\":{\"width\":1.3},\"marker\":{\"color\":\"rgba(55, 128, 191, 1.0)\"},\"name\":\"B\",\"orientation\":\"v\",\"y\":[-0.5174427882896812,2.6003500721367523,-0.398272656123329,1.0507472535838591,0.8484275564204568,0.34558531549137267,-0.7251750770576902,0.21203195288143903,1.0247005880785944,-0.41853128884587465,-0.5792595251450603,-0.23468009328856468,-0.37024797574697754,-1.6223191538820032,0.15822171939306529,0.7577979333440427,1.3104606801852252,0.354980393666831,1.0120449798349127,-1.3830630529587908,-0.7625692342748789,-0.031060772043171623,0.5876748574760096,-0.743381893549244,-0.07429448923367035,-1.2004104644731826,-0.24151882697923244,-2.320503904382237,-0.24087115581766094,-0.6987973244103791,-1.529215465871502,-0.4634558897134851,-0.517397324567097,-1.8826290407376154,-0.31550730650325126,-1.2810841938510928,-0.8165122345800369,0.010350999435031857,0.6307697461985253,0.6349949735690572,-1.3556578317900443,-0.07291038369075702,1.8848957700591833,-0.05777255081355184,0.6305221253983728,-0.977814856382125,1.2690335969192925,-0.5369021582866585,0.722476421578678,-0.6211934196164647,-0.3681602983448335,0.9156272215217325,-0.7906496269252035,1.245402244792277,-0.8609902609396055,1.5565591336143088,2.2655015589706453,-0.559343883766819,0.6072014775791178,0.18524797697217793,-0.5927180845146982,-0.4885482202160909,-0.2893087340183615,-0.09883201903432087,-0.5075521083179926,-0.021700889479004296,-1.305263590768384,-2.475515689150806,0.7843295779319387,-1.2032159148318333,1.9693577778767357,1.2238146565172854,1.1218344358044634,0.6674877264904224,1.2987751223433057,0.8637612322891047,0.7141219494868857,-0.5771529440751496,-1.2094988170327658,-0.30680557397477326,-1.5553797829605431,-1.7642989796422124,0.2592547356714931,2.168363029888972,0.030842989528504984,-1.6804497353868382,0.2818989496594489,-1.4778125028049618,-0.19193682085594233,0.6545811208782711,-0.6105512277782915,-0.5515806204315961,0.6817777225025149,-3.5935123694260622,-0.7399182083758457,0.17627441095701263,0.5453205448981414,-1.5226575299689897,-0.08078954284580486,-0.2065928315307047],\"type\":\"box\"},{\"boxpoints\":false,\"line\":{\"width\":1.3},\"marker\":{\"color\":\"rgba(50, 171, 96, 1.0)\"},\"name\":\"C\",\"orientation\":\"v\",\"y\":[-0.1273731034144319,0.8034179756806943,-1.2962268513591653,1.6171909704679153,-0.1913518478400872,-0.24719348349434403,-0.2575053212468563,0.5361937874809402,-0.34299576177883084,-0.422061097231771,0.3075629011819519,-0.05769047720344889,0.9375230337933363,0.42134994381321567,1.645771436901701,0.15570179343022572,-0.035488120203908034,-1.111127717248961,1.7488295852063047,-0.47725913826796484,-0.8951657268028664,1.040873912756864,0.6889517936390033,-0.6254565490192873,0.056607400359586675,-1.3344126648432137,0.5310244992109355,-0.4026060645353525,-1.0112905888470805,0.20254588806340293,-0.9398128398987691,0.29030816143088617,0.16960740519693995,-0.33546214813743086,-0.6318648534740554,-1.2603199668632525,-1.0584187303336114,-0.6584419154679033,-0.7761830707174558,0.18356733446499296,-0.6057873440205137,-0.38084706376348565,-0.055308437607390355,0.08121281945616167,0.7809925917005588,0.6784590127680238,-0.38320706289779743,-0.3812362488829061,-0.6858059697491599,0.420085435333433,-0.39589726553536614,-0.19222354626648713,-0.08390596200550164,0.7972359303415871,-0.6324179402608489,0.1421195234625367,0.057195156546059195,-0.314341651685965,0.9736859634741865,-2.9788993036423044,-0.6845441151492541,-0.5576943489797075,-1.3516323922134519,-0.9709362653080871,1.365256366153465,0.718956349712268,1.7339131565957542,-1.067851815371018,2.281657356242972,-1.007744798463298,-0.46677493557946326,-1.8191960234718,0.6336433726417379,-0.40964073312347576,-0.4470642019493151,1.0112267153589807,-0.26318140097456244,-1.7523284028838095,-1.397493698943379,0.4235660701861368,0.1259307601550791,2.1980836331430025,-0.3342919828009481,-0.26164888590349483,0.20436642301007998,-0.1777398559179107,0.10999343897028462,0.668650044421462,0.324701718534536,0.8905536096097691,0.4920584619743266,1.3408738529546866,0.13752194313626281,0.8088909918748413,1.2113437911270513,0.4249118524186255,0.30084655728003756,-0.7350581437557522,-1.9848828439828112,-0.1861666450404373],\"type\":\"box\"},{\"boxpoints\":false,\"line\":{\"width\":1.3},\"marker\":{\"color\":\"rgba(128, 0, 128, 1.0)\"},\"name\":\"D\",\"orientation\":\"v\",\"y\":[-1.2152851008211565,1.0962407727647794,0.2823908965066684,-0.6400684740103899,1.3903268293981896,-0.43630370787208284,1.6855131931434146,-0.9510958329218072,-0.6219085330422188,-0.9489707598641608,-0.698742389319351,-0.7742272368309635,-0.3410186360699531,-0.8397183898787279,0.7690901833270892,0.8840260416222037,-0.032686325892768694,-1.349531625789729,-0.7123989177524955,-0.04498944586512662,2.249757015409204,0.03491111501659019,-1.8688678320066794,-0.7707283779343044,1.0245726748841517,-0.6019804065389124,0.8900592546444966,-0.004287296778723674,0.8397354542570362,-0.8455151163471136,-1.1570187828662188,-0.8080015750324793,1.1366737065640298,0.20018527553765764,0.2042123536287555,-1.0756118862161772,0.8143163347496459,-1.252014538609369,0.6733080904317835,-0.48688831904411545,-0.23028457498088148,1.9164650989757752,0.04696896761610842,-0.18478364368208358,0.6562449701171231,0.970407885869781,0.5305986929009918,1.4513113578274168,-0.3966058987582575,-0.7543690817060114,-0.19486789883670178,-0.3710372637818589,1.6469037256148995,0.6649176182225256,1.4478534444262872,0.014408312854281256,-0.3051805260346321,-0.21018848007375243,-0.3905530081100771,-0.12450602429243515,2.0313701611809596,1.230245442258353,1.101503992277737,0.7190159022852662,1.2220747509649195,1.0544433483124593,1.2243129070919712,-1.2257988521518608,2.012474194307803,-2.2196512022802324,1.240136683313242,-0.2552959649056867,-0.805767928666894,1.0173382130401711,-0.205032689441431,0.948533066179219,-0.7681816201859842,0.18470324422208365,-1.1318009661745418,0.9932173025919385,0.8224097988300498,1.523893031642696,-0.6203463645126658,-0.02936686658955437,0.25822352747392713,0.8206167221288364,0.4955907866340889,-1.607998054022176,1.656886245540623,-0.28242404280303507,-0.053329563698971974,-2.2066591204599866,0.6330151286390073,-1.173645519287031,-0.8934444114391192,-1.2552486674952328,-1.2170900382830623,1.2869385915640499,-0.17230883936722877,0.7043037370227436],\"type\":\"box\"}],                        {\"legend\":{\"bgcolor\":\"#F5F6F9\",\"font\":{\"color\":\"#4D5663\"}},\"paper_bgcolor\":\"#F5F6F9\",\"plot_bgcolor\":\"#F5F6F9\",\"template\":{\"data\":{\"barpolar\":[{\"marker\":{\"line\":{\"color\":\"#E5ECF6\",\"width\":0.5},\"pattern\":{\"fillmode\":\"overlay\",\"size\":10,\"solidity\":0.2}},\"type\":\"barpolar\"}],\"bar\":[{\"error_x\":{\"color\":\"#2a3f5f\"},\"error_y\":{\"color\":\"#2a3f5f\"},\"marker\":{\"line\":{\"color\":\"#E5ECF6\",\"width\":0.5},\"pattern\":{\"fillmode\":\"overlay\",\"size\":10,\"solidity\":0.2}},\"type\":\"bar\"}],\"carpet\":[{\"aaxis\":{\"endlinecolor\":\"#2a3f5f\",\"gridcolor\":\"white\",\"linecolor\":\"white\",\"minorgridcolor\":\"white\",\"startlinecolor\":\"#2a3f5f\"},\"baxis\":{\"endlinecolor\":\"#2a3f5f\",\"gridcolor\":\"white\",\"linecolor\":\"white\",\"minorgridcolor\":\"white\",\"startlinecolor\":\"#2a3f5f\"},\"type\":\"carpet\"}],\"choropleth\":[{\"colorbar\":{\"outlinewidth\":0,\"ticks\":\"\"},\"type\":\"choropleth\"}],\"contourcarpet\":[{\"colorbar\":{\"outlinewidth\":0,\"ticks\":\"\"},\"type\":\"contourcarpet\"}],\"contour\":[{\"colorbar\":{\"outlinewidth\":0,\"ticks\":\"\"},\"colorscale\":[[0.0,\"#0d0887\"],[0.1111111111111111,\"#46039f\"],[0.2222222222222222,\"#7201a8\"],[0.3333333333333333,\"#9c179e\"],[0.4444444444444444,\"#bd3786\"],[0.5555555555555556,\"#d8576b\"],[0.6666666666666666,\"#ed7953\"],[0.7777777777777778,\"#fb9f3a\"],[0.8888888888888888,\"#fdca26\"],[1.0,\"#f0f921\"]],\"type\":\"contour\"}],\"heatmapgl\":[{\"colorbar\":{\"outlinewidth\":0,\"ticks\":\"\"},\"colorscale\":[[0.0,\"#0d0887\"],[0.1111111111111111,\"#46039f\"],[0.2222222222222222,\"#7201a8\"],[0.3333333333333333,\"#9c179e\"],[0.4444444444444444,\"#bd3786\"],[0.5555555555555556,\"#d8576b\"],[0.6666666666666666,\"#ed7953\"],[0.7777777777777778,\"#fb9f3a\"],[0.8888888888888888,\"#fdca26\"],[1.0,\"#f0f921\"]],\"type\":\"heatmapgl\"}],\"heatmap\":[{\"colorbar\":{\"outlinewidth\":0,\"ticks\":\"\"},\"colorscale\":[[0.0,\"#0d0887\"],[0.1111111111111111,\"#46039f\"],[0.2222222222222222,\"#7201a8\"],[0.3333333333333333,\"#9c179e\"],[0.4444444444444444,\"#bd3786\"],[0.5555555555555556,\"#d8576b\"],[0.6666666666666666,\"#ed7953\"],[0.7777777777777778,\"#fb9f3a\"],[0.8888888888888888,\"#fdca26\"],[1.0,\"#f0f921\"]],\"type\":\"heatmap\"}],\"histogram2dcontour\":[{\"colorbar\":{\"outlinewidth\":0,\"ticks\":\"\"},\"colorscale\":[[0.0,\"#0d0887\"],[0.1111111111111111,\"#46039f\"],[0.2222222222222222,\"#7201a8\"],[0.3333333333333333,\"#9c179e\"],[0.4444444444444444,\"#bd3786\"],[0.5555555555555556,\"#d8576b\"],[0.6666666666666666,\"#ed7953\"],[0.7777777777777778,\"#fb9f3a\"],[0.8888888888888888,\"#fdca26\"],[1.0,\"#f0f921\"]],\"type\":\"histogram2dcontour\"}],\"histogram2d\":[{\"colorbar\":{\"outlinewidth\":0,\"ticks\":\"\"},\"colorscale\":[[0.0,\"#0d0887\"],[0.1111111111111111,\"#46039f\"],[0.2222222222222222,\"#7201a8\"],[0.3333333333333333,\"#9c179e\"],[0.4444444444444444,\"#bd3786\"],[0.5555555555555556,\"#d8576b\"],[0.6666666666666666,\"#ed7953\"],[0.7777777777777778,\"#fb9f3a\"],[0.8888888888888888,\"#fdca26\"],[1.0,\"#f0f921\"]],\"type\":\"histogram2d\"}],\"histogram\":[{\"marker\":{\"pattern\":{\"fillmode\":\"overlay\",\"size\":10,\"solidity\":0.2}},\"type\":\"histogram\"}],\"mesh3d\":[{\"colorbar\":{\"outlinewidth\":0,\"ticks\":\"\"},\"type\":\"mesh3d\"}],\"parcoords\":[{\"line\":{\"colorbar\":{\"outlinewidth\":0,\"ticks\":\"\"}},\"type\":\"parcoords\"}],\"pie\":[{\"automargin\":true,\"type\":\"pie\"}],\"scatter3d\":[{\"line\":{\"colorbar\":{\"outlinewidth\":0,\"ticks\":\"\"}},\"marker\":{\"colorbar\":{\"outlinewidth\":0,\"ticks\":\"\"}},\"type\":\"scatter3d\"}],\"scattercarpet\":[{\"marker\":{\"colorbar\":{\"outlinewidth\":0,\"ticks\":\"\"}},\"type\":\"scattercarpet\"}],\"scattergeo\":[{\"marker\":{\"colorbar\":{\"outlinewidth\":0,\"ticks\":\"\"}},\"type\":\"scattergeo\"}],\"scattergl\":[{\"marker\":{\"colorbar\":{\"outlinewidth\":0,\"ticks\":\"\"}},\"type\":\"scattergl\"}],\"scattermapbox\":[{\"marker\":{\"colorbar\":{\"outlinewidth\":0,\"ticks\":\"\"}},\"type\":\"scattermapbox\"}],\"scatterpolargl\":[{\"marker\":{\"colorbar\":{\"outlinewidth\":0,\"ticks\":\"\"}},\"type\":\"scatterpolargl\"}],\"scatterpolar\":[{\"marker\":{\"colorbar\":{\"outlinewidth\":0,\"ticks\":\"\"}},\"type\":\"scatterpolar\"}],\"scatter\":[{\"fillpattern\":{\"fillmode\":\"overlay\",\"size\":10,\"solidity\":0.2},\"type\":\"scatter\"}],\"scatterternary\":[{\"marker\":{\"colorbar\":{\"outlinewidth\":0,\"ticks\":\"\"}},\"type\":\"scatterternary\"}],\"surface\":[{\"colorbar\":{\"outlinewidth\":0,\"ticks\":\"\"},\"colorscale\":[[0.0,\"#0d0887\"],[0.1111111111111111,\"#46039f\"],[0.2222222222222222,\"#7201a8\"],[0.3333333333333333,\"#9c179e\"],[0.4444444444444444,\"#bd3786\"],[0.5555555555555556,\"#d8576b\"],[0.6666666666666666,\"#ed7953\"],[0.7777777777777778,\"#fb9f3a\"],[0.8888888888888888,\"#fdca26\"],[1.0,\"#f0f921\"]],\"type\":\"surface\"}],\"table\":[{\"cells\":{\"fill\":{\"color\":\"#EBF0F8\"},\"line\":{\"color\":\"white\"}},\"header\":{\"fill\":{\"color\":\"#C8D4E3\"},\"line\":{\"color\":\"white\"}},\"type\":\"table\"}]},\"layout\":{\"annotationdefaults\":{\"arrowcolor\":\"#2a3f5f\",\"arrowhead\":0,\"arrowwidth\":1},\"autotypenumbers\":\"strict\",\"coloraxis\":{\"colorbar\":{\"outlinewidth\":0,\"ticks\":\"\"}},\"colorscale\":{\"diverging\":[[0,\"#8e0152\"],[0.1,\"#c51b7d\"],[0.2,\"#de77ae\"],[0.3,\"#f1b6da\"],[0.4,\"#fde0ef\"],[0.5,\"#f7f7f7\"],[0.6,\"#e6f5d0\"],[0.7,\"#b8e186\"],[0.8,\"#7fbc41\"],[0.9,\"#4d9221\"],[1,\"#276419\"]],\"sequential\":[[0.0,\"#0d0887\"],[0.1111111111111111,\"#46039f\"],[0.2222222222222222,\"#7201a8\"],[0.3333333333333333,\"#9c179e\"],[0.4444444444444444,\"#bd3786\"],[0.5555555555555556,\"#d8576b\"],[0.6666666666666666,\"#ed7953\"],[0.7777777777777778,\"#fb9f3a\"],[0.8888888888888888,\"#fdca26\"],[1.0,\"#f0f921\"]],\"sequentialminus\":[[0.0,\"#0d0887\"],[0.1111111111111111,\"#46039f\"],[0.2222222222222222,\"#7201a8\"],[0.3333333333333333,\"#9c179e\"],[0.4444444444444444,\"#bd3786\"],[0.5555555555555556,\"#d8576b\"],[0.6666666666666666,\"#ed7953\"],[0.7777777777777778,\"#fb9f3a\"],[0.8888888888888888,\"#fdca26\"],[1.0,\"#f0f921\"]]},\"colorway\":[\"#636efa\",\"#EF553B\",\"#00cc96\",\"#ab63fa\",\"#FFA15A\",\"#19d3f3\",\"#FF6692\",\"#B6E880\",\"#FF97FF\",\"#FECB52\"],\"font\":{\"color\":\"#2a3f5f\"},\"geo\":{\"bgcolor\":\"white\",\"lakecolor\":\"white\",\"landcolor\":\"#E5ECF6\",\"showlakes\":true,\"showland\":true,\"subunitcolor\":\"white\"},\"hoverlabel\":{\"align\":\"left\"},\"hovermode\":\"closest\",\"mapbox\":{\"style\":\"light\"},\"paper_bgcolor\":\"white\",\"plot_bgcolor\":\"#E5ECF6\",\"polar\":{\"angularaxis\":{\"gridcolor\":\"white\",\"linecolor\":\"white\",\"ticks\":\"\"},\"bgcolor\":\"#E5ECF6\",\"radialaxis\":{\"gridcolor\":\"white\",\"linecolor\":\"white\",\"ticks\":\"\"}},\"scene\":{\"xaxis\":{\"backgroundcolor\":\"#E5ECF6\",\"gridcolor\":\"white\",\"gridwidth\":2,\"linecolor\":\"white\",\"showbackground\":true,\"ticks\":\"\",\"zerolinecolor\":\"white\"},\"yaxis\":{\"backgroundcolor\":\"#E5ECF6\",\"gridcolor\":\"white\",\"gridwidth\":2,\"linecolor\":\"white\",\"showbackground\":true,\"ticks\":\"\",\"zerolinecolor\":\"white\"},\"zaxis\":{\"backgroundcolor\":\"#E5ECF6\",\"gridcolor\":\"white\",\"gridwidth\":2,\"linecolor\":\"white\",\"showbackground\":true,\"ticks\":\"\",\"zerolinecolor\":\"white\"}},\"shapedefaults\":{\"line\":{\"color\":\"#2a3f5f\"}},\"ternary\":{\"aaxis\":{\"gridcolor\":\"white\",\"linecolor\":\"white\",\"ticks\":\"\"},\"baxis\":{\"gridcolor\":\"white\",\"linecolor\":\"white\",\"ticks\":\"\"},\"bgcolor\":\"#E5ECF6\",\"caxis\":{\"gridcolor\":\"white\",\"linecolor\":\"white\",\"ticks\":\"\"}},\"title\":{\"x\":0.05},\"xaxis\":{\"automargin\":true,\"gridcolor\":\"white\",\"linecolor\":\"white\",\"ticks\":\"\",\"title\":{\"standoff\":15},\"zerolinecolor\":\"white\",\"zerolinewidth\":2},\"yaxis\":{\"automargin\":true,\"gridcolor\":\"white\",\"linecolor\":\"white\",\"ticks\":\"\",\"title\":{\"standoff\":15},\"zerolinecolor\":\"white\",\"zerolinewidth\":2}}},\"title\":{\"font\":{\"color\":\"#4D5663\"}},\"xaxis\":{\"gridcolor\":\"#E1E5ED\",\"showgrid\":true,\"tickfont\":{\"color\":\"#4D5663\"},\"title\":{\"font\":{\"color\":\"#4D5663\"},\"text\":\"\"},\"zerolinecolor\":\"#E1E5ED\"},\"yaxis\":{\"gridcolor\":\"#E1E5ED\",\"showgrid\":true,\"tickfont\":{\"color\":\"#4D5663\"},\"title\":{\"font\":{\"color\":\"#4D5663\"},\"text\":\"\"},\"zerolinecolor\":\"#E1E5ED\"}},                        {\"showLink\": true, \"linkText\": \"Export to plot.ly\", \"plotlyServerURL\": \"https://plot.ly\", \"responsive\": true}                    ).then(function(){\n",
       "                            \n",
       "var gd = document.getElementById('a8d83f10-f235-4fdf-8952-6cdd6e232ad1');\n",
       "var x = new MutationObserver(function (mutations, observer) {{\n",
       "        var display = window.getComputedStyle(gd).display;\n",
       "        if (!display || display === 'none') {{\n",
       "            console.log([gd, 'removed!']);\n",
       "            Plotly.purge(gd);\n",
       "            observer.disconnect();\n",
       "        }}\n",
       "}});\n",
       "\n",
       "// Listen for the removal of the full notebook cells\n",
       "var notebookContainer = gd.closest('#notebook-container');\n",
       "if (notebookContainer) {{\n",
       "    x.observe(notebookContainer, {childList: true});\n",
       "}}\n",
       "\n",
       "// Listen for the clearing of the current output cell\n",
       "var outputEl = gd.closest('.output');\n",
       "if (outputEl) {{\n",
       "    x.observe(outputEl, {childList: true});\n",
       "}}\n",
       "\n",
       "                        })                };                });            </script>        </div>"
      ]
     },
     "metadata": {},
     "output_type": "display_data"
    }
   ],
   "source": [
    "df.iplot(kind='box')"
   ]
  },
  {
   "cell_type": "code",
   "execution_count": 23,
   "id": "edde9a09",
   "metadata": {},
   "outputs": [],
   "source": [
    "df3 = pd.DataFrame({'x':[1,2,3,4,5], 'y':[10,20,30,40,50], 'z':[5,4,3,2,1]})"
   ]
  },
  {
   "cell_type": "code",
   "execution_count": 24,
   "id": "809fcbe5",
   "metadata": {},
   "outputs": [
    {
     "data": {
      "text/html": [
       "<div>\n",
       "<style scoped>\n",
       "    .dataframe tbody tr th:only-of-type {\n",
       "        vertical-align: middle;\n",
       "    }\n",
       "\n",
       "    .dataframe tbody tr th {\n",
       "        vertical-align: top;\n",
       "    }\n",
       "\n",
       "    .dataframe thead th {\n",
       "        text-align: right;\n",
       "    }\n",
       "</style>\n",
       "<table border=\"1\" class=\"dataframe\">\n",
       "  <thead>\n",
       "    <tr style=\"text-align: right;\">\n",
       "      <th></th>\n",
       "      <th>x</th>\n",
       "      <th>y</th>\n",
       "      <th>z</th>\n",
       "    </tr>\n",
       "  </thead>\n",
       "  <tbody>\n",
       "    <tr>\n",
       "      <th>0</th>\n",
       "      <td>1</td>\n",
       "      <td>10</td>\n",
       "      <td>5</td>\n",
       "    </tr>\n",
       "    <tr>\n",
       "      <th>1</th>\n",
       "      <td>2</td>\n",
       "      <td>20</td>\n",
       "      <td>4</td>\n",
       "    </tr>\n",
       "    <tr>\n",
       "      <th>2</th>\n",
       "      <td>3</td>\n",
       "      <td>30</td>\n",
       "      <td>3</td>\n",
       "    </tr>\n",
       "    <tr>\n",
       "      <th>3</th>\n",
       "      <td>4</td>\n",
       "      <td>40</td>\n",
       "      <td>2</td>\n",
       "    </tr>\n",
       "    <tr>\n",
       "      <th>4</th>\n",
       "      <td>5</td>\n",
       "      <td>50</td>\n",
       "      <td>1</td>\n",
       "    </tr>\n",
       "  </tbody>\n",
       "</table>\n",
       "</div>"
      ],
      "text/plain": [
       "   x   y  z\n",
       "0  1  10  5\n",
       "1  2  20  4\n",
       "2  3  30  3\n",
       "3  4  40  2\n",
       "4  5  50  1"
      ]
     },
     "execution_count": 24,
     "metadata": {},
     "output_type": "execute_result"
    }
   ],
   "source": [
    "df3"
   ]
  },
  {
   "cell_type": "code",
   "execution_count": 25,
   "id": "0196c358",
   "metadata": {},
   "outputs": [
    {
     "data": {
      "application/vnd.plotly.v1+json": {
       "config": {
        "linkText": "Export to plot.ly",
        "plotlyServerURL": "https://plot.ly",
        "showLink": true
       },
       "data": [
        {
         "colorscale": [
          [
           0,
           "rgb(165,0,38)"
          ],
          [
           0.1,
           "rgb(215,48,39)"
          ],
          [
           0.2,
           "rgb(244,109,67)"
          ],
          [
           0.3,
           "rgb(253,174,97)"
          ],
          [
           0.4,
           "rgb(254,224,144)"
          ],
          [
           0.5,
           "rgb(255,255,191)"
          ],
          [
           0.6,
           "rgb(224,243,248)"
          ],
          [
           0.7,
           "rgb(171,217,233)"
          ],
          [
           0.8,
           "rgb(116,173,209)"
          ],
          [
           0.9,
           "rgb(69,117,180)"
          ],
          [
           1,
           "rgb(49,54,149)"
          ]
         ],
         "type": "surface",
         "x": [
          0,
          1,
          2,
          3,
          4
         ],
         "y": [
          "x",
          "y",
          "z"
         ],
         "z": [
          [
           1,
           2,
           3,
           4,
           5
          ],
          [
           10,
           20,
           30,
           40,
           50
          ],
          [
           5,
           4,
           3,
           2,
           1
          ]
         ]
        }
       ],
       "layout": {
        "legend": {
         "bgcolor": "#F5F6F9",
         "font": {
          "color": "#4D5663"
         }
        },
        "paper_bgcolor": "#F5F6F9",
        "plot_bgcolor": "#F5F6F9",
        "template": {
         "data": {
          "bar": [
           {
            "error_x": {
             "color": "#2a3f5f"
            },
            "error_y": {
             "color": "#2a3f5f"
            },
            "marker": {
             "line": {
              "color": "#E5ECF6",
              "width": 0.5
             },
             "pattern": {
              "fillmode": "overlay",
              "size": 10,
              "solidity": 0.2
             }
            },
            "type": "bar"
           }
          ],
          "barpolar": [
           {
            "marker": {
             "line": {
              "color": "#E5ECF6",
              "width": 0.5
             },
             "pattern": {
              "fillmode": "overlay",
              "size": 10,
              "solidity": 0.2
             }
            },
            "type": "barpolar"
           }
          ],
          "carpet": [
           {
            "aaxis": {
             "endlinecolor": "#2a3f5f",
             "gridcolor": "white",
             "linecolor": "white",
             "minorgridcolor": "white",
             "startlinecolor": "#2a3f5f"
            },
            "baxis": {
             "endlinecolor": "#2a3f5f",
             "gridcolor": "white",
             "linecolor": "white",
             "minorgridcolor": "white",
             "startlinecolor": "#2a3f5f"
            },
            "type": "carpet"
           }
          ],
          "choropleth": [
           {
            "colorbar": {
             "outlinewidth": 0,
             "ticks": ""
            },
            "type": "choropleth"
           }
          ],
          "contour": [
           {
            "colorbar": {
             "outlinewidth": 0,
             "ticks": ""
            },
            "colorscale": [
             [
              0,
              "#0d0887"
             ],
             [
              0.1111111111111111,
              "#46039f"
             ],
             [
              0.2222222222222222,
              "#7201a8"
             ],
             [
              0.3333333333333333,
              "#9c179e"
             ],
             [
              0.4444444444444444,
              "#bd3786"
             ],
             [
              0.5555555555555556,
              "#d8576b"
             ],
             [
              0.6666666666666666,
              "#ed7953"
             ],
             [
              0.7777777777777778,
              "#fb9f3a"
             ],
             [
              0.8888888888888888,
              "#fdca26"
             ],
             [
              1,
              "#f0f921"
             ]
            ],
            "type": "contour"
           }
          ],
          "contourcarpet": [
           {
            "colorbar": {
             "outlinewidth": 0,
             "ticks": ""
            },
            "type": "contourcarpet"
           }
          ],
          "heatmap": [
           {
            "colorbar": {
             "outlinewidth": 0,
             "ticks": ""
            },
            "colorscale": [
             [
              0,
              "#0d0887"
             ],
             [
              0.1111111111111111,
              "#46039f"
             ],
             [
              0.2222222222222222,
              "#7201a8"
             ],
             [
              0.3333333333333333,
              "#9c179e"
             ],
             [
              0.4444444444444444,
              "#bd3786"
             ],
             [
              0.5555555555555556,
              "#d8576b"
             ],
             [
              0.6666666666666666,
              "#ed7953"
             ],
             [
              0.7777777777777778,
              "#fb9f3a"
             ],
             [
              0.8888888888888888,
              "#fdca26"
             ],
             [
              1,
              "#f0f921"
             ]
            ],
            "type": "heatmap"
           }
          ],
          "heatmapgl": [
           {
            "colorbar": {
             "outlinewidth": 0,
             "ticks": ""
            },
            "colorscale": [
             [
              0,
              "#0d0887"
             ],
             [
              0.1111111111111111,
              "#46039f"
             ],
             [
              0.2222222222222222,
              "#7201a8"
             ],
             [
              0.3333333333333333,
              "#9c179e"
             ],
             [
              0.4444444444444444,
              "#bd3786"
             ],
             [
              0.5555555555555556,
              "#d8576b"
             ],
             [
              0.6666666666666666,
              "#ed7953"
             ],
             [
              0.7777777777777778,
              "#fb9f3a"
             ],
             [
              0.8888888888888888,
              "#fdca26"
             ],
             [
              1,
              "#f0f921"
             ]
            ],
            "type": "heatmapgl"
           }
          ],
          "histogram": [
           {
            "marker": {
             "pattern": {
              "fillmode": "overlay",
              "size": 10,
              "solidity": 0.2
             }
            },
            "type": "histogram"
           }
          ],
          "histogram2d": [
           {
            "colorbar": {
             "outlinewidth": 0,
             "ticks": ""
            },
            "colorscale": [
             [
              0,
              "#0d0887"
             ],
             [
              0.1111111111111111,
              "#46039f"
             ],
             [
              0.2222222222222222,
              "#7201a8"
             ],
             [
              0.3333333333333333,
              "#9c179e"
             ],
             [
              0.4444444444444444,
              "#bd3786"
             ],
             [
              0.5555555555555556,
              "#d8576b"
             ],
             [
              0.6666666666666666,
              "#ed7953"
             ],
             [
              0.7777777777777778,
              "#fb9f3a"
             ],
             [
              0.8888888888888888,
              "#fdca26"
             ],
             [
              1,
              "#f0f921"
             ]
            ],
            "type": "histogram2d"
           }
          ],
          "histogram2dcontour": [
           {
            "colorbar": {
             "outlinewidth": 0,
             "ticks": ""
            },
            "colorscale": [
             [
              0,
              "#0d0887"
             ],
             [
              0.1111111111111111,
              "#46039f"
             ],
             [
              0.2222222222222222,
              "#7201a8"
             ],
             [
              0.3333333333333333,
              "#9c179e"
             ],
             [
              0.4444444444444444,
              "#bd3786"
             ],
             [
              0.5555555555555556,
              "#d8576b"
             ],
             [
              0.6666666666666666,
              "#ed7953"
             ],
             [
              0.7777777777777778,
              "#fb9f3a"
             ],
             [
              0.8888888888888888,
              "#fdca26"
             ],
             [
              1,
              "#f0f921"
             ]
            ],
            "type": "histogram2dcontour"
           }
          ],
          "mesh3d": [
           {
            "colorbar": {
             "outlinewidth": 0,
             "ticks": ""
            },
            "type": "mesh3d"
           }
          ],
          "parcoords": [
           {
            "line": {
             "colorbar": {
              "outlinewidth": 0,
              "ticks": ""
             }
            },
            "type": "parcoords"
           }
          ],
          "pie": [
           {
            "automargin": true,
            "type": "pie"
           }
          ],
          "scatter": [
           {
            "fillpattern": {
             "fillmode": "overlay",
             "size": 10,
             "solidity": 0.2
            },
            "type": "scatter"
           }
          ],
          "scatter3d": [
           {
            "line": {
             "colorbar": {
              "outlinewidth": 0,
              "ticks": ""
             }
            },
            "marker": {
             "colorbar": {
              "outlinewidth": 0,
              "ticks": ""
             }
            },
            "type": "scatter3d"
           }
          ],
          "scattercarpet": [
           {
            "marker": {
             "colorbar": {
              "outlinewidth": 0,
              "ticks": ""
             }
            },
            "type": "scattercarpet"
           }
          ],
          "scattergeo": [
           {
            "marker": {
             "colorbar": {
              "outlinewidth": 0,
              "ticks": ""
             }
            },
            "type": "scattergeo"
           }
          ],
          "scattergl": [
           {
            "marker": {
             "colorbar": {
              "outlinewidth": 0,
              "ticks": ""
             }
            },
            "type": "scattergl"
           }
          ],
          "scattermapbox": [
           {
            "marker": {
             "colorbar": {
              "outlinewidth": 0,
              "ticks": ""
             }
            },
            "type": "scattermapbox"
           }
          ],
          "scatterpolar": [
           {
            "marker": {
             "colorbar": {
              "outlinewidth": 0,
              "ticks": ""
             }
            },
            "type": "scatterpolar"
           }
          ],
          "scatterpolargl": [
           {
            "marker": {
             "colorbar": {
              "outlinewidth": 0,
              "ticks": ""
             }
            },
            "type": "scatterpolargl"
           }
          ],
          "scatterternary": [
           {
            "marker": {
             "colorbar": {
              "outlinewidth": 0,
              "ticks": ""
             }
            },
            "type": "scatterternary"
           }
          ],
          "surface": [
           {
            "colorbar": {
             "outlinewidth": 0,
             "ticks": ""
            },
            "colorscale": [
             [
              0,
              "#0d0887"
             ],
             [
              0.1111111111111111,
              "#46039f"
             ],
             [
              0.2222222222222222,
              "#7201a8"
             ],
             [
              0.3333333333333333,
              "#9c179e"
             ],
             [
              0.4444444444444444,
              "#bd3786"
             ],
             [
              0.5555555555555556,
              "#d8576b"
             ],
             [
              0.6666666666666666,
              "#ed7953"
             ],
             [
              0.7777777777777778,
              "#fb9f3a"
             ],
             [
              0.8888888888888888,
              "#fdca26"
             ],
             [
              1,
              "#f0f921"
             ]
            ],
            "type": "surface"
           }
          ],
          "table": [
           {
            "cells": {
             "fill": {
              "color": "#EBF0F8"
             },
             "line": {
              "color": "white"
             }
            },
            "header": {
             "fill": {
              "color": "#C8D4E3"
             },
             "line": {
              "color": "white"
             }
            },
            "type": "table"
           }
          ]
         },
         "layout": {
          "annotationdefaults": {
           "arrowcolor": "#2a3f5f",
           "arrowhead": 0,
           "arrowwidth": 1
          },
          "autotypenumbers": "strict",
          "coloraxis": {
           "colorbar": {
            "outlinewidth": 0,
            "ticks": ""
           }
          },
          "colorscale": {
           "diverging": [
            [
             0,
             "#8e0152"
            ],
            [
             0.1,
             "#c51b7d"
            ],
            [
             0.2,
             "#de77ae"
            ],
            [
             0.3,
             "#f1b6da"
            ],
            [
             0.4,
             "#fde0ef"
            ],
            [
             0.5,
             "#f7f7f7"
            ],
            [
             0.6,
             "#e6f5d0"
            ],
            [
             0.7,
             "#b8e186"
            ],
            [
             0.8,
             "#7fbc41"
            ],
            [
             0.9,
             "#4d9221"
            ],
            [
             1,
             "#276419"
            ]
           ],
           "sequential": [
            [
             0,
             "#0d0887"
            ],
            [
             0.1111111111111111,
             "#46039f"
            ],
            [
             0.2222222222222222,
             "#7201a8"
            ],
            [
             0.3333333333333333,
             "#9c179e"
            ],
            [
             0.4444444444444444,
             "#bd3786"
            ],
            [
             0.5555555555555556,
             "#d8576b"
            ],
            [
             0.6666666666666666,
             "#ed7953"
            ],
            [
             0.7777777777777778,
             "#fb9f3a"
            ],
            [
             0.8888888888888888,
             "#fdca26"
            ],
            [
             1,
             "#f0f921"
            ]
           ],
           "sequentialminus": [
            [
             0,
             "#0d0887"
            ],
            [
             0.1111111111111111,
             "#46039f"
            ],
            [
             0.2222222222222222,
             "#7201a8"
            ],
            [
             0.3333333333333333,
             "#9c179e"
            ],
            [
             0.4444444444444444,
             "#bd3786"
            ],
            [
             0.5555555555555556,
             "#d8576b"
            ],
            [
             0.6666666666666666,
             "#ed7953"
            ],
            [
             0.7777777777777778,
             "#fb9f3a"
            ],
            [
             0.8888888888888888,
             "#fdca26"
            ],
            [
             1,
             "#f0f921"
            ]
           ]
          },
          "colorway": [
           "#636efa",
           "#EF553B",
           "#00cc96",
           "#ab63fa",
           "#FFA15A",
           "#19d3f3",
           "#FF6692",
           "#B6E880",
           "#FF97FF",
           "#FECB52"
          ],
          "font": {
           "color": "#2a3f5f"
          },
          "geo": {
           "bgcolor": "white",
           "lakecolor": "white",
           "landcolor": "#E5ECF6",
           "showlakes": true,
           "showland": true,
           "subunitcolor": "white"
          },
          "hoverlabel": {
           "align": "left"
          },
          "hovermode": "closest",
          "mapbox": {
           "style": "light"
          },
          "paper_bgcolor": "white",
          "plot_bgcolor": "#E5ECF6",
          "polar": {
           "angularaxis": {
            "gridcolor": "white",
            "linecolor": "white",
            "ticks": ""
           },
           "bgcolor": "#E5ECF6",
           "radialaxis": {
            "gridcolor": "white",
            "linecolor": "white",
            "ticks": ""
           }
          },
          "scene": {
           "xaxis": {
            "backgroundcolor": "#E5ECF6",
            "gridcolor": "white",
            "gridwidth": 2,
            "linecolor": "white",
            "showbackground": true,
            "ticks": "",
            "zerolinecolor": "white"
           },
           "yaxis": {
            "backgroundcolor": "#E5ECF6",
            "gridcolor": "white",
            "gridwidth": 2,
            "linecolor": "white",
            "showbackground": true,
            "ticks": "",
            "zerolinecolor": "white"
           },
           "zaxis": {
            "backgroundcolor": "#E5ECF6",
            "gridcolor": "white",
            "gridwidth": 2,
            "linecolor": "white",
            "showbackground": true,
            "ticks": "",
            "zerolinecolor": "white"
           }
          },
          "shapedefaults": {
           "line": {
            "color": "#2a3f5f"
           }
          },
          "ternary": {
           "aaxis": {
            "gridcolor": "white",
            "linecolor": "white",
            "ticks": ""
           },
           "baxis": {
            "gridcolor": "white",
            "linecolor": "white",
            "ticks": ""
           },
           "bgcolor": "#E5ECF6",
           "caxis": {
            "gridcolor": "white",
            "linecolor": "white",
            "ticks": ""
           }
          },
          "title": {
           "x": 0.05
          },
          "xaxis": {
           "automargin": true,
           "gridcolor": "white",
           "linecolor": "white",
           "ticks": "",
           "title": {
            "standoff": 15
           },
           "zerolinecolor": "white",
           "zerolinewidth": 2
          },
          "yaxis": {
           "automargin": true,
           "gridcolor": "white",
           "linecolor": "white",
           "ticks": "",
           "title": {
            "standoff": 15
           },
           "zerolinecolor": "white",
           "zerolinewidth": 2
          }
         }
        },
        "title": {
         "font": {
          "color": "#4D5663"
         }
        },
        "xaxis": {
         "gridcolor": "#E1E5ED",
         "showgrid": true,
         "tickfont": {
          "color": "#4D5663"
         },
         "title": {
          "font": {
           "color": "#4D5663"
          },
          "text": ""
         },
         "zerolinecolor": "#E1E5ED"
        },
        "yaxis": {
         "gridcolor": "#E1E5ED",
         "showgrid": true,
         "tickfont": {
          "color": "#4D5663"
         },
         "title": {
          "font": {
           "color": "#4D5663"
          },
          "text": ""
         },
         "zerolinecolor": "#E1E5ED"
        }
       }
      },
      "text/html": [
       "<div>                            <div id=\"d5318f1f-1715-464b-b5d2-e8fc5f94405a\" class=\"plotly-graph-div\" style=\"height:525px; width:100%;\"></div>            <script type=\"text/javascript\">                require([\"plotly\"], function(Plotly) {                    window.PLOTLYENV=window.PLOTLYENV || {};\n",
       "                    window.PLOTLYENV.BASE_URL='https://plot.ly';                                    if (document.getElementById(\"d5318f1f-1715-464b-b5d2-e8fc5f94405a\")) {                    Plotly.newPlot(                        \"d5318f1f-1715-464b-b5d2-e8fc5f94405a\",                        [{\"colorscale\":[[0.0,\"rgb(165,0,38)\"],[0.1,\"rgb(215,48,39)\"],[0.2,\"rgb(244,109,67)\"],[0.3,\"rgb(253,174,97)\"],[0.4,\"rgb(254,224,144)\"],[0.5,\"rgb(255,255,191)\"],[0.6,\"rgb(224,243,248)\"],[0.7,\"rgb(171,217,233)\"],[0.8,\"rgb(116,173,209)\"],[0.9,\"rgb(69,117,180)\"],[1.0,\"rgb(49,54,149)\"]],\"x\":[0,1,2,3,4],\"y\":[\"x\",\"y\",\"z\"],\"z\":[[1,2,3,4,5],[10,20,30,40,50],[5,4,3,2,1]],\"type\":\"surface\"}],                        {\"legend\":{\"bgcolor\":\"#F5F6F9\",\"font\":{\"color\":\"#4D5663\"}},\"paper_bgcolor\":\"#F5F6F9\",\"plot_bgcolor\":\"#F5F6F9\",\"template\":{\"data\":{\"barpolar\":[{\"marker\":{\"line\":{\"color\":\"#E5ECF6\",\"width\":0.5},\"pattern\":{\"fillmode\":\"overlay\",\"size\":10,\"solidity\":0.2}},\"type\":\"barpolar\"}],\"bar\":[{\"error_x\":{\"color\":\"#2a3f5f\"},\"error_y\":{\"color\":\"#2a3f5f\"},\"marker\":{\"line\":{\"color\":\"#E5ECF6\",\"width\":0.5},\"pattern\":{\"fillmode\":\"overlay\",\"size\":10,\"solidity\":0.2}},\"type\":\"bar\"}],\"carpet\":[{\"aaxis\":{\"endlinecolor\":\"#2a3f5f\",\"gridcolor\":\"white\",\"linecolor\":\"white\",\"minorgridcolor\":\"white\",\"startlinecolor\":\"#2a3f5f\"},\"baxis\":{\"endlinecolor\":\"#2a3f5f\",\"gridcolor\":\"white\",\"linecolor\":\"white\",\"minorgridcolor\":\"white\",\"startlinecolor\":\"#2a3f5f\"},\"type\":\"carpet\"}],\"choropleth\":[{\"colorbar\":{\"outlinewidth\":0,\"ticks\":\"\"},\"type\":\"choropleth\"}],\"contourcarpet\":[{\"colorbar\":{\"outlinewidth\":0,\"ticks\":\"\"},\"type\":\"contourcarpet\"}],\"contour\":[{\"colorbar\":{\"outlinewidth\":0,\"ticks\":\"\"},\"colorscale\":[[0.0,\"#0d0887\"],[0.1111111111111111,\"#46039f\"],[0.2222222222222222,\"#7201a8\"],[0.3333333333333333,\"#9c179e\"],[0.4444444444444444,\"#bd3786\"],[0.5555555555555556,\"#d8576b\"],[0.6666666666666666,\"#ed7953\"],[0.7777777777777778,\"#fb9f3a\"],[0.8888888888888888,\"#fdca26\"],[1.0,\"#f0f921\"]],\"type\":\"contour\"}],\"heatmapgl\":[{\"colorbar\":{\"outlinewidth\":0,\"ticks\":\"\"},\"colorscale\":[[0.0,\"#0d0887\"],[0.1111111111111111,\"#46039f\"],[0.2222222222222222,\"#7201a8\"],[0.3333333333333333,\"#9c179e\"],[0.4444444444444444,\"#bd3786\"],[0.5555555555555556,\"#d8576b\"],[0.6666666666666666,\"#ed7953\"],[0.7777777777777778,\"#fb9f3a\"],[0.8888888888888888,\"#fdca26\"],[1.0,\"#f0f921\"]],\"type\":\"heatmapgl\"}],\"heatmap\":[{\"colorbar\":{\"outlinewidth\":0,\"ticks\":\"\"},\"colorscale\":[[0.0,\"#0d0887\"],[0.1111111111111111,\"#46039f\"],[0.2222222222222222,\"#7201a8\"],[0.3333333333333333,\"#9c179e\"],[0.4444444444444444,\"#bd3786\"],[0.5555555555555556,\"#d8576b\"],[0.6666666666666666,\"#ed7953\"],[0.7777777777777778,\"#fb9f3a\"],[0.8888888888888888,\"#fdca26\"],[1.0,\"#f0f921\"]],\"type\":\"heatmap\"}],\"histogram2dcontour\":[{\"colorbar\":{\"outlinewidth\":0,\"ticks\":\"\"},\"colorscale\":[[0.0,\"#0d0887\"],[0.1111111111111111,\"#46039f\"],[0.2222222222222222,\"#7201a8\"],[0.3333333333333333,\"#9c179e\"],[0.4444444444444444,\"#bd3786\"],[0.5555555555555556,\"#d8576b\"],[0.6666666666666666,\"#ed7953\"],[0.7777777777777778,\"#fb9f3a\"],[0.8888888888888888,\"#fdca26\"],[1.0,\"#f0f921\"]],\"type\":\"histogram2dcontour\"}],\"histogram2d\":[{\"colorbar\":{\"outlinewidth\":0,\"ticks\":\"\"},\"colorscale\":[[0.0,\"#0d0887\"],[0.1111111111111111,\"#46039f\"],[0.2222222222222222,\"#7201a8\"],[0.3333333333333333,\"#9c179e\"],[0.4444444444444444,\"#bd3786\"],[0.5555555555555556,\"#d8576b\"],[0.6666666666666666,\"#ed7953\"],[0.7777777777777778,\"#fb9f3a\"],[0.8888888888888888,\"#fdca26\"],[1.0,\"#f0f921\"]],\"type\":\"histogram2d\"}],\"histogram\":[{\"marker\":{\"pattern\":{\"fillmode\":\"overlay\",\"size\":10,\"solidity\":0.2}},\"type\":\"histogram\"}],\"mesh3d\":[{\"colorbar\":{\"outlinewidth\":0,\"ticks\":\"\"},\"type\":\"mesh3d\"}],\"parcoords\":[{\"line\":{\"colorbar\":{\"outlinewidth\":0,\"ticks\":\"\"}},\"type\":\"parcoords\"}],\"pie\":[{\"automargin\":true,\"type\":\"pie\"}],\"scatter3d\":[{\"line\":{\"colorbar\":{\"outlinewidth\":0,\"ticks\":\"\"}},\"marker\":{\"colorbar\":{\"outlinewidth\":0,\"ticks\":\"\"}},\"type\":\"scatter3d\"}],\"scattercarpet\":[{\"marker\":{\"colorbar\":{\"outlinewidth\":0,\"ticks\":\"\"}},\"type\":\"scattercarpet\"}],\"scattergeo\":[{\"marker\":{\"colorbar\":{\"outlinewidth\":0,\"ticks\":\"\"}},\"type\":\"scattergeo\"}],\"scattergl\":[{\"marker\":{\"colorbar\":{\"outlinewidth\":0,\"ticks\":\"\"}},\"type\":\"scattergl\"}],\"scattermapbox\":[{\"marker\":{\"colorbar\":{\"outlinewidth\":0,\"ticks\":\"\"}},\"type\":\"scattermapbox\"}],\"scatterpolargl\":[{\"marker\":{\"colorbar\":{\"outlinewidth\":0,\"ticks\":\"\"}},\"type\":\"scatterpolargl\"}],\"scatterpolar\":[{\"marker\":{\"colorbar\":{\"outlinewidth\":0,\"ticks\":\"\"}},\"type\":\"scatterpolar\"}],\"scatter\":[{\"fillpattern\":{\"fillmode\":\"overlay\",\"size\":10,\"solidity\":0.2},\"type\":\"scatter\"}],\"scatterternary\":[{\"marker\":{\"colorbar\":{\"outlinewidth\":0,\"ticks\":\"\"}},\"type\":\"scatterternary\"}],\"surface\":[{\"colorbar\":{\"outlinewidth\":0,\"ticks\":\"\"},\"colorscale\":[[0.0,\"#0d0887\"],[0.1111111111111111,\"#46039f\"],[0.2222222222222222,\"#7201a8\"],[0.3333333333333333,\"#9c179e\"],[0.4444444444444444,\"#bd3786\"],[0.5555555555555556,\"#d8576b\"],[0.6666666666666666,\"#ed7953\"],[0.7777777777777778,\"#fb9f3a\"],[0.8888888888888888,\"#fdca26\"],[1.0,\"#f0f921\"]],\"type\":\"surface\"}],\"table\":[{\"cells\":{\"fill\":{\"color\":\"#EBF0F8\"},\"line\":{\"color\":\"white\"}},\"header\":{\"fill\":{\"color\":\"#C8D4E3\"},\"line\":{\"color\":\"white\"}},\"type\":\"table\"}]},\"layout\":{\"annotationdefaults\":{\"arrowcolor\":\"#2a3f5f\",\"arrowhead\":0,\"arrowwidth\":1},\"autotypenumbers\":\"strict\",\"coloraxis\":{\"colorbar\":{\"outlinewidth\":0,\"ticks\":\"\"}},\"colorscale\":{\"diverging\":[[0,\"#8e0152\"],[0.1,\"#c51b7d\"],[0.2,\"#de77ae\"],[0.3,\"#f1b6da\"],[0.4,\"#fde0ef\"],[0.5,\"#f7f7f7\"],[0.6,\"#e6f5d0\"],[0.7,\"#b8e186\"],[0.8,\"#7fbc41\"],[0.9,\"#4d9221\"],[1,\"#276419\"]],\"sequential\":[[0.0,\"#0d0887\"],[0.1111111111111111,\"#46039f\"],[0.2222222222222222,\"#7201a8\"],[0.3333333333333333,\"#9c179e\"],[0.4444444444444444,\"#bd3786\"],[0.5555555555555556,\"#d8576b\"],[0.6666666666666666,\"#ed7953\"],[0.7777777777777778,\"#fb9f3a\"],[0.8888888888888888,\"#fdca26\"],[1.0,\"#f0f921\"]],\"sequentialminus\":[[0.0,\"#0d0887\"],[0.1111111111111111,\"#46039f\"],[0.2222222222222222,\"#7201a8\"],[0.3333333333333333,\"#9c179e\"],[0.4444444444444444,\"#bd3786\"],[0.5555555555555556,\"#d8576b\"],[0.6666666666666666,\"#ed7953\"],[0.7777777777777778,\"#fb9f3a\"],[0.8888888888888888,\"#fdca26\"],[1.0,\"#f0f921\"]]},\"colorway\":[\"#636efa\",\"#EF553B\",\"#00cc96\",\"#ab63fa\",\"#FFA15A\",\"#19d3f3\",\"#FF6692\",\"#B6E880\",\"#FF97FF\",\"#FECB52\"],\"font\":{\"color\":\"#2a3f5f\"},\"geo\":{\"bgcolor\":\"white\",\"lakecolor\":\"white\",\"landcolor\":\"#E5ECF6\",\"showlakes\":true,\"showland\":true,\"subunitcolor\":\"white\"},\"hoverlabel\":{\"align\":\"left\"},\"hovermode\":\"closest\",\"mapbox\":{\"style\":\"light\"},\"paper_bgcolor\":\"white\",\"plot_bgcolor\":\"#E5ECF6\",\"polar\":{\"angularaxis\":{\"gridcolor\":\"white\",\"linecolor\":\"white\",\"ticks\":\"\"},\"bgcolor\":\"#E5ECF6\",\"radialaxis\":{\"gridcolor\":\"white\",\"linecolor\":\"white\",\"ticks\":\"\"}},\"scene\":{\"xaxis\":{\"backgroundcolor\":\"#E5ECF6\",\"gridcolor\":\"white\",\"gridwidth\":2,\"linecolor\":\"white\",\"showbackground\":true,\"ticks\":\"\",\"zerolinecolor\":\"white\"},\"yaxis\":{\"backgroundcolor\":\"#E5ECF6\",\"gridcolor\":\"white\",\"gridwidth\":2,\"linecolor\":\"white\",\"showbackground\":true,\"ticks\":\"\",\"zerolinecolor\":\"white\"},\"zaxis\":{\"backgroundcolor\":\"#E5ECF6\",\"gridcolor\":\"white\",\"gridwidth\":2,\"linecolor\":\"white\",\"showbackground\":true,\"ticks\":\"\",\"zerolinecolor\":\"white\"}},\"shapedefaults\":{\"line\":{\"color\":\"#2a3f5f\"}},\"ternary\":{\"aaxis\":{\"gridcolor\":\"white\",\"linecolor\":\"white\",\"ticks\":\"\"},\"baxis\":{\"gridcolor\":\"white\",\"linecolor\":\"white\",\"ticks\":\"\"},\"bgcolor\":\"#E5ECF6\",\"caxis\":{\"gridcolor\":\"white\",\"linecolor\":\"white\",\"ticks\":\"\"}},\"title\":{\"x\":0.05},\"xaxis\":{\"automargin\":true,\"gridcolor\":\"white\",\"linecolor\":\"white\",\"ticks\":\"\",\"title\":{\"standoff\":15},\"zerolinecolor\":\"white\",\"zerolinewidth\":2},\"yaxis\":{\"automargin\":true,\"gridcolor\":\"white\",\"linecolor\":\"white\",\"ticks\":\"\",\"title\":{\"standoff\":15},\"zerolinecolor\":\"white\",\"zerolinewidth\":2}}},\"title\":{\"font\":{\"color\":\"#4D5663\"}},\"xaxis\":{\"gridcolor\":\"#E1E5ED\",\"showgrid\":true,\"tickfont\":{\"color\":\"#4D5663\"},\"title\":{\"font\":{\"color\":\"#4D5663\"},\"text\":\"\"},\"zerolinecolor\":\"#E1E5ED\"},\"yaxis\":{\"gridcolor\":\"#E1E5ED\",\"showgrid\":true,\"tickfont\":{\"color\":\"#4D5663\"},\"title\":{\"font\":{\"color\":\"#4D5663\"},\"text\":\"\"},\"zerolinecolor\":\"#E1E5ED\"}},                        {\"showLink\": true, \"linkText\": \"Export to plot.ly\", \"plotlyServerURL\": \"https://plot.ly\", \"responsive\": true}                    ).then(function(){\n",
       "                            \n",
       "var gd = document.getElementById('d5318f1f-1715-464b-b5d2-e8fc5f94405a');\n",
       "var x = new MutationObserver(function (mutations, observer) {{\n",
       "        var display = window.getComputedStyle(gd).display;\n",
       "        if (!display || display === 'none') {{\n",
       "            console.log([gd, 'removed!']);\n",
       "            Plotly.purge(gd);\n",
       "            observer.disconnect();\n",
       "        }}\n",
       "}});\n",
       "\n",
       "// Listen for the removal of the full notebook cells\n",
       "var notebookContainer = gd.closest('#notebook-container');\n",
       "if (notebookContainer) {{\n",
       "    x.observe(notebookContainer, {childList: true});\n",
       "}}\n",
       "\n",
       "// Listen for the clearing of the current output cell\n",
       "var outputEl = gd.closest('.output');\n",
       "if (outputEl) {{\n",
       "    x.observe(outputEl, {childList: true});\n",
       "}}\n",
       "\n",
       "                        })                };                });            </script>        </div>"
      ]
     },
     "metadata": {},
     "output_type": "display_data"
    }
   ],
   "source": [
    "df3.iplot(kind='surface', colorscale='rdylbu')"
   ]
  },
  {
   "cell_type": "code",
   "execution_count": 26,
   "id": "1c454b5b",
   "metadata": {},
   "outputs": [
    {
     "data": {
      "application/vnd.plotly.v1+json": {
       "config": {
        "linkText": "Export to plot.ly",
        "plotlyServerURL": "https://plot.ly",
        "showLink": true
       },
       "data": [
        {
         "colorscale": [
          [
           0,
           "rgb(255, 153, 51)"
          ],
          [
           0.1111111111111111,
           "rgb(55, 128, 191)"
          ],
          [
           0.2222222222222222,
           "rgb(50, 171, 96)"
          ],
          [
           0.3333333333333333,
           "rgb(128, 0, 128)"
          ],
          [
           0.4444444444444444,
           "rgb(219, 64, 82)"
          ],
          [
           0.5555555555555556,
           "rgb(0, 128, 128)"
          ],
          [
           0.6666666666666666,
           "rgb(255, 255, 51)"
          ],
          [
           0.7777777777777778,
           "rgb(128, 128, 0)"
          ],
          [
           0.8888888888888888,
           "rgb(251, 128, 114)"
          ],
          [
           1,
           "rgb(128, 177, 211)"
          ]
         ],
         "type": "surface",
         "x": [
          0,
          1,
          2,
          3,
          4,
          5,
          6,
          7,
          8,
          9,
          10,
          11,
          12,
          13,
          14,
          15,
          16,
          17,
          18,
          19,
          20,
          21,
          22,
          23,
          24,
          25,
          26,
          27,
          28,
          29,
          30,
          31,
          32,
          33,
          34,
          35,
          36,
          37,
          38,
          39,
          40,
          41,
          42,
          43,
          44,
          45,
          46,
          47,
          48,
          49,
          50,
          51,
          52,
          53,
          54,
          55,
          56,
          57,
          58,
          59,
          60,
          61,
          62,
          63,
          64,
          65,
          66,
          67,
          68,
          69,
          70,
          71,
          72,
          73,
          74,
          75,
          76,
          77,
          78,
          79,
          80,
          81,
          82,
          83,
          84,
          85,
          86,
          87,
          88,
          89,
          90,
          91,
          92,
          93,
          94,
          95,
          96,
          97,
          98,
          99
         ],
         "y": [
          "A",
          "B"
         ],
         "z": [
          [
           0.33567605600194994,
           -0.8109873503861798,
           -2.6316756978724447,
           0.5776275311286065,
           -0.22530496487367777,
           0.8097460374131469,
           -0.5115338215552406,
           -0.4590997186416238,
           -0.298577056088914,
           -0.28541368761683306,
           -0.5472911448565846,
           0.3027742133920709,
           0.8902345216571652,
           -0.9239113525121986,
           0.9416625216245742,
           -0.18066450525113226,
           -2.0881969759280192,
           0.47500151093148335,
           -1.2731709071783763,
           1.230559710728227,
           -0.1605185431067916,
           0.6015686401189955,
           1.0663771004856937,
           0.4339044154824729,
           0.42688970128877163,
           0.7278870362259178,
           -0.6948804563250303,
           -0.05374882813326524,
           -1.6336690547739716,
           -0.88579686362121,
           -0.9542553464180343,
           -0.5644192605571883,
           1.0782994643519894,
           0.49503871747449035,
           0.5343533913205508,
           1.447396904689215,
           0.804473836069314,
           0.3481074903159142,
           -0.2505714270670016,
           -0.9029133179431246,
           0.2940895274251988,
           0.14540457070201546,
           -0.10762877600905554,
           0.3053893258733171,
           0.598940030645167,
           0.7820125036292656,
           -0.8966714305533445,
           1.6606846244283409,
           0.5727604798690485,
           1.6231494486869715,
           -0.8105612809550491,
           -0.3923264306412344,
           -0.04246774635108637,
           -0.059903525664294535,
           -0.5311755088064984,
           -0.23453465907896814,
           -2.0232349749481413,
           -0.475191922450835,
           -0.40907645810611803,
           -0.1339567374388445,
           -2.7697162720257404,
           -1.358394353131801,
           -0.08178397964309239,
           0.7753013039142149,
           0.5360340367280473,
           0.2533268706667387,
           0.5625348411215483,
           0.31576535434829717,
           -1.206120024494666,
           0.048844511971718504,
           1.120232843572727,
           0.21992570366912945,
           -0.21448152530239026,
           -1.908920438887307,
           0.9638465930685435,
           0.7935170953105968,
           0.8460362189297203,
           0.8793126804341501,
           -0.3120587028701596,
           0.9023335833858086,
           -1.2657523325157283,
           1.268781693218166,
           -0.05215591066790494,
           0.6968094280163797,
           -1.189618503274249,
           1.8258605748682426,
           -1.6072554233354683,
           0.0468494169654665,
           0.6188673797537998,
           -0.35377270836903085,
           0.7879111619926648,
           1.0992184325469223,
           -0.3551296686529979,
           0.9551820492099591,
           -1.9799928033362035,
           -1.4876434001811865,
           1.258773185930191,
           0.06426248988592512,
           -0.27308672608175666,
           2.3920188360109895
          ],
          [
           -0.5174427882896812,
           2.6003500721367523,
           -0.398272656123329,
           1.0507472535838591,
           0.8484275564204568,
           0.34558531549137267,
           -0.7251750770576902,
           0.21203195288143903,
           1.0247005880785944,
           -0.41853128884587465,
           -0.5792595251450603,
           -0.23468009328856468,
           -0.37024797574697754,
           -1.6223191538820032,
           0.15822171939306529,
           0.7577979333440427,
           1.3104606801852252,
           0.354980393666831,
           1.0120449798349127,
           -1.3830630529587908,
           -0.7625692342748789,
           -0.031060772043171623,
           0.5876748574760096,
           -0.743381893549244,
           -0.07429448923367035,
           -1.2004104644731826,
           -0.24151882697923244,
           -2.320503904382237,
           -0.24087115581766094,
           -0.6987973244103791,
           -1.529215465871502,
           -0.4634558897134851,
           -0.517397324567097,
           -1.8826290407376154,
           -0.31550730650325126,
           -1.2810841938510928,
           -0.8165122345800369,
           0.010350999435031857,
           0.6307697461985253,
           0.6349949735690572,
           -1.3556578317900443,
           -0.07291038369075702,
           1.8848957700591833,
           -0.05777255081355184,
           0.6305221253983728,
           -0.977814856382125,
           1.2690335969192925,
           -0.5369021582866585,
           0.722476421578678,
           -0.6211934196164647,
           -0.3681602983448335,
           0.9156272215217325,
           -0.7906496269252035,
           1.245402244792277,
           -0.8609902609396055,
           1.5565591336143088,
           2.2655015589706453,
           -0.559343883766819,
           0.6072014775791178,
           0.18524797697217793,
           -0.5927180845146982,
           -0.4885482202160909,
           -0.2893087340183615,
           -0.09883201903432087,
           -0.5075521083179926,
           -0.021700889479004296,
           -1.305263590768384,
           -2.475515689150806,
           0.7843295779319387,
           -1.2032159148318333,
           1.9693577778767357,
           1.2238146565172854,
           1.1218344358044634,
           0.6674877264904224,
           1.2987751223433057,
           0.8637612322891047,
           0.7141219494868857,
           -0.5771529440751496,
           -1.2094988170327658,
           -0.30680557397477326,
           -1.5553797829605431,
           -1.7642989796422124,
           0.2592547356714931,
           2.168363029888972,
           0.030842989528504984,
           -1.6804497353868382,
           0.2818989496594489,
           -1.4778125028049618,
           -0.19193682085594233,
           0.6545811208782711,
           -0.6105512277782915,
           -0.5515806204315961,
           0.6817777225025149,
           -3.5935123694260622,
           -0.7399182083758457,
           0.17627441095701263,
           0.5453205448981414,
           -1.5226575299689897,
           -0.08078954284580486,
           -0.2065928315307047
          ]
         ]
        }
       ],
       "layout": {
        "legend": {
         "bgcolor": "#F5F6F9",
         "font": {
          "color": "#4D5663"
         }
        },
        "paper_bgcolor": "#F5F6F9",
        "plot_bgcolor": "#F5F6F9",
        "template": {
         "data": {
          "bar": [
           {
            "error_x": {
             "color": "#2a3f5f"
            },
            "error_y": {
             "color": "#2a3f5f"
            },
            "marker": {
             "line": {
              "color": "#E5ECF6",
              "width": 0.5
             },
             "pattern": {
              "fillmode": "overlay",
              "size": 10,
              "solidity": 0.2
             }
            },
            "type": "bar"
           }
          ],
          "barpolar": [
           {
            "marker": {
             "line": {
              "color": "#E5ECF6",
              "width": 0.5
             },
             "pattern": {
              "fillmode": "overlay",
              "size": 10,
              "solidity": 0.2
             }
            },
            "type": "barpolar"
           }
          ],
          "carpet": [
           {
            "aaxis": {
             "endlinecolor": "#2a3f5f",
             "gridcolor": "white",
             "linecolor": "white",
             "minorgridcolor": "white",
             "startlinecolor": "#2a3f5f"
            },
            "baxis": {
             "endlinecolor": "#2a3f5f",
             "gridcolor": "white",
             "linecolor": "white",
             "minorgridcolor": "white",
             "startlinecolor": "#2a3f5f"
            },
            "type": "carpet"
           }
          ],
          "choropleth": [
           {
            "colorbar": {
             "outlinewidth": 0,
             "ticks": ""
            },
            "type": "choropleth"
           }
          ],
          "contour": [
           {
            "colorbar": {
             "outlinewidth": 0,
             "ticks": ""
            },
            "colorscale": [
             [
              0,
              "#0d0887"
             ],
             [
              0.1111111111111111,
              "#46039f"
             ],
             [
              0.2222222222222222,
              "#7201a8"
             ],
             [
              0.3333333333333333,
              "#9c179e"
             ],
             [
              0.4444444444444444,
              "#bd3786"
             ],
             [
              0.5555555555555556,
              "#d8576b"
             ],
             [
              0.6666666666666666,
              "#ed7953"
             ],
             [
              0.7777777777777778,
              "#fb9f3a"
             ],
             [
              0.8888888888888888,
              "#fdca26"
             ],
             [
              1,
              "#f0f921"
             ]
            ],
            "type": "contour"
           }
          ],
          "contourcarpet": [
           {
            "colorbar": {
             "outlinewidth": 0,
             "ticks": ""
            },
            "type": "contourcarpet"
           }
          ],
          "heatmap": [
           {
            "colorbar": {
             "outlinewidth": 0,
             "ticks": ""
            },
            "colorscale": [
             [
              0,
              "#0d0887"
             ],
             [
              0.1111111111111111,
              "#46039f"
             ],
             [
              0.2222222222222222,
              "#7201a8"
             ],
             [
              0.3333333333333333,
              "#9c179e"
             ],
             [
              0.4444444444444444,
              "#bd3786"
             ],
             [
              0.5555555555555556,
              "#d8576b"
             ],
             [
              0.6666666666666666,
              "#ed7953"
             ],
             [
              0.7777777777777778,
              "#fb9f3a"
             ],
             [
              0.8888888888888888,
              "#fdca26"
             ],
             [
              1,
              "#f0f921"
             ]
            ],
            "type": "heatmap"
           }
          ],
          "heatmapgl": [
           {
            "colorbar": {
             "outlinewidth": 0,
             "ticks": ""
            },
            "colorscale": [
             [
              0,
              "#0d0887"
             ],
             [
              0.1111111111111111,
              "#46039f"
             ],
             [
              0.2222222222222222,
              "#7201a8"
             ],
             [
              0.3333333333333333,
              "#9c179e"
             ],
             [
              0.4444444444444444,
              "#bd3786"
             ],
             [
              0.5555555555555556,
              "#d8576b"
             ],
             [
              0.6666666666666666,
              "#ed7953"
             ],
             [
              0.7777777777777778,
              "#fb9f3a"
             ],
             [
              0.8888888888888888,
              "#fdca26"
             ],
             [
              1,
              "#f0f921"
             ]
            ],
            "type": "heatmapgl"
           }
          ],
          "histogram": [
           {
            "marker": {
             "pattern": {
              "fillmode": "overlay",
              "size": 10,
              "solidity": 0.2
             }
            },
            "type": "histogram"
           }
          ],
          "histogram2d": [
           {
            "colorbar": {
             "outlinewidth": 0,
             "ticks": ""
            },
            "colorscale": [
             [
              0,
              "#0d0887"
             ],
             [
              0.1111111111111111,
              "#46039f"
             ],
             [
              0.2222222222222222,
              "#7201a8"
             ],
             [
              0.3333333333333333,
              "#9c179e"
             ],
             [
              0.4444444444444444,
              "#bd3786"
             ],
             [
              0.5555555555555556,
              "#d8576b"
             ],
             [
              0.6666666666666666,
              "#ed7953"
             ],
             [
              0.7777777777777778,
              "#fb9f3a"
             ],
             [
              0.8888888888888888,
              "#fdca26"
             ],
             [
              1,
              "#f0f921"
             ]
            ],
            "type": "histogram2d"
           }
          ],
          "histogram2dcontour": [
           {
            "colorbar": {
             "outlinewidth": 0,
             "ticks": ""
            },
            "colorscale": [
             [
              0,
              "#0d0887"
             ],
             [
              0.1111111111111111,
              "#46039f"
             ],
             [
              0.2222222222222222,
              "#7201a8"
             ],
             [
              0.3333333333333333,
              "#9c179e"
             ],
             [
              0.4444444444444444,
              "#bd3786"
             ],
             [
              0.5555555555555556,
              "#d8576b"
             ],
             [
              0.6666666666666666,
              "#ed7953"
             ],
             [
              0.7777777777777778,
              "#fb9f3a"
             ],
             [
              0.8888888888888888,
              "#fdca26"
             ],
             [
              1,
              "#f0f921"
             ]
            ],
            "type": "histogram2dcontour"
           }
          ],
          "mesh3d": [
           {
            "colorbar": {
             "outlinewidth": 0,
             "ticks": ""
            },
            "type": "mesh3d"
           }
          ],
          "parcoords": [
           {
            "line": {
             "colorbar": {
              "outlinewidth": 0,
              "ticks": ""
             }
            },
            "type": "parcoords"
           }
          ],
          "pie": [
           {
            "automargin": true,
            "type": "pie"
           }
          ],
          "scatter": [
           {
            "fillpattern": {
             "fillmode": "overlay",
             "size": 10,
             "solidity": 0.2
            },
            "type": "scatter"
           }
          ],
          "scatter3d": [
           {
            "line": {
             "colorbar": {
              "outlinewidth": 0,
              "ticks": ""
             }
            },
            "marker": {
             "colorbar": {
              "outlinewidth": 0,
              "ticks": ""
             }
            },
            "type": "scatter3d"
           }
          ],
          "scattercarpet": [
           {
            "marker": {
             "colorbar": {
              "outlinewidth": 0,
              "ticks": ""
             }
            },
            "type": "scattercarpet"
           }
          ],
          "scattergeo": [
           {
            "marker": {
             "colorbar": {
              "outlinewidth": 0,
              "ticks": ""
             }
            },
            "type": "scattergeo"
           }
          ],
          "scattergl": [
           {
            "marker": {
             "colorbar": {
              "outlinewidth": 0,
              "ticks": ""
             }
            },
            "type": "scattergl"
           }
          ],
          "scattermapbox": [
           {
            "marker": {
             "colorbar": {
              "outlinewidth": 0,
              "ticks": ""
             }
            },
            "type": "scattermapbox"
           }
          ],
          "scatterpolar": [
           {
            "marker": {
             "colorbar": {
              "outlinewidth": 0,
              "ticks": ""
             }
            },
            "type": "scatterpolar"
           }
          ],
          "scatterpolargl": [
           {
            "marker": {
             "colorbar": {
              "outlinewidth": 0,
              "ticks": ""
             }
            },
            "type": "scatterpolargl"
           }
          ],
          "scatterternary": [
           {
            "marker": {
             "colorbar": {
              "outlinewidth": 0,
              "ticks": ""
             }
            },
            "type": "scatterternary"
           }
          ],
          "surface": [
           {
            "colorbar": {
             "outlinewidth": 0,
             "ticks": ""
            },
            "colorscale": [
             [
              0,
              "#0d0887"
             ],
             [
              0.1111111111111111,
              "#46039f"
             ],
             [
              0.2222222222222222,
              "#7201a8"
             ],
             [
              0.3333333333333333,
              "#9c179e"
             ],
             [
              0.4444444444444444,
              "#bd3786"
             ],
             [
              0.5555555555555556,
              "#d8576b"
             ],
             [
              0.6666666666666666,
              "#ed7953"
             ],
             [
              0.7777777777777778,
              "#fb9f3a"
             ],
             [
              0.8888888888888888,
              "#fdca26"
             ],
             [
              1,
              "#f0f921"
             ]
            ],
            "type": "surface"
           }
          ],
          "table": [
           {
            "cells": {
             "fill": {
              "color": "#EBF0F8"
             },
             "line": {
              "color": "white"
             }
            },
            "header": {
             "fill": {
              "color": "#C8D4E3"
             },
             "line": {
              "color": "white"
             }
            },
            "type": "table"
           }
          ]
         },
         "layout": {
          "annotationdefaults": {
           "arrowcolor": "#2a3f5f",
           "arrowhead": 0,
           "arrowwidth": 1
          },
          "autotypenumbers": "strict",
          "coloraxis": {
           "colorbar": {
            "outlinewidth": 0,
            "ticks": ""
           }
          },
          "colorscale": {
           "diverging": [
            [
             0,
             "#8e0152"
            ],
            [
             0.1,
             "#c51b7d"
            ],
            [
             0.2,
             "#de77ae"
            ],
            [
             0.3,
             "#f1b6da"
            ],
            [
             0.4,
             "#fde0ef"
            ],
            [
             0.5,
             "#f7f7f7"
            ],
            [
             0.6,
             "#e6f5d0"
            ],
            [
             0.7,
             "#b8e186"
            ],
            [
             0.8,
             "#7fbc41"
            ],
            [
             0.9,
             "#4d9221"
            ],
            [
             1,
             "#276419"
            ]
           ],
           "sequential": [
            [
             0,
             "#0d0887"
            ],
            [
             0.1111111111111111,
             "#46039f"
            ],
            [
             0.2222222222222222,
             "#7201a8"
            ],
            [
             0.3333333333333333,
             "#9c179e"
            ],
            [
             0.4444444444444444,
             "#bd3786"
            ],
            [
             0.5555555555555556,
             "#d8576b"
            ],
            [
             0.6666666666666666,
             "#ed7953"
            ],
            [
             0.7777777777777778,
             "#fb9f3a"
            ],
            [
             0.8888888888888888,
             "#fdca26"
            ],
            [
             1,
             "#f0f921"
            ]
           ],
           "sequentialminus": [
            [
             0,
             "#0d0887"
            ],
            [
             0.1111111111111111,
             "#46039f"
            ],
            [
             0.2222222222222222,
             "#7201a8"
            ],
            [
             0.3333333333333333,
             "#9c179e"
            ],
            [
             0.4444444444444444,
             "#bd3786"
            ],
            [
             0.5555555555555556,
             "#d8576b"
            ],
            [
             0.6666666666666666,
             "#ed7953"
            ],
            [
             0.7777777777777778,
             "#fb9f3a"
            ],
            [
             0.8888888888888888,
             "#fdca26"
            ],
            [
             1,
             "#f0f921"
            ]
           ]
          },
          "colorway": [
           "#636efa",
           "#EF553B",
           "#00cc96",
           "#ab63fa",
           "#FFA15A",
           "#19d3f3",
           "#FF6692",
           "#B6E880",
           "#FF97FF",
           "#FECB52"
          ],
          "font": {
           "color": "#2a3f5f"
          },
          "geo": {
           "bgcolor": "white",
           "lakecolor": "white",
           "landcolor": "#E5ECF6",
           "showlakes": true,
           "showland": true,
           "subunitcolor": "white"
          },
          "hoverlabel": {
           "align": "left"
          },
          "hovermode": "closest",
          "mapbox": {
           "style": "light"
          },
          "paper_bgcolor": "white",
          "plot_bgcolor": "#E5ECF6",
          "polar": {
           "angularaxis": {
            "gridcolor": "white",
            "linecolor": "white",
            "ticks": ""
           },
           "bgcolor": "#E5ECF6",
           "radialaxis": {
            "gridcolor": "white",
            "linecolor": "white",
            "ticks": ""
           }
          },
          "scene": {
           "xaxis": {
            "backgroundcolor": "#E5ECF6",
            "gridcolor": "white",
            "gridwidth": 2,
            "linecolor": "white",
            "showbackground": true,
            "ticks": "",
            "zerolinecolor": "white"
           },
           "yaxis": {
            "backgroundcolor": "#E5ECF6",
            "gridcolor": "white",
            "gridwidth": 2,
            "linecolor": "white",
            "showbackground": true,
            "ticks": "",
            "zerolinecolor": "white"
           },
           "zaxis": {
            "backgroundcolor": "#E5ECF6",
            "gridcolor": "white",
            "gridwidth": 2,
            "linecolor": "white",
            "showbackground": true,
            "ticks": "",
            "zerolinecolor": "white"
           }
          },
          "shapedefaults": {
           "line": {
            "color": "#2a3f5f"
           }
          },
          "ternary": {
           "aaxis": {
            "gridcolor": "white",
            "linecolor": "white",
            "ticks": ""
           },
           "baxis": {
            "gridcolor": "white",
            "linecolor": "white",
            "ticks": ""
           },
           "bgcolor": "#E5ECF6",
           "caxis": {
            "gridcolor": "white",
            "linecolor": "white",
            "ticks": ""
           }
          },
          "title": {
           "x": 0.05
          },
          "xaxis": {
           "automargin": true,
           "gridcolor": "white",
           "linecolor": "white",
           "ticks": "",
           "title": {
            "standoff": 15
           },
           "zerolinecolor": "white",
           "zerolinewidth": 2
          },
          "yaxis": {
           "automargin": true,
           "gridcolor": "white",
           "linecolor": "white",
           "ticks": "",
           "title": {
            "standoff": 15
           },
           "zerolinecolor": "white",
           "zerolinewidth": 2
          }
         }
        },
        "title": {
         "font": {
          "color": "#4D5663"
         }
        },
        "xaxis": {
         "gridcolor": "#E1E5ED",
         "showgrid": true,
         "tickfont": {
          "color": "#4D5663"
         },
         "title": {
          "font": {
           "color": "#4D5663"
          },
          "text": ""
         },
         "zerolinecolor": "#E1E5ED"
        },
        "yaxis": {
         "gridcolor": "#E1E5ED",
         "showgrid": true,
         "tickfont": {
          "color": "#4D5663"
         },
         "title": {
          "font": {
           "color": "#4D5663"
          },
          "text": ""
         },
         "zerolinecolor": "#E1E5ED"
        }
       }
      },
      "text/html": [
       "<div>                            <div id=\"0079b7fa-f4ad-4106-99d1-b43cbcb0b2d6\" class=\"plotly-graph-div\" style=\"height:525px; width:100%;\"></div>            <script type=\"text/javascript\">                require([\"plotly\"], function(Plotly) {                    window.PLOTLYENV=window.PLOTLYENV || {};\n",
       "                    window.PLOTLYENV.BASE_URL='https://plot.ly';                                    if (document.getElementById(\"0079b7fa-f4ad-4106-99d1-b43cbcb0b2d6\")) {                    Plotly.newPlot(                        \"0079b7fa-f4ad-4106-99d1-b43cbcb0b2d6\",                        [{\"colorscale\":[[0.0,\"rgb(255, 153, 51)\"],[0.1111111111111111,\"rgb(55, 128, 191)\"],[0.2222222222222222,\"rgb(50, 171, 96)\"],[0.3333333333333333,\"rgb(128, 0, 128)\"],[0.4444444444444444,\"rgb(219, 64, 82)\"],[0.5555555555555556,\"rgb(0, 128, 128)\"],[0.6666666666666666,\"rgb(255, 255, 51)\"],[0.7777777777777778,\"rgb(128, 128, 0)\"],[0.8888888888888888,\"rgb(251, 128, 114)\"],[1.0,\"rgb(128, 177, 211)\"]],\"x\":[0,1,2,3,4,5,6,7,8,9,10,11,12,13,14,15,16,17,18,19,20,21,22,23,24,25,26,27,28,29,30,31,32,33,34,35,36,37,38,39,40,41,42,43,44,45,46,47,48,49,50,51,52,53,54,55,56,57,58,59,60,61,62,63,64,65,66,67,68,69,70,71,72,73,74,75,76,77,78,79,80,81,82,83,84,85,86,87,88,89,90,91,92,93,94,95,96,97,98,99],\"y\":[\"A\",\"B\"],\"z\":[[0.33567605600194994,-0.8109873503861798,-2.6316756978724447,0.5776275311286065,-0.22530496487367777,0.8097460374131469,-0.5115338215552406,-0.4590997186416238,-0.298577056088914,-0.28541368761683306,-0.5472911448565846,0.3027742133920709,0.8902345216571652,-0.9239113525121986,0.9416625216245742,-0.18066450525113226,-2.0881969759280192,0.47500151093148335,-1.2731709071783763,1.230559710728227,-0.1605185431067916,0.6015686401189955,1.0663771004856937,0.4339044154824729,0.42688970128877163,0.7278870362259178,-0.6948804563250303,-0.05374882813326524,-1.6336690547739716,-0.88579686362121,-0.9542553464180343,-0.5644192605571883,1.0782994643519894,0.49503871747449035,0.5343533913205508,1.447396904689215,0.804473836069314,0.3481074903159142,-0.2505714270670016,-0.9029133179431246,0.2940895274251988,0.14540457070201546,-0.10762877600905554,0.3053893258733171,0.598940030645167,0.7820125036292656,-0.8966714305533445,1.6606846244283409,0.5727604798690485,1.6231494486869715,-0.8105612809550491,-0.3923264306412344,-0.04246774635108637,-0.059903525664294535,-0.5311755088064984,-0.23453465907896814,-2.0232349749481413,-0.475191922450835,-0.40907645810611803,-0.1339567374388445,-2.7697162720257404,-1.358394353131801,-0.08178397964309239,0.7753013039142149,0.5360340367280473,0.2533268706667387,0.5625348411215483,0.31576535434829717,-1.206120024494666,0.048844511971718504,1.120232843572727,0.21992570366912945,-0.21448152530239026,-1.908920438887307,0.9638465930685435,0.7935170953105968,0.8460362189297203,0.8793126804341501,-0.3120587028701596,0.9023335833858086,-1.2657523325157283,1.268781693218166,-0.05215591066790494,0.6968094280163797,-1.189618503274249,1.8258605748682426,-1.6072554233354683,0.0468494169654665,0.6188673797537998,-0.35377270836903085,0.7879111619926648,1.0992184325469223,-0.3551296686529979,0.9551820492099591,-1.9799928033362035,-1.4876434001811865,1.258773185930191,0.06426248988592512,-0.27308672608175666,2.3920188360109895],[-0.5174427882896812,2.6003500721367523,-0.398272656123329,1.0507472535838591,0.8484275564204568,0.34558531549137267,-0.7251750770576902,0.21203195288143903,1.0247005880785944,-0.41853128884587465,-0.5792595251450603,-0.23468009328856468,-0.37024797574697754,-1.6223191538820032,0.15822171939306529,0.7577979333440427,1.3104606801852252,0.354980393666831,1.0120449798349127,-1.3830630529587908,-0.7625692342748789,-0.031060772043171623,0.5876748574760096,-0.743381893549244,-0.07429448923367035,-1.2004104644731826,-0.24151882697923244,-2.320503904382237,-0.24087115581766094,-0.6987973244103791,-1.529215465871502,-0.4634558897134851,-0.517397324567097,-1.8826290407376154,-0.31550730650325126,-1.2810841938510928,-0.8165122345800369,0.010350999435031857,0.6307697461985253,0.6349949735690572,-1.3556578317900443,-0.07291038369075702,1.8848957700591833,-0.05777255081355184,0.6305221253983728,-0.977814856382125,1.2690335969192925,-0.5369021582866585,0.722476421578678,-0.6211934196164647,-0.3681602983448335,0.9156272215217325,-0.7906496269252035,1.245402244792277,-0.8609902609396055,1.5565591336143088,2.2655015589706453,-0.559343883766819,0.6072014775791178,0.18524797697217793,-0.5927180845146982,-0.4885482202160909,-0.2893087340183615,-0.09883201903432087,-0.5075521083179926,-0.021700889479004296,-1.305263590768384,-2.475515689150806,0.7843295779319387,-1.2032159148318333,1.9693577778767357,1.2238146565172854,1.1218344358044634,0.6674877264904224,1.2987751223433057,0.8637612322891047,0.7141219494868857,-0.5771529440751496,-1.2094988170327658,-0.30680557397477326,-1.5553797829605431,-1.7642989796422124,0.2592547356714931,2.168363029888972,0.030842989528504984,-1.6804497353868382,0.2818989496594489,-1.4778125028049618,-0.19193682085594233,0.6545811208782711,-0.6105512277782915,-0.5515806204315961,0.6817777225025149,-3.5935123694260622,-0.7399182083758457,0.17627441095701263,0.5453205448981414,-1.5226575299689897,-0.08078954284580486,-0.2065928315307047]],\"type\":\"surface\"}],                        {\"legend\":{\"bgcolor\":\"#F5F6F9\",\"font\":{\"color\":\"#4D5663\"}},\"paper_bgcolor\":\"#F5F6F9\",\"plot_bgcolor\":\"#F5F6F9\",\"template\":{\"data\":{\"barpolar\":[{\"marker\":{\"line\":{\"color\":\"#E5ECF6\",\"width\":0.5},\"pattern\":{\"fillmode\":\"overlay\",\"size\":10,\"solidity\":0.2}},\"type\":\"barpolar\"}],\"bar\":[{\"error_x\":{\"color\":\"#2a3f5f\"},\"error_y\":{\"color\":\"#2a3f5f\"},\"marker\":{\"line\":{\"color\":\"#E5ECF6\",\"width\":0.5},\"pattern\":{\"fillmode\":\"overlay\",\"size\":10,\"solidity\":0.2}},\"type\":\"bar\"}],\"carpet\":[{\"aaxis\":{\"endlinecolor\":\"#2a3f5f\",\"gridcolor\":\"white\",\"linecolor\":\"white\",\"minorgridcolor\":\"white\",\"startlinecolor\":\"#2a3f5f\"},\"baxis\":{\"endlinecolor\":\"#2a3f5f\",\"gridcolor\":\"white\",\"linecolor\":\"white\",\"minorgridcolor\":\"white\",\"startlinecolor\":\"#2a3f5f\"},\"type\":\"carpet\"}],\"choropleth\":[{\"colorbar\":{\"outlinewidth\":0,\"ticks\":\"\"},\"type\":\"choropleth\"}],\"contourcarpet\":[{\"colorbar\":{\"outlinewidth\":0,\"ticks\":\"\"},\"type\":\"contourcarpet\"}],\"contour\":[{\"colorbar\":{\"outlinewidth\":0,\"ticks\":\"\"},\"colorscale\":[[0.0,\"#0d0887\"],[0.1111111111111111,\"#46039f\"],[0.2222222222222222,\"#7201a8\"],[0.3333333333333333,\"#9c179e\"],[0.4444444444444444,\"#bd3786\"],[0.5555555555555556,\"#d8576b\"],[0.6666666666666666,\"#ed7953\"],[0.7777777777777778,\"#fb9f3a\"],[0.8888888888888888,\"#fdca26\"],[1.0,\"#f0f921\"]],\"type\":\"contour\"}],\"heatmapgl\":[{\"colorbar\":{\"outlinewidth\":0,\"ticks\":\"\"},\"colorscale\":[[0.0,\"#0d0887\"],[0.1111111111111111,\"#46039f\"],[0.2222222222222222,\"#7201a8\"],[0.3333333333333333,\"#9c179e\"],[0.4444444444444444,\"#bd3786\"],[0.5555555555555556,\"#d8576b\"],[0.6666666666666666,\"#ed7953\"],[0.7777777777777778,\"#fb9f3a\"],[0.8888888888888888,\"#fdca26\"],[1.0,\"#f0f921\"]],\"type\":\"heatmapgl\"}],\"heatmap\":[{\"colorbar\":{\"outlinewidth\":0,\"ticks\":\"\"},\"colorscale\":[[0.0,\"#0d0887\"],[0.1111111111111111,\"#46039f\"],[0.2222222222222222,\"#7201a8\"],[0.3333333333333333,\"#9c179e\"],[0.4444444444444444,\"#bd3786\"],[0.5555555555555556,\"#d8576b\"],[0.6666666666666666,\"#ed7953\"],[0.7777777777777778,\"#fb9f3a\"],[0.8888888888888888,\"#fdca26\"],[1.0,\"#f0f921\"]],\"type\":\"heatmap\"}],\"histogram2dcontour\":[{\"colorbar\":{\"outlinewidth\":0,\"ticks\":\"\"},\"colorscale\":[[0.0,\"#0d0887\"],[0.1111111111111111,\"#46039f\"],[0.2222222222222222,\"#7201a8\"],[0.3333333333333333,\"#9c179e\"],[0.4444444444444444,\"#bd3786\"],[0.5555555555555556,\"#d8576b\"],[0.6666666666666666,\"#ed7953\"],[0.7777777777777778,\"#fb9f3a\"],[0.8888888888888888,\"#fdca26\"],[1.0,\"#f0f921\"]],\"type\":\"histogram2dcontour\"}],\"histogram2d\":[{\"colorbar\":{\"outlinewidth\":0,\"ticks\":\"\"},\"colorscale\":[[0.0,\"#0d0887\"],[0.1111111111111111,\"#46039f\"],[0.2222222222222222,\"#7201a8\"],[0.3333333333333333,\"#9c179e\"],[0.4444444444444444,\"#bd3786\"],[0.5555555555555556,\"#d8576b\"],[0.6666666666666666,\"#ed7953\"],[0.7777777777777778,\"#fb9f3a\"],[0.8888888888888888,\"#fdca26\"],[1.0,\"#f0f921\"]],\"type\":\"histogram2d\"}],\"histogram\":[{\"marker\":{\"pattern\":{\"fillmode\":\"overlay\",\"size\":10,\"solidity\":0.2}},\"type\":\"histogram\"}],\"mesh3d\":[{\"colorbar\":{\"outlinewidth\":0,\"ticks\":\"\"},\"type\":\"mesh3d\"}],\"parcoords\":[{\"line\":{\"colorbar\":{\"outlinewidth\":0,\"ticks\":\"\"}},\"type\":\"parcoords\"}],\"pie\":[{\"automargin\":true,\"type\":\"pie\"}],\"scatter3d\":[{\"line\":{\"colorbar\":{\"outlinewidth\":0,\"ticks\":\"\"}},\"marker\":{\"colorbar\":{\"outlinewidth\":0,\"ticks\":\"\"}},\"type\":\"scatter3d\"}],\"scattercarpet\":[{\"marker\":{\"colorbar\":{\"outlinewidth\":0,\"ticks\":\"\"}},\"type\":\"scattercarpet\"}],\"scattergeo\":[{\"marker\":{\"colorbar\":{\"outlinewidth\":0,\"ticks\":\"\"}},\"type\":\"scattergeo\"}],\"scattergl\":[{\"marker\":{\"colorbar\":{\"outlinewidth\":0,\"ticks\":\"\"}},\"type\":\"scattergl\"}],\"scattermapbox\":[{\"marker\":{\"colorbar\":{\"outlinewidth\":0,\"ticks\":\"\"}},\"type\":\"scattermapbox\"}],\"scatterpolargl\":[{\"marker\":{\"colorbar\":{\"outlinewidth\":0,\"ticks\":\"\"}},\"type\":\"scatterpolargl\"}],\"scatterpolar\":[{\"marker\":{\"colorbar\":{\"outlinewidth\":0,\"ticks\":\"\"}},\"type\":\"scatterpolar\"}],\"scatter\":[{\"fillpattern\":{\"fillmode\":\"overlay\",\"size\":10,\"solidity\":0.2},\"type\":\"scatter\"}],\"scatterternary\":[{\"marker\":{\"colorbar\":{\"outlinewidth\":0,\"ticks\":\"\"}},\"type\":\"scatterternary\"}],\"surface\":[{\"colorbar\":{\"outlinewidth\":0,\"ticks\":\"\"},\"colorscale\":[[0.0,\"#0d0887\"],[0.1111111111111111,\"#46039f\"],[0.2222222222222222,\"#7201a8\"],[0.3333333333333333,\"#9c179e\"],[0.4444444444444444,\"#bd3786\"],[0.5555555555555556,\"#d8576b\"],[0.6666666666666666,\"#ed7953\"],[0.7777777777777778,\"#fb9f3a\"],[0.8888888888888888,\"#fdca26\"],[1.0,\"#f0f921\"]],\"type\":\"surface\"}],\"table\":[{\"cells\":{\"fill\":{\"color\":\"#EBF0F8\"},\"line\":{\"color\":\"white\"}},\"header\":{\"fill\":{\"color\":\"#C8D4E3\"},\"line\":{\"color\":\"white\"}},\"type\":\"table\"}]},\"layout\":{\"annotationdefaults\":{\"arrowcolor\":\"#2a3f5f\",\"arrowhead\":0,\"arrowwidth\":1},\"autotypenumbers\":\"strict\",\"coloraxis\":{\"colorbar\":{\"outlinewidth\":0,\"ticks\":\"\"}},\"colorscale\":{\"diverging\":[[0,\"#8e0152\"],[0.1,\"#c51b7d\"],[0.2,\"#de77ae\"],[0.3,\"#f1b6da\"],[0.4,\"#fde0ef\"],[0.5,\"#f7f7f7\"],[0.6,\"#e6f5d0\"],[0.7,\"#b8e186\"],[0.8,\"#7fbc41\"],[0.9,\"#4d9221\"],[1,\"#276419\"]],\"sequential\":[[0.0,\"#0d0887\"],[0.1111111111111111,\"#46039f\"],[0.2222222222222222,\"#7201a8\"],[0.3333333333333333,\"#9c179e\"],[0.4444444444444444,\"#bd3786\"],[0.5555555555555556,\"#d8576b\"],[0.6666666666666666,\"#ed7953\"],[0.7777777777777778,\"#fb9f3a\"],[0.8888888888888888,\"#fdca26\"],[1.0,\"#f0f921\"]],\"sequentialminus\":[[0.0,\"#0d0887\"],[0.1111111111111111,\"#46039f\"],[0.2222222222222222,\"#7201a8\"],[0.3333333333333333,\"#9c179e\"],[0.4444444444444444,\"#bd3786\"],[0.5555555555555556,\"#d8576b\"],[0.6666666666666666,\"#ed7953\"],[0.7777777777777778,\"#fb9f3a\"],[0.8888888888888888,\"#fdca26\"],[1.0,\"#f0f921\"]]},\"colorway\":[\"#636efa\",\"#EF553B\",\"#00cc96\",\"#ab63fa\",\"#FFA15A\",\"#19d3f3\",\"#FF6692\",\"#B6E880\",\"#FF97FF\",\"#FECB52\"],\"font\":{\"color\":\"#2a3f5f\"},\"geo\":{\"bgcolor\":\"white\",\"lakecolor\":\"white\",\"landcolor\":\"#E5ECF6\",\"showlakes\":true,\"showland\":true,\"subunitcolor\":\"white\"},\"hoverlabel\":{\"align\":\"left\"},\"hovermode\":\"closest\",\"mapbox\":{\"style\":\"light\"},\"paper_bgcolor\":\"white\",\"plot_bgcolor\":\"#E5ECF6\",\"polar\":{\"angularaxis\":{\"gridcolor\":\"white\",\"linecolor\":\"white\",\"ticks\":\"\"},\"bgcolor\":\"#E5ECF6\",\"radialaxis\":{\"gridcolor\":\"white\",\"linecolor\":\"white\",\"ticks\":\"\"}},\"scene\":{\"xaxis\":{\"backgroundcolor\":\"#E5ECF6\",\"gridcolor\":\"white\",\"gridwidth\":2,\"linecolor\":\"white\",\"showbackground\":true,\"ticks\":\"\",\"zerolinecolor\":\"white\"},\"yaxis\":{\"backgroundcolor\":\"#E5ECF6\",\"gridcolor\":\"white\",\"gridwidth\":2,\"linecolor\":\"white\",\"showbackground\":true,\"ticks\":\"\",\"zerolinecolor\":\"white\"},\"zaxis\":{\"backgroundcolor\":\"#E5ECF6\",\"gridcolor\":\"white\",\"gridwidth\":2,\"linecolor\":\"white\",\"showbackground\":true,\"ticks\":\"\",\"zerolinecolor\":\"white\"}},\"shapedefaults\":{\"line\":{\"color\":\"#2a3f5f\"}},\"ternary\":{\"aaxis\":{\"gridcolor\":\"white\",\"linecolor\":\"white\",\"ticks\":\"\"},\"baxis\":{\"gridcolor\":\"white\",\"linecolor\":\"white\",\"ticks\":\"\"},\"bgcolor\":\"#E5ECF6\",\"caxis\":{\"gridcolor\":\"white\",\"linecolor\":\"white\",\"ticks\":\"\"}},\"title\":{\"x\":0.05},\"xaxis\":{\"automargin\":true,\"gridcolor\":\"white\",\"linecolor\":\"white\",\"ticks\":\"\",\"title\":{\"standoff\":15},\"zerolinecolor\":\"white\",\"zerolinewidth\":2},\"yaxis\":{\"automargin\":true,\"gridcolor\":\"white\",\"linecolor\":\"white\",\"ticks\":\"\",\"title\":{\"standoff\":15},\"zerolinecolor\":\"white\",\"zerolinewidth\":2}}},\"title\":{\"font\":{\"color\":\"#4D5663\"}},\"xaxis\":{\"gridcolor\":\"#E1E5ED\",\"showgrid\":true,\"tickfont\":{\"color\":\"#4D5663\"},\"title\":{\"font\":{\"color\":\"#4D5663\"},\"text\":\"\"},\"zerolinecolor\":\"#E1E5ED\"},\"yaxis\":{\"gridcolor\":\"#E1E5ED\",\"showgrid\":true,\"tickfont\":{\"color\":\"#4D5663\"},\"title\":{\"font\":{\"color\":\"#4D5663\"},\"text\":\"\"},\"zerolinecolor\":\"#E1E5ED\"}},                        {\"showLink\": true, \"linkText\": \"Export to plot.ly\", \"plotlyServerURL\": \"https://plot.ly\", \"responsive\": true}                    ).then(function(){\n",
       "                            \n",
       "var gd = document.getElementById('0079b7fa-f4ad-4106-99d1-b43cbcb0b2d6');\n",
       "var x = new MutationObserver(function (mutations, observer) {{\n",
       "        var display = window.getComputedStyle(gd).display;\n",
       "        if (!display || display === 'none') {{\n",
       "            console.log([gd, 'removed!']);\n",
       "            Plotly.purge(gd);\n",
       "            observer.disconnect();\n",
       "        }}\n",
       "}});\n",
       "\n",
       "// Listen for the removal of the full notebook cells\n",
       "var notebookContainer = gd.closest('#notebook-container');\n",
       "if (notebookContainer) {{\n",
       "    x.observe(notebookContainer, {childList: true});\n",
       "}}\n",
       "\n",
       "// Listen for the clearing of the current output cell\n",
       "var outputEl = gd.closest('.output');\n",
       "if (outputEl) {{\n",
       "    x.observe(outputEl, {childList: true});\n",
       "}}\n",
       "\n",
       "                        })                };                });            </script>        </div>"
      ]
     },
     "metadata": {},
     "output_type": "display_data"
    }
   ],
   "source": [
    "df[['A', 'B']].iplot(kind='surface')"
   ]
  },
  {
   "cell_type": "code",
   "execution_count": 27,
   "id": "fcdf0c93",
   "metadata": {},
   "outputs": [
    {
     "name": "stderr",
     "output_type": "stream",
     "text": [
      "C:\\ProgramData\\Anaconda3\\lib\\site-packages\\cufflinks\\plotlytools.py:849: FutureWarning:\n",
      "\n",
      "The pandas.np module is deprecated and will be removed from pandas in a future version. Import numpy directly instead\n",
      "\n",
      "C:\\ProgramData\\Anaconda3\\lib\\site-packages\\cufflinks\\plotlytools.py:850: FutureWarning:\n",
      "\n",
      "The pandas.np module is deprecated and will be removed from pandas in a future version. Import numpy directly instead\n",
      "\n"
     ]
    },
    {
     "data": {
      "application/vnd.plotly.v1+json": {
       "config": {
        "linkText": "Export to plot.ly",
        "plotlyServerURL": "https://plot.ly",
        "showLink": true
       },
       "data": [
        {
         "line": {
          "color": "rgba(255, 153, 51, 1.0)",
          "dash": "solid",
          "shape": "linear",
          "width": 1.3
         },
         "mode": "lines",
         "name": "A",
         "text": "",
         "type": "scatter",
         "x": [
          0,
          1,
          2,
          3,
          4,
          5,
          6,
          7,
          8,
          9,
          10,
          11,
          12,
          13,
          14,
          15,
          16,
          17,
          18,
          19,
          20,
          21,
          22,
          23,
          24,
          25,
          26,
          27,
          28,
          29,
          30,
          31,
          32,
          33,
          34,
          35,
          36,
          37,
          38,
          39,
          40,
          41,
          42,
          43,
          44,
          45,
          46,
          47,
          48,
          49,
          50,
          51,
          52,
          53,
          54,
          55,
          56,
          57,
          58,
          59,
          60,
          61,
          62,
          63,
          64,
          65,
          66,
          67,
          68,
          69,
          70,
          71,
          72,
          73,
          74,
          75,
          76,
          77,
          78,
          79,
          80,
          81,
          82,
          83,
          84,
          85,
          86,
          87,
          88,
          89,
          90,
          91,
          92,
          93,
          94,
          95,
          96,
          97,
          98,
          99
         ],
         "y": [
          0.33567605600194994,
          -0.8109873503861798,
          -2.6316756978724447,
          0.5776275311286065,
          -0.22530496487367777,
          0.8097460374131469,
          -0.5115338215552406,
          -0.4590997186416238,
          -0.298577056088914,
          -0.28541368761683306,
          -0.5472911448565846,
          0.3027742133920709,
          0.8902345216571652,
          -0.9239113525121986,
          0.9416625216245742,
          -0.18066450525113226,
          -2.0881969759280192,
          0.47500151093148335,
          -1.2731709071783763,
          1.230559710728227,
          -0.1605185431067916,
          0.6015686401189955,
          1.0663771004856937,
          0.4339044154824729,
          0.42688970128877163,
          0.7278870362259178,
          -0.6948804563250303,
          -0.05374882813326524,
          -1.6336690547739716,
          -0.88579686362121,
          -0.9542553464180343,
          -0.5644192605571883,
          1.0782994643519894,
          0.49503871747449035,
          0.5343533913205508,
          1.447396904689215,
          0.804473836069314,
          0.3481074903159142,
          -0.2505714270670016,
          -0.9029133179431246,
          0.2940895274251988,
          0.14540457070201546,
          -0.10762877600905554,
          0.3053893258733171,
          0.598940030645167,
          0.7820125036292656,
          -0.8966714305533445,
          1.6606846244283409,
          0.5727604798690485,
          1.6231494486869715,
          -0.8105612809550491,
          -0.3923264306412344,
          -0.04246774635108637,
          -0.059903525664294535,
          -0.5311755088064984,
          -0.23453465907896814,
          -2.0232349749481413,
          -0.475191922450835,
          -0.40907645810611803,
          -0.1339567374388445,
          -2.7697162720257404,
          -1.358394353131801,
          -0.08178397964309239,
          0.7753013039142149,
          0.5360340367280473,
          0.2533268706667387,
          0.5625348411215483,
          0.31576535434829717,
          -1.206120024494666,
          0.048844511971718504,
          1.120232843572727,
          0.21992570366912945,
          -0.21448152530239026,
          -1.908920438887307,
          0.9638465930685435,
          0.7935170953105968,
          0.8460362189297203,
          0.8793126804341501,
          -0.3120587028701596,
          0.9023335833858086,
          -1.2657523325157283,
          1.268781693218166,
          -0.05215591066790494,
          0.6968094280163797,
          -1.189618503274249,
          1.8258605748682426,
          -1.6072554233354683,
          0.0468494169654665,
          0.6188673797537998,
          -0.35377270836903085,
          0.7879111619926648,
          1.0992184325469223,
          -0.3551296686529979,
          0.9551820492099591,
          -1.9799928033362035,
          -1.4876434001811865,
          1.258773185930191,
          0.06426248988592512,
          -0.27308672608175666,
          2.3920188360109895
         ]
        },
        {
         "line": {
          "color": "rgba(55, 128, 191, 1.0)",
          "dash": "solid",
          "shape": "linear",
          "width": 1.3
         },
         "mode": "lines",
         "name": "B",
         "text": "",
         "type": "scatter",
         "x": [
          0,
          1,
          2,
          3,
          4,
          5,
          6,
          7,
          8,
          9,
          10,
          11,
          12,
          13,
          14,
          15,
          16,
          17,
          18,
          19,
          20,
          21,
          22,
          23,
          24,
          25,
          26,
          27,
          28,
          29,
          30,
          31,
          32,
          33,
          34,
          35,
          36,
          37,
          38,
          39,
          40,
          41,
          42,
          43,
          44,
          45,
          46,
          47,
          48,
          49,
          50,
          51,
          52,
          53,
          54,
          55,
          56,
          57,
          58,
          59,
          60,
          61,
          62,
          63,
          64,
          65,
          66,
          67,
          68,
          69,
          70,
          71,
          72,
          73,
          74,
          75,
          76,
          77,
          78,
          79,
          80,
          81,
          82,
          83,
          84,
          85,
          86,
          87,
          88,
          89,
          90,
          91,
          92,
          93,
          94,
          95,
          96,
          97,
          98,
          99
         ],
         "y": [
          -0.5174427882896812,
          2.6003500721367523,
          -0.398272656123329,
          1.0507472535838591,
          0.8484275564204568,
          0.34558531549137267,
          -0.7251750770576902,
          0.21203195288143903,
          1.0247005880785944,
          -0.41853128884587465,
          -0.5792595251450603,
          -0.23468009328856468,
          -0.37024797574697754,
          -1.6223191538820032,
          0.15822171939306529,
          0.7577979333440427,
          1.3104606801852252,
          0.354980393666831,
          1.0120449798349127,
          -1.3830630529587908,
          -0.7625692342748789,
          -0.031060772043171623,
          0.5876748574760096,
          -0.743381893549244,
          -0.07429448923367035,
          -1.2004104644731826,
          -0.24151882697923244,
          -2.320503904382237,
          -0.24087115581766094,
          -0.6987973244103791,
          -1.529215465871502,
          -0.4634558897134851,
          -0.517397324567097,
          -1.8826290407376154,
          -0.31550730650325126,
          -1.2810841938510928,
          -0.8165122345800369,
          0.010350999435031857,
          0.6307697461985253,
          0.6349949735690572,
          -1.3556578317900443,
          -0.07291038369075702,
          1.8848957700591833,
          -0.05777255081355184,
          0.6305221253983728,
          -0.977814856382125,
          1.2690335969192925,
          -0.5369021582866585,
          0.722476421578678,
          -0.6211934196164647,
          -0.3681602983448335,
          0.9156272215217325,
          -0.7906496269252035,
          1.245402244792277,
          -0.8609902609396055,
          1.5565591336143088,
          2.2655015589706453,
          -0.559343883766819,
          0.6072014775791178,
          0.18524797697217793,
          -0.5927180845146982,
          -0.4885482202160909,
          -0.2893087340183615,
          -0.09883201903432087,
          -0.5075521083179926,
          -0.021700889479004296,
          -1.305263590768384,
          -2.475515689150806,
          0.7843295779319387,
          -1.2032159148318333,
          1.9693577778767357,
          1.2238146565172854,
          1.1218344358044634,
          0.6674877264904224,
          1.2987751223433057,
          0.8637612322891047,
          0.7141219494868857,
          -0.5771529440751496,
          -1.2094988170327658,
          -0.30680557397477326,
          -1.5553797829605431,
          -1.7642989796422124,
          0.2592547356714931,
          2.168363029888972,
          0.030842989528504984,
          -1.6804497353868382,
          0.2818989496594489,
          -1.4778125028049618,
          -0.19193682085594233,
          0.6545811208782711,
          -0.6105512277782915,
          -0.5515806204315961,
          0.6817777225025149,
          -3.5935123694260622,
          -0.7399182083758457,
          0.17627441095701263,
          0.5453205448981414,
          -1.5226575299689897,
          -0.08078954284580486,
          -0.2065928315307047
         ]
        },
        {
         "connectgaps": false,
         "fill": "tozeroy",
         "line": {
          "color": "green",
          "dash": "solid",
          "shape": "linear",
          "width": 0.5
         },
         "mode": "lines",
         "name": "Spread",
         "showlegend": false,
         "type": "scatter",
         "x": [
          0,
          1,
          2,
          3,
          4,
          5,
          6,
          7,
          8,
          9,
          10,
          11,
          12,
          13,
          14,
          15,
          16,
          17,
          18,
          19,
          20,
          21,
          22,
          23,
          24,
          25,
          26,
          27,
          28,
          29,
          30,
          31,
          32,
          33,
          34,
          35,
          36,
          37,
          38,
          39,
          40,
          41,
          42,
          43,
          44,
          45,
          46,
          47,
          48,
          49,
          50,
          51,
          52,
          53,
          54,
          55,
          56,
          57,
          58,
          59,
          60,
          61,
          62,
          63,
          64,
          65,
          66,
          67,
          68,
          69,
          70,
          71,
          72,
          73,
          74,
          75,
          76,
          77,
          78,
          79,
          80,
          81,
          82,
          83,
          84,
          85,
          86,
          87,
          88,
          89,
          90,
          91,
          92,
          93,
          94,
          95,
          96,
          97,
          98,
          99
         ],
         "xaxis": "x2",
         "y": [
          0.8531188442916311,
          "",
          "",
          "",
          "",
          0.4641607219217742,
          0.2136412555024496,
          "",
          "",
          0.1331176012290416,
          0.031968380288475706,
          0.5374543066806355,
          1.2604824974041429,
          0.6984078013698046,
          0.7834408022315089,
          "",
          "",
          0.12002111726465237,
          "",
          2.613622763687018,
          0.6020506911680873,
          0.6326294121621671,
          0.4787022430096841,
          1.177286309031717,
          0.501184190522442,
          1.9282975006991003,
          "",
          2.266755076248972,
          "",
          "",
          0.5749601194534677,
          "",
          1.5956967889190863,
          2.3776677582121057,
          0.8498606978238021,
          2.728481098540308,
          1.6209860706493509,
          0.33775649088088233,
          "",
          "",
          1.649747359215243,
          0.2183149543927725,
          "",
          0.36316187668686895,
          "",
          1.7598273600113905,
          "",
          2.1975867827149993,
          "",
          2.2443428683034363,
          "",
          "",
          0.748181880574117,
          "",
          0.32981475213310707,
          "",
          "",
          0.08415196131598396,
          "",
          "",
          "",
          "",
          0.2075247543752691,
          0.8741333229485357,
          1.04358614504604,
          0.275027760145743,
          1.8677984318899323,
          2.791281043499103,
          "",
          1.2520604268035518,
          "",
          "",
          "",
          "",
          "",
          "",
          0.13191426944283458,
          1.4564656245092997,
          0.8974401141626063,
          1.2091391573605819,
          0.28962745044481486,
          3.033080672860378,
          "",
          "",
          "",
          3.5063103102550808,
          "",
          1.5246619197704283,
          0.8108042006097421,
          "",
          1.3984623897709563,
          1.6507990529785184,
          "",
          4.548694418636021,
          "",
          "",
          0.7134526410320495,
          1.586920019854915,
          "",
          2.5986116675416944
         ],
         "yaxis": "y2"
        },
        {
         "connectgaps": false,
         "fill": "tozeroy",
         "line": {
          "color": "red",
          "dash": "solid",
          "shape": "linear",
          "width": 0.5
         },
         "mode": "lines",
         "name": "Spread",
         "showlegend": false,
         "type": "scatter",
         "x": [
          0,
          1,
          2,
          3,
          4,
          5,
          6,
          7,
          8,
          9,
          10,
          11,
          12,
          13,
          14,
          15,
          16,
          17,
          18,
          19,
          20,
          21,
          22,
          23,
          24,
          25,
          26,
          27,
          28,
          29,
          30,
          31,
          32,
          33,
          34,
          35,
          36,
          37,
          38,
          39,
          40,
          41,
          42,
          43,
          44,
          45,
          46,
          47,
          48,
          49,
          50,
          51,
          52,
          53,
          54,
          55,
          56,
          57,
          58,
          59,
          60,
          61,
          62,
          63,
          64,
          65,
          66,
          67,
          68,
          69,
          70,
          71,
          72,
          73,
          74,
          75,
          76,
          77,
          78,
          79,
          80,
          81,
          82,
          83,
          84,
          85,
          86,
          87,
          88,
          89,
          90,
          91,
          92,
          93,
          94,
          95,
          96,
          97,
          98,
          99
         ],
         "xaxis": "x2",
         "y": [
          "",
          -3.411337422522932,
          -2.2334030417491157,
          -0.4731197224552526,
          -1.0737325212941344,
          "",
          "",
          -0.6711316715230629,
          -1.3232776441675085,
          "",
          "",
          "",
          "",
          "",
          "",
          -0.938462438595175,
          -3.3986576561132447,
          "",
          -2.285215887013289,
          "",
          "",
          "",
          "",
          "",
          "",
          "",
          -0.4533616293457978,
          "",
          -1.3927978989563106,
          -0.1869995392108309,
          "",
          -0.10096337084370316,
          "",
          "",
          "",
          "",
          "",
          "",
          -0.881341173265527,
          -1.5379082915121818,
          "",
          "",
          -1.9925245460682388,
          "",
          -0.031582094753205836,
          "",
          -2.165705027472637,
          "",
          -0.14971594170962943,
          "",
          -0.4424009826102156,
          -1.3079536521629669,
          "",
          -1.3053057704565716,
          "",
          -1.7910937926932768,
          -4.288736533918787,
          "",
          -1.0162779356852358,
          -0.31920471441102244,
          -2.1769981875110425,
          -0.8698461329157101,
          "",
          "",
          "",
          "",
          "",
          "",
          -1.9904496024266045,
          "",
          -0.8491249343040088,
          -1.0038889528481558,
          -1.3363159611068536,
          -2.576408165377729,
          -0.33492852927476224,
          -0.07024413697850795,
          "",
          "",
          "",
          "",
          "",
          "",
          -0.311410646339398,
          -1.4715536018725923,
          -1.220461492802754,
          "",
          -1.8891543729949172,
          "",
          "",
          -1.008353829247302,
          "",
          "",
          -1.0369073911555127,
          "",
          -1.2400745949603578,
          -1.6639178111381991,
          "",
          "",
          -0.1922971832359518,
          ""
         ],
         "yaxis": "y2"
        }
       ],
       "layout": {
        "hovermode": "x",
        "legend": {
         "bgcolor": "#F5F6F9",
         "font": {
          "color": "#4D5663"
         }
        },
        "paper_bgcolor": "#F5F6F9",
        "plot_bgcolor": "#F5F6F9",
        "template": {
         "data": {
          "bar": [
           {
            "error_x": {
             "color": "#2a3f5f"
            },
            "error_y": {
             "color": "#2a3f5f"
            },
            "marker": {
             "line": {
              "color": "#E5ECF6",
              "width": 0.5
             },
             "pattern": {
              "fillmode": "overlay",
              "size": 10,
              "solidity": 0.2
             }
            },
            "type": "bar"
           }
          ],
          "barpolar": [
           {
            "marker": {
             "line": {
              "color": "#E5ECF6",
              "width": 0.5
             },
             "pattern": {
              "fillmode": "overlay",
              "size": 10,
              "solidity": 0.2
             }
            },
            "type": "barpolar"
           }
          ],
          "carpet": [
           {
            "aaxis": {
             "endlinecolor": "#2a3f5f",
             "gridcolor": "white",
             "linecolor": "white",
             "minorgridcolor": "white",
             "startlinecolor": "#2a3f5f"
            },
            "baxis": {
             "endlinecolor": "#2a3f5f",
             "gridcolor": "white",
             "linecolor": "white",
             "minorgridcolor": "white",
             "startlinecolor": "#2a3f5f"
            },
            "type": "carpet"
           }
          ],
          "choropleth": [
           {
            "colorbar": {
             "outlinewidth": 0,
             "ticks": ""
            },
            "type": "choropleth"
           }
          ],
          "contour": [
           {
            "colorbar": {
             "outlinewidth": 0,
             "ticks": ""
            },
            "colorscale": [
             [
              0,
              "#0d0887"
             ],
             [
              0.1111111111111111,
              "#46039f"
             ],
             [
              0.2222222222222222,
              "#7201a8"
             ],
             [
              0.3333333333333333,
              "#9c179e"
             ],
             [
              0.4444444444444444,
              "#bd3786"
             ],
             [
              0.5555555555555556,
              "#d8576b"
             ],
             [
              0.6666666666666666,
              "#ed7953"
             ],
             [
              0.7777777777777778,
              "#fb9f3a"
             ],
             [
              0.8888888888888888,
              "#fdca26"
             ],
             [
              1,
              "#f0f921"
             ]
            ],
            "type": "contour"
           }
          ],
          "contourcarpet": [
           {
            "colorbar": {
             "outlinewidth": 0,
             "ticks": ""
            },
            "type": "contourcarpet"
           }
          ],
          "heatmap": [
           {
            "colorbar": {
             "outlinewidth": 0,
             "ticks": ""
            },
            "colorscale": [
             [
              0,
              "#0d0887"
             ],
             [
              0.1111111111111111,
              "#46039f"
             ],
             [
              0.2222222222222222,
              "#7201a8"
             ],
             [
              0.3333333333333333,
              "#9c179e"
             ],
             [
              0.4444444444444444,
              "#bd3786"
             ],
             [
              0.5555555555555556,
              "#d8576b"
             ],
             [
              0.6666666666666666,
              "#ed7953"
             ],
             [
              0.7777777777777778,
              "#fb9f3a"
             ],
             [
              0.8888888888888888,
              "#fdca26"
             ],
             [
              1,
              "#f0f921"
             ]
            ],
            "type": "heatmap"
           }
          ],
          "heatmapgl": [
           {
            "colorbar": {
             "outlinewidth": 0,
             "ticks": ""
            },
            "colorscale": [
             [
              0,
              "#0d0887"
             ],
             [
              0.1111111111111111,
              "#46039f"
             ],
             [
              0.2222222222222222,
              "#7201a8"
             ],
             [
              0.3333333333333333,
              "#9c179e"
             ],
             [
              0.4444444444444444,
              "#bd3786"
             ],
             [
              0.5555555555555556,
              "#d8576b"
             ],
             [
              0.6666666666666666,
              "#ed7953"
             ],
             [
              0.7777777777777778,
              "#fb9f3a"
             ],
             [
              0.8888888888888888,
              "#fdca26"
             ],
             [
              1,
              "#f0f921"
             ]
            ],
            "type": "heatmapgl"
           }
          ],
          "histogram": [
           {
            "marker": {
             "pattern": {
              "fillmode": "overlay",
              "size": 10,
              "solidity": 0.2
             }
            },
            "type": "histogram"
           }
          ],
          "histogram2d": [
           {
            "colorbar": {
             "outlinewidth": 0,
             "ticks": ""
            },
            "colorscale": [
             [
              0,
              "#0d0887"
             ],
             [
              0.1111111111111111,
              "#46039f"
             ],
             [
              0.2222222222222222,
              "#7201a8"
             ],
             [
              0.3333333333333333,
              "#9c179e"
             ],
             [
              0.4444444444444444,
              "#bd3786"
             ],
             [
              0.5555555555555556,
              "#d8576b"
             ],
             [
              0.6666666666666666,
              "#ed7953"
             ],
             [
              0.7777777777777778,
              "#fb9f3a"
             ],
             [
              0.8888888888888888,
              "#fdca26"
             ],
             [
              1,
              "#f0f921"
             ]
            ],
            "type": "histogram2d"
           }
          ],
          "histogram2dcontour": [
           {
            "colorbar": {
             "outlinewidth": 0,
             "ticks": ""
            },
            "colorscale": [
             [
              0,
              "#0d0887"
             ],
             [
              0.1111111111111111,
              "#46039f"
             ],
             [
              0.2222222222222222,
              "#7201a8"
             ],
             [
              0.3333333333333333,
              "#9c179e"
             ],
             [
              0.4444444444444444,
              "#bd3786"
             ],
             [
              0.5555555555555556,
              "#d8576b"
             ],
             [
              0.6666666666666666,
              "#ed7953"
             ],
             [
              0.7777777777777778,
              "#fb9f3a"
             ],
             [
              0.8888888888888888,
              "#fdca26"
             ],
             [
              1,
              "#f0f921"
             ]
            ],
            "type": "histogram2dcontour"
           }
          ],
          "mesh3d": [
           {
            "colorbar": {
             "outlinewidth": 0,
             "ticks": ""
            },
            "type": "mesh3d"
           }
          ],
          "parcoords": [
           {
            "line": {
             "colorbar": {
              "outlinewidth": 0,
              "ticks": ""
             }
            },
            "type": "parcoords"
           }
          ],
          "pie": [
           {
            "automargin": true,
            "type": "pie"
           }
          ],
          "scatter": [
           {
            "fillpattern": {
             "fillmode": "overlay",
             "size": 10,
             "solidity": 0.2
            },
            "type": "scatter"
           }
          ],
          "scatter3d": [
           {
            "line": {
             "colorbar": {
              "outlinewidth": 0,
              "ticks": ""
             }
            },
            "marker": {
             "colorbar": {
              "outlinewidth": 0,
              "ticks": ""
             }
            },
            "type": "scatter3d"
           }
          ],
          "scattercarpet": [
           {
            "marker": {
             "colorbar": {
              "outlinewidth": 0,
              "ticks": ""
             }
            },
            "type": "scattercarpet"
           }
          ],
          "scattergeo": [
           {
            "marker": {
             "colorbar": {
              "outlinewidth": 0,
              "ticks": ""
             }
            },
            "type": "scattergeo"
           }
          ],
          "scattergl": [
           {
            "marker": {
             "colorbar": {
              "outlinewidth": 0,
              "ticks": ""
             }
            },
            "type": "scattergl"
           }
          ],
          "scattermapbox": [
           {
            "marker": {
             "colorbar": {
              "outlinewidth": 0,
              "ticks": ""
             }
            },
            "type": "scattermapbox"
           }
          ],
          "scatterpolar": [
           {
            "marker": {
             "colorbar": {
              "outlinewidth": 0,
              "ticks": ""
             }
            },
            "type": "scatterpolar"
           }
          ],
          "scatterpolargl": [
           {
            "marker": {
             "colorbar": {
              "outlinewidth": 0,
              "ticks": ""
             }
            },
            "type": "scatterpolargl"
           }
          ],
          "scatterternary": [
           {
            "marker": {
             "colorbar": {
              "outlinewidth": 0,
              "ticks": ""
             }
            },
            "type": "scatterternary"
           }
          ],
          "surface": [
           {
            "colorbar": {
             "outlinewidth": 0,
             "ticks": ""
            },
            "colorscale": [
             [
              0,
              "#0d0887"
             ],
             [
              0.1111111111111111,
              "#46039f"
             ],
             [
              0.2222222222222222,
              "#7201a8"
             ],
             [
              0.3333333333333333,
              "#9c179e"
             ],
             [
              0.4444444444444444,
              "#bd3786"
             ],
             [
              0.5555555555555556,
              "#d8576b"
             ],
             [
              0.6666666666666666,
              "#ed7953"
             ],
             [
              0.7777777777777778,
              "#fb9f3a"
             ],
             [
              0.8888888888888888,
              "#fdca26"
             ],
             [
              1,
              "#f0f921"
             ]
            ],
            "type": "surface"
           }
          ],
          "table": [
           {
            "cells": {
             "fill": {
              "color": "#EBF0F8"
             },
             "line": {
              "color": "white"
             }
            },
            "header": {
             "fill": {
              "color": "#C8D4E3"
             },
             "line": {
              "color": "white"
             }
            },
            "type": "table"
           }
          ]
         },
         "layout": {
          "annotationdefaults": {
           "arrowcolor": "#2a3f5f",
           "arrowhead": 0,
           "arrowwidth": 1
          },
          "autotypenumbers": "strict",
          "coloraxis": {
           "colorbar": {
            "outlinewidth": 0,
            "ticks": ""
           }
          },
          "colorscale": {
           "diverging": [
            [
             0,
             "#8e0152"
            ],
            [
             0.1,
             "#c51b7d"
            ],
            [
             0.2,
             "#de77ae"
            ],
            [
             0.3,
             "#f1b6da"
            ],
            [
             0.4,
             "#fde0ef"
            ],
            [
             0.5,
             "#f7f7f7"
            ],
            [
             0.6,
             "#e6f5d0"
            ],
            [
             0.7,
             "#b8e186"
            ],
            [
             0.8,
             "#7fbc41"
            ],
            [
             0.9,
             "#4d9221"
            ],
            [
             1,
             "#276419"
            ]
           ],
           "sequential": [
            [
             0,
             "#0d0887"
            ],
            [
             0.1111111111111111,
             "#46039f"
            ],
            [
             0.2222222222222222,
             "#7201a8"
            ],
            [
             0.3333333333333333,
             "#9c179e"
            ],
            [
             0.4444444444444444,
             "#bd3786"
            ],
            [
             0.5555555555555556,
             "#d8576b"
            ],
            [
             0.6666666666666666,
             "#ed7953"
            ],
            [
             0.7777777777777778,
             "#fb9f3a"
            ],
            [
             0.8888888888888888,
             "#fdca26"
            ],
            [
             1,
             "#f0f921"
            ]
           ],
           "sequentialminus": [
            [
             0,
             "#0d0887"
            ],
            [
             0.1111111111111111,
             "#46039f"
            ],
            [
             0.2222222222222222,
             "#7201a8"
            ],
            [
             0.3333333333333333,
             "#9c179e"
            ],
            [
             0.4444444444444444,
             "#bd3786"
            ],
            [
             0.5555555555555556,
             "#d8576b"
            ],
            [
             0.6666666666666666,
             "#ed7953"
            ],
            [
             0.7777777777777778,
             "#fb9f3a"
            ],
            [
             0.8888888888888888,
             "#fdca26"
            ],
            [
             1,
             "#f0f921"
            ]
           ]
          },
          "colorway": [
           "#636efa",
           "#EF553B",
           "#00cc96",
           "#ab63fa",
           "#FFA15A",
           "#19d3f3",
           "#FF6692",
           "#B6E880",
           "#FF97FF",
           "#FECB52"
          ],
          "font": {
           "color": "#2a3f5f"
          },
          "geo": {
           "bgcolor": "white",
           "lakecolor": "white",
           "landcolor": "#E5ECF6",
           "showlakes": true,
           "showland": true,
           "subunitcolor": "white"
          },
          "hoverlabel": {
           "align": "left"
          },
          "hovermode": "closest",
          "mapbox": {
           "style": "light"
          },
          "paper_bgcolor": "white",
          "plot_bgcolor": "#E5ECF6",
          "polar": {
           "angularaxis": {
            "gridcolor": "white",
            "linecolor": "white",
            "ticks": ""
           },
           "bgcolor": "#E5ECF6",
           "radialaxis": {
            "gridcolor": "white",
            "linecolor": "white",
            "ticks": ""
           }
          },
          "scene": {
           "xaxis": {
            "backgroundcolor": "#E5ECF6",
            "gridcolor": "white",
            "gridwidth": 2,
            "linecolor": "white",
            "showbackground": true,
            "ticks": "",
            "zerolinecolor": "white"
           },
           "yaxis": {
            "backgroundcolor": "#E5ECF6",
            "gridcolor": "white",
            "gridwidth": 2,
            "linecolor": "white",
            "showbackground": true,
            "ticks": "",
            "zerolinecolor": "white"
           },
           "zaxis": {
            "backgroundcolor": "#E5ECF6",
            "gridcolor": "white",
            "gridwidth": 2,
            "linecolor": "white",
            "showbackground": true,
            "ticks": "",
            "zerolinecolor": "white"
           }
          },
          "shapedefaults": {
           "line": {
            "color": "#2a3f5f"
           }
          },
          "ternary": {
           "aaxis": {
            "gridcolor": "white",
            "linecolor": "white",
            "ticks": ""
           },
           "baxis": {
            "gridcolor": "white",
            "linecolor": "white",
            "ticks": ""
           },
           "bgcolor": "#E5ECF6",
           "caxis": {
            "gridcolor": "white",
            "linecolor": "white",
            "ticks": ""
           }
          },
          "title": {
           "x": 0.05
          },
          "xaxis": {
           "automargin": true,
           "gridcolor": "white",
           "linecolor": "white",
           "ticks": "",
           "title": {
            "standoff": 15
           },
           "zerolinecolor": "white",
           "zerolinewidth": 2
          },
          "yaxis": {
           "automargin": true,
           "gridcolor": "white",
           "linecolor": "white",
           "ticks": "",
           "title": {
            "standoff": 15
           },
           "zerolinecolor": "white",
           "zerolinewidth": 2
          }
         }
        },
        "title": {
         "font": {
          "color": "#4D5663"
         }
        },
        "xaxis": {
         "gridcolor": "#E1E5ED",
         "showgrid": true,
         "tickfont": {
          "color": "#4D5663"
         },
         "title": {
          "font": {
           "color": "#4D5663"
          },
          "text": ""
         },
         "zerolinecolor": "#E1E5ED"
        },
        "xaxis2": {
         "anchor": "y2",
         "gridcolor": "#E1E5ED",
         "showgrid": true,
         "showticklabels": false,
         "tickfont": {
          "color": "#4D5663"
         },
         "title": {
          "font": {
           "color": "#4D5663"
          },
          "text": ""
         },
         "zerolinecolor": "#E1E5ED"
        },
        "yaxis": {
         "domain": [
          0.3,
          1
         ],
         "gridcolor": "#E1E5ED",
         "showgrid": true,
         "tickfont": {
          "color": "#4D5663"
         },
         "title": {
          "font": {
           "color": "#4D5663"
          },
          "text": ""
         },
         "zerolinecolor": "#E1E5ED"
        },
        "yaxis2": {
         "domain": [
          0,
          0.25
         ],
         "gridcolor": "#E1E5ED",
         "showgrid": true,
         "tickfont": {
          "color": "#4D5663"
         },
         "title": {
          "font": {
           "color": "#4D5663"
          },
          "text": "Spread"
         },
         "zerolinecolor": "#E1E5ED"
        }
       }
      },
      "text/html": [
       "<div>                            <div id=\"f5228d96-30b2-4e21-88ac-1ef1eecf6b2d\" class=\"plotly-graph-div\" style=\"height:525px; width:100%;\"></div>            <script type=\"text/javascript\">                require([\"plotly\"], function(Plotly) {                    window.PLOTLYENV=window.PLOTLYENV || {};\n",
       "                    window.PLOTLYENV.BASE_URL='https://plot.ly';                                    if (document.getElementById(\"f5228d96-30b2-4e21-88ac-1ef1eecf6b2d\")) {                    Plotly.newPlot(                        \"f5228d96-30b2-4e21-88ac-1ef1eecf6b2d\",                        [{\"line\":{\"color\":\"rgba(255, 153, 51, 1.0)\",\"dash\":\"solid\",\"shape\":\"linear\",\"width\":1.3},\"mode\":\"lines\",\"name\":\"A\",\"text\":\"\",\"x\":[0,1,2,3,4,5,6,7,8,9,10,11,12,13,14,15,16,17,18,19,20,21,22,23,24,25,26,27,28,29,30,31,32,33,34,35,36,37,38,39,40,41,42,43,44,45,46,47,48,49,50,51,52,53,54,55,56,57,58,59,60,61,62,63,64,65,66,67,68,69,70,71,72,73,74,75,76,77,78,79,80,81,82,83,84,85,86,87,88,89,90,91,92,93,94,95,96,97,98,99],\"y\":[0.33567605600194994,-0.8109873503861798,-2.6316756978724447,0.5776275311286065,-0.22530496487367777,0.8097460374131469,-0.5115338215552406,-0.4590997186416238,-0.298577056088914,-0.28541368761683306,-0.5472911448565846,0.3027742133920709,0.8902345216571652,-0.9239113525121986,0.9416625216245742,-0.18066450525113226,-2.0881969759280192,0.47500151093148335,-1.2731709071783763,1.230559710728227,-0.1605185431067916,0.6015686401189955,1.0663771004856937,0.4339044154824729,0.42688970128877163,0.7278870362259178,-0.6948804563250303,-0.05374882813326524,-1.6336690547739716,-0.88579686362121,-0.9542553464180343,-0.5644192605571883,1.0782994643519894,0.49503871747449035,0.5343533913205508,1.447396904689215,0.804473836069314,0.3481074903159142,-0.2505714270670016,-0.9029133179431246,0.2940895274251988,0.14540457070201546,-0.10762877600905554,0.3053893258733171,0.598940030645167,0.7820125036292656,-0.8966714305533445,1.6606846244283409,0.5727604798690485,1.6231494486869715,-0.8105612809550491,-0.3923264306412344,-0.04246774635108637,-0.059903525664294535,-0.5311755088064984,-0.23453465907896814,-2.0232349749481413,-0.475191922450835,-0.40907645810611803,-0.1339567374388445,-2.7697162720257404,-1.358394353131801,-0.08178397964309239,0.7753013039142149,0.5360340367280473,0.2533268706667387,0.5625348411215483,0.31576535434829717,-1.206120024494666,0.048844511971718504,1.120232843572727,0.21992570366912945,-0.21448152530239026,-1.908920438887307,0.9638465930685435,0.7935170953105968,0.8460362189297203,0.8793126804341501,-0.3120587028701596,0.9023335833858086,-1.2657523325157283,1.268781693218166,-0.05215591066790494,0.6968094280163797,-1.189618503274249,1.8258605748682426,-1.6072554233354683,0.0468494169654665,0.6188673797537998,-0.35377270836903085,0.7879111619926648,1.0992184325469223,-0.3551296686529979,0.9551820492099591,-1.9799928033362035,-1.4876434001811865,1.258773185930191,0.06426248988592512,-0.27308672608175666,2.3920188360109895],\"type\":\"scatter\"},{\"line\":{\"color\":\"rgba(55, 128, 191, 1.0)\",\"dash\":\"solid\",\"shape\":\"linear\",\"width\":1.3},\"mode\":\"lines\",\"name\":\"B\",\"text\":\"\",\"x\":[0,1,2,3,4,5,6,7,8,9,10,11,12,13,14,15,16,17,18,19,20,21,22,23,24,25,26,27,28,29,30,31,32,33,34,35,36,37,38,39,40,41,42,43,44,45,46,47,48,49,50,51,52,53,54,55,56,57,58,59,60,61,62,63,64,65,66,67,68,69,70,71,72,73,74,75,76,77,78,79,80,81,82,83,84,85,86,87,88,89,90,91,92,93,94,95,96,97,98,99],\"y\":[-0.5174427882896812,2.6003500721367523,-0.398272656123329,1.0507472535838591,0.8484275564204568,0.34558531549137267,-0.7251750770576902,0.21203195288143903,1.0247005880785944,-0.41853128884587465,-0.5792595251450603,-0.23468009328856468,-0.37024797574697754,-1.6223191538820032,0.15822171939306529,0.7577979333440427,1.3104606801852252,0.354980393666831,1.0120449798349127,-1.3830630529587908,-0.7625692342748789,-0.031060772043171623,0.5876748574760096,-0.743381893549244,-0.07429448923367035,-1.2004104644731826,-0.24151882697923244,-2.320503904382237,-0.24087115581766094,-0.6987973244103791,-1.529215465871502,-0.4634558897134851,-0.517397324567097,-1.8826290407376154,-0.31550730650325126,-1.2810841938510928,-0.8165122345800369,0.010350999435031857,0.6307697461985253,0.6349949735690572,-1.3556578317900443,-0.07291038369075702,1.8848957700591833,-0.05777255081355184,0.6305221253983728,-0.977814856382125,1.2690335969192925,-0.5369021582866585,0.722476421578678,-0.6211934196164647,-0.3681602983448335,0.9156272215217325,-0.7906496269252035,1.245402244792277,-0.8609902609396055,1.5565591336143088,2.2655015589706453,-0.559343883766819,0.6072014775791178,0.18524797697217793,-0.5927180845146982,-0.4885482202160909,-0.2893087340183615,-0.09883201903432087,-0.5075521083179926,-0.021700889479004296,-1.305263590768384,-2.475515689150806,0.7843295779319387,-1.2032159148318333,1.9693577778767357,1.2238146565172854,1.1218344358044634,0.6674877264904224,1.2987751223433057,0.8637612322891047,0.7141219494868857,-0.5771529440751496,-1.2094988170327658,-0.30680557397477326,-1.5553797829605431,-1.7642989796422124,0.2592547356714931,2.168363029888972,0.030842989528504984,-1.6804497353868382,0.2818989496594489,-1.4778125028049618,-0.19193682085594233,0.6545811208782711,-0.6105512277782915,-0.5515806204315961,0.6817777225025149,-3.5935123694260622,-0.7399182083758457,0.17627441095701263,0.5453205448981414,-1.5226575299689897,-0.08078954284580486,-0.2065928315307047],\"type\":\"scatter\"},{\"connectgaps\":false,\"fill\":\"tozeroy\",\"line\":{\"color\":\"green\",\"dash\":\"solid\",\"shape\":\"linear\",\"width\":0.5},\"mode\":\"lines\",\"name\":\"Spread\",\"showlegend\":false,\"x\":[0,1,2,3,4,5,6,7,8,9,10,11,12,13,14,15,16,17,18,19,20,21,22,23,24,25,26,27,28,29,30,31,32,33,34,35,36,37,38,39,40,41,42,43,44,45,46,47,48,49,50,51,52,53,54,55,56,57,58,59,60,61,62,63,64,65,66,67,68,69,70,71,72,73,74,75,76,77,78,79,80,81,82,83,84,85,86,87,88,89,90,91,92,93,94,95,96,97,98,99],\"xaxis\":\"x2\",\"y\":[0.8531188442916311,\"\",\"\",\"\",\"\",0.4641607219217742,0.2136412555024496,\"\",\"\",0.1331176012290416,0.031968380288475706,0.5374543066806355,1.2604824974041429,0.6984078013698046,0.7834408022315089,\"\",\"\",0.12002111726465237,\"\",2.613622763687018,0.6020506911680873,0.6326294121621671,0.4787022430096841,1.177286309031717,0.501184190522442,1.9282975006991003,\"\",2.266755076248972,\"\",\"\",0.5749601194534677,\"\",1.5956967889190863,2.3776677582121057,0.8498606978238021,2.728481098540308,1.6209860706493509,0.33775649088088233,\"\",\"\",1.649747359215243,0.2183149543927725,\"\",0.36316187668686895,\"\",1.7598273600113905,\"\",2.1975867827149993,\"\",2.2443428683034363,\"\",\"\",0.748181880574117,\"\",0.32981475213310707,\"\",\"\",0.08415196131598396,\"\",\"\",\"\",\"\",0.2075247543752691,0.8741333229485357,1.04358614504604,0.275027760145743,1.8677984318899323,2.791281043499103,\"\",1.2520604268035518,\"\",\"\",\"\",\"\",\"\",\"\",0.13191426944283458,1.4564656245092997,0.8974401141626063,1.2091391573605819,0.28962745044481486,3.033080672860378,\"\",\"\",\"\",3.5063103102550808,\"\",1.5246619197704283,0.8108042006097421,\"\",1.3984623897709563,1.6507990529785184,\"\",4.548694418636021,\"\",\"\",0.7134526410320495,1.586920019854915,\"\",2.5986116675416944],\"yaxis\":\"y2\",\"type\":\"scatter\"},{\"connectgaps\":false,\"fill\":\"tozeroy\",\"line\":{\"color\":\"red\",\"dash\":\"solid\",\"shape\":\"linear\",\"width\":0.5},\"mode\":\"lines\",\"name\":\"Spread\",\"showlegend\":false,\"x\":[0,1,2,3,4,5,6,7,8,9,10,11,12,13,14,15,16,17,18,19,20,21,22,23,24,25,26,27,28,29,30,31,32,33,34,35,36,37,38,39,40,41,42,43,44,45,46,47,48,49,50,51,52,53,54,55,56,57,58,59,60,61,62,63,64,65,66,67,68,69,70,71,72,73,74,75,76,77,78,79,80,81,82,83,84,85,86,87,88,89,90,91,92,93,94,95,96,97,98,99],\"xaxis\":\"x2\",\"y\":[\"\",-3.411337422522932,-2.2334030417491157,-0.4731197224552526,-1.0737325212941344,\"\",\"\",-0.6711316715230629,-1.3232776441675085,\"\",\"\",\"\",\"\",\"\",\"\",-0.938462438595175,-3.3986576561132447,\"\",-2.285215887013289,\"\",\"\",\"\",\"\",\"\",\"\",\"\",-0.4533616293457978,\"\",-1.3927978989563106,-0.1869995392108309,\"\",-0.10096337084370316,\"\",\"\",\"\",\"\",\"\",\"\",-0.881341173265527,-1.5379082915121818,\"\",\"\",-1.9925245460682388,\"\",-0.031582094753205836,\"\",-2.165705027472637,\"\",-0.14971594170962943,\"\",-0.4424009826102156,-1.3079536521629669,\"\",-1.3053057704565716,\"\",-1.7910937926932768,-4.288736533918787,\"\",-1.0162779356852358,-0.31920471441102244,-2.1769981875110425,-0.8698461329157101,\"\",\"\",\"\",\"\",\"\",\"\",-1.9904496024266045,\"\",-0.8491249343040088,-1.0038889528481558,-1.3363159611068536,-2.576408165377729,-0.33492852927476224,-0.07024413697850795,\"\",\"\",\"\",\"\",\"\",\"\",-0.311410646339398,-1.4715536018725923,-1.220461492802754,\"\",-1.8891543729949172,\"\",\"\",-1.008353829247302,\"\",\"\",-1.0369073911555127,\"\",-1.2400745949603578,-1.6639178111381991,\"\",\"\",-0.1922971832359518,\"\"],\"yaxis\":\"y2\",\"type\":\"scatter\"}],                        {\"hovermode\":\"x\",\"legend\":{\"bgcolor\":\"#F5F6F9\",\"font\":{\"color\":\"#4D5663\"}},\"paper_bgcolor\":\"#F5F6F9\",\"plot_bgcolor\":\"#F5F6F9\",\"template\":{\"data\":{\"barpolar\":[{\"marker\":{\"line\":{\"color\":\"#E5ECF6\",\"width\":0.5},\"pattern\":{\"fillmode\":\"overlay\",\"size\":10,\"solidity\":0.2}},\"type\":\"barpolar\"}],\"bar\":[{\"error_x\":{\"color\":\"#2a3f5f\"},\"error_y\":{\"color\":\"#2a3f5f\"},\"marker\":{\"line\":{\"color\":\"#E5ECF6\",\"width\":0.5},\"pattern\":{\"fillmode\":\"overlay\",\"size\":10,\"solidity\":0.2}},\"type\":\"bar\"}],\"carpet\":[{\"aaxis\":{\"endlinecolor\":\"#2a3f5f\",\"gridcolor\":\"white\",\"linecolor\":\"white\",\"minorgridcolor\":\"white\",\"startlinecolor\":\"#2a3f5f\"},\"baxis\":{\"endlinecolor\":\"#2a3f5f\",\"gridcolor\":\"white\",\"linecolor\":\"white\",\"minorgridcolor\":\"white\",\"startlinecolor\":\"#2a3f5f\"},\"type\":\"carpet\"}],\"choropleth\":[{\"colorbar\":{\"outlinewidth\":0,\"ticks\":\"\"},\"type\":\"choropleth\"}],\"contourcarpet\":[{\"colorbar\":{\"outlinewidth\":0,\"ticks\":\"\"},\"type\":\"contourcarpet\"}],\"contour\":[{\"colorbar\":{\"outlinewidth\":0,\"ticks\":\"\"},\"colorscale\":[[0.0,\"#0d0887\"],[0.1111111111111111,\"#46039f\"],[0.2222222222222222,\"#7201a8\"],[0.3333333333333333,\"#9c179e\"],[0.4444444444444444,\"#bd3786\"],[0.5555555555555556,\"#d8576b\"],[0.6666666666666666,\"#ed7953\"],[0.7777777777777778,\"#fb9f3a\"],[0.8888888888888888,\"#fdca26\"],[1.0,\"#f0f921\"]],\"type\":\"contour\"}],\"heatmapgl\":[{\"colorbar\":{\"outlinewidth\":0,\"ticks\":\"\"},\"colorscale\":[[0.0,\"#0d0887\"],[0.1111111111111111,\"#46039f\"],[0.2222222222222222,\"#7201a8\"],[0.3333333333333333,\"#9c179e\"],[0.4444444444444444,\"#bd3786\"],[0.5555555555555556,\"#d8576b\"],[0.6666666666666666,\"#ed7953\"],[0.7777777777777778,\"#fb9f3a\"],[0.8888888888888888,\"#fdca26\"],[1.0,\"#f0f921\"]],\"type\":\"heatmapgl\"}],\"heatmap\":[{\"colorbar\":{\"outlinewidth\":0,\"ticks\":\"\"},\"colorscale\":[[0.0,\"#0d0887\"],[0.1111111111111111,\"#46039f\"],[0.2222222222222222,\"#7201a8\"],[0.3333333333333333,\"#9c179e\"],[0.4444444444444444,\"#bd3786\"],[0.5555555555555556,\"#d8576b\"],[0.6666666666666666,\"#ed7953\"],[0.7777777777777778,\"#fb9f3a\"],[0.8888888888888888,\"#fdca26\"],[1.0,\"#f0f921\"]],\"type\":\"heatmap\"}],\"histogram2dcontour\":[{\"colorbar\":{\"outlinewidth\":0,\"ticks\":\"\"},\"colorscale\":[[0.0,\"#0d0887\"],[0.1111111111111111,\"#46039f\"],[0.2222222222222222,\"#7201a8\"],[0.3333333333333333,\"#9c179e\"],[0.4444444444444444,\"#bd3786\"],[0.5555555555555556,\"#d8576b\"],[0.6666666666666666,\"#ed7953\"],[0.7777777777777778,\"#fb9f3a\"],[0.8888888888888888,\"#fdca26\"],[1.0,\"#f0f921\"]],\"type\":\"histogram2dcontour\"}],\"histogram2d\":[{\"colorbar\":{\"outlinewidth\":0,\"ticks\":\"\"},\"colorscale\":[[0.0,\"#0d0887\"],[0.1111111111111111,\"#46039f\"],[0.2222222222222222,\"#7201a8\"],[0.3333333333333333,\"#9c179e\"],[0.4444444444444444,\"#bd3786\"],[0.5555555555555556,\"#d8576b\"],[0.6666666666666666,\"#ed7953\"],[0.7777777777777778,\"#fb9f3a\"],[0.8888888888888888,\"#fdca26\"],[1.0,\"#f0f921\"]],\"type\":\"histogram2d\"}],\"histogram\":[{\"marker\":{\"pattern\":{\"fillmode\":\"overlay\",\"size\":10,\"solidity\":0.2}},\"type\":\"histogram\"}],\"mesh3d\":[{\"colorbar\":{\"outlinewidth\":0,\"ticks\":\"\"},\"type\":\"mesh3d\"}],\"parcoords\":[{\"line\":{\"colorbar\":{\"outlinewidth\":0,\"ticks\":\"\"}},\"type\":\"parcoords\"}],\"pie\":[{\"automargin\":true,\"type\":\"pie\"}],\"scatter3d\":[{\"line\":{\"colorbar\":{\"outlinewidth\":0,\"ticks\":\"\"}},\"marker\":{\"colorbar\":{\"outlinewidth\":0,\"ticks\":\"\"}},\"type\":\"scatter3d\"}],\"scattercarpet\":[{\"marker\":{\"colorbar\":{\"outlinewidth\":0,\"ticks\":\"\"}},\"type\":\"scattercarpet\"}],\"scattergeo\":[{\"marker\":{\"colorbar\":{\"outlinewidth\":0,\"ticks\":\"\"}},\"type\":\"scattergeo\"}],\"scattergl\":[{\"marker\":{\"colorbar\":{\"outlinewidth\":0,\"ticks\":\"\"}},\"type\":\"scattergl\"}],\"scattermapbox\":[{\"marker\":{\"colorbar\":{\"outlinewidth\":0,\"ticks\":\"\"}},\"type\":\"scattermapbox\"}],\"scatterpolargl\":[{\"marker\":{\"colorbar\":{\"outlinewidth\":0,\"ticks\":\"\"}},\"type\":\"scatterpolargl\"}],\"scatterpolar\":[{\"marker\":{\"colorbar\":{\"outlinewidth\":0,\"ticks\":\"\"}},\"type\":\"scatterpolar\"}],\"scatter\":[{\"fillpattern\":{\"fillmode\":\"overlay\",\"size\":10,\"solidity\":0.2},\"type\":\"scatter\"}],\"scatterternary\":[{\"marker\":{\"colorbar\":{\"outlinewidth\":0,\"ticks\":\"\"}},\"type\":\"scatterternary\"}],\"surface\":[{\"colorbar\":{\"outlinewidth\":0,\"ticks\":\"\"},\"colorscale\":[[0.0,\"#0d0887\"],[0.1111111111111111,\"#46039f\"],[0.2222222222222222,\"#7201a8\"],[0.3333333333333333,\"#9c179e\"],[0.4444444444444444,\"#bd3786\"],[0.5555555555555556,\"#d8576b\"],[0.6666666666666666,\"#ed7953\"],[0.7777777777777778,\"#fb9f3a\"],[0.8888888888888888,\"#fdca26\"],[1.0,\"#f0f921\"]],\"type\":\"surface\"}],\"table\":[{\"cells\":{\"fill\":{\"color\":\"#EBF0F8\"},\"line\":{\"color\":\"white\"}},\"header\":{\"fill\":{\"color\":\"#C8D4E3\"},\"line\":{\"color\":\"white\"}},\"type\":\"table\"}]},\"layout\":{\"annotationdefaults\":{\"arrowcolor\":\"#2a3f5f\",\"arrowhead\":0,\"arrowwidth\":1},\"autotypenumbers\":\"strict\",\"coloraxis\":{\"colorbar\":{\"outlinewidth\":0,\"ticks\":\"\"}},\"colorscale\":{\"diverging\":[[0,\"#8e0152\"],[0.1,\"#c51b7d\"],[0.2,\"#de77ae\"],[0.3,\"#f1b6da\"],[0.4,\"#fde0ef\"],[0.5,\"#f7f7f7\"],[0.6,\"#e6f5d0\"],[0.7,\"#b8e186\"],[0.8,\"#7fbc41\"],[0.9,\"#4d9221\"],[1,\"#276419\"]],\"sequential\":[[0.0,\"#0d0887\"],[0.1111111111111111,\"#46039f\"],[0.2222222222222222,\"#7201a8\"],[0.3333333333333333,\"#9c179e\"],[0.4444444444444444,\"#bd3786\"],[0.5555555555555556,\"#d8576b\"],[0.6666666666666666,\"#ed7953\"],[0.7777777777777778,\"#fb9f3a\"],[0.8888888888888888,\"#fdca26\"],[1.0,\"#f0f921\"]],\"sequentialminus\":[[0.0,\"#0d0887\"],[0.1111111111111111,\"#46039f\"],[0.2222222222222222,\"#7201a8\"],[0.3333333333333333,\"#9c179e\"],[0.4444444444444444,\"#bd3786\"],[0.5555555555555556,\"#d8576b\"],[0.6666666666666666,\"#ed7953\"],[0.7777777777777778,\"#fb9f3a\"],[0.8888888888888888,\"#fdca26\"],[1.0,\"#f0f921\"]]},\"colorway\":[\"#636efa\",\"#EF553B\",\"#00cc96\",\"#ab63fa\",\"#FFA15A\",\"#19d3f3\",\"#FF6692\",\"#B6E880\",\"#FF97FF\",\"#FECB52\"],\"font\":{\"color\":\"#2a3f5f\"},\"geo\":{\"bgcolor\":\"white\",\"lakecolor\":\"white\",\"landcolor\":\"#E5ECF6\",\"showlakes\":true,\"showland\":true,\"subunitcolor\":\"white\"},\"hoverlabel\":{\"align\":\"left\"},\"hovermode\":\"closest\",\"mapbox\":{\"style\":\"light\"},\"paper_bgcolor\":\"white\",\"plot_bgcolor\":\"#E5ECF6\",\"polar\":{\"angularaxis\":{\"gridcolor\":\"white\",\"linecolor\":\"white\",\"ticks\":\"\"},\"bgcolor\":\"#E5ECF6\",\"radialaxis\":{\"gridcolor\":\"white\",\"linecolor\":\"white\",\"ticks\":\"\"}},\"scene\":{\"xaxis\":{\"backgroundcolor\":\"#E5ECF6\",\"gridcolor\":\"white\",\"gridwidth\":2,\"linecolor\":\"white\",\"showbackground\":true,\"ticks\":\"\",\"zerolinecolor\":\"white\"},\"yaxis\":{\"backgroundcolor\":\"#E5ECF6\",\"gridcolor\":\"white\",\"gridwidth\":2,\"linecolor\":\"white\",\"showbackground\":true,\"ticks\":\"\",\"zerolinecolor\":\"white\"},\"zaxis\":{\"backgroundcolor\":\"#E5ECF6\",\"gridcolor\":\"white\",\"gridwidth\":2,\"linecolor\":\"white\",\"showbackground\":true,\"ticks\":\"\",\"zerolinecolor\":\"white\"}},\"shapedefaults\":{\"line\":{\"color\":\"#2a3f5f\"}},\"ternary\":{\"aaxis\":{\"gridcolor\":\"white\",\"linecolor\":\"white\",\"ticks\":\"\"},\"baxis\":{\"gridcolor\":\"white\",\"linecolor\":\"white\",\"ticks\":\"\"},\"bgcolor\":\"#E5ECF6\",\"caxis\":{\"gridcolor\":\"white\",\"linecolor\":\"white\",\"ticks\":\"\"}},\"title\":{\"x\":0.05},\"xaxis\":{\"automargin\":true,\"gridcolor\":\"white\",\"linecolor\":\"white\",\"ticks\":\"\",\"title\":{\"standoff\":15},\"zerolinecolor\":\"white\",\"zerolinewidth\":2},\"yaxis\":{\"automargin\":true,\"gridcolor\":\"white\",\"linecolor\":\"white\",\"ticks\":\"\",\"title\":{\"standoff\":15},\"zerolinecolor\":\"white\",\"zerolinewidth\":2}}},\"title\":{\"font\":{\"color\":\"#4D5663\"}},\"xaxis\":{\"gridcolor\":\"#E1E5ED\",\"showgrid\":true,\"tickfont\":{\"color\":\"#4D5663\"},\"title\":{\"font\":{\"color\":\"#4D5663\"},\"text\":\"\"},\"zerolinecolor\":\"#E1E5ED\"},\"yaxis\":{\"domain\":[0.3,1],\"gridcolor\":\"#E1E5ED\",\"showgrid\":true,\"tickfont\":{\"color\":\"#4D5663\"},\"title\":{\"font\":{\"color\":\"#4D5663\"},\"text\":\"\"},\"zerolinecolor\":\"#E1E5ED\"},\"yaxis2\":{\"domain\":[0,0.25],\"gridcolor\":\"#E1E5ED\",\"showgrid\":true,\"tickfont\":{\"color\":\"#4D5663\"},\"title\":{\"font\":{\"color\":\"#4D5663\"},\"text\":\"Spread\"},\"zerolinecolor\":\"#E1E5ED\"},\"xaxis2\":{\"anchor\":\"y2\",\"gridcolor\":\"#E1E5ED\",\"showgrid\":true,\"showticklabels\":false,\"tickfont\":{\"color\":\"#4D5663\"},\"title\":{\"font\":{\"color\":\"#4D5663\"},\"text\":\"\"},\"zerolinecolor\":\"#E1E5ED\"}},                        {\"showLink\": true, \"linkText\": \"Export to plot.ly\", \"plotlyServerURL\": \"https://plot.ly\", \"responsive\": true}                    ).then(function(){\n",
       "                            \n",
       "var gd = document.getElementById('f5228d96-30b2-4e21-88ac-1ef1eecf6b2d');\n",
       "var x = new MutationObserver(function (mutations, observer) {{\n",
       "        var display = window.getComputedStyle(gd).display;\n",
       "        if (!display || display === 'none') {{\n",
       "            console.log([gd, 'removed!']);\n",
       "            Plotly.purge(gd);\n",
       "            observer.disconnect();\n",
       "        }}\n",
       "}});\n",
       "\n",
       "// Listen for the removal of the full notebook cells\n",
       "var notebookContainer = gd.closest('#notebook-container');\n",
       "if (notebookContainer) {{\n",
       "    x.observe(notebookContainer, {childList: true});\n",
       "}}\n",
       "\n",
       "// Listen for the clearing of the current output cell\n",
       "var outputEl = gd.closest('.output');\n",
       "if (outputEl) {{\n",
       "    x.observe(outputEl, {childList: true});\n",
       "}}\n",
       "\n",
       "                        })                };                });            </script>        </div>"
      ]
     },
     "metadata": {},
     "output_type": "display_data"
    }
   ],
   "source": [
    "df[['A', 'B']].iplot(kind='spread')"
   ]
  },
  {
   "cell_type": "code",
   "execution_count": 28,
   "id": "ca418887",
   "metadata": {},
   "outputs": [
    {
     "data": {
      "application/vnd.plotly.v1+json": {
       "config": {
        "linkText": "Export to plot.ly",
        "plotlyServerURL": "https://plot.ly",
        "showLink": true
       },
       "data": [
        {
         "histfunc": "count",
         "histnorm": "",
         "marker": {
          "color": "rgba(255, 153, 51, 1.0)",
          "line": {
           "color": "#4D5663",
           "width": 1.3
          }
         },
         "name": "A",
         "opacity": 0.8,
         "orientation": "v",
         "type": "histogram",
         "x": [
          0.33567605600194994,
          -0.8109873503861798,
          -2.6316756978724447,
          0.5776275311286065,
          -0.22530496487367777,
          0.8097460374131469,
          -0.5115338215552406,
          -0.4590997186416238,
          -0.298577056088914,
          -0.28541368761683306,
          -0.5472911448565846,
          0.3027742133920709,
          0.8902345216571652,
          -0.9239113525121986,
          0.9416625216245742,
          -0.18066450525113226,
          -2.0881969759280192,
          0.47500151093148335,
          -1.2731709071783763,
          1.230559710728227,
          -0.1605185431067916,
          0.6015686401189955,
          1.0663771004856937,
          0.4339044154824729,
          0.42688970128877163,
          0.7278870362259178,
          -0.6948804563250303,
          -0.05374882813326524,
          -1.6336690547739716,
          -0.88579686362121,
          -0.9542553464180343,
          -0.5644192605571883,
          1.0782994643519894,
          0.49503871747449035,
          0.5343533913205508,
          1.447396904689215,
          0.804473836069314,
          0.3481074903159142,
          -0.2505714270670016,
          -0.9029133179431246,
          0.2940895274251988,
          0.14540457070201546,
          -0.10762877600905554,
          0.3053893258733171,
          0.598940030645167,
          0.7820125036292656,
          -0.8966714305533445,
          1.6606846244283409,
          0.5727604798690485,
          1.6231494486869715,
          -0.8105612809550491,
          -0.3923264306412344,
          -0.04246774635108637,
          -0.059903525664294535,
          -0.5311755088064984,
          -0.23453465907896814,
          -2.0232349749481413,
          -0.475191922450835,
          -0.40907645810611803,
          -0.1339567374388445,
          -2.7697162720257404,
          -1.358394353131801,
          -0.08178397964309239,
          0.7753013039142149,
          0.5360340367280473,
          0.2533268706667387,
          0.5625348411215483,
          0.31576535434829717,
          -1.206120024494666,
          0.048844511971718504,
          1.120232843572727,
          0.21992570366912945,
          -0.21448152530239026,
          -1.908920438887307,
          0.9638465930685435,
          0.7935170953105968,
          0.8460362189297203,
          0.8793126804341501,
          -0.3120587028701596,
          0.9023335833858086,
          -1.2657523325157283,
          1.268781693218166,
          -0.05215591066790494,
          0.6968094280163797,
          -1.189618503274249,
          1.8258605748682426,
          -1.6072554233354683,
          0.0468494169654665,
          0.6188673797537998,
          -0.35377270836903085,
          0.7879111619926648,
          1.0992184325469223,
          -0.3551296686529979,
          0.9551820492099591,
          -1.9799928033362035,
          -1.4876434001811865,
          1.258773185930191,
          0.06426248988592512,
          -0.27308672608175666,
          2.3920188360109895
         ]
        }
       ],
       "layout": {
        "barmode": "overlay",
        "legend": {
         "bgcolor": "#F5F6F9",
         "font": {
          "color": "#4D5663"
         }
        },
        "paper_bgcolor": "#F5F6F9",
        "plot_bgcolor": "#F5F6F9",
        "template": {
         "data": {
          "bar": [
           {
            "error_x": {
             "color": "#2a3f5f"
            },
            "error_y": {
             "color": "#2a3f5f"
            },
            "marker": {
             "line": {
              "color": "#E5ECF6",
              "width": 0.5
             },
             "pattern": {
              "fillmode": "overlay",
              "size": 10,
              "solidity": 0.2
             }
            },
            "type": "bar"
           }
          ],
          "barpolar": [
           {
            "marker": {
             "line": {
              "color": "#E5ECF6",
              "width": 0.5
             },
             "pattern": {
              "fillmode": "overlay",
              "size": 10,
              "solidity": 0.2
             }
            },
            "type": "barpolar"
           }
          ],
          "carpet": [
           {
            "aaxis": {
             "endlinecolor": "#2a3f5f",
             "gridcolor": "white",
             "linecolor": "white",
             "minorgridcolor": "white",
             "startlinecolor": "#2a3f5f"
            },
            "baxis": {
             "endlinecolor": "#2a3f5f",
             "gridcolor": "white",
             "linecolor": "white",
             "minorgridcolor": "white",
             "startlinecolor": "#2a3f5f"
            },
            "type": "carpet"
           }
          ],
          "choropleth": [
           {
            "colorbar": {
             "outlinewidth": 0,
             "ticks": ""
            },
            "type": "choropleth"
           }
          ],
          "contour": [
           {
            "colorbar": {
             "outlinewidth": 0,
             "ticks": ""
            },
            "colorscale": [
             [
              0,
              "#0d0887"
             ],
             [
              0.1111111111111111,
              "#46039f"
             ],
             [
              0.2222222222222222,
              "#7201a8"
             ],
             [
              0.3333333333333333,
              "#9c179e"
             ],
             [
              0.4444444444444444,
              "#bd3786"
             ],
             [
              0.5555555555555556,
              "#d8576b"
             ],
             [
              0.6666666666666666,
              "#ed7953"
             ],
             [
              0.7777777777777778,
              "#fb9f3a"
             ],
             [
              0.8888888888888888,
              "#fdca26"
             ],
             [
              1,
              "#f0f921"
             ]
            ],
            "type": "contour"
           }
          ],
          "contourcarpet": [
           {
            "colorbar": {
             "outlinewidth": 0,
             "ticks": ""
            },
            "type": "contourcarpet"
           }
          ],
          "heatmap": [
           {
            "colorbar": {
             "outlinewidth": 0,
             "ticks": ""
            },
            "colorscale": [
             [
              0,
              "#0d0887"
             ],
             [
              0.1111111111111111,
              "#46039f"
             ],
             [
              0.2222222222222222,
              "#7201a8"
             ],
             [
              0.3333333333333333,
              "#9c179e"
             ],
             [
              0.4444444444444444,
              "#bd3786"
             ],
             [
              0.5555555555555556,
              "#d8576b"
             ],
             [
              0.6666666666666666,
              "#ed7953"
             ],
             [
              0.7777777777777778,
              "#fb9f3a"
             ],
             [
              0.8888888888888888,
              "#fdca26"
             ],
             [
              1,
              "#f0f921"
             ]
            ],
            "type": "heatmap"
           }
          ],
          "heatmapgl": [
           {
            "colorbar": {
             "outlinewidth": 0,
             "ticks": ""
            },
            "colorscale": [
             [
              0,
              "#0d0887"
             ],
             [
              0.1111111111111111,
              "#46039f"
             ],
             [
              0.2222222222222222,
              "#7201a8"
             ],
             [
              0.3333333333333333,
              "#9c179e"
             ],
             [
              0.4444444444444444,
              "#bd3786"
             ],
             [
              0.5555555555555556,
              "#d8576b"
             ],
             [
              0.6666666666666666,
              "#ed7953"
             ],
             [
              0.7777777777777778,
              "#fb9f3a"
             ],
             [
              0.8888888888888888,
              "#fdca26"
             ],
             [
              1,
              "#f0f921"
             ]
            ],
            "type": "heatmapgl"
           }
          ],
          "histogram": [
           {
            "marker": {
             "pattern": {
              "fillmode": "overlay",
              "size": 10,
              "solidity": 0.2
             }
            },
            "type": "histogram"
           }
          ],
          "histogram2d": [
           {
            "colorbar": {
             "outlinewidth": 0,
             "ticks": ""
            },
            "colorscale": [
             [
              0,
              "#0d0887"
             ],
             [
              0.1111111111111111,
              "#46039f"
             ],
             [
              0.2222222222222222,
              "#7201a8"
             ],
             [
              0.3333333333333333,
              "#9c179e"
             ],
             [
              0.4444444444444444,
              "#bd3786"
             ],
             [
              0.5555555555555556,
              "#d8576b"
             ],
             [
              0.6666666666666666,
              "#ed7953"
             ],
             [
              0.7777777777777778,
              "#fb9f3a"
             ],
             [
              0.8888888888888888,
              "#fdca26"
             ],
             [
              1,
              "#f0f921"
             ]
            ],
            "type": "histogram2d"
           }
          ],
          "histogram2dcontour": [
           {
            "colorbar": {
             "outlinewidth": 0,
             "ticks": ""
            },
            "colorscale": [
             [
              0,
              "#0d0887"
             ],
             [
              0.1111111111111111,
              "#46039f"
             ],
             [
              0.2222222222222222,
              "#7201a8"
             ],
             [
              0.3333333333333333,
              "#9c179e"
             ],
             [
              0.4444444444444444,
              "#bd3786"
             ],
             [
              0.5555555555555556,
              "#d8576b"
             ],
             [
              0.6666666666666666,
              "#ed7953"
             ],
             [
              0.7777777777777778,
              "#fb9f3a"
             ],
             [
              0.8888888888888888,
              "#fdca26"
             ],
             [
              1,
              "#f0f921"
             ]
            ],
            "type": "histogram2dcontour"
           }
          ],
          "mesh3d": [
           {
            "colorbar": {
             "outlinewidth": 0,
             "ticks": ""
            },
            "type": "mesh3d"
           }
          ],
          "parcoords": [
           {
            "line": {
             "colorbar": {
              "outlinewidth": 0,
              "ticks": ""
             }
            },
            "type": "parcoords"
           }
          ],
          "pie": [
           {
            "automargin": true,
            "type": "pie"
           }
          ],
          "scatter": [
           {
            "fillpattern": {
             "fillmode": "overlay",
             "size": 10,
             "solidity": 0.2
            },
            "type": "scatter"
           }
          ],
          "scatter3d": [
           {
            "line": {
             "colorbar": {
              "outlinewidth": 0,
              "ticks": ""
             }
            },
            "marker": {
             "colorbar": {
              "outlinewidth": 0,
              "ticks": ""
             }
            },
            "type": "scatter3d"
           }
          ],
          "scattercarpet": [
           {
            "marker": {
             "colorbar": {
              "outlinewidth": 0,
              "ticks": ""
             }
            },
            "type": "scattercarpet"
           }
          ],
          "scattergeo": [
           {
            "marker": {
             "colorbar": {
              "outlinewidth": 0,
              "ticks": ""
             }
            },
            "type": "scattergeo"
           }
          ],
          "scattergl": [
           {
            "marker": {
             "colorbar": {
              "outlinewidth": 0,
              "ticks": ""
             }
            },
            "type": "scattergl"
           }
          ],
          "scattermapbox": [
           {
            "marker": {
             "colorbar": {
              "outlinewidth": 0,
              "ticks": ""
             }
            },
            "type": "scattermapbox"
           }
          ],
          "scatterpolar": [
           {
            "marker": {
             "colorbar": {
              "outlinewidth": 0,
              "ticks": ""
             }
            },
            "type": "scatterpolar"
           }
          ],
          "scatterpolargl": [
           {
            "marker": {
             "colorbar": {
              "outlinewidth": 0,
              "ticks": ""
             }
            },
            "type": "scatterpolargl"
           }
          ],
          "scatterternary": [
           {
            "marker": {
             "colorbar": {
              "outlinewidth": 0,
              "ticks": ""
             }
            },
            "type": "scatterternary"
           }
          ],
          "surface": [
           {
            "colorbar": {
             "outlinewidth": 0,
             "ticks": ""
            },
            "colorscale": [
             [
              0,
              "#0d0887"
             ],
             [
              0.1111111111111111,
              "#46039f"
             ],
             [
              0.2222222222222222,
              "#7201a8"
             ],
             [
              0.3333333333333333,
              "#9c179e"
             ],
             [
              0.4444444444444444,
              "#bd3786"
             ],
             [
              0.5555555555555556,
              "#d8576b"
             ],
             [
              0.6666666666666666,
              "#ed7953"
             ],
             [
              0.7777777777777778,
              "#fb9f3a"
             ],
             [
              0.8888888888888888,
              "#fdca26"
             ],
             [
              1,
              "#f0f921"
             ]
            ],
            "type": "surface"
           }
          ],
          "table": [
           {
            "cells": {
             "fill": {
              "color": "#EBF0F8"
             },
             "line": {
              "color": "white"
             }
            },
            "header": {
             "fill": {
              "color": "#C8D4E3"
             },
             "line": {
              "color": "white"
             }
            },
            "type": "table"
           }
          ]
         },
         "layout": {
          "annotationdefaults": {
           "arrowcolor": "#2a3f5f",
           "arrowhead": 0,
           "arrowwidth": 1
          },
          "autotypenumbers": "strict",
          "coloraxis": {
           "colorbar": {
            "outlinewidth": 0,
            "ticks": ""
           }
          },
          "colorscale": {
           "diverging": [
            [
             0,
             "#8e0152"
            ],
            [
             0.1,
             "#c51b7d"
            ],
            [
             0.2,
             "#de77ae"
            ],
            [
             0.3,
             "#f1b6da"
            ],
            [
             0.4,
             "#fde0ef"
            ],
            [
             0.5,
             "#f7f7f7"
            ],
            [
             0.6,
             "#e6f5d0"
            ],
            [
             0.7,
             "#b8e186"
            ],
            [
             0.8,
             "#7fbc41"
            ],
            [
             0.9,
             "#4d9221"
            ],
            [
             1,
             "#276419"
            ]
           ],
           "sequential": [
            [
             0,
             "#0d0887"
            ],
            [
             0.1111111111111111,
             "#46039f"
            ],
            [
             0.2222222222222222,
             "#7201a8"
            ],
            [
             0.3333333333333333,
             "#9c179e"
            ],
            [
             0.4444444444444444,
             "#bd3786"
            ],
            [
             0.5555555555555556,
             "#d8576b"
            ],
            [
             0.6666666666666666,
             "#ed7953"
            ],
            [
             0.7777777777777778,
             "#fb9f3a"
            ],
            [
             0.8888888888888888,
             "#fdca26"
            ],
            [
             1,
             "#f0f921"
            ]
           ],
           "sequentialminus": [
            [
             0,
             "#0d0887"
            ],
            [
             0.1111111111111111,
             "#46039f"
            ],
            [
             0.2222222222222222,
             "#7201a8"
            ],
            [
             0.3333333333333333,
             "#9c179e"
            ],
            [
             0.4444444444444444,
             "#bd3786"
            ],
            [
             0.5555555555555556,
             "#d8576b"
            ],
            [
             0.6666666666666666,
             "#ed7953"
            ],
            [
             0.7777777777777778,
             "#fb9f3a"
            ],
            [
             0.8888888888888888,
             "#fdca26"
            ],
            [
             1,
             "#f0f921"
            ]
           ]
          },
          "colorway": [
           "#636efa",
           "#EF553B",
           "#00cc96",
           "#ab63fa",
           "#FFA15A",
           "#19d3f3",
           "#FF6692",
           "#B6E880",
           "#FF97FF",
           "#FECB52"
          ],
          "font": {
           "color": "#2a3f5f"
          },
          "geo": {
           "bgcolor": "white",
           "lakecolor": "white",
           "landcolor": "#E5ECF6",
           "showlakes": true,
           "showland": true,
           "subunitcolor": "white"
          },
          "hoverlabel": {
           "align": "left"
          },
          "hovermode": "closest",
          "mapbox": {
           "style": "light"
          },
          "paper_bgcolor": "white",
          "plot_bgcolor": "#E5ECF6",
          "polar": {
           "angularaxis": {
            "gridcolor": "white",
            "linecolor": "white",
            "ticks": ""
           },
           "bgcolor": "#E5ECF6",
           "radialaxis": {
            "gridcolor": "white",
            "linecolor": "white",
            "ticks": ""
           }
          },
          "scene": {
           "xaxis": {
            "backgroundcolor": "#E5ECF6",
            "gridcolor": "white",
            "gridwidth": 2,
            "linecolor": "white",
            "showbackground": true,
            "ticks": "",
            "zerolinecolor": "white"
           },
           "yaxis": {
            "backgroundcolor": "#E5ECF6",
            "gridcolor": "white",
            "gridwidth": 2,
            "linecolor": "white",
            "showbackground": true,
            "ticks": "",
            "zerolinecolor": "white"
           },
           "zaxis": {
            "backgroundcolor": "#E5ECF6",
            "gridcolor": "white",
            "gridwidth": 2,
            "linecolor": "white",
            "showbackground": true,
            "ticks": "",
            "zerolinecolor": "white"
           }
          },
          "shapedefaults": {
           "line": {
            "color": "#2a3f5f"
           }
          },
          "ternary": {
           "aaxis": {
            "gridcolor": "white",
            "linecolor": "white",
            "ticks": ""
           },
           "baxis": {
            "gridcolor": "white",
            "linecolor": "white",
            "ticks": ""
           },
           "bgcolor": "#E5ECF6",
           "caxis": {
            "gridcolor": "white",
            "linecolor": "white",
            "ticks": ""
           }
          },
          "title": {
           "x": 0.05
          },
          "xaxis": {
           "automargin": true,
           "gridcolor": "white",
           "linecolor": "white",
           "ticks": "",
           "title": {
            "standoff": 15
           },
           "zerolinecolor": "white",
           "zerolinewidth": 2
          },
          "yaxis": {
           "automargin": true,
           "gridcolor": "white",
           "linecolor": "white",
           "ticks": "",
           "title": {
            "standoff": 15
           },
           "zerolinecolor": "white",
           "zerolinewidth": 2
          }
         }
        },
        "title": {
         "font": {
          "color": "#4D5663"
         }
        },
        "xaxis": {
         "gridcolor": "#E1E5ED",
         "showgrid": true,
         "tickfont": {
          "color": "#4D5663"
         },
         "title": {
          "font": {
           "color": "#4D5663"
          },
          "text": ""
         },
         "zerolinecolor": "#E1E5ED"
        },
        "yaxis": {
         "gridcolor": "#E1E5ED",
         "showgrid": true,
         "tickfont": {
          "color": "#4D5663"
         },
         "title": {
          "font": {
           "color": "#4D5663"
          },
          "text": ""
         },
         "zerolinecolor": "#E1E5ED"
        }
       }
      },
      "text/html": [
       "<div>                            <div id=\"9510d556-97bb-4c4b-911e-40f58aee49d1\" class=\"plotly-graph-div\" style=\"height:525px; width:100%;\"></div>            <script type=\"text/javascript\">                require([\"plotly\"], function(Plotly) {                    window.PLOTLYENV=window.PLOTLYENV || {};\n",
       "                    window.PLOTLYENV.BASE_URL='https://plot.ly';                                    if (document.getElementById(\"9510d556-97bb-4c4b-911e-40f58aee49d1\")) {                    Plotly.newPlot(                        \"9510d556-97bb-4c4b-911e-40f58aee49d1\",                        [{\"histfunc\":\"count\",\"histnorm\":\"\",\"marker\":{\"color\":\"rgba(255, 153, 51, 1.0)\",\"line\":{\"color\":\"#4D5663\",\"width\":1.3}},\"name\":\"A\",\"opacity\":0.8,\"orientation\":\"v\",\"x\":[0.33567605600194994,-0.8109873503861798,-2.6316756978724447,0.5776275311286065,-0.22530496487367777,0.8097460374131469,-0.5115338215552406,-0.4590997186416238,-0.298577056088914,-0.28541368761683306,-0.5472911448565846,0.3027742133920709,0.8902345216571652,-0.9239113525121986,0.9416625216245742,-0.18066450525113226,-2.0881969759280192,0.47500151093148335,-1.2731709071783763,1.230559710728227,-0.1605185431067916,0.6015686401189955,1.0663771004856937,0.4339044154824729,0.42688970128877163,0.7278870362259178,-0.6948804563250303,-0.05374882813326524,-1.6336690547739716,-0.88579686362121,-0.9542553464180343,-0.5644192605571883,1.0782994643519894,0.49503871747449035,0.5343533913205508,1.447396904689215,0.804473836069314,0.3481074903159142,-0.2505714270670016,-0.9029133179431246,0.2940895274251988,0.14540457070201546,-0.10762877600905554,0.3053893258733171,0.598940030645167,0.7820125036292656,-0.8966714305533445,1.6606846244283409,0.5727604798690485,1.6231494486869715,-0.8105612809550491,-0.3923264306412344,-0.04246774635108637,-0.059903525664294535,-0.5311755088064984,-0.23453465907896814,-2.0232349749481413,-0.475191922450835,-0.40907645810611803,-0.1339567374388445,-2.7697162720257404,-1.358394353131801,-0.08178397964309239,0.7753013039142149,0.5360340367280473,0.2533268706667387,0.5625348411215483,0.31576535434829717,-1.206120024494666,0.048844511971718504,1.120232843572727,0.21992570366912945,-0.21448152530239026,-1.908920438887307,0.9638465930685435,0.7935170953105968,0.8460362189297203,0.8793126804341501,-0.3120587028701596,0.9023335833858086,-1.2657523325157283,1.268781693218166,-0.05215591066790494,0.6968094280163797,-1.189618503274249,1.8258605748682426,-1.6072554233354683,0.0468494169654665,0.6188673797537998,-0.35377270836903085,0.7879111619926648,1.0992184325469223,-0.3551296686529979,0.9551820492099591,-1.9799928033362035,-1.4876434001811865,1.258773185930191,0.06426248988592512,-0.27308672608175666,2.3920188360109895],\"type\":\"histogram\"}],                        {\"barmode\":\"overlay\",\"legend\":{\"bgcolor\":\"#F5F6F9\",\"font\":{\"color\":\"#4D5663\"}},\"paper_bgcolor\":\"#F5F6F9\",\"plot_bgcolor\":\"#F5F6F9\",\"template\":{\"data\":{\"barpolar\":[{\"marker\":{\"line\":{\"color\":\"#E5ECF6\",\"width\":0.5},\"pattern\":{\"fillmode\":\"overlay\",\"size\":10,\"solidity\":0.2}},\"type\":\"barpolar\"}],\"bar\":[{\"error_x\":{\"color\":\"#2a3f5f\"},\"error_y\":{\"color\":\"#2a3f5f\"},\"marker\":{\"line\":{\"color\":\"#E5ECF6\",\"width\":0.5},\"pattern\":{\"fillmode\":\"overlay\",\"size\":10,\"solidity\":0.2}},\"type\":\"bar\"}],\"carpet\":[{\"aaxis\":{\"endlinecolor\":\"#2a3f5f\",\"gridcolor\":\"white\",\"linecolor\":\"white\",\"minorgridcolor\":\"white\",\"startlinecolor\":\"#2a3f5f\"},\"baxis\":{\"endlinecolor\":\"#2a3f5f\",\"gridcolor\":\"white\",\"linecolor\":\"white\",\"minorgridcolor\":\"white\",\"startlinecolor\":\"#2a3f5f\"},\"type\":\"carpet\"}],\"choropleth\":[{\"colorbar\":{\"outlinewidth\":0,\"ticks\":\"\"},\"type\":\"choropleth\"}],\"contourcarpet\":[{\"colorbar\":{\"outlinewidth\":0,\"ticks\":\"\"},\"type\":\"contourcarpet\"}],\"contour\":[{\"colorbar\":{\"outlinewidth\":0,\"ticks\":\"\"},\"colorscale\":[[0.0,\"#0d0887\"],[0.1111111111111111,\"#46039f\"],[0.2222222222222222,\"#7201a8\"],[0.3333333333333333,\"#9c179e\"],[0.4444444444444444,\"#bd3786\"],[0.5555555555555556,\"#d8576b\"],[0.6666666666666666,\"#ed7953\"],[0.7777777777777778,\"#fb9f3a\"],[0.8888888888888888,\"#fdca26\"],[1.0,\"#f0f921\"]],\"type\":\"contour\"}],\"heatmapgl\":[{\"colorbar\":{\"outlinewidth\":0,\"ticks\":\"\"},\"colorscale\":[[0.0,\"#0d0887\"],[0.1111111111111111,\"#46039f\"],[0.2222222222222222,\"#7201a8\"],[0.3333333333333333,\"#9c179e\"],[0.4444444444444444,\"#bd3786\"],[0.5555555555555556,\"#d8576b\"],[0.6666666666666666,\"#ed7953\"],[0.7777777777777778,\"#fb9f3a\"],[0.8888888888888888,\"#fdca26\"],[1.0,\"#f0f921\"]],\"type\":\"heatmapgl\"}],\"heatmap\":[{\"colorbar\":{\"outlinewidth\":0,\"ticks\":\"\"},\"colorscale\":[[0.0,\"#0d0887\"],[0.1111111111111111,\"#46039f\"],[0.2222222222222222,\"#7201a8\"],[0.3333333333333333,\"#9c179e\"],[0.4444444444444444,\"#bd3786\"],[0.5555555555555556,\"#d8576b\"],[0.6666666666666666,\"#ed7953\"],[0.7777777777777778,\"#fb9f3a\"],[0.8888888888888888,\"#fdca26\"],[1.0,\"#f0f921\"]],\"type\":\"heatmap\"}],\"histogram2dcontour\":[{\"colorbar\":{\"outlinewidth\":0,\"ticks\":\"\"},\"colorscale\":[[0.0,\"#0d0887\"],[0.1111111111111111,\"#46039f\"],[0.2222222222222222,\"#7201a8\"],[0.3333333333333333,\"#9c179e\"],[0.4444444444444444,\"#bd3786\"],[0.5555555555555556,\"#d8576b\"],[0.6666666666666666,\"#ed7953\"],[0.7777777777777778,\"#fb9f3a\"],[0.8888888888888888,\"#fdca26\"],[1.0,\"#f0f921\"]],\"type\":\"histogram2dcontour\"}],\"histogram2d\":[{\"colorbar\":{\"outlinewidth\":0,\"ticks\":\"\"},\"colorscale\":[[0.0,\"#0d0887\"],[0.1111111111111111,\"#46039f\"],[0.2222222222222222,\"#7201a8\"],[0.3333333333333333,\"#9c179e\"],[0.4444444444444444,\"#bd3786\"],[0.5555555555555556,\"#d8576b\"],[0.6666666666666666,\"#ed7953\"],[0.7777777777777778,\"#fb9f3a\"],[0.8888888888888888,\"#fdca26\"],[1.0,\"#f0f921\"]],\"type\":\"histogram2d\"}],\"histogram\":[{\"marker\":{\"pattern\":{\"fillmode\":\"overlay\",\"size\":10,\"solidity\":0.2}},\"type\":\"histogram\"}],\"mesh3d\":[{\"colorbar\":{\"outlinewidth\":0,\"ticks\":\"\"},\"type\":\"mesh3d\"}],\"parcoords\":[{\"line\":{\"colorbar\":{\"outlinewidth\":0,\"ticks\":\"\"}},\"type\":\"parcoords\"}],\"pie\":[{\"automargin\":true,\"type\":\"pie\"}],\"scatter3d\":[{\"line\":{\"colorbar\":{\"outlinewidth\":0,\"ticks\":\"\"}},\"marker\":{\"colorbar\":{\"outlinewidth\":0,\"ticks\":\"\"}},\"type\":\"scatter3d\"}],\"scattercarpet\":[{\"marker\":{\"colorbar\":{\"outlinewidth\":0,\"ticks\":\"\"}},\"type\":\"scattercarpet\"}],\"scattergeo\":[{\"marker\":{\"colorbar\":{\"outlinewidth\":0,\"ticks\":\"\"}},\"type\":\"scattergeo\"}],\"scattergl\":[{\"marker\":{\"colorbar\":{\"outlinewidth\":0,\"ticks\":\"\"}},\"type\":\"scattergl\"}],\"scattermapbox\":[{\"marker\":{\"colorbar\":{\"outlinewidth\":0,\"ticks\":\"\"}},\"type\":\"scattermapbox\"}],\"scatterpolargl\":[{\"marker\":{\"colorbar\":{\"outlinewidth\":0,\"ticks\":\"\"}},\"type\":\"scatterpolargl\"}],\"scatterpolar\":[{\"marker\":{\"colorbar\":{\"outlinewidth\":0,\"ticks\":\"\"}},\"type\":\"scatterpolar\"}],\"scatter\":[{\"fillpattern\":{\"fillmode\":\"overlay\",\"size\":10,\"solidity\":0.2},\"type\":\"scatter\"}],\"scatterternary\":[{\"marker\":{\"colorbar\":{\"outlinewidth\":0,\"ticks\":\"\"}},\"type\":\"scatterternary\"}],\"surface\":[{\"colorbar\":{\"outlinewidth\":0,\"ticks\":\"\"},\"colorscale\":[[0.0,\"#0d0887\"],[0.1111111111111111,\"#46039f\"],[0.2222222222222222,\"#7201a8\"],[0.3333333333333333,\"#9c179e\"],[0.4444444444444444,\"#bd3786\"],[0.5555555555555556,\"#d8576b\"],[0.6666666666666666,\"#ed7953\"],[0.7777777777777778,\"#fb9f3a\"],[0.8888888888888888,\"#fdca26\"],[1.0,\"#f0f921\"]],\"type\":\"surface\"}],\"table\":[{\"cells\":{\"fill\":{\"color\":\"#EBF0F8\"},\"line\":{\"color\":\"white\"}},\"header\":{\"fill\":{\"color\":\"#C8D4E3\"},\"line\":{\"color\":\"white\"}},\"type\":\"table\"}]},\"layout\":{\"annotationdefaults\":{\"arrowcolor\":\"#2a3f5f\",\"arrowhead\":0,\"arrowwidth\":1},\"autotypenumbers\":\"strict\",\"coloraxis\":{\"colorbar\":{\"outlinewidth\":0,\"ticks\":\"\"}},\"colorscale\":{\"diverging\":[[0,\"#8e0152\"],[0.1,\"#c51b7d\"],[0.2,\"#de77ae\"],[0.3,\"#f1b6da\"],[0.4,\"#fde0ef\"],[0.5,\"#f7f7f7\"],[0.6,\"#e6f5d0\"],[0.7,\"#b8e186\"],[0.8,\"#7fbc41\"],[0.9,\"#4d9221\"],[1,\"#276419\"]],\"sequential\":[[0.0,\"#0d0887\"],[0.1111111111111111,\"#46039f\"],[0.2222222222222222,\"#7201a8\"],[0.3333333333333333,\"#9c179e\"],[0.4444444444444444,\"#bd3786\"],[0.5555555555555556,\"#d8576b\"],[0.6666666666666666,\"#ed7953\"],[0.7777777777777778,\"#fb9f3a\"],[0.8888888888888888,\"#fdca26\"],[1.0,\"#f0f921\"]],\"sequentialminus\":[[0.0,\"#0d0887\"],[0.1111111111111111,\"#46039f\"],[0.2222222222222222,\"#7201a8\"],[0.3333333333333333,\"#9c179e\"],[0.4444444444444444,\"#bd3786\"],[0.5555555555555556,\"#d8576b\"],[0.6666666666666666,\"#ed7953\"],[0.7777777777777778,\"#fb9f3a\"],[0.8888888888888888,\"#fdca26\"],[1.0,\"#f0f921\"]]},\"colorway\":[\"#636efa\",\"#EF553B\",\"#00cc96\",\"#ab63fa\",\"#FFA15A\",\"#19d3f3\",\"#FF6692\",\"#B6E880\",\"#FF97FF\",\"#FECB52\"],\"font\":{\"color\":\"#2a3f5f\"},\"geo\":{\"bgcolor\":\"white\",\"lakecolor\":\"white\",\"landcolor\":\"#E5ECF6\",\"showlakes\":true,\"showland\":true,\"subunitcolor\":\"white\"},\"hoverlabel\":{\"align\":\"left\"},\"hovermode\":\"closest\",\"mapbox\":{\"style\":\"light\"},\"paper_bgcolor\":\"white\",\"plot_bgcolor\":\"#E5ECF6\",\"polar\":{\"angularaxis\":{\"gridcolor\":\"white\",\"linecolor\":\"white\",\"ticks\":\"\"},\"bgcolor\":\"#E5ECF6\",\"radialaxis\":{\"gridcolor\":\"white\",\"linecolor\":\"white\",\"ticks\":\"\"}},\"scene\":{\"xaxis\":{\"backgroundcolor\":\"#E5ECF6\",\"gridcolor\":\"white\",\"gridwidth\":2,\"linecolor\":\"white\",\"showbackground\":true,\"ticks\":\"\",\"zerolinecolor\":\"white\"},\"yaxis\":{\"backgroundcolor\":\"#E5ECF6\",\"gridcolor\":\"white\",\"gridwidth\":2,\"linecolor\":\"white\",\"showbackground\":true,\"ticks\":\"\",\"zerolinecolor\":\"white\"},\"zaxis\":{\"backgroundcolor\":\"#E5ECF6\",\"gridcolor\":\"white\",\"gridwidth\":2,\"linecolor\":\"white\",\"showbackground\":true,\"ticks\":\"\",\"zerolinecolor\":\"white\"}},\"shapedefaults\":{\"line\":{\"color\":\"#2a3f5f\"}},\"ternary\":{\"aaxis\":{\"gridcolor\":\"white\",\"linecolor\":\"white\",\"ticks\":\"\"},\"baxis\":{\"gridcolor\":\"white\",\"linecolor\":\"white\",\"ticks\":\"\"},\"bgcolor\":\"#E5ECF6\",\"caxis\":{\"gridcolor\":\"white\",\"linecolor\":\"white\",\"ticks\":\"\"}},\"title\":{\"x\":0.05},\"xaxis\":{\"automargin\":true,\"gridcolor\":\"white\",\"linecolor\":\"white\",\"ticks\":\"\",\"title\":{\"standoff\":15},\"zerolinecolor\":\"white\",\"zerolinewidth\":2},\"yaxis\":{\"automargin\":true,\"gridcolor\":\"white\",\"linecolor\":\"white\",\"ticks\":\"\",\"title\":{\"standoff\":15},\"zerolinecolor\":\"white\",\"zerolinewidth\":2}}},\"title\":{\"font\":{\"color\":\"#4D5663\"}},\"xaxis\":{\"gridcolor\":\"#E1E5ED\",\"showgrid\":true,\"tickfont\":{\"color\":\"#4D5663\"},\"title\":{\"font\":{\"color\":\"#4D5663\"},\"text\":\"\"},\"zerolinecolor\":\"#E1E5ED\"},\"yaxis\":{\"gridcolor\":\"#E1E5ED\",\"showgrid\":true,\"tickfont\":{\"color\":\"#4D5663\"},\"title\":{\"font\":{\"color\":\"#4D5663\"},\"text\":\"\"},\"zerolinecolor\":\"#E1E5ED\"}},                        {\"showLink\": true, \"linkText\": \"Export to plot.ly\", \"plotlyServerURL\": \"https://plot.ly\", \"responsive\": true}                    ).then(function(){\n",
       "                            \n",
       "var gd = document.getElementById('9510d556-97bb-4c4b-911e-40f58aee49d1');\n",
       "var x = new MutationObserver(function (mutations, observer) {{\n",
       "        var display = window.getComputedStyle(gd).display;\n",
       "        if (!display || display === 'none') {{\n",
       "            console.log([gd, 'removed!']);\n",
       "            Plotly.purge(gd);\n",
       "            observer.disconnect();\n",
       "        }}\n",
       "}});\n",
       "\n",
       "// Listen for the removal of the full notebook cells\n",
       "var notebookContainer = gd.closest('#notebook-container');\n",
       "if (notebookContainer) {{\n",
       "    x.observe(notebookContainer, {childList: true});\n",
       "}}\n",
       "\n",
       "// Listen for the clearing of the current output cell\n",
       "var outputEl = gd.closest('.output');\n",
       "if (outputEl) {{\n",
       "    x.observe(outputEl, {childList: true});\n",
       "}}\n",
       "\n",
       "                        })                };                });            </script>        </div>"
      ]
     },
     "metadata": {},
     "output_type": "display_data"
    }
   ],
   "source": [
    "df['A'].iplot(kind='hist')"
   ]
  },
  {
   "cell_type": "code",
   "execution_count": 29,
   "id": "182da600",
   "metadata": {},
   "outputs": [
    {
     "data": {
      "application/vnd.plotly.v1+json": {
       "config": {
        "linkText": "Export to plot.ly",
        "plotlyServerURL": "https://plot.ly",
        "showLink": true
       },
       "data": [
        {
         "histfunc": "count",
         "histnorm": "",
         "marker": {
          "color": "rgba(255, 153, 51, 1.0)",
          "line": {
           "color": "#4D5663",
           "width": 1.3
          }
         },
         "name": "A",
         "nbinsx": 30,
         "opacity": 0.8,
         "orientation": "v",
         "type": "histogram",
         "x": [
          0.33567605600194994,
          -0.8109873503861798,
          -2.6316756978724447,
          0.5776275311286065,
          -0.22530496487367777,
          0.8097460374131469,
          -0.5115338215552406,
          -0.4590997186416238,
          -0.298577056088914,
          -0.28541368761683306,
          -0.5472911448565846,
          0.3027742133920709,
          0.8902345216571652,
          -0.9239113525121986,
          0.9416625216245742,
          -0.18066450525113226,
          -2.0881969759280192,
          0.47500151093148335,
          -1.2731709071783763,
          1.230559710728227,
          -0.1605185431067916,
          0.6015686401189955,
          1.0663771004856937,
          0.4339044154824729,
          0.42688970128877163,
          0.7278870362259178,
          -0.6948804563250303,
          -0.05374882813326524,
          -1.6336690547739716,
          -0.88579686362121,
          -0.9542553464180343,
          -0.5644192605571883,
          1.0782994643519894,
          0.49503871747449035,
          0.5343533913205508,
          1.447396904689215,
          0.804473836069314,
          0.3481074903159142,
          -0.2505714270670016,
          -0.9029133179431246,
          0.2940895274251988,
          0.14540457070201546,
          -0.10762877600905554,
          0.3053893258733171,
          0.598940030645167,
          0.7820125036292656,
          -0.8966714305533445,
          1.6606846244283409,
          0.5727604798690485,
          1.6231494486869715,
          -0.8105612809550491,
          -0.3923264306412344,
          -0.04246774635108637,
          -0.059903525664294535,
          -0.5311755088064984,
          -0.23453465907896814,
          -2.0232349749481413,
          -0.475191922450835,
          -0.40907645810611803,
          -0.1339567374388445,
          -2.7697162720257404,
          -1.358394353131801,
          -0.08178397964309239,
          0.7753013039142149,
          0.5360340367280473,
          0.2533268706667387,
          0.5625348411215483,
          0.31576535434829717,
          -1.206120024494666,
          0.048844511971718504,
          1.120232843572727,
          0.21992570366912945,
          -0.21448152530239026,
          -1.908920438887307,
          0.9638465930685435,
          0.7935170953105968,
          0.8460362189297203,
          0.8793126804341501,
          -0.3120587028701596,
          0.9023335833858086,
          -1.2657523325157283,
          1.268781693218166,
          -0.05215591066790494,
          0.6968094280163797,
          -1.189618503274249,
          1.8258605748682426,
          -1.6072554233354683,
          0.0468494169654665,
          0.6188673797537998,
          -0.35377270836903085,
          0.7879111619926648,
          1.0992184325469223,
          -0.3551296686529979,
          0.9551820492099591,
          -1.9799928033362035,
          -1.4876434001811865,
          1.258773185930191,
          0.06426248988592512,
          -0.27308672608175666,
          2.3920188360109895
         ]
        }
       ],
       "layout": {
        "barmode": "overlay",
        "legend": {
         "bgcolor": "#F5F6F9",
         "font": {
          "color": "#4D5663"
         }
        },
        "paper_bgcolor": "#F5F6F9",
        "plot_bgcolor": "#F5F6F9",
        "template": {
         "data": {
          "bar": [
           {
            "error_x": {
             "color": "#2a3f5f"
            },
            "error_y": {
             "color": "#2a3f5f"
            },
            "marker": {
             "line": {
              "color": "#E5ECF6",
              "width": 0.5
             },
             "pattern": {
              "fillmode": "overlay",
              "size": 10,
              "solidity": 0.2
             }
            },
            "type": "bar"
           }
          ],
          "barpolar": [
           {
            "marker": {
             "line": {
              "color": "#E5ECF6",
              "width": 0.5
             },
             "pattern": {
              "fillmode": "overlay",
              "size": 10,
              "solidity": 0.2
             }
            },
            "type": "barpolar"
           }
          ],
          "carpet": [
           {
            "aaxis": {
             "endlinecolor": "#2a3f5f",
             "gridcolor": "white",
             "linecolor": "white",
             "minorgridcolor": "white",
             "startlinecolor": "#2a3f5f"
            },
            "baxis": {
             "endlinecolor": "#2a3f5f",
             "gridcolor": "white",
             "linecolor": "white",
             "minorgridcolor": "white",
             "startlinecolor": "#2a3f5f"
            },
            "type": "carpet"
           }
          ],
          "choropleth": [
           {
            "colorbar": {
             "outlinewidth": 0,
             "ticks": ""
            },
            "type": "choropleth"
           }
          ],
          "contour": [
           {
            "colorbar": {
             "outlinewidth": 0,
             "ticks": ""
            },
            "colorscale": [
             [
              0,
              "#0d0887"
             ],
             [
              0.1111111111111111,
              "#46039f"
             ],
             [
              0.2222222222222222,
              "#7201a8"
             ],
             [
              0.3333333333333333,
              "#9c179e"
             ],
             [
              0.4444444444444444,
              "#bd3786"
             ],
             [
              0.5555555555555556,
              "#d8576b"
             ],
             [
              0.6666666666666666,
              "#ed7953"
             ],
             [
              0.7777777777777778,
              "#fb9f3a"
             ],
             [
              0.8888888888888888,
              "#fdca26"
             ],
             [
              1,
              "#f0f921"
             ]
            ],
            "type": "contour"
           }
          ],
          "contourcarpet": [
           {
            "colorbar": {
             "outlinewidth": 0,
             "ticks": ""
            },
            "type": "contourcarpet"
           }
          ],
          "heatmap": [
           {
            "colorbar": {
             "outlinewidth": 0,
             "ticks": ""
            },
            "colorscale": [
             [
              0,
              "#0d0887"
             ],
             [
              0.1111111111111111,
              "#46039f"
             ],
             [
              0.2222222222222222,
              "#7201a8"
             ],
             [
              0.3333333333333333,
              "#9c179e"
             ],
             [
              0.4444444444444444,
              "#bd3786"
             ],
             [
              0.5555555555555556,
              "#d8576b"
             ],
             [
              0.6666666666666666,
              "#ed7953"
             ],
             [
              0.7777777777777778,
              "#fb9f3a"
             ],
             [
              0.8888888888888888,
              "#fdca26"
             ],
             [
              1,
              "#f0f921"
             ]
            ],
            "type": "heatmap"
           }
          ],
          "heatmapgl": [
           {
            "colorbar": {
             "outlinewidth": 0,
             "ticks": ""
            },
            "colorscale": [
             [
              0,
              "#0d0887"
             ],
             [
              0.1111111111111111,
              "#46039f"
             ],
             [
              0.2222222222222222,
              "#7201a8"
             ],
             [
              0.3333333333333333,
              "#9c179e"
             ],
             [
              0.4444444444444444,
              "#bd3786"
             ],
             [
              0.5555555555555556,
              "#d8576b"
             ],
             [
              0.6666666666666666,
              "#ed7953"
             ],
             [
              0.7777777777777778,
              "#fb9f3a"
             ],
             [
              0.8888888888888888,
              "#fdca26"
             ],
             [
              1,
              "#f0f921"
             ]
            ],
            "type": "heatmapgl"
           }
          ],
          "histogram": [
           {
            "marker": {
             "pattern": {
              "fillmode": "overlay",
              "size": 10,
              "solidity": 0.2
             }
            },
            "type": "histogram"
           }
          ],
          "histogram2d": [
           {
            "colorbar": {
             "outlinewidth": 0,
             "ticks": ""
            },
            "colorscale": [
             [
              0,
              "#0d0887"
             ],
             [
              0.1111111111111111,
              "#46039f"
             ],
             [
              0.2222222222222222,
              "#7201a8"
             ],
             [
              0.3333333333333333,
              "#9c179e"
             ],
             [
              0.4444444444444444,
              "#bd3786"
             ],
             [
              0.5555555555555556,
              "#d8576b"
             ],
             [
              0.6666666666666666,
              "#ed7953"
             ],
             [
              0.7777777777777778,
              "#fb9f3a"
             ],
             [
              0.8888888888888888,
              "#fdca26"
             ],
             [
              1,
              "#f0f921"
             ]
            ],
            "type": "histogram2d"
           }
          ],
          "histogram2dcontour": [
           {
            "colorbar": {
             "outlinewidth": 0,
             "ticks": ""
            },
            "colorscale": [
             [
              0,
              "#0d0887"
             ],
             [
              0.1111111111111111,
              "#46039f"
             ],
             [
              0.2222222222222222,
              "#7201a8"
             ],
             [
              0.3333333333333333,
              "#9c179e"
             ],
             [
              0.4444444444444444,
              "#bd3786"
             ],
             [
              0.5555555555555556,
              "#d8576b"
             ],
             [
              0.6666666666666666,
              "#ed7953"
             ],
             [
              0.7777777777777778,
              "#fb9f3a"
             ],
             [
              0.8888888888888888,
              "#fdca26"
             ],
             [
              1,
              "#f0f921"
             ]
            ],
            "type": "histogram2dcontour"
           }
          ],
          "mesh3d": [
           {
            "colorbar": {
             "outlinewidth": 0,
             "ticks": ""
            },
            "type": "mesh3d"
           }
          ],
          "parcoords": [
           {
            "line": {
             "colorbar": {
              "outlinewidth": 0,
              "ticks": ""
             }
            },
            "type": "parcoords"
           }
          ],
          "pie": [
           {
            "automargin": true,
            "type": "pie"
           }
          ],
          "scatter": [
           {
            "fillpattern": {
             "fillmode": "overlay",
             "size": 10,
             "solidity": 0.2
            },
            "type": "scatter"
           }
          ],
          "scatter3d": [
           {
            "line": {
             "colorbar": {
              "outlinewidth": 0,
              "ticks": ""
             }
            },
            "marker": {
             "colorbar": {
              "outlinewidth": 0,
              "ticks": ""
             }
            },
            "type": "scatter3d"
           }
          ],
          "scattercarpet": [
           {
            "marker": {
             "colorbar": {
              "outlinewidth": 0,
              "ticks": ""
             }
            },
            "type": "scattercarpet"
           }
          ],
          "scattergeo": [
           {
            "marker": {
             "colorbar": {
              "outlinewidth": 0,
              "ticks": ""
             }
            },
            "type": "scattergeo"
           }
          ],
          "scattergl": [
           {
            "marker": {
             "colorbar": {
              "outlinewidth": 0,
              "ticks": ""
             }
            },
            "type": "scattergl"
           }
          ],
          "scattermapbox": [
           {
            "marker": {
             "colorbar": {
              "outlinewidth": 0,
              "ticks": ""
             }
            },
            "type": "scattermapbox"
           }
          ],
          "scatterpolar": [
           {
            "marker": {
             "colorbar": {
              "outlinewidth": 0,
              "ticks": ""
             }
            },
            "type": "scatterpolar"
           }
          ],
          "scatterpolargl": [
           {
            "marker": {
             "colorbar": {
              "outlinewidth": 0,
              "ticks": ""
             }
            },
            "type": "scatterpolargl"
           }
          ],
          "scatterternary": [
           {
            "marker": {
             "colorbar": {
              "outlinewidth": 0,
              "ticks": ""
             }
            },
            "type": "scatterternary"
           }
          ],
          "surface": [
           {
            "colorbar": {
             "outlinewidth": 0,
             "ticks": ""
            },
            "colorscale": [
             [
              0,
              "#0d0887"
             ],
             [
              0.1111111111111111,
              "#46039f"
             ],
             [
              0.2222222222222222,
              "#7201a8"
             ],
             [
              0.3333333333333333,
              "#9c179e"
             ],
             [
              0.4444444444444444,
              "#bd3786"
             ],
             [
              0.5555555555555556,
              "#d8576b"
             ],
             [
              0.6666666666666666,
              "#ed7953"
             ],
             [
              0.7777777777777778,
              "#fb9f3a"
             ],
             [
              0.8888888888888888,
              "#fdca26"
             ],
             [
              1,
              "#f0f921"
             ]
            ],
            "type": "surface"
           }
          ],
          "table": [
           {
            "cells": {
             "fill": {
              "color": "#EBF0F8"
             },
             "line": {
              "color": "white"
             }
            },
            "header": {
             "fill": {
              "color": "#C8D4E3"
             },
             "line": {
              "color": "white"
             }
            },
            "type": "table"
           }
          ]
         },
         "layout": {
          "annotationdefaults": {
           "arrowcolor": "#2a3f5f",
           "arrowhead": 0,
           "arrowwidth": 1
          },
          "autotypenumbers": "strict",
          "coloraxis": {
           "colorbar": {
            "outlinewidth": 0,
            "ticks": ""
           }
          },
          "colorscale": {
           "diverging": [
            [
             0,
             "#8e0152"
            ],
            [
             0.1,
             "#c51b7d"
            ],
            [
             0.2,
             "#de77ae"
            ],
            [
             0.3,
             "#f1b6da"
            ],
            [
             0.4,
             "#fde0ef"
            ],
            [
             0.5,
             "#f7f7f7"
            ],
            [
             0.6,
             "#e6f5d0"
            ],
            [
             0.7,
             "#b8e186"
            ],
            [
             0.8,
             "#7fbc41"
            ],
            [
             0.9,
             "#4d9221"
            ],
            [
             1,
             "#276419"
            ]
           ],
           "sequential": [
            [
             0,
             "#0d0887"
            ],
            [
             0.1111111111111111,
             "#46039f"
            ],
            [
             0.2222222222222222,
             "#7201a8"
            ],
            [
             0.3333333333333333,
             "#9c179e"
            ],
            [
             0.4444444444444444,
             "#bd3786"
            ],
            [
             0.5555555555555556,
             "#d8576b"
            ],
            [
             0.6666666666666666,
             "#ed7953"
            ],
            [
             0.7777777777777778,
             "#fb9f3a"
            ],
            [
             0.8888888888888888,
             "#fdca26"
            ],
            [
             1,
             "#f0f921"
            ]
           ],
           "sequentialminus": [
            [
             0,
             "#0d0887"
            ],
            [
             0.1111111111111111,
             "#46039f"
            ],
            [
             0.2222222222222222,
             "#7201a8"
            ],
            [
             0.3333333333333333,
             "#9c179e"
            ],
            [
             0.4444444444444444,
             "#bd3786"
            ],
            [
             0.5555555555555556,
             "#d8576b"
            ],
            [
             0.6666666666666666,
             "#ed7953"
            ],
            [
             0.7777777777777778,
             "#fb9f3a"
            ],
            [
             0.8888888888888888,
             "#fdca26"
            ],
            [
             1,
             "#f0f921"
            ]
           ]
          },
          "colorway": [
           "#636efa",
           "#EF553B",
           "#00cc96",
           "#ab63fa",
           "#FFA15A",
           "#19d3f3",
           "#FF6692",
           "#B6E880",
           "#FF97FF",
           "#FECB52"
          ],
          "font": {
           "color": "#2a3f5f"
          },
          "geo": {
           "bgcolor": "white",
           "lakecolor": "white",
           "landcolor": "#E5ECF6",
           "showlakes": true,
           "showland": true,
           "subunitcolor": "white"
          },
          "hoverlabel": {
           "align": "left"
          },
          "hovermode": "closest",
          "mapbox": {
           "style": "light"
          },
          "paper_bgcolor": "white",
          "plot_bgcolor": "#E5ECF6",
          "polar": {
           "angularaxis": {
            "gridcolor": "white",
            "linecolor": "white",
            "ticks": ""
           },
           "bgcolor": "#E5ECF6",
           "radialaxis": {
            "gridcolor": "white",
            "linecolor": "white",
            "ticks": ""
           }
          },
          "scene": {
           "xaxis": {
            "backgroundcolor": "#E5ECF6",
            "gridcolor": "white",
            "gridwidth": 2,
            "linecolor": "white",
            "showbackground": true,
            "ticks": "",
            "zerolinecolor": "white"
           },
           "yaxis": {
            "backgroundcolor": "#E5ECF6",
            "gridcolor": "white",
            "gridwidth": 2,
            "linecolor": "white",
            "showbackground": true,
            "ticks": "",
            "zerolinecolor": "white"
           },
           "zaxis": {
            "backgroundcolor": "#E5ECF6",
            "gridcolor": "white",
            "gridwidth": 2,
            "linecolor": "white",
            "showbackground": true,
            "ticks": "",
            "zerolinecolor": "white"
           }
          },
          "shapedefaults": {
           "line": {
            "color": "#2a3f5f"
           }
          },
          "ternary": {
           "aaxis": {
            "gridcolor": "white",
            "linecolor": "white",
            "ticks": ""
           },
           "baxis": {
            "gridcolor": "white",
            "linecolor": "white",
            "ticks": ""
           },
           "bgcolor": "#E5ECF6",
           "caxis": {
            "gridcolor": "white",
            "linecolor": "white",
            "ticks": ""
           }
          },
          "title": {
           "x": 0.05
          },
          "xaxis": {
           "automargin": true,
           "gridcolor": "white",
           "linecolor": "white",
           "ticks": "",
           "title": {
            "standoff": 15
           },
           "zerolinecolor": "white",
           "zerolinewidth": 2
          },
          "yaxis": {
           "automargin": true,
           "gridcolor": "white",
           "linecolor": "white",
           "ticks": "",
           "title": {
            "standoff": 15
           },
           "zerolinecolor": "white",
           "zerolinewidth": 2
          }
         }
        },
        "title": {
         "font": {
          "color": "#4D5663"
         }
        },
        "xaxis": {
         "gridcolor": "#E1E5ED",
         "showgrid": true,
         "tickfont": {
          "color": "#4D5663"
         },
         "title": {
          "font": {
           "color": "#4D5663"
          },
          "text": ""
         },
         "zerolinecolor": "#E1E5ED"
        },
        "yaxis": {
         "gridcolor": "#E1E5ED",
         "showgrid": true,
         "tickfont": {
          "color": "#4D5663"
         },
         "title": {
          "font": {
           "color": "#4D5663"
          },
          "text": ""
         },
         "zerolinecolor": "#E1E5ED"
        }
       }
      },
      "text/html": [
       "<div>                            <div id=\"7c39530c-763a-416f-86a9-30369fc5b72e\" class=\"plotly-graph-div\" style=\"height:525px; width:100%;\"></div>            <script type=\"text/javascript\">                require([\"plotly\"], function(Plotly) {                    window.PLOTLYENV=window.PLOTLYENV || {};\n",
       "                    window.PLOTLYENV.BASE_URL='https://plot.ly';                                    if (document.getElementById(\"7c39530c-763a-416f-86a9-30369fc5b72e\")) {                    Plotly.newPlot(                        \"7c39530c-763a-416f-86a9-30369fc5b72e\",                        [{\"histfunc\":\"count\",\"histnorm\":\"\",\"marker\":{\"color\":\"rgba(255, 153, 51, 1.0)\",\"line\":{\"color\":\"#4D5663\",\"width\":1.3}},\"name\":\"A\",\"nbinsx\":30,\"opacity\":0.8,\"orientation\":\"v\",\"x\":[0.33567605600194994,-0.8109873503861798,-2.6316756978724447,0.5776275311286065,-0.22530496487367777,0.8097460374131469,-0.5115338215552406,-0.4590997186416238,-0.298577056088914,-0.28541368761683306,-0.5472911448565846,0.3027742133920709,0.8902345216571652,-0.9239113525121986,0.9416625216245742,-0.18066450525113226,-2.0881969759280192,0.47500151093148335,-1.2731709071783763,1.230559710728227,-0.1605185431067916,0.6015686401189955,1.0663771004856937,0.4339044154824729,0.42688970128877163,0.7278870362259178,-0.6948804563250303,-0.05374882813326524,-1.6336690547739716,-0.88579686362121,-0.9542553464180343,-0.5644192605571883,1.0782994643519894,0.49503871747449035,0.5343533913205508,1.447396904689215,0.804473836069314,0.3481074903159142,-0.2505714270670016,-0.9029133179431246,0.2940895274251988,0.14540457070201546,-0.10762877600905554,0.3053893258733171,0.598940030645167,0.7820125036292656,-0.8966714305533445,1.6606846244283409,0.5727604798690485,1.6231494486869715,-0.8105612809550491,-0.3923264306412344,-0.04246774635108637,-0.059903525664294535,-0.5311755088064984,-0.23453465907896814,-2.0232349749481413,-0.475191922450835,-0.40907645810611803,-0.1339567374388445,-2.7697162720257404,-1.358394353131801,-0.08178397964309239,0.7753013039142149,0.5360340367280473,0.2533268706667387,0.5625348411215483,0.31576535434829717,-1.206120024494666,0.048844511971718504,1.120232843572727,0.21992570366912945,-0.21448152530239026,-1.908920438887307,0.9638465930685435,0.7935170953105968,0.8460362189297203,0.8793126804341501,-0.3120587028701596,0.9023335833858086,-1.2657523325157283,1.268781693218166,-0.05215591066790494,0.6968094280163797,-1.189618503274249,1.8258605748682426,-1.6072554233354683,0.0468494169654665,0.6188673797537998,-0.35377270836903085,0.7879111619926648,1.0992184325469223,-0.3551296686529979,0.9551820492099591,-1.9799928033362035,-1.4876434001811865,1.258773185930191,0.06426248988592512,-0.27308672608175666,2.3920188360109895],\"type\":\"histogram\"}],                        {\"barmode\":\"overlay\",\"legend\":{\"bgcolor\":\"#F5F6F9\",\"font\":{\"color\":\"#4D5663\"}},\"paper_bgcolor\":\"#F5F6F9\",\"plot_bgcolor\":\"#F5F6F9\",\"template\":{\"data\":{\"barpolar\":[{\"marker\":{\"line\":{\"color\":\"#E5ECF6\",\"width\":0.5},\"pattern\":{\"fillmode\":\"overlay\",\"size\":10,\"solidity\":0.2}},\"type\":\"barpolar\"}],\"bar\":[{\"error_x\":{\"color\":\"#2a3f5f\"},\"error_y\":{\"color\":\"#2a3f5f\"},\"marker\":{\"line\":{\"color\":\"#E5ECF6\",\"width\":0.5},\"pattern\":{\"fillmode\":\"overlay\",\"size\":10,\"solidity\":0.2}},\"type\":\"bar\"}],\"carpet\":[{\"aaxis\":{\"endlinecolor\":\"#2a3f5f\",\"gridcolor\":\"white\",\"linecolor\":\"white\",\"minorgridcolor\":\"white\",\"startlinecolor\":\"#2a3f5f\"},\"baxis\":{\"endlinecolor\":\"#2a3f5f\",\"gridcolor\":\"white\",\"linecolor\":\"white\",\"minorgridcolor\":\"white\",\"startlinecolor\":\"#2a3f5f\"},\"type\":\"carpet\"}],\"choropleth\":[{\"colorbar\":{\"outlinewidth\":0,\"ticks\":\"\"},\"type\":\"choropleth\"}],\"contourcarpet\":[{\"colorbar\":{\"outlinewidth\":0,\"ticks\":\"\"},\"type\":\"contourcarpet\"}],\"contour\":[{\"colorbar\":{\"outlinewidth\":0,\"ticks\":\"\"},\"colorscale\":[[0.0,\"#0d0887\"],[0.1111111111111111,\"#46039f\"],[0.2222222222222222,\"#7201a8\"],[0.3333333333333333,\"#9c179e\"],[0.4444444444444444,\"#bd3786\"],[0.5555555555555556,\"#d8576b\"],[0.6666666666666666,\"#ed7953\"],[0.7777777777777778,\"#fb9f3a\"],[0.8888888888888888,\"#fdca26\"],[1.0,\"#f0f921\"]],\"type\":\"contour\"}],\"heatmapgl\":[{\"colorbar\":{\"outlinewidth\":0,\"ticks\":\"\"},\"colorscale\":[[0.0,\"#0d0887\"],[0.1111111111111111,\"#46039f\"],[0.2222222222222222,\"#7201a8\"],[0.3333333333333333,\"#9c179e\"],[0.4444444444444444,\"#bd3786\"],[0.5555555555555556,\"#d8576b\"],[0.6666666666666666,\"#ed7953\"],[0.7777777777777778,\"#fb9f3a\"],[0.8888888888888888,\"#fdca26\"],[1.0,\"#f0f921\"]],\"type\":\"heatmapgl\"}],\"heatmap\":[{\"colorbar\":{\"outlinewidth\":0,\"ticks\":\"\"},\"colorscale\":[[0.0,\"#0d0887\"],[0.1111111111111111,\"#46039f\"],[0.2222222222222222,\"#7201a8\"],[0.3333333333333333,\"#9c179e\"],[0.4444444444444444,\"#bd3786\"],[0.5555555555555556,\"#d8576b\"],[0.6666666666666666,\"#ed7953\"],[0.7777777777777778,\"#fb9f3a\"],[0.8888888888888888,\"#fdca26\"],[1.0,\"#f0f921\"]],\"type\":\"heatmap\"}],\"histogram2dcontour\":[{\"colorbar\":{\"outlinewidth\":0,\"ticks\":\"\"},\"colorscale\":[[0.0,\"#0d0887\"],[0.1111111111111111,\"#46039f\"],[0.2222222222222222,\"#7201a8\"],[0.3333333333333333,\"#9c179e\"],[0.4444444444444444,\"#bd3786\"],[0.5555555555555556,\"#d8576b\"],[0.6666666666666666,\"#ed7953\"],[0.7777777777777778,\"#fb9f3a\"],[0.8888888888888888,\"#fdca26\"],[1.0,\"#f0f921\"]],\"type\":\"histogram2dcontour\"}],\"histogram2d\":[{\"colorbar\":{\"outlinewidth\":0,\"ticks\":\"\"},\"colorscale\":[[0.0,\"#0d0887\"],[0.1111111111111111,\"#46039f\"],[0.2222222222222222,\"#7201a8\"],[0.3333333333333333,\"#9c179e\"],[0.4444444444444444,\"#bd3786\"],[0.5555555555555556,\"#d8576b\"],[0.6666666666666666,\"#ed7953\"],[0.7777777777777778,\"#fb9f3a\"],[0.8888888888888888,\"#fdca26\"],[1.0,\"#f0f921\"]],\"type\":\"histogram2d\"}],\"histogram\":[{\"marker\":{\"pattern\":{\"fillmode\":\"overlay\",\"size\":10,\"solidity\":0.2}},\"type\":\"histogram\"}],\"mesh3d\":[{\"colorbar\":{\"outlinewidth\":0,\"ticks\":\"\"},\"type\":\"mesh3d\"}],\"parcoords\":[{\"line\":{\"colorbar\":{\"outlinewidth\":0,\"ticks\":\"\"}},\"type\":\"parcoords\"}],\"pie\":[{\"automargin\":true,\"type\":\"pie\"}],\"scatter3d\":[{\"line\":{\"colorbar\":{\"outlinewidth\":0,\"ticks\":\"\"}},\"marker\":{\"colorbar\":{\"outlinewidth\":0,\"ticks\":\"\"}},\"type\":\"scatter3d\"}],\"scattercarpet\":[{\"marker\":{\"colorbar\":{\"outlinewidth\":0,\"ticks\":\"\"}},\"type\":\"scattercarpet\"}],\"scattergeo\":[{\"marker\":{\"colorbar\":{\"outlinewidth\":0,\"ticks\":\"\"}},\"type\":\"scattergeo\"}],\"scattergl\":[{\"marker\":{\"colorbar\":{\"outlinewidth\":0,\"ticks\":\"\"}},\"type\":\"scattergl\"}],\"scattermapbox\":[{\"marker\":{\"colorbar\":{\"outlinewidth\":0,\"ticks\":\"\"}},\"type\":\"scattermapbox\"}],\"scatterpolargl\":[{\"marker\":{\"colorbar\":{\"outlinewidth\":0,\"ticks\":\"\"}},\"type\":\"scatterpolargl\"}],\"scatterpolar\":[{\"marker\":{\"colorbar\":{\"outlinewidth\":0,\"ticks\":\"\"}},\"type\":\"scatterpolar\"}],\"scatter\":[{\"fillpattern\":{\"fillmode\":\"overlay\",\"size\":10,\"solidity\":0.2},\"type\":\"scatter\"}],\"scatterternary\":[{\"marker\":{\"colorbar\":{\"outlinewidth\":0,\"ticks\":\"\"}},\"type\":\"scatterternary\"}],\"surface\":[{\"colorbar\":{\"outlinewidth\":0,\"ticks\":\"\"},\"colorscale\":[[0.0,\"#0d0887\"],[0.1111111111111111,\"#46039f\"],[0.2222222222222222,\"#7201a8\"],[0.3333333333333333,\"#9c179e\"],[0.4444444444444444,\"#bd3786\"],[0.5555555555555556,\"#d8576b\"],[0.6666666666666666,\"#ed7953\"],[0.7777777777777778,\"#fb9f3a\"],[0.8888888888888888,\"#fdca26\"],[1.0,\"#f0f921\"]],\"type\":\"surface\"}],\"table\":[{\"cells\":{\"fill\":{\"color\":\"#EBF0F8\"},\"line\":{\"color\":\"white\"}},\"header\":{\"fill\":{\"color\":\"#C8D4E3\"},\"line\":{\"color\":\"white\"}},\"type\":\"table\"}]},\"layout\":{\"annotationdefaults\":{\"arrowcolor\":\"#2a3f5f\",\"arrowhead\":0,\"arrowwidth\":1},\"autotypenumbers\":\"strict\",\"coloraxis\":{\"colorbar\":{\"outlinewidth\":0,\"ticks\":\"\"}},\"colorscale\":{\"diverging\":[[0,\"#8e0152\"],[0.1,\"#c51b7d\"],[0.2,\"#de77ae\"],[0.3,\"#f1b6da\"],[0.4,\"#fde0ef\"],[0.5,\"#f7f7f7\"],[0.6,\"#e6f5d0\"],[0.7,\"#b8e186\"],[0.8,\"#7fbc41\"],[0.9,\"#4d9221\"],[1,\"#276419\"]],\"sequential\":[[0.0,\"#0d0887\"],[0.1111111111111111,\"#46039f\"],[0.2222222222222222,\"#7201a8\"],[0.3333333333333333,\"#9c179e\"],[0.4444444444444444,\"#bd3786\"],[0.5555555555555556,\"#d8576b\"],[0.6666666666666666,\"#ed7953\"],[0.7777777777777778,\"#fb9f3a\"],[0.8888888888888888,\"#fdca26\"],[1.0,\"#f0f921\"]],\"sequentialminus\":[[0.0,\"#0d0887\"],[0.1111111111111111,\"#46039f\"],[0.2222222222222222,\"#7201a8\"],[0.3333333333333333,\"#9c179e\"],[0.4444444444444444,\"#bd3786\"],[0.5555555555555556,\"#d8576b\"],[0.6666666666666666,\"#ed7953\"],[0.7777777777777778,\"#fb9f3a\"],[0.8888888888888888,\"#fdca26\"],[1.0,\"#f0f921\"]]},\"colorway\":[\"#636efa\",\"#EF553B\",\"#00cc96\",\"#ab63fa\",\"#FFA15A\",\"#19d3f3\",\"#FF6692\",\"#B6E880\",\"#FF97FF\",\"#FECB52\"],\"font\":{\"color\":\"#2a3f5f\"},\"geo\":{\"bgcolor\":\"white\",\"lakecolor\":\"white\",\"landcolor\":\"#E5ECF6\",\"showlakes\":true,\"showland\":true,\"subunitcolor\":\"white\"},\"hoverlabel\":{\"align\":\"left\"},\"hovermode\":\"closest\",\"mapbox\":{\"style\":\"light\"},\"paper_bgcolor\":\"white\",\"plot_bgcolor\":\"#E5ECF6\",\"polar\":{\"angularaxis\":{\"gridcolor\":\"white\",\"linecolor\":\"white\",\"ticks\":\"\"},\"bgcolor\":\"#E5ECF6\",\"radialaxis\":{\"gridcolor\":\"white\",\"linecolor\":\"white\",\"ticks\":\"\"}},\"scene\":{\"xaxis\":{\"backgroundcolor\":\"#E5ECF6\",\"gridcolor\":\"white\",\"gridwidth\":2,\"linecolor\":\"white\",\"showbackground\":true,\"ticks\":\"\",\"zerolinecolor\":\"white\"},\"yaxis\":{\"backgroundcolor\":\"#E5ECF6\",\"gridcolor\":\"white\",\"gridwidth\":2,\"linecolor\":\"white\",\"showbackground\":true,\"ticks\":\"\",\"zerolinecolor\":\"white\"},\"zaxis\":{\"backgroundcolor\":\"#E5ECF6\",\"gridcolor\":\"white\",\"gridwidth\":2,\"linecolor\":\"white\",\"showbackground\":true,\"ticks\":\"\",\"zerolinecolor\":\"white\"}},\"shapedefaults\":{\"line\":{\"color\":\"#2a3f5f\"}},\"ternary\":{\"aaxis\":{\"gridcolor\":\"white\",\"linecolor\":\"white\",\"ticks\":\"\"},\"baxis\":{\"gridcolor\":\"white\",\"linecolor\":\"white\",\"ticks\":\"\"},\"bgcolor\":\"#E5ECF6\",\"caxis\":{\"gridcolor\":\"white\",\"linecolor\":\"white\",\"ticks\":\"\"}},\"title\":{\"x\":0.05},\"xaxis\":{\"automargin\":true,\"gridcolor\":\"white\",\"linecolor\":\"white\",\"ticks\":\"\",\"title\":{\"standoff\":15},\"zerolinecolor\":\"white\",\"zerolinewidth\":2},\"yaxis\":{\"automargin\":true,\"gridcolor\":\"white\",\"linecolor\":\"white\",\"ticks\":\"\",\"title\":{\"standoff\":15},\"zerolinecolor\":\"white\",\"zerolinewidth\":2}}},\"title\":{\"font\":{\"color\":\"#4D5663\"}},\"xaxis\":{\"gridcolor\":\"#E1E5ED\",\"showgrid\":true,\"tickfont\":{\"color\":\"#4D5663\"},\"title\":{\"font\":{\"color\":\"#4D5663\"},\"text\":\"\"},\"zerolinecolor\":\"#E1E5ED\"},\"yaxis\":{\"gridcolor\":\"#E1E5ED\",\"showgrid\":true,\"tickfont\":{\"color\":\"#4D5663\"},\"title\":{\"font\":{\"color\":\"#4D5663\"},\"text\":\"\"},\"zerolinecolor\":\"#E1E5ED\"}},                        {\"showLink\": true, \"linkText\": \"Export to plot.ly\", \"plotlyServerURL\": \"https://plot.ly\", \"responsive\": true}                    ).then(function(){\n",
       "                            \n",
       "var gd = document.getElementById('7c39530c-763a-416f-86a9-30369fc5b72e');\n",
       "var x = new MutationObserver(function (mutations, observer) {{\n",
       "        var display = window.getComputedStyle(gd).display;\n",
       "        if (!display || display === 'none') {{\n",
       "            console.log([gd, 'removed!']);\n",
       "            Plotly.purge(gd);\n",
       "            observer.disconnect();\n",
       "        }}\n",
       "}});\n",
       "\n",
       "// Listen for the removal of the full notebook cells\n",
       "var notebookContainer = gd.closest('#notebook-container');\n",
       "if (notebookContainer) {{\n",
       "    x.observe(notebookContainer, {childList: true});\n",
       "}}\n",
       "\n",
       "// Listen for the clearing of the current output cell\n",
       "var outputEl = gd.closest('.output');\n",
       "if (outputEl) {{\n",
       "    x.observe(outputEl, {childList: true});\n",
       "}}\n",
       "\n",
       "                        })                };                });            </script>        </div>"
      ]
     },
     "metadata": {},
     "output_type": "display_data"
    }
   ],
   "source": [
    "df['A'].iplot(kind='hist', bins=30)"
   ]
  },
  {
   "cell_type": "code",
   "execution_count": 30,
   "id": "1cca8fe2",
   "metadata": {},
   "outputs": [
    {
     "data": {
      "application/vnd.plotly.v1+json": {
       "config": {
        "linkText": "Export to plot.ly",
        "plotlyServerURL": "https://plot.ly",
        "showLink": true
       },
       "data": [
        {
         "marker": {
          "color": [
           "rgb(255, 153, 51)",
           "rgb(55, 128, 191)",
           "rgb(50, 171, 96)",
           "rgb(128, 0, 128)",
           "rgb(219, 64, 82)",
           "rgb(0, 128, 128)",
           "rgb(255, 255, 51)",
           "rgb(128, 128, 0)",
           "rgb(251, 128, 114)",
           "rgb(128, 177, 211)"
          ],
          "line": {
           "width": 1.3
          },
          "size": [
           66,
           83,
           43,
           99,
           64,
           63,
           63,
           78,
           62,
           60,
           74,
           67,
           86,
           76,
           99,
           71,
           67,
           47,
           101,
           59,
           51,
           88,
           81,
           56,
           69,
           43,
           78,
           60,
           49,
           72,
           50,
           74,
           71,
           62,
           56,
           44,
           48,
           56,
           53,
           72,
           57,
           61,
           67,
           70,
           83,
           81,
           61,
           61,
           55,
           76,
           61,
           64,
           67,
           83,
           56,
           71,
           69,
           62,
           87,
           12,
           55,
           58,
           42,
           50,
           94,
           82,
           101,
           48,
           112,
           49,
           59,
           34,
           80,
           60,
           60,
           87,
           63,
           35,
           42,
           76,
           71,
           110,
           62,
           63,
           72,
           65,
           70,
           81,
           74,
           85,
           77,
           94,
           71,
           84,
           91,
           76,
           74,
           54,
           30,
           65
          ],
          "symbol": "circle"
         },
         "mode": "markers",
         "text": "",
         "type": "scatter",
         "x": [
          0.33567605600194994,
          -0.8109873503861798,
          -2.6316756978724447,
          0.5776275311286065,
          -0.22530496487367777,
          0.8097460374131469,
          -0.5115338215552406,
          -0.4590997186416238,
          -0.298577056088914,
          -0.28541368761683306,
          -0.5472911448565846,
          0.3027742133920709,
          0.8902345216571652,
          -0.9239113525121986,
          0.9416625216245742,
          -0.18066450525113226,
          -2.0881969759280192,
          0.47500151093148335,
          -1.2731709071783763,
          1.230559710728227,
          -0.1605185431067916,
          0.6015686401189955,
          1.0663771004856937,
          0.4339044154824729,
          0.42688970128877163,
          0.7278870362259178,
          -0.6948804563250303,
          -0.05374882813326524,
          -1.6336690547739716,
          -0.88579686362121,
          -0.9542553464180343,
          -0.5644192605571883,
          1.0782994643519894,
          0.49503871747449035,
          0.5343533913205508,
          1.447396904689215,
          0.804473836069314,
          0.3481074903159142,
          -0.2505714270670016,
          -0.9029133179431246,
          0.2940895274251988,
          0.14540457070201546,
          -0.10762877600905554,
          0.3053893258733171,
          0.598940030645167,
          0.7820125036292656,
          -0.8966714305533445,
          1.6606846244283409,
          0.5727604798690485,
          1.6231494486869715,
          -0.8105612809550491,
          -0.3923264306412344,
          -0.04246774635108637,
          -0.059903525664294535,
          -0.5311755088064984,
          -0.23453465907896814,
          -2.0232349749481413,
          -0.475191922450835,
          -0.40907645810611803,
          -0.1339567374388445,
          -2.7697162720257404,
          -1.358394353131801,
          -0.08178397964309239,
          0.7753013039142149,
          0.5360340367280473,
          0.2533268706667387,
          0.5625348411215483,
          0.31576535434829717,
          -1.206120024494666,
          0.048844511971718504,
          1.120232843572727,
          0.21992570366912945,
          -0.21448152530239026,
          -1.908920438887307,
          0.9638465930685435,
          0.7935170953105968,
          0.8460362189297203,
          0.8793126804341501,
          -0.3120587028701596,
          0.9023335833858086,
          -1.2657523325157283,
          1.268781693218166,
          -0.05215591066790494,
          0.6968094280163797,
          -1.189618503274249,
          1.8258605748682426,
          -1.6072554233354683,
          0.0468494169654665,
          0.6188673797537998,
          -0.35377270836903085,
          0.7879111619926648,
          1.0992184325469223,
          -0.3551296686529979,
          0.9551820492099591,
          -1.9799928033362035,
          -1.4876434001811865,
          1.258773185930191,
          0.06426248988592512,
          -0.27308672608175666,
          2.3920188360109895
         ],
         "y": [
          -0.5174427882896812,
          2.6003500721367523,
          -0.398272656123329,
          1.0507472535838591,
          0.8484275564204568,
          0.34558531549137267,
          -0.7251750770576902,
          0.21203195288143903,
          1.0247005880785944,
          -0.41853128884587465,
          -0.5792595251450603,
          -0.23468009328856468,
          -0.37024797574697754,
          -1.6223191538820032,
          0.15822171939306529,
          0.7577979333440427,
          1.3104606801852252,
          0.354980393666831,
          1.0120449798349127,
          -1.3830630529587908,
          -0.7625692342748789,
          -0.031060772043171623,
          0.5876748574760096,
          -0.743381893549244,
          -0.07429448923367035,
          -1.2004104644731826,
          -0.24151882697923244,
          -2.320503904382237,
          -0.24087115581766094,
          -0.6987973244103791,
          -1.529215465871502,
          -0.4634558897134851,
          -0.517397324567097,
          -1.8826290407376154,
          -0.31550730650325126,
          -1.2810841938510928,
          -0.8165122345800369,
          0.010350999435031857,
          0.6307697461985253,
          0.6349949735690572,
          -1.3556578317900443,
          -0.07291038369075702,
          1.8848957700591833,
          -0.05777255081355184,
          0.6305221253983728,
          -0.977814856382125,
          1.2690335969192925,
          -0.5369021582866585,
          0.722476421578678,
          -0.6211934196164647,
          -0.3681602983448335,
          0.9156272215217325,
          -0.7906496269252035,
          1.245402244792277,
          -0.8609902609396055,
          1.5565591336143088,
          2.2655015589706453,
          -0.559343883766819,
          0.6072014775791178,
          0.18524797697217793,
          -0.5927180845146982,
          -0.4885482202160909,
          -0.2893087340183615,
          -0.09883201903432087,
          -0.5075521083179926,
          -0.021700889479004296,
          -1.305263590768384,
          -2.475515689150806,
          0.7843295779319387,
          -1.2032159148318333,
          1.9693577778767357,
          1.2238146565172854,
          1.1218344358044634,
          0.6674877264904224,
          1.2987751223433057,
          0.8637612322891047,
          0.7141219494868857,
          -0.5771529440751496,
          -1.2094988170327658,
          -0.30680557397477326,
          -1.5553797829605431,
          -1.7642989796422124,
          0.2592547356714931,
          2.168363029888972,
          0.030842989528504984,
          -1.6804497353868382,
          0.2818989496594489,
          -1.4778125028049618,
          -0.19193682085594233,
          0.6545811208782711,
          -0.6105512277782915,
          -0.5515806204315961,
          0.6817777225025149,
          -3.5935123694260622,
          -0.7399182083758457,
          0.17627441095701263,
          0.5453205448981414,
          -1.5226575299689897,
          -0.08078954284580486,
          -0.2065928315307047
         ]
        }
       ],
       "layout": {
        "legend": {
         "bgcolor": "#F5F6F9",
         "font": {
          "color": "#4D5663"
         }
        },
        "paper_bgcolor": "#F5F6F9",
        "plot_bgcolor": "#F5F6F9",
        "template": {
         "data": {
          "bar": [
           {
            "error_x": {
             "color": "#2a3f5f"
            },
            "error_y": {
             "color": "#2a3f5f"
            },
            "marker": {
             "line": {
              "color": "#E5ECF6",
              "width": 0.5
             },
             "pattern": {
              "fillmode": "overlay",
              "size": 10,
              "solidity": 0.2
             }
            },
            "type": "bar"
           }
          ],
          "barpolar": [
           {
            "marker": {
             "line": {
              "color": "#E5ECF6",
              "width": 0.5
             },
             "pattern": {
              "fillmode": "overlay",
              "size": 10,
              "solidity": 0.2
             }
            },
            "type": "barpolar"
           }
          ],
          "carpet": [
           {
            "aaxis": {
             "endlinecolor": "#2a3f5f",
             "gridcolor": "white",
             "linecolor": "white",
             "minorgridcolor": "white",
             "startlinecolor": "#2a3f5f"
            },
            "baxis": {
             "endlinecolor": "#2a3f5f",
             "gridcolor": "white",
             "linecolor": "white",
             "minorgridcolor": "white",
             "startlinecolor": "#2a3f5f"
            },
            "type": "carpet"
           }
          ],
          "choropleth": [
           {
            "colorbar": {
             "outlinewidth": 0,
             "ticks": ""
            },
            "type": "choropleth"
           }
          ],
          "contour": [
           {
            "colorbar": {
             "outlinewidth": 0,
             "ticks": ""
            },
            "colorscale": [
             [
              0,
              "#0d0887"
             ],
             [
              0.1111111111111111,
              "#46039f"
             ],
             [
              0.2222222222222222,
              "#7201a8"
             ],
             [
              0.3333333333333333,
              "#9c179e"
             ],
             [
              0.4444444444444444,
              "#bd3786"
             ],
             [
              0.5555555555555556,
              "#d8576b"
             ],
             [
              0.6666666666666666,
              "#ed7953"
             ],
             [
              0.7777777777777778,
              "#fb9f3a"
             ],
             [
              0.8888888888888888,
              "#fdca26"
             ],
             [
              1,
              "#f0f921"
             ]
            ],
            "type": "contour"
           }
          ],
          "contourcarpet": [
           {
            "colorbar": {
             "outlinewidth": 0,
             "ticks": ""
            },
            "type": "contourcarpet"
           }
          ],
          "heatmap": [
           {
            "colorbar": {
             "outlinewidth": 0,
             "ticks": ""
            },
            "colorscale": [
             [
              0,
              "#0d0887"
             ],
             [
              0.1111111111111111,
              "#46039f"
             ],
             [
              0.2222222222222222,
              "#7201a8"
             ],
             [
              0.3333333333333333,
              "#9c179e"
             ],
             [
              0.4444444444444444,
              "#bd3786"
             ],
             [
              0.5555555555555556,
              "#d8576b"
             ],
             [
              0.6666666666666666,
              "#ed7953"
             ],
             [
              0.7777777777777778,
              "#fb9f3a"
             ],
             [
              0.8888888888888888,
              "#fdca26"
             ],
             [
              1,
              "#f0f921"
             ]
            ],
            "type": "heatmap"
           }
          ],
          "heatmapgl": [
           {
            "colorbar": {
             "outlinewidth": 0,
             "ticks": ""
            },
            "colorscale": [
             [
              0,
              "#0d0887"
             ],
             [
              0.1111111111111111,
              "#46039f"
             ],
             [
              0.2222222222222222,
              "#7201a8"
             ],
             [
              0.3333333333333333,
              "#9c179e"
             ],
             [
              0.4444444444444444,
              "#bd3786"
             ],
             [
              0.5555555555555556,
              "#d8576b"
             ],
             [
              0.6666666666666666,
              "#ed7953"
             ],
             [
              0.7777777777777778,
              "#fb9f3a"
             ],
             [
              0.8888888888888888,
              "#fdca26"
             ],
             [
              1,
              "#f0f921"
             ]
            ],
            "type": "heatmapgl"
           }
          ],
          "histogram": [
           {
            "marker": {
             "pattern": {
              "fillmode": "overlay",
              "size": 10,
              "solidity": 0.2
             }
            },
            "type": "histogram"
           }
          ],
          "histogram2d": [
           {
            "colorbar": {
             "outlinewidth": 0,
             "ticks": ""
            },
            "colorscale": [
             [
              0,
              "#0d0887"
             ],
             [
              0.1111111111111111,
              "#46039f"
             ],
             [
              0.2222222222222222,
              "#7201a8"
             ],
             [
              0.3333333333333333,
              "#9c179e"
             ],
             [
              0.4444444444444444,
              "#bd3786"
             ],
             [
              0.5555555555555556,
              "#d8576b"
             ],
             [
              0.6666666666666666,
              "#ed7953"
             ],
             [
              0.7777777777777778,
              "#fb9f3a"
             ],
             [
              0.8888888888888888,
              "#fdca26"
             ],
             [
              1,
              "#f0f921"
             ]
            ],
            "type": "histogram2d"
           }
          ],
          "histogram2dcontour": [
           {
            "colorbar": {
             "outlinewidth": 0,
             "ticks": ""
            },
            "colorscale": [
             [
              0,
              "#0d0887"
             ],
             [
              0.1111111111111111,
              "#46039f"
             ],
             [
              0.2222222222222222,
              "#7201a8"
             ],
             [
              0.3333333333333333,
              "#9c179e"
             ],
             [
              0.4444444444444444,
              "#bd3786"
             ],
             [
              0.5555555555555556,
              "#d8576b"
             ],
             [
              0.6666666666666666,
              "#ed7953"
             ],
             [
              0.7777777777777778,
              "#fb9f3a"
             ],
             [
              0.8888888888888888,
              "#fdca26"
             ],
             [
              1,
              "#f0f921"
             ]
            ],
            "type": "histogram2dcontour"
           }
          ],
          "mesh3d": [
           {
            "colorbar": {
             "outlinewidth": 0,
             "ticks": ""
            },
            "type": "mesh3d"
           }
          ],
          "parcoords": [
           {
            "line": {
             "colorbar": {
              "outlinewidth": 0,
              "ticks": ""
             }
            },
            "type": "parcoords"
           }
          ],
          "pie": [
           {
            "automargin": true,
            "type": "pie"
           }
          ],
          "scatter": [
           {
            "fillpattern": {
             "fillmode": "overlay",
             "size": 10,
             "solidity": 0.2
            },
            "type": "scatter"
           }
          ],
          "scatter3d": [
           {
            "line": {
             "colorbar": {
              "outlinewidth": 0,
              "ticks": ""
             }
            },
            "marker": {
             "colorbar": {
              "outlinewidth": 0,
              "ticks": ""
             }
            },
            "type": "scatter3d"
           }
          ],
          "scattercarpet": [
           {
            "marker": {
             "colorbar": {
              "outlinewidth": 0,
              "ticks": ""
             }
            },
            "type": "scattercarpet"
           }
          ],
          "scattergeo": [
           {
            "marker": {
             "colorbar": {
              "outlinewidth": 0,
              "ticks": ""
             }
            },
            "type": "scattergeo"
           }
          ],
          "scattergl": [
           {
            "marker": {
             "colorbar": {
              "outlinewidth": 0,
              "ticks": ""
             }
            },
            "type": "scattergl"
           }
          ],
          "scattermapbox": [
           {
            "marker": {
             "colorbar": {
              "outlinewidth": 0,
              "ticks": ""
             }
            },
            "type": "scattermapbox"
           }
          ],
          "scatterpolar": [
           {
            "marker": {
             "colorbar": {
              "outlinewidth": 0,
              "ticks": ""
             }
            },
            "type": "scatterpolar"
           }
          ],
          "scatterpolargl": [
           {
            "marker": {
             "colorbar": {
              "outlinewidth": 0,
              "ticks": ""
             }
            },
            "type": "scatterpolargl"
           }
          ],
          "scatterternary": [
           {
            "marker": {
             "colorbar": {
              "outlinewidth": 0,
              "ticks": ""
             }
            },
            "type": "scatterternary"
           }
          ],
          "surface": [
           {
            "colorbar": {
             "outlinewidth": 0,
             "ticks": ""
            },
            "colorscale": [
             [
              0,
              "#0d0887"
             ],
             [
              0.1111111111111111,
              "#46039f"
             ],
             [
              0.2222222222222222,
              "#7201a8"
             ],
             [
              0.3333333333333333,
              "#9c179e"
             ],
             [
              0.4444444444444444,
              "#bd3786"
             ],
             [
              0.5555555555555556,
              "#d8576b"
             ],
             [
              0.6666666666666666,
              "#ed7953"
             ],
             [
              0.7777777777777778,
              "#fb9f3a"
             ],
             [
              0.8888888888888888,
              "#fdca26"
             ],
             [
              1,
              "#f0f921"
             ]
            ],
            "type": "surface"
           }
          ],
          "table": [
           {
            "cells": {
             "fill": {
              "color": "#EBF0F8"
             },
             "line": {
              "color": "white"
             }
            },
            "header": {
             "fill": {
              "color": "#C8D4E3"
             },
             "line": {
              "color": "white"
             }
            },
            "type": "table"
           }
          ]
         },
         "layout": {
          "annotationdefaults": {
           "arrowcolor": "#2a3f5f",
           "arrowhead": 0,
           "arrowwidth": 1
          },
          "autotypenumbers": "strict",
          "coloraxis": {
           "colorbar": {
            "outlinewidth": 0,
            "ticks": ""
           }
          },
          "colorscale": {
           "diverging": [
            [
             0,
             "#8e0152"
            ],
            [
             0.1,
             "#c51b7d"
            ],
            [
             0.2,
             "#de77ae"
            ],
            [
             0.3,
             "#f1b6da"
            ],
            [
             0.4,
             "#fde0ef"
            ],
            [
             0.5,
             "#f7f7f7"
            ],
            [
             0.6,
             "#e6f5d0"
            ],
            [
             0.7,
             "#b8e186"
            ],
            [
             0.8,
             "#7fbc41"
            ],
            [
             0.9,
             "#4d9221"
            ],
            [
             1,
             "#276419"
            ]
           ],
           "sequential": [
            [
             0,
             "#0d0887"
            ],
            [
             0.1111111111111111,
             "#46039f"
            ],
            [
             0.2222222222222222,
             "#7201a8"
            ],
            [
             0.3333333333333333,
             "#9c179e"
            ],
            [
             0.4444444444444444,
             "#bd3786"
            ],
            [
             0.5555555555555556,
             "#d8576b"
            ],
            [
             0.6666666666666666,
             "#ed7953"
            ],
            [
             0.7777777777777778,
             "#fb9f3a"
            ],
            [
             0.8888888888888888,
             "#fdca26"
            ],
            [
             1,
             "#f0f921"
            ]
           ],
           "sequentialminus": [
            [
             0,
             "#0d0887"
            ],
            [
             0.1111111111111111,
             "#46039f"
            ],
            [
             0.2222222222222222,
             "#7201a8"
            ],
            [
             0.3333333333333333,
             "#9c179e"
            ],
            [
             0.4444444444444444,
             "#bd3786"
            ],
            [
             0.5555555555555556,
             "#d8576b"
            ],
            [
             0.6666666666666666,
             "#ed7953"
            ],
            [
             0.7777777777777778,
             "#fb9f3a"
            ],
            [
             0.8888888888888888,
             "#fdca26"
            ],
            [
             1,
             "#f0f921"
            ]
           ]
          },
          "colorway": [
           "#636efa",
           "#EF553B",
           "#00cc96",
           "#ab63fa",
           "#FFA15A",
           "#19d3f3",
           "#FF6692",
           "#B6E880",
           "#FF97FF",
           "#FECB52"
          ],
          "font": {
           "color": "#2a3f5f"
          },
          "geo": {
           "bgcolor": "white",
           "lakecolor": "white",
           "landcolor": "#E5ECF6",
           "showlakes": true,
           "showland": true,
           "subunitcolor": "white"
          },
          "hoverlabel": {
           "align": "left"
          },
          "hovermode": "closest",
          "mapbox": {
           "style": "light"
          },
          "paper_bgcolor": "white",
          "plot_bgcolor": "#E5ECF6",
          "polar": {
           "angularaxis": {
            "gridcolor": "white",
            "linecolor": "white",
            "ticks": ""
           },
           "bgcolor": "#E5ECF6",
           "radialaxis": {
            "gridcolor": "white",
            "linecolor": "white",
            "ticks": ""
           }
          },
          "scene": {
           "xaxis": {
            "backgroundcolor": "#E5ECF6",
            "gridcolor": "white",
            "gridwidth": 2,
            "linecolor": "white",
            "showbackground": true,
            "ticks": "",
            "zerolinecolor": "white"
           },
           "yaxis": {
            "backgroundcolor": "#E5ECF6",
            "gridcolor": "white",
            "gridwidth": 2,
            "linecolor": "white",
            "showbackground": true,
            "ticks": "",
            "zerolinecolor": "white"
           },
           "zaxis": {
            "backgroundcolor": "#E5ECF6",
            "gridcolor": "white",
            "gridwidth": 2,
            "linecolor": "white",
            "showbackground": true,
            "ticks": "",
            "zerolinecolor": "white"
           }
          },
          "shapedefaults": {
           "line": {
            "color": "#2a3f5f"
           }
          },
          "ternary": {
           "aaxis": {
            "gridcolor": "white",
            "linecolor": "white",
            "ticks": ""
           },
           "baxis": {
            "gridcolor": "white",
            "linecolor": "white",
            "ticks": ""
           },
           "bgcolor": "#E5ECF6",
           "caxis": {
            "gridcolor": "white",
            "linecolor": "white",
            "ticks": ""
           }
          },
          "title": {
           "x": 0.05
          },
          "xaxis": {
           "automargin": true,
           "gridcolor": "white",
           "linecolor": "white",
           "ticks": "",
           "title": {
            "standoff": 15
           },
           "zerolinecolor": "white",
           "zerolinewidth": 2
          },
          "yaxis": {
           "automargin": true,
           "gridcolor": "white",
           "linecolor": "white",
           "ticks": "",
           "title": {
            "standoff": 15
           },
           "zerolinecolor": "white",
           "zerolinewidth": 2
          }
         }
        },
        "title": {
         "font": {
          "color": "#4D5663"
         }
        },
        "xaxis": {
         "gridcolor": "#E1E5ED",
         "showgrid": true,
         "tickfont": {
          "color": "#4D5663"
         },
         "title": {
          "font": {
           "color": "#4D5663"
          },
          "text": ""
         },
         "zerolinecolor": "#E1E5ED"
        },
        "yaxis": {
         "gridcolor": "#E1E5ED",
         "showgrid": true,
         "tickfont": {
          "color": "#4D5663"
         },
         "title": {
          "font": {
           "color": "#4D5663"
          },
          "text": ""
         },
         "zerolinecolor": "#E1E5ED"
        }
       }
      },
      "text/html": [
       "<div>                            <div id=\"2b182f71-dc72-4bab-a66f-92b7caf0abba\" class=\"plotly-graph-div\" style=\"height:525px; width:100%;\"></div>            <script type=\"text/javascript\">                require([\"plotly\"], function(Plotly) {                    window.PLOTLYENV=window.PLOTLYENV || {};\n",
       "                    window.PLOTLYENV.BASE_URL='https://plot.ly';                                    if (document.getElementById(\"2b182f71-dc72-4bab-a66f-92b7caf0abba\")) {                    Plotly.newPlot(                        \"2b182f71-dc72-4bab-a66f-92b7caf0abba\",                        [{\"marker\":{\"color\":[\"rgb(255, 153, 51)\",\"rgb(55, 128, 191)\",\"rgb(50, 171, 96)\",\"rgb(128, 0, 128)\",\"rgb(219, 64, 82)\",\"rgb(0, 128, 128)\",\"rgb(255, 255, 51)\",\"rgb(128, 128, 0)\",\"rgb(251, 128, 114)\",\"rgb(128, 177, 211)\"],\"line\":{\"width\":1.3},\"size\":[66,83,43,99,64,63,63,78,62,60,74,67,86,76,99,71,67,47,101,59,51,88,81,56,69,43,78,60,49,72,50,74,71,62,56,44,48,56,53,72,57,61,67,70,83,81,61,61,55,76,61,64,67,83,56,71,69,62,87,12,55,58,42,50,94,82,101,48,112,49,59,34,80,60,60,87,63,35,42,76,71,110,62,63,72,65,70,81,74,85,77,94,71,84,91,76,74,54,30,65],\"symbol\":\"circle\"},\"mode\":\"markers\",\"text\":\"\",\"x\":[0.33567605600194994,-0.8109873503861798,-2.6316756978724447,0.5776275311286065,-0.22530496487367777,0.8097460374131469,-0.5115338215552406,-0.4590997186416238,-0.298577056088914,-0.28541368761683306,-0.5472911448565846,0.3027742133920709,0.8902345216571652,-0.9239113525121986,0.9416625216245742,-0.18066450525113226,-2.0881969759280192,0.47500151093148335,-1.2731709071783763,1.230559710728227,-0.1605185431067916,0.6015686401189955,1.0663771004856937,0.4339044154824729,0.42688970128877163,0.7278870362259178,-0.6948804563250303,-0.05374882813326524,-1.6336690547739716,-0.88579686362121,-0.9542553464180343,-0.5644192605571883,1.0782994643519894,0.49503871747449035,0.5343533913205508,1.447396904689215,0.804473836069314,0.3481074903159142,-0.2505714270670016,-0.9029133179431246,0.2940895274251988,0.14540457070201546,-0.10762877600905554,0.3053893258733171,0.598940030645167,0.7820125036292656,-0.8966714305533445,1.6606846244283409,0.5727604798690485,1.6231494486869715,-0.8105612809550491,-0.3923264306412344,-0.04246774635108637,-0.059903525664294535,-0.5311755088064984,-0.23453465907896814,-2.0232349749481413,-0.475191922450835,-0.40907645810611803,-0.1339567374388445,-2.7697162720257404,-1.358394353131801,-0.08178397964309239,0.7753013039142149,0.5360340367280473,0.2533268706667387,0.5625348411215483,0.31576535434829717,-1.206120024494666,0.048844511971718504,1.120232843572727,0.21992570366912945,-0.21448152530239026,-1.908920438887307,0.9638465930685435,0.7935170953105968,0.8460362189297203,0.8793126804341501,-0.3120587028701596,0.9023335833858086,-1.2657523325157283,1.268781693218166,-0.05215591066790494,0.6968094280163797,-1.189618503274249,1.8258605748682426,-1.6072554233354683,0.0468494169654665,0.6188673797537998,-0.35377270836903085,0.7879111619926648,1.0992184325469223,-0.3551296686529979,0.9551820492099591,-1.9799928033362035,-1.4876434001811865,1.258773185930191,0.06426248988592512,-0.27308672608175666,2.3920188360109895],\"y\":[-0.5174427882896812,2.6003500721367523,-0.398272656123329,1.0507472535838591,0.8484275564204568,0.34558531549137267,-0.7251750770576902,0.21203195288143903,1.0247005880785944,-0.41853128884587465,-0.5792595251450603,-0.23468009328856468,-0.37024797574697754,-1.6223191538820032,0.15822171939306529,0.7577979333440427,1.3104606801852252,0.354980393666831,1.0120449798349127,-1.3830630529587908,-0.7625692342748789,-0.031060772043171623,0.5876748574760096,-0.743381893549244,-0.07429448923367035,-1.2004104644731826,-0.24151882697923244,-2.320503904382237,-0.24087115581766094,-0.6987973244103791,-1.529215465871502,-0.4634558897134851,-0.517397324567097,-1.8826290407376154,-0.31550730650325126,-1.2810841938510928,-0.8165122345800369,0.010350999435031857,0.6307697461985253,0.6349949735690572,-1.3556578317900443,-0.07291038369075702,1.8848957700591833,-0.05777255081355184,0.6305221253983728,-0.977814856382125,1.2690335969192925,-0.5369021582866585,0.722476421578678,-0.6211934196164647,-0.3681602983448335,0.9156272215217325,-0.7906496269252035,1.245402244792277,-0.8609902609396055,1.5565591336143088,2.2655015589706453,-0.559343883766819,0.6072014775791178,0.18524797697217793,-0.5927180845146982,-0.4885482202160909,-0.2893087340183615,-0.09883201903432087,-0.5075521083179926,-0.021700889479004296,-1.305263590768384,-2.475515689150806,0.7843295779319387,-1.2032159148318333,1.9693577778767357,1.2238146565172854,1.1218344358044634,0.6674877264904224,1.2987751223433057,0.8637612322891047,0.7141219494868857,-0.5771529440751496,-1.2094988170327658,-0.30680557397477326,-1.5553797829605431,-1.7642989796422124,0.2592547356714931,2.168363029888972,0.030842989528504984,-1.6804497353868382,0.2818989496594489,-1.4778125028049618,-0.19193682085594233,0.6545811208782711,-0.6105512277782915,-0.5515806204315961,0.6817777225025149,-3.5935123694260622,-0.7399182083758457,0.17627441095701263,0.5453205448981414,-1.5226575299689897,-0.08078954284580486,-0.2065928315307047],\"type\":\"scatter\"}],                        {\"legend\":{\"bgcolor\":\"#F5F6F9\",\"font\":{\"color\":\"#4D5663\"}},\"paper_bgcolor\":\"#F5F6F9\",\"plot_bgcolor\":\"#F5F6F9\",\"template\":{\"data\":{\"barpolar\":[{\"marker\":{\"line\":{\"color\":\"#E5ECF6\",\"width\":0.5},\"pattern\":{\"fillmode\":\"overlay\",\"size\":10,\"solidity\":0.2}},\"type\":\"barpolar\"}],\"bar\":[{\"error_x\":{\"color\":\"#2a3f5f\"},\"error_y\":{\"color\":\"#2a3f5f\"},\"marker\":{\"line\":{\"color\":\"#E5ECF6\",\"width\":0.5},\"pattern\":{\"fillmode\":\"overlay\",\"size\":10,\"solidity\":0.2}},\"type\":\"bar\"}],\"carpet\":[{\"aaxis\":{\"endlinecolor\":\"#2a3f5f\",\"gridcolor\":\"white\",\"linecolor\":\"white\",\"minorgridcolor\":\"white\",\"startlinecolor\":\"#2a3f5f\"},\"baxis\":{\"endlinecolor\":\"#2a3f5f\",\"gridcolor\":\"white\",\"linecolor\":\"white\",\"minorgridcolor\":\"white\",\"startlinecolor\":\"#2a3f5f\"},\"type\":\"carpet\"}],\"choropleth\":[{\"colorbar\":{\"outlinewidth\":0,\"ticks\":\"\"},\"type\":\"choropleth\"}],\"contourcarpet\":[{\"colorbar\":{\"outlinewidth\":0,\"ticks\":\"\"},\"type\":\"contourcarpet\"}],\"contour\":[{\"colorbar\":{\"outlinewidth\":0,\"ticks\":\"\"},\"colorscale\":[[0.0,\"#0d0887\"],[0.1111111111111111,\"#46039f\"],[0.2222222222222222,\"#7201a8\"],[0.3333333333333333,\"#9c179e\"],[0.4444444444444444,\"#bd3786\"],[0.5555555555555556,\"#d8576b\"],[0.6666666666666666,\"#ed7953\"],[0.7777777777777778,\"#fb9f3a\"],[0.8888888888888888,\"#fdca26\"],[1.0,\"#f0f921\"]],\"type\":\"contour\"}],\"heatmapgl\":[{\"colorbar\":{\"outlinewidth\":0,\"ticks\":\"\"},\"colorscale\":[[0.0,\"#0d0887\"],[0.1111111111111111,\"#46039f\"],[0.2222222222222222,\"#7201a8\"],[0.3333333333333333,\"#9c179e\"],[0.4444444444444444,\"#bd3786\"],[0.5555555555555556,\"#d8576b\"],[0.6666666666666666,\"#ed7953\"],[0.7777777777777778,\"#fb9f3a\"],[0.8888888888888888,\"#fdca26\"],[1.0,\"#f0f921\"]],\"type\":\"heatmapgl\"}],\"heatmap\":[{\"colorbar\":{\"outlinewidth\":0,\"ticks\":\"\"},\"colorscale\":[[0.0,\"#0d0887\"],[0.1111111111111111,\"#46039f\"],[0.2222222222222222,\"#7201a8\"],[0.3333333333333333,\"#9c179e\"],[0.4444444444444444,\"#bd3786\"],[0.5555555555555556,\"#d8576b\"],[0.6666666666666666,\"#ed7953\"],[0.7777777777777778,\"#fb9f3a\"],[0.8888888888888888,\"#fdca26\"],[1.0,\"#f0f921\"]],\"type\":\"heatmap\"}],\"histogram2dcontour\":[{\"colorbar\":{\"outlinewidth\":0,\"ticks\":\"\"},\"colorscale\":[[0.0,\"#0d0887\"],[0.1111111111111111,\"#46039f\"],[0.2222222222222222,\"#7201a8\"],[0.3333333333333333,\"#9c179e\"],[0.4444444444444444,\"#bd3786\"],[0.5555555555555556,\"#d8576b\"],[0.6666666666666666,\"#ed7953\"],[0.7777777777777778,\"#fb9f3a\"],[0.8888888888888888,\"#fdca26\"],[1.0,\"#f0f921\"]],\"type\":\"histogram2dcontour\"}],\"histogram2d\":[{\"colorbar\":{\"outlinewidth\":0,\"ticks\":\"\"},\"colorscale\":[[0.0,\"#0d0887\"],[0.1111111111111111,\"#46039f\"],[0.2222222222222222,\"#7201a8\"],[0.3333333333333333,\"#9c179e\"],[0.4444444444444444,\"#bd3786\"],[0.5555555555555556,\"#d8576b\"],[0.6666666666666666,\"#ed7953\"],[0.7777777777777778,\"#fb9f3a\"],[0.8888888888888888,\"#fdca26\"],[1.0,\"#f0f921\"]],\"type\":\"histogram2d\"}],\"histogram\":[{\"marker\":{\"pattern\":{\"fillmode\":\"overlay\",\"size\":10,\"solidity\":0.2}},\"type\":\"histogram\"}],\"mesh3d\":[{\"colorbar\":{\"outlinewidth\":0,\"ticks\":\"\"},\"type\":\"mesh3d\"}],\"parcoords\":[{\"line\":{\"colorbar\":{\"outlinewidth\":0,\"ticks\":\"\"}},\"type\":\"parcoords\"}],\"pie\":[{\"automargin\":true,\"type\":\"pie\"}],\"scatter3d\":[{\"line\":{\"colorbar\":{\"outlinewidth\":0,\"ticks\":\"\"}},\"marker\":{\"colorbar\":{\"outlinewidth\":0,\"ticks\":\"\"}},\"type\":\"scatter3d\"}],\"scattercarpet\":[{\"marker\":{\"colorbar\":{\"outlinewidth\":0,\"ticks\":\"\"}},\"type\":\"scattercarpet\"}],\"scattergeo\":[{\"marker\":{\"colorbar\":{\"outlinewidth\":0,\"ticks\":\"\"}},\"type\":\"scattergeo\"}],\"scattergl\":[{\"marker\":{\"colorbar\":{\"outlinewidth\":0,\"ticks\":\"\"}},\"type\":\"scattergl\"}],\"scattermapbox\":[{\"marker\":{\"colorbar\":{\"outlinewidth\":0,\"ticks\":\"\"}},\"type\":\"scattermapbox\"}],\"scatterpolargl\":[{\"marker\":{\"colorbar\":{\"outlinewidth\":0,\"ticks\":\"\"}},\"type\":\"scatterpolargl\"}],\"scatterpolar\":[{\"marker\":{\"colorbar\":{\"outlinewidth\":0,\"ticks\":\"\"}},\"type\":\"scatterpolar\"}],\"scatter\":[{\"fillpattern\":{\"fillmode\":\"overlay\",\"size\":10,\"solidity\":0.2},\"type\":\"scatter\"}],\"scatterternary\":[{\"marker\":{\"colorbar\":{\"outlinewidth\":0,\"ticks\":\"\"}},\"type\":\"scatterternary\"}],\"surface\":[{\"colorbar\":{\"outlinewidth\":0,\"ticks\":\"\"},\"colorscale\":[[0.0,\"#0d0887\"],[0.1111111111111111,\"#46039f\"],[0.2222222222222222,\"#7201a8\"],[0.3333333333333333,\"#9c179e\"],[0.4444444444444444,\"#bd3786\"],[0.5555555555555556,\"#d8576b\"],[0.6666666666666666,\"#ed7953\"],[0.7777777777777778,\"#fb9f3a\"],[0.8888888888888888,\"#fdca26\"],[1.0,\"#f0f921\"]],\"type\":\"surface\"}],\"table\":[{\"cells\":{\"fill\":{\"color\":\"#EBF0F8\"},\"line\":{\"color\":\"white\"}},\"header\":{\"fill\":{\"color\":\"#C8D4E3\"},\"line\":{\"color\":\"white\"}},\"type\":\"table\"}]},\"layout\":{\"annotationdefaults\":{\"arrowcolor\":\"#2a3f5f\",\"arrowhead\":0,\"arrowwidth\":1},\"autotypenumbers\":\"strict\",\"coloraxis\":{\"colorbar\":{\"outlinewidth\":0,\"ticks\":\"\"}},\"colorscale\":{\"diverging\":[[0,\"#8e0152\"],[0.1,\"#c51b7d\"],[0.2,\"#de77ae\"],[0.3,\"#f1b6da\"],[0.4,\"#fde0ef\"],[0.5,\"#f7f7f7\"],[0.6,\"#e6f5d0\"],[0.7,\"#b8e186\"],[0.8,\"#7fbc41\"],[0.9,\"#4d9221\"],[1,\"#276419\"]],\"sequential\":[[0.0,\"#0d0887\"],[0.1111111111111111,\"#46039f\"],[0.2222222222222222,\"#7201a8\"],[0.3333333333333333,\"#9c179e\"],[0.4444444444444444,\"#bd3786\"],[0.5555555555555556,\"#d8576b\"],[0.6666666666666666,\"#ed7953\"],[0.7777777777777778,\"#fb9f3a\"],[0.8888888888888888,\"#fdca26\"],[1.0,\"#f0f921\"]],\"sequentialminus\":[[0.0,\"#0d0887\"],[0.1111111111111111,\"#46039f\"],[0.2222222222222222,\"#7201a8\"],[0.3333333333333333,\"#9c179e\"],[0.4444444444444444,\"#bd3786\"],[0.5555555555555556,\"#d8576b\"],[0.6666666666666666,\"#ed7953\"],[0.7777777777777778,\"#fb9f3a\"],[0.8888888888888888,\"#fdca26\"],[1.0,\"#f0f921\"]]},\"colorway\":[\"#636efa\",\"#EF553B\",\"#00cc96\",\"#ab63fa\",\"#FFA15A\",\"#19d3f3\",\"#FF6692\",\"#B6E880\",\"#FF97FF\",\"#FECB52\"],\"font\":{\"color\":\"#2a3f5f\"},\"geo\":{\"bgcolor\":\"white\",\"lakecolor\":\"white\",\"landcolor\":\"#E5ECF6\",\"showlakes\":true,\"showland\":true,\"subunitcolor\":\"white\"},\"hoverlabel\":{\"align\":\"left\"},\"hovermode\":\"closest\",\"mapbox\":{\"style\":\"light\"},\"paper_bgcolor\":\"white\",\"plot_bgcolor\":\"#E5ECF6\",\"polar\":{\"angularaxis\":{\"gridcolor\":\"white\",\"linecolor\":\"white\",\"ticks\":\"\"},\"bgcolor\":\"#E5ECF6\",\"radialaxis\":{\"gridcolor\":\"white\",\"linecolor\":\"white\",\"ticks\":\"\"}},\"scene\":{\"xaxis\":{\"backgroundcolor\":\"#E5ECF6\",\"gridcolor\":\"white\",\"gridwidth\":2,\"linecolor\":\"white\",\"showbackground\":true,\"ticks\":\"\",\"zerolinecolor\":\"white\"},\"yaxis\":{\"backgroundcolor\":\"#E5ECF6\",\"gridcolor\":\"white\",\"gridwidth\":2,\"linecolor\":\"white\",\"showbackground\":true,\"ticks\":\"\",\"zerolinecolor\":\"white\"},\"zaxis\":{\"backgroundcolor\":\"#E5ECF6\",\"gridcolor\":\"white\",\"gridwidth\":2,\"linecolor\":\"white\",\"showbackground\":true,\"ticks\":\"\",\"zerolinecolor\":\"white\"}},\"shapedefaults\":{\"line\":{\"color\":\"#2a3f5f\"}},\"ternary\":{\"aaxis\":{\"gridcolor\":\"white\",\"linecolor\":\"white\",\"ticks\":\"\"},\"baxis\":{\"gridcolor\":\"white\",\"linecolor\":\"white\",\"ticks\":\"\"},\"bgcolor\":\"#E5ECF6\",\"caxis\":{\"gridcolor\":\"white\",\"linecolor\":\"white\",\"ticks\":\"\"}},\"title\":{\"x\":0.05},\"xaxis\":{\"automargin\":true,\"gridcolor\":\"white\",\"linecolor\":\"white\",\"ticks\":\"\",\"title\":{\"standoff\":15},\"zerolinecolor\":\"white\",\"zerolinewidth\":2},\"yaxis\":{\"automargin\":true,\"gridcolor\":\"white\",\"linecolor\":\"white\",\"ticks\":\"\",\"title\":{\"standoff\":15},\"zerolinecolor\":\"white\",\"zerolinewidth\":2}}},\"title\":{\"font\":{\"color\":\"#4D5663\"}},\"xaxis\":{\"gridcolor\":\"#E1E5ED\",\"showgrid\":true,\"tickfont\":{\"color\":\"#4D5663\"},\"title\":{\"font\":{\"color\":\"#4D5663\"},\"text\":\"\"},\"zerolinecolor\":\"#E1E5ED\"},\"yaxis\":{\"gridcolor\":\"#E1E5ED\",\"showgrid\":true,\"tickfont\":{\"color\":\"#4D5663\"},\"title\":{\"font\":{\"color\":\"#4D5663\"},\"text\":\"\"},\"zerolinecolor\":\"#E1E5ED\"}},                        {\"showLink\": true, \"linkText\": \"Export to plot.ly\", \"plotlyServerURL\": \"https://plot.ly\", \"responsive\": true}                    ).then(function(){\n",
       "                            \n",
       "var gd = document.getElementById('2b182f71-dc72-4bab-a66f-92b7caf0abba');\n",
       "var x = new MutationObserver(function (mutations, observer) {{\n",
       "        var display = window.getComputedStyle(gd).display;\n",
       "        if (!display || display === 'none') {{\n",
       "            console.log([gd, 'removed!']);\n",
       "            Plotly.purge(gd);\n",
       "            observer.disconnect();\n",
       "        }}\n",
       "}});\n",
       "\n",
       "// Listen for the removal of the full notebook cells\n",
       "var notebookContainer = gd.closest('#notebook-container');\n",
       "if (notebookContainer) {{\n",
       "    x.observe(notebookContainer, {childList: true});\n",
       "}}\n",
       "\n",
       "// Listen for the clearing of the current output cell\n",
       "var outputEl = gd.closest('.output');\n",
       "if (outputEl) {{\n",
       "    x.observe(outputEl, {childList: true});\n",
       "}}\n",
       "\n",
       "                        })                };                });            </script>        </div>"
      ]
     },
     "metadata": {},
     "output_type": "display_data"
    }
   ],
   "source": [
    "df.iplot(kind='bubble', x='A', y='B', size='C')"
   ]
  },
  {
   "cell_type": "code",
   "execution_count": 31,
   "id": "124a3081",
   "metadata": {},
   "outputs": [
    {
     "data": {
      "application/vnd.plotly.v1+json": {
       "config": {
        "linkText": "Export to plot.ly",
        "plotlyServerURL": "https://plot.ly",
        "showLink": true
       },
       "data": [
        {
         "histfunc": "count",
         "histnorm": "",
         "marker": {
          "color": "rgba(255, 153, 51, 1.0)",
          "line": {
           "color": "#4D5663",
           "width": 1.3
          }
         },
         "name": "A",
         "nbinsx": 10,
         "opacity": 0.8,
         "orientation": "v",
         "type": "histogram",
         "x": [
          0.33567605600194994,
          -0.8109873503861798,
          -2.6316756978724447,
          0.5776275311286065,
          -0.22530496487367777,
          0.8097460374131469,
          -0.5115338215552406,
          -0.4590997186416238,
          -0.298577056088914,
          -0.28541368761683306,
          -0.5472911448565846,
          0.3027742133920709,
          0.8902345216571652,
          -0.9239113525121986,
          0.9416625216245742,
          -0.18066450525113226,
          -2.0881969759280192,
          0.47500151093148335,
          -1.2731709071783763,
          1.230559710728227,
          -0.1605185431067916,
          0.6015686401189955,
          1.0663771004856937,
          0.4339044154824729,
          0.42688970128877163,
          0.7278870362259178,
          -0.6948804563250303,
          -0.05374882813326524,
          -1.6336690547739716,
          -0.88579686362121,
          -0.9542553464180343,
          -0.5644192605571883,
          1.0782994643519894,
          0.49503871747449035,
          0.5343533913205508,
          1.447396904689215,
          0.804473836069314,
          0.3481074903159142,
          -0.2505714270670016,
          -0.9029133179431246,
          0.2940895274251988,
          0.14540457070201546,
          -0.10762877600905554,
          0.3053893258733171,
          0.598940030645167,
          0.7820125036292656,
          -0.8966714305533445,
          1.6606846244283409,
          0.5727604798690485,
          1.6231494486869715,
          -0.8105612809550491,
          -0.3923264306412344,
          -0.04246774635108637,
          -0.059903525664294535,
          -0.5311755088064984,
          -0.23453465907896814,
          -2.0232349749481413,
          -0.475191922450835,
          -0.40907645810611803,
          -0.1339567374388445,
          -2.7697162720257404,
          -1.358394353131801,
          -0.08178397964309239,
          0.7753013039142149,
          0.5360340367280473,
          0.2533268706667387,
          0.5625348411215483,
          0.31576535434829717,
          -1.206120024494666,
          0.048844511971718504,
          1.120232843572727,
          0.21992570366912945,
          -0.21448152530239026,
          -1.908920438887307,
          0.9638465930685435,
          0.7935170953105968,
          0.8460362189297203,
          0.8793126804341501,
          -0.3120587028701596,
          0.9023335833858086,
          -1.2657523325157283,
          1.268781693218166,
          -0.05215591066790494,
          0.6968094280163797,
          -1.189618503274249,
          1.8258605748682426,
          -1.6072554233354683,
          0.0468494169654665,
          0.6188673797537998,
          -0.35377270836903085,
          0.7879111619926648,
          1.0992184325469223,
          -0.3551296686529979,
          0.9551820492099591,
          -1.9799928033362035,
          -1.4876434001811865,
          1.258773185930191,
          0.06426248988592512,
          -0.27308672608175666,
          2.3920188360109895
         ],
         "xaxis": "x",
         "yaxis": "y"
        },
        {
         "line": {
          "color": "rgba(128, 128, 128, 1.0)",
          "dash": "solid",
          "shape": "linear",
          "width": 1.3
         },
         "marker": {
          "size": 2,
          "symbol": "circle"
         },
         "mode": "markers",
         "name": "A",
         "text": "",
         "type": "scatter",
         "x": [
          -0.5174427882896812,
          2.6003500721367523,
          -0.398272656123329,
          1.0507472535838591,
          0.8484275564204568,
          0.34558531549137267,
          -0.7251750770576902,
          0.21203195288143903,
          1.0247005880785944,
          -0.41853128884587465,
          -0.5792595251450603,
          -0.23468009328856468,
          -0.37024797574697754,
          -1.6223191538820032,
          0.15822171939306529,
          0.7577979333440427,
          1.3104606801852252,
          0.354980393666831,
          1.0120449798349127,
          -1.3830630529587908,
          -0.7625692342748789,
          -0.031060772043171623,
          0.5876748574760096,
          -0.743381893549244,
          -0.07429448923367035,
          -1.2004104644731826,
          -0.24151882697923244,
          -2.320503904382237,
          -0.24087115581766094,
          -0.6987973244103791,
          -1.529215465871502,
          -0.4634558897134851,
          -0.517397324567097,
          -1.8826290407376154,
          -0.31550730650325126,
          -1.2810841938510928,
          -0.8165122345800369,
          0.010350999435031857,
          0.6307697461985253,
          0.6349949735690572,
          -1.3556578317900443,
          -0.07291038369075702,
          1.8848957700591833,
          -0.05777255081355184,
          0.6305221253983728,
          -0.977814856382125,
          1.2690335969192925,
          -0.5369021582866585,
          0.722476421578678,
          -0.6211934196164647,
          -0.3681602983448335,
          0.9156272215217325,
          -0.7906496269252035,
          1.245402244792277,
          -0.8609902609396055,
          1.5565591336143088,
          2.2655015589706453,
          -0.559343883766819,
          0.6072014775791178,
          0.18524797697217793,
          -0.5927180845146982,
          -0.4885482202160909,
          -0.2893087340183615,
          -0.09883201903432087,
          -0.5075521083179926,
          -0.021700889479004296,
          -1.305263590768384,
          -2.475515689150806,
          0.7843295779319387,
          -1.2032159148318333,
          1.9693577778767357,
          1.2238146565172854,
          1.1218344358044634,
          0.6674877264904224,
          1.2987751223433057,
          0.8637612322891047,
          0.7141219494868857,
          -0.5771529440751496,
          -1.2094988170327658,
          -0.30680557397477326,
          -1.5553797829605431,
          -1.7642989796422124,
          0.2592547356714931,
          2.168363029888972,
          0.030842989528504984,
          -1.6804497353868382,
          0.2818989496594489,
          -1.4778125028049618,
          -0.19193682085594233,
          0.6545811208782711,
          -0.6105512277782915,
          -0.5515806204315961,
          0.6817777225025149,
          -3.5935123694260622,
          -0.7399182083758457,
          0.17627441095701263,
          0.5453205448981414,
          -1.5226575299689897,
          -0.08078954284580486,
          -0.2065928315307047
         ],
         "xaxis": "x2",
         "y": [
          0.33567605600194994,
          -0.8109873503861798,
          -2.6316756978724447,
          0.5776275311286065,
          -0.22530496487367777,
          0.8097460374131469,
          -0.5115338215552406,
          -0.4590997186416238,
          -0.298577056088914,
          -0.28541368761683306,
          -0.5472911448565846,
          0.3027742133920709,
          0.8902345216571652,
          -0.9239113525121986,
          0.9416625216245742,
          -0.18066450525113226,
          -2.0881969759280192,
          0.47500151093148335,
          -1.2731709071783763,
          1.230559710728227,
          -0.1605185431067916,
          0.6015686401189955,
          1.0663771004856937,
          0.4339044154824729,
          0.42688970128877163,
          0.7278870362259178,
          -0.6948804563250303,
          -0.05374882813326524,
          -1.6336690547739716,
          -0.88579686362121,
          -0.9542553464180343,
          -0.5644192605571883,
          1.0782994643519894,
          0.49503871747449035,
          0.5343533913205508,
          1.447396904689215,
          0.804473836069314,
          0.3481074903159142,
          -0.2505714270670016,
          -0.9029133179431246,
          0.2940895274251988,
          0.14540457070201546,
          -0.10762877600905554,
          0.3053893258733171,
          0.598940030645167,
          0.7820125036292656,
          -0.8966714305533445,
          1.6606846244283409,
          0.5727604798690485,
          1.6231494486869715,
          -0.8105612809550491,
          -0.3923264306412344,
          -0.04246774635108637,
          -0.059903525664294535,
          -0.5311755088064984,
          -0.23453465907896814,
          -2.0232349749481413,
          -0.475191922450835,
          -0.40907645810611803,
          -0.1339567374388445,
          -2.7697162720257404,
          -1.358394353131801,
          -0.08178397964309239,
          0.7753013039142149,
          0.5360340367280473,
          0.2533268706667387,
          0.5625348411215483,
          0.31576535434829717,
          -1.206120024494666,
          0.048844511971718504,
          1.120232843572727,
          0.21992570366912945,
          -0.21448152530239026,
          -1.908920438887307,
          0.9638465930685435,
          0.7935170953105968,
          0.8460362189297203,
          0.8793126804341501,
          -0.3120587028701596,
          0.9023335833858086,
          -1.2657523325157283,
          1.268781693218166,
          -0.05215591066790494,
          0.6968094280163797,
          -1.189618503274249,
          1.8258605748682426,
          -1.6072554233354683,
          0.0468494169654665,
          0.6188673797537998,
          -0.35377270836903085,
          0.7879111619926648,
          1.0992184325469223,
          -0.3551296686529979,
          0.9551820492099591,
          -1.9799928033362035,
          -1.4876434001811865,
          1.258773185930191,
          0.06426248988592512,
          -0.27308672608175666,
          2.3920188360109895
         ],
         "yaxis": "y2"
        },
        {
         "line": {
          "color": "rgba(128, 128, 128, 1.0)",
          "dash": "solid",
          "shape": "linear",
          "width": 1.3
         },
         "marker": {
          "size": 2,
          "symbol": "circle"
         },
         "mode": "markers",
         "name": "A",
         "text": "",
         "type": "scatter",
         "x": [
          -0.1273731034144319,
          0.8034179756806943,
          -1.2962268513591653,
          1.6171909704679153,
          -0.1913518478400872,
          -0.24719348349434403,
          -0.2575053212468563,
          0.5361937874809402,
          -0.34299576177883084,
          -0.422061097231771,
          0.3075629011819519,
          -0.05769047720344889,
          0.9375230337933363,
          0.42134994381321567,
          1.645771436901701,
          0.15570179343022572,
          -0.035488120203908034,
          -1.111127717248961,
          1.7488295852063047,
          -0.47725913826796484,
          -0.8951657268028664,
          1.040873912756864,
          0.6889517936390033,
          -0.6254565490192873,
          0.056607400359586675,
          -1.3344126648432137,
          0.5310244992109355,
          -0.4026060645353525,
          -1.0112905888470805,
          0.20254588806340293,
          -0.9398128398987691,
          0.29030816143088617,
          0.16960740519693995,
          -0.33546214813743086,
          -0.6318648534740554,
          -1.2603199668632525,
          -1.0584187303336114,
          -0.6584419154679033,
          -0.7761830707174558,
          0.18356733446499296,
          -0.6057873440205137,
          -0.38084706376348565,
          -0.055308437607390355,
          0.08121281945616167,
          0.7809925917005588,
          0.6784590127680238,
          -0.38320706289779743,
          -0.3812362488829061,
          -0.6858059697491599,
          0.420085435333433,
          -0.39589726553536614,
          -0.19222354626648713,
          -0.08390596200550164,
          0.7972359303415871,
          -0.6324179402608489,
          0.1421195234625367,
          0.057195156546059195,
          -0.314341651685965,
          0.9736859634741865,
          -2.9788993036423044,
          -0.6845441151492541,
          -0.5576943489797075,
          -1.3516323922134519,
          -0.9709362653080871,
          1.365256366153465,
          0.718956349712268,
          1.7339131565957542,
          -1.067851815371018,
          2.281657356242972,
          -1.007744798463298,
          -0.46677493557946326,
          -1.8191960234718,
          0.6336433726417379,
          -0.40964073312347576,
          -0.4470642019493151,
          1.0112267153589807,
          -0.26318140097456244,
          -1.7523284028838095,
          -1.397493698943379,
          0.4235660701861368,
          0.1259307601550791,
          2.1980836331430025,
          -0.3342919828009481,
          -0.26164888590349483,
          0.20436642301007998,
          -0.1777398559179107,
          0.10999343897028462,
          0.668650044421462,
          0.324701718534536,
          0.8905536096097691,
          0.4920584619743266,
          1.3408738529546866,
          0.13752194313626281,
          0.8088909918748413,
          1.2113437911270513,
          0.4249118524186255,
          0.30084655728003756,
          -0.7350581437557522,
          -1.9848828439828112,
          -0.1861666450404373
         ],
         "xaxis": "x3",
         "y": [
          0.33567605600194994,
          -0.8109873503861798,
          -2.6316756978724447,
          0.5776275311286065,
          -0.22530496487367777,
          0.8097460374131469,
          -0.5115338215552406,
          -0.4590997186416238,
          -0.298577056088914,
          -0.28541368761683306,
          -0.5472911448565846,
          0.3027742133920709,
          0.8902345216571652,
          -0.9239113525121986,
          0.9416625216245742,
          -0.18066450525113226,
          -2.0881969759280192,
          0.47500151093148335,
          -1.2731709071783763,
          1.230559710728227,
          -0.1605185431067916,
          0.6015686401189955,
          1.0663771004856937,
          0.4339044154824729,
          0.42688970128877163,
          0.7278870362259178,
          -0.6948804563250303,
          -0.05374882813326524,
          -1.6336690547739716,
          -0.88579686362121,
          -0.9542553464180343,
          -0.5644192605571883,
          1.0782994643519894,
          0.49503871747449035,
          0.5343533913205508,
          1.447396904689215,
          0.804473836069314,
          0.3481074903159142,
          -0.2505714270670016,
          -0.9029133179431246,
          0.2940895274251988,
          0.14540457070201546,
          -0.10762877600905554,
          0.3053893258733171,
          0.598940030645167,
          0.7820125036292656,
          -0.8966714305533445,
          1.6606846244283409,
          0.5727604798690485,
          1.6231494486869715,
          -0.8105612809550491,
          -0.3923264306412344,
          -0.04246774635108637,
          -0.059903525664294535,
          -0.5311755088064984,
          -0.23453465907896814,
          -2.0232349749481413,
          -0.475191922450835,
          -0.40907645810611803,
          -0.1339567374388445,
          -2.7697162720257404,
          -1.358394353131801,
          -0.08178397964309239,
          0.7753013039142149,
          0.5360340367280473,
          0.2533268706667387,
          0.5625348411215483,
          0.31576535434829717,
          -1.206120024494666,
          0.048844511971718504,
          1.120232843572727,
          0.21992570366912945,
          -0.21448152530239026,
          -1.908920438887307,
          0.9638465930685435,
          0.7935170953105968,
          0.8460362189297203,
          0.8793126804341501,
          -0.3120587028701596,
          0.9023335833858086,
          -1.2657523325157283,
          1.268781693218166,
          -0.05215591066790494,
          0.6968094280163797,
          -1.189618503274249,
          1.8258605748682426,
          -1.6072554233354683,
          0.0468494169654665,
          0.6188673797537998,
          -0.35377270836903085,
          0.7879111619926648,
          1.0992184325469223,
          -0.3551296686529979,
          0.9551820492099591,
          -1.9799928033362035,
          -1.4876434001811865,
          1.258773185930191,
          0.06426248988592512,
          -0.27308672608175666,
          2.3920188360109895
         ],
         "yaxis": "y3"
        },
        {
         "line": {
          "color": "rgba(128, 128, 128, 1.0)",
          "dash": "solid",
          "shape": "linear",
          "width": 1.3
         },
         "marker": {
          "size": 2,
          "symbol": "circle"
         },
         "mode": "markers",
         "name": "A",
         "text": "",
         "type": "scatter",
         "x": [
          -1.2152851008211565,
          1.0962407727647794,
          0.2823908965066684,
          -0.6400684740103899,
          1.3903268293981896,
          -0.43630370787208284,
          1.6855131931434146,
          -0.9510958329218072,
          -0.6219085330422188,
          -0.9489707598641608,
          -0.698742389319351,
          -0.7742272368309635,
          -0.3410186360699531,
          -0.8397183898787279,
          0.7690901833270892,
          0.8840260416222037,
          -0.032686325892768694,
          -1.349531625789729,
          -0.7123989177524955,
          -0.04498944586512662,
          2.249757015409204,
          0.03491111501659019,
          -1.8688678320066794,
          -0.7707283779343044,
          1.0245726748841517,
          -0.6019804065389124,
          0.8900592546444966,
          -0.004287296778723674,
          0.8397354542570362,
          -0.8455151163471136,
          -1.1570187828662188,
          -0.8080015750324793,
          1.1366737065640298,
          0.20018527553765764,
          0.2042123536287555,
          -1.0756118862161772,
          0.8143163347496459,
          -1.252014538609369,
          0.6733080904317835,
          -0.48688831904411545,
          -0.23028457498088148,
          1.9164650989757752,
          0.04696896761610842,
          -0.18478364368208358,
          0.6562449701171231,
          0.970407885869781,
          0.5305986929009918,
          1.4513113578274168,
          -0.3966058987582575,
          -0.7543690817060114,
          -0.19486789883670178,
          -0.3710372637818589,
          1.6469037256148995,
          0.6649176182225256,
          1.4478534444262872,
          0.014408312854281256,
          -0.3051805260346321,
          -0.21018848007375243,
          -0.3905530081100771,
          -0.12450602429243515,
          2.0313701611809596,
          1.230245442258353,
          1.101503992277737,
          0.7190159022852662,
          1.2220747509649195,
          1.0544433483124593,
          1.2243129070919712,
          -1.2257988521518608,
          2.012474194307803,
          -2.2196512022802324,
          1.240136683313242,
          -0.2552959649056867,
          -0.805767928666894,
          1.0173382130401711,
          -0.205032689441431,
          0.948533066179219,
          -0.7681816201859842,
          0.18470324422208365,
          -1.1318009661745418,
          0.9932173025919385,
          0.8224097988300498,
          1.523893031642696,
          -0.6203463645126658,
          -0.02936686658955437,
          0.25822352747392713,
          0.8206167221288364,
          0.4955907866340889,
          -1.607998054022176,
          1.656886245540623,
          -0.28242404280303507,
          -0.053329563698971974,
          -2.2066591204599866,
          0.6330151286390073,
          -1.173645519287031,
          -0.8934444114391192,
          -1.2552486674952328,
          -1.2170900382830623,
          1.2869385915640499,
          -0.17230883936722877,
          0.7043037370227436
         ],
         "xaxis": "x4",
         "y": [
          0.33567605600194994,
          -0.8109873503861798,
          -2.6316756978724447,
          0.5776275311286065,
          -0.22530496487367777,
          0.8097460374131469,
          -0.5115338215552406,
          -0.4590997186416238,
          -0.298577056088914,
          -0.28541368761683306,
          -0.5472911448565846,
          0.3027742133920709,
          0.8902345216571652,
          -0.9239113525121986,
          0.9416625216245742,
          -0.18066450525113226,
          -2.0881969759280192,
          0.47500151093148335,
          -1.2731709071783763,
          1.230559710728227,
          -0.1605185431067916,
          0.6015686401189955,
          1.0663771004856937,
          0.4339044154824729,
          0.42688970128877163,
          0.7278870362259178,
          -0.6948804563250303,
          -0.05374882813326524,
          -1.6336690547739716,
          -0.88579686362121,
          -0.9542553464180343,
          -0.5644192605571883,
          1.0782994643519894,
          0.49503871747449035,
          0.5343533913205508,
          1.447396904689215,
          0.804473836069314,
          0.3481074903159142,
          -0.2505714270670016,
          -0.9029133179431246,
          0.2940895274251988,
          0.14540457070201546,
          -0.10762877600905554,
          0.3053893258733171,
          0.598940030645167,
          0.7820125036292656,
          -0.8966714305533445,
          1.6606846244283409,
          0.5727604798690485,
          1.6231494486869715,
          -0.8105612809550491,
          -0.3923264306412344,
          -0.04246774635108637,
          -0.059903525664294535,
          -0.5311755088064984,
          -0.23453465907896814,
          -2.0232349749481413,
          -0.475191922450835,
          -0.40907645810611803,
          -0.1339567374388445,
          -2.7697162720257404,
          -1.358394353131801,
          -0.08178397964309239,
          0.7753013039142149,
          0.5360340367280473,
          0.2533268706667387,
          0.5625348411215483,
          0.31576535434829717,
          -1.206120024494666,
          0.048844511971718504,
          1.120232843572727,
          0.21992570366912945,
          -0.21448152530239026,
          -1.908920438887307,
          0.9638465930685435,
          0.7935170953105968,
          0.8460362189297203,
          0.8793126804341501,
          -0.3120587028701596,
          0.9023335833858086,
          -1.2657523325157283,
          1.268781693218166,
          -0.05215591066790494,
          0.6968094280163797,
          -1.189618503274249,
          1.8258605748682426,
          -1.6072554233354683,
          0.0468494169654665,
          0.6188673797537998,
          -0.35377270836903085,
          0.7879111619926648,
          1.0992184325469223,
          -0.3551296686529979,
          0.9551820492099591,
          -1.9799928033362035,
          -1.4876434001811865,
          1.258773185930191,
          0.06426248988592512,
          -0.27308672608175666,
          2.3920188360109895
         ],
         "yaxis": "y4"
        },
        {
         "line": {
          "color": "rgba(128, 128, 128, 1.0)",
          "dash": "solid",
          "shape": "linear",
          "width": 1.3
         },
         "marker": {
          "size": 2,
          "symbol": "circle"
         },
         "mode": "markers",
         "name": "B",
         "text": "",
         "type": "scatter",
         "x": [
          0.33567605600194994,
          -0.8109873503861798,
          -2.6316756978724447,
          0.5776275311286065,
          -0.22530496487367777,
          0.8097460374131469,
          -0.5115338215552406,
          -0.4590997186416238,
          -0.298577056088914,
          -0.28541368761683306,
          -0.5472911448565846,
          0.3027742133920709,
          0.8902345216571652,
          -0.9239113525121986,
          0.9416625216245742,
          -0.18066450525113226,
          -2.0881969759280192,
          0.47500151093148335,
          -1.2731709071783763,
          1.230559710728227,
          -0.1605185431067916,
          0.6015686401189955,
          1.0663771004856937,
          0.4339044154824729,
          0.42688970128877163,
          0.7278870362259178,
          -0.6948804563250303,
          -0.05374882813326524,
          -1.6336690547739716,
          -0.88579686362121,
          -0.9542553464180343,
          -0.5644192605571883,
          1.0782994643519894,
          0.49503871747449035,
          0.5343533913205508,
          1.447396904689215,
          0.804473836069314,
          0.3481074903159142,
          -0.2505714270670016,
          -0.9029133179431246,
          0.2940895274251988,
          0.14540457070201546,
          -0.10762877600905554,
          0.3053893258733171,
          0.598940030645167,
          0.7820125036292656,
          -0.8966714305533445,
          1.6606846244283409,
          0.5727604798690485,
          1.6231494486869715,
          -0.8105612809550491,
          -0.3923264306412344,
          -0.04246774635108637,
          -0.059903525664294535,
          -0.5311755088064984,
          -0.23453465907896814,
          -2.0232349749481413,
          -0.475191922450835,
          -0.40907645810611803,
          -0.1339567374388445,
          -2.7697162720257404,
          -1.358394353131801,
          -0.08178397964309239,
          0.7753013039142149,
          0.5360340367280473,
          0.2533268706667387,
          0.5625348411215483,
          0.31576535434829717,
          -1.206120024494666,
          0.048844511971718504,
          1.120232843572727,
          0.21992570366912945,
          -0.21448152530239026,
          -1.908920438887307,
          0.9638465930685435,
          0.7935170953105968,
          0.8460362189297203,
          0.8793126804341501,
          -0.3120587028701596,
          0.9023335833858086,
          -1.2657523325157283,
          1.268781693218166,
          -0.05215591066790494,
          0.6968094280163797,
          -1.189618503274249,
          1.8258605748682426,
          -1.6072554233354683,
          0.0468494169654665,
          0.6188673797537998,
          -0.35377270836903085,
          0.7879111619926648,
          1.0992184325469223,
          -0.3551296686529979,
          0.9551820492099591,
          -1.9799928033362035,
          -1.4876434001811865,
          1.258773185930191,
          0.06426248988592512,
          -0.27308672608175666,
          2.3920188360109895
         ],
         "xaxis": "x5",
         "y": [
          -0.5174427882896812,
          2.6003500721367523,
          -0.398272656123329,
          1.0507472535838591,
          0.8484275564204568,
          0.34558531549137267,
          -0.7251750770576902,
          0.21203195288143903,
          1.0247005880785944,
          -0.41853128884587465,
          -0.5792595251450603,
          -0.23468009328856468,
          -0.37024797574697754,
          -1.6223191538820032,
          0.15822171939306529,
          0.7577979333440427,
          1.3104606801852252,
          0.354980393666831,
          1.0120449798349127,
          -1.3830630529587908,
          -0.7625692342748789,
          -0.031060772043171623,
          0.5876748574760096,
          -0.743381893549244,
          -0.07429448923367035,
          -1.2004104644731826,
          -0.24151882697923244,
          -2.320503904382237,
          -0.24087115581766094,
          -0.6987973244103791,
          -1.529215465871502,
          -0.4634558897134851,
          -0.517397324567097,
          -1.8826290407376154,
          -0.31550730650325126,
          -1.2810841938510928,
          -0.8165122345800369,
          0.010350999435031857,
          0.6307697461985253,
          0.6349949735690572,
          -1.3556578317900443,
          -0.07291038369075702,
          1.8848957700591833,
          -0.05777255081355184,
          0.6305221253983728,
          -0.977814856382125,
          1.2690335969192925,
          -0.5369021582866585,
          0.722476421578678,
          -0.6211934196164647,
          -0.3681602983448335,
          0.9156272215217325,
          -0.7906496269252035,
          1.245402244792277,
          -0.8609902609396055,
          1.5565591336143088,
          2.2655015589706453,
          -0.559343883766819,
          0.6072014775791178,
          0.18524797697217793,
          -0.5927180845146982,
          -0.4885482202160909,
          -0.2893087340183615,
          -0.09883201903432087,
          -0.5075521083179926,
          -0.021700889479004296,
          -1.305263590768384,
          -2.475515689150806,
          0.7843295779319387,
          -1.2032159148318333,
          1.9693577778767357,
          1.2238146565172854,
          1.1218344358044634,
          0.6674877264904224,
          1.2987751223433057,
          0.8637612322891047,
          0.7141219494868857,
          -0.5771529440751496,
          -1.2094988170327658,
          -0.30680557397477326,
          -1.5553797829605431,
          -1.7642989796422124,
          0.2592547356714931,
          2.168363029888972,
          0.030842989528504984,
          -1.6804497353868382,
          0.2818989496594489,
          -1.4778125028049618,
          -0.19193682085594233,
          0.6545811208782711,
          -0.6105512277782915,
          -0.5515806204315961,
          0.6817777225025149,
          -3.5935123694260622,
          -0.7399182083758457,
          0.17627441095701263,
          0.5453205448981414,
          -1.5226575299689897,
          -0.08078954284580486,
          -0.2065928315307047
         ],
         "yaxis": "y5"
        },
        {
         "histfunc": "count",
         "histnorm": "",
         "marker": {
          "color": "rgba(55, 128, 191, 1.0)",
          "line": {
           "color": "#4D5663",
           "width": 1.3
          }
         },
         "name": "B",
         "nbinsx": 10,
         "opacity": 0.8,
         "orientation": "v",
         "type": "histogram",
         "x": [
          -0.5174427882896812,
          2.6003500721367523,
          -0.398272656123329,
          1.0507472535838591,
          0.8484275564204568,
          0.34558531549137267,
          -0.7251750770576902,
          0.21203195288143903,
          1.0247005880785944,
          -0.41853128884587465,
          -0.5792595251450603,
          -0.23468009328856468,
          -0.37024797574697754,
          -1.6223191538820032,
          0.15822171939306529,
          0.7577979333440427,
          1.3104606801852252,
          0.354980393666831,
          1.0120449798349127,
          -1.3830630529587908,
          -0.7625692342748789,
          -0.031060772043171623,
          0.5876748574760096,
          -0.743381893549244,
          -0.07429448923367035,
          -1.2004104644731826,
          -0.24151882697923244,
          -2.320503904382237,
          -0.24087115581766094,
          -0.6987973244103791,
          -1.529215465871502,
          -0.4634558897134851,
          -0.517397324567097,
          -1.8826290407376154,
          -0.31550730650325126,
          -1.2810841938510928,
          -0.8165122345800369,
          0.010350999435031857,
          0.6307697461985253,
          0.6349949735690572,
          -1.3556578317900443,
          -0.07291038369075702,
          1.8848957700591833,
          -0.05777255081355184,
          0.6305221253983728,
          -0.977814856382125,
          1.2690335969192925,
          -0.5369021582866585,
          0.722476421578678,
          -0.6211934196164647,
          -0.3681602983448335,
          0.9156272215217325,
          -0.7906496269252035,
          1.245402244792277,
          -0.8609902609396055,
          1.5565591336143088,
          2.2655015589706453,
          -0.559343883766819,
          0.6072014775791178,
          0.18524797697217793,
          -0.5927180845146982,
          -0.4885482202160909,
          -0.2893087340183615,
          -0.09883201903432087,
          -0.5075521083179926,
          -0.021700889479004296,
          -1.305263590768384,
          -2.475515689150806,
          0.7843295779319387,
          -1.2032159148318333,
          1.9693577778767357,
          1.2238146565172854,
          1.1218344358044634,
          0.6674877264904224,
          1.2987751223433057,
          0.8637612322891047,
          0.7141219494868857,
          -0.5771529440751496,
          -1.2094988170327658,
          -0.30680557397477326,
          -1.5553797829605431,
          -1.7642989796422124,
          0.2592547356714931,
          2.168363029888972,
          0.030842989528504984,
          -1.6804497353868382,
          0.2818989496594489,
          -1.4778125028049618,
          -0.19193682085594233,
          0.6545811208782711,
          -0.6105512277782915,
          -0.5515806204315961,
          0.6817777225025149,
          -3.5935123694260622,
          -0.7399182083758457,
          0.17627441095701263,
          0.5453205448981414,
          -1.5226575299689897,
          -0.08078954284580486,
          -0.2065928315307047
         ],
         "xaxis": "x6",
         "yaxis": "y6"
        },
        {
         "line": {
          "color": "rgba(128, 128, 128, 1.0)",
          "dash": "solid",
          "shape": "linear",
          "width": 1.3
         },
         "marker": {
          "size": 2,
          "symbol": "circle"
         },
         "mode": "markers",
         "name": "B",
         "text": "",
         "type": "scatter",
         "x": [
          -0.1273731034144319,
          0.8034179756806943,
          -1.2962268513591653,
          1.6171909704679153,
          -0.1913518478400872,
          -0.24719348349434403,
          -0.2575053212468563,
          0.5361937874809402,
          -0.34299576177883084,
          -0.422061097231771,
          0.3075629011819519,
          -0.05769047720344889,
          0.9375230337933363,
          0.42134994381321567,
          1.645771436901701,
          0.15570179343022572,
          -0.035488120203908034,
          -1.111127717248961,
          1.7488295852063047,
          -0.47725913826796484,
          -0.8951657268028664,
          1.040873912756864,
          0.6889517936390033,
          -0.6254565490192873,
          0.056607400359586675,
          -1.3344126648432137,
          0.5310244992109355,
          -0.4026060645353525,
          -1.0112905888470805,
          0.20254588806340293,
          -0.9398128398987691,
          0.29030816143088617,
          0.16960740519693995,
          -0.33546214813743086,
          -0.6318648534740554,
          -1.2603199668632525,
          -1.0584187303336114,
          -0.6584419154679033,
          -0.7761830707174558,
          0.18356733446499296,
          -0.6057873440205137,
          -0.38084706376348565,
          -0.055308437607390355,
          0.08121281945616167,
          0.7809925917005588,
          0.6784590127680238,
          -0.38320706289779743,
          -0.3812362488829061,
          -0.6858059697491599,
          0.420085435333433,
          -0.39589726553536614,
          -0.19222354626648713,
          -0.08390596200550164,
          0.7972359303415871,
          -0.6324179402608489,
          0.1421195234625367,
          0.057195156546059195,
          -0.314341651685965,
          0.9736859634741865,
          -2.9788993036423044,
          -0.6845441151492541,
          -0.5576943489797075,
          -1.3516323922134519,
          -0.9709362653080871,
          1.365256366153465,
          0.718956349712268,
          1.7339131565957542,
          -1.067851815371018,
          2.281657356242972,
          -1.007744798463298,
          -0.46677493557946326,
          -1.8191960234718,
          0.6336433726417379,
          -0.40964073312347576,
          -0.4470642019493151,
          1.0112267153589807,
          -0.26318140097456244,
          -1.7523284028838095,
          -1.397493698943379,
          0.4235660701861368,
          0.1259307601550791,
          2.1980836331430025,
          -0.3342919828009481,
          -0.26164888590349483,
          0.20436642301007998,
          -0.1777398559179107,
          0.10999343897028462,
          0.668650044421462,
          0.324701718534536,
          0.8905536096097691,
          0.4920584619743266,
          1.3408738529546866,
          0.13752194313626281,
          0.8088909918748413,
          1.2113437911270513,
          0.4249118524186255,
          0.30084655728003756,
          -0.7350581437557522,
          -1.9848828439828112,
          -0.1861666450404373
         ],
         "xaxis": "x7",
         "y": [
          -0.5174427882896812,
          2.6003500721367523,
          -0.398272656123329,
          1.0507472535838591,
          0.8484275564204568,
          0.34558531549137267,
          -0.7251750770576902,
          0.21203195288143903,
          1.0247005880785944,
          -0.41853128884587465,
          -0.5792595251450603,
          -0.23468009328856468,
          -0.37024797574697754,
          -1.6223191538820032,
          0.15822171939306529,
          0.7577979333440427,
          1.3104606801852252,
          0.354980393666831,
          1.0120449798349127,
          -1.3830630529587908,
          -0.7625692342748789,
          -0.031060772043171623,
          0.5876748574760096,
          -0.743381893549244,
          -0.07429448923367035,
          -1.2004104644731826,
          -0.24151882697923244,
          -2.320503904382237,
          -0.24087115581766094,
          -0.6987973244103791,
          -1.529215465871502,
          -0.4634558897134851,
          -0.517397324567097,
          -1.8826290407376154,
          -0.31550730650325126,
          -1.2810841938510928,
          -0.8165122345800369,
          0.010350999435031857,
          0.6307697461985253,
          0.6349949735690572,
          -1.3556578317900443,
          -0.07291038369075702,
          1.8848957700591833,
          -0.05777255081355184,
          0.6305221253983728,
          -0.977814856382125,
          1.2690335969192925,
          -0.5369021582866585,
          0.722476421578678,
          -0.6211934196164647,
          -0.3681602983448335,
          0.9156272215217325,
          -0.7906496269252035,
          1.245402244792277,
          -0.8609902609396055,
          1.5565591336143088,
          2.2655015589706453,
          -0.559343883766819,
          0.6072014775791178,
          0.18524797697217793,
          -0.5927180845146982,
          -0.4885482202160909,
          -0.2893087340183615,
          -0.09883201903432087,
          -0.5075521083179926,
          -0.021700889479004296,
          -1.305263590768384,
          -2.475515689150806,
          0.7843295779319387,
          -1.2032159148318333,
          1.9693577778767357,
          1.2238146565172854,
          1.1218344358044634,
          0.6674877264904224,
          1.2987751223433057,
          0.8637612322891047,
          0.7141219494868857,
          -0.5771529440751496,
          -1.2094988170327658,
          -0.30680557397477326,
          -1.5553797829605431,
          -1.7642989796422124,
          0.2592547356714931,
          2.168363029888972,
          0.030842989528504984,
          -1.6804497353868382,
          0.2818989496594489,
          -1.4778125028049618,
          -0.19193682085594233,
          0.6545811208782711,
          -0.6105512277782915,
          -0.5515806204315961,
          0.6817777225025149,
          -3.5935123694260622,
          -0.7399182083758457,
          0.17627441095701263,
          0.5453205448981414,
          -1.5226575299689897,
          -0.08078954284580486,
          -0.2065928315307047
         ],
         "yaxis": "y7"
        },
        {
         "line": {
          "color": "rgba(128, 128, 128, 1.0)",
          "dash": "solid",
          "shape": "linear",
          "width": 1.3
         },
         "marker": {
          "size": 2,
          "symbol": "circle"
         },
         "mode": "markers",
         "name": "B",
         "text": "",
         "type": "scatter",
         "x": [
          -1.2152851008211565,
          1.0962407727647794,
          0.2823908965066684,
          -0.6400684740103899,
          1.3903268293981896,
          -0.43630370787208284,
          1.6855131931434146,
          -0.9510958329218072,
          -0.6219085330422188,
          -0.9489707598641608,
          -0.698742389319351,
          -0.7742272368309635,
          -0.3410186360699531,
          -0.8397183898787279,
          0.7690901833270892,
          0.8840260416222037,
          -0.032686325892768694,
          -1.349531625789729,
          -0.7123989177524955,
          -0.04498944586512662,
          2.249757015409204,
          0.03491111501659019,
          -1.8688678320066794,
          -0.7707283779343044,
          1.0245726748841517,
          -0.6019804065389124,
          0.8900592546444966,
          -0.004287296778723674,
          0.8397354542570362,
          -0.8455151163471136,
          -1.1570187828662188,
          -0.8080015750324793,
          1.1366737065640298,
          0.20018527553765764,
          0.2042123536287555,
          -1.0756118862161772,
          0.8143163347496459,
          -1.252014538609369,
          0.6733080904317835,
          -0.48688831904411545,
          -0.23028457498088148,
          1.9164650989757752,
          0.04696896761610842,
          -0.18478364368208358,
          0.6562449701171231,
          0.970407885869781,
          0.5305986929009918,
          1.4513113578274168,
          -0.3966058987582575,
          -0.7543690817060114,
          -0.19486789883670178,
          -0.3710372637818589,
          1.6469037256148995,
          0.6649176182225256,
          1.4478534444262872,
          0.014408312854281256,
          -0.3051805260346321,
          -0.21018848007375243,
          -0.3905530081100771,
          -0.12450602429243515,
          2.0313701611809596,
          1.230245442258353,
          1.101503992277737,
          0.7190159022852662,
          1.2220747509649195,
          1.0544433483124593,
          1.2243129070919712,
          -1.2257988521518608,
          2.012474194307803,
          -2.2196512022802324,
          1.240136683313242,
          -0.2552959649056867,
          -0.805767928666894,
          1.0173382130401711,
          -0.205032689441431,
          0.948533066179219,
          -0.7681816201859842,
          0.18470324422208365,
          -1.1318009661745418,
          0.9932173025919385,
          0.8224097988300498,
          1.523893031642696,
          -0.6203463645126658,
          -0.02936686658955437,
          0.25822352747392713,
          0.8206167221288364,
          0.4955907866340889,
          -1.607998054022176,
          1.656886245540623,
          -0.28242404280303507,
          -0.053329563698971974,
          -2.2066591204599866,
          0.6330151286390073,
          -1.173645519287031,
          -0.8934444114391192,
          -1.2552486674952328,
          -1.2170900382830623,
          1.2869385915640499,
          -0.17230883936722877,
          0.7043037370227436
         ],
         "xaxis": "x8",
         "y": [
          -0.5174427882896812,
          2.6003500721367523,
          -0.398272656123329,
          1.0507472535838591,
          0.8484275564204568,
          0.34558531549137267,
          -0.7251750770576902,
          0.21203195288143903,
          1.0247005880785944,
          -0.41853128884587465,
          -0.5792595251450603,
          -0.23468009328856468,
          -0.37024797574697754,
          -1.6223191538820032,
          0.15822171939306529,
          0.7577979333440427,
          1.3104606801852252,
          0.354980393666831,
          1.0120449798349127,
          -1.3830630529587908,
          -0.7625692342748789,
          -0.031060772043171623,
          0.5876748574760096,
          -0.743381893549244,
          -0.07429448923367035,
          -1.2004104644731826,
          -0.24151882697923244,
          -2.320503904382237,
          -0.24087115581766094,
          -0.6987973244103791,
          -1.529215465871502,
          -0.4634558897134851,
          -0.517397324567097,
          -1.8826290407376154,
          -0.31550730650325126,
          -1.2810841938510928,
          -0.8165122345800369,
          0.010350999435031857,
          0.6307697461985253,
          0.6349949735690572,
          -1.3556578317900443,
          -0.07291038369075702,
          1.8848957700591833,
          -0.05777255081355184,
          0.6305221253983728,
          -0.977814856382125,
          1.2690335969192925,
          -0.5369021582866585,
          0.722476421578678,
          -0.6211934196164647,
          -0.3681602983448335,
          0.9156272215217325,
          -0.7906496269252035,
          1.245402244792277,
          -0.8609902609396055,
          1.5565591336143088,
          2.2655015589706453,
          -0.559343883766819,
          0.6072014775791178,
          0.18524797697217793,
          -0.5927180845146982,
          -0.4885482202160909,
          -0.2893087340183615,
          -0.09883201903432087,
          -0.5075521083179926,
          -0.021700889479004296,
          -1.305263590768384,
          -2.475515689150806,
          0.7843295779319387,
          -1.2032159148318333,
          1.9693577778767357,
          1.2238146565172854,
          1.1218344358044634,
          0.6674877264904224,
          1.2987751223433057,
          0.8637612322891047,
          0.7141219494868857,
          -0.5771529440751496,
          -1.2094988170327658,
          -0.30680557397477326,
          -1.5553797829605431,
          -1.7642989796422124,
          0.2592547356714931,
          2.168363029888972,
          0.030842989528504984,
          -1.6804497353868382,
          0.2818989496594489,
          -1.4778125028049618,
          -0.19193682085594233,
          0.6545811208782711,
          -0.6105512277782915,
          -0.5515806204315961,
          0.6817777225025149,
          -3.5935123694260622,
          -0.7399182083758457,
          0.17627441095701263,
          0.5453205448981414,
          -1.5226575299689897,
          -0.08078954284580486,
          -0.2065928315307047
         ],
         "yaxis": "y8"
        },
        {
         "line": {
          "color": "rgba(128, 128, 128, 1.0)",
          "dash": "solid",
          "shape": "linear",
          "width": 1.3
         },
         "marker": {
          "size": 2,
          "symbol": "circle"
         },
         "mode": "markers",
         "name": "C",
         "text": "",
         "type": "scatter",
         "x": [
          0.33567605600194994,
          -0.8109873503861798,
          -2.6316756978724447,
          0.5776275311286065,
          -0.22530496487367777,
          0.8097460374131469,
          -0.5115338215552406,
          -0.4590997186416238,
          -0.298577056088914,
          -0.28541368761683306,
          -0.5472911448565846,
          0.3027742133920709,
          0.8902345216571652,
          -0.9239113525121986,
          0.9416625216245742,
          -0.18066450525113226,
          -2.0881969759280192,
          0.47500151093148335,
          -1.2731709071783763,
          1.230559710728227,
          -0.1605185431067916,
          0.6015686401189955,
          1.0663771004856937,
          0.4339044154824729,
          0.42688970128877163,
          0.7278870362259178,
          -0.6948804563250303,
          -0.05374882813326524,
          -1.6336690547739716,
          -0.88579686362121,
          -0.9542553464180343,
          -0.5644192605571883,
          1.0782994643519894,
          0.49503871747449035,
          0.5343533913205508,
          1.447396904689215,
          0.804473836069314,
          0.3481074903159142,
          -0.2505714270670016,
          -0.9029133179431246,
          0.2940895274251988,
          0.14540457070201546,
          -0.10762877600905554,
          0.3053893258733171,
          0.598940030645167,
          0.7820125036292656,
          -0.8966714305533445,
          1.6606846244283409,
          0.5727604798690485,
          1.6231494486869715,
          -0.8105612809550491,
          -0.3923264306412344,
          -0.04246774635108637,
          -0.059903525664294535,
          -0.5311755088064984,
          -0.23453465907896814,
          -2.0232349749481413,
          -0.475191922450835,
          -0.40907645810611803,
          -0.1339567374388445,
          -2.7697162720257404,
          -1.358394353131801,
          -0.08178397964309239,
          0.7753013039142149,
          0.5360340367280473,
          0.2533268706667387,
          0.5625348411215483,
          0.31576535434829717,
          -1.206120024494666,
          0.048844511971718504,
          1.120232843572727,
          0.21992570366912945,
          -0.21448152530239026,
          -1.908920438887307,
          0.9638465930685435,
          0.7935170953105968,
          0.8460362189297203,
          0.8793126804341501,
          -0.3120587028701596,
          0.9023335833858086,
          -1.2657523325157283,
          1.268781693218166,
          -0.05215591066790494,
          0.6968094280163797,
          -1.189618503274249,
          1.8258605748682426,
          -1.6072554233354683,
          0.0468494169654665,
          0.6188673797537998,
          -0.35377270836903085,
          0.7879111619926648,
          1.0992184325469223,
          -0.3551296686529979,
          0.9551820492099591,
          -1.9799928033362035,
          -1.4876434001811865,
          1.258773185930191,
          0.06426248988592512,
          -0.27308672608175666,
          2.3920188360109895
         ],
         "xaxis": "x9",
         "y": [
          -0.1273731034144319,
          0.8034179756806943,
          -1.2962268513591653,
          1.6171909704679153,
          -0.1913518478400872,
          -0.24719348349434403,
          -0.2575053212468563,
          0.5361937874809402,
          -0.34299576177883084,
          -0.422061097231771,
          0.3075629011819519,
          -0.05769047720344889,
          0.9375230337933363,
          0.42134994381321567,
          1.645771436901701,
          0.15570179343022572,
          -0.035488120203908034,
          -1.111127717248961,
          1.7488295852063047,
          -0.47725913826796484,
          -0.8951657268028664,
          1.040873912756864,
          0.6889517936390033,
          -0.6254565490192873,
          0.056607400359586675,
          -1.3344126648432137,
          0.5310244992109355,
          -0.4026060645353525,
          -1.0112905888470805,
          0.20254588806340293,
          -0.9398128398987691,
          0.29030816143088617,
          0.16960740519693995,
          -0.33546214813743086,
          -0.6318648534740554,
          -1.2603199668632525,
          -1.0584187303336114,
          -0.6584419154679033,
          -0.7761830707174558,
          0.18356733446499296,
          -0.6057873440205137,
          -0.38084706376348565,
          -0.055308437607390355,
          0.08121281945616167,
          0.7809925917005588,
          0.6784590127680238,
          -0.38320706289779743,
          -0.3812362488829061,
          -0.6858059697491599,
          0.420085435333433,
          -0.39589726553536614,
          -0.19222354626648713,
          -0.08390596200550164,
          0.7972359303415871,
          -0.6324179402608489,
          0.1421195234625367,
          0.057195156546059195,
          -0.314341651685965,
          0.9736859634741865,
          -2.9788993036423044,
          -0.6845441151492541,
          -0.5576943489797075,
          -1.3516323922134519,
          -0.9709362653080871,
          1.365256366153465,
          0.718956349712268,
          1.7339131565957542,
          -1.067851815371018,
          2.281657356242972,
          -1.007744798463298,
          -0.46677493557946326,
          -1.8191960234718,
          0.6336433726417379,
          -0.40964073312347576,
          -0.4470642019493151,
          1.0112267153589807,
          -0.26318140097456244,
          -1.7523284028838095,
          -1.397493698943379,
          0.4235660701861368,
          0.1259307601550791,
          2.1980836331430025,
          -0.3342919828009481,
          -0.26164888590349483,
          0.20436642301007998,
          -0.1777398559179107,
          0.10999343897028462,
          0.668650044421462,
          0.324701718534536,
          0.8905536096097691,
          0.4920584619743266,
          1.3408738529546866,
          0.13752194313626281,
          0.8088909918748413,
          1.2113437911270513,
          0.4249118524186255,
          0.30084655728003756,
          -0.7350581437557522,
          -1.9848828439828112,
          -0.1861666450404373
         ],
         "yaxis": "y9"
        },
        {
         "line": {
          "color": "rgba(128, 128, 128, 1.0)",
          "dash": "solid",
          "shape": "linear",
          "width": 1.3
         },
         "marker": {
          "size": 2,
          "symbol": "circle"
         },
         "mode": "markers",
         "name": "C",
         "text": "",
         "type": "scatter",
         "x": [
          -0.5174427882896812,
          2.6003500721367523,
          -0.398272656123329,
          1.0507472535838591,
          0.8484275564204568,
          0.34558531549137267,
          -0.7251750770576902,
          0.21203195288143903,
          1.0247005880785944,
          -0.41853128884587465,
          -0.5792595251450603,
          -0.23468009328856468,
          -0.37024797574697754,
          -1.6223191538820032,
          0.15822171939306529,
          0.7577979333440427,
          1.3104606801852252,
          0.354980393666831,
          1.0120449798349127,
          -1.3830630529587908,
          -0.7625692342748789,
          -0.031060772043171623,
          0.5876748574760096,
          -0.743381893549244,
          -0.07429448923367035,
          -1.2004104644731826,
          -0.24151882697923244,
          -2.320503904382237,
          -0.24087115581766094,
          -0.6987973244103791,
          -1.529215465871502,
          -0.4634558897134851,
          -0.517397324567097,
          -1.8826290407376154,
          -0.31550730650325126,
          -1.2810841938510928,
          -0.8165122345800369,
          0.010350999435031857,
          0.6307697461985253,
          0.6349949735690572,
          -1.3556578317900443,
          -0.07291038369075702,
          1.8848957700591833,
          -0.05777255081355184,
          0.6305221253983728,
          -0.977814856382125,
          1.2690335969192925,
          -0.5369021582866585,
          0.722476421578678,
          -0.6211934196164647,
          -0.3681602983448335,
          0.9156272215217325,
          -0.7906496269252035,
          1.245402244792277,
          -0.8609902609396055,
          1.5565591336143088,
          2.2655015589706453,
          -0.559343883766819,
          0.6072014775791178,
          0.18524797697217793,
          -0.5927180845146982,
          -0.4885482202160909,
          -0.2893087340183615,
          -0.09883201903432087,
          -0.5075521083179926,
          -0.021700889479004296,
          -1.305263590768384,
          -2.475515689150806,
          0.7843295779319387,
          -1.2032159148318333,
          1.9693577778767357,
          1.2238146565172854,
          1.1218344358044634,
          0.6674877264904224,
          1.2987751223433057,
          0.8637612322891047,
          0.7141219494868857,
          -0.5771529440751496,
          -1.2094988170327658,
          -0.30680557397477326,
          -1.5553797829605431,
          -1.7642989796422124,
          0.2592547356714931,
          2.168363029888972,
          0.030842989528504984,
          -1.6804497353868382,
          0.2818989496594489,
          -1.4778125028049618,
          -0.19193682085594233,
          0.6545811208782711,
          -0.6105512277782915,
          -0.5515806204315961,
          0.6817777225025149,
          -3.5935123694260622,
          -0.7399182083758457,
          0.17627441095701263,
          0.5453205448981414,
          -1.5226575299689897,
          -0.08078954284580486,
          -0.2065928315307047
         ],
         "xaxis": "x10",
         "y": [
          -0.1273731034144319,
          0.8034179756806943,
          -1.2962268513591653,
          1.6171909704679153,
          -0.1913518478400872,
          -0.24719348349434403,
          -0.2575053212468563,
          0.5361937874809402,
          -0.34299576177883084,
          -0.422061097231771,
          0.3075629011819519,
          -0.05769047720344889,
          0.9375230337933363,
          0.42134994381321567,
          1.645771436901701,
          0.15570179343022572,
          -0.035488120203908034,
          -1.111127717248961,
          1.7488295852063047,
          -0.47725913826796484,
          -0.8951657268028664,
          1.040873912756864,
          0.6889517936390033,
          -0.6254565490192873,
          0.056607400359586675,
          -1.3344126648432137,
          0.5310244992109355,
          -0.4026060645353525,
          -1.0112905888470805,
          0.20254588806340293,
          -0.9398128398987691,
          0.29030816143088617,
          0.16960740519693995,
          -0.33546214813743086,
          -0.6318648534740554,
          -1.2603199668632525,
          -1.0584187303336114,
          -0.6584419154679033,
          -0.7761830707174558,
          0.18356733446499296,
          -0.6057873440205137,
          -0.38084706376348565,
          -0.055308437607390355,
          0.08121281945616167,
          0.7809925917005588,
          0.6784590127680238,
          -0.38320706289779743,
          -0.3812362488829061,
          -0.6858059697491599,
          0.420085435333433,
          -0.39589726553536614,
          -0.19222354626648713,
          -0.08390596200550164,
          0.7972359303415871,
          -0.6324179402608489,
          0.1421195234625367,
          0.057195156546059195,
          -0.314341651685965,
          0.9736859634741865,
          -2.9788993036423044,
          -0.6845441151492541,
          -0.5576943489797075,
          -1.3516323922134519,
          -0.9709362653080871,
          1.365256366153465,
          0.718956349712268,
          1.7339131565957542,
          -1.067851815371018,
          2.281657356242972,
          -1.007744798463298,
          -0.46677493557946326,
          -1.8191960234718,
          0.6336433726417379,
          -0.40964073312347576,
          -0.4470642019493151,
          1.0112267153589807,
          -0.26318140097456244,
          -1.7523284028838095,
          -1.397493698943379,
          0.4235660701861368,
          0.1259307601550791,
          2.1980836331430025,
          -0.3342919828009481,
          -0.26164888590349483,
          0.20436642301007998,
          -0.1777398559179107,
          0.10999343897028462,
          0.668650044421462,
          0.324701718534536,
          0.8905536096097691,
          0.4920584619743266,
          1.3408738529546866,
          0.13752194313626281,
          0.8088909918748413,
          1.2113437911270513,
          0.4249118524186255,
          0.30084655728003756,
          -0.7350581437557522,
          -1.9848828439828112,
          -0.1861666450404373
         ],
         "yaxis": "y10"
        },
        {
         "histfunc": "count",
         "histnorm": "",
         "marker": {
          "color": "rgba(50, 171, 96, 1.0)",
          "line": {
           "color": "#4D5663",
           "width": 1.3
          }
         },
         "name": "C",
         "nbinsx": 10,
         "opacity": 0.8,
         "orientation": "v",
         "type": "histogram",
         "x": [
          -0.1273731034144319,
          0.8034179756806943,
          -1.2962268513591653,
          1.6171909704679153,
          -0.1913518478400872,
          -0.24719348349434403,
          -0.2575053212468563,
          0.5361937874809402,
          -0.34299576177883084,
          -0.422061097231771,
          0.3075629011819519,
          -0.05769047720344889,
          0.9375230337933363,
          0.42134994381321567,
          1.645771436901701,
          0.15570179343022572,
          -0.035488120203908034,
          -1.111127717248961,
          1.7488295852063047,
          -0.47725913826796484,
          -0.8951657268028664,
          1.040873912756864,
          0.6889517936390033,
          -0.6254565490192873,
          0.056607400359586675,
          -1.3344126648432137,
          0.5310244992109355,
          -0.4026060645353525,
          -1.0112905888470805,
          0.20254588806340293,
          -0.9398128398987691,
          0.29030816143088617,
          0.16960740519693995,
          -0.33546214813743086,
          -0.6318648534740554,
          -1.2603199668632525,
          -1.0584187303336114,
          -0.6584419154679033,
          -0.7761830707174558,
          0.18356733446499296,
          -0.6057873440205137,
          -0.38084706376348565,
          -0.055308437607390355,
          0.08121281945616167,
          0.7809925917005588,
          0.6784590127680238,
          -0.38320706289779743,
          -0.3812362488829061,
          -0.6858059697491599,
          0.420085435333433,
          -0.39589726553536614,
          -0.19222354626648713,
          -0.08390596200550164,
          0.7972359303415871,
          -0.6324179402608489,
          0.1421195234625367,
          0.057195156546059195,
          -0.314341651685965,
          0.9736859634741865,
          -2.9788993036423044,
          -0.6845441151492541,
          -0.5576943489797075,
          -1.3516323922134519,
          -0.9709362653080871,
          1.365256366153465,
          0.718956349712268,
          1.7339131565957542,
          -1.067851815371018,
          2.281657356242972,
          -1.007744798463298,
          -0.46677493557946326,
          -1.8191960234718,
          0.6336433726417379,
          -0.40964073312347576,
          -0.4470642019493151,
          1.0112267153589807,
          -0.26318140097456244,
          -1.7523284028838095,
          -1.397493698943379,
          0.4235660701861368,
          0.1259307601550791,
          2.1980836331430025,
          -0.3342919828009481,
          -0.26164888590349483,
          0.20436642301007998,
          -0.1777398559179107,
          0.10999343897028462,
          0.668650044421462,
          0.324701718534536,
          0.8905536096097691,
          0.4920584619743266,
          1.3408738529546866,
          0.13752194313626281,
          0.8088909918748413,
          1.2113437911270513,
          0.4249118524186255,
          0.30084655728003756,
          -0.7350581437557522,
          -1.9848828439828112,
          -0.1861666450404373
         ],
         "xaxis": "x11",
         "yaxis": "y11"
        },
        {
         "line": {
          "color": "rgba(128, 128, 128, 1.0)",
          "dash": "solid",
          "shape": "linear",
          "width": 1.3
         },
         "marker": {
          "size": 2,
          "symbol": "circle"
         },
         "mode": "markers",
         "name": "C",
         "text": "",
         "type": "scatter",
         "x": [
          -1.2152851008211565,
          1.0962407727647794,
          0.2823908965066684,
          -0.6400684740103899,
          1.3903268293981896,
          -0.43630370787208284,
          1.6855131931434146,
          -0.9510958329218072,
          -0.6219085330422188,
          -0.9489707598641608,
          -0.698742389319351,
          -0.7742272368309635,
          -0.3410186360699531,
          -0.8397183898787279,
          0.7690901833270892,
          0.8840260416222037,
          -0.032686325892768694,
          -1.349531625789729,
          -0.7123989177524955,
          -0.04498944586512662,
          2.249757015409204,
          0.03491111501659019,
          -1.8688678320066794,
          -0.7707283779343044,
          1.0245726748841517,
          -0.6019804065389124,
          0.8900592546444966,
          -0.004287296778723674,
          0.8397354542570362,
          -0.8455151163471136,
          -1.1570187828662188,
          -0.8080015750324793,
          1.1366737065640298,
          0.20018527553765764,
          0.2042123536287555,
          -1.0756118862161772,
          0.8143163347496459,
          -1.252014538609369,
          0.6733080904317835,
          -0.48688831904411545,
          -0.23028457498088148,
          1.9164650989757752,
          0.04696896761610842,
          -0.18478364368208358,
          0.6562449701171231,
          0.970407885869781,
          0.5305986929009918,
          1.4513113578274168,
          -0.3966058987582575,
          -0.7543690817060114,
          -0.19486789883670178,
          -0.3710372637818589,
          1.6469037256148995,
          0.6649176182225256,
          1.4478534444262872,
          0.014408312854281256,
          -0.3051805260346321,
          -0.21018848007375243,
          -0.3905530081100771,
          -0.12450602429243515,
          2.0313701611809596,
          1.230245442258353,
          1.101503992277737,
          0.7190159022852662,
          1.2220747509649195,
          1.0544433483124593,
          1.2243129070919712,
          -1.2257988521518608,
          2.012474194307803,
          -2.2196512022802324,
          1.240136683313242,
          -0.2552959649056867,
          -0.805767928666894,
          1.0173382130401711,
          -0.205032689441431,
          0.948533066179219,
          -0.7681816201859842,
          0.18470324422208365,
          -1.1318009661745418,
          0.9932173025919385,
          0.8224097988300498,
          1.523893031642696,
          -0.6203463645126658,
          -0.02936686658955437,
          0.25822352747392713,
          0.8206167221288364,
          0.4955907866340889,
          -1.607998054022176,
          1.656886245540623,
          -0.28242404280303507,
          -0.053329563698971974,
          -2.2066591204599866,
          0.6330151286390073,
          -1.173645519287031,
          -0.8934444114391192,
          -1.2552486674952328,
          -1.2170900382830623,
          1.2869385915640499,
          -0.17230883936722877,
          0.7043037370227436
         ],
         "xaxis": "x12",
         "y": [
          -0.1273731034144319,
          0.8034179756806943,
          -1.2962268513591653,
          1.6171909704679153,
          -0.1913518478400872,
          -0.24719348349434403,
          -0.2575053212468563,
          0.5361937874809402,
          -0.34299576177883084,
          -0.422061097231771,
          0.3075629011819519,
          -0.05769047720344889,
          0.9375230337933363,
          0.42134994381321567,
          1.645771436901701,
          0.15570179343022572,
          -0.035488120203908034,
          -1.111127717248961,
          1.7488295852063047,
          -0.47725913826796484,
          -0.8951657268028664,
          1.040873912756864,
          0.6889517936390033,
          -0.6254565490192873,
          0.056607400359586675,
          -1.3344126648432137,
          0.5310244992109355,
          -0.4026060645353525,
          -1.0112905888470805,
          0.20254588806340293,
          -0.9398128398987691,
          0.29030816143088617,
          0.16960740519693995,
          -0.33546214813743086,
          -0.6318648534740554,
          -1.2603199668632525,
          -1.0584187303336114,
          -0.6584419154679033,
          -0.7761830707174558,
          0.18356733446499296,
          -0.6057873440205137,
          -0.38084706376348565,
          -0.055308437607390355,
          0.08121281945616167,
          0.7809925917005588,
          0.6784590127680238,
          -0.38320706289779743,
          -0.3812362488829061,
          -0.6858059697491599,
          0.420085435333433,
          -0.39589726553536614,
          -0.19222354626648713,
          -0.08390596200550164,
          0.7972359303415871,
          -0.6324179402608489,
          0.1421195234625367,
          0.057195156546059195,
          -0.314341651685965,
          0.9736859634741865,
          -2.9788993036423044,
          -0.6845441151492541,
          -0.5576943489797075,
          -1.3516323922134519,
          -0.9709362653080871,
          1.365256366153465,
          0.718956349712268,
          1.7339131565957542,
          -1.067851815371018,
          2.281657356242972,
          -1.007744798463298,
          -0.46677493557946326,
          -1.8191960234718,
          0.6336433726417379,
          -0.40964073312347576,
          -0.4470642019493151,
          1.0112267153589807,
          -0.26318140097456244,
          -1.7523284028838095,
          -1.397493698943379,
          0.4235660701861368,
          0.1259307601550791,
          2.1980836331430025,
          -0.3342919828009481,
          -0.26164888590349483,
          0.20436642301007998,
          -0.1777398559179107,
          0.10999343897028462,
          0.668650044421462,
          0.324701718534536,
          0.8905536096097691,
          0.4920584619743266,
          1.3408738529546866,
          0.13752194313626281,
          0.8088909918748413,
          1.2113437911270513,
          0.4249118524186255,
          0.30084655728003756,
          -0.7350581437557522,
          -1.9848828439828112,
          -0.1861666450404373
         ],
         "yaxis": "y12"
        },
        {
         "line": {
          "color": "rgba(128, 128, 128, 1.0)",
          "dash": "solid",
          "shape": "linear",
          "width": 1.3
         },
         "marker": {
          "size": 2,
          "symbol": "circle"
         },
         "mode": "markers",
         "name": "D",
         "text": "",
         "type": "scatter",
         "x": [
          0.33567605600194994,
          -0.8109873503861798,
          -2.6316756978724447,
          0.5776275311286065,
          -0.22530496487367777,
          0.8097460374131469,
          -0.5115338215552406,
          -0.4590997186416238,
          -0.298577056088914,
          -0.28541368761683306,
          -0.5472911448565846,
          0.3027742133920709,
          0.8902345216571652,
          -0.9239113525121986,
          0.9416625216245742,
          -0.18066450525113226,
          -2.0881969759280192,
          0.47500151093148335,
          -1.2731709071783763,
          1.230559710728227,
          -0.1605185431067916,
          0.6015686401189955,
          1.0663771004856937,
          0.4339044154824729,
          0.42688970128877163,
          0.7278870362259178,
          -0.6948804563250303,
          -0.05374882813326524,
          -1.6336690547739716,
          -0.88579686362121,
          -0.9542553464180343,
          -0.5644192605571883,
          1.0782994643519894,
          0.49503871747449035,
          0.5343533913205508,
          1.447396904689215,
          0.804473836069314,
          0.3481074903159142,
          -0.2505714270670016,
          -0.9029133179431246,
          0.2940895274251988,
          0.14540457070201546,
          -0.10762877600905554,
          0.3053893258733171,
          0.598940030645167,
          0.7820125036292656,
          -0.8966714305533445,
          1.6606846244283409,
          0.5727604798690485,
          1.6231494486869715,
          -0.8105612809550491,
          -0.3923264306412344,
          -0.04246774635108637,
          -0.059903525664294535,
          -0.5311755088064984,
          -0.23453465907896814,
          -2.0232349749481413,
          -0.475191922450835,
          -0.40907645810611803,
          -0.1339567374388445,
          -2.7697162720257404,
          -1.358394353131801,
          -0.08178397964309239,
          0.7753013039142149,
          0.5360340367280473,
          0.2533268706667387,
          0.5625348411215483,
          0.31576535434829717,
          -1.206120024494666,
          0.048844511971718504,
          1.120232843572727,
          0.21992570366912945,
          -0.21448152530239026,
          -1.908920438887307,
          0.9638465930685435,
          0.7935170953105968,
          0.8460362189297203,
          0.8793126804341501,
          -0.3120587028701596,
          0.9023335833858086,
          -1.2657523325157283,
          1.268781693218166,
          -0.05215591066790494,
          0.6968094280163797,
          -1.189618503274249,
          1.8258605748682426,
          -1.6072554233354683,
          0.0468494169654665,
          0.6188673797537998,
          -0.35377270836903085,
          0.7879111619926648,
          1.0992184325469223,
          -0.3551296686529979,
          0.9551820492099591,
          -1.9799928033362035,
          -1.4876434001811865,
          1.258773185930191,
          0.06426248988592512,
          -0.27308672608175666,
          2.3920188360109895
         ],
         "xaxis": "x13",
         "y": [
          -1.2152851008211565,
          1.0962407727647794,
          0.2823908965066684,
          -0.6400684740103899,
          1.3903268293981896,
          -0.43630370787208284,
          1.6855131931434146,
          -0.9510958329218072,
          -0.6219085330422188,
          -0.9489707598641608,
          -0.698742389319351,
          -0.7742272368309635,
          -0.3410186360699531,
          -0.8397183898787279,
          0.7690901833270892,
          0.8840260416222037,
          -0.032686325892768694,
          -1.349531625789729,
          -0.7123989177524955,
          -0.04498944586512662,
          2.249757015409204,
          0.03491111501659019,
          -1.8688678320066794,
          -0.7707283779343044,
          1.0245726748841517,
          -0.6019804065389124,
          0.8900592546444966,
          -0.004287296778723674,
          0.8397354542570362,
          -0.8455151163471136,
          -1.1570187828662188,
          -0.8080015750324793,
          1.1366737065640298,
          0.20018527553765764,
          0.2042123536287555,
          -1.0756118862161772,
          0.8143163347496459,
          -1.252014538609369,
          0.6733080904317835,
          -0.48688831904411545,
          -0.23028457498088148,
          1.9164650989757752,
          0.04696896761610842,
          -0.18478364368208358,
          0.6562449701171231,
          0.970407885869781,
          0.5305986929009918,
          1.4513113578274168,
          -0.3966058987582575,
          -0.7543690817060114,
          -0.19486789883670178,
          -0.3710372637818589,
          1.6469037256148995,
          0.6649176182225256,
          1.4478534444262872,
          0.014408312854281256,
          -0.3051805260346321,
          -0.21018848007375243,
          -0.3905530081100771,
          -0.12450602429243515,
          2.0313701611809596,
          1.230245442258353,
          1.101503992277737,
          0.7190159022852662,
          1.2220747509649195,
          1.0544433483124593,
          1.2243129070919712,
          -1.2257988521518608,
          2.012474194307803,
          -2.2196512022802324,
          1.240136683313242,
          -0.2552959649056867,
          -0.805767928666894,
          1.0173382130401711,
          -0.205032689441431,
          0.948533066179219,
          -0.7681816201859842,
          0.18470324422208365,
          -1.1318009661745418,
          0.9932173025919385,
          0.8224097988300498,
          1.523893031642696,
          -0.6203463645126658,
          -0.02936686658955437,
          0.25822352747392713,
          0.8206167221288364,
          0.4955907866340889,
          -1.607998054022176,
          1.656886245540623,
          -0.28242404280303507,
          -0.053329563698971974,
          -2.2066591204599866,
          0.6330151286390073,
          -1.173645519287031,
          -0.8934444114391192,
          -1.2552486674952328,
          -1.2170900382830623,
          1.2869385915640499,
          -0.17230883936722877,
          0.7043037370227436
         ],
         "yaxis": "y13"
        },
        {
         "line": {
          "color": "rgba(128, 128, 128, 1.0)",
          "dash": "solid",
          "shape": "linear",
          "width": 1.3
         },
         "marker": {
          "size": 2,
          "symbol": "circle"
         },
         "mode": "markers",
         "name": "D",
         "text": "",
         "type": "scatter",
         "x": [
          -0.5174427882896812,
          2.6003500721367523,
          -0.398272656123329,
          1.0507472535838591,
          0.8484275564204568,
          0.34558531549137267,
          -0.7251750770576902,
          0.21203195288143903,
          1.0247005880785944,
          -0.41853128884587465,
          -0.5792595251450603,
          -0.23468009328856468,
          -0.37024797574697754,
          -1.6223191538820032,
          0.15822171939306529,
          0.7577979333440427,
          1.3104606801852252,
          0.354980393666831,
          1.0120449798349127,
          -1.3830630529587908,
          -0.7625692342748789,
          -0.031060772043171623,
          0.5876748574760096,
          -0.743381893549244,
          -0.07429448923367035,
          -1.2004104644731826,
          -0.24151882697923244,
          -2.320503904382237,
          -0.24087115581766094,
          -0.6987973244103791,
          -1.529215465871502,
          -0.4634558897134851,
          -0.517397324567097,
          -1.8826290407376154,
          -0.31550730650325126,
          -1.2810841938510928,
          -0.8165122345800369,
          0.010350999435031857,
          0.6307697461985253,
          0.6349949735690572,
          -1.3556578317900443,
          -0.07291038369075702,
          1.8848957700591833,
          -0.05777255081355184,
          0.6305221253983728,
          -0.977814856382125,
          1.2690335969192925,
          -0.5369021582866585,
          0.722476421578678,
          -0.6211934196164647,
          -0.3681602983448335,
          0.9156272215217325,
          -0.7906496269252035,
          1.245402244792277,
          -0.8609902609396055,
          1.5565591336143088,
          2.2655015589706453,
          -0.559343883766819,
          0.6072014775791178,
          0.18524797697217793,
          -0.5927180845146982,
          -0.4885482202160909,
          -0.2893087340183615,
          -0.09883201903432087,
          -0.5075521083179926,
          -0.021700889479004296,
          -1.305263590768384,
          -2.475515689150806,
          0.7843295779319387,
          -1.2032159148318333,
          1.9693577778767357,
          1.2238146565172854,
          1.1218344358044634,
          0.6674877264904224,
          1.2987751223433057,
          0.8637612322891047,
          0.7141219494868857,
          -0.5771529440751496,
          -1.2094988170327658,
          -0.30680557397477326,
          -1.5553797829605431,
          -1.7642989796422124,
          0.2592547356714931,
          2.168363029888972,
          0.030842989528504984,
          -1.6804497353868382,
          0.2818989496594489,
          -1.4778125028049618,
          -0.19193682085594233,
          0.6545811208782711,
          -0.6105512277782915,
          -0.5515806204315961,
          0.6817777225025149,
          -3.5935123694260622,
          -0.7399182083758457,
          0.17627441095701263,
          0.5453205448981414,
          -1.5226575299689897,
          -0.08078954284580486,
          -0.2065928315307047
         ],
         "xaxis": "x14",
         "y": [
          -1.2152851008211565,
          1.0962407727647794,
          0.2823908965066684,
          -0.6400684740103899,
          1.3903268293981896,
          -0.43630370787208284,
          1.6855131931434146,
          -0.9510958329218072,
          -0.6219085330422188,
          -0.9489707598641608,
          -0.698742389319351,
          -0.7742272368309635,
          -0.3410186360699531,
          -0.8397183898787279,
          0.7690901833270892,
          0.8840260416222037,
          -0.032686325892768694,
          -1.349531625789729,
          -0.7123989177524955,
          -0.04498944586512662,
          2.249757015409204,
          0.03491111501659019,
          -1.8688678320066794,
          -0.7707283779343044,
          1.0245726748841517,
          -0.6019804065389124,
          0.8900592546444966,
          -0.004287296778723674,
          0.8397354542570362,
          -0.8455151163471136,
          -1.1570187828662188,
          -0.8080015750324793,
          1.1366737065640298,
          0.20018527553765764,
          0.2042123536287555,
          -1.0756118862161772,
          0.8143163347496459,
          -1.252014538609369,
          0.6733080904317835,
          -0.48688831904411545,
          -0.23028457498088148,
          1.9164650989757752,
          0.04696896761610842,
          -0.18478364368208358,
          0.6562449701171231,
          0.970407885869781,
          0.5305986929009918,
          1.4513113578274168,
          -0.3966058987582575,
          -0.7543690817060114,
          -0.19486789883670178,
          -0.3710372637818589,
          1.6469037256148995,
          0.6649176182225256,
          1.4478534444262872,
          0.014408312854281256,
          -0.3051805260346321,
          -0.21018848007375243,
          -0.3905530081100771,
          -0.12450602429243515,
          2.0313701611809596,
          1.230245442258353,
          1.101503992277737,
          0.7190159022852662,
          1.2220747509649195,
          1.0544433483124593,
          1.2243129070919712,
          -1.2257988521518608,
          2.012474194307803,
          -2.2196512022802324,
          1.240136683313242,
          -0.2552959649056867,
          -0.805767928666894,
          1.0173382130401711,
          -0.205032689441431,
          0.948533066179219,
          -0.7681816201859842,
          0.18470324422208365,
          -1.1318009661745418,
          0.9932173025919385,
          0.8224097988300498,
          1.523893031642696,
          -0.6203463645126658,
          -0.02936686658955437,
          0.25822352747392713,
          0.8206167221288364,
          0.4955907866340889,
          -1.607998054022176,
          1.656886245540623,
          -0.28242404280303507,
          -0.053329563698971974,
          -2.2066591204599866,
          0.6330151286390073,
          -1.173645519287031,
          -0.8934444114391192,
          -1.2552486674952328,
          -1.2170900382830623,
          1.2869385915640499,
          -0.17230883936722877,
          0.7043037370227436
         ],
         "yaxis": "y14"
        },
        {
         "line": {
          "color": "rgba(128, 128, 128, 1.0)",
          "dash": "solid",
          "shape": "linear",
          "width": 1.3
         },
         "marker": {
          "size": 2,
          "symbol": "circle"
         },
         "mode": "markers",
         "name": "D",
         "text": "",
         "type": "scatter",
         "x": [
          -0.1273731034144319,
          0.8034179756806943,
          -1.2962268513591653,
          1.6171909704679153,
          -0.1913518478400872,
          -0.24719348349434403,
          -0.2575053212468563,
          0.5361937874809402,
          -0.34299576177883084,
          -0.422061097231771,
          0.3075629011819519,
          -0.05769047720344889,
          0.9375230337933363,
          0.42134994381321567,
          1.645771436901701,
          0.15570179343022572,
          -0.035488120203908034,
          -1.111127717248961,
          1.7488295852063047,
          -0.47725913826796484,
          -0.8951657268028664,
          1.040873912756864,
          0.6889517936390033,
          -0.6254565490192873,
          0.056607400359586675,
          -1.3344126648432137,
          0.5310244992109355,
          -0.4026060645353525,
          -1.0112905888470805,
          0.20254588806340293,
          -0.9398128398987691,
          0.29030816143088617,
          0.16960740519693995,
          -0.33546214813743086,
          -0.6318648534740554,
          -1.2603199668632525,
          -1.0584187303336114,
          -0.6584419154679033,
          -0.7761830707174558,
          0.18356733446499296,
          -0.6057873440205137,
          -0.38084706376348565,
          -0.055308437607390355,
          0.08121281945616167,
          0.7809925917005588,
          0.6784590127680238,
          -0.38320706289779743,
          -0.3812362488829061,
          -0.6858059697491599,
          0.420085435333433,
          -0.39589726553536614,
          -0.19222354626648713,
          -0.08390596200550164,
          0.7972359303415871,
          -0.6324179402608489,
          0.1421195234625367,
          0.057195156546059195,
          -0.314341651685965,
          0.9736859634741865,
          -2.9788993036423044,
          -0.6845441151492541,
          -0.5576943489797075,
          -1.3516323922134519,
          -0.9709362653080871,
          1.365256366153465,
          0.718956349712268,
          1.7339131565957542,
          -1.067851815371018,
          2.281657356242972,
          -1.007744798463298,
          -0.46677493557946326,
          -1.8191960234718,
          0.6336433726417379,
          -0.40964073312347576,
          -0.4470642019493151,
          1.0112267153589807,
          -0.26318140097456244,
          -1.7523284028838095,
          -1.397493698943379,
          0.4235660701861368,
          0.1259307601550791,
          2.1980836331430025,
          -0.3342919828009481,
          -0.26164888590349483,
          0.20436642301007998,
          -0.1777398559179107,
          0.10999343897028462,
          0.668650044421462,
          0.324701718534536,
          0.8905536096097691,
          0.4920584619743266,
          1.3408738529546866,
          0.13752194313626281,
          0.8088909918748413,
          1.2113437911270513,
          0.4249118524186255,
          0.30084655728003756,
          -0.7350581437557522,
          -1.9848828439828112,
          -0.1861666450404373
         ],
         "xaxis": "x15",
         "y": [
          -1.2152851008211565,
          1.0962407727647794,
          0.2823908965066684,
          -0.6400684740103899,
          1.3903268293981896,
          -0.43630370787208284,
          1.6855131931434146,
          -0.9510958329218072,
          -0.6219085330422188,
          -0.9489707598641608,
          -0.698742389319351,
          -0.7742272368309635,
          -0.3410186360699531,
          -0.8397183898787279,
          0.7690901833270892,
          0.8840260416222037,
          -0.032686325892768694,
          -1.349531625789729,
          -0.7123989177524955,
          -0.04498944586512662,
          2.249757015409204,
          0.03491111501659019,
          -1.8688678320066794,
          -0.7707283779343044,
          1.0245726748841517,
          -0.6019804065389124,
          0.8900592546444966,
          -0.004287296778723674,
          0.8397354542570362,
          -0.8455151163471136,
          -1.1570187828662188,
          -0.8080015750324793,
          1.1366737065640298,
          0.20018527553765764,
          0.2042123536287555,
          -1.0756118862161772,
          0.8143163347496459,
          -1.252014538609369,
          0.6733080904317835,
          -0.48688831904411545,
          -0.23028457498088148,
          1.9164650989757752,
          0.04696896761610842,
          -0.18478364368208358,
          0.6562449701171231,
          0.970407885869781,
          0.5305986929009918,
          1.4513113578274168,
          -0.3966058987582575,
          -0.7543690817060114,
          -0.19486789883670178,
          -0.3710372637818589,
          1.6469037256148995,
          0.6649176182225256,
          1.4478534444262872,
          0.014408312854281256,
          -0.3051805260346321,
          -0.21018848007375243,
          -0.3905530081100771,
          -0.12450602429243515,
          2.0313701611809596,
          1.230245442258353,
          1.101503992277737,
          0.7190159022852662,
          1.2220747509649195,
          1.0544433483124593,
          1.2243129070919712,
          -1.2257988521518608,
          2.012474194307803,
          -2.2196512022802324,
          1.240136683313242,
          -0.2552959649056867,
          -0.805767928666894,
          1.0173382130401711,
          -0.205032689441431,
          0.948533066179219,
          -0.7681816201859842,
          0.18470324422208365,
          -1.1318009661745418,
          0.9932173025919385,
          0.8224097988300498,
          1.523893031642696,
          -0.6203463645126658,
          -0.02936686658955437,
          0.25822352747392713,
          0.8206167221288364,
          0.4955907866340889,
          -1.607998054022176,
          1.656886245540623,
          -0.28242404280303507,
          -0.053329563698971974,
          -2.2066591204599866,
          0.6330151286390073,
          -1.173645519287031,
          -0.8934444114391192,
          -1.2552486674952328,
          -1.2170900382830623,
          1.2869385915640499,
          -0.17230883936722877,
          0.7043037370227436
         ],
         "yaxis": "y15"
        },
        {
         "histfunc": "count",
         "histnorm": "",
         "marker": {
          "color": "rgba(128, 0, 128, 1.0)",
          "line": {
           "color": "#4D5663",
           "width": 1.3
          }
         },
         "name": "D",
         "nbinsx": 10,
         "opacity": 0.8,
         "orientation": "v",
         "type": "histogram",
         "x": [
          -1.2152851008211565,
          1.0962407727647794,
          0.2823908965066684,
          -0.6400684740103899,
          1.3903268293981896,
          -0.43630370787208284,
          1.6855131931434146,
          -0.9510958329218072,
          -0.6219085330422188,
          -0.9489707598641608,
          -0.698742389319351,
          -0.7742272368309635,
          -0.3410186360699531,
          -0.8397183898787279,
          0.7690901833270892,
          0.8840260416222037,
          -0.032686325892768694,
          -1.349531625789729,
          -0.7123989177524955,
          -0.04498944586512662,
          2.249757015409204,
          0.03491111501659019,
          -1.8688678320066794,
          -0.7707283779343044,
          1.0245726748841517,
          -0.6019804065389124,
          0.8900592546444966,
          -0.004287296778723674,
          0.8397354542570362,
          -0.8455151163471136,
          -1.1570187828662188,
          -0.8080015750324793,
          1.1366737065640298,
          0.20018527553765764,
          0.2042123536287555,
          -1.0756118862161772,
          0.8143163347496459,
          -1.252014538609369,
          0.6733080904317835,
          -0.48688831904411545,
          -0.23028457498088148,
          1.9164650989757752,
          0.04696896761610842,
          -0.18478364368208358,
          0.6562449701171231,
          0.970407885869781,
          0.5305986929009918,
          1.4513113578274168,
          -0.3966058987582575,
          -0.7543690817060114,
          -0.19486789883670178,
          -0.3710372637818589,
          1.6469037256148995,
          0.6649176182225256,
          1.4478534444262872,
          0.014408312854281256,
          -0.3051805260346321,
          -0.21018848007375243,
          -0.3905530081100771,
          -0.12450602429243515,
          2.0313701611809596,
          1.230245442258353,
          1.101503992277737,
          0.7190159022852662,
          1.2220747509649195,
          1.0544433483124593,
          1.2243129070919712,
          -1.2257988521518608,
          2.012474194307803,
          -2.2196512022802324,
          1.240136683313242,
          -0.2552959649056867,
          -0.805767928666894,
          1.0173382130401711,
          -0.205032689441431,
          0.948533066179219,
          -0.7681816201859842,
          0.18470324422208365,
          -1.1318009661745418,
          0.9932173025919385,
          0.8224097988300498,
          1.523893031642696,
          -0.6203463645126658,
          -0.02936686658955437,
          0.25822352747392713,
          0.8206167221288364,
          0.4955907866340889,
          -1.607998054022176,
          1.656886245540623,
          -0.28242404280303507,
          -0.053329563698971974,
          -2.2066591204599866,
          0.6330151286390073,
          -1.173645519287031,
          -0.8934444114391192,
          -1.2552486674952328,
          -1.2170900382830623,
          1.2869385915640499,
          -0.17230883936722877,
          0.7043037370227436
         ],
         "xaxis": "x16",
         "yaxis": "y16"
        }
       ],
       "layout": {
        "bargap": 0.02,
        "legend": {
         "bgcolor": "#F5F6F9",
         "font": {
          "color": "#4D5663"
         }
        },
        "paper_bgcolor": "#F5F6F9",
        "plot_bgcolor": "#F5F6F9",
        "showlegend": false,
        "template": {
         "data": {
          "bar": [
           {
            "error_x": {
             "color": "#2a3f5f"
            },
            "error_y": {
             "color": "#2a3f5f"
            },
            "marker": {
             "line": {
              "color": "#E5ECF6",
              "width": 0.5
             },
             "pattern": {
              "fillmode": "overlay",
              "size": 10,
              "solidity": 0.2
             }
            },
            "type": "bar"
           }
          ],
          "barpolar": [
           {
            "marker": {
             "line": {
              "color": "#E5ECF6",
              "width": 0.5
             },
             "pattern": {
              "fillmode": "overlay",
              "size": 10,
              "solidity": 0.2
             }
            },
            "type": "barpolar"
           }
          ],
          "carpet": [
           {
            "aaxis": {
             "endlinecolor": "#2a3f5f",
             "gridcolor": "white",
             "linecolor": "white",
             "minorgridcolor": "white",
             "startlinecolor": "#2a3f5f"
            },
            "baxis": {
             "endlinecolor": "#2a3f5f",
             "gridcolor": "white",
             "linecolor": "white",
             "minorgridcolor": "white",
             "startlinecolor": "#2a3f5f"
            },
            "type": "carpet"
           }
          ],
          "choropleth": [
           {
            "colorbar": {
             "outlinewidth": 0,
             "ticks": ""
            },
            "type": "choropleth"
           }
          ],
          "contour": [
           {
            "colorbar": {
             "outlinewidth": 0,
             "ticks": ""
            },
            "colorscale": [
             [
              0,
              "#0d0887"
             ],
             [
              0.1111111111111111,
              "#46039f"
             ],
             [
              0.2222222222222222,
              "#7201a8"
             ],
             [
              0.3333333333333333,
              "#9c179e"
             ],
             [
              0.4444444444444444,
              "#bd3786"
             ],
             [
              0.5555555555555556,
              "#d8576b"
             ],
             [
              0.6666666666666666,
              "#ed7953"
             ],
             [
              0.7777777777777778,
              "#fb9f3a"
             ],
             [
              0.8888888888888888,
              "#fdca26"
             ],
             [
              1,
              "#f0f921"
             ]
            ],
            "type": "contour"
           }
          ],
          "contourcarpet": [
           {
            "colorbar": {
             "outlinewidth": 0,
             "ticks": ""
            },
            "type": "contourcarpet"
           }
          ],
          "heatmap": [
           {
            "colorbar": {
             "outlinewidth": 0,
             "ticks": ""
            },
            "colorscale": [
             [
              0,
              "#0d0887"
             ],
             [
              0.1111111111111111,
              "#46039f"
             ],
             [
              0.2222222222222222,
              "#7201a8"
             ],
             [
              0.3333333333333333,
              "#9c179e"
             ],
             [
              0.4444444444444444,
              "#bd3786"
             ],
             [
              0.5555555555555556,
              "#d8576b"
             ],
             [
              0.6666666666666666,
              "#ed7953"
             ],
             [
              0.7777777777777778,
              "#fb9f3a"
             ],
             [
              0.8888888888888888,
              "#fdca26"
             ],
             [
              1,
              "#f0f921"
             ]
            ],
            "type": "heatmap"
           }
          ],
          "heatmapgl": [
           {
            "colorbar": {
             "outlinewidth": 0,
             "ticks": ""
            },
            "colorscale": [
             [
              0,
              "#0d0887"
             ],
             [
              0.1111111111111111,
              "#46039f"
             ],
             [
              0.2222222222222222,
              "#7201a8"
             ],
             [
              0.3333333333333333,
              "#9c179e"
             ],
             [
              0.4444444444444444,
              "#bd3786"
             ],
             [
              0.5555555555555556,
              "#d8576b"
             ],
             [
              0.6666666666666666,
              "#ed7953"
             ],
             [
              0.7777777777777778,
              "#fb9f3a"
             ],
             [
              0.8888888888888888,
              "#fdca26"
             ],
             [
              1,
              "#f0f921"
             ]
            ],
            "type": "heatmapgl"
           }
          ],
          "histogram": [
           {
            "marker": {
             "pattern": {
              "fillmode": "overlay",
              "size": 10,
              "solidity": 0.2
             }
            },
            "type": "histogram"
           }
          ],
          "histogram2d": [
           {
            "colorbar": {
             "outlinewidth": 0,
             "ticks": ""
            },
            "colorscale": [
             [
              0,
              "#0d0887"
             ],
             [
              0.1111111111111111,
              "#46039f"
             ],
             [
              0.2222222222222222,
              "#7201a8"
             ],
             [
              0.3333333333333333,
              "#9c179e"
             ],
             [
              0.4444444444444444,
              "#bd3786"
             ],
             [
              0.5555555555555556,
              "#d8576b"
             ],
             [
              0.6666666666666666,
              "#ed7953"
             ],
             [
              0.7777777777777778,
              "#fb9f3a"
             ],
             [
              0.8888888888888888,
              "#fdca26"
             ],
             [
              1,
              "#f0f921"
             ]
            ],
            "type": "histogram2d"
           }
          ],
          "histogram2dcontour": [
           {
            "colorbar": {
             "outlinewidth": 0,
             "ticks": ""
            },
            "colorscale": [
             [
              0,
              "#0d0887"
             ],
             [
              0.1111111111111111,
              "#46039f"
             ],
             [
              0.2222222222222222,
              "#7201a8"
             ],
             [
              0.3333333333333333,
              "#9c179e"
             ],
             [
              0.4444444444444444,
              "#bd3786"
             ],
             [
              0.5555555555555556,
              "#d8576b"
             ],
             [
              0.6666666666666666,
              "#ed7953"
             ],
             [
              0.7777777777777778,
              "#fb9f3a"
             ],
             [
              0.8888888888888888,
              "#fdca26"
             ],
             [
              1,
              "#f0f921"
             ]
            ],
            "type": "histogram2dcontour"
           }
          ],
          "mesh3d": [
           {
            "colorbar": {
             "outlinewidth": 0,
             "ticks": ""
            },
            "type": "mesh3d"
           }
          ],
          "parcoords": [
           {
            "line": {
             "colorbar": {
              "outlinewidth": 0,
              "ticks": ""
             }
            },
            "type": "parcoords"
           }
          ],
          "pie": [
           {
            "automargin": true,
            "type": "pie"
           }
          ],
          "scatter": [
           {
            "fillpattern": {
             "fillmode": "overlay",
             "size": 10,
             "solidity": 0.2
            },
            "type": "scatter"
           }
          ],
          "scatter3d": [
           {
            "line": {
             "colorbar": {
              "outlinewidth": 0,
              "ticks": ""
             }
            },
            "marker": {
             "colorbar": {
              "outlinewidth": 0,
              "ticks": ""
             }
            },
            "type": "scatter3d"
           }
          ],
          "scattercarpet": [
           {
            "marker": {
             "colorbar": {
              "outlinewidth": 0,
              "ticks": ""
             }
            },
            "type": "scattercarpet"
           }
          ],
          "scattergeo": [
           {
            "marker": {
             "colorbar": {
              "outlinewidth": 0,
              "ticks": ""
             }
            },
            "type": "scattergeo"
           }
          ],
          "scattergl": [
           {
            "marker": {
             "colorbar": {
              "outlinewidth": 0,
              "ticks": ""
             }
            },
            "type": "scattergl"
           }
          ],
          "scattermapbox": [
           {
            "marker": {
             "colorbar": {
              "outlinewidth": 0,
              "ticks": ""
             }
            },
            "type": "scattermapbox"
           }
          ],
          "scatterpolar": [
           {
            "marker": {
             "colorbar": {
              "outlinewidth": 0,
              "ticks": ""
             }
            },
            "type": "scatterpolar"
           }
          ],
          "scatterpolargl": [
           {
            "marker": {
             "colorbar": {
              "outlinewidth": 0,
              "ticks": ""
             }
            },
            "type": "scatterpolargl"
           }
          ],
          "scatterternary": [
           {
            "marker": {
             "colorbar": {
              "outlinewidth": 0,
              "ticks": ""
             }
            },
            "type": "scatterternary"
           }
          ],
          "surface": [
           {
            "colorbar": {
             "outlinewidth": 0,
             "ticks": ""
            },
            "colorscale": [
             [
              0,
              "#0d0887"
             ],
             [
              0.1111111111111111,
              "#46039f"
             ],
             [
              0.2222222222222222,
              "#7201a8"
             ],
             [
              0.3333333333333333,
              "#9c179e"
             ],
             [
              0.4444444444444444,
              "#bd3786"
             ],
             [
              0.5555555555555556,
              "#d8576b"
             ],
             [
              0.6666666666666666,
              "#ed7953"
             ],
             [
              0.7777777777777778,
              "#fb9f3a"
             ],
             [
              0.8888888888888888,
              "#fdca26"
             ],
             [
              1,
              "#f0f921"
             ]
            ],
            "type": "surface"
           }
          ],
          "table": [
           {
            "cells": {
             "fill": {
              "color": "#EBF0F8"
             },
             "line": {
              "color": "white"
             }
            },
            "header": {
             "fill": {
              "color": "#C8D4E3"
             },
             "line": {
              "color": "white"
             }
            },
            "type": "table"
           }
          ]
         },
         "layout": {
          "annotationdefaults": {
           "arrowcolor": "#2a3f5f",
           "arrowhead": 0,
           "arrowwidth": 1
          },
          "autotypenumbers": "strict",
          "coloraxis": {
           "colorbar": {
            "outlinewidth": 0,
            "ticks": ""
           }
          },
          "colorscale": {
           "diverging": [
            [
             0,
             "#8e0152"
            ],
            [
             0.1,
             "#c51b7d"
            ],
            [
             0.2,
             "#de77ae"
            ],
            [
             0.3,
             "#f1b6da"
            ],
            [
             0.4,
             "#fde0ef"
            ],
            [
             0.5,
             "#f7f7f7"
            ],
            [
             0.6,
             "#e6f5d0"
            ],
            [
             0.7,
             "#b8e186"
            ],
            [
             0.8,
             "#7fbc41"
            ],
            [
             0.9,
             "#4d9221"
            ],
            [
             1,
             "#276419"
            ]
           ],
           "sequential": [
            [
             0,
             "#0d0887"
            ],
            [
             0.1111111111111111,
             "#46039f"
            ],
            [
             0.2222222222222222,
             "#7201a8"
            ],
            [
             0.3333333333333333,
             "#9c179e"
            ],
            [
             0.4444444444444444,
             "#bd3786"
            ],
            [
             0.5555555555555556,
             "#d8576b"
            ],
            [
             0.6666666666666666,
             "#ed7953"
            ],
            [
             0.7777777777777778,
             "#fb9f3a"
            ],
            [
             0.8888888888888888,
             "#fdca26"
            ],
            [
             1,
             "#f0f921"
            ]
           ],
           "sequentialminus": [
            [
             0,
             "#0d0887"
            ],
            [
             0.1111111111111111,
             "#46039f"
            ],
            [
             0.2222222222222222,
             "#7201a8"
            ],
            [
             0.3333333333333333,
             "#9c179e"
            ],
            [
             0.4444444444444444,
             "#bd3786"
            ],
            [
             0.5555555555555556,
             "#d8576b"
            ],
            [
             0.6666666666666666,
             "#ed7953"
            ],
            [
             0.7777777777777778,
             "#fb9f3a"
            ],
            [
             0.8888888888888888,
             "#fdca26"
            ],
            [
             1,
             "#f0f921"
            ]
           ]
          },
          "colorway": [
           "#636efa",
           "#EF553B",
           "#00cc96",
           "#ab63fa",
           "#FFA15A",
           "#19d3f3",
           "#FF6692",
           "#B6E880",
           "#FF97FF",
           "#FECB52"
          ],
          "font": {
           "color": "#2a3f5f"
          },
          "geo": {
           "bgcolor": "white",
           "lakecolor": "white",
           "landcolor": "#E5ECF6",
           "showlakes": true,
           "showland": true,
           "subunitcolor": "white"
          },
          "hoverlabel": {
           "align": "left"
          },
          "hovermode": "closest",
          "mapbox": {
           "style": "light"
          },
          "paper_bgcolor": "white",
          "plot_bgcolor": "#E5ECF6",
          "polar": {
           "angularaxis": {
            "gridcolor": "white",
            "linecolor": "white",
            "ticks": ""
           },
           "bgcolor": "#E5ECF6",
           "radialaxis": {
            "gridcolor": "white",
            "linecolor": "white",
            "ticks": ""
           }
          },
          "scene": {
           "xaxis": {
            "backgroundcolor": "#E5ECF6",
            "gridcolor": "white",
            "gridwidth": 2,
            "linecolor": "white",
            "showbackground": true,
            "ticks": "",
            "zerolinecolor": "white"
           },
           "yaxis": {
            "backgroundcolor": "#E5ECF6",
            "gridcolor": "white",
            "gridwidth": 2,
            "linecolor": "white",
            "showbackground": true,
            "ticks": "",
            "zerolinecolor": "white"
           },
           "zaxis": {
            "backgroundcolor": "#E5ECF6",
            "gridcolor": "white",
            "gridwidth": 2,
            "linecolor": "white",
            "showbackground": true,
            "ticks": "",
            "zerolinecolor": "white"
           }
          },
          "shapedefaults": {
           "line": {
            "color": "#2a3f5f"
           }
          },
          "ternary": {
           "aaxis": {
            "gridcolor": "white",
            "linecolor": "white",
            "ticks": ""
           },
           "baxis": {
            "gridcolor": "white",
            "linecolor": "white",
            "ticks": ""
           },
           "bgcolor": "#E5ECF6",
           "caxis": {
            "gridcolor": "white",
            "linecolor": "white",
            "ticks": ""
           }
          },
          "title": {
           "x": 0.05
          },
          "xaxis": {
           "automargin": true,
           "gridcolor": "white",
           "linecolor": "white",
           "ticks": "",
           "title": {
            "standoff": 15
           },
           "zerolinecolor": "white",
           "zerolinewidth": 2
          },
          "yaxis": {
           "automargin": true,
           "gridcolor": "white",
           "linecolor": "white",
           "ticks": "",
           "title": {
            "standoff": 15
           },
           "zerolinecolor": "white",
           "zerolinewidth": 2
          }
         }
        },
        "title": {
         "font": {
          "color": "#4D5663"
         }
        },
        "xaxis": {
         "anchor": "y",
         "domain": [
          0,
          0.2125
         ],
         "gridcolor": "#E1E5ED",
         "showgrid": false,
         "tickfont": {
          "color": "#4D5663"
         },
         "title": {
          "font": {
           "color": "#4D5663"
          },
          "text": ""
         },
         "zerolinecolor": "#E1E5ED"
        },
        "xaxis10": {
         "anchor": "y10",
         "domain": [
          0.2625,
          0.475
         ],
         "gridcolor": "#E1E5ED",
         "showgrid": false,
         "tickfont": {
          "color": "#4D5663"
         },
         "title": {
          "font": {
           "color": "#4D5663"
          },
          "text": ""
         },
         "zerolinecolor": "#E1E5ED"
        },
        "xaxis11": {
         "anchor": "y11",
         "domain": [
          0.525,
          0.7375
         ],
         "gridcolor": "#E1E5ED",
         "showgrid": false,
         "tickfont": {
          "color": "#4D5663"
         },
         "title": {
          "font": {
           "color": "#4D5663"
          },
          "text": ""
         },
         "zerolinecolor": "#E1E5ED"
        },
        "xaxis12": {
         "anchor": "y12",
         "domain": [
          0.7875,
          1
         ],
         "gridcolor": "#E1E5ED",
         "showgrid": false,
         "tickfont": {
          "color": "#4D5663"
         },
         "title": {
          "font": {
           "color": "#4D5663"
          },
          "text": ""
         },
         "zerolinecolor": "#E1E5ED"
        },
        "xaxis13": {
         "anchor": "y13",
         "domain": [
          0,
          0.2125
         ],
         "gridcolor": "#E1E5ED",
         "showgrid": false,
         "tickfont": {
          "color": "#4D5663"
         },
         "title": {
          "font": {
           "color": "#4D5663"
          },
          "text": ""
         },
         "zerolinecolor": "#E1E5ED"
        },
        "xaxis14": {
         "anchor": "y14",
         "domain": [
          0.2625,
          0.475
         ],
         "gridcolor": "#E1E5ED",
         "showgrid": false,
         "tickfont": {
          "color": "#4D5663"
         },
         "title": {
          "font": {
           "color": "#4D5663"
          },
          "text": ""
         },
         "zerolinecolor": "#E1E5ED"
        },
        "xaxis15": {
         "anchor": "y15",
         "domain": [
          0.525,
          0.7375
         ],
         "gridcolor": "#E1E5ED",
         "showgrid": false,
         "tickfont": {
          "color": "#4D5663"
         },
         "title": {
          "font": {
           "color": "#4D5663"
          },
          "text": ""
         },
         "zerolinecolor": "#E1E5ED"
        },
        "xaxis16": {
         "anchor": "y16",
         "domain": [
          0.7875,
          1
         ],
         "gridcolor": "#E1E5ED",
         "showgrid": false,
         "tickfont": {
          "color": "#4D5663"
         },
         "title": {
          "font": {
           "color": "#4D5663"
          },
          "text": ""
         },
         "zerolinecolor": "#E1E5ED"
        },
        "xaxis2": {
         "anchor": "y2",
         "domain": [
          0.2625,
          0.475
         ],
         "gridcolor": "#E1E5ED",
         "showgrid": false,
         "tickfont": {
          "color": "#4D5663"
         },
         "title": {
          "font": {
           "color": "#4D5663"
          },
          "text": ""
         },
         "zerolinecolor": "#E1E5ED"
        },
        "xaxis3": {
         "anchor": "y3",
         "domain": [
          0.525,
          0.7375
         ],
         "gridcolor": "#E1E5ED",
         "showgrid": false,
         "tickfont": {
          "color": "#4D5663"
         },
         "title": {
          "font": {
           "color": "#4D5663"
          },
          "text": ""
         },
         "zerolinecolor": "#E1E5ED"
        },
        "xaxis4": {
         "anchor": "y4",
         "domain": [
          0.7875,
          1
         ],
         "gridcolor": "#E1E5ED",
         "showgrid": false,
         "tickfont": {
          "color": "#4D5663"
         },
         "title": {
          "font": {
           "color": "#4D5663"
          },
          "text": ""
         },
         "zerolinecolor": "#E1E5ED"
        },
        "xaxis5": {
         "anchor": "y5",
         "domain": [
          0,
          0.2125
         ],
         "gridcolor": "#E1E5ED",
         "showgrid": false,
         "tickfont": {
          "color": "#4D5663"
         },
         "title": {
          "font": {
           "color": "#4D5663"
          },
          "text": ""
         },
         "zerolinecolor": "#E1E5ED"
        },
        "xaxis6": {
         "anchor": "y6",
         "domain": [
          0.2625,
          0.475
         ],
         "gridcolor": "#E1E5ED",
         "showgrid": false,
         "tickfont": {
          "color": "#4D5663"
         },
         "title": {
          "font": {
           "color": "#4D5663"
          },
          "text": ""
         },
         "zerolinecolor": "#E1E5ED"
        },
        "xaxis7": {
         "anchor": "y7",
         "domain": [
          0.525,
          0.7375
         ],
         "gridcolor": "#E1E5ED",
         "showgrid": false,
         "tickfont": {
          "color": "#4D5663"
         },
         "title": {
          "font": {
           "color": "#4D5663"
          },
          "text": ""
         },
         "zerolinecolor": "#E1E5ED"
        },
        "xaxis8": {
         "anchor": "y8",
         "domain": [
          0.7875,
          1
         ],
         "gridcolor": "#E1E5ED",
         "showgrid": false,
         "tickfont": {
          "color": "#4D5663"
         },
         "title": {
          "font": {
           "color": "#4D5663"
          },
          "text": ""
         },
         "zerolinecolor": "#E1E5ED"
        },
        "xaxis9": {
         "anchor": "y9",
         "domain": [
          0,
          0.2125
         ],
         "gridcolor": "#E1E5ED",
         "showgrid": false,
         "tickfont": {
          "color": "#4D5663"
         },
         "title": {
          "font": {
           "color": "#4D5663"
          },
          "text": ""
         },
         "zerolinecolor": "#E1E5ED"
        },
        "yaxis": {
         "anchor": "x",
         "domain": [
          0.8025,
          1
         ],
         "gridcolor": "#E1E5ED",
         "showgrid": false,
         "tickfont": {
          "color": "#4D5663"
         },
         "title": {
          "font": {
           "color": "#4D5663"
          },
          "text": ""
         },
         "zerolinecolor": "#E1E5ED"
        },
        "yaxis10": {
         "anchor": "x10",
         "domain": [
          0.2675,
          0.465
         ],
         "gridcolor": "#E1E5ED",
         "showgrid": false,
         "tickfont": {
          "color": "#4D5663"
         },
         "title": {
          "font": {
           "color": "#4D5663"
          },
          "text": ""
         },
         "zerolinecolor": "#E1E5ED"
        },
        "yaxis11": {
         "anchor": "x11",
         "domain": [
          0.2675,
          0.465
         ],
         "gridcolor": "#E1E5ED",
         "showgrid": false,
         "tickfont": {
          "color": "#4D5663"
         },
         "title": {
          "font": {
           "color": "#4D5663"
          },
          "text": ""
         },
         "zerolinecolor": "#E1E5ED"
        },
        "yaxis12": {
         "anchor": "x12",
         "domain": [
          0.2675,
          0.465
         ],
         "gridcolor": "#E1E5ED",
         "showgrid": false,
         "tickfont": {
          "color": "#4D5663"
         },
         "title": {
          "font": {
           "color": "#4D5663"
          },
          "text": ""
         },
         "zerolinecolor": "#E1E5ED"
        },
        "yaxis13": {
         "anchor": "x13",
         "domain": [
          0,
          0.1975
         ],
         "gridcolor": "#E1E5ED",
         "showgrid": false,
         "tickfont": {
          "color": "#4D5663"
         },
         "title": {
          "font": {
           "color": "#4D5663"
          },
          "text": ""
         },
         "zerolinecolor": "#E1E5ED"
        },
        "yaxis14": {
         "anchor": "x14",
         "domain": [
          0,
          0.1975
         ],
         "gridcolor": "#E1E5ED",
         "showgrid": false,
         "tickfont": {
          "color": "#4D5663"
         },
         "title": {
          "font": {
           "color": "#4D5663"
          },
          "text": ""
         },
         "zerolinecolor": "#E1E5ED"
        },
        "yaxis15": {
         "anchor": "x15",
         "domain": [
          0,
          0.1975
         ],
         "gridcolor": "#E1E5ED",
         "showgrid": false,
         "tickfont": {
          "color": "#4D5663"
         },
         "title": {
          "font": {
           "color": "#4D5663"
          },
          "text": ""
         },
         "zerolinecolor": "#E1E5ED"
        },
        "yaxis16": {
         "anchor": "x16",
         "domain": [
          0,
          0.1975
         ],
         "gridcolor": "#E1E5ED",
         "showgrid": false,
         "tickfont": {
          "color": "#4D5663"
         },
         "title": {
          "font": {
           "color": "#4D5663"
          },
          "text": ""
         },
         "zerolinecolor": "#E1E5ED"
        },
        "yaxis2": {
         "anchor": "x2",
         "domain": [
          0.8025,
          1
         ],
         "gridcolor": "#E1E5ED",
         "showgrid": false,
         "tickfont": {
          "color": "#4D5663"
         },
         "title": {
          "font": {
           "color": "#4D5663"
          },
          "text": ""
         },
         "zerolinecolor": "#E1E5ED"
        },
        "yaxis3": {
         "anchor": "x3",
         "domain": [
          0.8025,
          1
         ],
         "gridcolor": "#E1E5ED",
         "showgrid": false,
         "tickfont": {
          "color": "#4D5663"
         },
         "title": {
          "font": {
           "color": "#4D5663"
          },
          "text": ""
         },
         "zerolinecolor": "#E1E5ED"
        },
        "yaxis4": {
         "anchor": "x4",
         "domain": [
          0.8025,
          1
         ],
         "gridcolor": "#E1E5ED",
         "showgrid": false,
         "tickfont": {
          "color": "#4D5663"
         },
         "title": {
          "font": {
           "color": "#4D5663"
          },
          "text": ""
         },
         "zerolinecolor": "#E1E5ED"
        },
        "yaxis5": {
         "anchor": "x5",
         "domain": [
          0.535,
          0.7325
         ],
         "gridcolor": "#E1E5ED",
         "showgrid": false,
         "tickfont": {
          "color": "#4D5663"
         },
         "title": {
          "font": {
           "color": "#4D5663"
          },
          "text": ""
         },
         "zerolinecolor": "#E1E5ED"
        },
        "yaxis6": {
         "anchor": "x6",
         "domain": [
          0.535,
          0.7325
         ],
         "gridcolor": "#E1E5ED",
         "showgrid": false,
         "tickfont": {
          "color": "#4D5663"
         },
         "title": {
          "font": {
           "color": "#4D5663"
          },
          "text": ""
         },
         "zerolinecolor": "#E1E5ED"
        },
        "yaxis7": {
         "anchor": "x7",
         "domain": [
          0.535,
          0.7325
         ],
         "gridcolor": "#E1E5ED",
         "showgrid": false,
         "tickfont": {
          "color": "#4D5663"
         },
         "title": {
          "font": {
           "color": "#4D5663"
          },
          "text": ""
         },
         "zerolinecolor": "#E1E5ED"
        },
        "yaxis8": {
         "anchor": "x8",
         "domain": [
          0.535,
          0.7325
         ],
         "gridcolor": "#E1E5ED",
         "showgrid": false,
         "tickfont": {
          "color": "#4D5663"
         },
         "title": {
          "font": {
           "color": "#4D5663"
          },
          "text": ""
         },
         "zerolinecolor": "#E1E5ED"
        },
        "yaxis9": {
         "anchor": "x9",
         "domain": [
          0.2675,
          0.465
         ],
         "gridcolor": "#E1E5ED",
         "showgrid": false,
         "tickfont": {
          "color": "#4D5663"
         },
         "title": {
          "font": {
           "color": "#4D5663"
          },
          "text": ""
         },
         "zerolinecolor": "#E1E5ED"
        }
       }
      },
      "text/html": [
       "<div>                            <div id=\"8d656c45-fdf7-4d79-9aeb-5efafc3ac80d\" class=\"plotly-graph-div\" style=\"height:525px; width:100%;\"></div>            <script type=\"text/javascript\">                require([\"plotly\"], function(Plotly) {                    window.PLOTLYENV=window.PLOTLYENV || {};\n",
       "                    window.PLOTLYENV.BASE_URL='https://plot.ly';                                    if (document.getElementById(\"8d656c45-fdf7-4d79-9aeb-5efafc3ac80d\")) {                    Plotly.newPlot(                        \"8d656c45-fdf7-4d79-9aeb-5efafc3ac80d\",                        [{\"histfunc\":\"count\",\"histnorm\":\"\",\"marker\":{\"color\":\"rgba(255, 153, 51, 1.0)\",\"line\":{\"color\":\"#4D5663\",\"width\":1.3}},\"name\":\"A\",\"nbinsx\":10,\"opacity\":0.8,\"orientation\":\"v\",\"x\":[0.33567605600194994,-0.8109873503861798,-2.6316756978724447,0.5776275311286065,-0.22530496487367777,0.8097460374131469,-0.5115338215552406,-0.4590997186416238,-0.298577056088914,-0.28541368761683306,-0.5472911448565846,0.3027742133920709,0.8902345216571652,-0.9239113525121986,0.9416625216245742,-0.18066450525113226,-2.0881969759280192,0.47500151093148335,-1.2731709071783763,1.230559710728227,-0.1605185431067916,0.6015686401189955,1.0663771004856937,0.4339044154824729,0.42688970128877163,0.7278870362259178,-0.6948804563250303,-0.05374882813326524,-1.6336690547739716,-0.88579686362121,-0.9542553464180343,-0.5644192605571883,1.0782994643519894,0.49503871747449035,0.5343533913205508,1.447396904689215,0.804473836069314,0.3481074903159142,-0.2505714270670016,-0.9029133179431246,0.2940895274251988,0.14540457070201546,-0.10762877600905554,0.3053893258733171,0.598940030645167,0.7820125036292656,-0.8966714305533445,1.6606846244283409,0.5727604798690485,1.6231494486869715,-0.8105612809550491,-0.3923264306412344,-0.04246774635108637,-0.059903525664294535,-0.5311755088064984,-0.23453465907896814,-2.0232349749481413,-0.475191922450835,-0.40907645810611803,-0.1339567374388445,-2.7697162720257404,-1.358394353131801,-0.08178397964309239,0.7753013039142149,0.5360340367280473,0.2533268706667387,0.5625348411215483,0.31576535434829717,-1.206120024494666,0.048844511971718504,1.120232843572727,0.21992570366912945,-0.21448152530239026,-1.908920438887307,0.9638465930685435,0.7935170953105968,0.8460362189297203,0.8793126804341501,-0.3120587028701596,0.9023335833858086,-1.2657523325157283,1.268781693218166,-0.05215591066790494,0.6968094280163797,-1.189618503274249,1.8258605748682426,-1.6072554233354683,0.0468494169654665,0.6188673797537998,-0.35377270836903085,0.7879111619926648,1.0992184325469223,-0.3551296686529979,0.9551820492099591,-1.9799928033362035,-1.4876434001811865,1.258773185930191,0.06426248988592512,-0.27308672608175666,2.3920188360109895],\"xaxis\":\"x\",\"yaxis\":\"y\",\"type\":\"histogram\"},{\"line\":{\"color\":\"rgba(128, 128, 128, 1.0)\",\"dash\":\"solid\",\"shape\":\"linear\",\"width\":1.3},\"marker\":{\"size\":2,\"symbol\":\"circle\"},\"mode\":\"markers\",\"name\":\"A\",\"text\":\"\",\"x\":[-0.5174427882896812,2.6003500721367523,-0.398272656123329,1.0507472535838591,0.8484275564204568,0.34558531549137267,-0.7251750770576902,0.21203195288143903,1.0247005880785944,-0.41853128884587465,-0.5792595251450603,-0.23468009328856468,-0.37024797574697754,-1.6223191538820032,0.15822171939306529,0.7577979333440427,1.3104606801852252,0.354980393666831,1.0120449798349127,-1.3830630529587908,-0.7625692342748789,-0.031060772043171623,0.5876748574760096,-0.743381893549244,-0.07429448923367035,-1.2004104644731826,-0.24151882697923244,-2.320503904382237,-0.24087115581766094,-0.6987973244103791,-1.529215465871502,-0.4634558897134851,-0.517397324567097,-1.8826290407376154,-0.31550730650325126,-1.2810841938510928,-0.8165122345800369,0.010350999435031857,0.6307697461985253,0.6349949735690572,-1.3556578317900443,-0.07291038369075702,1.8848957700591833,-0.05777255081355184,0.6305221253983728,-0.977814856382125,1.2690335969192925,-0.5369021582866585,0.722476421578678,-0.6211934196164647,-0.3681602983448335,0.9156272215217325,-0.7906496269252035,1.245402244792277,-0.8609902609396055,1.5565591336143088,2.2655015589706453,-0.559343883766819,0.6072014775791178,0.18524797697217793,-0.5927180845146982,-0.4885482202160909,-0.2893087340183615,-0.09883201903432087,-0.5075521083179926,-0.021700889479004296,-1.305263590768384,-2.475515689150806,0.7843295779319387,-1.2032159148318333,1.9693577778767357,1.2238146565172854,1.1218344358044634,0.6674877264904224,1.2987751223433057,0.8637612322891047,0.7141219494868857,-0.5771529440751496,-1.2094988170327658,-0.30680557397477326,-1.5553797829605431,-1.7642989796422124,0.2592547356714931,2.168363029888972,0.030842989528504984,-1.6804497353868382,0.2818989496594489,-1.4778125028049618,-0.19193682085594233,0.6545811208782711,-0.6105512277782915,-0.5515806204315961,0.6817777225025149,-3.5935123694260622,-0.7399182083758457,0.17627441095701263,0.5453205448981414,-1.5226575299689897,-0.08078954284580486,-0.2065928315307047],\"xaxis\":\"x2\",\"y\":[0.33567605600194994,-0.8109873503861798,-2.6316756978724447,0.5776275311286065,-0.22530496487367777,0.8097460374131469,-0.5115338215552406,-0.4590997186416238,-0.298577056088914,-0.28541368761683306,-0.5472911448565846,0.3027742133920709,0.8902345216571652,-0.9239113525121986,0.9416625216245742,-0.18066450525113226,-2.0881969759280192,0.47500151093148335,-1.2731709071783763,1.230559710728227,-0.1605185431067916,0.6015686401189955,1.0663771004856937,0.4339044154824729,0.42688970128877163,0.7278870362259178,-0.6948804563250303,-0.05374882813326524,-1.6336690547739716,-0.88579686362121,-0.9542553464180343,-0.5644192605571883,1.0782994643519894,0.49503871747449035,0.5343533913205508,1.447396904689215,0.804473836069314,0.3481074903159142,-0.2505714270670016,-0.9029133179431246,0.2940895274251988,0.14540457070201546,-0.10762877600905554,0.3053893258733171,0.598940030645167,0.7820125036292656,-0.8966714305533445,1.6606846244283409,0.5727604798690485,1.6231494486869715,-0.8105612809550491,-0.3923264306412344,-0.04246774635108637,-0.059903525664294535,-0.5311755088064984,-0.23453465907896814,-2.0232349749481413,-0.475191922450835,-0.40907645810611803,-0.1339567374388445,-2.7697162720257404,-1.358394353131801,-0.08178397964309239,0.7753013039142149,0.5360340367280473,0.2533268706667387,0.5625348411215483,0.31576535434829717,-1.206120024494666,0.048844511971718504,1.120232843572727,0.21992570366912945,-0.21448152530239026,-1.908920438887307,0.9638465930685435,0.7935170953105968,0.8460362189297203,0.8793126804341501,-0.3120587028701596,0.9023335833858086,-1.2657523325157283,1.268781693218166,-0.05215591066790494,0.6968094280163797,-1.189618503274249,1.8258605748682426,-1.6072554233354683,0.0468494169654665,0.6188673797537998,-0.35377270836903085,0.7879111619926648,1.0992184325469223,-0.3551296686529979,0.9551820492099591,-1.9799928033362035,-1.4876434001811865,1.258773185930191,0.06426248988592512,-0.27308672608175666,2.3920188360109895],\"yaxis\":\"y2\",\"type\":\"scatter\"},{\"line\":{\"color\":\"rgba(128, 128, 128, 1.0)\",\"dash\":\"solid\",\"shape\":\"linear\",\"width\":1.3},\"marker\":{\"size\":2,\"symbol\":\"circle\"},\"mode\":\"markers\",\"name\":\"A\",\"text\":\"\",\"x\":[-0.1273731034144319,0.8034179756806943,-1.2962268513591653,1.6171909704679153,-0.1913518478400872,-0.24719348349434403,-0.2575053212468563,0.5361937874809402,-0.34299576177883084,-0.422061097231771,0.3075629011819519,-0.05769047720344889,0.9375230337933363,0.42134994381321567,1.645771436901701,0.15570179343022572,-0.035488120203908034,-1.111127717248961,1.7488295852063047,-0.47725913826796484,-0.8951657268028664,1.040873912756864,0.6889517936390033,-0.6254565490192873,0.056607400359586675,-1.3344126648432137,0.5310244992109355,-0.4026060645353525,-1.0112905888470805,0.20254588806340293,-0.9398128398987691,0.29030816143088617,0.16960740519693995,-0.33546214813743086,-0.6318648534740554,-1.2603199668632525,-1.0584187303336114,-0.6584419154679033,-0.7761830707174558,0.18356733446499296,-0.6057873440205137,-0.38084706376348565,-0.055308437607390355,0.08121281945616167,0.7809925917005588,0.6784590127680238,-0.38320706289779743,-0.3812362488829061,-0.6858059697491599,0.420085435333433,-0.39589726553536614,-0.19222354626648713,-0.08390596200550164,0.7972359303415871,-0.6324179402608489,0.1421195234625367,0.057195156546059195,-0.314341651685965,0.9736859634741865,-2.9788993036423044,-0.6845441151492541,-0.5576943489797075,-1.3516323922134519,-0.9709362653080871,1.365256366153465,0.718956349712268,1.7339131565957542,-1.067851815371018,2.281657356242972,-1.007744798463298,-0.46677493557946326,-1.8191960234718,0.6336433726417379,-0.40964073312347576,-0.4470642019493151,1.0112267153589807,-0.26318140097456244,-1.7523284028838095,-1.397493698943379,0.4235660701861368,0.1259307601550791,2.1980836331430025,-0.3342919828009481,-0.26164888590349483,0.20436642301007998,-0.1777398559179107,0.10999343897028462,0.668650044421462,0.324701718534536,0.8905536096097691,0.4920584619743266,1.3408738529546866,0.13752194313626281,0.8088909918748413,1.2113437911270513,0.4249118524186255,0.30084655728003756,-0.7350581437557522,-1.9848828439828112,-0.1861666450404373],\"xaxis\":\"x3\",\"y\":[0.33567605600194994,-0.8109873503861798,-2.6316756978724447,0.5776275311286065,-0.22530496487367777,0.8097460374131469,-0.5115338215552406,-0.4590997186416238,-0.298577056088914,-0.28541368761683306,-0.5472911448565846,0.3027742133920709,0.8902345216571652,-0.9239113525121986,0.9416625216245742,-0.18066450525113226,-2.0881969759280192,0.47500151093148335,-1.2731709071783763,1.230559710728227,-0.1605185431067916,0.6015686401189955,1.0663771004856937,0.4339044154824729,0.42688970128877163,0.7278870362259178,-0.6948804563250303,-0.05374882813326524,-1.6336690547739716,-0.88579686362121,-0.9542553464180343,-0.5644192605571883,1.0782994643519894,0.49503871747449035,0.5343533913205508,1.447396904689215,0.804473836069314,0.3481074903159142,-0.2505714270670016,-0.9029133179431246,0.2940895274251988,0.14540457070201546,-0.10762877600905554,0.3053893258733171,0.598940030645167,0.7820125036292656,-0.8966714305533445,1.6606846244283409,0.5727604798690485,1.6231494486869715,-0.8105612809550491,-0.3923264306412344,-0.04246774635108637,-0.059903525664294535,-0.5311755088064984,-0.23453465907896814,-2.0232349749481413,-0.475191922450835,-0.40907645810611803,-0.1339567374388445,-2.7697162720257404,-1.358394353131801,-0.08178397964309239,0.7753013039142149,0.5360340367280473,0.2533268706667387,0.5625348411215483,0.31576535434829717,-1.206120024494666,0.048844511971718504,1.120232843572727,0.21992570366912945,-0.21448152530239026,-1.908920438887307,0.9638465930685435,0.7935170953105968,0.8460362189297203,0.8793126804341501,-0.3120587028701596,0.9023335833858086,-1.2657523325157283,1.268781693218166,-0.05215591066790494,0.6968094280163797,-1.189618503274249,1.8258605748682426,-1.6072554233354683,0.0468494169654665,0.6188673797537998,-0.35377270836903085,0.7879111619926648,1.0992184325469223,-0.3551296686529979,0.9551820492099591,-1.9799928033362035,-1.4876434001811865,1.258773185930191,0.06426248988592512,-0.27308672608175666,2.3920188360109895],\"yaxis\":\"y3\",\"type\":\"scatter\"},{\"line\":{\"color\":\"rgba(128, 128, 128, 1.0)\",\"dash\":\"solid\",\"shape\":\"linear\",\"width\":1.3},\"marker\":{\"size\":2,\"symbol\":\"circle\"},\"mode\":\"markers\",\"name\":\"A\",\"text\":\"\",\"x\":[-1.2152851008211565,1.0962407727647794,0.2823908965066684,-0.6400684740103899,1.3903268293981896,-0.43630370787208284,1.6855131931434146,-0.9510958329218072,-0.6219085330422188,-0.9489707598641608,-0.698742389319351,-0.7742272368309635,-0.3410186360699531,-0.8397183898787279,0.7690901833270892,0.8840260416222037,-0.032686325892768694,-1.349531625789729,-0.7123989177524955,-0.04498944586512662,2.249757015409204,0.03491111501659019,-1.8688678320066794,-0.7707283779343044,1.0245726748841517,-0.6019804065389124,0.8900592546444966,-0.004287296778723674,0.8397354542570362,-0.8455151163471136,-1.1570187828662188,-0.8080015750324793,1.1366737065640298,0.20018527553765764,0.2042123536287555,-1.0756118862161772,0.8143163347496459,-1.252014538609369,0.6733080904317835,-0.48688831904411545,-0.23028457498088148,1.9164650989757752,0.04696896761610842,-0.18478364368208358,0.6562449701171231,0.970407885869781,0.5305986929009918,1.4513113578274168,-0.3966058987582575,-0.7543690817060114,-0.19486789883670178,-0.3710372637818589,1.6469037256148995,0.6649176182225256,1.4478534444262872,0.014408312854281256,-0.3051805260346321,-0.21018848007375243,-0.3905530081100771,-0.12450602429243515,2.0313701611809596,1.230245442258353,1.101503992277737,0.7190159022852662,1.2220747509649195,1.0544433483124593,1.2243129070919712,-1.2257988521518608,2.012474194307803,-2.2196512022802324,1.240136683313242,-0.2552959649056867,-0.805767928666894,1.0173382130401711,-0.205032689441431,0.948533066179219,-0.7681816201859842,0.18470324422208365,-1.1318009661745418,0.9932173025919385,0.8224097988300498,1.523893031642696,-0.6203463645126658,-0.02936686658955437,0.25822352747392713,0.8206167221288364,0.4955907866340889,-1.607998054022176,1.656886245540623,-0.28242404280303507,-0.053329563698971974,-2.2066591204599866,0.6330151286390073,-1.173645519287031,-0.8934444114391192,-1.2552486674952328,-1.2170900382830623,1.2869385915640499,-0.17230883936722877,0.7043037370227436],\"xaxis\":\"x4\",\"y\":[0.33567605600194994,-0.8109873503861798,-2.6316756978724447,0.5776275311286065,-0.22530496487367777,0.8097460374131469,-0.5115338215552406,-0.4590997186416238,-0.298577056088914,-0.28541368761683306,-0.5472911448565846,0.3027742133920709,0.8902345216571652,-0.9239113525121986,0.9416625216245742,-0.18066450525113226,-2.0881969759280192,0.47500151093148335,-1.2731709071783763,1.230559710728227,-0.1605185431067916,0.6015686401189955,1.0663771004856937,0.4339044154824729,0.42688970128877163,0.7278870362259178,-0.6948804563250303,-0.05374882813326524,-1.6336690547739716,-0.88579686362121,-0.9542553464180343,-0.5644192605571883,1.0782994643519894,0.49503871747449035,0.5343533913205508,1.447396904689215,0.804473836069314,0.3481074903159142,-0.2505714270670016,-0.9029133179431246,0.2940895274251988,0.14540457070201546,-0.10762877600905554,0.3053893258733171,0.598940030645167,0.7820125036292656,-0.8966714305533445,1.6606846244283409,0.5727604798690485,1.6231494486869715,-0.8105612809550491,-0.3923264306412344,-0.04246774635108637,-0.059903525664294535,-0.5311755088064984,-0.23453465907896814,-2.0232349749481413,-0.475191922450835,-0.40907645810611803,-0.1339567374388445,-2.7697162720257404,-1.358394353131801,-0.08178397964309239,0.7753013039142149,0.5360340367280473,0.2533268706667387,0.5625348411215483,0.31576535434829717,-1.206120024494666,0.048844511971718504,1.120232843572727,0.21992570366912945,-0.21448152530239026,-1.908920438887307,0.9638465930685435,0.7935170953105968,0.8460362189297203,0.8793126804341501,-0.3120587028701596,0.9023335833858086,-1.2657523325157283,1.268781693218166,-0.05215591066790494,0.6968094280163797,-1.189618503274249,1.8258605748682426,-1.6072554233354683,0.0468494169654665,0.6188673797537998,-0.35377270836903085,0.7879111619926648,1.0992184325469223,-0.3551296686529979,0.9551820492099591,-1.9799928033362035,-1.4876434001811865,1.258773185930191,0.06426248988592512,-0.27308672608175666,2.3920188360109895],\"yaxis\":\"y4\",\"type\":\"scatter\"},{\"line\":{\"color\":\"rgba(128, 128, 128, 1.0)\",\"dash\":\"solid\",\"shape\":\"linear\",\"width\":1.3},\"marker\":{\"size\":2,\"symbol\":\"circle\"},\"mode\":\"markers\",\"name\":\"B\",\"text\":\"\",\"x\":[0.33567605600194994,-0.8109873503861798,-2.6316756978724447,0.5776275311286065,-0.22530496487367777,0.8097460374131469,-0.5115338215552406,-0.4590997186416238,-0.298577056088914,-0.28541368761683306,-0.5472911448565846,0.3027742133920709,0.8902345216571652,-0.9239113525121986,0.9416625216245742,-0.18066450525113226,-2.0881969759280192,0.47500151093148335,-1.2731709071783763,1.230559710728227,-0.1605185431067916,0.6015686401189955,1.0663771004856937,0.4339044154824729,0.42688970128877163,0.7278870362259178,-0.6948804563250303,-0.05374882813326524,-1.6336690547739716,-0.88579686362121,-0.9542553464180343,-0.5644192605571883,1.0782994643519894,0.49503871747449035,0.5343533913205508,1.447396904689215,0.804473836069314,0.3481074903159142,-0.2505714270670016,-0.9029133179431246,0.2940895274251988,0.14540457070201546,-0.10762877600905554,0.3053893258733171,0.598940030645167,0.7820125036292656,-0.8966714305533445,1.6606846244283409,0.5727604798690485,1.6231494486869715,-0.8105612809550491,-0.3923264306412344,-0.04246774635108637,-0.059903525664294535,-0.5311755088064984,-0.23453465907896814,-2.0232349749481413,-0.475191922450835,-0.40907645810611803,-0.1339567374388445,-2.7697162720257404,-1.358394353131801,-0.08178397964309239,0.7753013039142149,0.5360340367280473,0.2533268706667387,0.5625348411215483,0.31576535434829717,-1.206120024494666,0.048844511971718504,1.120232843572727,0.21992570366912945,-0.21448152530239026,-1.908920438887307,0.9638465930685435,0.7935170953105968,0.8460362189297203,0.8793126804341501,-0.3120587028701596,0.9023335833858086,-1.2657523325157283,1.268781693218166,-0.05215591066790494,0.6968094280163797,-1.189618503274249,1.8258605748682426,-1.6072554233354683,0.0468494169654665,0.6188673797537998,-0.35377270836903085,0.7879111619926648,1.0992184325469223,-0.3551296686529979,0.9551820492099591,-1.9799928033362035,-1.4876434001811865,1.258773185930191,0.06426248988592512,-0.27308672608175666,2.3920188360109895],\"xaxis\":\"x5\",\"y\":[-0.5174427882896812,2.6003500721367523,-0.398272656123329,1.0507472535838591,0.8484275564204568,0.34558531549137267,-0.7251750770576902,0.21203195288143903,1.0247005880785944,-0.41853128884587465,-0.5792595251450603,-0.23468009328856468,-0.37024797574697754,-1.6223191538820032,0.15822171939306529,0.7577979333440427,1.3104606801852252,0.354980393666831,1.0120449798349127,-1.3830630529587908,-0.7625692342748789,-0.031060772043171623,0.5876748574760096,-0.743381893549244,-0.07429448923367035,-1.2004104644731826,-0.24151882697923244,-2.320503904382237,-0.24087115581766094,-0.6987973244103791,-1.529215465871502,-0.4634558897134851,-0.517397324567097,-1.8826290407376154,-0.31550730650325126,-1.2810841938510928,-0.8165122345800369,0.010350999435031857,0.6307697461985253,0.6349949735690572,-1.3556578317900443,-0.07291038369075702,1.8848957700591833,-0.05777255081355184,0.6305221253983728,-0.977814856382125,1.2690335969192925,-0.5369021582866585,0.722476421578678,-0.6211934196164647,-0.3681602983448335,0.9156272215217325,-0.7906496269252035,1.245402244792277,-0.8609902609396055,1.5565591336143088,2.2655015589706453,-0.559343883766819,0.6072014775791178,0.18524797697217793,-0.5927180845146982,-0.4885482202160909,-0.2893087340183615,-0.09883201903432087,-0.5075521083179926,-0.021700889479004296,-1.305263590768384,-2.475515689150806,0.7843295779319387,-1.2032159148318333,1.9693577778767357,1.2238146565172854,1.1218344358044634,0.6674877264904224,1.2987751223433057,0.8637612322891047,0.7141219494868857,-0.5771529440751496,-1.2094988170327658,-0.30680557397477326,-1.5553797829605431,-1.7642989796422124,0.2592547356714931,2.168363029888972,0.030842989528504984,-1.6804497353868382,0.2818989496594489,-1.4778125028049618,-0.19193682085594233,0.6545811208782711,-0.6105512277782915,-0.5515806204315961,0.6817777225025149,-3.5935123694260622,-0.7399182083758457,0.17627441095701263,0.5453205448981414,-1.5226575299689897,-0.08078954284580486,-0.2065928315307047],\"yaxis\":\"y5\",\"type\":\"scatter\"},{\"histfunc\":\"count\",\"histnorm\":\"\",\"marker\":{\"color\":\"rgba(55, 128, 191, 1.0)\",\"line\":{\"color\":\"#4D5663\",\"width\":1.3}},\"name\":\"B\",\"nbinsx\":10,\"opacity\":0.8,\"orientation\":\"v\",\"x\":[-0.5174427882896812,2.6003500721367523,-0.398272656123329,1.0507472535838591,0.8484275564204568,0.34558531549137267,-0.7251750770576902,0.21203195288143903,1.0247005880785944,-0.41853128884587465,-0.5792595251450603,-0.23468009328856468,-0.37024797574697754,-1.6223191538820032,0.15822171939306529,0.7577979333440427,1.3104606801852252,0.354980393666831,1.0120449798349127,-1.3830630529587908,-0.7625692342748789,-0.031060772043171623,0.5876748574760096,-0.743381893549244,-0.07429448923367035,-1.2004104644731826,-0.24151882697923244,-2.320503904382237,-0.24087115581766094,-0.6987973244103791,-1.529215465871502,-0.4634558897134851,-0.517397324567097,-1.8826290407376154,-0.31550730650325126,-1.2810841938510928,-0.8165122345800369,0.010350999435031857,0.6307697461985253,0.6349949735690572,-1.3556578317900443,-0.07291038369075702,1.8848957700591833,-0.05777255081355184,0.6305221253983728,-0.977814856382125,1.2690335969192925,-0.5369021582866585,0.722476421578678,-0.6211934196164647,-0.3681602983448335,0.9156272215217325,-0.7906496269252035,1.245402244792277,-0.8609902609396055,1.5565591336143088,2.2655015589706453,-0.559343883766819,0.6072014775791178,0.18524797697217793,-0.5927180845146982,-0.4885482202160909,-0.2893087340183615,-0.09883201903432087,-0.5075521083179926,-0.021700889479004296,-1.305263590768384,-2.475515689150806,0.7843295779319387,-1.2032159148318333,1.9693577778767357,1.2238146565172854,1.1218344358044634,0.6674877264904224,1.2987751223433057,0.8637612322891047,0.7141219494868857,-0.5771529440751496,-1.2094988170327658,-0.30680557397477326,-1.5553797829605431,-1.7642989796422124,0.2592547356714931,2.168363029888972,0.030842989528504984,-1.6804497353868382,0.2818989496594489,-1.4778125028049618,-0.19193682085594233,0.6545811208782711,-0.6105512277782915,-0.5515806204315961,0.6817777225025149,-3.5935123694260622,-0.7399182083758457,0.17627441095701263,0.5453205448981414,-1.5226575299689897,-0.08078954284580486,-0.2065928315307047],\"xaxis\":\"x6\",\"yaxis\":\"y6\",\"type\":\"histogram\"},{\"line\":{\"color\":\"rgba(128, 128, 128, 1.0)\",\"dash\":\"solid\",\"shape\":\"linear\",\"width\":1.3},\"marker\":{\"size\":2,\"symbol\":\"circle\"},\"mode\":\"markers\",\"name\":\"B\",\"text\":\"\",\"x\":[-0.1273731034144319,0.8034179756806943,-1.2962268513591653,1.6171909704679153,-0.1913518478400872,-0.24719348349434403,-0.2575053212468563,0.5361937874809402,-0.34299576177883084,-0.422061097231771,0.3075629011819519,-0.05769047720344889,0.9375230337933363,0.42134994381321567,1.645771436901701,0.15570179343022572,-0.035488120203908034,-1.111127717248961,1.7488295852063047,-0.47725913826796484,-0.8951657268028664,1.040873912756864,0.6889517936390033,-0.6254565490192873,0.056607400359586675,-1.3344126648432137,0.5310244992109355,-0.4026060645353525,-1.0112905888470805,0.20254588806340293,-0.9398128398987691,0.29030816143088617,0.16960740519693995,-0.33546214813743086,-0.6318648534740554,-1.2603199668632525,-1.0584187303336114,-0.6584419154679033,-0.7761830707174558,0.18356733446499296,-0.6057873440205137,-0.38084706376348565,-0.055308437607390355,0.08121281945616167,0.7809925917005588,0.6784590127680238,-0.38320706289779743,-0.3812362488829061,-0.6858059697491599,0.420085435333433,-0.39589726553536614,-0.19222354626648713,-0.08390596200550164,0.7972359303415871,-0.6324179402608489,0.1421195234625367,0.057195156546059195,-0.314341651685965,0.9736859634741865,-2.9788993036423044,-0.6845441151492541,-0.5576943489797075,-1.3516323922134519,-0.9709362653080871,1.365256366153465,0.718956349712268,1.7339131565957542,-1.067851815371018,2.281657356242972,-1.007744798463298,-0.46677493557946326,-1.8191960234718,0.6336433726417379,-0.40964073312347576,-0.4470642019493151,1.0112267153589807,-0.26318140097456244,-1.7523284028838095,-1.397493698943379,0.4235660701861368,0.1259307601550791,2.1980836331430025,-0.3342919828009481,-0.26164888590349483,0.20436642301007998,-0.1777398559179107,0.10999343897028462,0.668650044421462,0.324701718534536,0.8905536096097691,0.4920584619743266,1.3408738529546866,0.13752194313626281,0.8088909918748413,1.2113437911270513,0.4249118524186255,0.30084655728003756,-0.7350581437557522,-1.9848828439828112,-0.1861666450404373],\"xaxis\":\"x7\",\"y\":[-0.5174427882896812,2.6003500721367523,-0.398272656123329,1.0507472535838591,0.8484275564204568,0.34558531549137267,-0.7251750770576902,0.21203195288143903,1.0247005880785944,-0.41853128884587465,-0.5792595251450603,-0.23468009328856468,-0.37024797574697754,-1.6223191538820032,0.15822171939306529,0.7577979333440427,1.3104606801852252,0.354980393666831,1.0120449798349127,-1.3830630529587908,-0.7625692342748789,-0.031060772043171623,0.5876748574760096,-0.743381893549244,-0.07429448923367035,-1.2004104644731826,-0.24151882697923244,-2.320503904382237,-0.24087115581766094,-0.6987973244103791,-1.529215465871502,-0.4634558897134851,-0.517397324567097,-1.8826290407376154,-0.31550730650325126,-1.2810841938510928,-0.8165122345800369,0.010350999435031857,0.6307697461985253,0.6349949735690572,-1.3556578317900443,-0.07291038369075702,1.8848957700591833,-0.05777255081355184,0.6305221253983728,-0.977814856382125,1.2690335969192925,-0.5369021582866585,0.722476421578678,-0.6211934196164647,-0.3681602983448335,0.9156272215217325,-0.7906496269252035,1.245402244792277,-0.8609902609396055,1.5565591336143088,2.2655015589706453,-0.559343883766819,0.6072014775791178,0.18524797697217793,-0.5927180845146982,-0.4885482202160909,-0.2893087340183615,-0.09883201903432087,-0.5075521083179926,-0.021700889479004296,-1.305263590768384,-2.475515689150806,0.7843295779319387,-1.2032159148318333,1.9693577778767357,1.2238146565172854,1.1218344358044634,0.6674877264904224,1.2987751223433057,0.8637612322891047,0.7141219494868857,-0.5771529440751496,-1.2094988170327658,-0.30680557397477326,-1.5553797829605431,-1.7642989796422124,0.2592547356714931,2.168363029888972,0.030842989528504984,-1.6804497353868382,0.2818989496594489,-1.4778125028049618,-0.19193682085594233,0.6545811208782711,-0.6105512277782915,-0.5515806204315961,0.6817777225025149,-3.5935123694260622,-0.7399182083758457,0.17627441095701263,0.5453205448981414,-1.5226575299689897,-0.08078954284580486,-0.2065928315307047],\"yaxis\":\"y7\",\"type\":\"scatter\"},{\"line\":{\"color\":\"rgba(128, 128, 128, 1.0)\",\"dash\":\"solid\",\"shape\":\"linear\",\"width\":1.3},\"marker\":{\"size\":2,\"symbol\":\"circle\"},\"mode\":\"markers\",\"name\":\"B\",\"text\":\"\",\"x\":[-1.2152851008211565,1.0962407727647794,0.2823908965066684,-0.6400684740103899,1.3903268293981896,-0.43630370787208284,1.6855131931434146,-0.9510958329218072,-0.6219085330422188,-0.9489707598641608,-0.698742389319351,-0.7742272368309635,-0.3410186360699531,-0.8397183898787279,0.7690901833270892,0.8840260416222037,-0.032686325892768694,-1.349531625789729,-0.7123989177524955,-0.04498944586512662,2.249757015409204,0.03491111501659019,-1.8688678320066794,-0.7707283779343044,1.0245726748841517,-0.6019804065389124,0.8900592546444966,-0.004287296778723674,0.8397354542570362,-0.8455151163471136,-1.1570187828662188,-0.8080015750324793,1.1366737065640298,0.20018527553765764,0.2042123536287555,-1.0756118862161772,0.8143163347496459,-1.252014538609369,0.6733080904317835,-0.48688831904411545,-0.23028457498088148,1.9164650989757752,0.04696896761610842,-0.18478364368208358,0.6562449701171231,0.970407885869781,0.5305986929009918,1.4513113578274168,-0.3966058987582575,-0.7543690817060114,-0.19486789883670178,-0.3710372637818589,1.6469037256148995,0.6649176182225256,1.4478534444262872,0.014408312854281256,-0.3051805260346321,-0.21018848007375243,-0.3905530081100771,-0.12450602429243515,2.0313701611809596,1.230245442258353,1.101503992277737,0.7190159022852662,1.2220747509649195,1.0544433483124593,1.2243129070919712,-1.2257988521518608,2.012474194307803,-2.2196512022802324,1.240136683313242,-0.2552959649056867,-0.805767928666894,1.0173382130401711,-0.205032689441431,0.948533066179219,-0.7681816201859842,0.18470324422208365,-1.1318009661745418,0.9932173025919385,0.8224097988300498,1.523893031642696,-0.6203463645126658,-0.02936686658955437,0.25822352747392713,0.8206167221288364,0.4955907866340889,-1.607998054022176,1.656886245540623,-0.28242404280303507,-0.053329563698971974,-2.2066591204599866,0.6330151286390073,-1.173645519287031,-0.8934444114391192,-1.2552486674952328,-1.2170900382830623,1.2869385915640499,-0.17230883936722877,0.7043037370227436],\"xaxis\":\"x8\",\"y\":[-0.5174427882896812,2.6003500721367523,-0.398272656123329,1.0507472535838591,0.8484275564204568,0.34558531549137267,-0.7251750770576902,0.21203195288143903,1.0247005880785944,-0.41853128884587465,-0.5792595251450603,-0.23468009328856468,-0.37024797574697754,-1.6223191538820032,0.15822171939306529,0.7577979333440427,1.3104606801852252,0.354980393666831,1.0120449798349127,-1.3830630529587908,-0.7625692342748789,-0.031060772043171623,0.5876748574760096,-0.743381893549244,-0.07429448923367035,-1.2004104644731826,-0.24151882697923244,-2.320503904382237,-0.24087115581766094,-0.6987973244103791,-1.529215465871502,-0.4634558897134851,-0.517397324567097,-1.8826290407376154,-0.31550730650325126,-1.2810841938510928,-0.8165122345800369,0.010350999435031857,0.6307697461985253,0.6349949735690572,-1.3556578317900443,-0.07291038369075702,1.8848957700591833,-0.05777255081355184,0.6305221253983728,-0.977814856382125,1.2690335969192925,-0.5369021582866585,0.722476421578678,-0.6211934196164647,-0.3681602983448335,0.9156272215217325,-0.7906496269252035,1.245402244792277,-0.8609902609396055,1.5565591336143088,2.2655015589706453,-0.559343883766819,0.6072014775791178,0.18524797697217793,-0.5927180845146982,-0.4885482202160909,-0.2893087340183615,-0.09883201903432087,-0.5075521083179926,-0.021700889479004296,-1.305263590768384,-2.475515689150806,0.7843295779319387,-1.2032159148318333,1.9693577778767357,1.2238146565172854,1.1218344358044634,0.6674877264904224,1.2987751223433057,0.8637612322891047,0.7141219494868857,-0.5771529440751496,-1.2094988170327658,-0.30680557397477326,-1.5553797829605431,-1.7642989796422124,0.2592547356714931,2.168363029888972,0.030842989528504984,-1.6804497353868382,0.2818989496594489,-1.4778125028049618,-0.19193682085594233,0.6545811208782711,-0.6105512277782915,-0.5515806204315961,0.6817777225025149,-3.5935123694260622,-0.7399182083758457,0.17627441095701263,0.5453205448981414,-1.5226575299689897,-0.08078954284580486,-0.2065928315307047],\"yaxis\":\"y8\",\"type\":\"scatter\"},{\"line\":{\"color\":\"rgba(128, 128, 128, 1.0)\",\"dash\":\"solid\",\"shape\":\"linear\",\"width\":1.3},\"marker\":{\"size\":2,\"symbol\":\"circle\"},\"mode\":\"markers\",\"name\":\"C\",\"text\":\"\",\"x\":[0.33567605600194994,-0.8109873503861798,-2.6316756978724447,0.5776275311286065,-0.22530496487367777,0.8097460374131469,-0.5115338215552406,-0.4590997186416238,-0.298577056088914,-0.28541368761683306,-0.5472911448565846,0.3027742133920709,0.8902345216571652,-0.9239113525121986,0.9416625216245742,-0.18066450525113226,-2.0881969759280192,0.47500151093148335,-1.2731709071783763,1.230559710728227,-0.1605185431067916,0.6015686401189955,1.0663771004856937,0.4339044154824729,0.42688970128877163,0.7278870362259178,-0.6948804563250303,-0.05374882813326524,-1.6336690547739716,-0.88579686362121,-0.9542553464180343,-0.5644192605571883,1.0782994643519894,0.49503871747449035,0.5343533913205508,1.447396904689215,0.804473836069314,0.3481074903159142,-0.2505714270670016,-0.9029133179431246,0.2940895274251988,0.14540457070201546,-0.10762877600905554,0.3053893258733171,0.598940030645167,0.7820125036292656,-0.8966714305533445,1.6606846244283409,0.5727604798690485,1.6231494486869715,-0.8105612809550491,-0.3923264306412344,-0.04246774635108637,-0.059903525664294535,-0.5311755088064984,-0.23453465907896814,-2.0232349749481413,-0.475191922450835,-0.40907645810611803,-0.1339567374388445,-2.7697162720257404,-1.358394353131801,-0.08178397964309239,0.7753013039142149,0.5360340367280473,0.2533268706667387,0.5625348411215483,0.31576535434829717,-1.206120024494666,0.048844511971718504,1.120232843572727,0.21992570366912945,-0.21448152530239026,-1.908920438887307,0.9638465930685435,0.7935170953105968,0.8460362189297203,0.8793126804341501,-0.3120587028701596,0.9023335833858086,-1.2657523325157283,1.268781693218166,-0.05215591066790494,0.6968094280163797,-1.189618503274249,1.8258605748682426,-1.6072554233354683,0.0468494169654665,0.6188673797537998,-0.35377270836903085,0.7879111619926648,1.0992184325469223,-0.3551296686529979,0.9551820492099591,-1.9799928033362035,-1.4876434001811865,1.258773185930191,0.06426248988592512,-0.27308672608175666,2.3920188360109895],\"xaxis\":\"x9\",\"y\":[-0.1273731034144319,0.8034179756806943,-1.2962268513591653,1.6171909704679153,-0.1913518478400872,-0.24719348349434403,-0.2575053212468563,0.5361937874809402,-0.34299576177883084,-0.422061097231771,0.3075629011819519,-0.05769047720344889,0.9375230337933363,0.42134994381321567,1.645771436901701,0.15570179343022572,-0.035488120203908034,-1.111127717248961,1.7488295852063047,-0.47725913826796484,-0.8951657268028664,1.040873912756864,0.6889517936390033,-0.6254565490192873,0.056607400359586675,-1.3344126648432137,0.5310244992109355,-0.4026060645353525,-1.0112905888470805,0.20254588806340293,-0.9398128398987691,0.29030816143088617,0.16960740519693995,-0.33546214813743086,-0.6318648534740554,-1.2603199668632525,-1.0584187303336114,-0.6584419154679033,-0.7761830707174558,0.18356733446499296,-0.6057873440205137,-0.38084706376348565,-0.055308437607390355,0.08121281945616167,0.7809925917005588,0.6784590127680238,-0.38320706289779743,-0.3812362488829061,-0.6858059697491599,0.420085435333433,-0.39589726553536614,-0.19222354626648713,-0.08390596200550164,0.7972359303415871,-0.6324179402608489,0.1421195234625367,0.057195156546059195,-0.314341651685965,0.9736859634741865,-2.9788993036423044,-0.6845441151492541,-0.5576943489797075,-1.3516323922134519,-0.9709362653080871,1.365256366153465,0.718956349712268,1.7339131565957542,-1.067851815371018,2.281657356242972,-1.007744798463298,-0.46677493557946326,-1.8191960234718,0.6336433726417379,-0.40964073312347576,-0.4470642019493151,1.0112267153589807,-0.26318140097456244,-1.7523284028838095,-1.397493698943379,0.4235660701861368,0.1259307601550791,2.1980836331430025,-0.3342919828009481,-0.26164888590349483,0.20436642301007998,-0.1777398559179107,0.10999343897028462,0.668650044421462,0.324701718534536,0.8905536096097691,0.4920584619743266,1.3408738529546866,0.13752194313626281,0.8088909918748413,1.2113437911270513,0.4249118524186255,0.30084655728003756,-0.7350581437557522,-1.9848828439828112,-0.1861666450404373],\"yaxis\":\"y9\",\"type\":\"scatter\"},{\"line\":{\"color\":\"rgba(128, 128, 128, 1.0)\",\"dash\":\"solid\",\"shape\":\"linear\",\"width\":1.3},\"marker\":{\"size\":2,\"symbol\":\"circle\"},\"mode\":\"markers\",\"name\":\"C\",\"text\":\"\",\"x\":[-0.5174427882896812,2.6003500721367523,-0.398272656123329,1.0507472535838591,0.8484275564204568,0.34558531549137267,-0.7251750770576902,0.21203195288143903,1.0247005880785944,-0.41853128884587465,-0.5792595251450603,-0.23468009328856468,-0.37024797574697754,-1.6223191538820032,0.15822171939306529,0.7577979333440427,1.3104606801852252,0.354980393666831,1.0120449798349127,-1.3830630529587908,-0.7625692342748789,-0.031060772043171623,0.5876748574760096,-0.743381893549244,-0.07429448923367035,-1.2004104644731826,-0.24151882697923244,-2.320503904382237,-0.24087115581766094,-0.6987973244103791,-1.529215465871502,-0.4634558897134851,-0.517397324567097,-1.8826290407376154,-0.31550730650325126,-1.2810841938510928,-0.8165122345800369,0.010350999435031857,0.6307697461985253,0.6349949735690572,-1.3556578317900443,-0.07291038369075702,1.8848957700591833,-0.05777255081355184,0.6305221253983728,-0.977814856382125,1.2690335969192925,-0.5369021582866585,0.722476421578678,-0.6211934196164647,-0.3681602983448335,0.9156272215217325,-0.7906496269252035,1.245402244792277,-0.8609902609396055,1.5565591336143088,2.2655015589706453,-0.559343883766819,0.6072014775791178,0.18524797697217793,-0.5927180845146982,-0.4885482202160909,-0.2893087340183615,-0.09883201903432087,-0.5075521083179926,-0.021700889479004296,-1.305263590768384,-2.475515689150806,0.7843295779319387,-1.2032159148318333,1.9693577778767357,1.2238146565172854,1.1218344358044634,0.6674877264904224,1.2987751223433057,0.8637612322891047,0.7141219494868857,-0.5771529440751496,-1.2094988170327658,-0.30680557397477326,-1.5553797829605431,-1.7642989796422124,0.2592547356714931,2.168363029888972,0.030842989528504984,-1.6804497353868382,0.2818989496594489,-1.4778125028049618,-0.19193682085594233,0.6545811208782711,-0.6105512277782915,-0.5515806204315961,0.6817777225025149,-3.5935123694260622,-0.7399182083758457,0.17627441095701263,0.5453205448981414,-1.5226575299689897,-0.08078954284580486,-0.2065928315307047],\"xaxis\":\"x10\",\"y\":[-0.1273731034144319,0.8034179756806943,-1.2962268513591653,1.6171909704679153,-0.1913518478400872,-0.24719348349434403,-0.2575053212468563,0.5361937874809402,-0.34299576177883084,-0.422061097231771,0.3075629011819519,-0.05769047720344889,0.9375230337933363,0.42134994381321567,1.645771436901701,0.15570179343022572,-0.035488120203908034,-1.111127717248961,1.7488295852063047,-0.47725913826796484,-0.8951657268028664,1.040873912756864,0.6889517936390033,-0.6254565490192873,0.056607400359586675,-1.3344126648432137,0.5310244992109355,-0.4026060645353525,-1.0112905888470805,0.20254588806340293,-0.9398128398987691,0.29030816143088617,0.16960740519693995,-0.33546214813743086,-0.6318648534740554,-1.2603199668632525,-1.0584187303336114,-0.6584419154679033,-0.7761830707174558,0.18356733446499296,-0.6057873440205137,-0.38084706376348565,-0.055308437607390355,0.08121281945616167,0.7809925917005588,0.6784590127680238,-0.38320706289779743,-0.3812362488829061,-0.6858059697491599,0.420085435333433,-0.39589726553536614,-0.19222354626648713,-0.08390596200550164,0.7972359303415871,-0.6324179402608489,0.1421195234625367,0.057195156546059195,-0.314341651685965,0.9736859634741865,-2.9788993036423044,-0.6845441151492541,-0.5576943489797075,-1.3516323922134519,-0.9709362653080871,1.365256366153465,0.718956349712268,1.7339131565957542,-1.067851815371018,2.281657356242972,-1.007744798463298,-0.46677493557946326,-1.8191960234718,0.6336433726417379,-0.40964073312347576,-0.4470642019493151,1.0112267153589807,-0.26318140097456244,-1.7523284028838095,-1.397493698943379,0.4235660701861368,0.1259307601550791,2.1980836331430025,-0.3342919828009481,-0.26164888590349483,0.20436642301007998,-0.1777398559179107,0.10999343897028462,0.668650044421462,0.324701718534536,0.8905536096097691,0.4920584619743266,1.3408738529546866,0.13752194313626281,0.8088909918748413,1.2113437911270513,0.4249118524186255,0.30084655728003756,-0.7350581437557522,-1.9848828439828112,-0.1861666450404373],\"yaxis\":\"y10\",\"type\":\"scatter\"},{\"histfunc\":\"count\",\"histnorm\":\"\",\"marker\":{\"color\":\"rgba(50, 171, 96, 1.0)\",\"line\":{\"color\":\"#4D5663\",\"width\":1.3}},\"name\":\"C\",\"nbinsx\":10,\"opacity\":0.8,\"orientation\":\"v\",\"x\":[-0.1273731034144319,0.8034179756806943,-1.2962268513591653,1.6171909704679153,-0.1913518478400872,-0.24719348349434403,-0.2575053212468563,0.5361937874809402,-0.34299576177883084,-0.422061097231771,0.3075629011819519,-0.05769047720344889,0.9375230337933363,0.42134994381321567,1.645771436901701,0.15570179343022572,-0.035488120203908034,-1.111127717248961,1.7488295852063047,-0.47725913826796484,-0.8951657268028664,1.040873912756864,0.6889517936390033,-0.6254565490192873,0.056607400359586675,-1.3344126648432137,0.5310244992109355,-0.4026060645353525,-1.0112905888470805,0.20254588806340293,-0.9398128398987691,0.29030816143088617,0.16960740519693995,-0.33546214813743086,-0.6318648534740554,-1.2603199668632525,-1.0584187303336114,-0.6584419154679033,-0.7761830707174558,0.18356733446499296,-0.6057873440205137,-0.38084706376348565,-0.055308437607390355,0.08121281945616167,0.7809925917005588,0.6784590127680238,-0.38320706289779743,-0.3812362488829061,-0.6858059697491599,0.420085435333433,-0.39589726553536614,-0.19222354626648713,-0.08390596200550164,0.7972359303415871,-0.6324179402608489,0.1421195234625367,0.057195156546059195,-0.314341651685965,0.9736859634741865,-2.9788993036423044,-0.6845441151492541,-0.5576943489797075,-1.3516323922134519,-0.9709362653080871,1.365256366153465,0.718956349712268,1.7339131565957542,-1.067851815371018,2.281657356242972,-1.007744798463298,-0.46677493557946326,-1.8191960234718,0.6336433726417379,-0.40964073312347576,-0.4470642019493151,1.0112267153589807,-0.26318140097456244,-1.7523284028838095,-1.397493698943379,0.4235660701861368,0.1259307601550791,2.1980836331430025,-0.3342919828009481,-0.26164888590349483,0.20436642301007998,-0.1777398559179107,0.10999343897028462,0.668650044421462,0.324701718534536,0.8905536096097691,0.4920584619743266,1.3408738529546866,0.13752194313626281,0.8088909918748413,1.2113437911270513,0.4249118524186255,0.30084655728003756,-0.7350581437557522,-1.9848828439828112,-0.1861666450404373],\"xaxis\":\"x11\",\"yaxis\":\"y11\",\"type\":\"histogram\"},{\"line\":{\"color\":\"rgba(128, 128, 128, 1.0)\",\"dash\":\"solid\",\"shape\":\"linear\",\"width\":1.3},\"marker\":{\"size\":2,\"symbol\":\"circle\"},\"mode\":\"markers\",\"name\":\"C\",\"text\":\"\",\"x\":[-1.2152851008211565,1.0962407727647794,0.2823908965066684,-0.6400684740103899,1.3903268293981896,-0.43630370787208284,1.6855131931434146,-0.9510958329218072,-0.6219085330422188,-0.9489707598641608,-0.698742389319351,-0.7742272368309635,-0.3410186360699531,-0.8397183898787279,0.7690901833270892,0.8840260416222037,-0.032686325892768694,-1.349531625789729,-0.7123989177524955,-0.04498944586512662,2.249757015409204,0.03491111501659019,-1.8688678320066794,-0.7707283779343044,1.0245726748841517,-0.6019804065389124,0.8900592546444966,-0.004287296778723674,0.8397354542570362,-0.8455151163471136,-1.1570187828662188,-0.8080015750324793,1.1366737065640298,0.20018527553765764,0.2042123536287555,-1.0756118862161772,0.8143163347496459,-1.252014538609369,0.6733080904317835,-0.48688831904411545,-0.23028457498088148,1.9164650989757752,0.04696896761610842,-0.18478364368208358,0.6562449701171231,0.970407885869781,0.5305986929009918,1.4513113578274168,-0.3966058987582575,-0.7543690817060114,-0.19486789883670178,-0.3710372637818589,1.6469037256148995,0.6649176182225256,1.4478534444262872,0.014408312854281256,-0.3051805260346321,-0.21018848007375243,-0.3905530081100771,-0.12450602429243515,2.0313701611809596,1.230245442258353,1.101503992277737,0.7190159022852662,1.2220747509649195,1.0544433483124593,1.2243129070919712,-1.2257988521518608,2.012474194307803,-2.2196512022802324,1.240136683313242,-0.2552959649056867,-0.805767928666894,1.0173382130401711,-0.205032689441431,0.948533066179219,-0.7681816201859842,0.18470324422208365,-1.1318009661745418,0.9932173025919385,0.8224097988300498,1.523893031642696,-0.6203463645126658,-0.02936686658955437,0.25822352747392713,0.8206167221288364,0.4955907866340889,-1.607998054022176,1.656886245540623,-0.28242404280303507,-0.053329563698971974,-2.2066591204599866,0.6330151286390073,-1.173645519287031,-0.8934444114391192,-1.2552486674952328,-1.2170900382830623,1.2869385915640499,-0.17230883936722877,0.7043037370227436],\"xaxis\":\"x12\",\"y\":[-0.1273731034144319,0.8034179756806943,-1.2962268513591653,1.6171909704679153,-0.1913518478400872,-0.24719348349434403,-0.2575053212468563,0.5361937874809402,-0.34299576177883084,-0.422061097231771,0.3075629011819519,-0.05769047720344889,0.9375230337933363,0.42134994381321567,1.645771436901701,0.15570179343022572,-0.035488120203908034,-1.111127717248961,1.7488295852063047,-0.47725913826796484,-0.8951657268028664,1.040873912756864,0.6889517936390033,-0.6254565490192873,0.056607400359586675,-1.3344126648432137,0.5310244992109355,-0.4026060645353525,-1.0112905888470805,0.20254588806340293,-0.9398128398987691,0.29030816143088617,0.16960740519693995,-0.33546214813743086,-0.6318648534740554,-1.2603199668632525,-1.0584187303336114,-0.6584419154679033,-0.7761830707174558,0.18356733446499296,-0.6057873440205137,-0.38084706376348565,-0.055308437607390355,0.08121281945616167,0.7809925917005588,0.6784590127680238,-0.38320706289779743,-0.3812362488829061,-0.6858059697491599,0.420085435333433,-0.39589726553536614,-0.19222354626648713,-0.08390596200550164,0.7972359303415871,-0.6324179402608489,0.1421195234625367,0.057195156546059195,-0.314341651685965,0.9736859634741865,-2.9788993036423044,-0.6845441151492541,-0.5576943489797075,-1.3516323922134519,-0.9709362653080871,1.365256366153465,0.718956349712268,1.7339131565957542,-1.067851815371018,2.281657356242972,-1.007744798463298,-0.46677493557946326,-1.8191960234718,0.6336433726417379,-0.40964073312347576,-0.4470642019493151,1.0112267153589807,-0.26318140097456244,-1.7523284028838095,-1.397493698943379,0.4235660701861368,0.1259307601550791,2.1980836331430025,-0.3342919828009481,-0.26164888590349483,0.20436642301007998,-0.1777398559179107,0.10999343897028462,0.668650044421462,0.324701718534536,0.8905536096097691,0.4920584619743266,1.3408738529546866,0.13752194313626281,0.8088909918748413,1.2113437911270513,0.4249118524186255,0.30084655728003756,-0.7350581437557522,-1.9848828439828112,-0.1861666450404373],\"yaxis\":\"y12\",\"type\":\"scatter\"},{\"line\":{\"color\":\"rgba(128, 128, 128, 1.0)\",\"dash\":\"solid\",\"shape\":\"linear\",\"width\":1.3},\"marker\":{\"size\":2,\"symbol\":\"circle\"},\"mode\":\"markers\",\"name\":\"D\",\"text\":\"\",\"x\":[0.33567605600194994,-0.8109873503861798,-2.6316756978724447,0.5776275311286065,-0.22530496487367777,0.8097460374131469,-0.5115338215552406,-0.4590997186416238,-0.298577056088914,-0.28541368761683306,-0.5472911448565846,0.3027742133920709,0.8902345216571652,-0.9239113525121986,0.9416625216245742,-0.18066450525113226,-2.0881969759280192,0.47500151093148335,-1.2731709071783763,1.230559710728227,-0.1605185431067916,0.6015686401189955,1.0663771004856937,0.4339044154824729,0.42688970128877163,0.7278870362259178,-0.6948804563250303,-0.05374882813326524,-1.6336690547739716,-0.88579686362121,-0.9542553464180343,-0.5644192605571883,1.0782994643519894,0.49503871747449035,0.5343533913205508,1.447396904689215,0.804473836069314,0.3481074903159142,-0.2505714270670016,-0.9029133179431246,0.2940895274251988,0.14540457070201546,-0.10762877600905554,0.3053893258733171,0.598940030645167,0.7820125036292656,-0.8966714305533445,1.6606846244283409,0.5727604798690485,1.6231494486869715,-0.8105612809550491,-0.3923264306412344,-0.04246774635108637,-0.059903525664294535,-0.5311755088064984,-0.23453465907896814,-2.0232349749481413,-0.475191922450835,-0.40907645810611803,-0.1339567374388445,-2.7697162720257404,-1.358394353131801,-0.08178397964309239,0.7753013039142149,0.5360340367280473,0.2533268706667387,0.5625348411215483,0.31576535434829717,-1.206120024494666,0.048844511971718504,1.120232843572727,0.21992570366912945,-0.21448152530239026,-1.908920438887307,0.9638465930685435,0.7935170953105968,0.8460362189297203,0.8793126804341501,-0.3120587028701596,0.9023335833858086,-1.2657523325157283,1.268781693218166,-0.05215591066790494,0.6968094280163797,-1.189618503274249,1.8258605748682426,-1.6072554233354683,0.0468494169654665,0.6188673797537998,-0.35377270836903085,0.7879111619926648,1.0992184325469223,-0.3551296686529979,0.9551820492099591,-1.9799928033362035,-1.4876434001811865,1.258773185930191,0.06426248988592512,-0.27308672608175666,2.3920188360109895],\"xaxis\":\"x13\",\"y\":[-1.2152851008211565,1.0962407727647794,0.2823908965066684,-0.6400684740103899,1.3903268293981896,-0.43630370787208284,1.6855131931434146,-0.9510958329218072,-0.6219085330422188,-0.9489707598641608,-0.698742389319351,-0.7742272368309635,-0.3410186360699531,-0.8397183898787279,0.7690901833270892,0.8840260416222037,-0.032686325892768694,-1.349531625789729,-0.7123989177524955,-0.04498944586512662,2.249757015409204,0.03491111501659019,-1.8688678320066794,-0.7707283779343044,1.0245726748841517,-0.6019804065389124,0.8900592546444966,-0.004287296778723674,0.8397354542570362,-0.8455151163471136,-1.1570187828662188,-0.8080015750324793,1.1366737065640298,0.20018527553765764,0.2042123536287555,-1.0756118862161772,0.8143163347496459,-1.252014538609369,0.6733080904317835,-0.48688831904411545,-0.23028457498088148,1.9164650989757752,0.04696896761610842,-0.18478364368208358,0.6562449701171231,0.970407885869781,0.5305986929009918,1.4513113578274168,-0.3966058987582575,-0.7543690817060114,-0.19486789883670178,-0.3710372637818589,1.6469037256148995,0.6649176182225256,1.4478534444262872,0.014408312854281256,-0.3051805260346321,-0.21018848007375243,-0.3905530081100771,-0.12450602429243515,2.0313701611809596,1.230245442258353,1.101503992277737,0.7190159022852662,1.2220747509649195,1.0544433483124593,1.2243129070919712,-1.2257988521518608,2.012474194307803,-2.2196512022802324,1.240136683313242,-0.2552959649056867,-0.805767928666894,1.0173382130401711,-0.205032689441431,0.948533066179219,-0.7681816201859842,0.18470324422208365,-1.1318009661745418,0.9932173025919385,0.8224097988300498,1.523893031642696,-0.6203463645126658,-0.02936686658955437,0.25822352747392713,0.8206167221288364,0.4955907866340889,-1.607998054022176,1.656886245540623,-0.28242404280303507,-0.053329563698971974,-2.2066591204599866,0.6330151286390073,-1.173645519287031,-0.8934444114391192,-1.2552486674952328,-1.2170900382830623,1.2869385915640499,-0.17230883936722877,0.7043037370227436],\"yaxis\":\"y13\",\"type\":\"scatter\"},{\"line\":{\"color\":\"rgba(128, 128, 128, 1.0)\",\"dash\":\"solid\",\"shape\":\"linear\",\"width\":1.3},\"marker\":{\"size\":2,\"symbol\":\"circle\"},\"mode\":\"markers\",\"name\":\"D\",\"text\":\"\",\"x\":[-0.5174427882896812,2.6003500721367523,-0.398272656123329,1.0507472535838591,0.8484275564204568,0.34558531549137267,-0.7251750770576902,0.21203195288143903,1.0247005880785944,-0.41853128884587465,-0.5792595251450603,-0.23468009328856468,-0.37024797574697754,-1.6223191538820032,0.15822171939306529,0.7577979333440427,1.3104606801852252,0.354980393666831,1.0120449798349127,-1.3830630529587908,-0.7625692342748789,-0.031060772043171623,0.5876748574760096,-0.743381893549244,-0.07429448923367035,-1.2004104644731826,-0.24151882697923244,-2.320503904382237,-0.24087115581766094,-0.6987973244103791,-1.529215465871502,-0.4634558897134851,-0.517397324567097,-1.8826290407376154,-0.31550730650325126,-1.2810841938510928,-0.8165122345800369,0.010350999435031857,0.6307697461985253,0.6349949735690572,-1.3556578317900443,-0.07291038369075702,1.8848957700591833,-0.05777255081355184,0.6305221253983728,-0.977814856382125,1.2690335969192925,-0.5369021582866585,0.722476421578678,-0.6211934196164647,-0.3681602983448335,0.9156272215217325,-0.7906496269252035,1.245402244792277,-0.8609902609396055,1.5565591336143088,2.2655015589706453,-0.559343883766819,0.6072014775791178,0.18524797697217793,-0.5927180845146982,-0.4885482202160909,-0.2893087340183615,-0.09883201903432087,-0.5075521083179926,-0.021700889479004296,-1.305263590768384,-2.475515689150806,0.7843295779319387,-1.2032159148318333,1.9693577778767357,1.2238146565172854,1.1218344358044634,0.6674877264904224,1.2987751223433057,0.8637612322891047,0.7141219494868857,-0.5771529440751496,-1.2094988170327658,-0.30680557397477326,-1.5553797829605431,-1.7642989796422124,0.2592547356714931,2.168363029888972,0.030842989528504984,-1.6804497353868382,0.2818989496594489,-1.4778125028049618,-0.19193682085594233,0.6545811208782711,-0.6105512277782915,-0.5515806204315961,0.6817777225025149,-3.5935123694260622,-0.7399182083758457,0.17627441095701263,0.5453205448981414,-1.5226575299689897,-0.08078954284580486,-0.2065928315307047],\"xaxis\":\"x14\",\"y\":[-1.2152851008211565,1.0962407727647794,0.2823908965066684,-0.6400684740103899,1.3903268293981896,-0.43630370787208284,1.6855131931434146,-0.9510958329218072,-0.6219085330422188,-0.9489707598641608,-0.698742389319351,-0.7742272368309635,-0.3410186360699531,-0.8397183898787279,0.7690901833270892,0.8840260416222037,-0.032686325892768694,-1.349531625789729,-0.7123989177524955,-0.04498944586512662,2.249757015409204,0.03491111501659019,-1.8688678320066794,-0.7707283779343044,1.0245726748841517,-0.6019804065389124,0.8900592546444966,-0.004287296778723674,0.8397354542570362,-0.8455151163471136,-1.1570187828662188,-0.8080015750324793,1.1366737065640298,0.20018527553765764,0.2042123536287555,-1.0756118862161772,0.8143163347496459,-1.252014538609369,0.6733080904317835,-0.48688831904411545,-0.23028457498088148,1.9164650989757752,0.04696896761610842,-0.18478364368208358,0.6562449701171231,0.970407885869781,0.5305986929009918,1.4513113578274168,-0.3966058987582575,-0.7543690817060114,-0.19486789883670178,-0.3710372637818589,1.6469037256148995,0.6649176182225256,1.4478534444262872,0.014408312854281256,-0.3051805260346321,-0.21018848007375243,-0.3905530081100771,-0.12450602429243515,2.0313701611809596,1.230245442258353,1.101503992277737,0.7190159022852662,1.2220747509649195,1.0544433483124593,1.2243129070919712,-1.2257988521518608,2.012474194307803,-2.2196512022802324,1.240136683313242,-0.2552959649056867,-0.805767928666894,1.0173382130401711,-0.205032689441431,0.948533066179219,-0.7681816201859842,0.18470324422208365,-1.1318009661745418,0.9932173025919385,0.8224097988300498,1.523893031642696,-0.6203463645126658,-0.02936686658955437,0.25822352747392713,0.8206167221288364,0.4955907866340889,-1.607998054022176,1.656886245540623,-0.28242404280303507,-0.053329563698971974,-2.2066591204599866,0.6330151286390073,-1.173645519287031,-0.8934444114391192,-1.2552486674952328,-1.2170900382830623,1.2869385915640499,-0.17230883936722877,0.7043037370227436],\"yaxis\":\"y14\",\"type\":\"scatter\"},{\"line\":{\"color\":\"rgba(128, 128, 128, 1.0)\",\"dash\":\"solid\",\"shape\":\"linear\",\"width\":1.3},\"marker\":{\"size\":2,\"symbol\":\"circle\"},\"mode\":\"markers\",\"name\":\"D\",\"text\":\"\",\"x\":[-0.1273731034144319,0.8034179756806943,-1.2962268513591653,1.6171909704679153,-0.1913518478400872,-0.24719348349434403,-0.2575053212468563,0.5361937874809402,-0.34299576177883084,-0.422061097231771,0.3075629011819519,-0.05769047720344889,0.9375230337933363,0.42134994381321567,1.645771436901701,0.15570179343022572,-0.035488120203908034,-1.111127717248961,1.7488295852063047,-0.47725913826796484,-0.8951657268028664,1.040873912756864,0.6889517936390033,-0.6254565490192873,0.056607400359586675,-1.3344126648432137,0.5310244992109355,-0.4026060645353525,-1.0112905888470805,0.20254588806340293,-0.9398128398987691,0.29030816143088617,0.16960740519693995,-0.33546214813743086,-0.6318648534740554,-1.2603199668632525,-1.0584187303336114,-0.6584419154679033,-0.7761830707174558,0.18356733446499296,-0.6057873440205137,-0.38084706376348565,-0.055308437607390355,0.08121281945616167,0.7809925917005588,0.6784590127680238,-0.38320706289779743,-0.3812362488829061,-0.6858059697491599,0.420085435333433,-0.39589726553536614,-0.19222354626648713,-0.08390596200550164,0.7972359303415871,-0.6324179402608489,0.1421195234625367,0.057195156546059195,-0.314341651685965,0.9736859634741865,-2.9788993036423044,-0.6845441151492541,-0.5576943489797075,-1.3516323922134519,-0.9709362653080871,1.365256366153465,0.718956349712268,1.7339131565957542,-1.067851815371018,2.281657356242972,-1.007744798463298,-0.46677493557946326,-1.8191960234718,0.6336433726417379,-0.40964073312347576,-0.4470642019493151,1.0112267153589807,-0.26318140097456244,-1.7523284028838095,-1.397493698943379,0.4235660701861368,0.1259307601550791,2.1980836331430025,-0.3342919828009481,-0.26164888590349483,0.20436642301007998,-0.1777398559179107,0.10999343897028462,0.668650044421462,0.324701718534536,0.8905536096097691,0.4920584619743266,1.3408738529546866,0.13752194313626281,0.8088909918748413,1.2113437911270513,0.4249118524186255,0.30084655728003756,-0.7350581437557522,-1.9848828439828112,-0.1861666450404373],\"xaxis\":\"x15\",\"y\":[-1.2152851008211565,1.0962407727647794,0.2823908965066684,-0.6400684740103899,1.3903268293981896,-0.43630370787208284,1.6855131931434146,-0.9510958329218072,-0.6219085330422188,-0.9489707598641608,-0.698742389319351,-0.7742272368309635,-0.3410186360699531,-0.8397183898787279,0.7690901833270892,0.8840260416222037,-0.032686325892768694,-1.349531625789729,-0.7123989177524955,-0.04498944586512662,2.249757015409204,0.03491111501659019,-1.8688678320066794,-0.7707283779343044,1.0245726748841517,-0.6019804065389124,0.8900592546444966,-0.004287296778723674,0.8397354542570362,-0.8455151163471136,-1.1570187828662188,-0.8080015750324793,1.1366737065640298,0.20018527553765764,0.2042123536287555,-1.0756118862161772,0.8143163347496459,-1.252014538609369,0.6733080904317835,-0.48688831904411545,-0.23028457498088148,1.9164650989757752,0.04696896761610842,-0.18478364368208358,0.6562449701171231,0.970407885869781,0.5305986929009918,1.4513113578274168,-0.3966058987582575,-0.7543690817060114,-0.19486789883670178,-0.3710372637818589,1.6469037256148995,0.6649176182225256,1.4478534444262872,0.014408312854281256,-0.3051805260346321,-0.21018848007375243,-0.3905530081100771,-0.12450602429243515,2.0313701611809596,1.230245442258353,1.101503992277737,0.7190159022852662,1.2220747509649195,1.0544433483124593,1.2243129070919712,-1.2257988521518608,2.012474194307803,-2.2196512022802324,1.240136683313242,-0.2552959649056867,-0.805767928666894,1.0173382130401711,-0.205032689441431,0.948533066179219,-0.7681816201859842,0.18470324422208365,-1.1318009661745418,0.9932173025919385,0.8224097988300498,1.523893031642696,-0.6203463645126658,-0.02936686658955437,0.25822352747392713,0.8206167221288364,0.4955907866340889,-1.607998054022176,1.656886245540623,-0.28242404280303507,-0.053329563698971974,-2.2066591204599866,0.6330151286390073,-1.173645519287031,-0.8934444114391192,-1.2552486674952328,-1.2170900382830623,1.2869385915640499,-0.17230883936722877,0.7043037370227436],\"yaxis\":\"y15\",\"type\":\"scatter\"},{\"histfunc\":\"count\",\"histnorm\":\"\",\"marker\":{\"color\":\"rgba(128, 0, 128, 1.0)\",\"line\":{\"color\":\"#4D5663\",\"width\":1.3}},\"name\":\"D\",\"nbinsx\":10,\"opacity\":0.8,\"orientation\":\"v\",\"x\":[-1.2152851008211565,1.0962407727647794,0.2823908965066684,-0.6400684740103899,1.3903268293981896,-0.43630370787208284,1.6855131931434146,-0.9510958329218072,-0.6219085330422188,-0.9489707598641608,-0.698742389319351,-0.7742272368309635,-0.3410186360699531,-0.8397183898787279,0.7690901833270892,0.8840260416222037,-0.032686325892768694,-1.349531625789729,-0.7123989177524955,-0.04498944586512662,2.249757015409204,0.03491111501659019,-1.8688678320066794,-0.7707283779343044,1.0245726748841517,-0.6019804065389124,0.8900592546444966,-0.004287296778723674,0.8397354542570362,-0.8455151163471136,-1.1570187828662188,-0.8080015750324793,1.1366737065640298,0.20018527553765764,0.2042123536287555,-1.0756118862161772,0.8143163347496459,-1.252014538609369,0.6733080904317835,-0.48688831904411545,-0.23028457498088148,1.9164650989757752,0.04696896761610842,-0.18478364368208358,0.6562449701171231,0.970407885869781,0.5305986929009918,1.4513113578274168,-0.3966058987582575,-0.7543690817060114,-0.19486789883670178,-0.3710372637818589,1.6469037256148995,0.6649176182225256,1.4478534444262872,0.014408312854281256,-0.3051805260346321,-0.21018848007375243,-0.3905530081100771,-0.12450602429243515,2.0313701611809596,1.230245442258353,1.101503992277737,0.7190159022852662,1.2220747509649195,1.0544433483124593,1.2243129070919712,-1.2257988521518608,2.012474194307803,-2.2196512022802324,1.240136683313242,-0.2552959649056867,-0.805767928666894,1.0173382130401711,-0.205032689441431,0.948533066179219,-0.7681816201859842,0.18470324422208365,-1.1318009661745418,0.9932173025919385,0.8224097988300498,1.523893031642696,-0.6203463645126658,-0.02936686658955437,0.25822352747392713,0.8206167221288364,0.4955907866340889,-1.607998054022176,1.656886245540623,-0.28242404280303507,-0.053329563698971974,-2.2066591204599866,0.6330151286390073,-1.173645519287031,-0.8934444114391192,-1.2552486674952328,-1.2170900382830623,1.2869385915640499,-0.17230883936722877,0.7043037370227436],\"xaxis\":\"x16\",\"yaxis\":\"y16\",\"type\":\"histogram\"}],                        {\"bargap\":0.02,\"legend\":{\"bgcolor\":\"#F5F6F9\",\"font\":{\"color\":\"#4D5663\"}},\"paper_bgcolor\":\"#F5F6F9\",\"plot_bgcolor\":\"#F5F6F9\",\"showlegend\":false,\"template\":{\"data\":{\"barpolar\":[{\"marker\":{\"line\":{\"color\":\"#E5ECF6\",\"width\":0.5},\"pattern\":{\"fillmode\":\"overlay\",\"size\":10,\"solidity\":0.2}},\"type\":\"barpolar\"}],\"bar\":[{\"error_x\":{\"color\":\"#2a3f5f\"},\"error_y\":{\"color\":\"#2a3f5f\"},\"marker\":{\"line\":{\"color\":\"#E5ECF6\",\"width\":0.5},\"pattern\":{\"fillmode\":\"overlay\",\"size\":10,\"solidity\":0.2}},\"type\":\"bar\"}],\"carpet\":[{\"aaxis\":{\"endlinecolor\":\"#2a3f5f\",\"gridcolor\":\"white\",\"linecolor\":\"white\",\"minorgridcolor\":\"white\",\"startlinecolor\":\"#2a3f5f\"},\"baxis\":{\"endlinecolor\":\"#2a3f5f\",\"gridcolor\":\"white\",\"linecolor\":\"white\",\"minorgridcolor\":\"white\",\"startlinecolor\":\"#2a3f5f\"},\"type\":\"carpet\"}],\"choropleth\":[{\"colorbar\":{\"outlinewidth\":0,\"ticks\":\"\"},\"type\":\"choropleth\"}],\"contourcarpet\":[{\"colorbar\":{\"outlinewidth\":0,\"ticks\":\"\"},\"type\":\"contourcarpet\"}],\"contour\":[{\"colorbar\":{\"outlinewidth\":0,\"ticks\":\"\"},\"colorscale\":[[0.0,\"#0d0887\"],[0.1111111111111111,\"#46039f\"],[0.2222222222222222,\"#7201a8\"],[0.3333333333333333,\"#9c179e\"],[0.4444444444444444,\"#bd3786\"],[0.5555555555555556,\"#d8576b\"],[0.6666666666666666,\"#ed7953\"],[0.7777777777777778,\"#fb9f3a\"],[0.8888888888888888,\"#fdca26\"],[1.0,\"#f0f921\"]],\"type\":\"contour\"}],\"heatmapgl\":[{\"colorbar\":{\"outlinewidth\":0,\"ticks\":\"\"},\"colorscale\":[[0.0,\"#0d0887\"],[0.1111111111111111,\"#46039f\"],[0.2222222222222222,\"#7201a8\"],[0.3333333333333333,\"#9c179e\"],[0.4444444444444444,\"#bd3786\"],[0.5555555555555556,\"#d8576b\"],[0.6666666666666666,\"#ed7953\"],[0.7777777777777778,\"#fb9f3a\"],[0.8888888888888888,\"#fdca26\"],[1.0,\"#f0f921\"]],\"type\":\"heatmapgl\"}],\"heatmap\":[{\"colorbar\":{\"outlinewidth\":0,\"ticks\":\"\"},\"colorscale\":[[0.0,\"#0d0887\"],[0.1111111111111111,\"#46039f\"],[0.2222222222222222,\"#7201a8\"],[0.3333333333333333,\"#9c179e\"],[0.4444444444444444,\"#bd3786\"],[0.5555555555555556,\"#d8576b\"],[0.6666666666666666,\"#ed7953\"],[0.7777777777777778,\"#fb9f3a\"],[0.8888888888888888,\"#fdca26\"],[1.0,\"#f0f921\"]],\"type\":\"heatmap\"}],\"histogram2dcontour\":[{\"colorbar\":{\"outlinewidth\":0,\"ticks\":\"\"},\"colorscale\":[[0.0,\"#0d0887\"],[0.1111111111111111,\"#46039f\"],[0.2222222222222222,\"#7201a8\"],[0.3333333333333333,\"#9c179e\"],[0.4444444444444444,\"#bd3786\"],[0.5555555555555556,\"#d8576b\"],[0.6666666666666666,\"#ed7953\"],[0.7777777777777778,\"#fb9f3a\"],[0.8888888888888888,\"#fdca26\"],[1.0,\"#f0f921\"]],\"type\":\"histogram2dcontour\"}],\"histogram2d\":[{\"colorbar\":{\"outlinewidth\":0,\"ticks\":\"\"},\"colorscale\":[[0.0,\"#0d0887\"],[0.1111111111111111,\"#46039f\"],[0.2222222222222222,\"#7201a8\"],[0.3333333333333333,\"#9c179e\"],[0.4444444444444444,\"#bd3786\"],[0.5555555555555556,\"#d8576b\"],[0.6666666666666666,\"#ed7953\"],[0.7777777777777778,\"#fb9f3a\"],[0.8888888888888888,\"#fdca26\"],[1.0,\"#f0f921\"]],\"type\":\"histogram2d\"}],\"histogram\":[{\"marker\":{\"pattern\":{\"fillmode\":\"overlay\",\"size\":10,\"solidity\":0.2}},\"type\":\"histogram\"}],\"mesh3d\":[{\"colorbar\":{\"outlinewidth\":0,\"ticks\":\"\"},\"type\":\"mesh3d\"}],\"parcoords\":[{\"line\":{\"colorbar\":{\"outlinewidth\":0,\"ticks\":\"\"}},\"type\":\"parcoords\"}],\"pie\":[{\"automargin\":true,\"type\":\"pie\"}],\"scatter3d\":[{\"line\":{\"colorbar\":{\"outlinewidth\":0,\"ticks\":\"\"}},\"marker\":{\"colorbar\":{\"outlinewidth\":0,\"ticks\":\"\"}},\"type\":\"scatter3d\"}],\"scattercarpet\":[{\"marker\":{\"colorbar\":{\"outlinewidth\":0,\"ticks\":\"\"}},\"type\":\"scattercarpet\"}],\"scattergeo\":[{\"marker\":{\"colorbar\":{\"outlinewidth\":0,\"ticks\":\"\"}},\"type\":\"scattergeo\"}],\"scattergl\":[{\"marker\":{\"colorbar\":{\"outlinewidth\":0,\"ticks\":\"\"}},\"type\":\"scattergl\"}],\"scattermapbox\":[{\"marker\":{\"colorbar\":{\"outlinewidth\":0,\"ticks\":\"\"}},\"type\":\"scattermapbox\"}],\"scatterpolargl\":[{\"marker\":{\"colorbar\":{\"outlinewidth\":0,\"ticks\":\"\"}},\"type\":\"scatterpolargl\"}],\"scatterpolar\":[{\"marker\":{\"colorbar\":{\"outlinewidth\":0,\"ticks\":\"\"}},\"type\":\"scatterpolar\"}],\"scatter\":[{\"fillpattern\":{\"fillmode\":\"overlay\",\"size\":10,\"solidity\":0.2},\"type\":\"scatter\"}],\"scatterternary\":[{\"marker\":{\"colorbar\":{\"outlinewidth\":0,\"ticks\":\"\"}},\"type\":\"scatterternary\"}],\"surface\":[{\"colorbar\":{\"outlinewidth\":0,\"ticks\":\"\"},\"colorscale\":[[0.0,\"#0d0887\"],[0.1111111111111111,\"#46039f\"],[0.2222222222222222,\"#7201a8\"],[0.3333333333333333,\"#9c179e\"],[0.4444444444444444,\"#bd3786\"],[0.5555555555555556,\"#d8576b\"],[0.6666666666666666,\"#ed7953\"],[0.7777777777777778,\"#fb9f3a\"],[0.8888888888888888,\"#fdca26\"],[1.0,\"#f0f921\"]],\"type\":\"surface\"}],\"table\":[{\"cells\":{\"fill\":{\"color\":\"#EBF0F8\"},\"line\":{\"color\":\"white\"}},\"header\":{\"fill\":{\"color\":\"#C8D4E3\"},\"line\":{\"color\":\"white\"}},\"type\":\"table\"}]},\"layout\":{\"annotationdefaults\":{\"arrowcolor\":\"#2a3f5f\",\"arrowhead\":0,\"arrowwidth\":1},\"autotypenumbers\":\"strict\",\"coloraxis\":{\"colorbar\":{\"outlinewidth\":0,\"ticks\":\"\"}},\"colorscale\":{\"diverging\":[[0,\"#8e0152\"],[0.1,\"#c51b7d\"],[0.2,\"#de77ae\"],[0.3,\"#f1b6da\"],[0.4,\"#fde0ef\"],[0.5,\"#f7f7f7\"],[0.6,\"#e6f5d0\"],[0.7,\"#b8e186\"],[0.8,\"#7fbc41\"],[0.9,\"#4d9221\"],[1,\"#276419\"]],\"sequential\":[[0.0,\"#0d0887\"],[0.1111111111111111,\"#46039f\"],[0.2222222222222222,\"#7201a8\"],[0.3333333333333333,\"#9c179e\"],[0.4444444444444444,\"#bd3786\"],[0.5555555555555556,\"#d8576b\"],[0.6666666666666666,\"#ed7953\"],[0.7777777777777778,\"#fb9f3a\"],[0.8888888888888888,\"#fdca26\"],[1.0,\"#f0f921\"]],\"sequentialminus\":[[0.0,\"#0d0887\"],[0.1111111111111111,\"#46039f\"],[0.2222222222222222,\"#7201a8\"],[0.3333333333333333,\"#9c179e\"],[0.4444444444444444,\"#bd3786\"],[0.5555555555555556,\"#d8576b\"],[0.6666666666666666,\"#ed7953\"],[0.7777777777777778,\"#fb9f3a\"],[0.8888888888888888,\"#fdca26\"],[1.0,\"#f0f921\"]]},\"colorway\":[\"#636efa\",\"#EF553B\",\"#00cc96\",\"#ab63fa\",\"#FFA15A\",\"#19d3f3\",\"#FF6692\",\"#B6E880\",\"#FF97FF\",\"#FECB52\"],\"font\":{\"color\":\"#2a3f5f\"},\"geo\":{\"bgcolor\":\"white\",\"lakecolor\":\"white\",\"landcolor\":\"#E5ECF6\",\"showlakes\":true,\"showland\":true,\"subunitcolor\":\"white\"},\"hoverlabel\":{\"align\":\"left\"},\"hovermode\":\"closest\",\"mapbox\":{\"style\":\"light\"},\"paper_bgcolor\":\"white\",\"plot_bgcolor\":\"#E5ECF6\",\"polar\":{\"angularaxis\":{\"gridcolor\":\"white\",\"linecolor\":\"white\",\"ticks\":\"\"},\"bgcolor\":\"#E5ECF6\",\"radialaxis\":{\"gridcolor\":\"white\",\"linecolor\":\"white\",\"ticks\":\"\"}},\"scene\":{\"xaxis\":{\"backgroundcolor\":\"#E5ECF6\",\"gridcolor\":\"white\",\"gridwidth\":2,\"linecolor\":\"white\",\"showbackground\":true,\"ticks\":\"\",\"zerolinecolor\":\"white\"},\"yaxis\":{\"backgroundcolor\":\"#E5ECF6\",\"gridcolor\":\"white\",\"gridwidth\":2,\"linecolor\":\"white\",\"showbackground\":true,\"ticks\":\"\",\"zerolinecolor\":\"white\"},\"zaxis\":{\"backgroundcolor\":\"#E5ECF6\",\"gridcolor\":\"white\",\"gridwidth\":2,\"linecolor\":\"white\",\"showbackground\":true,\"ticks\":\"\",\"zerolinecolor\":\"white\"}},\"shapedefaults\":{\"line\":{\"color\":\"#2a3f5f\"}},\"ternary\":{\"aaxis\":{\"gridcolor\":\"white\",\"linecolor\":\"white\",\"ticks\":\"\"},\"baxis\":{\"gridcolor\":\"white\",\"linecolor\":\"white\",\"ticks\":\"\"},\"bgcolor\":\"#E5ECF6\",\"caxis\":{\"gridcolor\":\"white\",\"linecolor\":\"white\",\"ticks\":\"\"}},\"title\":{\"x\":0.05},\"xaxis\":{\"automargin\":true,\"gridcolor\":\"white\",\"linecolor\":\"white\",\"ticks\":\"\",\"title\":{\"standoff\":15},\"zerolinecolor\":\"white\",\"zerolinewidth\":2},\"yaxis\":{\"automargin\":true,\"gridcolor\":\"white\",\"linecolor\":\"white\",\"ticks\":\"\",\"title\":{\"standoff\":15},\"zerolinecolor\":\"white\",\"zerolinewidth\":2}}},\"title\":{\"font\":{\"color\":\"#4D5663\"}},\"xaxis\":{\"anchor\":\"y\",\"domain\":[0.0,0.2125],\"gridcolor\":\"#E1E5ED\",\"showgrid\":false,\"tickfont\":{\"color\":\"#4D5663\"},\"title\":{\"font\":{\"color\":\"#4D5663\"},\"text\":\"\"},\"zerolinecolor\":\"#E1E5ED\"},\"yaxis\":{\"anchor\":\"x\",\"domain\":[0.8025,1.0],\"gridcolor\":\"#E1E5ED\",\"showgrid\":false,\"tickfont\":{\"color\":\"#4D5663\"},\"title\":{\"font\":{\"color\":\"#4D5663\"},\"text\":\"\"},\"zerolinecolor\":\"#E1E5ED\"},\"xaxis2\":{\"anchor\":\"y2\",\"domain\":[0.2625,0.475],\"gridcolor\":\"#E1E5ED\",\"showgrid\":false,\"tickfont\":{\"color\":\"#4D5663\"},\"title\":{\"font\":{\"color\":\"#4D5663\"},\"text\":\"\"},\"zerolinecolor\":\"#E1E5ED\"},\"yaxis2\":{\"anchor\":\"x2\",\"domain\":[0.8025,1.0],\"gridcolor\":\"#E1E5ED\",\"showgrid\":false,\"tickfont\":{\"color\":\"#4D5663\"},\"title\":{\"font\":{\"color\":\"#4D5663\"},\"text\":\"\"},\"zerolinecolor\":\"#E1E5ED\"},\"xaxis3\":{\"anchor\":\"y3\",\"domain\":[0.525,0.7375],\"gridcolor\":\"#E1E5ED\",\"showgrid\":false,\"tickfont\":{\"color\":\"#4D5663\"},\"title\":{\"font\":{\"color\":\"#4D5663\"},\"text\":\"\"},\"zerolinecolor\":\"#E1E5ED\"},\"yaxis3\":{\"anchor\":\"x3\",\"domain\":[0.8025,1.0],\"gridcolor\":\"#E1E5ED\",\"showgrid\":false,\"tickfont\":{\"color\":\"#4D5663\"},\"title\":{\"font\":{\"color\":\"#4D5663\"},\"text\":\"\"},\"zerolinecolor\":\"#E1E5ED\"},\"xaxis4\":{\"anchor\":\"y4\",\"domain\":[0.7875,1.0],\"gridcolor\":\"#E1E5ED\",\"showgrid\":false,\"tickfont\":{\"color\":\"#4D5663\"},\"title\":{\"font\":{\"color\":\"#4D5663\"},\"text\":\"\"},\"zerolinecolor\":\"#E1E5ED\"},\"yaxis4\":{\"anchor\":\"x4\",\"domain\":[0.8025,1.0],\"gridcolor\":\"#E1E5ED\",\"showgrid\":false,\"tickfont\":{\"color\":\"#4D5663\"},\"title\":{\"font\":{\"color\":\"#4D5663\"},\"text\":\"\"},\"zerolinecolor\":\"#E1E5ED\"},\"xaxis5\":{\"anchor\":\"y5\",\"domain\":[0.0,0.2125],\"gridcolor\":\"#E1E5ED\",\"showgrid\":false,\"tickfont\":{\"color\":\"#4D5663\"},\"title\":{\"font\":{\"color\":\"#4D5663\"},\"text\":\"\"},\"zerolinecolor\":\"#E1E5ED\"},\"yaxis5\":{\"anchor\":\"x5\",\"domain\":[0.535,0.7325],\"gridcolor\":\"#E1E5ED\",\"showgrid\":false,\"tickfont\":{\"color\":\"#4D5663\"},\"title\":{\"font\":{\"color\":\"#4D5663\"},\"text\":\"\"},\"zerolinecolor\":\"#E1E5ED\"},\"xaxis6\":{\"anchor\":\"y6\",\"domain\":[0.2625,0.475],\"gridcolor\":\"#E1E5ED\",\"showgrid\":false,\"tickfont\":{\"color\":\"#4D5663\"},\"title\":{\"font\":{\"color\":\"#4D5663\"},\"text\":\"\"},\"zerolinecolor\":\"#E1E5ED\"},\"yaxis6\":{\"anchor\":\"x6\",\"domain\":[0.535,0.7325],\"gridcolor\":\"#E1E5ED\",\"showgrid\":false,\"tickfont\":{\"color\":\"#4D5663\"},\"title\":{\"font\":{\"color\":\"#4D5663\"},\"text\":\"\"},\"zerolinecolor\":\"#E1E5ED\"},\"xaxis7\":{\"anchor\":\"y7\",\"domain\":[0.525,0.7375],\"gridcolor\":\"#E1E5ED\",\"showgrid\":false,\"tickfont\":{\"color\":\"#4D5663\"},\"title\":{\"font\":{\"color\":\"#4D5663\"},\"text\":\"\"},\"zerolinecolor\":\"#E1E5ED\"},\"yaxis7\":{\"anchor\":\"x7\",\"domain\":[0.535,0.7325],\"gridcolor\":\"#E1E5ED\",\"showgrid\":false,\"tickfont\":{\"color\":\"#4D5663\"},\"title\":{\"font\":{\"color\":\"#4D5663\"},\"text\":\"\"},\"zerolinecolor\":\"#E1E5ED\"},\"xaxis8\":{\"anchor\":\"y8\",\"domain\":[0.7875,1.0],\"gridcolor\":\"#E1E5ED\",\"showgrid\":false,\"tickfont\":{\"color\":\"#4D5663\"},\"title\":{\"font\":{\"color\":\"#4D5663\"},\"text\":\"\"},\"zerolinecolor\":\"#E1E5ED\"},\"yaxis8\":{\"anchor\":\"x8\",\"domain\":[0.535,0.7325],\"gridcolor\":\"#E1E5ED\",\"showgrid\":false,\"tickfont\":{\"color\":\"#4D5663\"},\"title\":{\"font\":{\"color\":\"#4D5663\"},\"text\":\"\"},\"zerolinecolor\":\"#E1E5ED\"},\"xaxis9\":{\"anchor\":\"y9\",\"domain\":[0.0,0.2125],\"gridcolor\":\"#E1E5ED\",\"showgrid\":false,\"tickfont\":{\"color\":\"#4D5663\"},\"title\":{\"font\":{\"color\":\"#4D5663\"},\"text\":\"\"},\"zerolinecolor\":\"#E1E5ED\"},\"yaxis9\":{\"anchor\":\"x9\",\"domain\":[0.2675,0.465],\"gridcolor\":\"#E1E5ED\",\"showgrid\":false,\"tickfont\":{\"color\":\"#4D5663\"},\"title\":{\"font\":{\"color\":\"#4D5663\"},\"text\":\"\"},\"zerolinecolor\":\"#E1E5ED\"},\"xaxis10\":{\"anchor\":\"y10\",\"domain\":[0.2625,0.475],\"gridcolor\":\"#E1E5ED\",\"showgrid\":false,\"tickfont\":{\"color\":\"#4D5663\"},\"title\":{\"font\":{\"color\":\"#4D5663\"},\"text\":\"\"},\"zerolinecolor\":\"#E1E5ED\"},\"yaxis10\":{\"anchor\":\"x10\",\"domain\":[0.2675,0.465],\"gridcolor\":\"#E1E5ED\",\"showgrid\":false,\"tickfont\":{\"color\":\"#4D5663\"},\"title\":{\"font\":{\"color\":\"#4D5663\"},\"text\":\"\"},\"zerolinecolor\":\"#E1E5ED\"},\"xaxis11\":{\"anchor\":\"y11\",\"domain\":[0.525,0.7375],\"gridcolor\":\"#E1E5ED\",\"showgrid\":false,\"tickfont\":{\"color\":\"#4D5663\"},\"title\":{\"font\":{\"color\":\"#4D5663\"},\"text\":\"\"},\"zerolinecolor\":\"#E1E5ED\"},\"yaxis11\":{\"anchor\":\"x11\",\"domain\":[0.2675,0.465],\"gridcolor\":\"#E1E5ED\",\"showgrid\":false,\"tickfont\":{\"color\":\"#4D5663\"},\"title\":{\"font\":{\"color\":\"#4D5663\"},\"text\":\"\"},\"zerolinecolor\":\"#E1E5ED\"},\"xaxis12\":{\"anchor\":\"y12\",\"domain\":[0.7875,1.0],\"gridcolor\":\"#E1E5ED\",\"showgrid\":false,\"tickfont\":{\"color\":\"#4D5663\"},\"title\":{\"font\":{\"color\":\"#4D5663\"},\"text\":\"\"},\"zerolinecolor\":\"#E1E5ED\"},\"yaxis12\":{\"anchor\":\"x12\",\"domain\":[0.2675,0.465],\"gridcolor\":\"#E1E5ED\",\"showgrid\":false,\"tickfont\":{\"color\":\"#4D5663\"},\"title\":{\"font\":{\"color\":\"#4D5663\"},\"text\":\"\"},\"zerolinecolor\":\"#E1E5ED\"},\"xaxis13\":{\"anchor\":\"y13\",\"domain\":[0.0,0.2125],\"gridcolor\":\"#E1E5ED\",\"showgrid\":false,\"tickfont\":{\"color\":\"#4D5663\"},\"title\":{\"font\":{\"color\":\"#4D5663\"},\"text\":\"\"},\"zerolinecolor\":\"#E1E5ED\"},\"yaxis13\":{\"anchor\":\"x13\",\"domain\":[0.0,0.1975],\"gridcolor\":\"#E1E5ED\",\"showgrid\":false,\"tickfont\":{\"color\":\"#4D5663\"},\"title\":{\"font\":{\"color\":\"#4D5663\"},\"text\":\"\"},\"zerolinecolor\":\"#E1E5ED\"},\"xaxis14\":{\"anchor\":\"y14\",\"domain\":[0.2625,0.475],\"gridcolor\":\"#E1E5ED\",\"showgrid\":false,\"tickfont\":{\"color\":\"#4D5663\"},\"title\":{\"font\":{\"color\":\"#4D5663\"},\"text\":\"\"},\"zerolinecolor\":\"#E1E5ED\"},\"yaxis14\":{\"anchor\":\"x14\",\"domain\":[0.0,0.1975],\"gridcolor\":\"#E1E5ED\",\"showgrid\":false,\"tickfont\":{\"color\":\"#4D5663\"},\"title\":{\"font\":{\"color\":\"#4D5663\"},\"text\":\"\"},\"zerolinecolor\":\"#E1E5ED\"},\"xaxis15\":{\"anchor\":\"y15\",\"domain\":[0.525,0.7375],\"gridcolor\":\"#E1E5ED\",\"showgrid\":false,\"tickfont\":{\"color\":\"#4D5663\"},\"title\":{\"font\":{\"color\":\"#4D5663\"},\"text\":\"\"},\"zerolinecolor\":\"#E1E5ED\"},\"yaxis15\":{\"anchor\":\"x15\",\"domain\":[0.0,0.1975],\"gridcolor\":\"#E1E5ED\",\"showgrid\":false,\"tickfont\":{\"color\":\"#4D5663\"},\"title\":{\"font\":{\"color\":\"#4D5663\"},\"text\":\"\"},\"zerolinecolor\":\"#E1E5ED\"},\"xaxis16\":{\"anchor\":\"y16\",\"domain\":[0.7875,1.0],\"gridcolor\":\"#E1E5ED\",\"showgrid\":false,\"tickfont\":{\"color\":\"#4D5663\"},\"title\":{\"font\":{\"color\":\"#4D5663\"},\"text\":\"\"},\"zerolinecolor\":\"#E1E5ED\"},\"yaxis16\":{\"anchor\":\"x16\",\"domain\":[0.0,0.1975],\"gridcolor\":\"#E1E5ED\",\"showgrid\":false,\"tickfont\":{\"color\":\"#4D5663\"},\"title\":{\"font\":{\"color\":\"#4D5663\"},\"text\":\"\"},\"zerolinecolor\":\"#E1E5ED\"}},                        {\"showLink\": true, \"linkText\": \"Export to plot.ly\", \"plotlyServerURL\": \"https://plot.ly\", \"responsive\": true}                    ).then(function(){\n",
       "                            \n",
       "var gd = document.getElementById('8d656c45-fdf7-4d79-9aeb-5efafc3ac80d');\n",
       "var x = new MutationObserver(function (mutations, observer) {{\n",
       "        var display = window.getComputedStyle(gd).display;\n",
       "        if (!display || display === 'none') {{\n",
       "            console.log([gd, 'removed!']);\n",
       "            Plotly.purge(gd);\n",
       "            observer.disconnect();\n",
       "        }}\n",
       "}});\n",
       "\n",
       "// Listen for the removal of the full notebook cells\n",
       "var notebookContainer = gd.closest('#notebook-container');\n",
       "if (notebookContainer) {{\n",
       "    x.observe(notebookContainer, {childList: true});\n",
       "}}\n",
       "\n",
       "// Listen for the clearing of the current output cell\n",
       "var outputEl = gd.closest('.output');\n",
       "if (outputEl) {{\n",
       "    x.observe(outputEl, {childList: true});\n",
       "}}\n",
       "\n",
       "                        })                };                });            </script>        </div>"
      ]
     },
     "metadata": {},
     "output_type": "display_data"
    }
   ],
   "source": [
    "df.scatter_matrix()"
   ]
  },
  {
   "cell_type": "code",
   "execution_count": null,
   "id": "37fd1c61",
   "metadata": {},
   "outputs": [],
   "source": []
  }
 ],
 "metadata": {
  "kernelspec": {
   "display_name": "Python 3 (ipykernel)",
   "language": "python",
   "name": "python3"
  },
  "language_info": {
   "codemirror_mode": {
    "name": "ipython",
    "version": 3
   },
   "file_extension": ".py",
   "mimetype": "text/x-python",
   "name": "python",
   "nbconvert_exporter": "python",
   "pygments_lexer": "ipython3",
   "version": "3.9.7"
  }
 },
 "nbformat": 4,
 "nbformat_minor": 5
}
